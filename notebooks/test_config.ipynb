{
 "cells": [
  {
   "cell_type": "code",
   "execution_count": 1,
   "id": "c4ca99dc",
   "metadata": {},
   "outputs": [],
   "source": [
    "from observatorio_ipa.core.config import load_settings_from_toml"
   ]
  },
  {
   "cell_type": "code",
   "execution_count": 2,
   "id": "e0a03eb2",
   "metadata": {},
   "outputs": [],
   "source": [
    "runtime_config = load_settings_from_toml(\"../src/observatorio_ipa/core/default.toml\")"
   ]
  },
  {
   "cell_type": "code",
   "execution_count": 3,
   "id": "fca3b309",
   "metadata": {},
   "outputs": [
    {
     "data": {
      "text/plain": [
       "{'app': {'google': {'credentials_file': WindowsPath('../secrets/ee-observatorionieves-288939dbc1cf.json')},\n",
       "  'email': {'enable_email': True,\n",
       "   'host': 'smtp.example.com',\n",
       "   'port': 587,\n",
       "   'user_file': None,\n",
       "   'user': 'user@example.com',\n",
       "   'password_file': None,\n",
       "   'password': SecretStr('**********'),\n",
       "   'from_address': 'from@example.com',\n",
       "   'to_address': ['to@example.com']},\n",
       "  'logging': {'name': 'osn-ipa',\n",
       "   'level': 'INFO',\n",
       "   'file': WindowsPath('osn_ipa.log'),\n",
       "   'encoding': 'utf-8',\n",
       "   'format': '%(asctime)s %(name)s %(levelname)s: %(message)s',\n",
       "   'date_format': '%Y-%m-%d %H:%M:%S'},\n",
       "  'image_export': {'monthly_collection_path': WindowsPath('projects/ee-observatorionieves/assets/MODIS/Andes_MCDS4S5_Yearly_Monthly'),\n",
       "   'monthly_image_prefix': 'Andes_MCDS4S5_Yearly_Monthly',\n",
       "   'yearly_collection_path': WindowsPath('projects/ee-observatorionieves/assets/MODIS/Andes_MCDS4S5_Yearly'),\n",
       "   'yearly_image_prefix': 'Andes_MCDS4S5_Yearly',\n",
       "   'aoi_asset_path': WindowsPath('projects/ee-observatorionieves/assets/Modules/Andes'),\n",
       "   'dem_asset_path': WindowsPath('projects/ee-observatorionieves/assets/Modules/DEM_SRTM_reproj_MODIS_463_Andes'),\n",
       "   'days_list': None,\n",
       "   'months_list': None,\n",
       "   'years_list': None},\n",
       "  'stats_export': {'basins_asset_path': WindowsPath('users/observatorionieves/DGA/Cuencas_BNA_Oficial'),\n",
       "   'macrozones_asset_path': WindowsPath('users/observatorionieves/DGA/Macrozonas_BNA_Oficial'),\n",
       "   'basins_cd_property': 'COD_CUEN',\n",
       "   'dem_asset_path': WindowsPath('users/observatorionieves/DEM/DEM_SRTM_reproj_Landsat_100_Andes'),\n",
       "   'salar_mask_asset_path': WindowsPath('projects/ee-observatorionieves/assets/Vectores/Salar_mask'),\n",
       "   'snow_persistence_asset_path': WindowsPath('users/observatorionieves/MODIS/MCD10A1_Andes_T48_Summary/MCD10A1_Andes_T48_Summary_SP'),\n",
       "   'snow_persistence_trend_asset_path': WindowsPath('users/observatorionieves/MODIS/MCD10A1_Andes_T48_Summary/MCD10A1_Andes_T48_Summary_ST'),\n",
       "   'export_target': 'storage',\n",
       "   'storage_bucket': 'chompitest-odes',\n",
       "   'base_export_path': WindowsPath('OSN/stats'),\n",
       "   'basin_codes': ['023', '024', '030'],\n",
       "   'exclude_basin_codes': None,\n",
       "   'max_exports': None,\n",
       "   'common_tbl_pre_prefix': 'MCD',\n",
       "   'elevation_tbl_export_path': WindowsPath('elev_ee'),\n",
       "   'elev_basin_tbl_prefix': 'elev_BNA_',\n",
       "   'sca_elev_basin_tbl_prefix': 'SCA_elev_BNA_',\n",
       "   'month_tbl_export_path': WindowsPath('month_ee'),\n",
       "   'sca_m_basin_tbl_prefix': 'SCA_m_BNA_',\n",
       "   'sca_m_elev_basin_tbl_prefix': 'SCA_m_elev_BNA_',\n",
       "   'sca_m_trend_basin_tbl_prefix': 'SCA_m_trend_BNA_',\n",
       "   'year_month_tbl_export_path': WindowsPath('yearMonth_ee'),\n",
       "   'sca_y_m_basin_tbl_prefix': 'SCA_y_m_BNA_',\n",
       "   'sca_ym_basin_tbl_prefix': 'SCA_ym_BNA_',\n",
       "   'sca_ym_elev_basin_tbl_prefix': 'SCA_ym_elev_BNA_',\n",
       "   'snowline_ym_basin_tbl_prefix': 'snowline_ym_BNA_',\n",
       "   'year_tbl_export_path': WindowsPath('year_ee'),\n",
       "   'sca_y_basin_tbl_prefix': 'SCA_y_BNA_',\n",
       "   'sca_y_elev_basin_tbl_prefix': 'SCA_y_elev_BNA_',\n",
       "   'sca_y_t_area_basin_tbl_prefix': 'SCA_y_t_area_BNA_',\n",
       "   'sca_y_t_elev_basin_tbl_prefix': 'SCA_y_t_elev_BNA_',\n",
       "   'snowline_y_basin_tbl_prefix': 'snowline_y_BNA_',\n",
       "   'manifest_source': 'file',\n",
       "   'manifest_path': WindowsPath('../manifests')},\n",
       "  'automation': {'db': {'db_path': WindowsPath('../db/observatorio_ipa.db')},\n",
       "   'daily_job': {'cron': '0 2 * * *'},\n",
       "   'orchestration_job': {'cron': '0 3 * * *'}}}}"
      ]
     },
     "execution_count": 3,
     "metadata": {},
     "output_type": "execute_result"
    }
   ],
   "source": [
    "runtime_config.model_dump()"
   ]
  }
 ],
 "metadata": {
  "kernelspec": {
   "display_name": "observatorio-ipa (3.12.7)",
   "language": "python",
   "name": "python3"
  },
  "language_info": {
   "codemirror_mode": {
    "name": "ipython",
    "version": 3
   },
   "file_extension": ".py",
   "mimetype": "text/x-python",
   "name": "python",
   "nbconvert_exporter": "python",
   "pygments_lexer": "ipython3",
   "version": "3.12.7"
  }
 },
 "nbformat": 4,
 "nbformat_minor": 5
}
