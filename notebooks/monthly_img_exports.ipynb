{
 "cells": [
  {
   "cell_type": "markdown",
   "metadata": {},
   "source": [
    "# Image Export Workflow"
   ]
  },
  {
   "cell_type": "code",
   "execution_count": 1,
   "metadata": {},
   "outputs": [],
   "source": [
    "\n",
    "# Select the kernel observatorio-ipa(Python 3.12.7) .venv/Scripts/python\n",
    "import json\n",
    "import ee\n",
    "import ee.batch\n",
    "import ee.data\n",
    "import logging\n",
    "import importlib\n",
    "from pathlib import Path\n",
    "from datetime import date\n",
    "from gee_toolbox.gee import assets as toolbox_assets\n",
    "import sqlite3\n",
    "\n",
    "from observatorio_ipa.services import connections\n",
    "from observatorio_ipa.core.workflows import wflows_connections\n",
    "from observatorio_ipa.core import config\n",
    "from observatorio_ipa.core.defaults import *\n",
    "from observatorio_ipa.utils import dates as utils_dates\n",
    "from observatorio_ipa.services.gee import dates as gee_dates, assets as gee_assets\n",
    "from observatorio_ipa.services.gee.processes import binary, merge\n",
    "from observatorio_ipa.core.workflows.images import monthly_export\n",
    "\n",
    "\n",
    "\n",
    "logger = logging.getLogger(__name__)\n",
    "logger.setLevel(logging.DEBUG)"
   ]
  },
  {
   "cell_type": "code",
   "execution_count": 19,
   "metadata": {},
   "outputs": [],
   "source": [
    "# general settings\n",
    "#! JS code shows: users/observatorionieves/Cuencas/Andes # Verified on 2025-06-30\n",
    "\n",
    "settings = {\n",
    "    \"user\": \"osn-imageautomation-dev@ee-observatorionieves.iam.gserviceaccount.com\",\n",
    "    \"service_credentials_file\": Path(\n",
    "        \"../secrets/ee-observatorionieves-288939dbc1cf.json\"\n",
    "    ),\n",
    "    \"monthly_assets_path\": Path(\n",
    "        \"projects/ee-observatorionieves/assets/Test/MODIS/Andes_MCDS4S5_Daily\"\n",
    "    ),\n",
    "    \"monthly_image_prefix\": \"Andes_MCDS4S5_Daily\",\n",
    "    \"months_list\": [\n",
    "        \"2025-01\",\n",
    "        \"2025-02\",\n",
    "        \"2025-03\",\n",
    "        \"2025-04\",\n",
    "        \"2025-05\",\n",
    "        \"2025-06\",\n",
    "        \"2025-07\",\n",
    "        \"2025-08\",\n",
    "    ],\n",
    "    \"aoi_asset_path\": Path(\"projects/ee-observatorionieves/assets/Modules/Andes\"),\n",
    "    \"dem_asset_path\": Path(\n",
    "        \"projects/ee-observatorionieves/assets/Modules/DEM_SRTM_reproj_MODIS_463_Andes\"\n",
    "    ),\n",
    "}"
   ]
  },
  {
   "cell_type": "code",
   "execution_count": 3,
   "metadata": {},
   "outputs": [],
   "source": [
    "# Connect to Google Earth Engine\n",
    "\n",
    "runtime_service_account = connections.GoogleServiceAccount(\n",
    "    settings[\"service_credentials_file\"].as_posix(),\n",
    ")\n",
    "connections.connect_to_gee(runtime_service_account)\n",
    "\n"
   ]
  },
  {
   "cell_type": "markdown",
   "metadata": {},
   "source": [
    "## Verify Access to target IC"
   ]
  },
  {
   "cell_type": "code",
   "execution_count": 4,
   "metadata": {},
   "outputs": [
    {
     "data": {
      "text/plain": [
       "True"
      ]
     },
     "execution_count": 4,
     "metadata": {},
     "output_type": "execute_result"
    }
   ],
   "source": [
    "gee_assets.check_asset_exists(\n",
    "        path=settings[\"monthly_assets_path\"].as_posix(), asset_type=\"IMAGE_COLLECTION\"\n",
    "    )"
   ]
  },
  {
   "cell_type": "markdown",
   "metadata": {},
   "source": [
    "### Test Function"
   ]
  },
  {
   "cell_type": "code",
   "execution_count": 20,
   "metadata": {},
   "outputs": [],
   "source": [
    "# Get Individual Vars in case we need them later\n",
    "monthly_collection_path = settings[\"monthly_assets_path\"].as_posix()\n",
    "name_prefix = settings[\"monthly_image_prefix\"]\n",
    "aoi_path = settings[\"aoi_asset_path\"].as_posix()\n",
    "dem_path = settings[\"dem_asset_path\"].as_posix()\n",
    "months_list = settings[\"months_list\"]"
   ]
  },
  {
   "cell_type": "code",
   "execution_count": null,
   "metadata": {},
   "outputs": [],
   "source": [
    "monthly_export_results = monthly_export.monthly_img_export_proc(\n",
    "    monthly_collection_path=monthly_collection_path,\n",
    "    name_prefix=name_prefix,\n",
    "    aoi_path=aoi_path,\n",
    "    dem_path=dem_path,\n",
    "    months_list=months_list,\n",
    ")"
   ]
  },
  {
   "cell_type": "code",
   "execution_count": 12,
   "metadata": {},
   "outputs": [
    {
     "data": {
      "text/plain": [
       "{'frequency': 'monthly',\n",
       " 'images_pending_export': ['2024-11', '2024-12', '2025-01'],\n",
       " 'images_excluded': [{'2024-12': 'Pending buffer dates - last available image: 2025-01-01 (Aqua)'},\n",
       "  {'2025-01': 'Current month'}],\n",
       " 'images_to_export': ['2024-11'],\n",
       " 'export_tasks': [{'task': 'mock_task',\n",
       "   'image': 'Mock_prefix_2024_11',\n",
       "   'target': 'GEE Asset',\n",
       "   'status': 'mock_created'}]}"
      ]
     },
     "execution_count": 12,
     "metadata": {},
     "output_type": "execute_result"
    }
   ],
   "source": [
    "monthly_export_results"
   ]
  },
  {
   "cell_type": "markdown",
   "metadata": {},
   "source": [
    "## Step by Step (Debug)"
   ]
  },
  {
   "cell_type": "code",
   "execution_count": 10,
   "metadata": {},
   "outputs": [],
   "source": [
    "from observatorio_ipa.core.workflows.images.monthly_export import _fix_name_prefix, _monthly_images_pending_export, _check_months_are_complete, _ic_monthly_mean\n",
    "from observatorio_ipa.services.gee.exports import ExportTaskList"
   ]
  },
  {
   "cell_type": "code",
   "execution_count": 21,
   "metadata": {},
   "outputs": [],
   "source": [
    "logger.info(\"Starting Monthly Export Process\")\n",
    "\n",
    "    # Fix name prefix\n",
    "name_prefix = _fix_name_prefix(name_prefix)\n",
    "\n",
    "results_dict = {\n",
    "    \"frequency\": \"monthly\",\n",
    "    \"initial_export_plan\": [],  # aka expected dates ['2003-01', '2003-02', ...]\n",
    "    \"images_pending_export\": [],  # initial_plan - already_exported ['2003-01', ...]\n",
    "    \"images_excluded\": [],  # Single exclusion reason [{month_: exclusion_str}]\n",
    "    \"images_to_export\": [],  # aka final export plan\n",
    "    \"export_tasks\": ExportTaskList(),  #\n",
    "}\n",
    "\n",
    "# Get Terra and Aqua image collections, AOI and DEM image\n",
    "ee_terra_ic = ee.imagecollection.ImageCollection(DEFAULT_TERRA_COLLECTION)\n",
    "ee_aqua_ic = ee.imagecollection.ImageCollection(DEFAULT_AQUA_COLLECTION)\n",
    "ee_aoi_fc = ee.featurecollection.FeatureCollection(aoi_path)\n",
    "ee_dem_img = ee.image.Image(dem_path)\n",
    "trailing_days = 2  # hardcode for now\n",
    "leading_days = 2  # hardcode for now\n",
    "\n",
    "# Determine months expected to be exported\n",
    "if months_list:\n",
    "    initial_export_plan = months_list\n",
    "else:\n",
    "    initial_export_plan = utils_dates.create_ym_seq(\n",
    "        start_date=date.fromisoformat(DEFAULT_START_DT), end_date=date.today()\n",
    "    )\n",
    "\n",
    "# ***********************************\n",
    "# * EXCLUDE IMAGES ALREADY EXPORTED *\n",
    "# ***********************************\n",
    "\n",
    "images_pending_export = _monthly_images_pending_export(\n",
    "    expected_dates=initial_export_plan,\n",
    "    monthly_collection_path=monthly_collection_path,\n",
    "    name_prefix=name_prefix,\n",
    ")\n",
    "\n",
    "# images_pending_export = initial_export_plan\n",
    "\n",
    "#! WARNING: This might print a very long list\n",
    "logger.info(f\"Images pending export: {images_pending_export}\")\n",
    "results_dict[\"images_pending_export\"].extend(images_pending_export)\n",
    "\n",
    "# if no explicit list of months (month_list) was provided, assume all pending images was the starting point\n",
    "if months_list:\n",
    "    excluded_existing = list(set(initial_export_plan) - set(images_pending_export))\n",
    "    excluded_existing = [\n",
    "        {_month: \"already exported\"} for _month in excluded_existing\n",
    "    ]\n",
    "    if excluded_existing:\n",
    "        logger.info(f\"Images excluded: {excluded_existing}\")\n",
    "        results_dict[\"images_excluded\"].extend(excluded_existing)\n",
    "else:\n",
    "    initial_export_plan = list(\n",
    "        set(initial_export_plan) - set(images_pending_export)\n",
    "    )\n",
    "\n",
    "results_dict[\"initial_export_plan\"].extend(initial_export_plan)\n",
    "\n",
    "# Terminate early if no images pending of export\n",
    "# if not images_pending_export:\n",
    "#     return results_dict"
   ]
  },
  {
   "cell_type": "code",
   "execution_count": 22,
   "metadata": {},
   "outputs": [
    {
     "name": "stdout",
     "output_type": "stream",
     "text": [
      "{'frequency': 'monthly', 'initial_export_plan': ['2025-01', '2025-02', '2025-03', '2025-04', '2025-05', '2025-06', '2025-07', '2025-08'], 'images_pending_export': ['2025-01', '2025-02', '2025-03', '2025-04', '2025-05', '2025-06', '2025-07', '2025-08'], 'images_excluded': [], 'images_to_export': [], 'export_tasks': ExportList(export_tasks=[])}\n"
     ]
    }
   ],
   "source": [
    "print(results_dict)"
   ]
  },
  {
   "cell_type": "code",
   "execution_count": 23,
   "metadata": {},
   "outputs": [],
   "source": [
    "# **********************************************\n",
    "# * EXCLUDE IMAGES NOT AVAILABLE IN TERRA/AQUA *\n",
    "# **********************************************\n",
    "\n",
    "# Exclude if:\n",
    "# - Current month\n",
    "# - Month not 'Complete' in either Terra/Aqua (Give time to pending source to catch up)\n",
    "\n",
    "terra_image_dates = gee_dates.get_collection_dates(ee_terra_ic)\n",
    "aqua_image_dates = gee_dates.get_collection_dates(ee_aqua_ic)\n",
    "\n",
    "t_availability_results = _check_months_are_complete(\n",
    "    months=images_pending_export,\n",
    "    reference_dates=terra_image_dates,\n",
    "    trailing_days=trailing_days,\n",
    "    leading_days=leading_days,\n",
    ")\n",
    "a_availability_results = _check_months_are_complete(\n",
    "    months=images_pending_export,\n",
    "    reference_dates=aqua_image_dates,\n",
    "    trailing_days=trailing_days,\n",
    "    leading_days=leading_days,\n",
    ")\n",
    "\n",
    "# Months that are 'complete'\n",
    "t_complete = [\n",
    "    _month[\"month\"]\n",
    "    for _month in t_availability_results\n",
    "    if _month[\"status\"] == \"complete\"\n",
    "]\n",
    "a_complete = [\n",
    "    _month[\"month\"]\n",
    "    for _month in a_availability_results\n",
    "    if _month[\"status\"] == \"complete\"\n",
    "]\n",
    "\n",
    "# Months that are pending completion\n",
    "t_pending_completion = [\n",
    "    _month[\"month\"]\n",
    "    for _month in t_availability_results\n",
    "    if _month[\"status\"] == \"exclude\"\n",
    "    and _month[\"exclusion_reason\"].startswith(\"Pending\")\n",
    "]\n",
    "\n",
    "a_pending_completion = [\n",
    "    _month[\"month\"]\n",
    "    for _month in a_availability_results\n",
    "    if _month[\"status\"] == \"exclude\"\n",
    "    and _month[\"exclusion_reason\"].startswith(\"Pending\")\n",
    "]\n",
    "\n",
    "complete_in_either = set(t_complete + a_complete)\n",
    "pending_in_either = set(t_pending_completion + a_pending_completion)\n",
    "\n",
    "# - initial_export_plan: if month_list is provided\n",
    "# - images_pending_export: after excluding images already exported (same as initial_export_plan if month_list not provided)\n",
    "# - images_to_export: is the final export plan\n",
    "\n",
    "# Excluding pending months to give time to either Terra or Aqua to catch up\n",
    "images_to_export: list[str] = list(complete_in_either - pending_in_either)\n",
    "excluded_not_available: list[str] = list(\n",
    "    set(images_pending_export) - set(images_to_export)\n",
    ")\n",
    "\n",
    "# find exclusion reason from Terra/Aqua availability, keep only first reason\n",
    "t_exclusions = [\n",
    "    {**i, \"source\": \"Terra\"}\n",
    "    for i in t_availability_results\n",
    "    if i[\"status\"] == \"exclude\"\n",
    "]\n",
    "a_exclusions = [\n",
    "    {**i, \"source\": \"Aqua\"}\n",
    "    for i in a_availability_results\n",
    "    if i[\"status\"] == \"exclude\"\n",
    "]\n",
    "all_exclusions = t_exclusions + a_exclusions\n",
    "\n",
    "single_exclusion_reasons = []\n",
    "for month_ in excluded_not_available:\n",
    "    month_exclusions = [item for item in all_exclusions if item[\"month\"] == month_]\n",
    "    if month_exclusions:\n",
    "        exclusion_str = f\"{month_exclusions[0]['exclusion_reason']} ({month_exclusions[0]['source']})\"\n",
    "        single_exclusion_reasons.append({month_: exclusion_str})\n",
    "\n",
    "if single_exclusion_reasons:\n",
    "    results_dict[\"images_excluded\"].extend(single_exclusion_reasons)\n",
    "    for month_ in single_exclusion_reasons:\n",
    "        logger.info(f\"Image excluded: {month_}\")\n",
    "\n",
    "if images_to_export:\n",
    "    results_dict[\"images_to_export\"] = images_to_export\n",
    "    logger.info(f\"Images to export: {images_to_export}\")\n",
    "# else:\n",
    "#     # Terminate early if no images to export|\n",
    "#     return results_dict"
   ]
  },
  {
   "cell_type": "code",
   "execution_count": 24,
   "metadata": {},
   "outputs": [],
   "source": [
    "# ***************************************\n",
    "# * FILTER TERRA/AQUA IMAGE COLLECTIONS *\n",
    "# ***************************************\n",
    "\n",
    "# Keep only dates of interest in Terra and Aqua image collections\n",
    "# Months can be non-sequential so creating sequences for each target month (including buffers) and joining\n",
    "ic_filter_dates = set()  # creating a Set to avoid duplicates\n",
    "for month_ in images_to_export:\n",
    "    month_dates = utils_dates.create_period_seq(\n",
    "        month_, trailing_days=trailing_days, leading_days=leading_days\n",
    "    )\n",
    "    ic_filter_dates.update(month_dates)\n",
    "\n",
    "ic_filter_dates = list(ic_filter_dates)  # Back to list to sort\n",
    "ic_filter_dates.sort()\n",
    "\n",
    "ee_filtered_terra_ic = gee_dates.filter_collection_by_dates(\n",
    "    ee_terra_ic, ic_filter_dates\n",
    ")\n",
    "ee_filtered_aqua_ic = gee_dates.filter_collection_by_dates(\n",
    "    ee_aqua_ic, ic_filter_dates\n",
    ")"
   ]
  },
  {
   "cell_type": "code",
   "execution_count": 14,
   "metadata": {},
   "outputs": [
    {
     "name": "stdout",
     "output_type": "stream",
     "text": [
      "Filtered Terra images: 216\n",
      "Filtered Aqua images: 216\n"
     ]
    }
   ],
   "source": [
    "# Test how many images in each collection\n",
    "terra_image_dates = gee_dates.get_collection_dates(ee_filtered_terra_ic)\n",
    "print(f\"Filtered Terra images: {len(terra_image_dates)}\")\n",
    "aqua_image_dates = gee_dates.get_collection_dates(ee_filtered_aqua_ic)\n",
    "print(f\"Filtered Aqua images: {len(aqua_image_dates)}\")"
   ]
  },
  {
   "cell_type": "code",
   "execution_count": 15,
   "metadata": {},
   "outputs": [
    {
     "name": "stdout",
     "output_type": "stream",
     "text": [
      "2024-12-30\n",
      "2024-12-30\n"
     ]
    }
   ],
   "source": [
    "print(min(terra_image_dates))\n",
    "print(min(aqua_image_dates))"
   ]
  },
  {
   "cell_type": "code",
   "execution_count": 25,
   "metadata": {},
   "outputs": [],
   "source": [
    "from observatorio_ipa.services.gee.processes import reclass_and_impute\n",
    "\n",
    "# **********************************************************\n",
    "# * APPLY MAIN LANDCOVER RECLASSIFICATION & IMPUTE PROCESS *\n",
    "# **********************************************************\n",
    "\n",
    "ee_cloud_snow_ic = reclass_and_impute.tac_reclass_and_impute(\n",
    "    ee_terra_ic=ee_filtered_terra_ic,\n",
    "    ee_aqua_ic=ee_filtered_aqua_ic,\n",
    "    ee_aoi_fc=ee_aoi_fc,\n",
    "    ee_dem_img=ee_dem_img,\n",
    ")"
   ]
  },
  {
   "cell_type": "markdown",
   "metadata": {},
   "source": [
    "### Export Daily images"
   ]
  },
  {
   "cell_type": "code",
   "execution_count": 26,
   "metadata": {},
   "outputs": [],
   "source": [
    "daily_images = [\"2025-01-30\", \"2025-01-31\", \"2025-02-01\", \"2025-02-02\", \"2025-02-03\"]"
   ]
  },
  {
   "cell_type": "code",
   "execution_count": 27,
   "metadata": {},
   "outputs": [],
   "source": [
    "export_tasks = ExportTaskList()\n",
    "for day_ in daily_images:\n",
    "    image_name = name_prefix + day_\n",
    "    try:\n",
    "        # Create export task for each daily image\n",
    "        ee_image = ee_cloud_snow_ic.filterDate(day_).first()\n",
    "        ee_task = ee.batch.Export.image.toAsset(\n",
    "            image=ee_image,\n",
    "            description=image_name,\n",
    "            assetId=Path(monthly_collection_path, image_name).as_posix(),\n",
    "            region=ee_aoi_fc.geometry(),\n",
    "            scale=DEFAULT_SCALE,\n",
    "            crs=DEFAULT_CHI_PROJECTION,\n",
    "            maxPixels=180000000,\n",
    "        )\n",
    "        # Save to list of Tasks\n",
    "        export_tasks.add_task(\n",
    "            type=\"image\",\n",
    "            name=image_name,\n",
    "            target=\"gee\",\n",
    "            path=Path(monthly_collection_path),\n",
    "            task=ee_task,\n",
    "            # task_status=\"mock_created\",\n",
    "        )\n",
    "        logger.debug(f\"Export task created for image: {image_name}\")\n",
    "\n",
    "    except Exception as e:\n",
    "        # If error, save an empty task with the error for reference\n",
    "        export_tasks.add_task(\n",
    "            type=\"image\",\n",
    "            name=image_name,\n",
    "            target=\"gee\",\n",
    "            path=Path(monthly_collection_path),\n",
    "            task=None,\n",
    "            task_status=\"failed_to_create\",\n",
    "            error=str(e),\n",
    "        )\n",
    "        logger.debug(f\"Export task creation failed for image: {image_name}\")\n",
    "        raise e"
   ]
  },
  {
   "cell_type": "code",
   "execution_count": 28,
   "metadata": {},
   "outputs": [
    {
     "name": "stdout",
     "output_type": "stream",
     "text": [
      "| Status      | Count |\n",
      "| NOT_STARTED |   5   |\n"
     ]
    }
   ],
   "source": [
    "print(export_tasks.pretty_summary())"
   ]
  },
  {
   "cell_type": "code",
   "execution_count": 29,
   "metadata": {},
   "outputs": [
    {
     "data": {
      "text/plain": [
       "{'PENDING': 5}"
      ]
     },
     "execution_count": 29,
     "metadata": {},
     "output_type": "execute_result"
    }
   ],
   "source": [
    "export_tasks.start_exports()"
   ]
  },
  {
   "cell_type": "code",
   "execution_count": 31,
   "metadata": {},
   "outputs": [
    {
     "name": "stdout",
     "output_type": "stream",
     "text": [
      "| Status  | Count |\n",
      "| PENDING |   5   |\n"
     ]
    }
   ],
   "source": [
    "export_tasks.query_status()\n",
    "print(export_tasks.pretty_summary())"
   ]
  },
  {
   "cell_type": "code",
   "execution_count": 32,
   "metadata": {},
   "outputs": [
    {
     "name": "stdout",
     "output_type": "stream",
     "text": [
      "(type=image, name=Andes_MCDS4S5_Daily_2025-01-30, target=gee, status=PENDING, task_status=RUNNING)\n",
      "(type=image, name=Andes_MCDS4S5_Daily_2025-01-31, target=gee, status=PENDING, task_status=RUNNING)\n",
      "(type=image, name=Andes_MCDS4S5_Daily_2025-02-01, target=gee, status=PENDING, task_status=RUNNING)\n",
      "(type=image, name=Andes_MCDS4S5_Daily_2025-02-02, target=gee, status=PENDING, task_status=READY)\n",
      "(type=image, name=Andes_MCDS4S5_Daily_2025-02-03, target=gee, status=PENDING, task_status=READY)\n"
     ]
    }
   ],
   "source": [
    "print(export_tasks)"
   ]
  },
  {
   "cell_type": "markdown",
   "metadata": {},
   "source": [
    "#### Manual RUN of Reclass and Impute to verify where the \"Out of Memory\" issue is comming from\n"
   ]
  },
  {
   "cell_type": "code",
   "execution_count": 16,
   "metadata": {},
   "outputs": [],
   "source": [
    "ee_terra_ic = ee_filtered_terra_ic\n",
    "ee_aqua_ic = ee_filtered_aqua_ic\n",
    "# ee_aoi_fc = ee_aoi_fc\n",
    "# ee_dem_img = ee_dem_img"
   ]
  },
  {
   "cell_type": "code",
   "execution_count": 17,
   "metadata": {},
   "outputs": [],
   "source": [
    "# step 0: reclass snow landcover (Should keep all images in the collection)\n",
    "ee_terra_reclass_ic = binary.ic_snow_landcover_reclass(ee_terra_ic, ee_aoi_fc, 40)\n",
    "ee_aqua_reclass_ic = binary.ic_snow_landcover_reclass(ee_aqua_ic, ee_aoi_fc, 40)"
   ]
  },
  {
   "cell_type": "code",
   "execution_count": 18,
   "metadata": {},
   "outputs": [
    {
     "name": "stdout",
     "output_type": "stream",
     "text": [
      "Filtered Terra images: 216\n",
      "Filtered Aqua images: 216\n"
     ]
    }
   ],
   "source": [
    "# Test how many images in each collection\n",
    "terra_image_dates = gee_dates.get_collection_dates(ee_terra_reclass_ic)\n",
    "print(f\"Filtered Terra images: {len(terra_image_dates)}\")\n",
    "aqua_image_dates = gee_dates.get_collection_dates(ee_aqua_reclass_ic)\n",
    "print(f\"Filtered Aqua images: {len(aqua_image_dates)}\")"
   ]
  },
  {
   "cell_type": "code",
   "execution_count": 19,
   "metadata": {},
   "outputs": [],
   "source": [
    "from observatorio_ipa.services.gee.processes.imputation import temporal, spatial_4, spatial_8\n",
    "\n",
    "# step 1: merge collections (Terra & Aqua)\n",
    "ee_merged_ic = merge.merge(ee_terra_reclass_ic, ee_aqua_reclass_ic)\n",
    "\n",
    "# step 2: Impute TAC values from temporal time series\n",
    "ee_temporal_ic = temporal.ic_impute_tac_temporal(ee_merged_ic)"
   ]
  },
  {
   "cell_type": "code",
   "execution_count": 20,
   "metadata": {},
   "outputs": [
    {
     "name": "stdout",
     "output_type": "stream",
     "text": [
      "Filtered Terra images: 216\n"
     ]
    }
   ],
   "source": [
    "# Test how many images in each collection\n",
    "TAC_images = gee_dates.get_collection_dates(ee_temporal_ic)\n",
    "print(f\"Filtered Terra images: {len(TAC_images)}\")\n"
   ]
  },
  {
   "cell_type": "code",
   "execution_count": 21,
   "metadata": {},
   "outputs": [],
   "source": [
    "# step 3: Impute from spatial neighbors\n",
    "ee_imputed_ic = spatial_4.ic_impute_TAC_spatial4(ee_temporal_ic)\n",
    "\n",
    "# step 4: Impute from spatial neighbors and DEM data\n",
    "ee_imputed_ic = spatial_8.ic_impute_tac_spatial_dem(ee_imputed_ic, ee_dem_img)"
   ]
  },
  {
   "cell_type": "code",
   "execution_count": 22,
   "metadata": {},
   "outputs": [
    {
     "name": "stdout",
     "output_type": "stream",
     "text": [
      "Imputed TAC images: 216\n"
     ]
    }
   ],
   "source": [
    "# Test how many images in each collection\n",
    "TAC_images = gee_dates.get_collection_dates(ee_imputed_ic)\n",
    "print(f\"Imputed TAC images: {len(TAC_images)}\")"
   ]
  },
  {
   "cell_type": "code",
   "execution_count": 23,
   "metadata": {},
   "outputs": [],
   "source": [
    "from observatorio_ipa.services.gee.processes.reclass_and_impute import _split_cloud_snow_bands\n",
    "ee_cloud_snow_ic = ee_imputed_ic.map(_split_cloud_snow_bands).select(\n",
    "    \"Cloud_TAC\", \"Snow_TAC\", \"QA_CR\"\n",
    ")"
   ]
  },
  {
   "cell_type": "markdown",
   "metadata": {},
   "source": [
    "#### Continue Normal Workflow"
   ]
  },
  {
   "cell_type": "code",
   "execution_count": 10,
   "metadata": {},
   "outputs": [],
   "source": [
    "# Calculate Monthly means for months of interest\n",
    "ee_monthly_imgs_list = ee.ee_list.List(images_to_export)\n",
    "ee_monthly_tac_ic = ee.imagecollection.ImageCollection.fromImages(\n",
    "    ee_monthly_imgs_list.map(\n",
    "        lambda ee_ym: _ic_monthly_mean(ee_ym, ee_cloud_snow_ic, ee_aoi_fc)\n",
    "    )\n",
    ")"
   ]
  },
  {
   "cell_type": "code",
   "execution_count": 11,
   "metadata": {},
   "outputs": [
    {
     "name": "stdout",
     "output_type": "stream",
     "text": [
      "Months: ['2025-01', '2025-02', '2025-03', '2025-04', '2025-05', '2025-06', '2025-07']\n"
     ]
    }
   ],
   "source": [
    "monthly_img_dates = images_to_export\n",
    "monthly_img_dates.sort()\n",
    "print(f\"Months: {monthly_img_dates}\")"
   ]
  },
  {
   "cell_type": "code",
   "execution_count": null,
   "metadata": {},
   "outputs": [],
   "source": [
    "from observatorio_ipa.services.gee import exports\n",
    "reload(exports)"
   ]
  },
  {
   "cell_type": "code",
   "execution_count": null,
   "metadata": {},
   "outputs": [],
   "source": [
    "empty_list = exports.ExportTaskList()\n"
   ]
  },
  {
   "cell_type": "code",
   "execution_count": 33,
   "metadata": {},
   "outputs": [],
   "source": [
    "export_tasks = ExportTaskList()\n",
    "for month_ in monthly_img_dates:\n",
    "    image_name = name_prefix + month_[0:7].replace(\"-\", \"_\")\n",
    "    try:\n",
    "        # Create export task for each monthly image\n",
    "        ee_image = ee_monthly_tac_ic.filterDate(month_).first()\n",
    "        ee_task = ee.batch.Export.image.toAsset(\n",
    "            image=ee_image,\n",
    "            description=image_name,\n",
    "            assetId=Path(monthly_collection_path, image_name).as_posix(),\n",
    "            region=ee_aoi_fc.geometry(),\n",
    "            scale=DEFAULT_SCALE,\n",
    "            crs=DEFAULT_CHI_PROJECTION,\n",
    "            maxPixels=180000000,\n",
    "        )\n",
    "        # Save to list of Tasks\n",
    "        export_tasks.add_task(\n",
    "            type=\"image\",\n",
    "            name=image_name,\n",
    "            target=\"gee\",\n",
    "            path=Path(monthly_collection_path),\n",
    "            task=ee_task,\n",
    "            #task_status=\"mock_created\",\n",
    "        )\n",
    "        logger.debug(f\"Export task created for image: {image_name}\")\n",
    "\n",
    "    except Exception as e:\n",
    "        # If error, save an empty task with the error for reference\n",
    "        export_tasks.add_task(\n",
    "            type=\"image\",\n",
    "            name=image_name,\n",
    "            target=\"gee\",\n",
    "            path=Path(monthly_collection_path),\n",
    "            task=None,\n",
    "            task_status=\"failed_to_create\",\n",
    "            error=str(e),\n",
    "        )\n",
    "        logger.debug(f\"Export task creation failed for image: {image_name}\")\n",
    "        raise e"
   ]
  },
  {
   "cell_type": "code",
   "execution_count": 34,
   "metadata": {},
   "outputs": [
    {
     "name": "stdout",
     "output_type": "stream",
     "text": [
      "| Status      | Count |\n",
      "| NOT_STARTED |   7   |\n"
     ]
    }
   ],
   "source": [
    "print(export_tasks.pretty_summary())"
   ]
  },
  {
   "cell_type": "code",
   "execution_count": 14,
   "metadata": {},
   "outputs": [],
   "source": [
    "first_export=export_tasks[0]"
   ]
  },
  {
   "cell_type": "code",
   "execution_count": 15,
   "metadata": {},
   "outputs": [
    {
     "name": "stdout",
     "output_type": "stream",
     "text": [
      "(type=image, name=Andes_MCDS4S5_Yearly_Monthly_2025_01, target=gee, status=NOT_STARTED, task_status=UNSUBMITTED)\n",
      "None\n"
     ]
    }
   ],
   "source": [
    "print(first_export)\n",
    "print(first_export.error)"
   ]
  },
  {
   "cell_type": "code",
   "execution_count": 59,
   "metadata": {},
   "outputs": [
    {
     "name": "stdout",
     "output_type": "stream",
     "text": [
      "| Status | Count |\n",
      "| FAILED |   7   |\n"
     ]
    }
   ],
   "source": [
    "export_tasks.query_status()\n",
    "print(export_tasks.pretty_summary())"
   ]
  },
  {
   "cell_type": "code",
   "execution_count": 35,
   "metadata": {},
   "outputs": [],
   "source": [
    "logger.info(f\"Export tasks created: {len(export_tasks)}\")\n",
    "export_tasks.start_exports()\n",
    "\n",
    "results_dict[\"export_tasks\"].extend(export_tasks)\n",
    "# return results_dict"
   ]
  },
  {
   "cell_type": "code",
   "execution_count": 36,
   "metadata": {},
   "outputs": [],
   "source": [
    "export_list: ExportTaskList = results_dict.get(\"export_tasks\", ExportTaskList())"
   ]
  },
  {
   "cell_type": "code",
   "execution_count": 37,
   "metadata": {},
   "outputs": [
    {
     "data": {
      "text/plain": [
       "{'FAILED': 7, 'PENDING': 7}"
      ]
     },
     "execution_count": 37,
     "metadata": {},
     "output_type": "execute_result"
    }
   ],
   "source": [
    "export_list.query_status()"
   ]
  },
  {
   "cell_type": "code",
   "execution_count": 41,
   "metadata": {},
   "outputs": [
    {
     "name": "stdout",
     "output_type": "stream",
     "text": [
      "| Status  | Count |\n",
      "| FAILED  |   7   |\n",
      "| PENDING |   7   |\n"
     ]
    }
   ],
   "source": [
    "print(export_list.pretty_summary())"
   ]
  },
  {
   "cell_type": "code",
   "execution_count": 26,
   "metadata": {},
   "outputs": [],
   "source": [
    "first_export = export_list[0]"
   ]
  },
  {
   "cell_type": "code",
   "execution_count": 50,
   "metadata": {},
   "outputs": [
    {
     "data": {
      "text/plain": [
       "'6F2LPF5CUWMYN2SQYK5FH3LZ'"
      ]
     },
     "execution_count": 50,
     "metadata": {},
     "output_type": "execute_result"
    }
   ],
   "source": [
    "getattr(first_export.task, 'id', None)"
   ]
  },
  {
   "cell_type": "code",
   "execution_count": 29,
   "metadata": {},
   "outputs": [
    {
     "data": {
      "text/plain": [
       "{'state': 'FAILED',\n",
       " 'description': 'Andes_MCDS4S5_Yearly_Monthly_2025_01',\n",
       " 'priority': 100,\n",
       " 'creation_timestamp_ms': 1755802727907,\n",
       " 'update_timestamp_ms': 1755802843136,\n",
       " 'start_timestamp_ms': 1755802733422,\n",
       " 'task_type': 'EXPORT_IMAGE',\n",
       " 'attempt': 1,\n",
       " 'error_message': 'Export too large: specified 175296036 pixels (max: 100000000). Specify higher maxPixels value if you intend to export a large area.',\n",
       " 'id': '6F2LPF5CUWMYN2SQYK5FH3LZ',\n",
       " 'name': 'projects/ee-observatorionieves/operations/6F2LPF5CUWMYN2SQYK5FH3LZ'}"
      ]
     },
     "execution_count": 29,
     "metadata": {},
     "output_type": "execute_result"
    }
   ],
   "source": [
    "first_export.task.status()  # Check the status of the task"
   ]
  },
  {
   "cell_type": "code",
   "execution_count": 42,
   "metadata": {},
   "outputs": [
    {
     "data": {
      "text/plain": [
       "True"
      ]
     },
     "execution_count": 42,
     "metadata": {},
     "output_type": "execute_result"
    }
   ],
   "source": [
    "from observatorio_ipa.utils import db\n",
    "\n",
    "# importlib.reload(db)\n",
    "db_path = Path(\"../db/observatorio_ipa.db\")\n",
    "db_path.exists()"
   ]
  },
  {
   "cell_type": "code",
   "execution_count": 46,
   "metadata": {},
   "outputs": [],
   "source": [
    "# db row state should not be the same as status from ExportTask. ExportTask.status is self calculated from task_status.\n",
    "# whereas the db state refers to the state for polling\n",
    "\n",
    "DEFAULT_POLLING_INTERVAL_SEC = 15\n",
    "\n",
    "\n",
    "def _make_db_export_state(export_task: ExportTask) -> str:\n",
    "    if export_task.status in [\"FAILED\"]:\n",
    "        db_state = \"FAILED\"\n",
    "    elif export_task.status in [\"PENDING\", \"UNKNOWN\"]:\n",
    "        db_state = \"RUNNING\"\n",
    "    else:\n",
    "        db_state = \"COMPLETED\"\n",
    "    return db_state\n",
    "\n",
    "\n",
    "def add_exportTask_to_db(\n",
    "    conn: sqlite3.Connection, job_id: str, export_task: ExportTask\n",
    "):\n",
    "    now = db.utc_now()\n",
    "    now_iso = db.datetime_to_iso(now)\n",
    "\n",
    "    polling_state = _make_db_export_state(export_task)\n",
    "    conn.execute(\n",
    "        \"\"\"INSERT INTO exports (\n",
    "            id, job_id, state, type, name, target, path, task_id, \n",
    "            task_status, next_check_at, poll_interval_sec, \n",
    "            created_at, updated_at)\n",
    "           VALUES (?, ?, ?, ?, ?, ?, ?, ?, ?, ?, ?, ?, ?)\"\"\",\n",
    "        (\n",
    "            export_task.id,\n",
    "            job_id,\n",
    "            polling_state,\n",
    "            export_task.type,\n",
    "            export_task.name,\n",
    "            export_task.target,\n",
    "            export_task.path.as_posix(),\n",
    "            (export_task.task.id or None),\n",
    "            export_task.task_status,\n",
    "            now_iso,\n",
    "            DEFAULT_POLLING_INTERVAL_SEC,\n",
    "            now_iso,\n",
    "            now_iso,\n",
    "        ),\n",
    "    )"
   ]
  },
  {
   "cell_type": "code",
   "execution_count": 44,
   "metadata": {},
   "outputs": [],
   "source": [
    "# Write Job to DB\n",
    "now = db.utc_now()\n",
    "job_id = db.new_id()\n",
    "with db.db(db_path) as conn:\n",
    "    conn.execute(\n",
    "        \"\"\"INSERT INTO jobs (id, job_status, image_export_status, stats_export_status, report_status, created_at, updated_at)\n",
    "           VALUES (?, ?, ?, ?, ?, ?, ?)\"\"\",\n",
    "        (\n",
    "            job_id,\n",
    "            \"RUNNING\",\n",
    "            \"PENDING\",\n",
    "            \"PENDING\",\n",
    "            \"PENDING\",\n",
    "            db.datetime_to_iso(now),\n",
    "            db.datetime_to_iso(now),\n",
    "        ),\n",
    "    )"
   ]
  },
  {
   "cell_type": "code",
   "execution_count": 47,
   "metadata": {},
   "outputs": [
    {
     "name": "stdout",
     "output_type": "stream",
     "text": [
      "Inserted 14 export tasks into the database.\n"
     ]
    }
   ],
   "source": [
    "if export_list:\n",
    "    with db.db(db_path) as conn:\n",
    "        cur = conn.cursor()\n",
    "        try:\n",
    "            for task in export_list:\n",
    "                add_exportTask_to_db(conn, job_id, task)\n",
    "            print(f\"Inserted {conn.total_changes} export tasks into the database.\")\n",
    "        # Update Job Status in DB\n",
    "\n",
    "        except Exception as e:\n",
    "            print(f\"Error occurred while inserting export tasks: {e}\")"
   ]
  },
  {
   "cell_type": "code",
   "execution_count": 49,
   "metadata": {},
   "outputs": [
    {
     "name": "stdout",
     "output_type": "stream",
     "text": [
      "d258473f-b7ab-4a50-bc98-dbd91e6853e8\n"
     ]
    }
   ],
   "source": [
    "print(job_id)"
   ]
  },
  {
   "cell_type": "code",
   "execution_count": 14,
   "metadata": {},
   "outputs": [],
   "source": [
    "assets_list=toolbox_assets.list_assets(\"projects/ee-observatorionieves/assets/MODIS/Andes_MCDS4S5_Yearly_Monthly\")\n",
    "assets_list = toolbox_assets.get_asset_names(assets_list)"
   ]
  },
  {
   "cell_type": "code",
   "execution_count": 15,
   "metadata": {},
   "outputs": [
    {
     "data": {
      "text/plain": [
       "'projects/ee-observatorionieves/assets/MODIS/Andes_MCDS4S5_Yearly_Monthly/Andes_MCDS4S5_Yearly_Monthly_2024_12'"
      ]
     },
     "execution_count": 15,
     "metadata": {},
     "output_type": "execute_result"
    }
   ],
   "source": [
    "assets_list.sort()\n",
    "assets_list[-1]"
   ]
  },
  {
   "cell_type": "code",
   "execution_count": 16,
   "metadata": {},
   "outputs": [
    {
     "name": "stdout",
     "output_type": "stream",
     "text": [
      "['constant']\n"
     ]
    }
   ],
   "source": [
    "constant_img = ee.image.Image(100).bandNames().getInfo()\n",
    "print(constant_img)"
   ]
  },
  {
   "cell_type": "code",
   "execution_count": 34,
   "metadata": {},
   "outputs": [
    {
     "name": "stdout",
     "output_type": "stream",
     "text": [
      "list of dates: [{'type': 'Date', 'value': 1740960000000}]\n",
      "list of ints?: [1740960000000]\n",
      "<class 'ee.ee_list.List'>\n",
      "num images: 1\n",
      "List Content: [None]\n"
     ]
    }
   ],
   "source": [
    "# if you map over a list of dates you need to recast the dates inside the function\n",
    "# After recasting to date inside the function, you can use this date to filter the image collection\n",
    "# IF you map over a list of dates and get no images back, the ee.ImageCollection creation will error out\n",
    "# iterating over a list of dates that don't produce any images, creates a list with a None object. It's size 1 and not an empty list\n",
    "\n",
    "\n",
    "\n",
    "ee_terra_ic = ee.imagecollection.ImageCollection(\"MODIS/061/MOD10A1\")\n",
    "\n",
    "keep_dates=[ \"2025-03-03\"]\n",
    "# Convert list of dates to ee_list in milliseconds\n",
    "ee_keep_dates_list = ee.ee_list.List(\n",
    "        [ee.ee_date.Date(_date) for _date in keep_dates]\n",
    "    )\n",
    "\n",
    "# Convert the list of ee.Dates to simple list of numbers. Otherwise, map wont work\n",
    "keep_dates_list = ee_keep_dates_list.getInfo()\n",
    "print(f\"list of dates: {keep_dates_list}\")\n",
    "\n",
    "if keep_dates_list:\n",
    "    keep_dates_list = [item[\"value\"] for item in keep_dates_list]\n",
    "else:\n",
    "    keep_dates_list = []\n",
    "ee_keep_dates_list2 = ee.ee_list.List(keep_dates_list)\n",
    "\n",
    "keep_dates_str_list = ee_keep_dates_list2.getInfo()\n",
    "print(f\"list of ints?: {keep_dates_str_list}\")\n",
    "\n",
    "def get_image(date):\n",
    "    ee_date = ee.ee_date.Date(date)\n",
    "    image = ee_terra_ic.filterDate(ee_date).first()\n",
    "    return image\n",
    "\n",
    "ee_something = ee_keep_dates_list.map(get_image)\n",
    "print(type(ee_something))\n",
    "print(f\"num images: {ee_something.size().getInfo()}\")\n",
    "print(f\"List Content: {ee_something.getInfo()}\")\n",
    "#ee_something = ee.imagecollection.ImageCollection(ee_keep_dates_list.map(get_image))\n",
    "# if ee_something:\n",
    "#     print(f\"num images: {ee_something.size().getInfo()}\")"
   ]
  },
  {
   "cell_type": "code",
   "execution_count": null,
   "metadata": {},
   "outputs": [
    {
     "data": {
      "text/plain": [
       "NoneType"
      ]
     },
     "execution_count": 35,
     "metadata": {},
     "output_type": "execute_result"
    }
   ],
   "source": [
    "# If after filtering an IC the IC is empty, .first() produces an object of NoneType\n",
    "ee_image = ee_terra_ic.filterDate(\"2025-05-01\").first()\n",
    "type(ee_image)\n",
    "type(ee_image.getInfo())"
   ]
  },
  {
   "cell_type": "code",
   "execution_count": 37,
   "metadata": {},
   "outputs": [
    {
     "data": {
      "text/plain": [
       "['random_string', 'random_string']"
      ]
     },
     "execution_count": 37,
     "metadata": {},
     "output_type": "execute_result"
    }
   ],
   "source": [
    "# Function arguments like strings are automatically casted to ee.String objects\n",
    "\n",
    "keep_dates = [\"2025-03-03\", \"2025-03-04\"]\n",
    "ee_keep_dates_list = ee.ee_list.List([ee.ee_date.Date(_date) for _date in keep_dates])\n",
    "\n",
    "def func_2_rgs(date, rand_string):\n",
    "    ee_date = ee.ee_date.Date(date)\n",
    "    return rand_string\n",
    "\n",
    "results = ee_keep_dates_list.map(lambda date: func_2_rgs(date, \"random_string\"))\n",
    "results.getInfo()"
   ]
  },
  {
   "cell_type": "code",
   "execution_count": null,
   "metadata": {},
   "outputs": [],
   "source": []
  },
  {
   "cell_type": "code",
   "execution_count": 58,
   "metadata": {},
   "outputs": [],
   "source": [
    "runtime_settings = config.Settings(\n",
    "    user=\"osn-imageautomation-dev@ee-observatorionieves.iam.gserviceaccount.com\",\n",
    "    service_credentials_file=Path(\"../secrets/ee-observatorionieves-288939dbc1cf.json\"),\n",
    "    daily_assets_path=None,\n",
    "    monthly_assets_path=Path(\n",
    "        \"users/observatorionieves/MODIS/Andes_MCDS4S5_Yearly_Monthly\"\n",
    "    ),\n",
    "    monthly_image_prefix=\"Andes_MCDS4S5_Yearly_Monthly\",\n",
    "    months_list=['2025-05', '2025-06'],\n",
    "    yearly_assets_path=None,\n",
    "    aoi_asset_path=Path(\n",
    "        \"projects/ee-observatorionieves/assets/Modules/Andes\"\n",
    "    ),  #! JS code shows: users/observatorionieves/Cuencas/Andes # Verified on 2025-06-30\n",
    "    dem_asset_path=Path(\n",
    "        \"projects/ee-observatorionieves/assets/Modules/DEM_SRTM_reproj_MODIS_463_Andes\"\n",
    "    ),  #! JS code shows: users/observatorionieves//DEM_SRTM_reproj_MODIS_463_D_Andes # Verified on 2025-06-30\n",
    ")"
   ]
  }
 ],
 "metadata": {
  "kernelspec": {
   "display_name": "observatorio-ipa (3.12.7)",
   "language": "python",
   "name": "python3"
  },
  "language_info": {
   "codemirror_mode": {
    "name": "ipython",
    "version": 3
   },
   "file_extension": ".py",
   "mimetype": "text/x-python",
   "name": "python",
   "nbconvert_exporter": "python",
   "pygments_lexer": "ipython3",
   "version": "3.12.7"
  }
 },
 "nbformat": 4,
 "nbformat_minor": 2
}
