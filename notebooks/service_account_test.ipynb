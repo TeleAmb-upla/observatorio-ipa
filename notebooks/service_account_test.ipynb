{
 "cells": [
  {
   "cell_type": "code",
   "execution_count": 1,
   "metadata": {},
   "outputs": [
    {
     "name": "stderr",
     "output_type": "stream",
     "text": [
      "*** Earth Engine *** Share your feedback by taking our Annual Developer Satisfaction Survey: https://google.qualtrics.com/jfe/form/SV_0JLhFqfSY1uiEaW?source=Init\n"
     ]
    }
   ],
   "source": [
    "# Connection test using SErvice Account\n",
    "\n",
    "import ee\n",
    "\n",
    "service_account = (\n",
    "    \"osn-imageautomation-dev@ee-observatorionieves.iam.gserviceaccount.com\"\n",
    ")\n",
    "credentials = ee.ServiceAccountCredentials(service_account, \"../secrets/ee-observatorionieves-288939dbc1cf.json\")\n",
    "ee.Initialize(credentials)"
   ]
  }
 ],
 "metadata": {
  "kernelspec": {
   "display_name": "observatorio_ipa",
   "language": "python",
   "name": "python3"
  },
  "language_info": {
   "codemirror_mode": {
    "name": "ipython",
    "version": 3
   },
   "file_extension": ".py",
   "mimetype": "text/x-python",
   "name": "python",
   "nbconvert_exporter": "python",
   "pygments_lexer": "ipython3",
   "version": "3.12.7"
  }
 },
 "nbformat": 4,
 "nbformat_minor": 2
}
