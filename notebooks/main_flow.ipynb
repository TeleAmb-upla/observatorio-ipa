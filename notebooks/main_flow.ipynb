{
 "cells": [
  {
   "cell_type": "code",
   "execution_count": 1,
   "metadata": {},
   "outputs": [],
   "source": [
    "from observatorio_ipa import main\n",
    "import importlib\n",
    "import dotenv\n",
    "import os\n",
    "import pprint"
   ]
  },
  {
   "cell_type": "code",
   "execution_count": 11,
   "metadata": {},
   "outputs": [
    {
     "data": {
      "text/plain": [
       "<module 'observatorio_ipa.main' from 'C:\\\\Users\\\\erick\\\\Documents\\\\Projects\\\\teleamb\\\\observatorio_ipa\\\\src\\\\observatorio_ipa\\\\main.py'>"
      ]
     },
     "execution_count": 11,
     "metadata": {},
     "output_type": "execute_result"
    }
   ],
   "source": [
    "importlib.reload(main)"
   ]
  },
  {
   "cell_type": "code",
   "execution_count": 2,
   "metadata": {},
   "outputs": [
    {
     "data": {
      "text/plain": [
       "True"
      ]
     },
     "execution_count": 2,
     "metadata": {},
     "output_type": "execute_result"
    }
   ],
   "source": [
    "dotenv.load_dotenv(dotenv_path='./.env', override=True)"
   ]
  },
  {
   "cell_type": "code",
   "execution_count": 3,
   "metadata": {},
   "outputs": [
    {
     "name": "stdout",
     "output_type": "stream",
     "text": [
      "\n",
      "---------------------------------------------\n",
      "Monthly Images Export Plan:\n",
      "---------------------------------------------\n",
      "Images to export\n",
      "\t└ No images to export \n",
      "Images excluded\n",
      "\t└{'2024-10': 'already exported'} \n",
      "\t└{'2024-09': 'already exported'} \n",
      "\t└{'2025-01': 'Month incomplete'} \n",
      "\n",
      "---------------------------------------------\n",
      "Export Results:\n",
      "---------------------------------------------\n",
      "- No images exported \n",
      "\n"
     ]
    },
    {
     "data": {
      "text/plain": [
       "0"
      ]
     },
     "execution_count": 3,
     "metadata": {},
     "output_type": "execute_result"
    }
   ],
   "source": [
    "main.main()"
   ]
  },
  {
   "cell_type": "code",
   "execution_count": 4,
   "metadata": {},
   "outputs": [
    {
     "name": "stdout",
     "output_type": "stream",
     "text": [
      "\n",
      "---------------------------------------------\n",
      "Monthly Images Export Plan:\n",
      "---------------------------------------------\n",
      "Images to export\n",
      "\t└ No images to export \n",
      "Images excluded\n",
      "\t└{'2024-09': 'already exported'} \n",
      "\t└{'2024-10': 'already exported'} \n",
      "\t└{'2025-01': 'Month incomplete'} \n",
      "\n",
      "---------------------------------------------\n",
      "Export Results:\n",
      "---------------------------------------------\n",
      "- No images exported \n",
      "\n"
     ]
    }
   ],
   "source": [
    "# run as script\n",
    "!python ../src/observatorio_ipa/main.py"
   ]
  },
  {
   "cell_type": "code",
   "execution_count": 5,
   "metadata": {},
   "outputs": [
    {
     "name": "stdout",
     "output_type": "stream",
     "text": [
      "\n",
      "---------------------------------------------\n",
      "Export Results:\n",
      "---------------------------------------------\n",
      "- Exporting 2 images.\n",
      "\t└ Andes_MCDS4S5_Yearly_Monthly_2024_11 : created  \n",
      "\t└ Andes_MCDS4S5_Yearly_Monthly_2024_12 : creation_failed - Mock Error \n",
      "\n"
     ]
    }
   ],
   "source": [
    "mock_tasks = [\n",
    "    {\n",
    "        \"task\": \"mock_task\",\n",
    "        \"image\": \"Andes_MCDS4S5_Yearly_Monthly_2024_11\",\n",
    "        \"target\": \"GEE Asset\",\n",
    "        \"status\": \"created\",\n",
    "    },\n",
    "    {\n",
    "        \"task\": \"mock_task\",\n",
    "        \"image\": \"Andes_MCDS4S5_Yearly_Monthly_2024_12\",\n",
    "        \"target\": \"GEE Asset\",\n",
    "        \"status\": \"creation_failed\",\n",
    "        \"error\": \"Mock Error\"\n",
    "\n",
    "    }\n",
    "\n",
    "]\n",
    "print(main.make_export_results_report(mock_tasks))"
   ]
  }
 ],
 "metadata": {
  "kernelspec": {
   "display_name": "observatorio_ipa",
   "language": "python",
   "name": "python3"
  },
  "language_info": {
   "codemirror_mode": {
    "name": "ipython",
    "version": 3
   },
   "file_extension": ".py",
   "mimetype": "text/x-python",
   "name": "python",
   "nbconvert_exporter": "python",
   "pygments_lexer": "ipython3",
   "version": "3.12.7"
  }
 },
 "nbformat": 4,
 "nbformat_minor": 2
}
