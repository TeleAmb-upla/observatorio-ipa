{
 "cells": [
  {
   "cell_type": "code",
   "execution_count": 5,
   "metadata": {},
   "outputs": [],
   "source": [
    "import ee\n",
    "import ee.batch\n",
    "import ee.data\n",
    "import logging\n",
    "import json\n",
    "from gee_toolbox.gee import assets\n",
    "from datetime import datetime, date, timedelta\n",
    "from dateutil.relativedelta import relativedelta\n",
    "from datetime import UTC as datetime_UTC\n",
    "from observatorio_ipa import merge, spatial_4, spatial_8, temporal\n",
    "from observatorio_ipa.processes import binary, monthly_export\n",
    "from observatorio_ipa.utils import get_collection_dates\n",
    "import pathlib\n",
    "import importlib\n",
    "from time import sleep\n",
    "\n",
    "\n",
    "logger = logging.getLogger(__name__)\n",
    "logger.setLevel(logging.DEBUG)"
   ]
  },
  {
   "cell_type": "code",
   "execution_count": 2,
   "metadata": {},
   "outputs": [],
   "source": [
    "legacy_monthly_ic_path = 'users/observatorionieves/MODIS/Andes_MCDS4S5_Yearly_Monthly'\n",
    "legacy_yearly_ic_path = 'users/observatorionieves/MODIS/Andes_MCDS4S5_Yearly'"
   ]
  },
  {
   "cell_type": "markdown",
   "metadata": {},
   "source": [
    "Helpful Functions"
   ]
  },
  {
   "cell_type": "code",
   "execution_count": 3,
   "metadata": {},
   "outputs": [],
   "source": [
    "# set a date simpleTime property to facilitate filtering\n",
    "def set_date_property(image):\n",
    "    date = ee.ee_date.Date(image.date().format(\"YYYY-MM-dd\"))\n",
    "    return image.set(\"simpleTime\", date)\n",
    "\n",
    "def remove_date_property(image):\n",
    "    return (ee.image.Image() # Image without any bands or properties\n",
    "    .addBands(image) # add bands \n",
    "    .copyProperties(source= image, exclude=['simpleTime']) # add properties excluding simpleTime  \n",
    "    )\n",
    "\n",
    "def filter_collection_by_dates(\n",
    "    ee_collection: ee.imagecollection.ImageCollection, dates_list: list[str]\n",
    ") -> ee.imagecollection.ImageCollection:\n",
    "    \"\"\"\n",
    "    Filter an image collection by a list of dates\n",
    "\n",
    "    Args:\n",
    "    ee_collection: ee.ImageCollection to filter\n",
    "    dates_list: list of dates in format \"YYYY-MM-DD\"\n",
    "\n",
    "    Returns:\n",
    "    ee.ImageCollection\n",
    "    \"\"\"\n",
    "\n",
    "    # set a date simpleTime property to facilitate filtering\n",
    "    ee_collection = ee_collection.map(set_date_property)\n",
    "\n",
    "    # create ee_list of dates\n",
    "    ee_dates_list = ee.ee_list.List([ee.ee_date.Date(i_date) for i_date in dates_list])\n",
    "    ee_filtered_collection = ee_collection.filter(\n",
    "        ee.filter.Filter.inList(\"simpleTime\", ee_dates_list)\n",
    "    )\n",
    "\n",
    "    # remove simpleTime property\n",
    "    # ee_filtered_collection = ee_filtered_collection.map(remove_date_property)\n",
    "\n",
    "    return ee_filtered_collection\n",
    "\n",
    "\n",
    "def get_buffer_dates(target_date, buffer_days=2):\n",
    "    target_date_dt = datetime.strptime(target_date, \"%Y-%m-%d\").date()\n",
    "    buffer_dates = [\n",
    "        str(target_date_dt + timedelta(days=delta))\n",
    "        for delta in range(-buffer_days, buffer_days + 1)\n",
    "    ]\n",
    "    buffer_dates.remove(target_date)\n",
    "    return buffer_dates\n",
    "\n",
    "\n",
    "def get_collection_dates(ee_collection) -> list[str]:\n",
    "    # get \"system:time_start\" of all images in image collection\n",
    "    image_dates = ee_collection.aggregate_array(\"system:time_start\").getInfo()\n",
    "    # convert milliseconds to date\n",
    "    image_dates = [\n",
    "        datetime.fromtimestamp(date / 1000, datetime_UTC).strftime(\"%Y-%m-%d\")\n",
    "        for date in image_dates\n",
    "    ]\n",
    "    return image_dates\n",
    "\n",
    "def get_image_date(image):\n",
    "    img_date_milliseconds = image.get(\"system:time_start\").getInfo()\n",
    "    return datetime.fromtimestamp(img_date_milliseconds / 1000, datetime_UTC).strftime(\"%Y-%m-%d\")"
   ]
  },
  {
   "cell_type": "code",
   "execution_count": 2,
   "metadata": {},
   "outputs": [],
   "source": [
    "config = {\n",
    "    \"service_credentials_file\": \"../secrets/ee-observatorionieves-288939dbc1cf.json\"\n",
    "}"
   ]
  },
  {
   "cell_type": "code",
   "execution_count": 3,
   "metadata": {},
   "outputs": [
    {
     "name": "stdout",
     "output_type": "stream",
     "text": [
      "osn-imageautomation-dev@ee-observatorionieves.iam.gserviceaccount.com\n"
     ]
    }
   ],
   "source": [
    "# Connect to Earth Engine using Service Account\n",
    "\n",
    "## ------ GEE CONNECTION ---------\n",
    "# TODO: Need to verify connections get closed after script finishes\n",
    "logger.debug(\"--- Connecting to GEE\")\n",
    "# Connect to GEE using service account for automation\n",
    "\n",
    "try:\n",
    "    with open(config['service_credentials_file'], \"r\") as f:\n",
    "        service_account_data = json.load(f)\n",
    "    service_user = service_account_data[\"client_email\"]\n",
    "    print(service_user)\n",
    "    \n",
    "    credentials = ee._helpers.ServiceAccountCredentials(\n",
    "        email=service_user,\n",
    "        key_data=json.dumps(service_account_data),\n",
    "    )\n",
    "    ee.Initialize(credentials)\n",
    "    logger.debug(\"GEE connection successful\")\n",
    "except FileNotFoundError as e:\n",
    "    logger.error(f\"Service account file not found: {e}\")\n",
    "    \n",
    "except Exception as e:\n",
    "    logger.error(f\"Initializing connection to GEE failed: {e}\")\n",
    "\n",
    "    \n"
   ]
  },
  {
   "cell_type": "code",
   "execution_count": 4,
   "metadata": {},
   "outputs": [],
   "source": [
    "# Get Area of Interest and DEM data\n",
    "\n",
    "# load feature collection of Andes\n",
    "ee_aoi_fc= ee.featurecollection.FeatureCollection(\"projects/ee-observatorionieves/assets/Modules/Andes\")\n",
    "\n",
    "ee_dem_img = ee.image.Image(\n",
    "    \"projects/ee-observatorionieves/assets/Modules/DEM_SRTM_reproj_MODIS_463_Andes\"\n",
    ")  # Asset was not found"
   ]
  },
  {
   "cell_type": "code",
   "execution_count": 9,
   "metadata": {},
   "outputs": [],
   "source": [
    "asset = ee.data.getAsset(\"projects/ee-observatorionieves/assets/Modules/Andes\")"
   ]
  },
  {
   "cell_type": "code",
   "execution_count": 10,
   "metadata": {},
   "outputs": [
    {
     "name": "stdout",
     "output_type": "stream",
     "text": [
      "{'type': 'TABLE', 'name': 'projects/ee-observatorionieves/assets/Modules/Andes', 'id': 'projects/ee-observatorionieves/assets/Modules/Andes', 'updateTime': '2024-12-04T19:50:00.856890Z', 'sizeBytes': '910486'}\n"
     ]
    }
   ],
   "source": [
    "print(asset)"
   ]
  },
  {
   "cell_type": "code",
   "execution_count": 21,
   "metadata": {},
   "outputs": [
    {
     "data": {
      "text/plain": [
       "<module 'observatorio_ipa.monthly_export' from 'C:\\\\Users\\\\erick\\\\Documents\\\\Projects\\\\teleamb\\\\observatorio_ipa\\\\src\\\\observatorio_ipa\\\\monthly_export.py'>"
      ]
     },
     "execution_count": 21,
     "metadata": {},
     "output_type": "execute_result"
    }
   ],
   "source": [
    "importlib.reload(monthly_export)"
   ]
  },
  {
   "cell_type": "code",
   "execution_count": 11,
   "metadata": {},
   "outputs": [],
   "source": [
    "monthly_export_results = monthly_export.monthly_export_proc(\n",
    "    monthly_collection_path=legacy_monthly_ic_path,\n",
    "    name_prefix=\"Andes_MCDS4S5_Yearly_Monthly\",\n",
    "    aoi_path=\"projects/ee-observatorionieves/assets/Modules/Andes\",\n",
    "    dem_path=\"projects/ee-observatorionieves/assets/Modules/DEM_SRTM_reproj_MODIS_463_Andes\",\n",
    "\n",
    ")"
   ]
  },
  {
   "cell_type": "code",
   "execution_count": 12,
   "metadata": {},
   "outputs": [
    {
     "name": "stdout",
     "output_type": "stream",
     "text": [
      "{'images_pending_export': ['2024-11', '2024-12'], 'images_excluded': [{'2024-12': 'Month incomplete'}], 'images_to_export': ['2024-11'], 'export_tasks': [{'task': 'mock_task', 'image': 'Andes_MCDS4S5_Yearly_Monthly_2024_11', 'target': 'GEE Asset', 'status': 'created'}]}\n"
     ]
    }
   ],
   "source": [
    "print(monthly_export_results)"
   ]
  },
  {
   "cell_type": "code",
   "execution_count": 11,
   "metadata": {},
   "outputs": [
    {
     "name": "stderr",
     "output_type": "stream",
     "text": [
      "ERROR:root:Asset projects/ee-observatorionieves/assets/Modules/random_path does not exist.\n"
     ]
    },
    {
     "ename": "ValueError",
     "evalue": "Asset projects/ee-observatorionieves/assets/Modules/random_path does not exist.",
     "output_type": "error",
     "traceback": [
      "\u001b[1;31m---------------------------------------------------------------------------\u001b[0m",
      "\u001b[1;31mHttpError\u001b[0m                                 Traceback (most recent call last)",
      "File \u001b[1;32mc:\\Users\\erick\\miniconda3\\envs\\observatorio_ipa\\Lib\\site-packages\\ee\\data.py:406\u001b[0m, in \u001b[0;36m_execute_cloud_call\u001b[1;34m(call, num_retries)\u001b[0m\n\u001b[0;32m    405\u001b[0m \u001b[38;5;28;01mtry\u001b[39;00m:\n\u001b[1;32m--> 406\u001b[0m   \u001b[38;5;28;01mreturn\u001b[39;00m \u001b[43mcall\u001b[49m\u001b[38;5;241;43m.\u001b[39;49m\u001b[43mexecute\u001b[49m\u001b[43m(\u001b[49m\u001b[43mnum_retries\u001b[49m\u001b[38;5;241;43m=\u001b[39;49m\u001b[43mnum_retries\u001b[49m\u001b[43m)\u001b[49m\n\u001b[0;32m    407\u001b[0m \u001b[38;5;28;01mexcept\u001b[39;00m googleapiclient\u001b[38;5;241m.\u001b[39merrors\u001b[38;5;241m.\u001b[39mHttpError \u001b[38;5;28;01mas\u001b[39;00m e:\n",
      "File \u001b[1;32mc:\\Users\\erick\\miniconda3\\envs\\observatorio_ipa\\Lib\\site-packages\\googleapiclient\\_helpers.py:130\u001b[0m, in \u001b[0;36mpositional.<locals>.positional_decorator.<locals>.positional_wrapper\u001b[1;34m(*args, **kwargs)\u001b[0m\n\u001b[0;32m    129\u001b[0m         logger\u001b[38;5;241m.\u001b[39mwarning(message)\n\u001b[1;32m--> 130\u001b[0m \u001b[38;5;28;01mreturn\u001b[39;00m \u001b[43mwrapped\u001b[49m\u001b[43m(\u001b[49m\u001b[38;5;241;43m*\u001b[39;49m\u001b[43margs\u001b[49m\u001b[43m,\u001b[49m\u001b[43m \u001b[49m\u001b[38;5;241;43m*\u001b[39;49m\u001b[38;5;241;43m*\u001b[39;49m\u001b[43mkwargs\u001b[49m\u001b[43m)\u001b[49m\n",
      "File \u001b[1;32mc:\\Users\\erick\\miniconda3\\envs\\observatorio_ipa\\Lib\\site-packages\\googleapiclient\\http.py:938\u001b[0m, in \u001b[0;36mHttpRequest.execute\u001b[1;34m(self, http, num_retries)\u001b[0m\n\u001b[0;32m    937\u001b[0m \u001b[38;5;28;01mif\u001b[39;00m resp\u001b[38;5;241m.\u001b[39mstatus \u001b[38;5;241m>\u001b[39m\u001b[38;5;241m=\u001b[39m \u001b[38;5;241m300\u001b[39m:\n\u001b[1;32m--> 938\u001b[0m     \u001b[38;5;28;01mraise\u001b[39;00m HttpError(resp, content, uri\u001b[38;5;241m=\u001b[39m\u001b[38;5;28mself\u001b[39m\u001b[38;5;241m.\u001b[39muri)\n\u001b[0;32m    939\u001b[0m \u001b[38;5;28;01mreturn\u001b[39;00m \u001b[38;5;28mself\u001b[39m\u001b[38;5;241m.\u001b[39mpostproc(resp, content)\n",
      "\u001b[1;31mHttpError\u001b[0m: <HttpError 404 when requesting https://earthengine.googleapis.com/v1/projects/ee-observatorionieves/assets/Modules/random_path?prettyPrint=false&alt=json returned \"Asset 'projects/ee-observatorionieves/assets/Modules/random_path' does not exist or doesn't allow this operation.\". Details: \"Asset 'projects/ee-observatorionieves/assets/Modules/random_path' does not exist or doesn't allow this operation.\">",
      "\nDuring handling of the above exception, another exception occurred:\n",
      "\u001b[1;31mEEException\u001b[0m                               Traceback (most recent call last)",
      "File \u001b[1;32mc:\\Users\\erick\\miniconda3\\envs\\observatorio_ipa\\Lib\\site-packages\\geetools\\ee_asset.py:200\u001b[0m, in \u001b[0;36mAsset.exists\u001b[1;34m(self, raised)\u001b[0m\n\u001b[0;32m    199\u001b[0m \u001b[38;5;28;01mtry\u001b[39;00m:\n\u001b[1;32m--> 200\u001b[0m     \u001b[43mee\u001b[49m\u001b[38;5;241;43m.\u001b[39;49m\u001b[43mdata\u001b[49m\u001b[38;5;241;43m.\u001b[39;49m\u001b[43mgetAsset\u001b[49m\u001b[43m(\u001b[49m\u001b[38;5;28;43mself\u001b[39;49m\u001b[38;5;241;43m.\u001b[39;49m\u001b[43mas_posix\u001b[49m\u001b[43m(\u001b[49m\u001b[43m)\u001b[49m\u001b[43m)\u001b[49m\n\u001b[0;32m    201\u001b[0m     \u001b[38;5;28;01mreturn\u001b[39;00m \u001b[38;5;28;01mTrue\u001b[39;00m\n",
      "File \u001b[1;32mc:\\Users\\erick\\miniconda3\\envs\\observatorio_ipa\\Lib\\site-packages\\ee\\data.py:551\u001b[0m, in \u001b[0;36mgetAsset\u001b[1;34m(asset_id)\u001b[0m\n\u001b[0;32m    550\u001b[0m name \u001b[38;5;241m=\u001b[39m _cloud_api_utils\u001b[38;5;241m.\u001b[39mconvert_asset_id_to_asset_name(asset_id)\n\u001b[1;32m--> 551\u001b[0m \u001b[38;5;28;01mreturn\u001b[39;00m \u001b[43m_execute_cloud_call\u001b[49m\u001b[43m(\u001b[49m\n\u001b[0;32m    552\u001b[0m \u001b[43m    \u001b[49m\u001b[43m_get_cloud_projects\u001b[49m\u001b[43m(\u001b[49m\u001b[43m)\u001b[49m\u001b[38;5;241;43m.\u001b[39;49m\u001b[43massets\u001b[49m\u001b[43m(\u001b[49m\u001b[43m)\u001b[49m\u001b[38;5;241;43m.\u001b[39;49m\u001b[43mget\u001b[49m\u001b[43m(\u001b[49m\u001b[43mname\u001b[49m\u001b[38;5;241;43m=\u001b[39;49m\u001b[43mname\u001b[49m\u001b[43m,\u001b[49m\u001b[43m \u001b[49m\u001b[43mprettyPrint\u001b[49m\u001b[38;5;241;43m=\u001b[39;49m\u001b[38;5;28;43;01mFalse\u001b[39;49;00m\u001b[43m)\u001b[49m\n\u001b[0;32m    553\u001b[0m \u001b[43m\u001b[49m\u001b[43m)\u001b[49m\n",
      "File \u001b[1;32mc:\\Users\\erick\\miniconda3\\envs\\observatorio_ipa\\Lib\\site-packages\\ee\\data.py:408\u001b[0m, in \u001b[0;36m_execute_cloud_call\u001b[1;34m(call, num_retries)\u001b[0m\n\u001b[0;32m    407\u001b[0m \u001b[38;5;28;01mexcept\u001b[39;00m googleapiclient\u001b[38;5;241m.\u001b[39merrors\u001b[38;5;241m.\u001b[39mHttpError \u001b[38;5;28;01mas\u001b[39;00m e:\n\u001b[1;32m--> 408\u001b[0m   \u001b[38;5;28;01mraise\u001b[39;00m _translate_cloud_exception(e)\n",
      "\u001b[1;31mEEException\u001b[0m: Asset 'projects/ee-observatorionieves/assets/Modules/random_path' does not exist or doesn't allow this operation.",
      "\nDuring handling of the above exception, another exception occurred:\n",
      "\u001b[1;31mValueError\u001b[0m                                Traceback (most recent call last)",
      "Cell \u001b[1;32mIn[11], line 2\u001b[0m\n\u001b[0;32m      1\u001b[0m random_path \u001b[38;5;241m=\u001b[39m \u001b[38;5;124m'\u001b[39m\u001b[38;5;124mprojects/ee-observatorionieves/assets/Modules/random_path\u001b[39m\u001b[38;5;124m'\u001b[39m\n\u001b[1;32m----> 2\u001b[0m random_path_results \u001b[38;5;241m=\u001b[39m \u001b[43massets\u001b[49m\u001b[38;5;241;43m.\u001b[39;49m\u001b[43mlist_assets\u001b[49m\u001b[43m(\u001b[49m\u001b[43mrandom_path\u001b[49m\u001b[43m)\u001b[49m\n",
      "File \u001b[1;32mc:\\Users\\erick\\miniconda3\\envs\\observatorio_ipa\\Lib\\site-packages\\gee_toolbox\\gee\\assets.py:126\u001b[0m, in \u001b[0;36mlist_assets\u001b[1;34m(parent, asset_types, recursive, inclusive, expand_image_collections, image_collections_exclusively)\u001b[0m\n\u001b[0;32m    124\u001b[0m \u001b[38;5;28;01mexcept\u001b[39;00m (\u001b[38;5;167;01mValueError\u001b[39;00m, EEException) \u001b[38;5;28;01mas\u001b[39;00m e:\n\u001b[0;32m    125\u001b[0m     logging\u001b[38;5;241m.\u001b[39merror(e)\n\u001b[1;32m--> 126\u001b[0m     \u001b[38;5;28;01mraise\u001b[39;00m e\n\u001b[0;32m    128\u001b[0m \u001b[38;5;66;03m# If parent is an image collection, expand_image_collections is forced to True\u001b[39;00m\n\u001b[0;32m    129\u001b[0m \u001b[38;5;28;01mif\u001b[39;00m parent_type \u001b[38;5;241m==\u001b[39m \u001b[38;5;124m\"\u001b[39m\u001b[38;5;124mIMAGE_COLLECTION\u001b[39m\u001b[38;5;124m\"\u001b[39m:\n",
      "File \u001b[1;32mc:\\Users\\erick\\miniconda3\\envs\\observatorio_ipa\\Lib\\site-packages\\gee_toolbox\\gee\\assets.py:121\u001b[0m, in \u001b[0;36mlist_assets\u001b[1;34m(parent, asset_types, recursive, inclusive, expand_image_collections, image_collections_exclusively)\u001b[0m\n\u001b[0;32m    119\u001b[0m \u001b[38;5;28;01mtry\u001b[39;00m:\n\u001b[0;32m    120\u001b[0m     _parent \u001b[38;5;241m=\u001b[39m Asset(parent)\n\u001b[1;32m--> 121\u001b[0m     parent_type \u001b[38;5;241m=\u001b[39m \u001b[43m_parent\u001b[49m\u001b[38;5;241;43m.\u001b[39;49m\u001b[43mtype\u001b[49m\n\u001b[0;32m    122\u001b[0m     \u001b[38;5;28;01mif\u001b[39;00m parent_type \u001b[38;5;129;01mnot\u001b[39;00m \u001b[38;5;129;01min\u001b[39;00m [\u001b[38;5;124m\"\u001b[39m\u001b[38;5;124mFOLDER\u001b[39m\u001b[38;5;124m\"\u001b[39m, \u001b[38;5;124m\"\u001b[39m\u001b[38;5;124mIMAGE_COLLECTION\u001b[39m\u001b[38;5;124m\"\u001b[39m]:\n\u001b[0;32m    123\u001b[0m         \u001b[38;5;28;01mraise\u001b[39;00m \u001b[38;5;167;01mValueError\u001b[39;00m(\u001b[38;5;124m\"\u001b[39m\u001b[38;5;124mPath provided is not a Folder or Image Collection\u001b[39m\u001b[38;5;124m\"\u001b[39m)\n",
      "File \u001b[1;32mc:\\Users\\erick\\miniconda3\\envs\\observatorio_ipa\\Lib\\site-packages\\geetools\\ee_asset.py:402\u001b[0m, in \u001b[0;36mAsset.type\u001b[1;34m(self)\u001b[0m\n\u001b[0;32m    392\u001b[0m \u001b[38;5;129m@property\u001b[39m\n\u001b[0;32m    393\u001b[0m \u001b[38;5;28;01mdef\u001b[39;00m \u001b[38;5;21mtype\u001b[39m(\u001b[38;5;28mself\u001b[39m) \u001b[38;5;241m-\u001b[39m\u001b[38;5;241m>\u001b[39m \u001b[38;5;28mstr\u001b[39m:\n\u001b[0;32m    394\u001b[0m \u001b[38;5;250m    \u001b[39m\u001b[38;5;124;03m\"\"\"Return the asset type.\u001b[39;00m\n\u001b[0;32m    395\u001b[0m \n\u001b[0;32m    396\u001b[0m \u001b[38;5;124;03m    Examples:\u001b[39;00m\n\u001b[1;32m   (...)\u001b[0m\n\u001b[0;32m    400\u001b[0m \u001b[38;5;124;03m            asset.type\u001b[39;00m\n\u001b[0;32m    401\u001b[0m \u001b[38;5;124;03m    \"\"\"\u001b[39;00m\n\u001b[1;32m--> 402\u001b[0m     \u001b[38;5;28;43mself\u001b[39;49m\u001b[38;5;241;43m.\u001b[39;49m\u001b[43mexists\u001b[49m\u001b[43m(\u001b[49m\u001b[43mraised\u001b[49m\u001b[38;5;241;43m=\u001b[39;49m\u001b[38;5;28;43;01mTrue\u001b[39;49;00m\u001b[43m)\u001b[49m\n\u001b[0;32m    403\u001b[0m     \u001b[38;5;28;01mreturn\u001b[39;00m ee\u001b[38;5;241m.\u001b[39mdata\u001b[38;5;241m.\u001b[39mgetAsset(\u001b[38;5;28mself\u001b[39m\u001b[38;5;241m.\u001b[39mas_posix())[\u001b[38;5;124m\"\u001b[39m\u001b[38;5;124mtype\u001b[39m\u001b[38;5;124m\"\u001b[39m]\n",
      "File \u001b[1;32mc:\\Users\\erick\\miniconda3\\envs\\observatorio_ipa\\Lib\\site-packages\\geetools\\ee_asset.py:204\u001b[0m, in \u001b[0;36mAsset.exists\u001b[1;34m(self, raised)\u001b[0m\n\u001b[0;32m    202\u001b[0m \u001b[38;5;28;01mexcept\u001b[39;00m ee\u001b[38;5;241m.\u001b[39mEEException:\n\u001b[0;32m    203\u001b[0m     \u001b[38;5;28;01mif\u001b[39;00m raised \u001b[38;5;129;01mis\u001b[39;00m \u001b[38;5;28;01mTrue\u001b[39;00m:\n\u001b[1;32m--> 204\u001b[0m         \u001b[38;5;28;01mraise\u001b[39;00m \u001b[38;5;167;01mValueError\u001b[39;00m(\u001b[38;5;124mf\u001b[39m\u001b[38;5;124m\"\u001b[39m\u001b[38;5;124mAsset \u001b[39m\u001b[38;5;132;01m{\u001b[39;00m\u001b[38;5;28mself\u001b[39m\u001b[38;5;241m.\u001b[39mas_posix()\u001b[38;5;132;01m}\u001b[39;00m\u001b[38;5;124m does not exist.\u001b[39m\u001b[38;5;124m\"\u001b[39m)\n\u001b[0;32m    205\u001b[0m     \u001b[38;5;28;01melse\u001b[39;00m:\n\u001b[0;32m    206\u001b[0m         \u001b[38;5;28;01mreturn\u001b[39;00m \u001b[38;5;28;01mFalse\u001b[39;00m\n",
      "\u001b[1;31mValueError\u001b[0m: Asset projects/ee-observatorionieves/assets/Modules/random_path does not exist."
     ]
    }
   ],
   "source": [
    "random_path = 'projects/ee-observatorionieves/assets/Modules/random_path'\n",
    "random_path_results = assets.list_assets(random_path)\n"
   ]
  },
  {
   "cell_type": "code",
   "execution_count": 10,
   "metadata": {},
   "outputs": [
    {
     "ename": "NameError",
     "evalue": "name 'random_path_results' is not defined",
     "output_type": "error",
     "traceback": [
      "\u001b[1;31m---------------------------------------------------------------------------\u001b[0m",
      "\u001b[1;31mNameError\u001b[0m                                 Traceback (most recent call last)",
      "Cell \u001b[1;32mIn[10], line 1\u001b[0m\n\u001b[1;32m----> 1\u001b[0m \u001b[43mrandom_path_results\u001b[49m \n",
      "\u001b[1;31mNameError\u001b[0m: name 'random_path_results' is not defined"
     ]
    }
   ],
   "source": [
    "random_path_results "
   ]
  },
  {
   "cell_type": "code",
   "execution_count": 12,
   "metadata": {},
   "outputs": [
    {
     "name": "stdout",
     "output_type": "stream",
     "text": [
      "First Terra image: 2003-01-01\n",
      "Last Terra image: 2024-12-14\n",
      "Count of Terra images: 7989\n",
      "\n",
      "First Aqua image: 2003-01-01\n",
      "Last Aqua image: 2024-12-14\n",
      "Count of Aqua images: 8002\n"
     ]
    }
   ],
   "source": [
    "# Get MODIS Terra and Aqua Image Collections and respective image dates\n",
    "monthly_prefix = \"MCD10A1_Andes_T48_\"\n",
    "export_ini = \"2003-01-01\"\n",
    "export_end = today = datetime.today().strftime('%Y-%m-%d')\n",
    "\n",
    "ee_terra_ic = ee.imagecollection.ImageCollection(\n",
    "    \"MODIS/061/MOD10A1\"\n",
    ").filterDate(export_ini, export_end)\n",
    "\n",
    "ee_aqua_ic = ee.imagecollection.ImageCollection(\n",
    "    \"MODIS/061/MYD10A1\"\n",
    ").filterDate(export_ini, export_end)\n",
    "\n",
    "\n",
    "terra_image_dates = get_collection_dates(ee_terra_ic)\n",
    "print(f\"First Terra image: {terra_image_dates[0]}\")\n",
    "print(f\"Last Terra image: {terra_image_dates[-1]}\")\n",
    "print(f\"Count of Terra images: {len(terra_image_dates)}\\n\")\n",
    "\n",
    "aqua_image_dates = get_collection_dates(ee_aqua_ic)\n",
    "print(f\"First Aqua image: {aqua_image_dates[0]}\")\n",
    "print(f\"Last Aqua image: {aqua_image_dates[-1]}\")\n",
    "print(f\"Count of Aqua images: {len(aqua_image_dates)}\")\n"
   ]
  },
  {
   "cell_type": "markdown",
   "metadata": {},
   "source": [
    "Generate names of yearly images "
   ]
  },
  {
   "cell_type": "code",
   "execution_count": 13,
   "metadata": {},
   "outputs": [
    {
     "name": "stdout",
     "output_type": "stream",
     "text": [
      "[2003, 2004, 2005, 2006, 2007, 2008, 2009, 2010, 2011, 2012, 2013, 2014, 2015, 2016, 2017, 2018, 2019, 2020, 2021, 2022, 2023, 2024]\n",
      "MCD10A1_Andes_T48_Y_2003\n",
      "MCD10A1_Andes_T48_Y_2024\n",
      "22\n",
      "MCD10A1_Andes_T48_Y_2024\n",
      "MCD10A1_Andes_T48_Y_2023\n",
      "21\n"
     ]
    }
   ],
   "source": [
    "monthly_prefix = \"MCD10A1_Andes_T48_Y_\"\n",
    "years = list(range(2003, datetime.today().year+1))\n",
    "print(years)\n",
    "year_images=[monthly_prefix+str(year) for year in years]\n",
    "print(year_images[0])\n",
    "print(year_images[-1])\n",
    "print(len(year_images))\n",
    "# Remove current year \n",
    "current_year_img = monthly_prefix+str(datetime.today().year)\n",
    "print(current_year_img)\n",
    "year_images.remove(current_year_img)\n",
    "print(year_images[-1])\n",
    "print(len(year_images))"
   ]
  },
  {
   "cell_type": "code",
   "execution_count": null,
   "metadata": {},
   "outputs": [],
   "source": []
  },
  {
   "cell_type": "markdown",
   "metadata": {},
   "source": [
    "## Monthly Images\n",
    "\n",
    "Generate names of monthly images"
   ]
  },
  {
   "cell_type": "code",
   "execution_count": 14,
   "metadata": {},
   "outputs": [
    {
     "name": "stdout",
     "output_type": "stream",
     "text": [
      "2003-01\n",
      "Andes_MCDS4S5_Yearly_Monthly_2003_01\n",
      "Andes_MCDS4S5_Yearly_Monthly_2024_11\n",
      "263\n"
     ]
    }
   ],
   "source": [
    "monthly_prefix = 'Andes_MCDS4S5_Yearly_Monthly'\n",
    "months_suffix = [str(month).zfill(2) for month in range(1,13)] \n",
    "year_month_suffix = [str(year)+'-'+month for year in years for month in months_suffix]\n",
    "# remove current month.\n",
    "year_month_suffix.remove(str(datetime.today().year)+'-'+str(datetime.today().month).zfill(2))\n",
    "print(year_month_suffix[0])\n",
    "\n",
    "year_months_images=[monthly_prefix+'_'+month.replace(\"-\",\"_\") for month in year_month_suffix]\n",
    "print(year_months_images[0])\n",
    "print(year_months_images[-1])\n",
    "print(len(year_months_images))\n"
   ]
  },
  {
   "cell_type": "markdown",
   "metadata": {},
   "source": [
    "Get Year-month from exported monthly images"
   ]
  },
  {
   "cell_type": "code",
   "execution_count": 15,
   "metadata": {},
   "outputs": [
    {
     "name": "stdout",
     "output_type": "stream",
     "text": [
      "2000-02\n"
     ]
    }
   ],
   "source": [
    "# Get names of monthly images already exported to assets\n",
    "exported_monthly_images = assets.list_assets(parent=legacy_monthly_ic_path, asset_types=[\"Image\"])\n",
    "exported_monthly_images = assets.get_asset_names(exported_monthly_images)\n",
    "\n",
    "# Remove path from asset names\n",
    "exported_monthly_images = [img.split('/')[-1] for img in exported_monthly_images]\n",
    "\n",
    "# TODO: Remove images that don't start with required suffix\n",
    "\n",
    "# Get last 6 characters of asset names (Year-month)\n",
    "exported_monthly_images = [img[-7:] for img in exported_monthly_images]\n",
    "\n",
    "# # replace underscores with dashes (Year-month)\n",
    "exported_monthly_images = [img.replace('_', '-') for img in exported_monthly_images]\n",
    "print(exported_monthly_images[0])"
   ]
  },
  {
   "cell_type": "code",
   "execution_count": 16,
   "metadata": {},
   "outputs": [
    {
     "name": "stdout",
     "output_type": "stream",
     "text": [
      "['2024-11']\n"
     ]
    }
   ],
   "source": [
    "# Identify Monthly images not yet exported \n",
    "monthly_images_to_export = list(set(year_month_suffix) - set(exported_monthly_images))\n",
    "print(monthly_images_to_export)"
   ]
  },
  {
   "cell_type": "markdown",
   "metadata": {},
   "source": [
    "From the list of months pending to export, verify if the required information for the month is available otherwise skip export for that month. \n",
    "\n",
    "This mostly checks if images >= max leading date exist for the month before current calendar date. For older months this will always be true and for current month, this will always be false. "
   ]
  },
  {
   "cell_type": "code",
   "execution_count": 17,
   "metadata": {},
   "outputs": [
    {
     "name": "stdout",
     "output_type": "stream",
     "text": [
      "Target month: 2024-11\n",
      "First day in Month: 2024-11-01\n",
      "Last day in Month: 2024-11-30\n",
      "Trailing dates: ['2024-10-30', '2024-10-31']\n",
      "Leading dates: ['2024-12-01', '2024-12-02']\n",
      "Max leading date: 2024-12-02\n",
      "Min trailing date: 2024-10-30\n",
      "Leading dates available\n",
      "\n",
      "\n",
      "target months to keep: ['2024-11']\n",
      "Dates to filter IC: 34\n",
      "first in filtered dates: 2024-10-30\n",
      "last in filtered dates: 2024-12-02\n"
     ]
    }
   ],
   "source": [
    "target_months_to_keep = []\n",
    "dates_to_filter_ic = []\n",
    "\n",
    "for target_month in monthly_images_to_export:\n",
    "    print(f\"Target month: {target_month}\")\n",
    "\n",
    "    # Get first and last day in the month\n",
    "    first_day_month = date.fromisoformat(target_month+'-01')\n",
    "    print(f\"First day in Month: {first_day_month}\")\n",
    "\n",
    "    last_day_month = first_day_month + relativedelta(months=1, days=-1)\n",
    "    print(f\"Last day in Month: {last_day_month}\")\n",
    "\n",
    "    # Get trailing and leading dates (+-2 days)\n",
    "    trailing_buffer=2\n",
    "    trailing_dates = [str(first_day_month - relativedelta(days=i)) for i in range(1,trailing_buffer+1)]\n",
    "    trailing_dates.sort()\n",
    "    print(f\"Trailing dates: {trailing_dates}\")\n",
    "\n",
    "\n",
    "    leading_buffer=2\n",
    "    leading_dates = [str(last_day_month + relativedelta(days=i)) for i in range(1,leading_buffer+1)]\n",
    "    leading_dates.sort()\n",
    "    print(f\"Leading dates: {leading_dates}\")\n",
    "    \n",
    "    max_leading_date = max(leading_dates)\n",
    "    print(f\"Max leading date: {max_leading_date}\")\n",
    "    min_trailing_date = min(trailing_dates) \n",
    "    print(f\"Min trailing date: {min_trailing_date}\")\n",
    "\n",
    "\n",
    "    # Check if leading dates are available to determine if month is \"complete\"\n",
    "    # No need to check trailing dates because it's implicit that past images are available\n",
    "    # TODO: Simplify this and only check if images >= max leading date are available\n",
    "    if (all([date in terra_image_dates for date in leading_dates])):\n",
    "        print(\"Leading dates available\")\n",
    "        keep_target_month = True\n",
    "        \n",
    "    else:\n",
    "        # check if there are other images after the leading dates\n",
    "        print(\"Leading dates not available\")\n",
    "        bigger_dates = [date for date in terra_image_dates if date > max_leading_date]\n",
    "        if bigger_dates:\n",
    "            print(\"There are images after the leading dates\")\n",
    "            print(bigger_dates)\n",
    "            keep_target_month = True\n",
    "        else:\n",
    "            print(\"There are no images after the leading dates\")\n",
    "            keep_target_month = False\n",
    "\n",
    "    # If month is to be exported, get all dates to filter IC\n",
    "    if keep_target_month:\n",
    "        target_months_to_keep.append(target_month)\n",
    "        # Get all terra dates between first day of month - buffer and last day of month + buffer\n",
    "        available_terra_dates = [\n",
    "            date\n",
    "            for date in terra_image_dates\n",
    "            if date >= min_trailing_date and date <= max_leading_date\n",
    "        ]\n",
    "        dates_to_filter_ic.extend(available_terra_dates)\n",
    "\n",
    "print(f\"\\n\")\n",
    "print(f\"target months to keep: {target_months_to_keep}\")\n",
    "print(f\"Dates to filter IC: {len(dates_to_filter_ic)}\")\n",
    "print(f\"first in filtered dates: {dates_to_filter_ic[0]}\")\n",
    "print(f\"last in filtered dates: {dates_to_filter_ic[-1]}\")"
   ]
  },
  {
   "cell_type": "code",
   "execution_count": 18,
   "metadata": {},
   "outputs": [
    {
     "name": "stdout",
     "output_type": "stream",
     "text": [
      "Terra and Aqua have the same amount of images\n",
      "Terra: 34\n",
      "Aqua: 34\n"
     ]
    }
   ],
   "source": [
    "# Verify which required dates are available in Terra and Aqua\n",
    "terra_dates_to_keep = [date for date in terra_image_dates if date in dates_to_filter_ic]\n",
    "aqua_dates_to_keep = [date for date in aqua_image_dates if date in dates_to_filter_ic]  \n",
    "\n",
    "# Check if Terra and Aqua have same amount of images\n",
    "if len(terra_dates_to_keep) != len(aqua_dates_to_keep):\n",
    "    print(\"Terra and Aqua have different amount of images\")\n",
    "    print(f\"Terra: {len(terra_dates_to_keep)}\")\n",
    "    print(f\"Aqua: {len(aqua_dates_to_keep)}\")\n",
    "    # Check if there are missing dates in Terra or Aqua\n",
    "    missing_aqua_dates = list(set(terra_dates_to_keep) - set(aqua_dates_to_keep))\n",
    "    print(f\"Missing dates ({len(missing_aqua_dates)}): {missing_aqua_dates}\")\n",
    "    # Check if there are missing dates in Aqua or Terra\n",
    "    missing_terra_dates = list(set(aqua_dates_to_keep) - set(terra_dates_to_keep))\n",
    "    print(f\"Missing dates ({len(missing_terra_dates)}): {missing_terra_dates}\")\n",
    "else:\n",
    "    print(\"Terra and Aqua have the same amount of images\")\n",
    "    print(f\"Terra: {len(terra_dates_to_keep)}\")\n",
    "    print(f\"Aqua: {len(aqua_dates_to_keep)}\")"
   ]
  },
  {
   "cell_type": "markdown",
   "metadata": {},
   "source": [
    "Reduce original MODIS Terra and Aqua collections to required images only"
   ]
  },
  {
   "cell_type": "code",
   "execution_count": 19,
   "metadata": {},
   "outputs": [
    {
     "name": "stdout",
     "output_type": "stream",
     "text": [
      "Original Terra IC: 7989\n",
      "filtered Terra IC: 34\n"
     ]
    }
   ],
   "source": [
    "# Applying date filter to Terra\n",
    "ee_filtered_terra_ic = filter_collection_by_dates(ee_terra_ic, dates_to_filter_ic)\n",
    "print(f\"Original Terra IC: {ee_terra_ic.size().getInfo()}\")\n",
    "print(f\"filtered Terra IC: {ee_filtered_terra_ic.size().getInfo()}\")"
   ]
  },
  {
   "cell_type": "code",
   "execution_count": 20,
   "metadata": {},
   "outputs": [
    {
     "name": "stdout",
     "output_type": "stream",
     "text": [
      "Original Aqua IC: 8002\n",
      "filtered Aqua IC: 34\n"
     ]
    }
   ],
   "source": [
    "# Applying date filter to Aqua\n",
    "ee_filtered_aqua_ic = filter_collection_by_dates(ee_aqua_ic, dates_to_filter_ic)\n",
    "print(f\"Original Aqua IC: {ee_aqua_ic.size().getInfo()}\")\n",
    "print(f\"filtered Aqua IC: {ee_filtered_aqua_ic.size().getInfo()}\")"
   ]
  },
  {
   "cell_type": "markdown",
   "metadata": {},
   "source": [
    "Process Terra and Aqua images"
   ]
  },
  {
   "cell_type": "code",
   "execution_count": 21,
   "metadata": {},
   "outputs": [],
   "source": [
    "# Step 0 : Reclassify Landcover for Terra and Aqua\n",
    "MODstep00 = binary.ic_snow_landcover_reclass(\n",
    "    ee_filtered_terra_ic, ee_aoi_fc, 40\n",
    ")  \n",
    "\n",
    "\n",
    "MYDstep00 = binary.ic_snow_landcover_reclass(\n",
    "    ee_filtered_aqua_ic, ee_aoi_fc, 40\n",
    ")  \n"
   ]
  },
  {
   "cell_type": "code",
   "execution_count": 147,
   "metadata": {},
   "outputs": [
    {
     "data": {
      "text/plain": [
       "<module 'observatorio_ipa.merge' from 'C:\\\\Users\\\\erick\\\\Documents\\\\Projects\\\\teleamb\\\\observatorio_ipa\\\\src\\\\observatorio_ipa\\\\merge.py'>"
      ]
     },
     "execution_count": 147,
     "metadata": {},
     "output_type": "execute_result"
    }
   ],
   "source": [
    "importlib.reload(merge)"
   ]
  },
  {
   "cell_type": "code",
   "execution_count": 22,
   "metadata": {},
   "outputs": [
    {
     "name": "stdout",
     "output_type": "stream",
     "text": [
      "step01: 34\n",
      "step01: ['TAC', 'QA_CR']\n"
     ]
    }
   ],
   "source": [
    "# step 1: Merge TERRA and AQUA collections\n",
    "step01 = merge.merge(MODstep00, MYDstep00)\n",
    "print(f\"step01: {step01.size().getInfo()}\")\n",
    "print(f\"step01: {step01.first().bandNames().getInfo()}\")"
   ]
  },
  {
   "cell_type": "code",
   "execution_count": 23,
   "metadata": {},
   "outputs": [
    {
     "name": "stdout",
     "output_type": "stream",
     "text": [
      "Dates in step01: 34\n",
      "Dates with buffer: 30\n"
     ]
    }
   ],
   "source": [
    "# Only keep dates that have trailing and leading buffer images\n",
    "# This is done to prevent errors for images that don't have leading and trailing images. \n",
    "# get dates of images from step01\n",
    "step01_dates = get_collection_dates(step01)\n",
    "# keep only dates that have trailing and leading images\n",
    "keep_dates = []\n",
    "for target_date in step01_dates:\n",
    "    step01_dates_buffer = get_buffer_dates(target_date, buffer_days=2)\n",
    "    if all([date in step01_dates for date in step01_dates_buffer]):\n",
    "        keep_dates.append(target_date)\n",
    "\n",
    "print(f\"Dates in step01: {len(step01_dates)}\")\n",
    "print(f\"Dates with buffer: {len(keep_dates)}\")\n"
   ]
  },
  {
   "cell_type": "code",
   "execution_count": 24,
   "metadata": {},
   "outputs": [
    {
     "data": {
      "text/plain": [
       "30"
      ]
     },
     "execution_count": 24,
     "metadata": {},
     "output_type": "execute_result"
    }
   ],
   "source": [
    "# Convert list of dates to ee_list in milliseconds\n",
    "# this is done in two steps. First convert ee_List of to ee_date to get dates in milliseconds\n",
    "# then download the list and convert to a simple ee_list of numbers. \n",
    "ee_keep_dates_list = ee.ee_list.List([ee.ee_date.Date(_date) for _date in keep_dates])\n",
    "keep_dates_list = ee_keep_dates_list.getInfo()\n",
    "if keep_dates_list:\n",
    "    keep_dates_list = [item['value'] for item in keep_dates_list]\n",
    "else:\n",
    "    keep_dates_list = []\n",
    "ee_keep_dates_list = ee.ee_list.List(keep_dates_list)\n",
    "ee_keep_dates_list.length().getInfo()"
   ]
  },
  {
   "cell_type": "code",
   "execution_count": 187,
   "metadata": {},
   "outputs": [
    {
     "data": {
      "text/plain": [
       "<module 'observatorio_ipa.temporal' from 'C:\\\\Users\\\\erick\\\\Documents\\\\Projects\\\\teleamb\\\\observatorio_ipa\\\\src\\\\observatorio_ipa\\\\temporal.py'>"
      ]
     },
     "execution_count": 187,
     "metadata": {},
     "output_type": "execute_result"
    }
   ],
   "source": [
    "importlib.reload(temporal)"
   ]
  },
  {
   "cell_type": "code",
   "execution_count": null,
   "metadata": {},
   "outputs": [
    {
     "name": "stdout",
     "output_type": "stream",
     "text": [
      "Imputed 11: 30\n",
      "Imputed 11: ['TAC', 'QA_CR']\n",
      "Imputed 21: 30\n",
      "Imputed 21: ['TAC', 'QA_CR']\n",
      "Imputed 12: 30\n",
      "Imputed 12: ['TAC', 'QA_CR']\n"
     ]
    }
   ],
   "source": [
    "# step 2: Impute TAC values from temporal time series\n",
    "step02 = temporal.ic_impute_tac_temporal(step01)\n",
    "print(f\"step02: {step02.size().getInfo()}\")\n",
    "print(f\"step02: {step02.first().bandNames().getInfo()}\")"
   ]
  },
  {
   "cell_type": "code",
   "execution_count": 26,
   "metadata": {},
   "outputs": [
    {
     "name": "stdout",
     "output_type": "stream",
     "text": [
      "step04: 30\n",
      "step04: ['TAC', 'QA_CR']\n"
     ]
    }
   ],
   "source": [
    "# Step 4: Impute TAC values from spatial neighbors\n",
    "step04 = spatial_4.ic_impute_TAC_spatial4(step02)\n",
    "print(f\"step04: {step04.size().getInfo()}\")\n",
    "print(f\"step04: {step04.first().bandNames().getInfo()}\")"
   ]
  },
  {
   "cell_type": "code",
   "execution_count": 27,
   "metadata": {},
   "outputs": [
    {
     "name": "stdout",
     "output_type": "stream",
     "text": [
      "step05: 30\n",
      "step05: ['TAC', 'QA_CR']\n"
     ]
    }
   ],
   "source": [
    "# Step 5: Impute TAC values using DEM and TAC data for spatial neighboring pixels\n",
    "step05 = spatial_8.ic_impute_tac_spatial_dem(step04, ee_dem_img)\n",
    "print(f\"step05: {step05.size().getInfo()}\")\n",
    "print(f\"step05: {step05.first().bandNames().getInfo()}\")"
   ]
  },
  {
   "cell_type": "code",
   "execution_count": 28,
   "metadata": {},
   "outputs": [],
   "source": [
    "def split_cloud_snow_bands(image):\n",
    "    \"\"\"\n",
    "    add separate mask bands for cloud and snow that are mutually exclusive\n",
    "\n",
    "    Each new band is a binary mask (0, 100) where 0 is the absence of the feature and 100 is the presence of the feature.\n",
    "    If pixel value is a cloud, then Cloud_TAC = 100 and Snow_TAC = 0\n",
    "    if pixel value is snow, then Cloud_TAC = 0 and Snow_TAC = 100\n",
    "\n",
    "    \"\"\"\n",
    "    #! Why is it setting system:time_start again, if it's already starting with original image?\n",
    "    #! Why add QA again if it's not used later and it's the same as QA_CR?\n",
    "    Ctac = image.select(\"TAC\").eq(0).multiply(100).rename(\"Cloud_TAC\")\n",
    "    Stac = image.select(\"TAC\").eq(100).multiply(100).rename(\"Snow_TAC\")\n",
    "\n",
    "    return (\n",
    "        image.addBands(Ctac)\n",
    "        .addBands(Stac)\n",
    "        .set(\"system:time_start\", image.get(\"system:time_start\"))\n",
    "    )\n",
    "\n",
    "\n",
    "cloudSnowCollection = step04.map(split_cloud_snow_bands).select(\"Cloud_TAC\", \"Snow_TAC\", \"QA_CR\")\n",
    "print(f\"cloudSnowCollection: {cloudSnowCollection.size().getInfo()}\")\n",
    "print(f\"cloudSnowCollection: {cloudSnowCollection.first().bandNames().getInfo()}\")"
   ]
  },
  {
   "cell_type": "markdown",
   "metadata": {},
   "source": [
    "Reduce collections to Monthly Images"
   ]
  },
  {
   "cell_type": "code",
   "execution_count": null,
   "metadata": {},
   "outputs": [
    {
     "name": "stdout",
     "output_type": "stream",
     "text": [
      "TACbyYearMonth: 1\n",
      "TACbyYearMonth: ['Snow_TAC', 'Cloud_TAC']\n"
     ]
    }
   ],
   "source": [
    "# Consolidate to monthly images and Calculate monthly means of Snow_TAC and Cloud_TAC bands\n",
    "def monthly_mean(ym):\n",
    "    ym=ee.ee_string.String(ym)\n",
    "    i_year = ee.ee_number.Number.parse(ym.slice(0, 4))\n",
    "    i_month = ee.ee_number.Number.parse(ym.slice(5))\n",
    "\n",
    "    selected = cloudSnowCollection.filter(\n",
    "        ee.filter.Filter.calendarRange(i_year, i_year, \"year\")\n",
    "    ).filter(ee.filter.Filter.calendarRange(i_month, i_month, \"month\"))\n",
    "\n",
    "    Snow_mean = selected.select(\"Snow_TAC\").mean()\n",
    "    Cloud_mean = selected.select(\"Cloud_TAC\").mean()\n",
    "    imageReturn = ee.image.Image([Snow_mean, Cloud_mean]).clip(ee_aoi_fc)\n",
    "\n",
    "    return (\n",
    "        imageReturn.set(\"year\", i_year)\n",
    "        .set(\"month\", i_month)\n",
    "        .set(\"system:time_start\", ee.ee_date.Date.fromYMD(i_year, i_month, 1).millis())\n",
    "    )\n",
    "\n",
    "ee_monthly_imgs_list = ee.ee_list.List(monthly_images_to_export)\n",
    "TACbyYearMonth = ee.imagecollection.ImageCollection.fromImages(\n",
    "    ee_monthly_imgs_list.map(monthly_mean)\n",
    ")\n",
    "\n",
    "print(f\"TACbyYearMonth: {TACbyYearMonth.size().getInfo()}\")\n",
    "print(f\"TACbyYearMonth: {TACbyYearMonth.first().bandNames().getInfo()}\")"
   ]
  },
  {
   "cell_type": "code",
   "execution_count": 30,
   "metadata": {},
   "outputs": [
    {
     "data": {
      "text/plain": [
       "['2024-11-01']"
      ]
     },
     "execution_count": 30,
     "metadata": {},
     "output_type": "execute_result"
    }
   ],
   "source": [
    "# Check dates of images in TACbyYearMonth\n",
    "TACbyYearMonth_dates = get_collection_dates(TACbyYearMonth)\n",
    "TACbyYearMonth_dates.sort()\n",
    "TACbyYearMonth_dates"
   ]
  },
  {
   "cell_type": "code",
   "execution_count": null,
   "metadata": {},
   "outputs": [
    {
     "name": "stdout",
     "output_type": "stream",
     "text": [
      "Image name: MCD10A1_Andes_T48_2024_11\n"
     ]
    }
   ],
   "source": [
    "from observatorio_ipa.defaults import DEFAULT_SCALE, DEFAULT_CHI_PROJECTION\n",
    "\n",
    "export_tasks = []\n",
    "image_name = \"\"\n",
    "for month in TACbyYearMonth_dates:\n",
    "    try:\n",
    "        ee_image = TACbyYearMonth.filterDate(month).first()\n",
    "        image_ym = get_image_date(ee_image)\n",
    "        image_name = monthly_prefix + image_ym[0:7].replace(\"-\", \"_\")\n",
    "        print(f\"Image name: {image_name}\")\n",
    "    \n",
    "    \n",
    "        ee_task = ee.batch.Export.image.toAsset(\n",
    "            image=ee_image,\n",
    "            description = image_name,\n",
    "            assetId= pathlib.Path(\n",
    "                            legacy_monthly_ic_path, image_name\n",
    "                        ).as_posix(),\n",
    "            region=ee_aoi_fc,\n",
    "            scale=DEFAULT_SCALE,\n",
    "            crs=DEFAULT_CHI_PROJECTION,\n",
    "            max_pixels=180000000\n",
    "        )\n",
    "\n",
    "        export_tasks.append(\n",
    "                {\"task\": ee_task, \"target\": \"GEE Asset\", \"image\": image_name}\n",
    "            )\n",
    "    except:\n",
    "        logger.error(f\"Error creating export task for {image_name}\")\n",
    "    "
   ]
  },
  {
   "cell_type": "code",
   "execution_count": null,
   "metadata": {},
   "outputs": [],
   "source": [
    "# Start tasks\n",
    "for task in export_tasks:\n",
    "    try:\n",
    "        task[\"task\"].start()\n",
    "    except Exception as e:\n",
    "        msg = f\"Export Task failed for {task['target']} {task['image']}: {task['task']}\"\n",
    "        logger.error(e)"
   ]
  },
  {
   "cell_type": "code",
   "execution_count": null,
   "metadata": {},
   "outputs": [],
   "source": [
    "# Check exports until all are complete or fail\n",
    "export_running = True\n",
    "tasks_finished = []\n",
    "final_task_status = []\n",
    "finished_status = [\"COMPLETED\", \"FAILED\", \"CANCELLED\", \"FAILED\", \"UNSUBMITTED\"]\n",
    "pending_status = [\"SUBMITTED\", \"READY\", \"RUNNING\"]\n",
    "while export_running:\n",
    "    # Assume all finished unless told otherwise\n",
    "    export_running = False\n",
    "    for i, task in enumerate(export_tasks):\n",
    "        if i not in tasks_finished:\n",
    "            status = task[\"task\"].status()\n",
    "            msg = f\"{task['image']} to {task['target']}: {status['state']}\"\n",
    "            if status[\"state\"] in pending_status:\n",
    "                # keep loop running if there's at least one unfinished task\n",
    "                export_running = True\n",
    "            elif status[\"state\"] in finished_status:\n",
    "                final_task_status.append(msg)\n",
    "                tasks_finished.append(i)\n",
    "    if export_running:\n",
    "        sleep(60)"
   ]
  },
  {
   "cell_type": "code",
   "execution_count": 200,
   "metadata": {},
   "outputs": [
    {
     "data": {
      "text/plain": [
       "[{'name': 'projects/ee-observatorionieves/assets/Modules/Andes',\n",
       "  'type': 'TABLE'},\n",
       " {'name': 'projects/ee-observatorionieves/assets/Modules/DEM_SRTM_reproj_MODIS_463_Andes',\n",
       "  'type': 'IMAGE'}]"
      ]
     },
     "execution_count": 200,
     "metadata": {},
     "output_type": "execute_result"
    }
   ],
   "source": [
    "assets.list_assets(\n",
    "    parent=\"projects/ee-observatorionieves/assets/Modules\"\n",
    ")"
   ]
  },
  {
   "cell_type": "markdown",
   "metadata": {},
   "source": [
    "Some daily images might be missing in MODIS Terra or Aqua IC. So we will generate the daily image names from MODIS directly\n"
   ]
  },
  {
   "cell_type": "code",
   "execution_count": 15,
   "metadata": {},
   "outputs": [
    {
     "name": "stdout",
     "output_type": "stream",
     "text": [
      "Missing in Terra (30): ['2003-12-17', '2003-12-18', '2003-12-19', '2003-12-20', '2003-12-21', '2003-12-22', '2003-12-23', '2008-12-21', '2008-12-22', '2016-02-19', '2016-02-20', '2016-02-21', '2016-02-22', '2016-02-23', '2016-02-24', '2016-02-25', '2016-02-26', '2016-02-27', '2022-10-11', '2022-10-12', '2022-10-13', '2022-10-14', '2022-10-15', '2022-10-16', '2022-10-17', '2022-10-18', '2022-10-19', '2022-10-20', '2022-10-21', '2022-10-22']\n",
      "Missing in Aqua (17): ['2022-04-01', '2022-04-02', '2022-04-03', '2022-04-04', '2022-04-05', '2022-04-06', '2022-04-07', '2022-04-08', '2022-04-09', '2022-04-10', '2022-04-11', '2022-04-12', '2022-04-13', '2022-04-14', '2022-04-15', '2022-04-16', '2024-12-12']\n"
     ]
    }
   ],
   "source": [
    "#! Terra and Aqua don't have the same amount of images in same interval\n",
    "#! What to do when images are missing in one of the collections?\n",
    "missing_in_terra = list(set(aqua_image_dates) - set(terra_image_dates))\n",
    "missing_in_aqua = list(set(terra_image_dates) - set(aqua_image_dates))\n",
    "missing_in_terra.sort()\n",
    "missing_in_aqua.sort()  \n",
    "print(f\"Missing in Terra ({len(missing_in_terra)}): {missing_in_terra}\")\n",
    "print(f\"Missing in Aqua ({len(missing_in_aqua)}): {missing_in_aqua}\")"
   ]
  },
  {
   "cell_type": "code",
   "execution_count": 13,
   "metadata": {},
   "outputs": [
    {
     "name": "stdout",
     "output_type": "stream",
     "text": [
      "MCD10A1_Andes_T48_2004_03_19\n",
      "Mock daily images: 7985\n",
      "Terra daily images: 7987\n"
     ]
    }
   ],
   "source": [
    "# Mock images in in Assets excluding a few dates\n",
    "exclude_dates = [\"2024-08-01\", \"2024-12-01\"]\n",
    "mock_daily_image_dates = list(set(terra_image_dates) - set(exclude_dates))\n",
    "mock_daily_images = [monthly_prefix + date.replace(\"-\", \"_\") for date in mock_daily_image_dates]\n",
    "print(mock_daily_images[0])\n",
    "print(f\"Mock daily images: {len(mock_daily_images)}\")\n",
    "print(f\"Terra daily images: {len(terra_image_dates)}\")"
   ]
  },
  {
   "cell_type": "code",
   "execution_count": 14,
   "metadata": {},
   "outputs": [
    {
     "name": "stdout",
     "output_type": "stream",
     "text": [
      "Missing daily images: 2\n"
     ]
    }
   ],
   "source": [
    "# exported_daily_images=assets.list_assets(\n",
    "#     parent=legacy_daily_ic_path,\n",
    "#     asset_types=\"Images\"\n",
    "# )\n",
    "\n",
    "\n",
    "exported_daily_images = mock_daily_images\n",
    "\n",
    "# Extract date from asset names YYYY-MM-DD\n",
    "exported_daily_img_dates = [\n",
    "    date[-10:].replace(\"_\", \"-\")\n",
    "    for date in exported_daily_images\n",
    "]\n",
    "\n",
    "# Get missing dates\n",
    "daily_imgs_to_export_dt = list(set(terra_image_dates) - set(exported_daily_img_dates))\n",
    "print(f\"Missing daily images: {len(daily_imgs_to_export_dt)}\")"
   ]
  },
  {
   "cell_type": "code",
   "execution_count": 89,
   "metadata": {},
   "outputs": [
    {
     "name": "stdout",
     "output_type": "stream",
     "text": [
      "2024-12-01: ['2024-11-29', '2024-11-30', '2024-12-02', '2024-12-03']\n",
      "2024-12-01: All Buffer images found\n",
      "2024-08-01: ['2024-07-30', '2024-07-31', '2024-08-02', '2024-08-03']\n",
      "2024-08-01: All Buffer images found\n",
      "Missing daily images: 2\n",
      "Missing daily images with buffer: 2\n"
     ]
    }
   ],
   "source": [
    "# Assess if required buffer images are available otherwise remove target image from list\n",
    "\n",
    "# Get buffer images for missing dates +- 2 days\n",
    "\n",
    "def get_buffer_dates(target_date, buffer_days=2):\n",
    "    target_date_dt = datetime.strptime(target_date, \"%Y-%m-%d\").date()\n",
    "    buffer_dates = [\n",
    "        str(target_date_dt+timedelta(days=delta)) for delta in range(-buffer_days, buffer_days+1)\n",
    "    ]\n",
    "    buffer_dates.remove(target_date)\n",
    "    return buffer_dates\n",
    "\n",
    "buffer_days=2\n",
    "missing_dates_with_buffer = []\n",
    "target_ic_dates=[]\n",
    "for target_date in daily_imgs_to_exoprt_dt:\n",
    "    buffer_dates = get_buffer_dates(target_date, buffer_days)\n",
    "    print(f\"{target_date}: {buffer_dates}\")\n",
    "\n",
    "    # Check if buffer images are in Terra daily images\n",
    "    if (all (date in terra_image_dates for date in buffer_dates)):\n",
    "        print(f\"{target_date}: All Buffer images found\")\n",
    "        missing_dates_with_buffer.append(target_date)\n",
    "        target_ic_dates.append(target_date)\n",
    "        target_ic_dates.extend(buffer_dates)\n",
    "    else:\n",
    "        print(f\"{target_date}: Not all Buffer images found\")\n",
    "        print(\"Missing buffer images\")\n",
    "        missing_buffer_dates = list(set(buffer_dates) - set(terra_image_dates))\n",
    "        print(missing_buffer_dates)\n",
    "\n",
    "print(f\"Missing daily images: {len(missing_dates_with_buffer)}\")\n",
    "print(f\"Missing daily images with buffer: {len(missing_dates_with_buffer)}\")"
   ]
  },
  {
   "cell_type": "code",
   "execution_count": 115,
   "metadata": {},
   "outputs": [
    {
     "data": {
      "text/plain": [
       "['2024-07-30',\n",
       " '2024-07-31',\n",
       " '2024-08-01',\n",
       " '2024-08-02',\n",
       " '2024-08-03',\n",
       " '2024-11-29',\n",
       " '2024-11-30',\n",
       " '2024-12-01',\n",
       " '2024-12-02',\n",
       " '2024-12-03']"
      ]
     },
     "execution_count": 115,
     "metadata": {},
     "output_type": "execute_result"
    }
   ],
   "source": [
    "target_ic_dates.sort()\n",
    "target_ic_dates"
   ]
  },
  {
   "cell_type": "markdown",
   "metadata": {},
   "source": [
    "# Filter Terra Image collection to dates of interest"
   ]
  },
  {
   "cell_type": "code",
   "execution_count": 126,
   "metadata": {},
   "outputs": [
    {
     "name": "stdout",
     "output_type": "stream",
     "text": [
      "Original Terra IC: 7986\n",
      "filtered by simpleTime: 10\n"
     ]
    }
   ],
   "source": [
    "# convert target_ic_dates to list of dates in google earth engine format\n",
    "ee_dates_list = ee.ee_list.List([ee.ee_date.Date(date) for date in target_ic_dates])\n",
    "# set a date simpleTime property to facilitate filtering\n",
    "def set_date_property(image):\n",
    "    date = ee.ee_date.Date(image.date().format('YYYY-MM-dd'))\n",
    "    return image.set('simpleTime', date)\n",
    "\n",
    "ee_Terra_ic = ee_terra_ic.map(set_date_property)\n",
    "\n",
    "# Applying date filter\n",
    "ee_filtered_terra_ic = ee_Terra_ic.filter(ee.filter.Filter.inList(\"simpleTime\", ee_dates_list))\n",
    "print(f\"Original Terra IC: {ee_Terra_ic.size().getInfo()}\")\n",
    "print(f\"filtered by simpleTime: {ee_filtered_terra_ic.size().getInfo()}\")\n"
   ]
  },
  {
   "cell_type": "code",
   "execution_count": 128,
   "metadata": {},
   "outputs": [
    {
     "name": "stdout",
     "output_type": "stream",
     "text": [
      "Original Aqua IC: 7999\n",
      "filtered by simpleTime: 10\n"
     ]
    }
   ],
   "source": [
    "# Filter Acqua images\n",
    "ee_MYD_ic = ee_aqua_ic.map(set_date_property)\n",
    "\n",
    "# Applying date filter\n",
    "ee_filtered_aqua_ic = ee_MYD_ic.filter(ee.filter.Filter.inList(\"simpleTime\", ee_dates_list))\n",
    "print(f\"Original Aqua IC: {ee_MYD_ic.size().getInfo()}\")\n",
    "print(f\"filtered by simpleTime: {ee_filtered_aqua_ic.size().getInfo()}\")"
   ]
  },
  {
   "cell_type": "code",
   "execution_count": 132,
   "metadata": {},
   "outputs": [],
   "source": []
  },
  {
   "cell_type": "code",
   "execution_count": null,
   "metadata": {},
   "outputs": [],
   "source": [
    "# Step 0 : Reclassify Landcover\n",
    "MODstep00 = binary.ic_snow_landcover_reclass(\n",
    "    ee_terra_ic, AOI, 40\n",
    ")  # .filter(ee.Filter.calendarRange(12,12, 'month'))\n",
    "MYDstep00 = binary.ic_snow_landcover_reclass(\n",
    "    ee_aqua_ic, AOI, 40\n",
    ")  # .filter(ee.Filter.calendarRange(12,12, 'month'))"
   ]
  }
 ],
 "metadata": {
  "kernelspec": {
   "display_name": "observatorio_ipa",
   "language": "python",
   "name": "python3"
  },
  "language_info": {
   "codemirror_mode": {
    "name": "ipython",
    "version": 3
   },
   "file_extension": ".py",
   "mimetype": "text/x-python",
   "name": "python",
   "nbconvert_exporter": "python",
   "pygments_lexer": "ipython3",
   "version": "3.12.7"
  }
 },
 "nbformat": 4,
 "nbformat_minor": 2
}
