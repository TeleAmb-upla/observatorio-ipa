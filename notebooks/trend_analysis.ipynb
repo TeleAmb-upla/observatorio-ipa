{
 "cells": [
  {
   "cell_type": "markdown",
   "id": "e529deec",
   "metadata": {},
   "source": [
    "# Non-Parametric Trend Analysis"
   ]
  },
  {
   "cell_type": "markdown",
   "id": "3df950d7",
   "metadata": {},
   "source": [
    "Based on https://developers.google.com/earth-engine/tutorials/community/nonparametric-trends"
   ]
  },
  {
   "cell_type": "code",
   "execution_count": 1,
   "id": "ba254c44",
   "metadata": {},
   "outputs": [],
   "source": [
    "import ee\n",
    "import json\n",
    "import geemap\n",
    "from pathlib import Path\n",
    "from ee._helpers import ServiceAccountCredentials"
   ]
  },
  {
   "cell_type": "code",
   "execution_count": 2,
   "id": "893a47a2",
   "metadata": {},
   "outputs": [
    {
     "data": {
      "text/html": [
       "\n",
       "            <style>\n",
       "                .geemap-dark {\n",
       "                    --jp-widgets-color: white;\n",
       "                    --jp-widgets-label-color: white;\n",
       "                    --jp-ui-font-color1: white;\n",
       "                    --jp-layout-color2: #454545;\n",
       "                    background-color: #383838;\n",
       "                }\n",
       "\n",
       "                .geemap-dark .jupyter-button {\n",
       "                    --jp-layout-color3: #383838;\n",
       "                }\n",
       "\n",
       "                .geemap-colab {\n",
       "                    background-color: var(--colab-primary-surface-color, white);\n",
       "                }\n",
       "\n",
       "                .geemap-colab .jupyter-button {\n",
       "                    --jp-layout-color3: var(--colab-primary-surface-color, white);\n",
       "                }\n",
       "            </style>\n",
       "            "
      ],
      "text/plain": [
       "<IPython.core.display.HTML object>"
      ]
     },
     "metadata": {},
     "output_type": "display_data"
    }
   ],
   "source": [
    "# Connect to GEE\n",
    "service_credentials_file=Path(\"../secrets/ee-observatorionieves-288939dbc1cf.json\")\n",
    "\n",
    "with open(service_credentials_file, \"r\") as f:\n",
    "    credential_data = json.load(f)\n",
    "\n",
    "#print( service_account_data)\n",
    "credentials = ServiceAccountCredentials(\n",
    "    email=credential_data['client_email'],\n",
    "    key_data=json.dumps(credential_data),\n",
    ")\n",
    "ee.Initialize(credentials=credentials, project=credential_data[\"project_id\"])"
   ]
  },
  {
   "cell_type": "markdown",
   "id": "b0c9cac8",
   "metadata": {},
   "source": [
    "Trend analysis is finding places where something of interest is increasing or decreasing and by how much. More specifically, this tutorial demonstrates detecting monotonic trends in imagery using the non-parametric Mann-Kendall test for the presence of an increasing or decreasing trend and Sen's slope to quantify the magnitude of the trend (if one exists). The tutorial also shows estimating the variance of the Mann-Kendall test statistic, a Z-statistic for the test of presence of any trend, and a P-value of the statistic (assuming a normal distribution)."
   ]
  },
  {
   "cell_type": "markdown",
   "id": "23988fdd",
   "metadata": {},
   "source": [
    "Mann-Kendal statistic (S) is the sum of the signs of the differences between all pairs of data points (+1, 0, -1)."
   ]
  },
  {
   "cell_type": "code",
   "execution_count": 3,
   "id": "e58aebcb",
   "metadata": {},
   "outputs": [
    {
     "data": {
      "text/html": [
       "\n",
       "            <style>\n",
       "                .geemap-dark {\n",
       "                    --jp-widgets-color: white;\n",
       "                    --jp-widgets-label-color: white;\n",
       "                    --jp-ui-font-color1: white;\n",
       "                    --jp-layout-color2: #454545;\n",
       "                    background-color: #383838;\n",
       "                }\n",
       "\n",
       "                .geemap-dark .jupyter-button {\n",
       "                    --jp-layout-color3: #383838;\n",
       "                }\n",
       "\n",
       "                .geemap-colab {\n",
       "                    background-color: var(--colab-primary-surface-color, white);\n",
       "                }\n",
       "\n",
       "                .geemap-colab .jupyter-button {\n",
       "                    --jp-layout-color3: var(--colab-primary-surface-color, white);\n",
       "                }\n",
       "            </style>\n",
       "            "
      ],
      "text/plain": [
       "<IPython.core.display.HTML object>"
      ]
     },
     "metadata": {},
     "output_type": "display_data"
    },
    {
     "name": "stderr",
     "output_type": "stream",
     "text": [
      "c:\\Users\\erick\\Documents\\Projects\\teleamb\\observatorio_ipa\\.venv\\Lib\\site-packages\\ee\\deprecation.py:207: DeprecationWarning: \n",
      "\n",
      "Attention required for MODIS/006/MOD13A1! You are using a deprecated asset.\n",
      "To make sure your code keeps working, please update it.\n",
      "Learn more: https://developers.google.com/earth-engine/datasets/catalog/MODIS_006_MOD13A1\n",
      "\n",
      "  warnings.warn(warning, category=DeprecationWarning)\n"
     ]
    }
   ],
   "source": [
    "ee_mod13_ic = ee.imagecollection.ImageCollection('MODIS/006/MOD13A1');\n",
    "ee_coll_ic = ee.imagecollection.ImageCollection(ee_mod13_ic.select('EVI').filter(ee.filter.Filter.calendarRange(8, 9, 'month')))\n",
    "\n",
    "map = geemap.Map()\n",
    "map.setCenter(-121.6, 37.3, 10)\n",
    "map.addLayer(ee_object=ee_coll_ic, vis_params={'min':-500, 'max': 5000, 'palette': ['white', 'green']}, name='coll')"
   ]
  },
  {
   "cell_type": "code",
   "execution_count": 4,
   "id": "ccde4aa0",
   "metadata": {},
   "outputs": [
    {
     "data": {
      "text/html": [
       "\n",
       "            <style>\n",
       "                .geemap-dark {\n",
       "                    --jp-widgets-color: white;\n",
       "                    --jp-widgets-label-color: white;\n",
       "                    --jp-ui-font-color1: white;\n",
       "                    --jp-layout-color2: #454545;\n",
       "                    background-color: #383838;\n",
       "                }\n",
       "\n",
       "                .geemap-dark .jupyter-button {\n",
       "                    --jp-layout-color3: #383838;\n",
       "                }\n",
       "\n",
       "                .geemap-colab {\n",
       "                    background-color: var(--colab-primary-surface-color, white);\n",
       "                }\n",
       "\n",
       "                .geemap-colab .jupyter-button {\n",
       "                    --jp-layout-color3: var(--colab-primary-surface-color, white);\n",
       "                }\n",
       "            </style>\n",
       "            "
      ],
      "text/plain": [
       "<IPython.core.display.HTML object>"
      ]
     },
     "metadata": {},
     "output_type": "display_data"
    },
    {
     "data": {
      "text/plain": [
       "92"
      ]
     },
     "execution_count": 4,
     "metadata": {},
     "output_type": "execute_result"
    }
   ],
   "source": [
    "ee_coll_ic.size().getInfo()"
   ]
  },
  {
   "cell_type": "markdown",
   "id": "8180d79e",
   "metadata": {},
   "source": [
    "## Join the time series to itself\n",
    "\n",
    "The non-parametric stats of interest are computed by examining every possible ordered pair of unique values in the time series. If there are n time points in the series, we need to examine the n(n-1)/2 pairs (i, j), i<j, where i and j are arbitrary time indices. (Here we use (i, j) to signify the pair of EVI images indexed by i and j). To do that, join the collection to itself with a temporal filter. The temporal filter will pass all the chronologically later images. In the joined collection, each image will store all the images that come after it in an after property."
   ]
  },
  {
   "cell_type": "code",
   "execution_count": 5,
   "id": "3a313643",
   "metadata": {},
   "outputs": [
    {
     "data": {
      "text/html": [
       "\n",
       "            <style>\n",
       "                .geemap-dark {\n",
       "                    --jp-widgets-color: white;\n",
       "                    --jp-widgets-label-color: white;\n",
       "                    --jp-ui-font-color1: white;\n",
       "                    --jp-layout-color2: #454545;\n",
       "                    background-color: #383838;\n",
       "                }\n",
       "\n",
       "                .geemap-dark .jupyter-button {\n",
       "                    --jp-layout-color3: #383838;\n",
       "                }\n",
       "\n",
       "                .geemap-colab {\n",
       "                    background-color: var(--colab-primary-surface-color, white);\n",
       "                }\n",
       "\n",
       "                .geemap-colab .jupyter-button {\n",
       "                    --jp-layout-color3: var(--colab-primary-surface-color, white);\n",
       "                }\n",
       "            </style>\n",
       "            "
      ],
      "text/plain": [
       "<IPython.core.display.HTML object>"
      ]
     },
     "metadata": {},
     "output_type": "display_data"
    }
   ],
   "source": [
    "ee_afterFilter = ee.filter.Filter.lessThan(\n",
    "  leftField = 'system:time_start',\n",
    "  rightField = 'system:time_start')\n",
    "\n",
    "ee_joined_ic = ee.imagecollection.ImageCollection(ee.join.Join.saveAll('after').apply(\n",
    "  primary= ee_coll_ic,\n",
    "  secondary= ee_coll_ic,\n",
    "  condition= ee_afterFilter\n",
    "))"
   ]
  },
  {
   "cell_type": "markdown",
   "id": "290ec777",
   "metadata": {},
   "source": [
    "## Mann-Kendall trend test\n",
    "\n",
    "The Mann-Kendall trend is defined as the sum of the signs of all the pairs. The sign is 1 if EVI at time j is more than EVI at time i, -1 if the opposite is true and zero otherwise (if they're equal). Compute this by iterating over the collection and computing sign(i, j) for each image i in the collection and each image j in the after images."
   ]
  },
  {
   "cell_type": "code",
   "execution_count": 6,
   "id": "33b4954b",
   "metadata": {},
   "outputs": [
    {
     "data": {
      "text/html": [
       "\n",
       "            <style>\n",
       "                .geemap-dark {\n",
       "                    --jp-widgets-color: white;\n",
       "                    --jp-widgets-label-color: white;\n",
       "                    --jp-ui-font-color1: white;\n",
       "                    --jp-layout-color2: #454545;\n",
       "                    background-color: #383838;\n",
       "                }\n",
       "\n",
       "                .geemap-dark .jupyter-button {\n",
       "                    --jp-layout-color3: #383838;\n",
       "                }\n",
       "\n",
       "                .geemap-colab {\n",
       "                    background-color: var(--colab-primary-surface-color, white);\n",
       "                }\n",
       "\n",
       "                .geemap-colab .jupyter-button {\n",
       "                    --jp-layout-color3: var(--colab-primary-surface-color, white);\n",
       "                }\n",
       "            </style>\n",
       "            "
      ],
      "text/plain": [
       "<IPython.core.display.HTML object>"
      ]
     },
     "metadata": {},
     "output_type": "display_data"
    }
   ],
   "source": [
    "# The unmask is to prevent accumulation of masked pixels that\n",
    "# result from the undefined case of when either current or image\n",
    "# is masked.  It won't affect the sum, since it's unmasked to zero.\n",
    "\n",
    "\n",
    "def _ee_sign(ee_i_img: ee.image.Image, ee_j_img: ee.image.Image) -> ee.image.Image:\n",
    "    \"\"\"Compute the sign of the difference between two images.\"\"\"\n",
    "    return (ee.image.Image(ee_j_img).neq(ee_i_img)  # Zero case\n",
    "        .multiply(ee.image.Image(ee_j_img).subtract(ee_i_img).clamp(-1, 1))\n",
    "        .int())\n",
    "    \n",
    "\n",
    "\n",
    "def _ee_calc_ts_signs(ee_current_img: ee.image.Image):\n",
    "    ee_afterCollection_ic = ee.imagecollection.ImageCollection.fromImages(ee_current_img.get('after'));\n",
    "    ee_afterCollection_ic = ee_afterCollection_ic.map(\n",
    "        lambda ee_after_img: ee.image.Image(_ee_sign(ee_current_img, ee_after_img)).unmask(0)\n",
    "    )\n",
    "    \n",
    "    return ee_afterCollection_ic\n",
    "\n",
    "\n",
    "ee_signs_img = ee.imagecollection.ImageCollection(\n",
    "  ee_joined_ic.map(\n",
    "      lambda ee_current_img:  _ee_calc_ts_signs(ee_current_img)\n",
    "    ).flatten())\n",
    "\n",
    "ee_kendall_img =  ee_signs_img.reduce('sum', 2) #type: ignore\n",
    "\n"
   ]
  },
  {
   "cell_type": "code",
   "execution_count": 9,
   "id": "51515580",
   "metadata": {},
   "outputs": [
    {
     "data": {
      "text/html": [
       "\n",
       "            <style>\n",
       "                .geemap-dark {\n",
       "                    --jp-widgets-color: white;\n",
       "                    --jp-widgets-label-color: white;\n",
       "                    --jp-ui-font-color1: white;\n",
       "                    --jp-layout-color2: #454545;\n",
       "                    background-color: #383838;\n",
       "                }\n",
       "\n",
       "                .geemap-dark .jupyter-button {\n",
       "                    --jp-layout-color3: #383838;\n",
       "                }\n",
       "\n",
       "                .geemap-colab {\n",
       "                    background-color: var(--colab-primary-surface-color, white);\n",
       "                }\n",
       "\n",
       "                .geemap-colab .jupyter-button {\n",
       "                    --jp-layout-color3: var(--colab-primary-surface-color, white);\n",
       "                }\n",
       "            </style>\n",
       "            "
      ],
      "text/plain": [
       "<IPython.core.display.HTML object>"
      ]
     },
     "metadata": {},
     "output_type": "display_data"
    }
   ],
   "source": [
    "palette = ['red', 'white', 'green']\n",
    "# Set min and max stretch visualization parameters as necessary.\n",
    "map.addLayer(\n",
    "    ee_kendall_img, \n",
    "    {'palette': palette, 'min': -2800, 'max': 2800}, \n",
    "    'kendall')"
   ]
  },
  {
   "cell_type": "markdown",
   "id": "7136d927",
   "metadata": {},
   "source": [
    "## Sen's slope\n",
    "\n",
    "Sen's slope is computed in a similar way to the Mann-Kendall statistic. However, instead of adding all the signs of the pairs, the slope is computed for all the pairs. Sen's slope is the median slope from all those pairs. In the following, slope is computed over days to avoid numerically tiny slopes (which might result from using epoch time instead)."
   ]
  },
  {
   "cell_type": "code",
   "execution_count": 10,
   "id": "507c6224",
   "metadata": {},
   "outputs": [
    {
     "data": {
      "text/html": [
       "\n",
       "            <style>\n",
       "                .geemap-dark {\n",
       "                    --jp-widgets-color: white;\n",
       "                    --jp-widgets-label-color: white;\n",
       "                    --jp-ui-font-color1: white;\n",
       "                    --jp-layout-color2: #454545;\n",
       "                    background-color: #383838;\n",
       "                }\n",
       "\n",
       "                .geemap-dark .jupyter-button {\n",
       "                    --jp-layout-color3: #383838;\n",
       "                }\n",
       "\n",
       "                .geemap-colab {\n",
       "                    background-color: var(--colab-primary-surface-color, white);\n",
       "                }\n",
       "\n",
       "                .geemap-colab .jupyter-button {\n",
       "                    --jp-layout-color3: var(--colab-primary-surface-color, white);\n",
       "                }\n",
       "            </style>\n",
       "            "
      ],
      "text/plain": [
       "<IPython.core.display.HTML object>"
      ]
     },
     "metadata": {},
     "output_type": "display_data"
    }
   ],
   "source": [
    "def  _ee_calc_slope (ee_i_img, ee_j_img):\n",
    "  return (ee.image.Image(ee_j_img).subtract(ee_i_img)\n",
    "      .divide(ee.image.Image(ee_j_img).date().difference(ee.image.Image(ee_i_img).date(), 'days')) #! Verify what unit is being used in code\n",
    "      .rename('slope')\n",
    "      .float())\n",
    "\n",
    "\n",
    "def _ee_calc_ts_slopes(ee_current_img):\n",
    "    ee_afterCollection_ic = ee.imagecollection.ImageCollection.fromImages(ee_current_img.get('after'));\n",
    "    ee_afterCollection_ic = ee_afterCollection_ic.map(\n",
    "        lambda ee_after_img: ee.image.Image(_ee_calc_slope(ee_current_img, ee_after_img))\n",
    "    )\n",
    "    \n",
    "    return ee_afterCollection_ic\n",
    "\n",
    "\n",
    "ee_slopes_ic = ee.imagecollection.ImageCollection(\n",
    "   ee_joined_ic.map(lambda ee_image: _ee_calc_ts_slopes(ee_image)).flatten()\n",
    ")\n",
    " \n",
    "ee_sensSlope_img = ee_slopes_ic.reduce(ee.reducer.Reducer.median(), 2)\n"
   ]
  },
  {
   "cell_type": "code",
   "execution_count": 11,
   "id": "58eb050f",
   "metadata": {},
   "outputs": [
    {
     "data": {
      "text/html": [
       "\n",
       "            <style>\n",
       "                .geemap-dark {\n",
       "                    --jp-widgets-color: white;\n",
       "                    --jp-widgets-label-color: white;\n",
       "                    --jp-ui-font-color1: white;\n",
       "                    --jp-layout-color2: #454545;\n",
       "                    background-color: #383838;\n",
       "                }\n",
       "\n",
       "                .geemap-dark .jupyter-button {\n",
       "                    --jp-layout-color3: #383838;\n",
       "                }\n",
       "\n",
       "                .geemap-colab {\n",
       "                    background-color: var(--colab-primary-surface-color, white);\n",
       "                }\n",
       "\n",
       "                .geemap-colab .jupyter-button {\n",
       "                    --jp-layout-color3: var(--colab-primary-surface-color, white);\n",
       "                }\n",
       "            </style>\n",
       "            "
      ],
      "text/plain": [
       "<IPython.core.display.HTML object>"
      ]
     },
     "metadata": {},
     "output_type": "display_data"
    }
   ],
   "source": [
    "\n",
    "map.addLayer(\n",
    "    ee_sensSlope_img, \n",
    "    {\"palette\": palette, \"min\": -1, \"max\": 1}, \n",
    "    'sensSlope')"
   ]
  },
  {
   "cell_type": "markdown",
   "id": "a9862fca",
   "metadata": {},
   "source": [
    "## Variance of the Mann-Kendall statistic\n",
    "\n",
    "Computing the variance of the Mann-Kendall statistic is complicated by the possible presence of ties in the data (i.e. sign(i, j) equals zero). Counting those ties can get a little dicey, requiring an array-based forward differencing. Note that you can comment .subtract(groupFactorSum) in the computation of kendallVariance if you don't care about ties and want to disregard that correction"
   ]
  },
  {
   "cell_type": "code",
   "execution_count": 13,
   "id": "9a18ab32",
   "metadata": {},
   "outputs": [
    {
     "data": {
      "text/html": [
       "\n",
       "            <style>\n",
       "                .geemap-dark {\n",
       "                    --jp-widgets-color: white;\n",
       "                    --jp-widgets-label-color: white;\n",
       "                    --jp-ui-font-color1: white;\n",
       "                    --jp-layout-color2: #454545;\n",
       "                    background-color: #383838;\n",
       "                }\n",
       "\n",
       "                .geemap-dark .jupyter-button {\n",
       "                    --jp-layout-color3: #383838;\n",
       "                }\n",
       "\n",
       "                .geemap-colab {\n",
       "                    background-color: var(--colab-primary-surface-color, white);\n",
       "                }\n",
       "\n",
       "                .geemap-colab .jupyter-button {\n",
       "                    --jp-layout-color3: var(--colab-primary-surface-color, white);\n",
       "                }\n",
       "            </style>\n",
       "            "
      ],
      "text/plain": [
       "<IPython.core.display.HTML object>"
      ]
     },
     "metadata": {},
     "output_type": "display_data"
    }
   ],
   "source": [
    "# The formula for the Variance of Mann-Kendall requires identifying groups of tied values in a timeseries.\n",
    "# The below code does this by first identifying the pixels and values that have ties, then determines the group \n",
    "# siz (Number of times the values repeat) using arrays. Then computes the factors for the groups that are used \n",
    "# in the variance formula, and finally computes the variance.\n",
    "\n",
    "# An simple example of groups for a single pixel in a timeseries:\n",
    "# [0.35,0.40,0.40,0.42,0.42,0.42,0.44]\n",
    "# - This has two tie groups\n",
    "# - One group of two tied values at 0.40 -> t=2\n",
    "# - One group of three tied values at 0.42 -> t=3\n",
    "\n",
    "\n",
    "# Keep pixel values where the value matched in more than 1 other image in the collection. Set all else to zero.\n",
    "# These are pixels that should have at least one group of \"ties\"\n",
    "\n",
    "def _matches(ee_i_img: ee.image.Image, ee_j_img: ee.image.Image) -> ee.image.Image:\n",
    "    return ee_i_img.eq(ee_j_img)  # i and j are images.\n",
    "\n",
    "def _groups(ee_i_img: ee.image.Image, ee_icollection:ee.imagecollection.ImageCollection) -> ee.image.Image:\n",
    "    \"\"\"Keep values of pixels that had more than one match in other images. \n",
    "    \n",
    "    >1 because at least one match is the image itself.\n",
    "\n",
    "    \"\"\"\n",
    "\n",
    "    ee_matches_img = ee_icollection.map(lambda ee_j_img: _matches(ee_i_img, ee_j_img)).sum()\n",
    "    return ee_i_img.multiply(ee_matches_img.gt(1))  \n",
    "\n",
    "\n",
    "# Compute tie group sizes in a sequence.  The first group is discarded.\n",
    "def _group_sizes(ee_array_img: ee.image.Image) -> ee.image.Image:\n",
    "    ee_length_img = ee_array_img.arrayLength(0)\n",
    "    # Array of indices.  These are 1-indexed.\n",
    "    ee_indices_img = (\n",
    "        ee.image.Image([1])\n",
    "        .arrayRepeat(0, ee_length_img)\n",
    "        .arrayAccum(0, ee.reducer.Reducer.sum())\n",
    "        .toArray(1)\n",
    "    )\n",
    "    ee_sorted_img = ee_array_img.arraySort()\n",
    "    ee_left_img = ee_sorted_img.arraySlice(0, 1)\n",
    "    ee_right_img = ee_sorted_img.arraySlice(0, 0, -1)\n",
    "\n",
    "    # Indices of the end of runs. Always keep the last index, the end of the sequence.\n",
    "    ee_mask_img = ee_left_img.neq(ee_right_img).arrayCat(\n",
    "        ee.image.Image(ee.ee_array.Array([[1]])), 0\n",
    "    )\n",
    "    ee_runIndices_img = ee_indices_img.arrayMask(ee_mask_img)\n",
    "\n",
    "    # Subtract the indices to get run lengths.\n",
    "    ee_groupSizes_img = ee_runIndices_img.arraySlice(0, 1).subtract(\n",
    "        ee_runIndices_img.arraySlice(0, 0, -1)\n",
    "    )\n",
    "    return ee_groupSizes_img\n",
    "\n",
    "\n",
    "# See equation 2.6 in Sen (1968).\n",
    "def _factors(ee_image: ee.image.Image) -> ee.image.Image:\n",
    "    return ee_image.expression(\"b() * (b() - 1) * (b() * 2 + 5)\")\n",
    "\n",
    "\n",
    "ee_groups_ic = ee.imagecollection.ImageCollection(ee_coll_ic.map(lambda ee_i_img: _groups(ee_i_img, ee_coll_ic)))\n",
    "ee_groupSizes_img = _group_sizes(ee_groups_ic.toArray())\n",
    "ee_groupFactors_img = _factors(ee_groupSizes_img)\n",
    "ee_groupFactorSum_img = ee_groupFactors_img.arrayReduce('sum', [0]).arrayGet([0, 0])\n",
    "\n",
    "ee_count_img = ee_joined_ic.count()\n",
    "\n",
    "ee_kendallVariance_img = _factors(ee_count_img).subtract(ee_groupFactorSum_img).divide(18).float()"
   ]
  },
  {
   "cell_type": "code",
   "execution_count": null,
   "id": "e7958349",
   "metadata": {},
   "outputs": [],
   "source": [
    "\n",
    "map.addLayer(ee_kendallVariance_img, {\"min\": 1700, \"max\": 85000}, 'kendallVariance');"
   ]
  },
  {
   "cell_type": "markdown",
   "id": "a5ec1c82",
   "metadata": {},
   "source": [
    "## Significance testing\n",
    "The Mann-Kendall statistic is asymptotically normal for suitably large samples. Assume our samples are suitably large and uncorrelated. Under these assumptions, the true mean of the Mann-Kendall statistic is zero and the variance is as computed above. To compute a standard normal statistic (z), divide the statistic by its standard deviation. The P-value of the z-statistic (probability of observing such an extreme value) is 1 - P(|z| < Z). For a two-sided test of whether any trend exists (positive or negative) at the 95% confidence level, compare the P-value to 0.975. (Alternatively, compare the z-statistic to Z*, where Z* is the inverse distribution function of 0.975).\n",
    "\n",
    "The standard normal distribution function can be computed in Earth Engine from the error function, erf(). Both the distribution function and its inverse are shown below for reference. Here we use the distribution function to get 1 - P(|z| < Z) and compare it to 0.975."
   ]
  },
  {
   "cell_type": "code",
   "execution_count": 16,
   "id": "46e3e38f",
   "metadata": {},
   "outputs": [
    {
     "data": {
      "text/html": [
       "\n",
       "            <style>\n",
       "                .geemap-dark {\n",
       "                    --jp-widgets-color: white;\n",
       "                    --jp-widgets-label-color: white;\n",
       "                    --jp-ui-font-color1: white;\n",
       "                    --jp-layout-color2: #454545;\n",
       "                    background-color: #383838;\n",
       "                }\n",
       "\n",
       "                .geemap-dark .jupyter-button {\n",
       "                    --jp-layout-color3: #383838;\n",
       "                }\n",
       "\n",
       "                .geemap-colab {\n",
       "                    background-color: var(--colab-primary-surface-color, white);\n",
       "                }\n",
       "\n",
       "                .geemap-colab .jupyter-button {\n",
       "                    --jp-layout-color3: var(--colab-primary-surface-color, white);\n",
       "                }\n",
       "            </style>\n",
       "            "
      ],
      "text/plain": [
       "<IPython.core.display.HTML object>"
      ]
     },
     "metadata": {},
     "output_type": "display_data"
    }
   ],
   "source": [
    "# Compute Z-statistics.\n",
    "ee_zero_img = ee_kendall_img.multiply(ee_kendall_img.eq(0))\n",
    "ee_pos_img = ee_kendall_img.multiply(ee_kendall_img.gt(0)).subtract(1)\n",
    "ee_neg_img = ee_kendall_img.multiply(ee_kendall_img.lt(0)).add(1)\n",
    "\n",
    "ee_z_img = ee_zero_img.add(ee_pos_img.divide(ee_kendallVariance_img.sqrt())).add(ee_neg_img.divide(ee_kendallVariance_img.sqrt()))\n",
    "\n",
    "\n",
    "# https://en.wikipedia.org/wiki/Error_function#Cumulative_distribution_function\n",
    "def _eeCdf(ee_z_img) -> ee.image.Image:\n",
    "  return ee.image.Image(0.5).multiply(\n",
    "    ee.image.Image(1).add(\n",
    "      ee.image.Image(ee_z_img).divide(ee.image.Image(2).sqrt()).erf()))\n",
    "\n",
    "\n",
    "# function invCdf(p) {\n",
    "#   return ee.Image(2).sqrt()\n",
    "#       .multiply(ee.Image(p).multiply(2).subtract(1).erfInv());\n",
    "# }\n",
    "\n",
    "# Compute P-values.\n",
    "ee_p_img = ee.image.Image(1).subtract(_eeCdf(ee_z_img.abs()))\n",
    "\n",
    "# pixels with significant trends\n",
    "# Pixels that can have the null hypothesis (there is no trend) rejected.\n",
    "# Specifically, if the true trend is zero, there would be less than 5%\n",
    "# chance of randomly obtaining the observed result (that there is a trend).\n",
    "ee_significant_trends_img = ee_p_img.lte(0.025)"
   ]
  },
  {
   "cell_type": "code",
   "execution_count": 17,
   "id": "9fd39271",
   "metadata": {},
   "outputs": [
    {
     "data": {
      "text/html": [
       "\n",
       "            <style>\n",
       "                .geemap-dark {\n",
       "                    --jp-widgets-color: white;\n",
       "                    --jp-widgets-label-color: white;\n",
       "                    --jp-ui-font-color1: white;\n",
       "                    --jp-layout-color2: #454545;\n",
       "                    background-color: #383838;\n",
       "                }\n",
       "\n",
       "                .geemap-dark .jupyter-button {\n",
       "                    --jp-layout-color3: #383838;\n",
       "                }\n",
       "\n",
       "                .geemap-colab {\n",
       "                    background-color: var(--colab-primary-surface-color, white);\n",
       "                }\n",
       "\n",
       "                .geemap-colab .jupyter-button {\n",
       "                    --jp-layout-color3: var(--colab-primary-surface-color, white);\n",
       "                }\n",
       "            </style>\n",
       "            "
      ],
      "text/plain": [
       "<IPython.core.display.HTML object>"
      ]
     },
     "metadata": {},
     "output_type": "display_data"
    }
   ],
   "source": [
    "\n",
    "\n",
    "map.addLayer(ee_z_img, {\"min\": -2, \"max\": 2}, 'z')\n",
    "map.addLayer(ee_p_img, {\"min\": 0, \"max\": 1}, 'p')\n",
    "map.addLayer(ee_significant_trends_img, {\"min\": 0, \"max\": 1}, 'significant trends')"
   ]
  },
  {
   "cell_type": "code",
   "execution_count": null,
   "id": "41d99ceb",
   "metadata": {},
   "outputs": [],
   "source": [
    "map"
   ]
  }
 ],
 "metadata": {
  "kernelspec": {
   "display_name": "observatorio-ipa",
   "language": "python",
   "name": "python3"
  },
  "language_info": {
   "codemirror_mode": {
    "name": "ipython",
    "version": 3
   },
   "file_extension": ".py",
   "mimetype": "text/x-python",
   "name": "python",
   "nbconvert_exporter": "python",
   "pygments_lexer": "ipython3",
   "version": "3.12.7"
  }
 },
 "nbformat": 4,
 "nbformat_minor": 5
}
