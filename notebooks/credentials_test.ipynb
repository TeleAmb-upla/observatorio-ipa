{
 "cells": [
  {
   "cell_type": "code",
   "execution_count": 70,
   "id": "5469f375",
   "metadata": {},
   "outputs": [
    {
     "data": {
      "text/plain": [
       "<module 'observatorio_ipa.services.connections' from 'C:\\\\Users\\\\erick\\\\Documents\\\\Projects\\\\teleamb\\\\observatorio_ipa\\\\src\\\\observatorio_ipa\\\\services\\\\connections.py'>"
      ]
     },
     "execution_count": 70,
     "metadata": {},
     "output_type": "execute_result"
    }
   ],
   "source": [
    "# earthengine-api v1.5.15 (asof 2025-07-17 )\n",
    "# earthengine-api v1.5.24 (asof 2025-07-19 )\n",
    "# earthengine-api v1.6.2 (asof 2025-08-04 )\n",
    "\n",
    "import ee\n",
    "import ee.batch\n",
    "from pprint import pprint\n",
    "from pathlib import Path\n",
    "from importlib import reload\n",
    "from observatorio_ipa.core import config\n",
    "from observatorio_ipa.services import connections\n",
    "from observatorio_ipa.services.gdrive import assets as gdrive_assets\n",
    "\n",
    "reload(connections)"
   ]
  },
  {
   "cell_type": "code",
   "execution_count": 71,
   "id": "8a986694",
   "metadata": {},
   "outputs": [],
   "source": [
    "service_credentials_file = Path(\"../secrets/ee-observatorionieves-288939dbc1cf.json\")"
   ]
  },
  {
   "cell_type": "code",
   "execution_count": 72,
   "id": "99aa1e1e",
   "metadata": {},
   "outputs": [],
   "source": [
    "runtime_service_account = connections.GoogleServiceAccount(\n",
    "    service_credentials_file.as_posix(),\n",
    ")\n",
    "connections.connect_to_gee(runtime_service_account)\n",
    "\n",
    "# Connect to GDrive\n",
    "gdrive_service = connections.connect_to_gdrive(runtime_service_account)"
   ]
  },
  {
   "cell_type": "code",
   "execution_count": 4,
   "id": "e8957bae",
   "metadata": {},
   "outputs": [
    {
     "name": "stdout",
     "output_type": "stream",
     "text": [
      "Folders:\n",
      "Name: New_Raster_SCI_CCI, ID: 1EG0Y39mIwHnENuVj6idLCvYjRRfK1JbJ\n",
      "Name: moving_company, ID: 1FnKd35DV1thb_AfnjF7-YvYnu_83IA8v\n"
     ]
    }
   ],
   "source": [
    "# from googleapiclient.discovery import build\n",
    "\n",
    "# ... (Authentication and service object creation) ...\n",
    "# service = build('drive', 'v3', credentials=creds)\n",
    "\n",
    "results = (\n",
    "    gdrive_service.files()\n",
    "    .list(\n",
    "        q=\"mimeType='application/vnd.google-apps.folder'\",\n",
    "        fields=\"nextPageToken, files(id, name, parents)\",\n",
    "        corpora=\"user\",  # Or 'allDrives' if searching across shared drives\n",
    "    )\n",
    "    .execute()\n",
    ")\n",
    "\n",
    "items = results.get(\"files\", [])\n",
    "if not items:\n",
    "    print(\"No folders found.\")\n",
    "else:\n",
    "    print(\"Folders:\")\n",
    "    for item in items:\n",
    "        print(f\"Name: {item['name']}, ID: {item['id']}\")"
   ]
  },
  {
   "cell_type": "code",
   "execution_count": 16,
   "id": "00d2ddae",
   "metadata": {},
   "outputs": [],
   "source": [
    "# Basic Export test\n",
    "# A Landsat 8 surface reflectance image.\n",
    "ee_test_image = ee.image.Image(\"LANDSAT/LC08/C02/T1_L2/LC08_044034_20210508\").select(\n",
    "    [\"SR_B.\"]\n",
    ")  # reflectance bands\n",
    "\n",
    "# A region of interest.\n",
    "region = ee.geometry.Geometry.BBox(-122.24, 37.13, -122.11, 37.20)\n",
    "\n",
    "# Set the export \"scale\" and \"crs\" parameters.\n",
    "task = ee.batch.Export.image.toCloudStorage(\n",
    "    image=ee_test_image,\n",
    "    description=\"test_image_export_2\",\n",
    "    bucket=\"chompitest-odes\",\n",
    "    region=region,\n",
    "    scale=30,\n",
    "    crs=\"EPSG:5070\",\n",
    ")\n",
    "task.start()"
   ]
  },
  {
   "cell_type": "code",
   "execution_count": 8,
   "id": "1401dafc",
   "metadata": {},
   "outputs": [],
   "source": [
    "from google.oauth2 import service_account\n",
    "\n",
    "from googleapiclient.discovery import build\n",
    "from googleapiclient.errors import HttpError"
   ]
  },
  {
   "cell_type": "code",
   "execution_count": 9,
   "id": "afcbfaf2",
   "metadata": {},
   "outputs": [],
   "source": [
    "\n",
    "    \n",
    "# Connect to Google API and build service\n",
    "google_credentials = service_account.Credentials.from_service_account_info(\n",
    "    runtime_service_account.credentials\n",
    ")\n",
    "\n"
   ]
  },
  {
   "cell_type": "code",
   "execution_count": 2,
   "id": "00e8a4c4",
   "metadata": {},
   "outputs": [],
   "source": [
    "from google.cloud import storage\n",
    "\n",
    "def create_storage_client(project, credentials):\n",
    "    \"\"\"Creates a Google Cloud Storage client.\"\"\"\n",
    "    return storage.Client(project=project, credentials=credentials)\n",
    "\n",
    "def upload_blob(storage_client, bucket_name, source_file_name, destination_blob_name):\n",
    "    \"\"\"Uploads a file to the bucket.\"\"\"\n",
    "    # The ID of your GCS bucket\n",
    "    # bucket_name = \"your-bucket-name\"\n",
    "    # The path to your file to upload\n",
    "    # source_file_name = \"local/path/to/file\"\n",
    "    # The ID of your GCS object\n",
    "    # destination_blob_name = \"storage-object-name\"\n",
    "\n",
    "    bucket = storage_client.bucket(bucket_name)\n",
    "    blob = bucket.blob(destination_blob_name)\n",
    "\n",
    "    # Optional: set a generation-match precondition to avoid potential race conditions\n",
    "    # and data corruptions. The request to upload is aborted if the object's\n",
    "    # generation number does not match your precondition. For a destination\n",
    "    # object that does not yet exist, set the if_generation_match precondition to 0.\n",
    "    # If the destination object already exists in your bucket, set instead a\n",
    "    # generation-match precondition using its generation number.\n",
    "    generation_match_precondition = 0\n",
    "\n",
    "    blob.upload_from_filename(\n",
    "        source_file_name, if_generation_match=generation_match_precondition\n",
    "    )\n",
    "\n",
    "    print(f\"File {source_file_name} uploaded to {destination_blob_name}.\")"
   ]
  },
  {
   "cell_type": "code",
   "execution_count": 10,
   "id": "6e7f05b4",
   "metadata": {},
   "outputs": [],
   "source": [
    "storage_client = create_storage_client(runtime_service_account.project_id, google_credentials)\n",
    "    \n",
    "    \n"
   ]
  },
  {
   "cell_type": "code",
   "execution_count": null,
   "id": "63a4ffb3",
   "metadata": {},
   "outputs": [],
   "source": [
    "upload_blob(\n",
    "    runtime_service_account.project_id,\n",
    "    google_credentials, \n",
    "    \"chompitest-odes\",\n",
    "    \"../manifests/monthly_manifest.json\",\n",
    "    \"monthly_manifest.json\",\n",
    ")"
   ]
  },
  {
   "cell_type": "code",
   "execution_count": null,
   "id": "2e0395f5",
   "metadata": {},
   "outputs": [],
   "source": [
    "bucket = storage_client.bucket(\"chompitest-odes\")\n",
    "src_blob = bucket.blob(\"OSN/stats/stats1.csv\")\n",
    "src_blob.upload_from_string(\"This is a test file content.\")"
   ]
  },
  {
   "cell_type": "code",
   "execution_count": 49,
   "id": "1771c644",
   "metadata": {},
   "outputs": [],
   "source": [
    "def _get_files(files_path: str | Path, storage_conn: storage.Client, bucket_name: str):\n",
    "    files_path = Path(files_path)\n",
    "    prefix = files_path.as_posix() + \"/\"\n",
    "    len_prefix = len(prefix)\n",
    "    bucket = storage_conn.bucket(bucket_name)\n",
    "    blobs = bucket.list_blobs(prefix=prefix, delimiter=\"/\")\n",
    "    list_of_files = []\n",
    "    \n",
    "    # Exclude Folders. Folders should end with \"/\" on account of delimiter=\"/\"\n",
    "    for blob in blobs:\n",
    "        relative_path = blob.name[len_prefix:]\n",
    "        if relative_path and \"/\" not in relative_path: \n",
    "            list_of_files.append(Path(relative_path))\n",
    "    return list_of_files"
   ]
  },
  {
   "cell_type": "code",
   "execution_count": 50,
   "id": "fd64ff0f",
   "metadata": {},
   "outputs": [],
   "source": [
    "files = _get_files(\"OSN/stats/\", storage_client, \"chompitest-odes\")"
   ]
  },
  {
   "cell_type": "code",
   "execution_count": 51,
   "id": "1f708b5a",
   "metadata": {},
   "outputs": [
    {
     "data": {
      "text/plain": [
       "[WindowsPath('monthly_manifest_LU20250822_LLU20250822.json'),\n",
       " WindowsPath('test_image_export_2_LU20250822_LLU20250822.tif')]"
      ]
     },
     "execution_count": 51,
     "metadata": {},
     "output_type": "execute_result"
    }
   ],
   "source": [
    "files"
   ]
  },
  {
   "cell_type": "code",
   "execution_count": 78,
   "id": "651893cd",
   "metadata": {},
   "outputs": [
    {
     "name": "stdout",
     "output_type": "stream",
     "text": [
      "[WindowsPath('OSN/stats/monthly_manifest_LU20250822_LLU20250822.json'), WindowsPath('OSN/stats/test_image_export_2_LU20250822_LLU20250822.tif')]\n"
     ]
    }
   ],
   "source": [
    "print(list_of_files)"
   ]
  },
  {
   "cell_type": "code",
   "execution_count": 60,
   "id": "f273c205",
   "metadata": {},
   "outputs": [
    {
     "ename": "AttributeError",
     "evalue": "'str' object has no attribute 'path'",
     "output_type": "error",
     "traceback": [
      "\u001b[31m---------------------------------------------------------------------------\u001b[39m",
      "\u001b[31mAttributeError\u001b[39m                            Traceback (most recent call last)",
      "\u001b[36mCell\u001b[39m\u001b[36m \u001b[39m\u001b[32mIn[60]\u001b[39m\u001b[32m, line 1\u001b[39m\n\u001b[32m----> \u001b[39m\u001b[32m1\u001b[39m \u001b[43mbucket\u001b[49m\u001b[43m.\u001b[49m\u001b[43mmove_blob\u001b[49m\u001b[43m(\u001b[49m\u001b[43mblob\u001b[49m\u001b[43m=\u001b[49m\u001b[33;43m'\u001b[39;49m\u001b[33;43mmonthly_manifest_LU20250822_LLU20250822.json\u001b[39;49m\u001b[33;43m'\u001b[39;49m\u001b[43m,\u001b[49m\u001b[43m \u001b[49m\u001b[43mnew_name\u001b[49m\u001b[43m=\u001b[49m\u001b[33;43m'\u001b[39;49m\u001b[33;43mOSN/stats/monthly_manifest_LU20250822_LLU20250822.json\u001b[39;49m\u001b[33;43m'\u001b[39;49m\u001b[43m)\u001b[49m\n",
      "\u001b[36mFile \u001b[39m\u001b[32mc:\\Users\\erick\\Documents\\Projects\\teleamb\\observatorio_ipa\\.venv\\Lib\\site-packages\\google\\cloud\\storage\\bucket.py:2353\u001b[39m, in \u001b[36mBucket.move_blob\u001b[39m\u001b[34m(self, blob, new_name, client, if_generation_match, if_generation_not_match, if_metageneration_match, if_metageneration_not_match, if_source_generation_match, if_source_generation_not_match, if_source_metageneration_match, if_source_metageneration_not_match, timeout, retry)\u001b[39m\n\u001b[32m   2340\u001b[39m _add_generation_match_parameters(\n\u001b[32m   2341\u001b[39m     query_params,\n\u001b[32m   2342\u001b[39m     if_generation_match=if_generation_match,\n\u001b[32m   (...)\u001b[39m\u001b[32m   2349\u001b[39m     if_source_metageneration_not_match=if_source_metageneration_not_match,\n\u001b[32m   2350\u001b[39m )\n\u001b[32m   2352\u001b[39m new_blob = Blob(bucket=\u001b[38;5;28mself\u001b[39m, name=new_name)\n\u001b[32m-> \u001b[39m\u001b[32m2353\u001b[39m api_path = \u001b[43mblob\u001b[49m\u001b[43m.\u001b[49m\u001b[43mpath\u001b[49m + \u001b[33m\"\u001b[39m\u001b[33m/moveTo/o/\u001b[39m\u001b[33m\"\u001b[39m + new_blob.name\n\u001b[32m   2354\u001b[39m move_result = client._post_resource(\n\u001b[32m   2355\u001b[39m     api_path,\n\u001b[32m   2356\u001b[39m     \u001b[38;5;28;01mNone\u001b[39;00m,\n\u001b[32m   (...)\u001b[39m\u001b[32m   2360\u001b[39m     _target_object=new_blob,\n\u001b[32m   2361\u001b[39m )\n\u001b[32m   2363\u001b[39m new_blob._set_properties(move_result)\n",
      "\u001b[31mAttributeError\u001b[39m: 'str' object has no attribute 'path'"
     ]
    }
   ],
   "source": [
    "bucket.move_blob(blob='monthly_manifest_LU20250822_LLU20250822.json', new_name='OSN/stats/monthly_manifest_LU20250822_LLU20250822.json')"
   ]
  },
  {
   "cell_type": "code",
   "execution_count": 38,
   "id": "c603e101",
   "metadata": {},
   "outputs": [],
   "source": [
    "from  datetime import date"
   ]
  },
  {
   "cell_type": "code",
   "execution_count": null,
   "id": "6ef85bfd",
   "metadata": {},
   "outputs": [
    {
     "data": {
      "text/plain": [
       "[{'blob': <Blob: chompitest-odes, monthly_manifest_LU20250822_LLU20250822.json, 1755901300665511>,\n",
       "  'old_name': 'monthly_manifest_LU20250822_LLU20250822.json',\n",
       "  'new_name': 'monthly_manifest_LU20250822_LLU20250822.json',\n",
       "  'renamed': True},\n",
       " {'blob': <Blob: chompitest-odes, test_image_export_2_LU20250822_LLU20250822.tif, 1755901301731976>,\n",
       "  'old_name': 'test_image_export_2_LU20250822_LLU20250822.tif',\n",
       "  'new_name': 'test_image_export_2_LU20250822_LLU20250822.tif',\n",
       "  'renamed': True}]"
      ]
     },
     "execution_count": 64,
     "metadata": {},
     "output_type": "execute_result"
    }
   ],
   "source": [
    "def date_stamp_file():\n",
    "    \n",
    "\n",
    "ld=date.today()\n",
    "ld=ld.strftime(\"%Y%m%d\")\n",
    "\n",
    "\n",
    "#renamed_files=[{\"old_name\": str(f), \"new_name\": f\"{f.stem}_LLU{ld}{f.suffix}\", \"renamed\": False} for f in list_of_files]\n",
    "renamed_files = [{\"blob\": blob, \"old_name\": str(blob.name), \"new_name\": str(blob.name), \"renamed\": True} for blob in list_of_files]\n",
    "renamed_files\n"
   ]
  },
  {
   "cell_type": "code",
   "execution_count": null,
   "id": "be4234b7",
   "metadata": {},
   "outputs": [
    {
     "name": "stdout",
     "output_type": "stream",
     "text": [
      "Renamed monthly_manifest_LU20250822.json to monthly_manifest_LU20250822_LLU20250822.json\n",
      "Renamed test_image_export_2_LU20250822.tif to test_image_export_2_LU20250822_LLU20250822.tif\n"
     ]
    }
   ],
   "source": [
    "for item in renamed_files:\n",
    "    try:\n",
    "        old_name = item[\"old_name\"]\n",
    "        new_name = item[\"new_name\"]\n",
    "        src_blob = bucket.blob(old_name)\n",
    "        new_blob = bucket.rename_blob(src_blob, new_name)\n",
    "        print(f\"Renamed {old_name} to {new_blob.name}\")\n",
    "    except Exception as e:\n",
    "        item[\"renamed\"] = False"
   ]
  },
  {
   "cell_type": "code",
   "execution_count": 70,
   "id": "177a656b",
   "metadata": {},
   "outputs": [
    {
     "name": "stdout",
     "output_type": "stream",
     "text": [
      "Moved monthly_manifest_LU20250822_LLU20250822.json to OSN/stats/\n",
      "Moved test_image_export_2_LU20250822_LLU20250822.tif to OSN/stats/\n"
     ]
    }
   ],
   "source": [
    "for item in renamed_files:\n",
    "    if item['renamed']:\n",
    "        source_blob = bucket.blob(item['new_name'])\n",
    "        destination_blob_name = 'OSN/stats/' + item['new_name']\n",
    "        new_blob = bucket.copy_blob(source_blob, bucket, destination_blob_name)\n",
    "        source_blob.delete()\n",
    "        print(f\"Moved {item['new_name']} to OSN/stats/\")"
   ]
  },
  {
   "cell_type": "code",
   "execution_count": 62,
   "id": "897c157c",
   "metadata": {},
   "outputs": [],
   "source": [
    "import json, logging\n",
    "logger = logging.getLogger(__name__)"
   ]
  },
  {
   "cell_type": "code",
   "execution_count": 64,
   "id": "4652bd95",
   "metadata": {},
   "outputs": [],
   "source": [
    "def read_manifest_from_file(manifest_path: str | Path) -> dict:\n",
    "    manifest_path = Path(manifest_path)\n",
    "    with open(manifest_path, \"r\") as f:\n",
    "        manifest = json.load(f)\n",
    "    return manifest\n",
    "\n",
    "\n",
    "def read_manifest_from_storage(\n",
    "    conn: storage.Client, bucket_name: str, manifest_path: str | Path, name: str\n",
    ") -> dict:\n",
    "    full_path = Path(manifest_path, name)\n",
    "    bucket = conn.bucket(bucket_name)\n",
    "    try:\n",
    "        blob = bucket.blob(full_path.as_posix())\n",
    "        manifest_json = blob.download_as_text()\n",
    "        return json.loads(manifest_json)\n",
    "    except Exception as e:\n",
    "        logger.warning(f\"Error reading manifest from storage: {e}\")\n",
    "        return {}\n",
    "\n",
    "\n",
    "def get_manifest(\n",
    "    source: str,\n",
    "    manifest_path: str | Path,\n",
    "    manifest_name: str,\n",
    "    conn: storage.Client | None,\n",
    "    bucket_name: str | None,\n",
    ") -> dict:\n",
    "    manifest_path = Path(manifest_path)\n",
    "    match source:\n",
    "        case \"storage\":\n",
    "            if not conn or not bucket_name:\n",
    "                raise ValueError(\n",
    "                    \"Storage client and bucket name must be provided for storage source.\"\n",
    "                )\n",
    "            return read_manifest_from_storage(\n",
    "                conn, bucket_name, manifest_path, manifest_name\n",
    "            )\n",
    "\n",
    "        case \"file\":\n",
    "            return read_manifest_from_file(manifest_path / manifest_name)\n",
    "        case _:\n",
    "            raise ValueError(f\"Unknown stats_export_target: {source}:{manifest_path}\")"
   ]
  },
  {
   "cell_type": "code",
   "execution_count": null,
   "id": "662d8da7",
   "metadata": {},
   "outputs": [],
   "source": [
    "storage_client = create_storage_client(\n",
    "    runtime_service_account.project_id, google_credentials\n",
    ")\n",
    "bucket_name = \"chompitest-odes\""
   ]
  },
  {
   "cell_type": "code",
   "execution_count": 54,
   "id": "f7fda184",
   "metadata": {},
   "outputs": [],
   "source": [
    "# local Manifest\n",
    "manifest = get_manifest(\"file\", \"../manifests\", \"monthly_manifest.json\", None, None)"
   ]
  },
  {
   "cell_type": "code",
   "execution_count": 55,
   "id": "5147aae5",
   "metadata": {},
   "outputs": [
    {
     "name": "stdout",
     "output_type": "stream",
     "text": [
      "{'date_created': '2025-08-22T01:19:25.499886', 'image_collection': 'projects/ee-observatorionieves/assets/Test/MODIS/Andes_MCDS4S5_Yearly_Monthly', 'images': ['Andes_MCDS4S5_Yearly_Monthly_2025_01', 'Andes_MCDS4S5_Yearly_Monthly_2025_02', 'Andes_MCDS4S5_Yearly_Monthly_2025_03', 'Andes_MCDS4S5_Yearly_Monthly_2025_04', 'Andes_MCDS4S5_Yearly_Monthly_2025_05', 'Andes_MCDS4S5_Yearly_Monthly_2025_06', 'Andes_MCDS4S5_Yearly_Monthly_2025_07']}\n"
     ]
    }
   ],
   "source": [
    "print(manifest)"
   ]
  },
  {
   "cell_type": "code",
   "execution_count": 67,
   "id": "8136868a",
   "metadata": {},
   "outputs": [],
   "source": [
    "storage_manifest = get_manifest(\"storage\", \"OSN/stats/\", \"monthly_manifest.json\", storage_client, \"chompitest-odes\")\n"
   ]
  },
  {
   "cell_type": "code",
   "execution_count": 68,
   "id": "b852bad9",
   "metadata": {},
   "outputs": [
    {
     "name": "stdout",
     "output_type": "stream",
     "text": [
      "{'date_created': '2025-08-22T01:19:25.499886', 'image_collection': 'projects/ee-observatorionieves/assets/Test/MODIS/Andes_MCDS4S5_Yearly_Monthly', 'images': ['Andes_MCDS4S5_Yearly_Monthly_2025_01', 'Andes_MCDS4S5_Yearly_Monthly_2025_02', 'Andes_MCDS4S5_Yearly_Monthly_2025_03', 'Andes_MCDS4S5_Yearly_Monthly_2025_04', 'Andes_MCDS4S5_Yearly_Monthly_2025_05', 'Andes_MCDS4S5_Yearly_Monthly_2025_06', 'Andes_MCDS4S5_Yearly_Monthly_2025_07']}\n"
     ]
    }
   ],
   "source": [
    "print(storage_manifest)"
   ]
  },
  {
   "cell_type": "code",
   "execution_count": null,
   "id": "f4bfda3d",
   "metadata": {},
   "outputs": [],
   "source": [
    "import re\n",
    "from gee_toolbox.gee import assets\n",
    "\n",
    "def _get_imgs_in_monthly_ic(\n",
    "    monthly_collection_path: str | Path, name_prefix: str\n",
    ") -> list[str]:\n",
    "    \"\"\"Returns the names of images in a monthly collection.\n",
    "\n",
    "    Image names are expected to have one of the following formats:\n",
    "        - [name_prefix]YYYY-MM\n",
    "        - [name_prefix]YYYY_MM\n",
    "        (or if no name_prefix is provided)\n",
    "        - *YYYY-MM\n",
    "        - *YYYY_MM\n",
    "\n",
    "    Args:\n",
    "        expected_dates (list[str]): List of expected dates in the format \"YYYY-MM\"\n",
    "        monthly_collection_path (str): Path to asset collection or folder with exported images\n",
    "        name_prefix (str): Prefix of the image names\n",
    "\n",
    "    Returns:\n",
    "        list[str]: Sorted (asc) list of dates that have not been exported\n",
    "\n",
    "    Raises:\n",
    "        TypeError: If expected_dates is not a list\n",
    "\n",
    "\n",
    "    \"\"\"\n",
    "    # monthly_collection_path will not be checked here since it's already checked to exist and\n",
    "    # be a 'container' type in main process flow.\n",
    "    # TODO: Replace typechecking with pydantic\n",
    "    # TODO: Update typing and documentation of assets.get_asset_names\n",
    "    monthly_collection_path = Path(monthly_collection_path)\n",
    "\n",
    "    # Get names of all images already exported to assets\n",
    "    exported_images = assets.list_assets(\n",
    "        parent=monthly_collection_path.as_posix(), asset_types=[\"Image\"]\n",
    "    )\n",
    "    exported_images = assets.get_asset_names(exported_images)\n",
    "    exported_images = [Path(img).name for img in exported_images]\n",
    "\n",
    "    # Keep only assets that start with the image prefix and end with YYYY-MM\n",
    "    date_pattern = r\"(\\d{4})[_-](\\d{2})\"\n",
    "    if name_prefix:\n",
    "        pattern = rf\"^{name_prefix}{date_pattern}$\"\n",
    "    else:\n",
    "        pattern = rf\".*{date_pattern}$\"\n",
    "\n",
    "    exported_images = [img for img in exported_images if re.fullmatch(pattern, img)]\n",
    "    return exported_images\n",
    "\n",
    "\n",
    "def compare_manifest_to_collection(\n",
    "    manifest_src: str,\n",
    "    manifest_path: str | Path,\n",
    "    manifest_name: str,\n",
    "    collection_path: str | Path,\n",
    "    image_prefix: str,\n",
    "    storage_conn: storage.Client | None = None,\n",
    "    bucket_name: str | None = None,\n",
    ") -> bool:\n",
    "\n",
    "    manifest_path = Path(manifest_path)\n",
    "    collection_path = Path(collection_path)\n",
    "\n",
    "    # Get List of Images from Collection\n",
    "    #image_prefix = _fix_name_prefix(image_prefix)\n",
    "\n",
    "    collection_images = _get_imgs_in_monthly_ic(\n",
    "        monthly_collection_path=collection_path,\n",
    "        name_prefix=image_prefix,\n",
    "    )\n",
    "\n",
    "    # Get list of images in the manifest\n",
    "    manifest = get_manifest(\n",
    "        manifest_src, manifest_path, manifest_name, storage_conn, bucket_name\n",
    "    )\n",
    "    manifest_collection = Path(manifest.get(\"image_collection\", \"\"))\n",
    "    manifest_images = manifest.get(\"images\", [])\n",
    "\n",
    "    return (\n",
    "        collection_path == manifest_collection and collection_images == manifest_images\n",
    "    )"
   ]
  },
  {
   "cell_type": "code",
   "execution_count": 77,
   "id": "10dcc214",
   "metadata": {},
   "outputs": [
    {
     "data": {
      "text/plain": [
       "True"
      ]
     },
     "execution_count": 77,
     "metadata": {},
     "output_type": "execute_result"
    }
   ],
   "source": [
    "compare_manifest_to_collection(\n",
    "    manifest_src=\"file\",\n",
    "    manifest_path=\"../manifests\",\n",
    "    manifest_name=\"monthly_manifest.json\",\n",
    "    collection_path=\"projects/ee-observatorionieves/assets/Test/MODIS/Andes_MCDS4S5_Yearly_Monthly\",\n",
    "    image_prefix=\"Andes_MCDS4S5_Yearly_Monthly_\",\n",
    "    storage_conn=None,\n",
    "    bucket_name=None\n",
    ")"
   ]
  },
  {
   "cell_type": "code",
   "execution_count": 78,
   "id": "df3b2427",
   "metadata": {},
   "outputs": [
    {
     "data": {
      "text/plain": [
       "True"
      ]
     },
     "execution_count": 78,
     "metadata": {},
     "output_type": "execute_result"
    }
   ],
   "source": [
    "compare_manifest_to_collection(\n",
    "    manifest_src=\"storage\",\n",
    "    manifest_path=\"OSN/stats/\",\n",
    "    manifest_name=\"monthly_manifest.json\",\n",
    "    collection_path=\"projects/ee-observatorionieves/assets/Test/MODIS/Andes_MCDS4S5_Yearly_Monthly\",\n",
    "    image_prefix=\"Andes_MCDS4S5_Yearly_Monthly_\",\n",
    "    storage_conn=storage_client,\n",
    "    bucket_name=\"chompitest-odes\",\n",
    ")"
   ]
  },
  {
   "cell_type": "code",
   "execution_count": 81,
   "id": "c71e8563",
   "metadata": {},
   "outputs": [],
   "source": [
    "from datetime import datetime"
   ]
  },
  {
   "cell_type": "code",
   "execution_count": null,
   "id": "9f610ec8",
   "metadata": {},
   "outputs": [],
   "source": [
    "def create_manifest(\n",
    "    images: list[str], collection_path: str | Path, meta: dict = {}\n",
    ") -> str:\n",
    "    collection_path = Path(collection_path)\n",
    "    images.sort()\n",
    "\n",
    "    manifest = {\n",
    "        \"date_created\": datetime.now().isoformat(),\n",
    "        \"image_collection\": collection_path.as_posix(),\n",
    "        \"first_image\": images[0] if images else None,\n",
    "        \"last_image\": images[-1] if images else None,\n",
    "        \"images\": images,\n",
    "        \"metadata\": meta,\n",
    "    }\n",
    "\n",
    "    manifest_json = json.dumps(manifest, indent=2)\n",
    "\n",
    "    # manifest_path = f\"{image_collection_path}/monthly_manifest.json\"\n",
    "    # with open(manifest_path, \"w\") as f:\n",
    "    #     json.dump(manifest, f)\n",
    "    return manifest_json\n",
    "\n",
    "\n",
    "def save_manifest_to_file(\n",
    "    manifest_json: str,\n",
    "    manifest_path: str | Path,\n",
    "    manifest_name: str,\n",
    "    overwrite: bool = False,\n",
    ") -> None:\n",
    "    full_manifest_path = Path(manifest_path, manifest_name)\n",
    "    if full_manifest_path.exists():\n",
    "        if overwrite:\n",
    "            full_manifest_path.unlink(missing_ok=True)\n",
    "        else:\n",
    "            raise FileExistsError(f\"File {full_manifest_path} already exists.\")\n",
    "    with open(full_manifest_path, \"w\") as f:\n",
    "        f.write(manifest_json)\n",
    "\n",
    "\n",
    "def save_manifest_to_storage(\n",
    "    manifest_json: str, manifest_path: str | Path, manifest_name: str, storage_conn: storage.Client, bucket_name: str, overwrite: bool = False\n",
    ") -> None:\n",
    "    full_path = Path(manifest_path, manifest_name)\n",
    "    bucket = storage_conn.bucket(bucket_name)\n",
    "    blob = bucket.blob(full_path.as_posix())\n",
    "\n",
    "    if blob.exists():\n",
    "        if overwrite:\n",
    "            blob.delete()\n",
    "        else:\n",
    "            raise FileExistsError(f\"Blob {full_path.as_posix()} already exists in bucket {bucket_name}.\")\n",
    "    blob.upload_from_string(manifest_json)\n",
    "\n",
    "def save_manifest(\n",
    "    target: str,\n",
    "    manifest_path: str | Path,\n",
    "    manifest_name: str,\n",
    "    manifest_json: str,\n",
    "    storage_conn: storage.Client | None,\n",
    "    bucket_name: str | None,\n",
    "    overwrite: bool = False,\n",
    ") -> None:\n",
    "\n",
    "    match target:\n",
    "        case \"storage\":\n",
    "            if not storage_conn or not bucket_name:\n",
    "                raise ValueError(\n",
    "                    \"Storage client and bucket name must be provided for storage target.\"\n",
    "                )\n",
    "            return save_manifest_to_storage(\n",
    "                manifest_json, manifest_path, manifest_name,  storage_conn, bucket_name, overwrite\n",
    "            )\n",
    "\n",
    "        case \"file\":\n",
    "            return save_manifest_to_file(\n",
    "                manifest_json, manifest_path, manifest_name, overwrite\n",
    "            )\n",
    "        case _:\n",
    "            raise ValueError(f\"Unknown stats_export_target: {target}:{manifest_path}\")\n"
   ]
  },
  {
   "cell_type": "code",
   "execution_count": 100,
   "id": "caac6902",
   "metadata": {},
   "outputs": [],
   "source": [
    "monthly_collection_path=\"projects/ee-observatorionieves/assets/Test/MODIS/Andes_MCDS4S5_Yearly_Monthly\"\n",
    "\n",
    "images = _get_imgs_in_monthly_ic(\n",
    "        monthly_collection_path=monthly_collection_path,\n",
    "        name_prefix=\"Andes_MCDS4S5_Yearly_Monthly_\",\n",
    "    )\n",
    "monthly_manifest = create_manifest(\n",
    "    images=images,\n",
    "    collection_path=monthly_collection_path,\n",
    "    meta={\"description\": \"Monthly Images\"}\n",
    ")\n"
   ]
  },
  {
   "cell_type": "code",
   "execution_count": 101,
   "id": "16441cfc",
   "metadata": {},
   "outputs": [
    {
     "data": {
      "text/plain": [
       "'{\\n  \"date_created\": \"2025-08-24T18:20:50.005101\",\\n  \"image_collection\": \"projects/ee-observatorionieves/assets/Test/MODIS/Andes_MCDS4S5_Yearly_Monthly\",\\n  \"first_image\": \"Andes_MCDS4S5_Yearly_Monthly_2025_01\",\\n  \"last_image\": \"Andes_MCDS4S5_Yearly_Monthly_2025_07\",\\n  \"images\": [\\n    \"Andes_MCDS4S5_Yearly_Monthly_2025_01\",\\n    \"Andes_MCDS4S5_Yearly_Monthly_2025_02\",\\n    \"Andes_MCDS4S5_Yearly_Monthly_2025_03\",\\n    \"Andes_MCDS4S5_Yearly_Monthly_2025_04\",\\n    \"Andes_MCDS4S5_Yearly_Monthly_2025_05\",\\n    \"Andes_MCDS4S5_Yearly_Monthly_2025_06\",\\n    \"Andes_MCDS4S5_Yearly_Monthly_2025_07\"\\n  ],\\n  \"metadata\": {\\n    \"description\": \"Monthly Images\"\\n  }\\n}'"
      ]
     },
     "execution_count": 101,
     "metadata": {},
     "output_type": "execute_result"
    }
   ],
   "source": [
    "monthly_manifest"
   ]
  },
  {
   "cell_type": "code",
   "execution_count": null,
   "id": "e2abef3a",
   "metadata": {},
   "outputs": [],
   "source": [
    "save_manifest(\n",
    "    target=\"file\",\n",
    "    manifest_path=\"../manifests/\",\n",
    "    manifest_name=\"monthly_manifest.json\",\n",
    "    manifest_json=monthly_manifest,\n",
    "    storage_conn=None,\n",
    "    bucket_name=None,\n",
    "    overwrite=True\n",
    ")"
   ]
  },
  {
   "cell_type": "code",
   "execution_count": 106,
   "id": "c3c39992",
   "metadata": {},
   "outputs": [],
   "source": [
    "save_manifest(\n",
    "    target=\"storage\",\n",
    "    manifest_path=\"OSN/stats/\",\n",
    "    manifest_name=\"monthly_manifest.json\",\n",
    "    manifest_json=monthly_manifest,\n",
    "    storage_conn=storage_client,\n",
    "    bucket_name=\"chompitest-odes\",\n",
    "    overwrite=True,\n",
    ")"
   ]
  },
  {
   "cell_type": "code",
   "execution_count": 147,
   "id": "bc0530b6",
   "metadata": {},
   "outputs": [],
   "source": [
    "from datetime import date"
   ]
  },
  {
   "cell_type": "code",
   "execution_count": 163,
   "id": "e3762fc6",
   "metadata": {},
   "outputs": [],
   "source": [
    "def date_stamp_file(file: str|Path) -> Path:\n",
    "    file = Path(file)\n",
    "    lu=date.today().strftime(\"%Y%m%d\")\n",
    "    return file.parent / f\"{file.stem}_LU{lu}{file.suffix}\"\n",
    "\n",
    "def _get_files(files_path: str | Path, storage_conn: storage.Client, bucket_name: str)-> list[Path]:\n",
    "    files_path = Path(files_path)\n",
    "    prefix = files_path.as_posix() + \"/\"\n",
    "    len_prefix = len(prefix)\n",
    "    bucket = storage_conn.bucket(bucket_name)\n",
    "    blobs = bucket.list_blobs(prefix=prefix, delimiter=\"/\")\n",
    "    \n",
    "    \n",
    "    # Exclude Folders. Folders should end with \"/\" on account of delimiter=\"/\"\n",
    "    list_of_files = []\n",
    "    for blob in blobs:\n",
    "        relative_path = blob.name[len_prefix:]\n",
    "        if relative_path and \"/\" not in relative_path: \n",
    "            list_of_files.append(Path(relative_path))\n",
    "    return list_of_files\n",
    "\n",
    "\n",
    "def _rename_files(files: list[str]|list[Path], files_path: str | Path, storage_conn: storage.Client, bucket_name: str) -> list[dict]: \n",
    "    files_= [Path(f) for f in files]\n",
    "    renamed_files = [{'name': f, 'new_name': date_stamp_file(f), 'succeeded': False} for f in files_]\n",
    "\n",
    "    bucket = storage_conn.bucket(bucket_name)\n",
    "    for item in renamed_files:\n",
    "        try:\n",
    "            full_item_name = Path(files_path, item['name']).as_posix()\n",
    "            full_item_new_name = Path(files_path, item['new_name']).as_posix()\n",
    "            blob = bucket.blob(full_item_name)\n",
    "            new_blob = bucket.rename_blob(blob, full_item_new_name)\n",
    "            item[\"succeeded\"] = True\n",
    "            print(f\"Renamed {item['name']} to {new_blob.name}\")\n",
    "        except Exception as e:\n",
    "            print(e)\n",
    "            pass\n",
    "\n",
    "    return renamed_files\n",
    "\n",
    "\n",
    "def _move_files(\n",
    "    files: list[str] | list[Path],\n",
    "    src_path: str | Path,\n",
    "    dest_path: str | Path,\n",
    "    storage_conn: storage.Client,\n",
    "    bucket_name: str,\n",
    "    overwrite: bool = False,\n",
    "):\n",
    "    files_ = [{\"name\": Path(f), \"succeeded\": False} for f in files]\n",
    "    src_path_ = Path(src_path)\n",
    "    dest_path_ = Path(dest_path)\n",
    "    bucket = storage_conn.bucket(bucket_name)\n",
    "    for file in files_:\n",
    "        src_file_name = Path(src_path_, file['name']).as_posix()\n",
    "        dest_file_name = Path(dest_path_, file['name']).as_posix()\n",
    "\n",
    "        src_blob = bucket.blob(src_file_name)\n",
    "        dest_blob = bucket.blob(dest_file_name)\n",
    "        if dest_blob.exists():\n",
    "            if overwrite:\n",
    "                dest_blob.delete()\n",
    "            else:\n",
    "                raise FileExistsError(f\"File {dest_file_name} already exists in bucket {bucket_name}.\")\n",
    "        \n",
    "        try:\n",
    "            dest_blob = bucket.copy_blob(src_blob, bucket, dest_file_name)\n",
    "            src_blob.delete()\n",
    "            file[\"succeeded\"] = True\n",
    "            print(f\"Moved {file['name']} to {dest_path_.as_posix()}/\")\n",
    "        except Exception as e:\n",
    "            logger.warning(e)\n",
    "            pass\n",
    "    return files_\n",
    "\n",
    "\n",
    "def _move_and_rename_files(\n",
    "    files: list[str] | list[Path],\n",
    "    src_path: str | Path,\n",
    "    dest_path: str | Path,\n",
    "    storage_conn: storage.Client,\n",
    "    bucket_name: str,\n",
    "    overwrite: bool = False,\n",
    "):\n",
    "    files_ = [{\"name\": Path(f), \"succeeded\": False} for f in files]\n",
    "    src_path_ = Path(src_path)\n",
    "    dest_path_ = Path(dest_path)\n",
    "    bucket = storage_conn.bucket(bucket_name)\n",
    "    for file in files_:\n",
    "        file[\"new_name\"] = date_stamp_file(file['name'])\n",
    "        src_file_name = Path(src_path_, file['name']).as_posix()\n",
    "        dest_file_name = Path(dest_path_, file[\"new_name\"]).as_posix()\n",
    "\n",
    "        src_blob = bucket.blob(src_file_name)\n",
    "        dest_blob = bucket.blob(dest_file_name)\n",
    "        if dest_blob.exists():\n",
    "            if overwrite:\n",
    "                dest_blob.delete()\n",
    "            else:\n",
    "                raise FileExistsError(f\"File {dest_file_name} already exists in bucket {bucket_name}.\")\n",
    "\n",
    "        try:\n",
    "            dest_blob = bucket.copy_blob(src_blob, bucket, dest_file_name)\n",
    "            src_blob.delete()\n",
    "            file[\"succeeded\"] = True\n",
    "            print(f\"Moved and renamed {src_file_name} to {dest_file_name}\")\n",
    "        except Exception as e:\n",
    "            logger.warning(e)\n",
    "            pass\n",
    "    return files_"
   ]
  },
  {
   "cell_type": "code",
   "execution_count": 135,
   "id": "912e97df",
   "metadata": {},
   "outputs": [
    {
     "name": "stdout",
     "output_type": "stream",
     "text": [
      "[WindowsPath('monthly_manifest.json'), WindowsPath('test_image_export.tif')]\n"
     ]
    }
   ],
   "source": [
    "storage_files = _get_files(\"OSN/stats/\", storage_client, \"chompitest-odes\")\n",
    "print(storage_files)"
   ]
  },
  {
   "cell_type": "code",
   "execution_count": null,
   "id": "73e6b520",
   "metadata": {},
   "outputs": [],
   "source": [
    "manifest_stats_files = [Path(\"stats1.csv\")]\n",
    "storage_files.extend(manifest_stats_files)"
   ]
  },
  {
   "cell_type": "code",
   "execution_count": 137,
   "id": "da88470b",
   "metadata": {},
   "outputs": [
    {
     "name": "stdout",
     "output_type": "stream",
     "text": [
      "[WindowsPath('monthly_manifest.json'), WindowsPath('test_image_export.tif'), WindowsPath('stats1.csv')]\n"
     ]
    }
   ],
   "source": [
    "print(storage_files)"
   ]
  },
  {
   "cell_type": "code",
   "execution_count": 140,
   "id": "3464c4af",
   "metadata": {},
   "outputs": [],
   "source": [
    "files_to_export = [\"stats1.csv\", \"stats2.csv\"]\n",
    "manifest_stats_files = {\"stats1.csv\": \"2025-08-22\", \"stats2.csv\": \"2025-08-22\", \"stats3.csv\": \"2025-08-22\" }"
   ]
  },
  {
   "cell_type": "code",
   "execution_count": 143,
   "id": "a349e23d",
   "metadata": {},
   "outputs": [
    {
     "name": "stdout",
     "output_type": "stream",
     "text": [
      "[WindowsPath('stats1.csv')]\n"
     ]
    }
   ],
   "source": [
    "# identify elements in files_to_export in storage files\n",
    "\n",
    "found_in_storage = [Path(f) for f in files_to_export if Path(f) in storage_files]\n",
    "print(found_in_storage)"
   ]
  },
  {
   "cell_type": "code",
   "execution_count": null,
   "id": "1d542f3c",
   "metadata": {},
   "outputs": [
    {
     "name": "stdout",
     "output_type": "stream",
     "text": [
      "Renamed OSN\\stats\\stats1.csv to OSN/stats/stats1_LU20250824.csv\n"
     ]
    },
    {
     "data": {
      "text/plain": [
       "[{'name': WindowsPath('OSN/stats/stats1.csv'),\n",
       "  'new_name': WindowsPath('OSN/stats/stats1_LU20250824.csv'),\n",
       "  'succeeded': True}]"
      ]
     },
     "execution_count": 153,
     "metadata": {},
     "output_type": "execute_result"
    }
   ],
   "source": [
    "renamed_files =_rename_files(found_in_storage, \"OSN/stats/\", storage_client, \"chompitest-odes\")"
   ]
  },
  {
   "cell_type": "code",
   "execution_count": null,
   "id": "c5a69518",
   "metadata": {},
   "outputs": [],
   "source": [
    "#new_names = [item[\"new_name\"] for item in renamed_files if item[\"succeeded\"]]\n",
    "new_names = [Path(\"stats1_LU20250824.csv\")]"
   ]
  },
  {
   "cell_type": "code",
   "execution_count": null,
   "id": "10f978bd",
   "metadata": {},
   "outputs": [
    {
     "name": "stdout",
     "output_type": "stream",
     "text": [
      "Moved and renamed OSN/stats/stats1.csv to OSN/stats/archived/stats1_LU20250824.csv\n"
     ]
    },
    {
     "data": {
      "text/plain": [
       "[{'name': WindowsPath('stats1.csv'),\n",
       "  'succeeded': True,\n",
       "  'new_name': WindowsPath('stats1_LU20250824.csv')}]"
      ]
     },
     "execution_count": 164,
     "metadata": {},
     "output_type": "execute_result"
    }
   ],
   "source": [
    "moved_files =_move_and_rename_files(found_in_storage, \"OSN/stats/\", \"OSN/stats/archived/\", storage_client, \"chompitest-odes\", overwrite=True)"
   ]
  },
  {
   "cell_type": "code",
   "execution_count": null,
   "id": "4b39e9a0",
   "metadata": {},
   "outputs": [],
   "source": [
    "successful_moves = [item for item in moved_files if item[\"succeeded\"]]"
   ]
  }
 ],
 "metadata": {
  "kernelspec": {
   "display_name": "observatorio-ipa (3.12.7)",
   "language": "python",
   "name": "python3"
  },
  "language_info": {
   "codemirror_mode": {
    "name": "ipython",
    "version": 3
   },
   "file_extension": ".py",
   "mimetype": "text/x-python",
   "name": "python",
   "nbconvert_exporter": "python",
   "pygments_lexer": "ipython3",
   "version": "3.12.7"
  }
 },
 "nbformat": 4,
 "nbformat_minor": 5
}
