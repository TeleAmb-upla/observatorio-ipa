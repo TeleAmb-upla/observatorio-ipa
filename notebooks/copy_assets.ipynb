{
 "cells": [
  {
   "cell_type": "code",
   "execution_count": 17,
   "metadata": {},
   "outputs": [],
   "source": [
    "import ee\n",
    "import ee.data\n",
    "import json\n",
    "from gee_toolbox.gee import assets\n",
    "import pprint"
   ]
  },
  {
   "cell_type": "code",
   "execution_count": 2,
   "metadata": {},
   "outputs": [
    {
     "name": "stdout",
     "output_type": "stream",
     "text": [
      "osn-imageautomation-dev@ee-observatorionieves.iam.gserviceaccount.com\n"
     ]
    }
   ],
   "source": [
    "config = {\n",
    "    \"service_credentials_file\": \"../secrets/ee-observatorionieves-288939dbc1cf.json\"\n",
    "}\n",
    "\n",
    "with open(config['service_credentials_file'], \"r\") as f:\n",
    "        service_account_data = json.load(f)\n",
    "service_user = service_account_data[\"client_email\"]\n",
    "print(service_user)\n",
    "\n",
    "credentials = ee._helpers.ServiceAccountCredentials(\n",
    "    email=service_user,\n",
    "    key_data=json.dumps(service_account_data),\n",
    ")\n",
    "ee.Initialize(credentials, project='ee-observatorionieves')"
   ]
  },
  {
   "cell_type": "code",
   "execution_count": 22,
   "metadata": {},
   "outputs": [],
   "source": [
    "def copy_img_collection(source_ic, dest_ic):\n",
    "    # check if dest_ic already exists. End if it does, create if it doesn't\n",
    "    try:\n",
    "        ee.data.getAsset(dest_ic)\n",
    "        print(f\"{dest_ic} already exists. Exiting.\")\n",
    "        return\n",
    "    except Exception as e:\n",
    "        print(f\"Creating {dest_ic}\")\n",
    "        ee.data.createAsset(value={'type': 'IMAGE_COLLECTION'}, path=dest_ic)\n",
    "\n",
    "    ic_images = assets.list_assets(\n",
    "        parent=source_ic,\n",
    "        asset_types='Image',\n",
    "        expand_image_collections=True\n",
    "        )\n",
    "\n",
    "    ic_images = assets.get_asset_names(ic_images)\n",
    "\n",
    "    for _image in ic_images:\n",
    "        # Get image name\n",
    "        image_name = _image.split('/')[-1]\n",
    "        # Create new path+name\n",
    "        new_path = f'{dest_ic}/{image_name}'\n",
    "        ee.data.copyAsset(_image, new_path)\n",
    "\n",
    "    return"
   ]
  },
  {
   "cell_type": "code",
   "execution_count": 23,
   "metadata": {},
   "outputs": [
    {
     "name": "stdout",
     "output_type": "stream",
     "text": [
      "Creating projects/ee-observatorionieves/assets/MODIS/Andes_MCDS4S5_Yearly_Monthly\n"
     ]
    }
   ],
   "source": [
    "# Copy Monthly Image Collection\n",
    "source_ic = 'users/observatorionieves/MODIS/Andes_MCDS4S5_Yearly_Monthly'\n",
    "dest_ic = 'projects/ee-observatorionieves/assets/MODIS/Andes_MCDS4S5_Yearly_Monthly'\n",
    "copy_img_collection(source_ic, dest_ic)"
   ]
  },
  {
   "cell_type": "code",
   "execution_count": null,
   "metadata": {},
   "outputs": [],
   "source": [
    "# Copy Yearly Image Collection\n",
    "source_ic = \"users/observatorionieves/MODIS/Andes_MCDS4S5_Yearly\"\n",
    "dest_ic = \"projects/ee-observatorionieves/assets/MODIS/Andes_MCDS4S5_Yearly\"\n",
    "copy_img_collection(source_ic, dest_ic)"
   ]
  }
 ],
 "metadata": {
  "kernelspec": {
   "display_name": "observatorio_ipa",
   "language": "python",
   "name": "python3"
  },
  "language_info": {
   "codemirror_mode": {
    "name": "ipython",
    "version": 3
   },
   "file_extension": ".py",
   "mimetype": "text/x-python",
   "name": "python",
   "nbconvert_exporter": "python",
   "pygments_lexer": "ipython3",
   "version": "3.12.7"
  }
 },
 "nbformat": 4,
 "nbformat_minor": 2
}
