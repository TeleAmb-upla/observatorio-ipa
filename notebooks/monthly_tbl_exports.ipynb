{
 "cells": [
  {
   "cell_type": "markdown",
   "id": "12b8d4d2",
   "metadata": {},
   "source": [
    "# Table Export Workflow"
   ]
  },
  {
   "cell_type": "code",
   "execution_count": null,
   "id": "c1f7d69c",
   "metadata": {},
   "outputs": [],
   "source": []
  },
  {
   "cell_type": "code",
   "execution_count": 1,
   "id": "2039c493",
   "metadata": {},
   "outputs": [],
   "source": [
    "# Select the kernel observatorio-ipa(Python 3.12.7) .venv/Scripts/python\n",
    "import json\n",
    "import ee\n",
    "import ee.batch\n",
    "import ee.data\n",
    "import logging\n",
    "import importlib\n",
    "from pathlib import Path\n",
    "from datetime import date, datetime\n",
    "from gee_toolbox.gee import assets as toolbox_assets\n",
    "import sqlite3\n",
    "\n",
    "from observatorio_ipa.services import connections\n",
    "from observatorio_ipa.core.workflows import wflows_connections\n",
    "from observatorio_ipa.core import config\n",
    "from observatorio_ipa.core.defaults import *\n",
    "from observatorio_ipa.utils import dates as utils_dates\n",
    "from observatorio_ipa.services.gee import dates as gee_dates, assets as gee_assets\n",
    "from observatorio_ipa.services.gee.processes import binary, merge\n",
    "from observatorio_ipa.core.workflows.images import monthly_export\n",
    "\n",
    "\n",
    "logger = logging.getLogger(__name__)\n",
    "logger.setLevel(logging.DEBUG)"
   ]
  },
  {
   "cell_type": "code",
   "execution_count": 2,
   "id": "f69fc71f",
   "metadata": {},
   "outputs": [],
   "source": [
    "# general settings\n",
    "#! JS code shows: users/observatorionieves/Cuencas/Andes # Verified on 2025-06-30\n",
    "\n",
    "SENSOR = \"MCD\"\n",
    "settings = {\n",
    "    # User and credentials\n",
    "    \"user\": \"osn-imageautomation-dev@ee-observatorionieves.iam.gserviceaccount.com\",\n",
    "    \"service_credentials_file\": Path(\n",
    "        \"../secrets/ee-observatorionieves-288939dbc1cf.json\"\n",
    "    ),\n",
    "    # Image Collections (Used for both Input and Output)\n",
    "    \"monthly_collection_path\": Path(\n",
    "        \"projects/ee-observatorionieves/assets/MODIS/Andes_MCDS4S5_Yearly_Monthly\"\n",
    "    ),\n",
    "    \"monthly_image_prefix\": \"Andes_MCDS4S5_Yearly_Monthly\",\n",
    "    \"yearly_collection_path\": Path(\"projects/ee-observatorionieves/assets/MODIS/Andes_MCDS4S5_Yearly\"),\n",
    "    'yearly_image_prefix': \"Andes_MCDS4S5_Yearly\",\n",
    "\n",
    "    \"aoi_asset_path\": Path(\"projects/ee-observatorionieves/assets/Modules/Andes\"),\n",
    "    \"dem_asset_path\": Path(\n",
    "        \"projects/ee-observatorionieves/assets/Modules/DEM_SRTM_reproj_MODIS_463_Andes\"\n",
    "    ),\n",
    "\n",
    "\n",
    "    # ----- Stats Input Assets ------\n",
    "    \"basins_asset_path\": Path(\"users/observatorionieves/DGA/Cuencas_BNA_Oficial\"), # BASINS_BNA_ASSET_PATH\n",
    "    \"macrozones_asset_path\": Path(\"users/observatorionieves/DGA/Macrozonas_BNA_Oficial\"), # MACROZONAS_BNA_ASSET_PATH\n",
    "    \"basins_cd_property\": \"COD_CUEN\",\n",
    "    \"stats_dem_asset_path\": Path(\"users/observatorionieves/DEM/DEM_SRTM_reproj_Landsat_100_Andes\"), # DEM_ASSET_PATH\n",
    "    \"salar_mask_asset_path\": Path(\"projects/ee-observatorionieves/assets/Vectores/Salar_mask\"),\n",
    "    \"snow_persistence_asset_path\": Path(\"users/observatorionieves/MODIS/MCD10A1_Andes_T48_Summary/MCD10A1_Andes_T48_Summary_SP\"),\n",
    "    \"snow_persistence_trend_asset_path\": Path(\"users/observatorionieves/MODIS/MCD10A1_Andes_T48_Summary/MCD10A1_Andes_T48_Summary_ST\"),\n",
    "\n",
    "    # ----- Stats Common Output Config -----\n",
    "    \"stats_export_target\": \"storage\",\n",
    "    \"stats_storage_bucket\": \"chompitest-odes\",\n",
    "    \"stats_base_export_path\": Path(\"OSN/stats/\"),\n",
    "    \"basin_codes\": ['023', '024', '030'],\n",
    "    \"exclude_basin_codes\": None,\n",
    "    \"max_exports\": None,\n",
    "    \"common_tbl_pre_prefix\": \"MCD\",\n",
    "    # ----- Elevation Output -----\n",
    "    'elevation_tbl_export_path': Path(\"elev_ee\"),\n",
    "    'elev_basin_tbl_prefix': f\"elev_BNA_\",\n",
    "    'sca_elev_basin_tbl_prefix': f\"SCA_elev_BNA_\",\n",
    "\n",
    "    # ----- Month (across-years) Statistics Output -----\n",
    "    'month_tbl_export_path': Path(\"month_ee\"),\n",
    "    'sca_m_basin_tbl_prefix': f\"SCA_m_BNA_\",\n",
    "    'sca_m_elev_basin_tbl_prefix': f\"SCA_m_elev_BNA_\",\n",
    "    'sca_m_trend_basin_tbl_prefix': f\"SCA_m_trend_BNA_\",\n",
    "\n",
    "    # ----- Monthly (year/month) Statistics Output -----\n",
    "    'year_month_tbl_export_path': Path(\"yearMonth_ee\"),\n",
    "    'sca_y_m_basin_tbl_prefix': f\"SCA_y_m_BNA_\",\n",
    "    'sca_ym_basin_tbl_prefix': f\"SCA_ym_BNA_\",\n",
    "    'sca_ym_elev_basin_tbl_prefix': f\"SCA_ym_elev_BNA_\",\n",
    "    'snowline_ym_basin_tbl_prefix': f\"snowline_ym_BNA_\",\n",
    "\n",
    "    # ----- Yearly Statistics Output -----\n",
    "    'year_tbl_export_path': Path(\"year_ee\"),\n",
    "    'sca_y_basin_tbl_prefix': f\"SCA_y_BNA_\",\n",
    "    'sca_y_elev_basin_tbl_prefix': f\"SCA_y_elev_BNA_\",\n",
    "    'sca_y_t_area_basin_tbl_prefix': f\"SCA_y_t_area_BNA_\",\n",
    "    'sca_y_t_elev_basin_tbl_prefix': f\"SCA_y_t_elev_BNA_\",\n",
    "    'snowline_y_basin_tbl_prefix': f\"snowline_y_BNA_\",\n",
    "\n",
    "    # ----- stats manifest -----\n",
    "    \"manifest_source\": \"file\",  # file or storage\n",
    "    \"monthly_manifest_path\": Path(\"../manifests/\"),\n",
    "}"
   ]
  },
  {
   "cell_type": "code",
   "execution_count": 3,
   "id": "aee48479",
   "metadata": {},
   "outputs": [],
   "source": [
    "# Connect to Google Earth Engine\n",
    "from observatorio_ipa.services import connections\n",
    "\n",
    "runtime_service_account = connections.GoogleServiceAccount(\n",
    "    settings[\"service_credentials_file\"].as_posix(),\n",
    ")\n",
    "connections.connect_to_gee(runtime_service_account)"
   ]
  },
  {
   "cell_type": "code",
   "execution_count": 4,
   "id": "d1ddf6b5",
   "metadata": {},
   "outputs": [],
   "source": [
    "# Connect to Google Cloud Storage\n",
    "from google.oauth2 import service_account\n",
    "from googleapiclient.errors import HttpError\n",
    "\n",
    "# Make Google Cloud Credentials\n",
    "# Connect to Google API and build service\n",
    "google_credentials = service_account.Credentials.from_service_account_info(\n",
    "    runtime_service_account.credentials\n",
    ")"
   ]
  },
  {
   "cell_type": "code",
   "execution_count": 5,
   "id": "7c9e72bc",
   "metadata": {},
   "outputs": [
    {
     "data": {
      "text/plain": [
       "<module 'observatorio_ipa.core.workflows.tables.monthly_exports' from 'C:\\\\Users\\\\erick\\\\Documents\\\\Projects\\\\teleamb\\\\observatorio_ipa\\\\src\\\\observatorio_ipa\\\\core\\\\workflows\\\\tables\\\\monthly_exports.py'>"
      ]
     },
     "execution_count": 5,
     "metadata": {},
     "output_type": "execute_result"
    }
   ],
   "source": [
    "from observatorio_ipa.core.workflows.tables import monthly_exports\n",
    "importlib.reload(monthly_exports)"
   ]
  },
  {
   "cell_type": "code",
   "execution_count": 6,
   "id": "a359432f",
   "metadata": {},
   "outputs": [],
   "source": [
    "# Create Google Cloud Storage client\n",
    "storage_client = monthly_exports.create_storage_client(\n",
    "    project=runtime_service_account.project_id,\n",
    "    credentials=google_credentials\n",
    ")\n"
   ]
  },
  {
   "cell_type": "code",
   "execution_count": 7,
   "id": "935d1caa",
   "metadata": {},
   "outputs": [
    {
     "name": "stdout",
     "output_type": "stream",
     "text": [
      "Table Names Prefix:\n",
      " - MCD_elev_BNA_\n",
      " - MCD_SCA_elev_BNA_\n",
      " - MCD_SCA_m_BNA_\n",
      " - MCD_SCA_m_elev_BNA_\n",
      " - MCD_SCA_m_trend_BNA_\n",
      " - MCD_SCA_y_m_BNA_\n",
      " - MCD_SCA_ym_BNA_\n",
      " - MCD_SCA_ym_elev_BNA_\n",
      " - MCD_snowline_ym_BNA_\n",
      " - MCD_SCA_y_BNA_\n",
      " - MCD_SCA_y_elev_BNA_\n",
      " - MCD_SCA_y_t_area_BNA_\n",
      " - MCD_SCA_y_t_elev_BNA_\n",
      " - MCD_snowline_y_BNA_\n",
      "Elevation Export Path: OSN\\stats\\elev_ee\n",
      "Elevation Archive Path: OSN\\stats\\archive\\elev_ee\n",
      "Moved and renamed OSN/stats/elev_ee/MCD_SCA_elev_BNA_023.csv to OSN/stats/archive/elev_ee/MCD_SCA_elev_BNA_023_LU20250826.csv\n",
      "Moved and renamed OSN/stats/elev_ee/MCD_SCA_elev_BNA_024.csv to OSN/stats/archive/elev_ee/MCD_SCA_elev_BNA_024_LU20250826.csv\n",
      "Moved and renamed OSN/stats/elev_ee/MCD_SCA_elev_BNA_030.csv to OSN/stats/archive/elev_ee/MCD_SCA_elev_BNA_030_LU20250826.csv\n",
      "Month Export Path: OSN\\stats\\month_ee\n",
      "Month Archive Path: OSN\\stats\\archive\\month_ee\n",
      "Monthly Export Path: OSN\\stats\\yearMonth_ee\n",
      "Monthly Archive Path: OSN\\stats\\archive\\yearMonth_ee\n",
      "Moved and renamed OSN/stats/yearMonth_ee/MCD_SCA_ym_BNA_023.csv to OSN/stats/archive/yearMonth_ee/MCD_SCA_ym_BNA_023_LU20250826.csv\n",
      "Moved and renamed OSN/stats/yearMonth_ee/MCD_SCA_ym_BNA_024.csv to OSN/stats/archive/yearMonth_ee/MCD_SCA_ym_BNA_024_LU20250826.csv\n",
      "Moved and renamed OSN/stats/yearMonth_ee/MCD_SCA_ym_BNA_030.csv to OSN/stats/archive/yearMonth_ee/MCD_SCA_ym_BNA_030_LU20250826.csv\n",
      "Moved and renamed OSN/stats/yearMonth_ee/MCD_SCA_ym_elev_BNA_023.csv to OSN/stats/archive/yearMonth_ee/MCD_SCA_ym_elev_BNA_023_LU20250826.csv\n",
      "Moved and renamed OSN/stats/yearMonth_ee/MCD_SCA_ym_elev_BNA_024.csv to OSN/stats/archive/yearMonth_ee/MCD_SCA_ym_elev_BNA_024_LU20250826.csv\n",
      "Moved and renamed OSN/stats/yearMonth_ee/MCD_SCA_ym_elev_BNA_030.csv to OSN/stats/archive/yearMonth_ee/MCD_SCA_ym_elev_BNA_030_LU20250826.csv\n",
      "Moved and renamed OSN/stats/yearMonth_ee/MCD_snowline_ym_BNA_023.csv to OSN/stats/archive/yearMonth_ee/MCD_snowline_ym_BNA_023_LU20250826.csv\n",
      "Moved and renamed OSN/stats/yearMonth_ee/MCD_snowline_ym_BNA_024.csv to OSN/stats/archive/yearMonth_ee/MCD_snowline_ym_BNA_024_LU20250826.csv\n",
      "Moved and renamed OSN/stats/yearMonth_ee/MCD_snowline_ym_BNA_030.csv to OSN/stats/archive/yearMonth_ee/MCD_snowline_ym_BNA_030_LU20250826.csv\n",
      "Year Export Path: OSN\\stats\\year_ee\n",
      "Year Archive Path: OSN\\stats\\archive\\year_ee\n"
     ]
    }
   ],
   "source": [
    "monthly_export_list = monthly_exports.monthly_tbl_export_proc(\n",
    "    settings=settings, \n",
    "    storage_conn=storage_client,\n",
    "    storage_bucket=settings[\"stats_storage_bucket\"],\n",
    "    force_overwrite=True,\n",
    "    skip_manifest=False\n",
    ")"
   ]
  },
  {
   "cell_type": "code",
   "execution_count": 16,
   "id": "7c7ffc3a",
   "metadata": {},
   "outputs": [
    {
     "data": {
      "text/plain": [
       "{'COMPLETED': 24}"
      ]
     },
     "execution_count": 16,
     "metadata": {},
     "output_type": "execute_result"
    }
   ],
   "source": [
    "monthly_export_list.query_status()"
   ]
  },
  {
   "cell_type": "code",
   "execution_count": 17,
   "id": "4a9e3367",
   "metadata": {},
   "outputs": [
    {
     "name": "stdout",
     "output_type": "stream",
     "text": [
      "| Status    | Count |\n",
      "| COMPLETED |   24  |\n"
     ]
    }
   ],
   "source": [
    "print(monthly_export_list.pretty_summary())"
   ]
  }
 ],
 "metadata": {
  "kernelspec": {
   "display_name": "observatorio-ipa (3.12.7)",
   "language": "python",
   "name": "python3"
  },
  "language_info": {
   "codemirror_mode": {
    "name": "ipython",
    "version": 3
   },
   "file_extension": ".py",
   "mimetype": "text/x-python",
   "name": "python",
   "nbconvert_exporter": "python",
   "pygments_lexer": "ipython3",
   "version": "3.12.7"
  }
 },
 "nbformat": 4,
 "nbformat_minor": 5
}
