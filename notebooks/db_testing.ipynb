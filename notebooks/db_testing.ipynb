{
 "cells": [
  {
   "cell_type": "markdown",
   "id": "550cbbbc",
   "metadata": {},
   "source": [
    "# DB Testing"
   ]
  },
  {
   "cell_type": "code",
   "execution_count": 1,
   "id": "3f94cdf1",
   "metadata": {},
   "outputs": [],
   "source": [
    "from pathlib import Path\n",
    "import sqlite3"
   ]
  },
  {
   "cell_type": "code",
   "execution_count": 2,
   "id": "17c9cd10",
   "metadata": {},
   "outputs": [],
   "source": [
    "db_path = Path(\"../observatorio_ipa.db\")"
   ]
  },
  {
   "cell_type": "code",
   "execution_count": 7,
   "id": "d4e87c9a",
   "metadata": {},
   "outputs": [
    {
     "name": "stdout",
     "output_type": "stream",
     "text": [
      "Opened SQLite database with version 3.47.0 successfully.\n"
     ]
    }
   ],
   "source": [
    "# test Connection\n",
    "try:\n",
    "    with sqlite3.connect(db_path) as conn:\n",
    "        print(\n",
    "            f\"Opened SQLite database with version {sqlite3.sqlite_version} successfully.\"\n",
    "        )\n",
    "except sqlite3.OperationalError as e:\n",
    "    print(\"Failed to open database:\", e)"
   ]
  },
  {
   "cell_type": "code",
   "execution_count": 3,
   "id": "785f3d58",
   "metadata": {},
   "outputs": [],
   "source": [
    "# Simple Query\n",
    "try:\n",
    "    with sqlite3.connect(db_path) as conn:\n",
    "        sql = \"SELECT * FROM jobs;\"\n",
    "        cursor = conn.cursor()\n",
    "        cursor.execute(sql)\n",
    "        rows = cursor.fetchall()\n",
    "        for row in rows:\n",
    "            print(row)\n",
    "except sqlite3.OperationalError as e:\n",
    "    print(\"Failed to open database:\", e)"
   ]
  },
  {
   "cell_type": "code",
   "execution_count": 4,
   "id": "cac50f1c",
   "metadata": {},
   "outputs": [
    {
     "data": {
      "text/plain": [
       "list"
      ]
     },
     "execution_count": 4,
     "metadata": {},
     "output_type": "execute_result"
    }
   ],
   "source": [
    "type(rows)"
   ]
  },
  {
   "cell_type": "code",
   "execution_count": 6,
   "id": "465b60b0",
   "metadata": {},
   "outputs": [
    {
     "name": "stdout",
     "output_type": "stream",
     "text": [
      "('jobs',)\n",
      "('exports',)\n"
     ]
    }
   ],
   "source": [
    "try:\n",
    "    with sqlite3.connect(db_path) as conn:\n",
    "        sql = \"SELECT name FROM sqlite_master WHERE type='table';\"\n",
    "        cursor = conn.cursor()\n",
    "        cursor.execute(sql)\n",
    "        rows = cursor.fetchall()\n",
    "        for row in rows:\n",
    "            print(row)\n",
    "except sqlite3.OperationalError as e:\n",
    "    print(\"Failed to open database:\", e)"
   ]
  }
 ],
 "metadata": {
  "kernelspec": {
   "display_name": "observatorio-ipa (3.12.7)",
   "language": "python",
   "name": "python3"
  },
  "language_info": {
   "codemirror_mode": {
    "name": "ipython",
    "version": 3
   },
   "file_extension": ".py",
   "mimetype": "text/x-python",
   "name": "python",
   "nbconvert_exporter": "python",
   "pygments_lexer": "ipython3",
   "version": "3.12.7"
  }
 },
 "nbformat": 4,
 "nbformat_minor": 5
}
