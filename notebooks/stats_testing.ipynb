{
 "cells": [
  {
   "cell_type": "code",
   "execution_count": 1,
   "id": "5af8e644",
   "metadata": {},
   "outputs": [
    {
     "data": {
      "text/plain": [
       "<module 'observatorio_ipa.services.connections' from 'C:\\\\Users\\\\erick\\\\Documents\\\\Projects\\\\teleamb\\\\observatorio_ipa\\\\src\\\\observatorio_ipa\\\\services\\\\connections.py'>"
      ]
     },
     "execution_count": 1,
     "metadata": {},
     "output_type": "execute_result"
    }
   ],
   "source": [
    "# earthengine-api v1.5.15 (asof 2025-07-17 )\n",
    "# earthengine-api v1.5.24 (asof 2025-07-19 )\n",
    "# earthengine-api v1.6.2 (asof 2025-08-04 )\n",
    "\n",
    "import ee\n",
    "import ee.batch\n",
    "from pprint import pprint\n",
    "from pathlib import Path\n",
    "from importlib import reload\n",
    "from observatorio_ipa.core import config\n",
    "from observatorio_ipa.services import connections\n",
    "from observatorio_ipa.services.gdrive import assets as gdrive_assets\n",
    "reload(connections)"
   ]
  },
  {
   "cell_type": "markdown",
   "id": "5ec3132f",
   "metadata": {},
   "source": [
    "## Conf Values and Constants"
   ]
  },
  {
   "cell_type": "code",
   "execution_count": 2,
   "id": "2bbe5c5c",
   "metadata": {},
   "outputs": [],
   "source": [
    "# CONFIG\n",
    "runtime_settings = config.Settings(\n",
    "    user=\"osn-imageautomation-dev@ee-observatorionieves.iam.gserviceaccount.com\",\n",
    "    service_credentials_file=Path(\"../secrets/ee-observatorionieves-288939dbc1cf.json\"),\n",
    "    daily_assets_path=None,\n",
    "    monthly_assets_path=Path(\n",
    "        \"users/observatorionieves/MODIS/Andes_MCDS4S5_Yearly_Monthly\"\n",
    "    ),\n",
    "    monthly_image_prefix=\"Andes_MCDS4S5_Yearly_Monthly\",\n",
    "    months_list=[\"2025-05\", \"2025-06\"],\n",
    "    yearly_assets_path=None,\n",
    "    aoi_asset_path=Path(\n",
    "        \"projects/ee-observatorionieves/assets/Modules/Andes\"\n",
    "    ),  #! JS code shows: users/observatorionieves/Cuencas/Andes # Verified on 2025-06-30\n",
    "    dem_asset_path=Path(\n",
    "        \"projects/ee-observatorionieves/assets/Modules/DEM_SRTM_reproj_MODIS_463_Andes\"\n",
    "    ),  #! JS code shows: users/observatorionieves//DEM_SRTM_reproj_MODIS_463_D_Andes # Verified on 2025-06-30\n",
    ")"
   ]
  },
  {
   "cell_type": "code",
   "execution_count": 3,
   "id": "e0ec1284",
   "metadata": {},
   "outputs": [],
   "source": [
    "# CONSTANTS\n",
    "\n",
    "# ? Identify when snow_persistence and snow_persistence_trend images are created\n",
    "\n",
    "SENSOR = \"MCD\"\n",
    "SALAR_MASK_ASSET_PATH = \"projects/ee-observatorionieves/assets/Vectores/Salar_mask\"\n",
    "MONTHLY_ASSETS_PATH = \"projects/ee-observatorionieves/assets/MODIS/Andes_MCDS4S5_Yearly_Monthly\" # 305 images as of 2025-07-17\n",
    "YEARLY_ASSETS_PATH = \"projects/ee-observatorionieves/assets/MODIS/Andes_MCDS4S5_Yearly\" #25 images as of 2025-07-17\n",
    "SNOW_PERSISTENCE_ASSET_PATH = \"users/observatorionieves/MODIS/MCD10A1_Andes_T48_Summary/MCD10A1_Andes_T48_Summary_SP\"\n",
    "SNOW_PERSISTENCE_TREND_ASSET_PATH = \"users/observatorionieves/MODIS/MCD10A1_Andes_T48_Summary/MCD10A1_Andes_T48_Summary_ST\"\n",
    "BASINS_BNA_ASSET_PATH = \"users/observatorionieves/DGA/Cuencas_BNA_Oficial\"\n",
    "MACROZONAS_BNA_ASSET_PATH = \"users/observatorionieves/DGA/Macrozonas_BNA_Oficial\"\n",
    "DEM_ASSET_PATH = \"users/observatorionieves/DEM/DEM_SRTM_reproj_Landsat_100_Andes\"\n",
    "\n",
    "# ----- SP Image split --------\n",
    "TC_SP_IMG_PREFIX=f\"{SENSOR}_Andes_MCD10A1_SP_\"\n",
    "ASSETS_TC_SP_IMG_EXPORT_PATH=\"projects/ee-observatorionieves/assets/Test/yearly_tc_sp\" # Gdrive path was tc_SP\n",
    "GDRIVE_TC_SP_IMG_EXPORT_PATH=\"test_yearly_tc_sp\"  # Gdrive path was tc_SP\n",
    "\n",
    "TC_ST_IMG_PREFIX=f\"{SENSOR}_Andes_MCD10A1_ST_\"\n",
    "ASSETS_TC_ST_IMG_EXPORT_PATH=\"projects/ee-observatorionieves/assets/Test/yearly_tc_st\" # Gdrive path was tc_ST\n",
    "GDRIVE_TC_ST_IMG_EXPORT_PATH=\"test_yearly_tc_st\"  # Gdrive path was tc_ST\n",
    "\n",
    "# ----- Elevation --------\n",
    "ELEV_BNA_TBL_PREFIX = f\"{SENSOR}_elev_BNA_\"\n",
    "ASSETS_ELEV_BNA_TBL_EXPORT_PATH = \"projects/ee-observatorionieves/assets/Test/elev_ee\"  \n",
    "GDRIVE_ELEV_BNA_TBL_EXPORT_PATH = \"test_elev_ee\"  # Gdrive path was elev_ee\n",
    "\n",
    "# ----- SCA per elevation --------\n",
    "SCA_ELEV_BNA_TBL_PREFIX = f\"{SENSOR}_SCA_elev_BNA_\"\n",
    "ASSETS_SCA_ELEV_BNA_TBL_EXPORT_PATH = ASSETS_ELEV_BNA_TBL_EXPORT_PATH\n",
    "GDRIVE_SCA_ELEV_BNA_TBL_EXPORT_PATH = GDRIVE_ELEV_BNA_TBL_EXPORT_PATH\n",
    "\n",
    "# ----- Month Statistics -----\n",
    "SCA_M_BNA_TBL_PREFIX = f\"{SENSOR}_SCA_m_BNA_\"\n",
    "ASSETS_MONTH_TBL_EXPORT_PATH = \"projects/ee-observatorionieves/assets/Test/month_ee\"\n",
    "GDRIVE_MONTH_TBL_EXPORT_PATH = \"test_month_ee\"  # Gdrive path was month_ee\n",
    "\n",
    "# ----- Month Elevation Statistics -----\n",
    "SCA_M_ELEV_BNA_TBL_PREFIX = f\"{SENSOR}_SCA_m_elev_BNA_\"\n",
    "\n",
    "# ----- Month Trend Statistics -----\n",
    "SCA_M_TREND_BNA_TBL_PREFIX = f\"{SENSOR}_SCA_m_trend_BNA_\"\n",
    "\n",
    "# ----- Year Statistics -----\n",
    "SCA_Y_BNA_TBL_PREFIX = f\"{SENSOR}_SCA_y_BNA_\"\n",
    "ASSETS_YEAR_TBL_EXPORT_PATH = \"projects/ee-observatorionieves/assets/Test/year_ee\"\n",
    "GDRIVE_YEAR_TBL_EXPORT_PATH = \"test_year_ee\"  # Gdrive path was year_ee\n",
    "\n",
    "# ----- Year Elevation Statistics -----\n",
    "SCA_Y_ELEV_BNA_TBL_PREFIX = f\"{SENSOR}_SCA_y_elev_BNA_\"\n",
    "\n",
    "# ----- Year Trend Area Statistics -----\n",
    "SCA_Y_T_AREA_BNA_TBL_PREFIX = f\"{SENSOR}_SCA_y_t_area_BNA_\"\n",
    "\n",
    "# ----- Year Trend Elevation Statistics -----\n",
    "SCA_Y_T_ELEV_BNA_TBL_PREFIX = f\"{SENSOR}_SCA_y_t_elev_BNA_\"\n",
    "\n",
    "# ----- Year Snowline elevation Statistics -----\n",
    "SNOWLINE_Y_BNA_TBL_PREFIX = f\"{SENSOR}_snowline_y_BNA_\"\n",
    "\n",
    "# ----- Monthly (year/month) Statistics -----\n",
    "SCA_Y_M_BNA_TBL_PREFIX = f\"{SENSOR}_SCA_y_m_BNA_\"\n",
    "ASSETS_YEAR_MONTH_TBL_EXPORT_PATH = \"projects/ee-observatorionieves/assets/Test/yearMonth_ee\"\n",
    "GDRIVE_YEAR_MONTH_TBL_EXPORT_PATH = \"test_yearMonth_ee\"  # Gdrive path was yearMonth_ee\n",
    "\n",
    "# ----- Monthly (year/month) Statistics -----\n",
    "SCA_YM_BNA_TBL_PREFIX = f\"{SENSOR}_SCA_ym_BNA_\"\n",
    "\n",
    "# ----- Monthly (year/month) elevation Statistics -----\n",
    "SCA_YM_ELEV_BNA_TBL_PREFIX = f\"{SENSOR}_SCA_ym_elev_BNA_\"\n",
    "\n",
    "# ----- Monthly (year/month) Snowline elevation Statistics -----\n",
    "SNOWLINE_YM_BNA_TBL_PREFIX = f\"{SENSOR}_snowline_ym_BNA_\"\n",
    "\n",
    "# ----- National Statistics -----\n",
    "ASSETS_NATIONAL_TBL_EXPORT_PATH = \"projects/ee-observatorionieves/assets/Test/total_ee\"\n",
    "GDRIVE_NATIONAL_TBL_EXPORT_PATH = \"test_total_ee\"  # Gdrive path was total_ee\n",
    "\n",
    "# ----- National Snow Persistence Statistics -----\n",
    "TC_SP_SCA_TBL_NAME = f\"{SENSOR}_tc_SP_SCA\"\n",
    "\n",
    "# ----- National Snow Persistence Anomaly -----\n",
    "TC_SP_ANOMALY_TBL_NAME = f\"{SENSOR}_tc_SP_anomalia\"\n",
    "\n",
    "# ----- National Snow Persistence Area -----\n",
    "TC_SP_AREA_TBL_NAME = f\"{SENSOR}_tc_SP_area\"\n",
    "\n",
    "# ----- National SCA slopes  -----\n",
    "TC_CA_SCA_TBL_NAME= f\"{SENSOR}_tc_ca_SCA\"\n",
    "\n",
    "# ----- National SCA slopes  -----\n",
    "TC_CA_AREA_TBL_NAME = f\"{SENSOR}_tc_ca_area\"\n",
    "\n",
    "# ----- National Snowline Change -----\n",
    "TC_CA_SNOWLINE_TBL_NAME = f\"{SENSOR}_tc_ca_snowline\"\n",
    "\n",
    "# ----- National Macro Zone Snow Persistence Area -----\n",
    "TM_SP_AREA_TBL_NAME = f\"{SENSOR}_tm_SP_area\"\n",
    "\n",
    "# ----- National Area per Trend Magnitud and Macro Zone -----\n",
    "TM_SP_Y_T_AREA_TBL_NAME = f\"{SENSOR}_tm_SP_y_t_area\""
   ]
  },
  {
   "cell_type": "code",
   "execution_count": 4,
   "id": "d25d1178",
   "metadata": {},
   "outputs": [],
   "source": [
    "# Connect to GEE\n",
    "\n",
    "runtime_service_account = connections.GoogleServiceAccount(\n",
    "    runtime_settings.service_credentials_file.as_posix(),\n",
    ")\n",
    "connections.connect_to_gee(runtime_service_account)\n",
    "\n",
    "# Connect to GDrive\n",
    "gdrive_service = connections.connect_to_gdrive(runtime_service_account)"
   ]
  },
  {
   "cell_type": "code",
   "execution_count": 5,
   "id": "1470280a",
   "metadata": {},
   "outputs": [
    {
     "data": {
      "text/plain": [
       "['https://www.googleapis.com/auth/earthengine',\n",
       " 'https://www.googleapis.com/auth/cloud-platform',\n",
       " 'https://www.googleapis.com/auth/drive',\n",
       " 'https://www.googleapis.com/auth/devstorage.full_control']"
      ]
     },
     "execution_count": 5,
     "metadata": {},
     "output_type": "execute_result"
    }
   ],
   "source": [
    "ee.oauth.SCOPES"
   ]
  },
  {
   "cell_type": "markdown",
   "id": "a2b17ce5",
   "metadata": {},
   "source": [
    "## Check access to assets and folders (Google Drive and GEE Assets)"
   ]
  },
  {
   "cell_type": "code",
   "execution_count": 6,
   "id": "a7b000a2",
   "metadata": {},
   "outputs": [
    {
     "data": {
      "text/plain": [
       "True"
      ]
     },
     "execution_count": 6,
     "metadata": {},
     "output_type": "execute_result"
    }
   ],
   "source": [
    "gdrive_assets.check_folder_exists(\n",
    "    drive_service=gdrive_service, path=GDRIVE_TC_SP_IMG_EXPORT_PATH\n",
    ")"
   ]
  },
  {
   "cell_type": "code",
   "execution_count": 7,
   "id": "c51b6228",
   "metadata": {},
   "outputs": [
    {
     "data": {
      "text/plain": [
       "True"
      ]
     },
     "execution_count": 7,
     "metadata": {},
     "output_type": "execute_result"
    }
   ],
   "source": [
    "gdrive_assets.check_folder_exists(\n",
    "    drive_service=gdrive_service, path=\"test_yearly_tc_sp\"\n",
    ")"
   ]
  },
  {
   "cell_type": "code",
   "execution_count": 8,
   "id": "421ca5e8",
   "metadata": {},
   "outputs": [
    {
     "name": "stdout",
     "output_type": "stream",
     "text": [
      "Folders:\n",
      "Name: observatorio_tests, ID: 1QQ11X1SLRyg8qNh_IH5hoedJCrFFfjd5\n",
      "Name: test_yearly_tc_st, ID: 1L5hWqJZlwrW5GnM9cmvdNWsFya6ZoKzq\n",
      "Name: test_yearly_tc_sp, ID: 1rZl9lD2LuJ9tFihbYIhAzGjtXAiXbki2\n",
      "Name: projects/ee-observatorionieves/assets/Test/elev_ee, ID: 1SRWugLRr6PpfRXZ3ln_BAGR6Yuw2GaG5\n",
      "Name: test_elev_ee, ID: 1nC6aDEsA8ytsLcGWFbK-IP3Nws-isfX_\n",
      "Name: New_Raster_SCI_CCI, ID: 1EG0Y39mIwHnENuVj6idLCvYjRRfK1JbJ\n",
      "Name: New_Raster_SCI_CCI, ID: 1UDjZuZHrJZWOaOPfODoIw4U6PMT5545D\n",
      "Name: Raster_SCI_CCI, ID: 1eZ4T3ImUlzfzp_N69jCk-s3pGCCvT9Te\n",
      "Name: test_elev_bna, ID: 1fqwTbDw-98skPlpBH0yafmKLbdF9Q9WR\n"
     ]
    }
   ],
   "source": [
    "#from googleapiclient.discovery import build\n",
    "\n",
    "# ... (Authentication and service object creation) ...\n",
    "# service = build('drive', 'v3', credentials=creds)\n",
    "\n",
    "results = (\n",
    "    gdrive_service.files()\n",
    "    .list(\n",
    "        q=\"mimeType='application/vnd.google-apps.folder'\",\n",
    "        fields=\"nextPageToken, files(id, name, parents)\",\n",
    "        corpora=\"user\",  # Or 'allDrives' if searching across shared drives\n",
    "    )\n",
    "    .execute()\n",
    ")\n",
    "\n",
    "items = results.get(\"files\", [])\n",
    "if not items:\n",
    "    print(\"No folders found.\")\n",
    "else:\n",
    "    print(\"Folders:\")\n",
    "    for item in items:\n",
    "        print(f\"Name: {item['name']}, ID: {item['id']}\")"
   ]
  },
  {
   "cell_type": "markdown",
   "id": "4d9fdd77",
   "metadata": {},
   "source": [
    "## Useful Functions for this Notebook\n"
   ]
  },
  {
   "cell_type": "code",
   "execution_count": 9,
   "id": "15007936",
   "metadata": {},
   "outputs": [],
   "source": [
    "def check_export_list_status(task_list):\n",
    "    \"\"\"\n",
    "    Check the status of each task in the provided list.\n",
    "    Returns a list of task statuses.\n",
    "    \"\"\"\n",
    "    task_list = [task for task in task_list if task is not None]\n",
    "    # Manually monitor task status\n",
    "    latest_status = []\n",
    "    status = []\n",
    "    for task in task_list:\n",
    "        updated_status = task.status()\n",
    "        latest_status.append(updated_status)\n",
    "        status.append(updated_status[\"state\"])\n",
    "        # print(f\"Task {task.id} status: {task.status()['state']}\")\n",
    "\n",
    "    # count per state\n",
    "    status_count = {state: status.count(state) for state in set(status)}\n",
    "    print(\"Task status count:\", status_count)\n",
    "    return latest_status\n",
    "\n",
    "\n",
    "def print_fc_properties(fc, select_properties=None, max_features=None):\n",
    "    properties_list = [item[\"properties\"] for item in fc[\"features\"]]\n",
    "    if select_properties:\n",
    "        # Order properties according to select_properties\n",
    "        properties_list = [\n",
    "            {k: item.get(k, None) for k in select_properties}\n",
    "            for item in properties_list\n",
    "        ]\n",
    "    \n",
    "    if max_features and max_features > len(properties_list):\n",
    "        max_features = len(properties_list)-1\n",
    "\n",
    "    properties_list = properties_list[:max_features] if max_features else properties_list\n",
    "    \n",
    "    for item in properties_list:\n",
    "        print(item)\n",
    "\n",
    "\n",
    "def _ee_assign_dummy_geom(ee_feature: ee.feature.Feature) -> ee.feature.Feature:\n",
    "    \"\"\"Assigns a dummy geometry to a feature if it has no coordinates.\n",
    "\n",
    "    Assigning a Dummy point {[-9999, -9999]} geometry to avoid \"missing geometry\" error when exporting to Assets\n",
    "    \"\"\"\n",
    "    geom = ee_feature.geometry()\n",
    "    has_coords = geom.coordinates().length().gt(0)\n",
    "    geom_type = ee_feature.geometry().type()\n",
    "    return ee.Algorithms.If(\n",
    "        has_coords,\n",
    "        ee_feature.set(\"dummy_geom\", False),\n",
    "        ee_feature.setGeometry(ee.geometry.Geometry.Point([-9999, -9999])).set(\n",
    "            \"dummy_geom\", True\n",
    "        ),\n",
    "    )\n",
    "\n",
    "\n",
    "def remove_geometry(feature):\n",
    "    return feature.setGeometry(None)\n",
    "# Attempting to set Geometries to None to avoid error 13 when exporting to GDrive #! Didn't work\n",
    "# ee_basin_area_per_elev_patch_fc = ee_basin_area_per_elev_fc.map(remove_geometry)\n",
    "\n",
    "\n",
    "# Workaround to ensure geometry is present in the feature collection before exporting to GEE assets\n",
    "# Exporting a FeatureCollection with missing geometries in one or more feature will error during export to GEE Assets\n",
    "def _has_geometry(feature):\n",
    "    # Returns 1 if geometry has coordinates, else 0\n",
    "    coords = feature.geometry().coordinates()\n",
    "    return feature.set(\n",
    "        \"has_geom\", ee.Algorithms.If(ee.ee_list.List(coords).length().gt(0), 1, 0)\n",
    "    )\n",
    "\n",
    "\n",
    "# ee_basin_area_per_elev_fc = ee_basin_area_per_elev_fc.map(_has_geometry)\n",
    "# ee_basin_area_per_elev_fc = ee_basin_area_per_elev_fc.filter(\n",
    "#     ee.filter.Filter.eq(\"has_geom\", 1)\n",
    "# )\n",
    "\n",
    "\n",
    "# Cast 'Area' property to a number to avoid export errors to CSV\n",
    "def cast_to_number(feature):\n",
    "    area_as_number = ee.ee_number.Number.parse(feature.get(\"Area\"))\n",
    "    return feature.set(\"Area\", area_as_number)\n",
    "\n",
    "# Attempting recasting Area property to a number to avoid error 13 when exporting to GDrive #! Didn't work\n",
    "# ee_basin_area_per_elev_fc = ee_basin_area_per_elev_fc.map(cast_to_number)"
   ]
  },
  {
   "cell_type": "markdown",
   "id": "9240346a",
   "metadata": {},
   "source": [
    "## Auxiliary Functions"
   ]
  },
  {
   "cell_type": "code",
   "execution_count": 10,
   "id": "ead79286",
   "metadata": {},
   "outputs": [],
   "source": [
    "\n",
    "#TODO: Rename functions \n",
    "\n",
    "# Previously named 'invertClip' in JS\n",
    "def mask_geometry(image, geometry):\n",
    "    \"\"\"\n",
    "    Masks out the area inside the given geometry (e.g., salares) from the image.\n",
    "    Args:\n",
    "        image: ee.Image to mask\n",
    "        geometry: ee.Geometry or ee.FeatureCollection to mask out\n",
    "    Returns:\n",
    "        ee.Image with the geometry area masked out\n",
    "    \"\"\"\n",
    "    ee_geometry_mask = ee.image.Image.constant(1).clip(geometry).mask()\n",
    "    ee_inverted_mask = ee_geometry_mask.Not()\n",
    "    ee_inverted_clip = image.updateMask(ee_inverted_mask)\n",
    "    return ee_inverted_clip\n",
    "\n",
    "# Previously named addMCD in JS\n",
    "def add_mcd(image):\n",
    "    \"\"\" Function to add the 'SENSOR' property to each MODIS image \"\"\"\n",
    "    return image.set({'SENSOR': 'MCD'})\n",
    "\n",
    "# Previously named maskedDEM in JS\n",
    "def masked_dem(image):\n",
    "    \"\"\" Function to mask DEM values less than 0 \"\"\"\n",
    "    ee_mask = image.gte(0)\n",
    "    ee_masked = image.updateMask(ee_mask)\n",
    "    return ee_masked"
   ]
  },
  {
   "cell_type": "markdown",
   "id": "c1d4e537",
   "metadata": {},
   "source": [
    "## 1. Inputs "
   ]
  },
  {
   "cell_type": "code",
   "execution_count": 11,
   "id": "907d2807",
   "metadata": {},
   "outputs": [],
   "source": [
    "# MODIS sensor name\n",
    "MODIS_SENSOR_NAME = 'MCD'\n",
    "\n",
    "# Property name in the feature collection to read (watershed code)\n",
    "CUENCA_PROPERTY_NAME = \"COD_CUEN\"\n",
    "\n",
    "# Salar polygons (salt flats) to mask\n",
    "ee_salares_fc = ee.featurecollection.FeatureCollection(SALAR_MASK_ASSET_PATH)\n",
    "\n",
    "# MODIS snow cover image collection (year-month level), apply salar mask\n",
    "ee_monthly_ic = ee.imagecollection.ImageCollection(MONTHLY_ASSETS_PATH).map(lambda img: mask_geometry(img, ee_salares_fc))\n",
    "\n",
    "# MODIS snow cover image collection (yearly level), apply salar mask\n",
    "ee_yearly_ic = ee.imagecollection.ImageCollection(YEARLY_ASSETS_PATH).map(lambda img: mask_geometry(img, ee_salares_fc))\n",
    "\n",
    "# Average total snow persistence image. Remove salar areas\n",
    "ee_sp_img = mask_geometry(ee.image.Image(SNOW_PERSISTENCE_ASSET_PATH), ee_salares_fc)\n",
    "\n",
    "# Total snow persistence trend image. Remove salar areas\n",
    "ee_st_img = mask_geometry(ee.image.Image(SNOW_PERSISTENCE_TREND_ASSET_PATH), ee_salares_fc)\n",
    "\n",
    "# Feature collection of watersheds from the National Water Bank (BNA)\n",
    "ee_basins_bna_fc = ee.featurecollection.FeatureCollection(BASINS_BNA_ASSET_PATH)\n",
    "\n",
    "# Feature collection of BNA macro-basins: North - Center - South - Austral\n",
    "ee_macrozones_bna_fc = ee.featurecollection.FeatureCollection(MACROZONAS_BNA_ASSET_PATH)\n",
    "\n",
    "\n",
    "# DEM image with remapped values to the nearest 100 meters\n",
    "ee_dem_img = masked_dem(\n",
    "    ee.image.Image(DEM_ASSET_PATH)\n",
    "    .divide(100)\n",
    "    .floor()\n",
    "    .multiply(100)\n",
    "    .rename('elevation')\n",
    ")"
   ]
  },
  {
   "cell_type": "markdown",
   "id": "fa5284b6",
   "metadata": {},
   "source": [
    "\n",
    "### 1.1 Explore Image Collections"
   ]
  },
  {
   "cell_type": "markdown",
   "id": "da0af796",
   "metadata": {},
   "source": [
    "#### 1.1.1 ee_monthly_ic"
   ]
  },
  {
   "cell_type": "code",
   "execution_count": 9,
   "id": "623f3678",
   "metadata": {},
   "outputs": [
    {
     "name": "stdout",
     "output_type": "stream",
     "text": [
      "Number of images: 305\n",
      "Bands: ['Snow_TAC', 'Cloud_TAC']\n"
     ]
    }
   ],
   "source": [
    "num_images = ee_monthly_ic.size().getInfo()\n",
    "bands = ee_monthly_ic.first().bandNames().getInfo()\n",
    "print(f\"Number of images: {num_images}\")\n",
    "print(f\"Bands: {bands}\")"
   ]
  },
  {
   "cell_type": "markdown",
   "id": "b6be533f",
   "metadata": {},
   "source": [
    "#### 1.1.2 ee_yearly_ic"
   ]
  },
  {
   "cell_type": "code",
   "execution_count": 10,
   "id": "c1eceb7c",
   "metadata": {},
   "outputs": [
    {
     "name": "stdout",
     "output_type": "stream",
     "text": [
      "Number of images: 25\n",
      "Bands: ['Snow_Persistence', 'Cloud_Persistence']\n"
     ]
    }
   ],
   "source": [
    "num_images = ee_yearly_ic.size().getInfo()\n",
    "bands = ee_yearly_ic.first().bandNames().getInfo()\n",
    "print(f\"Number of images: {num_images}\")\n",
    "print(f\"Bands: {bands}\")"
   ]
  },
  {
   "cell_type": "code",
   "execution_count": 11,
   "id": "bf42691c",
   "metadata": {},
   "outputs": [
    {
     "name": "stdout",
     "output_type": "stream",
     "text": [
      "Num Basin codes: 46\n"
     ]
    }
   ],
   "source": [
    "# Count number of Basins to know how many images to expect\n",
    "# BASINS_BNA_ASSET_PATH = \"users/observatorionieves/DGA/Cuencas_BNA_Oficial\"\n",
    "ee_basin_code_list = ee_basins_bna_fc.aggregate_array(CUENCA_PROPERTY_NAME).distinct()\n",
    "basin_code_list = ee_basin_code_list.getInfo()\n",
    "if basin_code_list is None:\n",
    "    basin_code_list = []\n",
    "print(\"Num Basin codes:\", len(basin_code_list))"
   ]
  },
  {
   "cell_type": "code",
   "execution_count": 12,
   "id": "e40afbbd",
   "metadata": {},
   "outputs": [
    {
     "name": "stdout",
     "output_type": "stream",
     "text": [
      "Bands: ['SP']\n",
      "{'SP_max': 100.00000000000051, 'SP_mean': 1.8879662739891996, 'SP_min': 0}\n"
     ]
    }
   ],
   "source": [
    "# explore value range of bands in ee_sp_img image\n",
    "# Get band names\n",
    "band_names = ee_sp_img.bandNames().getInfo()\n",
    "print(\"Bands:\", band_names)\n",
    "\n",
    "# Compute min, mean, max for each band over the unmasked region\n",
    "stats = ee_sp_img.reduceRegion(\n",
    "    reducer=ee.reducer.Reducer.min().combine(\n",
    "        reducer2=ee.reducer.Reducer.mean(), sharedInputs=True\n",
    "    ).combine(\n",
    "        reducer2=ee.reducer.Reducer.max(), sharedInputs=True\n",
    "    ),\n",
    "    geometry=ee_sp_img.geometry(),\n",
    "    scale=500,\n",
    "    maxPixels=ee.ee_number.Number(1e10)\n",
    ").getInfo()\n",
    "\n",
    "\n",
    "print(stats)"
   ]
  },
  {
   "cell_type": "code",
   "execution_count": 13,
   "id": "2aeb45cf",
   "metadata": {},
   "outputs": [],
   "source": [
    "# Basic Export test\n",
    "# A Landsat 8 surface reflectance image.\n",
    "ee_test_image = ee.image.Image(\"LANDSAT/LC08/C02/T1_L2/LC08_044034_20210508\").select(\n",
    "    [\"SR_B.\"]\n",
    ")  # reflectance bands\n",
    "\n",
    "# A region of interest.\n",
    "region = ee.geometry.Geometry.BBox(-122.24, 37.13, -122.11, 37.20)\n",
    "\n",
    "# Set the export \"scale\" and \"crs\" parameters.\n",
    "task = ee.batch.Export.image.toDrive(\n",
    "    image=ee_test_image,\n",
    "    description=\"test_image_export\",\n",
    "    folder=\"test_yearly_tc_sp\",\n",
    "    region=region,\n",
    "    scale=30,\n",
    "    crs=\"EPSG:5070\",\n",
    ")\n",
    "task.start()"
   ]
  },
  {
   "cell_type": "markdown",
   "id": "41ec9133",
   "metadata": {},
   "source": [
    "## 2. Export Rasters - Run once a year"
   ]
  },
  {
   "cell_type": "markdown",
   "id": "b0c45488",
   "metadata": {},
   "source": [
    "### 2.1 Export Snow Persistence (SP%) per BNA basin\n",
    "- There are 46 basin codes as of 2025-07-15\n",
    "- Test to export all 46 basins took < 15 minutes\n",
    "- SP% values detected {'SP_max': 100.00000000000051, 'SP_mean': 1.8879662739892, 'SP_min': 0}"
   ]
  },
  {
   "cell_type": "code",
   "execution_count": 15,
   "id": "9ac987a2",
   "metadata": {},
   "outputs": [
    {
     "data": {
      "text/plain": [
       "<module 'observatorio_ipa.services.gee.processes.stats.basins.rasters.basin_image_split' from 'C:\\\\Users\\\\erick\\\\Documents\\\\Projects\\\\teleamb\\\\observatorio_ipa\\\\src\\\\observatorio_ipa\\\\services\\\\gee\\\\processes\\\\stats\\\\basins\\\\rasters\\\\basin_image_split.py'>"
      ]
     },
     "execution_count": 15,
     "metadata": {},
     "output_type": "execute_result"
    }
   ],
   "source": [
    "from observatorio_ipa.services.gee.processes.stats.basins.rasters import basin_image_split\n",
    "reload(basin_image_split)"
   ]
  },
  {
   "cell_type": "code",
   "execution_count": null,
   "id": "b63488c6",
   "metadata": {},
   "outputs": [
    {
     "name": "stdout",
     "output_type": "stream",
     "text": [
      "Processing basin: 010, Image Name: MCD_Andes_MCD10A1_SP_010\n"
     ]
    }
   ],
   "source": [
    "gdrive_assets_path = Path(export_manager.gdrive_assets_path).as_posix()\n",
    "image_name = f\"{export_manager.image_prefix}_{month[:7]}\"\n",
    "task = batch.Export.image.toDrive(\n",
    "    **{\n",
    "        \"image\": ee_image,\n",
    "        \"description\": image_name,\n",
    "        \"folder\": gdrive_assets_path,\n",
    "        \"region\": ee_regions.geometry(),  # type:ignore\n",
    "        \"scale\": 500,\n",
    "        \"maxPixels\": 1e8,  # Default value is 1e8\n",
    "    }\n",
    ")\n",
    "\n",
    "sp_basin_split = basin_image_split.SplitImagePerBasins(\n",
    "    ee_image=ee_sp_img,\n",
    "    ee_basins_fc=ee_basins_bna_fc,\n",
    "    basins_cd_property=CUENCA_PROPERTY_NAME,\n",
    "    # export_target=\"gee_assets\",  # \"gdrive\" or \"gee_assets\"\n",
    "    # export_path=TC_SP_IMG_EXPORT_PATH,\n",
    "    export_target=\"gdrive\",  # \"gdrive\" or \"gee_assets\"\n",
    "    export_path=GDRIVE_TC_SP_IMG_EXPORT_PATH,\n",
    "    img_prefix=TC_SP_IMG_PREFIX,\n",
    "    max_exports=1,\n",
    "    basin_codes=[\"010\", \"023\", \"024\"],\n",
    ")\n",
    "sp_basin_split.make_rasters()"
   ]
  },
  {
   "cell_type": "code",
   "execution_count": 17,
   "id": "51deb223",
   "metadata": {},
   "outputs": [
    {
     "name": "stdout",
     "output_type": "stream",
     "text": [
      "Exporting image: MCD_Andes_MCD10A1_SP_010\n"
     ]
    }
   ],
   "source": [
    "sp_basin_split.make_exports()\n",
    "sp_basin_split.start_exports()"
   ]
  },
  {
   "cell_type": "code",
   "execution_count": 12,
   "id": "2defd9b8",
   "metadata": {},
   "outputs": [
    {
     "name": "stdout",
     "output_type": "stream",
     "text": [
      "Task status count: {'FAILED': 1, 'RUNNING': 2}\n"
     ]
    }
   ],
   "source": [
    "latest_status = sp_basin_split.get_task_status()"
   ]
  },
  {
   "cell_type": "markdown",
   "id": "93476279",
   "metadata": {},
   "source": [
    "### 2.2 Export Snow Persistence Trend (SP%) per BNA basin\n",
    "- Code was the same as ts_sp, only the image name and export path changed. Recycling code \n",
    "- Values detected {'Snow_Trend_max': 83.26565551757812, 'Snow_Trend_mean': -2.2343999964887784, 'Snow_Trend_min': -39.30064010620117}"
   ]
  },
  {
   "cell_type": "code",
   "execution_count": 216,
   "id": "e57eafa2",
   "metadata": {},
   "outputs": [
    {
     "data": {
      "text/plain": [
       "<module 'observatorio_ipa.services.gee.processes.stats.cuencas.rasters.basin_image_export' from 'C:\\\\Users\\\\erick\\\\Documents\\\\Projects\\\\teleamb\\\\observatorio_ipa\\\\src\\\\observatorio_ipa\\\\services\\\\gee\\\\processes\\\\stats\\\\cuencas\\\\rasters\\\\basin_image_export.py'>"
      ]
     },
     "execution_count": 216,
     "metadata": {},
     "output_type": "execute_result"
    }
   ],
   "source": [
    "from observatorio_ipa.services.gee.processes.stats.cuencas.rasters import basin_image_export\n",
    "reload(basin_image_export)"
   ]
  },
  {
   "cell_type": "code",
   "execution_count": 65,
   "id": "83ebc719",
   "metadata": {},
   "outputs": [
    {
     "name": "stdout",
     "output_type": "stream",
     "text": [
      "Bands: ['Snow_Trend']\n",
      "{'Snow_Trend_max': 83.26565551757812, 'Snow_Trend_mean': -2.2343999964887784, 'Snow_Trend_min': -39.30064010620117}\n"
     ]
    }
   ],
   "source": [
    "# explore value range of bands in ee_sp_img image\n",
    "# Get band names\n",
    "band_names = ee_st_img.bandNames().getInfo()\n",
    "print(\"Bands:\", band_names)\n",
    "\n",
    "# Compute min, mean, max for each band over the unmasked region\n",
    "stats = ee_st_img.reduceRegion(\n",
    "    reducer=ee.reducer.Reducer.min()\n",
    "    .combine(reducer2=ee.reducer.Reducer.mean(), sharedInputs=True)\n",
    "    .combine(reducer2=ee.reducer.Reducer.max(), sharedInputs=True),\n",
    "    geometry=ee_st_img.geometry(),\n",
    "    scale=500,\n",
    "    maxPixels=int(1e10),\n",
    ").getInfo()\n",
    "\n",
    "\n",
    "print(stats)"
   ]
  },
  {
   "cell_type": "code",
   "execution_count": 222,
   "id": "4b54b78e",
   "metadata": {},
   "outputs": [
    {
     "name": "stdout",
     "output_type": "stream",
     "text": [
      "Number of Export Tasks 1\n"
     ]
    }
   ],
   "source": [
    "tc_st_export_tasks = basin_image_export.basin_split_and_export(\n",
    "    ee_st_img,\n",
    "    ee_basins_bna_fc,\n",
    "    CUENCA_PROPERTY_NAME,\n",
    "    #export_target=\"gee_assets\",  # Options: \"gdrive\" or \"gee_assets\"\n",
    "    export_target=\"gdrive\",\n",
    "    img_prefix=TC_ST_IMG_PREFIX,\n",
    "    #export_path=TC_ST_IMG_EXPORT_PATH,\n",
    "    export_path=\"New_Raster_SCI_CCI\",  \n",
    "    max_exports=1\n",
    ")\n",
    "print(\"Number of Export Tasks\", len(tc_st_export_tasks))"
   ]
  },
  {
   "cell_type": "code",
   "execution_count": 223,
   "id": "8a8cd8f8",
   "metadata": {},
   "outputs": [],
   "source": [
    "# Start tasks. Took aprox 35 seconds for all 46 basins\n",
    "for task in tc_st_export_tasks:\n",
    "    task.start()"
   ]
  },
  {
   "cell_type": "code",
   "execution_count": 225,
   "id": "4fe8b53f",
   "metadata": {},
   "outputs": [
    {
     "name": "stdout",
     "output_type": "stream",
     "text": [
      "Task status count: {'FAILED': 1}\n"
     ]
    }
   ],
   "source": [
    "latest_status = check_export_list_status(tc_st_export_tasks)"
   ]
  },
  {
   "cell_type": "markdown",
   "id": "7f23f76a",
   "metadata": {},
   "source": [
    "## 3. Elevation Statistics per BNA basin"
   ]
  },
  {
   "cell_type": "markdown",
   "id": "00eb5f95",
   "metadata": {},
   "source": [
    "### 3.1 For each Basin calculate the area (km2) per 100m of elevation\n",
    "\n",
    "- Value range in DEM image {'elevation_max': 6700, 'elevation_mean': 959.238577539629, 'elevation_min': 0}\n",
    "- Values are after rounding to lower 100m (e.g., 959 becomes 900) and removing salares\n",
    "- Image collection is not used, consider removing. Andes_MCDS4S5_Yearly_Monthly (305 images as of 2025-07-17)\n",
    "- There are discrepancies in the output arae. Basin 129 has more Area in 100m bin than in updated code (30k vs 28k)."
   ]
  },
  {
   "cell_type": "code",
   "execution_count": 10,
   "id": "8eb4a2c3",
   "metadata": {},
   "outputs": [
    {
     "data": {
      "text/plain": [
       "<module 'observatorio_ipa.services.gee.processes.stats.cuencas.elevation.elev_bna' from 'C:\\\\Users\\\\erick\\\\Documents\\\\Projects\\\\teleamb\\\\observatorio_ipa\\\\src\\\\observatorio_ipa\\\\services\\\\gee\\\\processes\\\\stats\\\\cuencas\\\\elevation\\\\elev_bna.py'>"
      ]
     },
     "execution_count": 10,
     "metadata": {},
     "output_type": "execute_result"
    }
   ],
   "source": [
    "import ee.batch\n",
    "from observatorio_ipa.services.gee.processes.stats.cuencas.elevation import elev_bna\n",
    "reload(elev_bna)"
   ]
  },
  {
   "cell_type": "code",
   "execution_count": 66,
   "id": "cb31c9dd",
   "metadata": {},
   "outputs": [
    {
     "name": "stdout",
     "output_type": "stream",
     "text": [
      "Bands: ['elevation']\n",
      "{'elevation_max': 6700, 'elevation_mean': 959.238577539629, 'elevation_min': 0}\n"
     ]
    }
   ],
   "source": [
    "# Explore range of values of original DEM image\n",
    "# Get band names\n",
    "band_names = ee_dem_img.bandNames().getInfo()\n",
    "print(\"Bands:\", band_names)\n",
    "\n",
    "# Compute min, mean, max for each band over the unmasked region\n",
    "stats = ee_dem_img.reduceRegion(\n",
    "    reducer=ee.reducer.Reducer.min()\n",
    "    .combine(reducer2=ee.reducer.Reducer.mean(), sharedInputs=True)\n",
    "    .combine(reducer2=ee.reducer.Reducer.max(), sharedInputs=True),\n",
    "    geometry=ee_dem_img.geometry(),\n",
    "    scale=500,\n",
    "    maxPixels=int(1e10),\n",
    ").getInfo()\n",
    "\n",
    "\n",
    "print(stats)"
   ]
  },
  {
   "cell_type": "code",
   "execution_count": null,
   "id": "98d1ba58",
   "metadata": {},
   "outputs": [
    {
     "name": "stdout",
     "output_type": "stream",
     "text": [
      "Processing basin: 010, features: 27\n",
      "Processing basin: 023, features: 28\n",
      "Number of Export Tasks 2\n"
     ]
    }
   ],
   "source": [
    "# Each basin should not have more than 70 (7000m/100m) features, since this is the maximum number of bins we've created\n",
    "elev_bna_tasks = elev_bna.elev_BNA(\n",
    "    ee_fcollection=ee_basins_bna_fc,\n",
    "    property=CUENCA_PROPERTY_NAME,\n",
    "    ee_dem_img=ee_dem_img,\n",
    "    export_target=\"gee_assets\",  # Options: \"gdrive\" or \"gee_assets\"\n",
    "    img_prefix=ELEV_BNA_TBL_PREFIX,\n",
    "    export_path=ASSETS_ELEV_BNA_TBL_EXPORT_PATH,\n",
    "    max_exports=2,  # Limit to 1 export task for testing\n",
    ")\n",
    "print(\"Number of Export Tasks\", len(elev_bna_tasks))"
   ]
  },
  {
   "cell_type": "code",
   "execution_count": 109,
   "id": "52d266e4",
   "metadata": {},
   "outputs": [],
   "source": [
    "# Start tasks. Took aprox 35 seconds for all 46 basins\n",
    "for task in elev_bna_tasks:\n",
    "    task.start()"
   ]
  },
  {
   "cell_type": "code",
   "execution_count": 116,
   "id": "1eb2d4f5",
   "metadata": {},
   "outputs": [
    {
     "name": "stdout",
     "output_type": "stream",
     "text": [
      "Task status count: {'RUNNING': 1, 'COMPLETED': 1}\n"
     ]
    }
   ],
   "source": [
    "latest_status=check_export_list_status(elev_bna_tasks)"
   ]
  },
  {
   "cell_type": "code",
   "execution_count": 48,
   "id": "436c197f",
   "metadata": {},
   "outputs": [
    {
     "data": {
      "text/plain": [
       "[{'state': 'FAILED',\n",
       "  'description': 'MCD_elev_BNA_023',\n",
       "  'priority': 100,\n",
       "  'creation_timestamp_ms': 1752798151525,\n",
       "  'update_timestamp_ms': 1752798176264,\n",
       "  'start_timestamp_ms': 1752798157371,\n",
       "  'task_type': 'EXPORT_FEATURES',\n",
       "  'attempt': 1,\n",
       "  'batch_eecu_usage_seconds': 9.134127616,\n",
       "  'error_message': 'Unable to export features with empty geometry.',\n",
       "  'id': 'F2UAVUSIR6C6THP6EEXQ2SEG',\n",
       "  'name': 'projects/ee-observatorionieves/operations/F2UAVUSIR6C6THP6EEXQ2SEG'}]"
      ]
     },
     "execution_count": 48,
     "metadata": {},
     "output_type": "execute_result"
    }
   ],
   "source": [
    "[\n",
    "    status for status in latest_status if status['state'] == \"FAILED\"\n",
    "]\n",
    "#[status for status in latest_status and status['state'] == \"FAILED\"]"
   ]
  },
  {
   "cell_type": "markdown",
   "id": "73574586",
   "metadata": {},
   "source": [
    "#### Manual step-by-step Run "
   ]
  },
  {
   "cell_type": "code",
   "execution_count": 11,
   "id": "2e1758a3",
   "metadata": {},
   "outputs": [],
   "source": [
    "ee_icollection=ee_monthly_ic\n",
    "ee_fcollection=ee_basins_bna_fc\n",
    "property=CUENCA_PROPERTY_NAME\n",
    "ee_dem_img=ee_dem_img\n",
    "export_target=\"gee_assets\"  # Options: \"gdrive\" or \"gee_assets\"\n",
    "img_prefix=ELEV_BNA_TBL_PREFIX\n",
    "export_path=ASSETS_ELEV_BNA_TBL_EXPORT_PATH"
   ]
  },
  {
   "cell_type": "code",
   "execution_count": 12,
   "id": "9ee5b998",
   "metadata": {},
   "outputs": [
    {
     "name": "stdout",
     "output_type": "stream",
     "text": [
      "basin code: 115\n"
     ]
    }
   ],
   "source": [
    "basin_code_list = ee_fcollection.aggregate_array(property).getInfo()\n",
    "if basin_code_list is None:\n",
    "    basin_code_list = []\n",
    "else:\n",
    "    basin_code = basin_code_list[30]\n",
    "    print(f\"basin code: {basin_code}\")\n"
   ]
  },
  {
   "cell_type": "code",
   "execution_count": 13,
   "id": "5bdddd8e",
   "metadata": {},
   "outputs": [
    {
     "name": "stdout",
     "output_type": "stream",
     "text": [
      "Table name: MCD_elev_BNA_115\n",
      "Exporting to gee_assets at projects/ee-observatorionieves/assets/Test/elev_ee/MCD_elev_BNA_115\n"
     ]
    }
   ],
   "source": [
    "table_name = f\"{img_prefix}{basin_code}\"\n",
    "print(f\"Table name: {table_name}\")\n",
    "print(f\"Exporting to {export_target} at {export_path}/{table_name}\")"
   ]
  },
  {
   "cell_type": "code",
   "execution_count": null,
   "id": "1e3e96ae",
   "metadata": {},
   "outputs": [
    {
     "name": "stdout",
     "output_type": "stream",
     "text": [
      "Processing basin: 115, features: 35\n"
     ]
    }
   ],
   "source": [
    "#! Execution is inconsistent and might fail with the error \"too many concurrent aggregations\"\n",
    "#! Run multiple times \n",
    "ee_basin_area_per_elev_fc = elev_bna._ee_calc_basin_area_per_elev_bin(\n",
    "                basin_code, ee_fcollection, property, ee_dem_img\n",
    "            )\n",
    "\n",
    "print(\n",
    "    f\"Processing basin: {basin_code}, features: {ee_basin_area_per_elev_fc.size().getInfo()}\"\n",
    ")"
   ]
  },
  {
   "cell_type": "code",
   "execution_count": 15,
   "id": "5c3c1f46",
   "metadata": {},
   "outputs": [],
   "source": [
    "# Set Geometries to None to reduce size before getInfo\n",
    "ee_basin_area_per_elev_patch_fc = ee_basin_area_per_elev_fc.map(remove_geometry)\n",
    "basin_area_per_elev = ee_basin_area_per_elev_patch_fc.getInfo()"
   ]
  },
  {
   "cell_type": "code",
   "execution_count": 17,
   "id": "5d29cdc3",
   "metadata": {},
   "outputs": [
    {
     "name": "stdout",
     "output_type": "stream",
     "text": [
      "{'Area': '1031.44', 'Elevation': 100}\n",
      "{'Area': '2165.04', 'Elevation': 200}\n",
      "{'Area': '1162.59', 'Elevation': 300}\n",
      "{'Area': '1161.08', 'Elevation': 400}\n",
      "{'Area': '1208.96', 'Elevation': 500}\n",
      "{'Area': '1186.20', 'Elevation': 600}\n",
      "{'Area': '1185.56', 'Elevation': 700}\n",
      "{'Area': '1242.66', 'Elevation': 800}\n",
      "{'Area': '1290.31', 'Elevation': 900}\n",
      "{'Area': '1325.52', 'Elevation': 1000}\n",
      "{'Area': '1264.13', 'Elevation': 1100}\n",
      "{'Area': '1227.20', 'Elevation': 1200}\n",
      "{'Area': '1160.44', 'Elevation': 1300}\n",
      "{'Area': '1091.11', 'Elevation': 1400}\n",
      "{'Area': '956.95', 'Elevation': 1500}\n",
      "{'Area': '752.16', 'Elevation': 1600}\n",
      "{'Area': '533.21', 'Elevation': 1700}\n",
      "{'Area': '357.19', 'Elevation': 1800}\n",
      "{'Area': '216.16', 'Elevation': 1900}\n",
      "{'Area': '115.49', 'Elevation': 2000}\n",
      "{'Area': '56.03', 'Elevation': 2100}\n",
      "{'Area': '32.84', 'Elevation': 2200}\n",
      "{'Area': '20.61', 'Elevation': 2300}\n",
      "{'Area': '15.03', 'Elevation': 2400}\n",
      "{'Area': '13.09', 'Elevation': 2500}\n",
      "{'Area': '11.59', 'Elevation': 2600}\n",
      "{'Area': '8.16', 'Elevation': 2700}\n",
      "{'Area': '6.23', 'Elevation': 2800}\n",
      "{'Area': '5.37', 'Elevation': 2900}\n",
      "{'Area': '4.08', 'Elevation': 3000}\n",
      "{'Area': '4.08', 'Elevation': 3100}\n",
      "{'Area': '1.72', 'Elevation': 3200}\n",
      "{'Area': '0.86', 'Elevation': 3300}\n",
      "{'Area': '0.21', 'Elevation': 3400}\n",
      "{'Area': '0.21', 'Elevation': 3500}\n"
     ]
    }
   ],
   "source": [
    "print_fc_properties(basin_area_per_elev, select_properties=[\"Elevation\", \"Area\"])"
   ]
  },
  {
   "cell_type": "code",
   "execution_count": null,
   "id": "1df72128",
   "metadata": {},
   "outputs": [],
   "source": [
    "if export_target == \"gdrive\":\n",
    "    # Create export task to GDrive\n",
    "    task = ee.batch.Export.table.toDrive(\n",
    "        collection=ee_basin_area_per_elev_fc,\n",
    "        description=table_name,\n",
    "        folder=export_path,\n",
    "        fileNamePrefix=table_name,\n",
    "        fileFormat=\"CSV\",\n",
    "        selectors=[\"Elevation\", \"Area\"]\n",
    "    )\n",
    "    \n",
    "if export_target == \"gee_assets\":\n",
    "    # add dummy geometry to avoid error\n",
    "    ee_basin_area_per_elev_fc = ee_basin_area_per_elev_fc.map(\n",
    "        lambda ee_feature: _ee_assign_dummy_geom(ee_feature)\n",
    "    )\n",
    "\n",
    "    # Create export task to GEE Assets\n",
    "    task = ee.batch.Export.table.toAsset(\n",
    "        collection=ee_basin_area_per_elev_fc,\n",
    "        description=table_name,\n",
    "        assetId=f\"{export_path}/{table_name}\"\n",
    "    )\n",
    "task.start()\n",
    "task_list = [task]"
   ]
  },
  {
   "cell_type": "code",
   "execution_count": 149,
   "id": "bcb96b85",
   "metadata": {},
   "outputs": [
    {
     "name": "stdout",
     "output_type": "stream",
     "text": [
      "Task status count: {'READY': 1}\n"
     ]
    }
   ],
   "source": [
    "current_task_status=check_export_list_status(task_list)"
   ]
  },
  {
   "cell_type": "code",
   "execution_count": 99,
   "id": "02519ce8",
   "metadata": {},
   "outputs": [
    {
     "data": {
      "text/plain": [
       "[{'state': 'COMPLETED',\n",
       "  'description': 'MCD_elev_BNA_023',\n",
       "  'priority': 100,\n",
       "  'creation_timestamp_ms': 1752799740727,\n",
       "  'update_timestamp_ms': 1752799815262,\n",
       "  'start_timestamp_ms': 1752799745126,\n",
       "  'task_type': 'EXPORT_FEATURES',\n",
       "  'destination_uris': ['https://code.earthengine.google.com/?asset=projects/ee-observatorionieves/assets/Test/elev_ee/MCD_elev_BNA_023'],\n",
       "  'attempt': 1,\n",
       "  'batch_eecu_usage_seconds': 9.014293670654297,\n",
       "  'id': '3WQBXROHLHSXTTRD45CW6G6U',\n",
       "  'name': 'projects/ee-observatorionieves/operations/3WQBXROHLHSXTTRD45CW6G6U'}]"
      ]
     },
     "execution_count": 99,
     "metadata": {},
     "output_type": "execute_result"
    }
   ],
   "source": [
    "current_task_status"
   ]
  },
  {
   "cell_type": "code",
   "execution_count": null,
   "id": "b2e6506e",
   "metadata": {},
   "outputs": [
    {
     "name": "stdout",
     "output_type": "stream",
     "text": [
      "--- Starting Diagnostic Export ---\n",
      "Diagnostic table name: DIAGNOSTIC_TEST_MCD_elev_BNA_023\n",
      "Exporting to folder: test_elev_ee\n"
     ]
    }
   ],
   "source": [
    "# --- DUMMY TABLE TO TEST EXPORT TO GEE ---\n",
    "print(\"--- Starting Diagnostic Export ---\")\n",
    "\n",
    "# 1. Create a minimal, known-good FeatureCollection\n",
    "dummy_feature = ee.feature.Feature(None, {\"Elevation\": 1000, \"Area\": 123.45})\n",
    "dummy_collection = ee.featurecollection.FeatureCollection([dummy_feature])\n",
    "\n",
    "# 2. Define export parameters for the test\n",
    "diagnostic_table_name = f\"DIAGNOSTIC_TEST_{table_name}\"\n",
    "print(f\"Diagnostic table name: {diagnostic_table_name}\")\n",
    "print(f\"Exporting to folder: {export_path}\")\n",
    "\n",
    "# 3. Create and start the diagnostic export task\n",
    "try:\n",
    "    diagnostic_task = ee.batch.Export.table.toDrive(\n",
    "        collection=dummy_collection,\n",
    "        description=diagnostic_table_name,\n",
    "        folder=export_path,\n",
    "        fileNamePrefix=diagnostic_table_name,\n",
    "        fileFormat=\"CSV\",\n",
    "        # selectors=[\"Elevation\", \"Area\"],\n",
    "    )\n",
    "    diagnostic_task.start()\n",
    "except Exception as e:\n",
    "    print(f\"An exception occurred during diagnostic export: {e}\")"
   ]
  },
  {
   "cell_type": "code",
   "execution_count": 20,
   "id": "30b2da5d",
   "metadata": {},
   "outputs": [
    {
     "name": "stdout",
     "output_type": "stream",
     "text": [
      "Diagnostic task status:\n",
      "{'attempt': 5,\n",
      " 'batch_eecu_usage_seconds': 0.270516902,\n",
      " 'creation_timestamp_ms': 1752850797025,\n",
      " 'description': 'DIAGNOSTIC_TEST_MCD_elev_BNA_023',\n",
      " 'error_message': 'Internal error.',\n",
      " 'id': 'N6YN3JJBH7SR4F4VUXOWKJOQ',\n",
      " 'name': 'projects/ee-observatorionieves/operations/N6YN3JJBH7SR4F4VUXOWKJOQ',\n",
      " 'priority': 100,\n",
      " 'start_timestamp_ms': 1752850856428,\n",
      " 'state': 'FAILED',\n",
      " 'task_type': 'EXPORT_FEATURES',\n",
      " 'update_timestamp_ms': 1752850859655}\n"
     ]
    }
   ],
   "source": [
    "print(\"Diagnostic task status:\")\n",
    "pprint(diagnostic_task.status())\n",
    "# --- END NEW DIAGNOSTIC CELL ---"
   ]
  },
  {
   "cell_type": "markdown",
   "id": "f8b0e900",
   "metadata": {},
   "source": [
    "### 3.2 For each Basin calculate the SCA and CCA per 100m of elevation\n",
    "\n",
    "- Value range in DEM image {'elevation_max': 6700, 'elevation_mean': 959.238577539629, 'elevation_min': 0}\n",
    "- Values are after rounding to lower 100m (e.g., 959 becomes 900) and removing salares\n",
    "- Processing one BNA basin took 00:01:45 \n",
    "\n"
   ]
  },
  {
   "cell_type": "code",
   "execution_count": 9,
   "id": "71760679",
   "metadata": {},
   "outputs": [
    {
     "data": {
      "text/plain": [
       "<module 'observatorio_ipa.services.gee.processes.stats.cuencas.elevation.sca_elev_bna' from 'C:\\\\Users\\\\erick\\\\Documents\\\\Projects\\\\teleamb\\\\observatorio_ipa\\\\src\\\\observatorio_ipa\\\\services\\\\gee\\\\processes\\\\stats\\\\cuencas\\\\elevation\\\\sca_elev_bna.py'>"
      ]
     },
     "execution_count": 9,
     "metadata": {},
     "output_type": "execute_result"
    }
   ],
   "source": [
    "from observatorio_ipa.services.gee.processes.stats.cuencas.elevation import sca_elev_bna\n",
    "reload(sca_elev_bna)"
   ]
  },
  {
   "cell_type": "code",
   "execution_count": null,
   "id": "dc150597",
   "metadata": {},
   "outputs": [
    {
     "name": "stdout",
     "output_type": "stream",
     "text": [
      "Processing basin: 010, features: 28\n"
     ]
    }
   ],
   "source": [
    "sca_elev_export_list = sca_elev_bna.SCA_elev_BNA(\n",
    "    ee_icollection=ee_monthly_ic,\n",
    "    ee_fcollection=ee_basins_bna_fc,\n",
    "    property=CUENCA_PROPERTY_NAME,\n",
    "    ee_dem_img=ee_dem_img,\n",
    "    export_target=\"gee_assets\",  # Options: \"gdrive\" or \"gee_assets\"\n",
    "    img_prefix=SCA_ELEV_BNA_TBL_PREFIX,\n",
    "    export_path=ASSETS_SCA_ELEV_BNA_TBL_EXPORT_PATH,\n",
    "    max_exports=1  # Limit to 1 export task for testing\n",
    ")"
   ]
  },
  {
   "cell_type": "code",
   "execution_count": null,
   "id": "a7d909ea",
   "metadata": {},
   "outputs": [],
   "source": [
    "for task in sca_elev_export_list:\n",
    "    task.start()"
   ]
  },
  {
   "cell_type": "code",
   "execution_count": 77,
   "id": "4df0a31c",
   "metadata": {},
   "outputs": [
    {
     "name": "stdout",
     "output_type": "stream",
     "text": [
      "Task status count: {'RUNNING': 1}\n"
     ]
    }
   ],
   "source": [
    "updated_status = check_export_list_status(sca_elev_export_list)"
   ]
  },
  {
   "cell_type": "markdown",
   "id": "bf368447",
   "metadata": {},
   "source": [
    "#### Manual step-by-step Run"
   ]
  },
  {
   "cell_type": "code",
   "execution_count": 10,
   "id": "2c539712",
   "metadata": {},
   "outputs": [],
   "source": [
    "ee_icollection = ee_monthly_ic\n",
    "ee_fcollection = ee_basins_bna_fc\n",
    "property = CUENCA_PROPERTY_NAME\n",
    "ee_dem_img = ee_dem_img\n",
    "export_target = \"gee_assets\"  # Options: \"gdrive\" or \"gee_assets\"\n",
    "img_prefix = SCA_ELEV_BNA_TBL_PREFIX\n",
    "export_path = ASSETS_SCA_ELEV_BNA_TBL_EXPORT_PATH"
   ]
  },
  {
   "cell_type": "code",
   "execution_count": 11,
   "id": "e46d1618",
   "metadata": {},
   "outputs": [
    {
     "name": "stdout",
     "output_type": "stream",
     "text": [
      "basin code: 023\n"
     ]
    }
   ],
   "source": [
    "basin_code_list = ee_fcollection.aggregate_array(property).getInfo()\n",
    "if basin_code_list is None:\n",
    "    basin_code_list = []\n",
    "else:\n",
    "    basin_code = basin_code_list[1]\n",
    "    print(f\"basin code: {basin_code}\")"
   ]
  },
  {
   "cell_type": "code",
   "execution_count": 12,
   "id": "6a44cd1b",
   "metadata": {},
   "outputs": [
    {
     "name": "stdout",
     "output_type": "stream",
     "text": [
      "Table name: MCD_SCA_elev_BNA_023\n",
      "Exporting to gee_assets at projects/ee-observatorionieves/assets/Test/elev_ee/MCD_SCA_elev_BNA_023\n"
     ]
    }
   ],
   "source": [
    "table_name = f\"{img_prefix}{basin_code}\"\n",
    "print(f\"Table name: {table_name}\")\n",
    "print(f\"Exporting to {export_target} at {export_path}/{table_name}\")"
   ]
  },
  {
   "cell_type": "code",
   "execution_count": null,
   "id": "b3ddddf5",
   "metadata": {},
   "outputs": [
    {
     "name": "stdout",
     "output_type": "stream",
     "text": [
      "Processing basin: 023, features: 29\n"
     ]
    }
   ],
   "source": [
    "ee_sca_cca_per_elev_fc = sca_elev_bna._ee_calc_stats_per_elev_bin(\n",
    "    basin_code, ee_icollection, ee_fcollection, property, ee_dem_img\n",
    ")\n",
    "\n",
    "print(\n",
    "    f\"Processing basin: {basin_code}, features: {ee_sca_cca_per_elev_fc.size().getInfo()}\"\n",
    ")"
   ]
  },
  {
   "cell_type": "code",
   "execution_count": 14,
   "id": "6f99358d",
   "metadata": {},
   "outputs": [],
   "source": [
    "# Remove geometry to reduce download of FeatureCollection\n",
    "ee_sca_cca_per_elev_patch_fc = ee_sca_cca_per_elev_fc.map(remove_geometry)\n",
    "basin_sca_cca = ee_sca_cca_per_elev_patch_fc.getInfo()"
   ]
  },
  {
   "cell_type": "code",
   "execution_count": 19,
   "id": "aa5d6229",
   "metadata": {},
   "outputs": [
    {
     "name": "stdout",
     "output_type": "stream",
     "text": [
      "{'Elevation': 3400, 'SCA': '0.76', 'CCA': '0.78'}\n",
      "{'Elevation': 3500, 'SCA': '5.33', 'CCA': '1.06'}\n",
      "{'Elevation': 3600, 'SCA': '2.21', 'CCA': '1.11'}\n",
      "{'Elevation': 3700, 'SCA': '2.71', 'CCA': '1.24'}\n",
      "{'Elevation': 3800, 'SCA': '3.12', 'CCA': '1.31'}\n",
      "{'Elevation': 3900, 'SCA': '3.64', 'CCA': '1.42'}\n",
      "{'Elevation': 4000, 'SCA': '3.79', 'CCA': '1.48'}\n",
      "{'Elevation': 4100, 'SCA': '2.07', 'CCA': '1.19'}\n",
      "{'Elevation': 4200, 'SCA': '1.69', 'CCA': '1.11'}\n",
      "{'Elevation': 4300, 'SCA': '3.19', 'CCA': '1.13'}\n",
      "{'Elevation': 4400, 'SCA': '2.05', 'CCA': '1.34'}\n",
      "{'Elevation': 4500, 'SCA': '2.52', 'CCA': '1.53'}\n",
      "{'Elevation': 4600, 'SCA': '3.20', 'CCA': '1.77'}\n",
      "{'Elevation': 4700, 'SCA': '4.41', 'CCA': '2.17'}\n",
      "{'Elevation': 4800, 'SCA': '6.15', 'CCA': '2.30'}\n",
      "{'Elevation': 4900, 'SCA': '6.65', 'CCA': '2.61'}\n",
      "{'Elevation': 5000, 'SCA': '6.70', 'CCA': '2.67'}\n",
      "{'Elevation': 5100, 'SCA': '7.27', 'CCA': '2.83'}\n",
      "{'Elevation': 5200, 'SCA': '7.93', 'CCA': '2.97'}\n",
      "{'Elevation': 5300, 'SCA': '9.43', 'CCA': '3.19'}\n",
      "{'Elevation': 5400, 'SCA': '12.66', 'CCA': '3.50'}\n",
      "{'Elevation': 5500, 'SCA': '17.17', 'CCA': '3.94'}\n",
      "{'Elevation': 5600, 'SCA': '24.93', 'CCA': '4.76'}\n",
      "{'Elevation': 5700, 'SCA': '29.37', 'CCA': '5.42'}\n",
      "{'Elevation': 5800, 'SCA': '33.56', 'CCA': '5.75'}\n",
      "{'Elevation': 5900, 'SCA': '46.40', 'CCA': '6.78'}\n",
      "{'Elevation': 6000, 'SCA': '47.32', 'CCA': '7.04'}\n",
      "{'Elevation': 6100, 'SCA': '46.70', 'CCA': '7.13'}\n",
      "{'Elevation': 6200, 'SCA': '43.94', 'CCA': '7.12'}\n"
     ]
    }
   ],
   "source": [
    "print_fc_properties(basin_sca_cca, select_properties=[\"Elevation\", \"SCA\", \"CCA\"])"
   ]
  },
  {
   "cell_type": "code",
   "execution_count": null,
   "id": "97e60634",
   "metadata": {},
   "outputs": [
    {
     "name": "stdout",
     "output_type": "stream",
     "text": [
      "{'type': 'FeatureCollection', 'columns': {'dummy_geom': 'Boolean'}, 'features': [{'type': 'Feature', 'geometry': {'type': 'Point', 'coordinates': [-9999, -9999]}, 'id': '0_0', 'properties': {'CCA': '0.78', 'Elevation': 3400, 'SCA': '0.76', 'dummy_geom': True}}, {'type': 'Feature', 'geometry': {'type': 'Point', 'coordinates': [-9999, -9999]}, 'id': '1_1', 'properties': {'CCA': '1.06', 'Elevation': 3500, 'SCA': '5.33', 'dummy_geom': True}}, {'type': 'Feature', 'geometry': {'type': 'Point', 'coordinates': [-9999, -9999]}, 'id': '2_2', 'properties': {'CCA': '1.11', 'Elevation': 3600, 'SCA': '2.21', 'dummy_geom': True}}, {'type': 'Feature', 'geometry': {'type': 'Point', 'coordinates': [-9999, -9999]}, 'id': '3_3', 'properties': {'CCA': '1.24', 'Elevation': 3700, 'SCA': '2.71', 'dummy_geom': True}}, {'type': 'Feature', 'geometry': {'type': 'Point', 'coordinates': [-9999, -9999]}, 'id': '4_4', 'properties': {'CCA': '1.31', 'Elevation': 3800, 'SCA': '3.12', 'dummy_geom': True}}, {'type': 'Feature', 'geometry': {'type': 'Point', 'coordinates': [-9999, -9999]}, 'id': '5_5', 'properties': {'CCA': '1.42', 'Elevation': 3900, 'SCA': '3.64', 'dummy_geom': True}}, {'type': 'Feature', 'geometry': {'type': 'Point', 'coordinates': [-9999, -9999]}, 'id': '6_6', 'properties': {'CCA': '1.48', 'Elevation': 4000, 'SCA': '3.79', 'dummy_geom': True}}, {'type': 'Feature', 'geometry': {'type': 'Point', 'coordinates': [-9999, -9999]}, 'id': '7_7', 'properties': {'CCA': '1.19', 'Elevation': 4100, 'SCA': '2.07', 'dummy_geom': True}}, {'type': 'Feature', 'geometry': {'type': 'Point', 'coordinates': [-9999, -9999]}, 'id': '8_8', 'properties': {'CCA': '1.11', 'Elevation': 4200, 'SCA': '1.69', 'dummy_geom': True}}, {'type': 'Feature', 'geometry': {'type': 'Point', 'coordinates': [-9999, -9999]}, 'id': '9_9', 'properties': {'CCA': '1.13', 'Elevation': 4300, 'SCA': '3.19', 'dummy_geom': True}}, {'type': 'Feature', 'geometry': {'type': 'Point', 'coordinates': [-9999, -9999]}, 'id': '10_10', 'properties': {'CCA': '1.34', 'Elevation': 4400, 'SCA': '2.05', 'dummy_geom': True}}, {'type': 'Feature', 'geometry': {'type': 'Point', 'coordinates': [-9999, -9999]}, 'id': '11_11', 'properties': {'CCA': '1.53', 'Elevation': 4500, 'SCA': '2.52', 'dummy_geom': True}}, {'type': 'Feature', 'geometry': {'type': 'Point', 'coordinates': [-9999, -9999]}, 'id': '12_12', 'properties': {'CCA': '1.77', 'Elevation': 4600, 'SCA': '3.20', 'dummy_geom': True}}, {'type': 'Feature', 'geometry': {'type': 'Point', 'coordinates': [-9999, -9999]}, 'id': '13_13', 'properties': {'CCA': '2.17', 'Elevation': 4700, 'SCA': '4.41', 'dummy_geom': True}}, {'type': 'Feature', 'geometry': {'type': 'Point', 'coordinates': [-9999, -9999]}, 'id': '14_14', 'properties': {'CCA': '2.30', 'Elevation': 4800, 'SCA': '6.15', 'dummy_geom': True}}, {'type': 'Feature', 'geometry': {'type': 'Point', 'coordinates': [-9999, -9999]}, 'id': '15_15', 'properties': {'CCA': '2.61', 'Elevation': 4900, 'SCA': '6.65', 'dummy_geom': True}}, {'type': 'Feature', 'geometry': {'type': 'Point', 'coordinates': [-9999, -9999]}, 'id': '16_16', 'properties': {'CCA': '2.67', 'Elevation': 5000, 'SCA': '6.70', 'dummy_geom': True}}, {'type': 'Feature', 'geometry': {'type': 'Point', 'coordinates': [-9999, -9999]}, 'id': '17_17', 'properties': {'CCA': '2.83', 'Elevation': 5100, 'SCA': '7.27', 'dummy_geom': True}}, {'type': 'Feature', 'geometry': {'type': 'Point', 'coordinates': [-9999, -9999]}, 'id': '18_18', 'properties': {'CCA': '2.97', 'Elevation': 5200, 'SCA': '7.93', 'dummy_geom': True}}, {'type': 'Feature', 'geometry': {'type': 'Point', 'coordinates': [-9999, -9999]}, 'id': '19_19', 'properties': {'CCA': '3.19', 'Elevation': 5300, 'SCA': '9.43', 'dummy_geom': True}}, {'type': 'Feature', 'geometry': {'type': 'Point', 'coordinates': [-9999, -9999]}, 'id': '20_20', 'properties': {'CCA': '3.50', 'Elevation': 5400, 'SCA': '12.66', 'dummy_geom': True}}, {'type': 'Feature', 'geometry': {'type': 'Point', 'coordinates': [-9999, -9999]}, 'id': '21_21', 'properties': {'CCA': '3.94', 'Elevation': 5500, 'SCA': '17.17', 'dummy_geom': True}}, {'type': 'Feature', 'geometry': {'type': 'Point', 'coordinates': [-9999, -9999]}, 'id': '22_22', 'properties': {'CCA': '4.76', 'Elevation': 5600, 'SCA': '24.93', 'dummy_geom': True}}, {'type': 'Feature', 'geometry': {'type': 'Point', 'coordinates': [-9999, -9999]}, 'id': '23_23', 'properties': {'CCA': '5.42', 'Elevation': 5700, 'SCA': '29.37', 'dummy_geom': True}}, {'type': 'Feature', 'geometry': {'type': 'Point', 'coordinates': [-9999, -9999]}, 'id': '24_24', 'properties': {'CCA': '5.75', 'Elevation': 5800, 'SCA': '33.56', 'dummy_geom': True}}, {'type': 'Feature', 'geometry': {'type': 'Point', 'coordinates': [-9999, -9999]}, 'id': '25_25', 'properties': {'CCA': '6.78', 'Elevation': 5900, 'SCA': '46.40', 'dummy_geom': True}}, {'type': 'Feature', 'geometry': {'type': 'Point', 'coordinates': [-9999, -9999]}, 'id': '26_26', 'properties': {'CCA': '7.04', 'Elevation': 6000, 'SCA': '47.32', 'dummy_geom': True}}, {'type': 'Feature', 'geometry': {'type': 'Point', 'coordinates': [-9999, -9999]}, 'id': '27_27', 'properties': {'CCA': '7.13', 'Elevation': 6100, 'SCA': '46.70', 'dummy_geom': True}}, {'type': 'Feature', 'geometry': {'type': 'Point', 'coordinates': [-9999, -9999]}, 'id': '28_28', 'properties': {'CCA': '7.12', 'Elevation': 6200, 'SCA': '43.94', 'dummy_geom': True}}]}\n"
     ]
    }
   ],
   "source": [
    "# Apply the geometry fix\n",
    "ee_sca_cca_area_per_elev_patched_fc = ee_sca_cca_per_elev_fc.map(_ee_assign_dummy_geom)\n",
    "\n",
    "sca_basin_23_patched = ee_sca_cca_area_per_elev_patched_fc.getInfo()\n",
    "print(sca_basin_23_patched)"
   ]
  },
  {
   "cell_type": "code",
   "execution_count": null,
   "id": "07732eb1",
   "metadata": {},
   "outputs": [],
   "source": [
    "if export_target == \"gdrive\":\n",
    "    # Create export task to GDrive\n",
    "    task = ee.batch.Export.table.toDrive(\n",
    "        collection=ee_sca_cca_area_per_elev_patched_fc,\n",
    "        description=table_name,\n",
    "        folder=export_path,\n",
    "        fileNamePrefix=table_name,\n",
    "        fileFormat=\"CSV\",\n",
    "        selectors=[\"Elevation\", \"Area\"],\n",
    "    )\n",
    "\n",
    "if export_target == \"gee_assets\":\n",
    "    # Create export task to GEE Assets\n",
    "    task = ee.batch.Export.table.toAsset(\n",
    "        collection=ee_sca_cca_area_per_elev_patched_fc,\n",
    "        description=table_name,\n",
    "        assetId=f\"{export_path}/{table_name}\",\n",
    "    )\n",
    "task.start()\n",
    "task_list = [task]"
   ]
  },
  {
   "cell_type": "code",
   "execution_count": 52,
   "id": "0e8989c6",
   "metadata": {},
   "outputs": [
    {
     "name": "stdout",
     "output_type": "stream",
     "text": [
      "Task status count: {'COMPLETED': 1}\n"
     ]
    }
   ],
   "source": [
    "current_task_status = check_export_list_status(task_list)"
   ]
  },
  {
   "cell_type": "markdown",
   "id": "ef2a5c26",
   "metadata": {},
   "source": [
    "## 4. Month statistics per BNA basin (This is Month across years)"
   ]
  },
  {
   "cell_type": "markdown",
   "id": "710a89bc",
   "metadata": {},
   "source": [
    "### 4.1 Month Average of Snow Persistence (SP%) for all months per basin\n",
    "\n",
    "- "
   ]
  },
  {
   "cell_type": "code",
   "execution_count": 12,
   "id": "ba5ad123",
   "metadata": {},
   "outputs": [
    {
     "data": {
      "text/plain": [
       "<module 'observatorio_ipa.services.gee.processes.stats.basins.month.sca_m_bna' from 'C:\\\\Users\\\\erick\\\\Documents\\\\Projects\\\\teleamb\\\\observatorio_ipa\\\\src\\\\observatorio_ipa\\\\services\\\\gee\\\\processes\\\\stats\\\\basins\\\\month\\\\sca_m_bna.py'>"
      ]
     },
     "execution_count": 12,
     "metadata": {},
     "output_type": "execute_result"
    }
   ],
   "source": [
    "from observatorio_ipa.services.gee.processes.stats.basins.month import sca_m_bna\n",
    "reload(sca_m_bna)"
   ]
  },
  {
   "cell_type": "code",
   "execution_count": 17,
   "id": "06b7d0c9",
   "metadata": {},
   "outputs": [
    {
     "name": "stdout",
     "output_type": "stream",
     "text": [
      "Processing basin: 010, Table Name: MCD_SCA_m_BNA_010\n",
      "Processing basin: 023, Table Name: MCD_SCA_m_BNA_023\n",
      "Processing basin: 024, Table Name: MCD_SCA_m_BNA_024\n"
     ]
    }
   ],
   "source": [
    "month_basin_stats = sca_m_bna.SCA_M_BNA(\n",
    "    ee_icollection=ee_monthly_ic,\n",
    "    ee_basins_fc=ee_basins_bna_fc,\n",
    "    basins_cd_property=CUENCA_PROPERTY_NAME,\n",
    "    export_target=\"gee_assets\",  # Options: \"gdrive\" or \"gee_assets\n",
    "    table_prefix=SCA_M_BNA_TBL_PREFIX,\n",
    "    export_path=ASSETS_MONTH_TBL_EXPORT_PATH,\n",
    "    max_exports=3,  # Limit to 1 export task for testing\n",
    ")\n",
    "month_basin_stats.calc_stats()"
   ]
  },
  {
   "cell_type": "code",
   "execution_count": 18,
   "id": "5240d960",
   "metadata": {},
   "outputs": [],
   "source": [
    "month_basin_stats_item = month_basin_stats.get_stats_item('023')\n",
    "if month_basin_stats_item is not None:\n",
    "    ee_stats_fc = month_basin_stats_item['ee_stats_fc']\n",
    "    ee_stats_patched_fc = ee_stats_fc.map(remove_geometry)\n",
    "    stats_patched_fc = ee_stats_patched_fc.getInfo()\n",
    "\n",
    "    "
   ]
  },
  {
   "cell_type": "code",
   "execution_count": 19,
   "id": "e5dc010a",
   "metadata": {},
   "outputs": [
    {
     "name": "stdout",
     "output_type": "stream",
     "text": [
      "{'Month': 1, 'Mean': '0.49', 'P25': '0.27', 'P75': '0.98'}\n",
      "{'Month': 2, 'Mean': '0.65', 'P25': '0.29', 'P75': '1.48'}\n",
      "{'Month': 3, 'Mean': '0.53', 'P25': '0.23', 'P75': '1.24'}\n",
      "{'Month': 4, 'Mean': '0.53', 'P25': '0.25', 'P75': '1.51'}\n",
      "{'Month': 5, 'Mean': '1.11', 'P25': '0.36', 'P75': '5.59'}\n",
      "{'Month': 6, 'Mean': '2.90', 'P25': '0.60', 'P75': '9.61'}\n",
      "{'Month': 7, 'Mean': '2.91', 'P25': '0.61', 'P75': '9.84'}\n",
      "{'Month': 8, 'Mean': '1.46', 'P25': '0.48', 'P75': '6.39'}\n",
      "{'Month': 9, 'Mean': '1.09', 'P25': '0.50', 'P75': '4.12'}\n",
      "{'Month': 10, 'Mean': '0.65', 'P25': '0.42', 'P75': '1.57'}\n",
      "{'Month': 11, 'Mean': '0.49', 'P25': '0.35', 'P75': '0.67'}\n",
      "{'Month': 12, 'Mean': '0.38', 'P25': '0.27', 'P75': '0.54'}\n"
     ]
    }
   ],
   "source": [
    "print_fc_properties(stats_patched_fc, select_properties=month_basin_stats.bands_of_interest)"
   ]
  },
  {
   "cell_type": "markdown",
   "id": "65a211fc",
   "metadata": {},
   "source": [
    "#### Manual step-by-step Run (Debug)"
   ]
  },
  {
   "cell_type": "markdown",
   "id": "9108d46c",
   "metadata": {},
   "source": [
    "### 4.2 Month Average of Snow Persistence (SP%) per basin and elevation bin"
   ]
  },
  {
   "cell_type": "code",
   "execution_count": 17,
   "id": "776ef47c",
   "metadata": {},
   "outputs": [
    {
     "data": {
      "text/plain": [
       "<module 'observatorio_ipa.services.gee.processes.stats.basins.month.sca_m_elev_bna' from 'C:\\\\Users\\\\erick\\\\Documents\\\\Projects\\\\teleamb\\\\observatorio_ipa\\\\src\\\\observatorio_ipa\\\\services\\\\gee\\\\processes\\\\stats\\\\basins\\\\month\\\\sca_m_elev_bna.py'>"
      ]
     },
     "execution_count": 17,
     "metadata": {},
     "output_type": "execute_result"
    }
   ],
   "source": [
    "from observatorio_ipa.services.gee.processes.stats.basins.month import sca_m_elev_bna\n",
    "reload(sca_m_elev_bna)"
   ]
  },
  {
   "cell_type": "code",
   "execution_count": 18,
   "id": "44afd1cf",
   "metadata": {},
   "outputs": [
    {
     "name": "stdout",
     "output_type": "stream",
     "text": [
      "Processing basin: 010, Table Name: MCD_SCA_m_elev_BNA_010\n",
      "Processing basin: 023, Table Name: MCD_SCA_m_elev_BNA_023\n",
      "Processing basin: 024, Table Name: MCD_SCA_m_elev_BNA_024\n"
     ]
    }
   ],
   "source": [
    "month_basins_elev_stats = sca_m_elev_bna.SCA_M_Elev_BNA(\n",
    "    ee_icollection=ee_monthly_ic,\n",
    "    ee_basins_fc=ee_basins_bna_fc,\n",
    "    basins_cd_property=CUENCA_PROPERTY_NAME,\n",
    "    ee_dem_img=ee_dem_img,\n",
    "    export_target=\"gee_assets\",  # Options: \"gdrive\" or \"gee_assets\n",
    "    table_prefix=SCA_M_ELEV_BNA_TBL_PREFIX,\n",
    "    export_path=ASSETS_MONTH_TBL_EXPORT_PATH,\n",
    "    max_exports=3,  # Limit to 1 export task for testing\n",
    "    basin_codes=[\"010\", \"023\", \"024\"],  # Limit to 3 basins for testing\n",
    ")\n",
    "month_basins_elev_stats.calc_stats()"
   ]
  },
  {
   "cell_type": "code",
   "execution_count": 19,
   "id": "fbca0fa5",
   "metadata": {},
   "outputs": [],
   "source": [
    "month_basin_stats_item = month_basins_elev_stats.get_stats_item(\"023\")\n",
    "if month_basin_stats_item is not None:\n",
    "    ee_stats_fc = month_basin_stats_item[\"ee_stats_fc\"]\n",
    "    ee_stats_patched_fc = ee_stats_fc.map(remove_geometry)\n",
    "    stats_patched_fc = ee_stats_patched_fc.getInfo()"
   ]
  },
  {
   "cell_type": "code",
   "execution_count": 20,
   "id": "b5319af2",
   "metadata": {},
   "outputs": [
    {
     "name": "stdout",
     "output_type": "stream",
     "text": [
      "{'Month': 1, 'Elevation': 3400, 'SCA': '0.45', 'CCA': '0.42'}\n",
      "{'Month': 1, 'Elevation': 3500, 'SCA': '1.94', 'CCA': '0.26'}\n",
      "{'Month': 1, 'Elevation': 3600, 'SCA': '0.20', 'CCA': '0.28'}\n",
      "{'Month': 1, 'Elevation': 3700, 'SCA': '0.23', 'CCA': '0.45'}\n",
      "{'Month': 1, 'Elevation': 3800, 'SCA': '0.25', 'CCA': '0.59'}\n",
      "{'Month': 1, 'Elevation': 3900, 'SCA': '0.23', 'CCA': '0.69'}\n",
      "{'Month': 1, 'Elevation': 4000, 'SCA': '0.20', 'CCA': '0.78'}\n",
      "{'Month': 1, 'Elevation': 4100, 'SCA': '0.13', 'CCA': '0.94'}\n",
      "{'Month': 1, 'Elevation': 4200, 'SCA': '0.22', 'CCA': '1.13'}\n",
      "{'Month': 1, 'Elevation': 4300, 'SCA': '1.84', 'CCA': '1.50'}\n",
      "{'Month': 1, 'Elevation': 4400, 'SCA': '0.19', 'CCA': '1.78'}\n",
      "{'Month': 1, 'Elevation': 4500, 'SCA': '0.27', 'CCA': '2.09'}\n",
      "{'Month': 1, 'Elevation': 4600, 'SCA': '0.43', 'CCA': '2.32'}\n",
      "{'Month': 1, 'Elevation': 4700, 'SCA': '0.60', 'CCA': '2.33'}\n",
      "{'Month': 1, 'Elevation': 4800, 'SCA': '0.99', 'CCA': '2.32'}\n",
      "{'Month': 1, 'Elevation': 4900, 'SCA': '1.69', 'CCA': '3.02'}\n",
      "{'Month': 1, 'Elevation': 5000, 'SCA': '2.44', 'CCA': '3.41'}\n",
      "{'Month': 1, 'Elevation': 5100, 'SCA': '3.46', 'CCA': '3.57'}\n",
      "{'Month': 1, 'Elevation': 5200, 'SCA': '4.78', 'CCA': '4.02'}\n",
      "{'Month': 1, 'Elevation': 5300, 'SCA': '6.84', 'CCA': '4.55'}\n",
      "{'Month': 1, 'Elevation': 5400, 'SCA': '9.23', 'CCA': '4.53'}\n",
      "{'Month': 1, 'Elevation': 5500, 'SCA': '12.71', 'CCA': '4.45'}\n",
      "{'Month': 1, 'Elevation': 5600, 'SCA': '18.62', 'CCA': '4.78'}\n",
      "{'Month': 1, 'Elevation': 5700, 'SCA': '22.66', 'CCA': '4.50'}\n",
      "{'Month': 1, 'Elevation': 5800, 'SCA': '24.03', 'CCA': '4.06'}\n",
      "{'Month': 1, 'Elevation': 5900, 'SCA': '27.78', 'CCA': '4.66'}\n",
      "{'Month': 1, 'Elevation': 6000, 'SCA': '29.48', 'CCA': '4.78'}\n",
      "{'Month': 1, 'Elevation': 6100, 'SCA': '31.48', 'CCA': '4.97'}\n",
      "{'Month': 1, 'Elevation': 6200, 'SCA': '30.95', 'CCA': '4.44'}\n",
      "{'Month': 2, 'Elevation': 3400, 'SCA': '0.58', 'CCA': '1.85'}\n",
      "{'Month': 2, 'Elevation': 3500, 'SCA': '2.95', 'CCA': '1.97'}\n",
      "{'Month': 2, 'Elevation': 3600, 'SCA': '0.33', 'CCA': '1.83'}\n",
      "{'Month': 2, 'Elevation': 3700, 'SCA': '0.28', 'CCA': '1.94'}\n",
      "{'Month': 2, 'Elevation': 3800, 'SCA': '0.26', 'CCA': '1.90'}\n",
      "{'Month': 2, 'Elevation': 3900, 'SCA': '0.27', 'CCA': '1.87'}\n",
      "{'Month': 2, 'Elevation': 4000, 'SCA': '0.28', 'CCA': '2.01'}\n",
      "{'Month': 2, 'Elevation': 4100, 'SCA': '0.20', 'CCA': '2.01'}\n",
      "{'Month': 2, 'Elevation': 4200, 'SCA': '0.26', 'CCA': '2.07'}\n",
      "{'Month': 2, 'Elevation': 4300, 'SCA': '1.87', 'CCA': '2.69'}\n",
      "{'Month': 2, 'Elevation': 4400, 'SCA': '0.28', 'CCA': '2.85'}\n",
      "{'Month': 2, 'Elevation': 4500, 'SCA': '0.38', 'CCA': '3.12'}\n",
      "{'Month': 2, 'Elevation': 4600, 'SCA': '0.73', 'CCA': '3.46'}\n",
      "{'Month': 2, 'Elevation': 4700, 'SCA': '1.49', 'CCA': '3.44'}\n",
      "{'Month': 2, 'Elevation': 4800, 'SCA': '2.14', 'CCA': '3.84'}\n",
      "{'Month': 2, 'Elevation': 4900, 'SCA': '3.25', 'CCA': '4.77'}\n",
      "{'Month': 2, 'Elevation': 5000, 'SCA': '4.47', 'CCA': '5.05'}\n",
      "{'Month': 2, 'Elevation': 5100, 'SCA': '7.07', 'CCA': '5.05'}\n",
      "{'Month': 2, 'Elevation': 5200, 'SCA': '9.50', 'CCA': '5.29'}\n",
      "{'Month': 2, 'Elevation': 5300, 'SCA': '13.19', 'CCA': '5.44'}\n",
      "{'Month': 2, 'Elevation': 5400, 'SCA': '16.96', 'CCA': '5.25'}\n",
      "{'Month': 2, 'Elevation': 5500, 'SCA': '22.87', 'CCA': '5.21'}\n",
      "{'Month': 2, 'Elevation': 5600, 'SCA': '34.37', 'CCA': '5.55'}\n",
      "{'Month': 2, 'Elevation': 5700, 'SCA': '42.89', 'CCA': '5.49'}\n",
      "{'Month': 2, 'Elevation': 5800, 'SCA': '46.69', 'CCA': '5.14'}\n",
      "{'Month': 2, 'Elevation': 5900, 'SCA': '60.52', 'CCA': '5.49'}\n",
      "{'Month': 2, 'Elevation': 6000, 'SCA': '64.08', 'CCA': '5.52'}\n",
      "{'Month': 2, 'Elevation': 6100, 'SCA': '67.24', 'CCA': '5.48'}\n",
      "{'Month': 2, 'Elevation': 6200, 'SCA': '67.37', 'CCA': '5.43'}\n",
      "{'Month': 3, 'Elevation': 3400, 'SCA': '0.43', 'CCA': '0.00'}\n",
      "{'Month': 3, 'Elevation': 3500, 'SCA': '3.17', 'CCA': '0.07'}\n",
      "{'Month': 3, 'Elevation': 3600, 'SCA': '0.24', 'CCA': '0.08'}\n",
      "{'Month': 3, 'Elevation': 3700, 'SCA': '0.19', 'CCA': '0.07'}\n",
      "{'Month': 3, 'Elevation': 3800, 'SCA': '0.22', 'CCA': '0.05'}\n",
      "{'Month': 3, 'Elevation': 3900, 'SCA': '0.26', 'CCA': '0.10'}\n",
      "{'Month': 3, 'Elevation': 4000, 'SCA': '0.36', 'CCA': '0.20'}\n",
      "{'Month': 3, 'Elevation': 4100, 'SCA': '0.27', 'CCA': '0.39'}\n",
      "{'Month': 3, 'Elevation': 4200, 'SCA': '0.33', 'CCA': '0.45'}\n",
      "{'Month': 3, 'Elevation': 4300, 'SCA': '1.90', 'CCA': '0.50'}\n",
      "{'Month': 3, 'Elevation': 4400, 'SCA': '0.29', 'CCA': '0.47'}\n",
      "{'Month': 3, 'Elevation': 4500, 'SCA': '0.39', 'CCA': '0.47'}\n",
      "{'Month': 3, 'Elevation': 4600, 'SCA': '0.64', 'CCA': '0.65'}\n",
      "{'Month': 3, 'Elevation': 4700, 'SCA': '1.17', 'CCA': '0.74'}\n",
      "{'Month': 3, 'Elevation': 4800, 'SCA': '1.56', 'CCA': '0.76'}\n",
      "{'Month': 3, 'Elevation': 4900, 'SCA': '2.08', 'CCA': '0.92'}\n",
      "{'Month': 3, 'Elevation': 5000, 'SCA': '2.76', 'CCA': '1.07'}\n",
      "{'Month': 3, 'Elevation': 5100, 'SCA': '4.01', 'CCA': '1.22'}\n",
      "{'Month': 3, 'Elevation': 5200, 'SCA': '6.02', 'CCA': '1.38'}\n",
      "{'Month': 3, 'Elevation': 5300, 'SCA': '9.35', 'CCA': '1.55'}\n",
      "{'Month': 3, 'Elevation': 5400, 'SCA': '14.09', 'CCA': '1.63'}\n",
      "{'Month': 3, 'Elevation': 5500, 'SCA': '20.64', 'CCA': '1.93'}\n",
      "{'Month': 3, 'Elevation': 5600, 'SCA': '30.77', 'CCA': '2.35'}\n",
      "{'Month': 3, 'Elevation': 5700, 'SCA': '37.40', 'CCA': '2.07'}\n",
      "{'Month': 3, 'Elevation': 5800, 'SCA': '43.27', 'CCA': '1.83'}\n",
      "{'Month': 3, 'Elevation': 5900, 'SCA': '61.46', 'CCA': '1.68'}\n",
      "{'Month': 3, 'Elevation': 6000, 'SCA': '65.92', 'CCA': '1.82'}\n",
      "{'Month': 3, 'Elevation': 6100, 'SCA': '69.23', 'CCA': '1.80'}\n",
      "{'Month': 3, 'Elevation': 6200, 'SCA': '67.56', 'CCA': '1.83'}\n",
      "{'Month': 4, 'Elevation': 3400, 'SCA': '0.40', 'CCA': '0.90'}\n",
      "{'Month': 4, 'Elevation': 3500, 'SCA': '4.21', 'CCA': '0.98'}\n",
      "{'Month': 4, 'Elevation': 3600, 'SCA': '0.82', 'CCA': '1.00'}\n",
      "{'Month': 4, 'Elevation': 3700, 'SCA': '0.90', 'CCA': '1.02'}\n",
      "{'Month': 4, 'Elevation': 3800, 'SCA': '1.01', 'CCA': '1.04'}\n",
      "{'Month': 4, 'Elevation': 3900, 'SCA': '1.19', 'CCA': '1.09'}\n",
      "{'Month': 4, 'Elevation': 4000, 'SCA': '1.23', 'CCA': '1.10'}\n",
      "{'Month': 4, 'Elevation': 4100, 'SCA': '0.73', 'CCA': '0.96'}\n",
      "{'Month': 4, 'Elevation': 4200, 'SCA': '0.67', 'CCA': '0.98'}\n",
      "{'Month': 4, 'Elevation': 4300, 'SCA': '2.10', 'CCA': '0.84'}\n",
      "{'Month': 4, 'Elevation': 4400, 'SCA': '0.74', 'CCA': '0.87'}\n",
      "{'Month': 4, 'Elevation': 4500, 'SCA': '0.79', 'CCA': '0.89'}\n",
      "{'Month': 4, 'Elevation': 4600, 'SCA': '1.16', 'CCA': '0.97'}\n",
      "{'Month': 4, 'Elevation': 4700, 'SCA': '1.94', 'CCA': '1.11'}\n",
      "{'Month': 4, 'Elevation': 4800, 'SCA': '3.00', 'CCA': '1.24'}\n",
      "{'Month': 4, 'Elevation': 4900, 'SCA': '3.17', 'CCA': '1.28'}\n",
      "{'Month': 4, 'Elevation': 5000, 'SCA': '3.32', 'CCA': '1.29'}\n",
      "{'Month': 4, 'Elevation': 5100, 'SCA': '4.08', 'CCA': '1.30'}\n",
      "{'Month': 4, 'Elevation': 5200, 'SCA': '4.82', 'CCA': '1.37'}\n",
      "{'Month': 4, 'Elevation': 5300, 'SCA': '7.02', 'CCA': '1.51'}\n",
      "{'Month': 4, 'Elevation': 5400, 'SCA': '11.93', 'CCA': '1.80'}\n",
      "{'Month': 4, 'Elevation': 5500, 'SCA': '18.71', 'CCA': '2.01'}\n",
      "{'Month': 4, 'Elevation': 5600, 'SCA': '29.10', 'CCA': '2.50'}\n",
      "{'Month': 4, 'Elevation': 5700, 'SCA': '34.71', 'CCA': '2.86'}\n",
      "{'Month': 4, 'Elevation': 5800, 'SCA': '40.89', 'CCA': '3.04'}\n",
      "{'Month': 4, 'Elevation': 5900, 'SCA': '56.24', 'CCA': '3.76'}\n",
      "{'Month': 4, 'Elevation': 6000, 'SCA': '58.81', 'CCA': '3.84'}\n",
      "{'Month': 4, 'Elevation': 6100, 'SCA': '59.99', 'CCA': '3.66'}\n",
      "{'Month': 4, 'Elevation': 6200, 'SCA': '57.51', 'CCA': '3.51'}\n",
      "{'Month': 5, 'Elevation': 3400, 'SCA': '0.48', 'CCA': '1.56'}\n",
      "{'Month': 5, 'Elevation': 3500, 'SCA': '6.27', 'CCA': '2.36'}\n",
      "{'Month': 5, 'Elevation': 3600, 'SCA': '1.92', 'CCA': '2.59'}\n",
      "{'Month': 5, 'Elevation': 3700, 'SCA': '2.55', 'CCA': '2.88'}\n",
      "{'Month': 5, 'Elevation': 3800, 'SCA': '3.16', 'CCA': '2.94'}\n",
      "{'Month': 5, 'Elevation': 3900, 'SCA': '4.13', 'CCA': '3.10'}\n",
      "{'Month': 5, 'Elevation': 4000, 'SCA': '4.69', 'CCA': '3.02'}\n",
      "{'Month': 5, 'Elevation': 4100, 'SCA': '2.65', 'CCA': '1.96'}\n",
      "{'Month': 5, 'Elevation': 4200, 'SCA': '2.16', 'CCA': '1.48'}\n",
      "{'Month': 5, 'Elevation': 4300, 'SCA': '3.46', 'CCA': '1.10'}\n",
      "{'Month': 5, 'Elevation': 4400, 'SCA': '2.69', 'CCA': '1.55'}\n",
      "{'Month': 5, 'Elevation': 4500, 'SCA': '3.49', 'CCA': '1.90'}\n",
      "{'Month': 5, 'Elevation': 4600, 'SCA': '4.63', 'CCA': '2.53'}\n",
      "{'Month': 5, 'Elevation': 4700, 'SCA': '6.33', 'CCA': '3.78'}\n",
      "{'Month': 5, 'Elevation': 4800, 'SCA': '8.47', 'CCA': '4.38'}\n",
      "{'Month': 5, 'Elevation': 4900, 'SCA': '8.87', 'CCA': '4.89'}\n",
      "{'Month': 5, 'Elevation': 5000, 'SCA': '8.56', 'CCA': '4.76'}\n",
      "{'Month': 5, 'Elevation': 5100, 'SCA': '9.10', 'CCA': '5.16'}\n",
      "{'Month': 5, 'Elevation': 5200, 'SCA': '9.78', 'CCA': '5.40'}\n",
      "{'Month': 5, 'Elevation': 5300, 'SCA': '11.35', 'CCA': '5.80'}\n",
      "{'Month': 5, 'Elevation': 5400, 'SCA': '15.64', 'CCA': '6.81'}\n",
      "{'Month': 5, 'Elevation': 5500, 'SCA': '21.44', 'CCA': '8.36'}\n",
      "{'Month': 5, 'Elevation': 5600, 'SCA': '30.84', 'CCA': '10.79'}\n",
      "{'Month': 5, 'Elevation': 5700, 'SCA': '36.33', 'CCA': '13.06'}\n",
      "{'Month': 5, 'Elevation': 5800, 'SCA': '42.14', 'CCA': '14.76'}\n",
      "{'Month': 5, 'Elevation': 5900, 'SCA': '56.59', 'CCA': '17.75'}\n",
      "{'Month': 5, 'Elevation': 6000, 'SCA': '56.34', 'CCA': '18.31'}\n",
      "{'Month': 5, 'Elevation': 6100, 'SCA': '55.63', 'CCA': '18.56'}\n",
      "{'Month': 5, 'Elevation': 6200, 'SCA': '52.79', 'CCA': '18.24'}\n",
      "{'Month': 6, 'Elevation': 3400, 'SCA': '2.23', 'CCA': '1.71'}\n",
      "{'Month': 6, 'Elevation': 3500, 'SCA': '10.42', 'CCA': '2.33'}\n",
      "{'Month': 6, 'Elevation': 3600, 'SCA': '6.52', 'CCA': '2.67'}\n",
      "{'Month': 6, 'Elevation': 3700, 'SCA': '7.69', 'CCA': '3.18'}\n",
      "{'Month': 6, 'Elevation': 3800, 'SCA': '8.67', 'CCA': '3.48'}\n",
      "{'Month': 6, 'Elevation': 3900, 'SCA': '9.83', 'CCA': '3.77'}\n",
      "{'Month': 6, 'Elevation': 4000, 'SCA': '10.17', 'CCA': '3.96'}\n",
      "{'Month': 6, 'Elevation': 4100, 'SCA': '5.69', 'CCA': '3.10'}\n",
      "{'Month': 6, 'Elevation': 4200, 'SCA': '4.60', 'CCA': '2.60'}\n",
      "{'Month': 6, 'Elevation': 4300, 'SCA': '5.74', 'CCA': '2.28'}\n",
      "{'Month': 6, 'Elevation': 4400, 'SCA': '6.20', 'CCA': '2.88'}\n",
      "{'Month': 6, 'Elevation': 4500, 'SCA': '7.26', 'CCA': '3.36'}\n",
      "{'Month': 6, 'Elevation': 4600, 'SCA': '8.99', 'CCA': '3.79'}\n",
      "{'Month': 6, 'Elevation': 4700, 'SCA': '12.00', 'CCA': '4.96'}\n",
      "{'Month': 6, 'Elevation': 4800, 'SCA': '15.92', 'CCA': '4.67'}\n",
      "{'Month': 6, 'Elevation': 4900, 'SCA': '16.64', 'CCA': '4.81'}\n",
      "{'Month': 6, 'Elevation': 5000, 'SCA': '15.85', 'CCA': '4.69'}\n",
      "{'Month': 6, 'Elevation': 5100, 'SCA': '16.25', 'CCA': '4.95'}\n",
      "{'Month': 6, 'Elevation': 5200, 'SCA': '15.59', 'CCA': '5.03'}\n",
      "{'Month': 6, 'Elevation': 5300, 'SCA': '16.52', 'CCA': '5.23'}\n",
      "{'Month': 6, 'Elevation': 5400, 'SCA': '20.86', 'CCA': '5.98'}\n",
      "{'Month': 6, 'Elevation': 5500, 'SCA': '26.37', 'CCA': '6.94'}\n",
      "{'Month': 6, 'Elevation': 5600, 'SCA': '36.09', 'CCA': '8.42'}\n",
      "{'Month': 6, 'Elevation': 5700, 'SCA': '41.75', 'CCA': '10.33'}\n",
      "{'Month': 6, 'Elevation': 5800, 'SCA': '47.45', 'CCA': '11.35'}\n",
      "{'Month': 6, 'Elevation': 5900, 'SCA': '61.19', 'CCA': '13.48'}\n",
      "{'Month': 6, 'Elevation': 6000, 'SCA': '60.94', 'CCA': '14.17'}\n",
      "{'Month': 6, 'Elevation': 6100, 'SCA': '60.52', 'CCA': '14.38'}\n",
      "{'Month': 6, 'Elevation': 6200, 'SCA': '58.20', 'CCA': '14.58'}\n",
      "{'Month': 7, 'Elevation': 3400, 'SCA': '1.90', 'CCA': '1.26'}\n",
      "{'Month': 7, 'Elevation': 3500, 'SCA': '12.74', 'CCA': '2.05'}\n",
      "{'Month': 7, 'Elevation': 3600, 'SCA': '8.94', 'CCA': '2.19'}\n",
      "{'Month': 7, 'Elevation': 3700, 'SCA': '10.77', 'CCA': '2.54'}\n",
      "{'Month': 7, 'Elevation': 3800, 'SCA': '11.91', 'CCA': '2.83'}\n",
      "{'Month': 7, 'Elevation': 3900, 'SCA': '13.18', 'CCA': '3.26'}\n",
      "{'Month': 7, 'Elevation': 4000, 'SCA': '12.85', 'CCA': '3.43'}\n",
      "{'Month': 7, 'Elevation': 4100, 'SCA': '6.73', 'CCA': '2.49'}\n",
      "{'Month': 7, 'Elevation': 4200, 'SCA': '5.33', 'CCA': '2.17'}\n",
      "{'Month': 7, 'Elevation': 4300, 'SCA': '6.08', 'CCA': '1.84'}\n",
      "{'Month': 7, 'Elevation': 4400, 'SCA': '6.61', 'CCA': '2.60'}\n",
      "{'Month': 7, 'Elevation': 4500, 'SCA': '8.42', 'CCA': '3.02'}\n",
      "{'Month': 7, 'Elevation': 4600, 'SCA': '9.55', 'CCA': '3.34'}\n",
      "{'Month': 7, 'Elevation': 4700, 'SCA': '11.57', 'CCA': '4.48'}\n",
      "{'Month': 7, 'Elevation': 4800, 'SCA': '15.63', 'CCA': '4.69'}\n",
      "{'Month': 7, 'Elevation': 4900, 'SCA': '16.18', 'CCA': '5.08'}\n",
      "{'Month': 7, 'Elevation': 5000, 'SCA': '15.75', 'CCA': '4.90'}\n",
      "{'Month': 7, 'Elevation': 5100, 'SCA': '15.82', 'CCA': '5.27'}\n",
      "{'Month': 7, 'Elevation': 5200, 'SCA': '14.78', 'CCA': '5.29'}\n",
      "{'Month': 7, 'Elevation': 5300, 'SCA': '15.38', 'CCA': '5.52'}\n",
      "{'Month': 7, 'Elevation': 5400, 'SCA': '18.99', 'CCA': '6.37'}\n",
      "{'Month': 7, 'Elevation': 5500, 'SCA': '23.77', 'CCA': '7.28'}\n",
      "{'Month': 7, 'Elevation': 5600, 'SCA': '32.66', 'CCA': '8.75'}\n",
      "{'Month': 7, 'Elevation': 5700, 'SCA': '37.05', 'CCA': '10.47'}\n",
      "{'Month': 7, 'Elevation': 5800, 'SCA': '41.58', 'CCA': '11.45'}\n",
      "{'Month': 7, 'Elevation': 5900, 'SCA': '56.19', 'CCA': '14.28'}\n",
      "{'Month': 7, 'Elevation': 6000, 'SCA': '55.47', 'CCA': '14.74'}\n",
      "{'Month': 7, 'Elevation': 6100, 'SCA': '53.72', 'CCA': '14.72'}\n",
      "{'Month': 7, 'Elevation': 6200, 'SCA': '51.33', 'CCA': '14.25'}\n",
      "{'Month': 8, 'Elevation': 3400, 'SCA': '1.02', 'CCA': '0.61'}\n",
      "{'Month': 8, 'Elevation': 3500, 'SCA': '8.38', 'CCA': '1.54'}\n",
      "{'Month': 8, 'Elevation': 3600, 'SCA': '4.06', 'CCA': '1.54'}\n",
      "{'Month': 8, 'Elevation': 3700, 'SCA': '5.11', 'CCA': '1.63'}\n",
      "{'Month': 8, 'Elevation': 3800, 'SCA': '5.87', 'CCA': '1.72'}\n",
      "{'Month': 8, 'Elevation': 3900, 'SCA': '7.08', 'CCA': '1.90'}\n",
      "{'Month': 8, 'Elevation': 4000, 'SCA': '7.76', 'CCA': '1.83'}\n",
      "{'Month': 8, 'Elevation': 4100, 'SCA': '4.15', 'CCA': '1.12'}\n",
      "{'Month': 8, 'Elevation': 4200, 'SCA': '3.16', 'CCA': '1.05'}\n",
      "{'Month': 8, 'Elevation': 4300, 'SCA': '4.24', 'CCA': '0.79'}\n",
      "{'Month': 8, 'Elevation': 4400, 'SCA': '3.40', 'CCA': '1.08'}\n",
      "{'Month': 8, 'Elevation': 4500, 'SCA': '4.42', 'CCA': '1.34'}\n",
      "{'Month': 8, 'Elevation': 4600, 'SCA': '5.64', 'CCA': '1.55'}\n",
      "{'Month': 8, 'Elevation': 4700, 'SCA': '7.36', 'CCA': '2.15'}\n",
      "{'Month': 8, 'Elevation': 4800, 'SCA': '10.59', 'CCA': '2.42'}\n",
      "{'Month': 8, 'Elevation': 4900, 'SCA': '11.17', 'CCA': '2.77'}\n",
      "{'Month': 8, 'Elevation': 5000, 'SCA': '10.77', 'CCA': '2.71'}\n",
      "{'Month': 8, 'Elevation': 5100, 'SCA': '10.37', 'CCA': '3.08'}\n",
      "{'Month': 8, 'Elevation': 5200, 'SCA': '10.54', 'CCA': '3.10'}\n",
      "{'Month': 8, 'Elevation': 5300, 'SCA': '10.99', 'CCA': '3.35'}\n",
      "{'Month': 8, 'Elevation': 5400, 'SCA': '14.35', 'CCA': '3.97'}\n",
      "{'Month': 8, 'Elevation': 5500, 'SCA': '19.08', 'CCA': '4.77'}\n",
      "{'Month': 8, 'Elevation': 5600, 'SCA': '26.90', 'CCA': '5.93'}\n",
      "{'Month': 8, 'Elevation': 5700, 'SCA': '30.76', 'CCA': '6.92'}\n",
      "{'Month': 8, 'Elevation': 5800, 'SCA': '35.02', 'CCA': '7.74'}\n",
      "{'Month': 8, 'Elevation': 5900, 'SCA': '49.22', 'CCA': '9.63'}\n",
      "{'Month': 8, 'Elevation': 6000, 'SCA': '48.77', 'CCA': '10.19'}\n",
      "{'Month': 8, 'Elevation': 6100, 'SCA': '46.60', 'CCA': '10.32'}\n",
      "{'Month': 8, 'Elevation': 6200, 'SCA': '42.02', 'CCA': '10.23'}\n",
      "{'Month': 9, 'Elevation': 3400, 'SCA': '0.71', 'CCA': '0.33'}\n",
      "{'Month': 9, 'Elevation': 3500, 'SCA': '5.85', 'CCA': '0.47'}\n",
      "{'Month': 9, 'Elevation': 3600, 'SCA': '1.98', 'CCA': '0.40'}\n",
      "{'Month': 9, 'Elevation': 3700, 'SCA': '3.13', 'CCA': '0.47'}\n",
      "{'Month': 9, 'Elevation': 3800, 'SCA': '4.08', 'CCA': '0.53'}\n",
      "{'Month': 9, 'Elevation': 3900, 'SCA': '5.11', 'CCA': '0.65'}\n",
      "{'Month': 9, 'Elevation': 4000, 'SCA': '5.26', 'CCA': '0.64'}\n",
      "{'Month': 9, 'Elevation': 4100, 'SCA': '2.81', 'CCA': '0.44'}\n",
      "{'Month': 9, 'Elevation': 4200, 'SCA': '2.22', 'CCA': '0.28'}\n",
      "{'Month': 9, 'Elevation': 4300, 'SCA': '3.85', 'CCA': '0.19'}\n",
      "{'Month': 9, 'Elevation': 4400, 'SCA': '2.56', 'CCA': '0.26'}\n",
      "{'Month': 9, 'Elevation': 4500, 'SCA': '2.72', 'CCA': '0.28'}\n",
      "{'Month': 9, 'Elevation': 4600, 'SCA': '3.67', 'CCA': '0.45'}\n",
      "{'Month': 9, 'Elevation': 4700, 'SCA': '5.72', 'CCA': '0.79'}\n",
      "{'Month': 9, 'Elevation': 4800, 'SCA': '8.90', 'CCA': '0.97'}\n",
      "{'Month': 9, 'Elevation': 4900, 'SCA': '9.48', 'CCA': '1.25'}\n",
      "{'Month': 9, 'Elevation': 5000, 'SCA': '9.12', 'CCA': '1.23'}\n",
      "{'Month': 9, 'Elevation': 5100, 'SCA': '8.92', 'CCA': '1.39'}\n",
      "{'Month': 9, 'Elevation': 5200, 'SCA': '9.53', 'CCA': '1.45'}\n",
      "{'Month': 9, 'Elevation': 5300, 'SCA': '10.20', 'CCA': '1.59'}\n",
      "{'Month': 9, 'Elevation': 5400, 'SCA': '13.42', 'CCA': '1.86'}\n",
      "{'Month': 9, 'Elevation': 5500, 'SCA': '18.09', 'CCA': '2.26'}\n",
      "{'Month': 9, 'Elevation': 5600, 'SCA': '25.74', 'CCA': '3.11'}\n",
      "{'Month': 9, 'Elevation': 5700, 'SCA': '28.88', 'CCA': '4.05'}\n",
      "{'Month': 9, 'Elevation': 5800, 'SCA': '33.16', 'CCA': '4.62'}\n",
      "{'Month': 9, 'Elevation': 5900, 'SCA': '50.05', 'CCA': '5.17'}\n",
      "{'Month': 9, 'Elevation': 6000, 'SCA': '49.49', 'CCA': '5.38'}\n",
      "{'Month': 9, 'Elevation': 6100, 'SCA': '45.95', 'CCA': '5.81'}\n",
      "{'Month': 9, 'Elevation': 6200, 'SCA': '41.84', 'CCA': '6.30'}\n",
      "{'Month': 10, 'Elevation': 3400, 'SCA': '0.27', 'CCA': '0.17'}\n",
      "{'Month': 10, 'Elevation': 3500, 'SCA': '3.34', 'CCA': '0.08'}\n",
      "{'Month': 10, 'Elevation': 3600, 'SCA': '0.12', 'CCA': '0.12'}\n",
      "{'Month': 10, 'Elevation': 3700, 'SCA': '0.10', 'CCA': '0.12'}\n",
      "{'Month': 10, 'Elevation': 3800, 'SCA': '0.18', 'CCA': '0.12'}\n",
      "{'Month': 10, 'Elevation': 3900, 'SCA': '0.41', 'CCA': '0.13'}\n",
      "{'Month': 10, 'Elevation': 4000, 'SCA': '0.65', 'CCA': '0.20'}\n",
      "{'Month': 10, 'Elevation': 4100, 'SCA': '0.42', 'CCA': '0.28'}\n",
      "{'Month': 10, 'Elevation': 4200, 'SCA': '0.41', 'CCA': '0.22'}\n",
      "{'Month': 10, 'Elevation': 4300, 'SCA': '2.63', 'CCA': '0.44'}\n",
      "{'Month': 10, 'Elevation': 4400, 'SCA': '0.54', 'CCA': '0.45'}\n",
      "{'Month': 10, 'Elevation': 4500, 'SCA': '0.76', 'CCA': '0.41'}\n",
      "{'Month': 10, 'Elevation': 4600, 'SCA': '1.30', 'CCA': '0.46'}\n",
      "{'Month': 10, 'Elevation': 4700, 'SCA': '2.26', 'CCA': '0.56'}\n",
      "{'Month': 10, 'Elevation': 4800, 'SCA': '3.80', 'CCA': '0.62'}\n",
      "{'Month': 10, 'Elevation': 4900, 'SCA': '3.96', 'CCA': '0.63'}\n",
      "{'Month': 10, 'Elevation': 5000, 'SCA': '3.77', 'CCA': '0.70'}\n",
      "{'Month': 10, 'Elevation': 5100, 'SCA': '3.81', 'CCA': '0.74'}\n",
      "{'Month': 10, 'Elevation': 5200, 'SCA': '4.41', 'CCA': '0.84'}\n",
      "{'Month': 10, 'Elevation': 5300, 'SCA': '5.17', 'CCA': '0.94'}\n",
      "{'Month': 10, 'Elevation': 5400, 'SCA': '7.18', 'CCA': '1.25'}\n",
      "{'Month': 10, 'Elevation': 5500, 'SCA': '10.27', 'CCA': '1.83'}\n",
      "{'Month': 10, 'Elevation': 5600, 'SCA': '15.52', 'CCA': '2.80'}\n",
      "{'Month': 10, 'Elevation': 5700, 'SCA': '17.41', 'CCA': '3.46'}\n",
      "{'Month': 10, 'Elevation': 5800, 'SCA': '21.32', 'CCA': '3.82'}\n",
      "{'Month': 10, 'Elevation': 5900, 'SCA': '36.05', 'CCA': '4.55'}\n",
      "{'Month': 10, 'Elevation': 6000, 'SCA': '35.89', 'CCA': '4.68'}\n",
      "{'Month': 10, 'Elevation': 6100, 'SCA': '31.75', 'CCA': '4.66'}\n",
      "{'Month': 10, 'Elevation': 6200, 'SCA': '25.92', 'CCA': '4.97'}\n",
      "{'Month': 11, 'Elevation': 3400, 'SCA': '0.18', 'CCA': '0.00'}\n",
      "{'Month': 11, 'Elevation': 3500, 'SCA': '2.25', 'CCA': '0.00'}\n",
      "{'Month': 11, 'Elevation': 3600, 'SCA': '0.06', 'CCA': '0.00'}\n",
      "{'Month': 11, 'Elevation': 3700, 'SCA': '0.04', 'CCA': '0.00'}\n",
      "{'Month': 11, 'Elevation': 3800, 'SCA': '0.03', 'CCA': '0.00'}\n",
      "{'Month': 11, 'Elevation': 3900, 'SCA': '0.01', 'CCA': '0.00'}\n",
      "{'Month': 11, 'Elevation': 4000, 'SCA': '0.02', 'CCA': '0.00'}\n",
      "{'Month': 11, 'Elevation': 4100, 'SCA': '0.02', 'CCA': '0.02'}\n",
      "{'Month': 11, 'Elevation': 4200, 'SCA': '0.07', 'CCA': '0.07'}\n",
      "{'Month': 11, 'Elevation': 4300, 'SCA': '2.18', 'CCA': '0.13'}\n",
      "{'Month': 11, 'Elevation': 4400, 'SCA': '0.05', 'CCA': '0.11'}\n",
      "{'Month': 11, 'Elevation': 4500, 'SCA': '0.03', 'CCA': '0.13'}\n",
      "{'Month': 11, 'Elevation': 4600, 'SCA': '0.08', 'CCA': '0.20'}\n",
      "{'Month': 11, 'Elevation': 4700, 'SCA': '0.18', 'CCA': '0.15'}\n",
      "{'Month': 11, 'Elevation': 4800, 'SCA': '0.42', 'CCA': '0.15'}\n",
      "{'Month': 11, 'Elevation': 4900, 'SCA': '0.60', 'CCA': '0.25'}\n",
      "{'Month': 11, 'Elevation': 5000, 'SCA': '0.72', 'CCA': '0.34'}\n",
      "{'Month': 11, 'Elevation': 5100, 'SCA': '0.95', 'CCA': '0.31'}\n",
      "{'Month': 11, 'Elevation': 5200, 'SCA': '1.41', 'CCA': '0.39'}\n",
      "{'Month': 11, 'Elevation': 5300, 'SCA': '2.10', 'CCA': '0.44'}\n",
      "{'Month': 11, 'Elevation': 5400, 'SCA': '3.11', 'CCA': '0.35'}\n",
      "{'Month': 11, 'Elevation': 5500, 'SCA': '4.61', 'CCA': '0.36'}\n",
      "{'Month': 11, 'Elevation': 5600, 'SCA': '7.93', 'CCA': '0.38'}\n",
      "{'Month': 11, 'Elevation': 5700, 'SCA': '9.42', 'CCA': '0.23'}\n",
      "{'Month': 11, 'Elevation': 5800, 'SCA': '12.45', 'CCA': '0.04'}\n",
      "{'Month': 11, 'Elevation': 5900, 'SCA': '20.43', 'CCA': '0.01'}\n",
      "{'Month': 11, 'Elevation': 6000, 'SCA': '20.46', 'CCA': '0.02'}\n",
      "{'Month': 11, 'Elevation': 6100, 'SCA': '16.98', 'CCA': '0.07'}\n",
      "{'Month': 11, 'Elevation': 6200, 'SCA': '12.48', 'CCA': '0.22'}\n",
      "{'Month': 12, 'Elevation': 3400, 'SCA': '0.36', 'CCA': '0.47'}\n",
      "{'Month': 12, 'Elevation': 3500, 'SCA': '1.53', 'CCA': '0.52'}\n",
      "{'Month': 12, 'Elevation': 3600, 'SCA': '0.12', 'CCA': '0.50'}\n",
      "{'Month': 12, 'Elevation': 3700, 'SCA': '0.10', 'CCA': '0.47'}\n",
      "{'Month': 12, 'Elevation': 3800, 'SCA': '0.09', 'CCA': '0.43'}\n",
      "{'Month': 12, 'Elevation': 3900, 'SCA': '0.09', 'CCA': '0.38'}\n",
      "{'Month': 12, 'Elevation': 4000, 'SCA': '0.08', 'CCA': '0.44'}\n",
      "{'Month': 12, 'Elevation': 4100, 'SCA': '0.08', 'CCA': '0.50'}\n",
      "{'Month': 12, 'Elevation': 4200, 'SCA': '0.09', 'CCA': '0.69'}\n",
      "{'Month': 12, 'Elevation': 4300, 'SCA': '1.93', 'CCA': '1.20'}\n",
      "{'Month': 12, 'Elevation': 4400, 'SCA': '0.09', 'CCA': '1.15'}\n",
      "{'Month': 12, 'Elevation': 4500, 'SCA': '0.09', 'CCA': '1.29'}\n",
      "{'Month': 12, 'Elevation': 4600, 'SCA': '0.11', 'CCA': '1.46'}\n",
      "{'Month': 12, 'Elevation': 4700, 'SCA': '0.13', 'CCA': '1.40'}\n",
      "{'Month': 12, 'Elevation': 4800, 'SCA': '0.20', 'CCA': '1.37'}\n",
      "{'Month': 12, 'Elevation': 4900, 'SCA': '0.28', 'CCA': '1.53'}\n",
      "{'Month': 12, 'Elevation': 5000, 'SCA': '0.43', 'CCA': '1.75'}\n",
      "{'Month': 12, 'Elevation': 5100, 'SCA': '0.57', 'CCA': '1.80'}\n",
      "{'Month': 12, 'Elevation': 5200, 'SCA': '1.00', 'CCA': '1.95'}\n",
      "{'Month': 12, 'Elevation': 5300, 'SCA': '1.55', 'CCA': '2.19'}\n",
      "{'Month': 12, 'Elevation': 5400, 'SCA': '1.97', 'CCA': '1.99'}\n",
      "{'Month': 12, 'Elevation': 5500, 'SCA': '2.67', 'CCA': '1.68'}\n",
      "{'Month': 12, 'Elevation': 5600, 'SCA': '4.49', 'CCA': '1.55'}\n",
      "{'Month': 12, 'Elevation': 5700, 'SCA': '5.85', 'CCA': '1.35'}\n",
      "{'Month': 12, 'Elevation': 5800, 'SCA': '7.05', 'CCA': '0.87'}\n",
      "{'Month': 12, 'Elevation': 5900, 'SCA': '10.68', 'CCA': '0.60'}\n",
      "{'Month': 12, 'Elevation': 6000, 'SCA': '11.27', 'CCA': '0.65'}\n",
      "{'Month': 12, 'Elevation': 6100, 'SCA': '10.20', 'CCA': '0.80'}\n",
      "{'Month': 12, 'Elevation': 6200, 'SCA': '8.18', 'CCA': '1.05'}\n"
     ]
    }
   ],
   "source": [
    "print_fc_properties(\n",
    "    stats_patched_fc, select_properties=month_basins_elev_stats.bands_of_interest\n",
    ")"
   ]
  },
  {
   "cell_type": "markdown",
   "id": "12f6cc90",
   "metadata": {},
   "source": [
    "#### Manual step-by-step Run"
   ]
  },
  {
   "cell_type": "code",
   "execution_count": 36,
   "id": "1a18c139",
   "metadata": {},
   "outputs": [],
   "source": [
    "ee_icollection = ee_monthly_ic  # Collection with Monthly images for all years\n",
    "ee_fcollection = ee_basins_bna_fc  # FeatureCollection with Basins\n",
    "property = CUENCA_PROPERTY_NAME\n",
    "ee_dem_img = ee_dem_img\n",
    "export_target = \"gee_assets\"  # Options: \"gdrive\" or \"gee_assets\"\n",
    "img_prefix = SCA_M_ELEV_BNA_TBL_PREFIX\n",
    "export_path = ASSETS_SCA_M_ELEV_BNA_TBL_EXPORT_PATH"
   ]
  },
  {
   "cell_type": "code",
   "execution_count": 37,
   "id": "6e5e3d7a",
   "metadata": {},
   "outputs": [
    {
     "name": "stdout",
     "output_type": "stream",
     "text": [
      "basin code: 023\n"
     ]
    }
   ],
   "source": [
    "basin_code_list = ee_fcollection.aggregate_array(property).getInfo()\n",
    "if basin_code_list is None:\n",
    "    basin_code_list = []\n",
    "else:\n",
    "    basin_code = basin_code_list[1]\n",
    "    print(f\"basin code: {basin_code}\")"
   ]
  },
  {
   "cell_type": "code",
   "execution_count": 38,
   "id": "cab6a4f1",
   "metadata": {},
   "outputs": [
    {
     "name": "stdout",
     "output_type": "stream",
     "text": [
      "Table name: MCD_SCA_m_elev_BNA_023\n",
      "Exporting to gee_assets at projects/ee-observatorionieves/assets/Test/month_ee/MCD_SCA_m_elev_BNA_023\n"
     ]
    }
   ],
   "source": [
    "table_name = f\"{img_prefix}{basin_code}\"\n",
    "print(f\"Table name: {table_name}\")\n",
    "print(f\"Exporting to {export_target} at {export_path}/{table_name}\")"
   ]
  },
  {
   "cell_type": "code",
   "execution_count": null,
   "id": "0eda6be3",
   "metadata": {},
   "outputs": [
    {
     "name": "stdout",
     "output_type": "stream",
     "text": [
      "Processing basin: 023, features: 348\n"
     ]
    }
   ],
   "source": [
    "ee_sca_m_per_elev_basin_fc = sca_m_elev_bna._ee_calc_month_stats_per_elev_bin(\n",
    "    basin_code=basin_code,\n",
    "    basins_cd_property=property,\n",
    "    ee_basins_fc=ee_fcollection,\n",
    "    ee_icollection=ee_icollection,\n",
    "    ee_dem_img=ee_dem_img\n",
    ")\n",
    "print(\n",
    "    f\"Processing basin: {basin_code}, features: {ee_sca_m_per_elev_basin_fc.size().getInfo()}\"\n",
    ")"
   ]
  },
  {
   "cell_type": "code",
   "execution_count": 63,
   "id": "958b52aa",
   "metadata": {},
   "outputs": [],
   "source": [
    "# Remove geometry to reduce download of FeatureCollection\n",
    "ee_sca_m_per_elev_basin_patched_fc = ee_sca_m_per_elev_basin_fc.map(remove_geometry)\n",
    "sca_m_elev_basin_stats = ee_sca_m_per_elev_basin_patched_fc.getInfo()"
   ]
  },
  {
   "cell_type": "code",
   "execution_count": 64,
   "id": "b150f0af",
   "metadata": {},
   "outputs": [
    {
     "name": "stdout",
     "output_type": "stream",
     "text": [
      "{'Month': 1, 'Elevation': 3400, 'SCA': 0.3738109262377041, 'CCA': 0.42008768355225823}\n",
      "{'Month': 1, 'Elevation': 3500, 'SCA': 1.8585733014261558, 'CCA': 0.25867206260579517}\n",
      "{'Month': 1, 'Elevation': 3600, 'SCA': 0.11481916552248042, 'CCA': 0.28072144739380495}\n",
      "{'Month': 1, 'Elevation': 3700, 'SCA': 0.1386141932888606, 'CCA': 0.4468715491490473}\n",
      "{'Month': 1, 'Elevation': 3800, 'SCA': 0.1324391079498181, 'CCA': 0.59495393124413}\n",
      "{'Month': 1, 'Elevation': 3900, 'SCA': 0.13406554925313247, 'CCA': 0.6945995870141278}\n",
      "{'Month': 1, 'Elevation': 4000, 'SCA': 0.12455168891766692, 'CCA': 0.7809565952821994}\n",
      "{'Month': 1, 'Elevation': 4100, 'SCA': 0.04532534257343554, 'CCA': 0.9380925632617967}\n",
      "{'Month': 1, 'Elevation': 4200, 'SCA': 0.12210180418060101, 'CCA': 1.1262036451803499}\n",
      "{'Month': 1, 'Elevation': 4300, 'SCA': 1.7582608778421012, 'CCA': 1.5030478401207295}\n",
      "{'Month': 1, 'Elevation': 4400, 'SCA': 0.10021430057784347, 'CCA': 1.7813454818369543}\n",
      "{'Month': 1, 'Elevation': 4500, 'SCA': 0.1746350817922999, 'CCA': 2.0933466762152104}\n",
      "{'Month': 1, 'Elevation': 4600, 'SCA': 0.4060470160764244, 'CCA': 2.322251533363294}\n",
      "{'Month': 1, 'Elevation': 4700, 'SCA': 0.5545797742398992, 'CCA': 2.3295857004084755}\n",
      "{'Month': 1, 'Elevation': 4800, 'SCA': 0.9940346468256276, 'CCA': 2.315714586844854}\n",
      "{'Month': 1, 'Elevation': 4900, 'SCA': 1.6896796231053404, 'CCA': 3.0152000611987084}\n",
      "{'Month': 1, 'Elevation': 5000, 'SCA': 2.417533645317386, 'CCA': 3.411333863780608}\n",
      "{'Month': 1, 'Elevation': 5100, 'SCA': 3.447770043259623, 'CCA': 3.5661926610302457}\n",
      "{'Month': 1, 'Elevation': 5200, 'SCA': 4.739107787977063, 'CCA': 4.017335674304656}\n",
      "{'Month': 1, 'Elevation': 5300, 'SCA': 6.844677442350839, 'CCA': 4.549097622855899}\n",
      "{'Month': 1, 'Elevation': 5400, 'SCA': 9.24573431953184, 'CCA': 4.5257041664097635}\n",
      "{'Month': 1, 'Elevation': 5500, 'SCA': 12.73444637859568, 'CCA': 4.45280367160644}\n",
      "{'Month': 1, 'Elevation': 5600, 'SCA': 18.626462979904726, 'CCA': 4.782141225206229}\n",
      "{'Month': 1, 'Elevation': 5700, 'SCA': 22.695321529511187, 'CCA': 4.504677543541954}\n",
      "{'Month': 1, 'Elevation': 5800, 'SCA': 23.97807547373925, 'CCA': 4.057423605435211}\n",
      "{'Month': 1, 'Elevation': 5900, 'SCA': 27.59149710281633, 'CCA': 4.6622129815592634}\n",
      "{'Month': 1, 'Elevation': 6000, 'SCA': 29.437805983680867, 'CCA': 4.776152812079907}\n",
      "{'Month': 1, 'Elevation': 6100, 'SCA': 31.506299858346367, 'CCA': 4.973632821975455}\n",
      "{'Month': 1, 'Elevation': 6200, 'SCA': 31, 'CCA': 4.441972562106042}\n",
      "{'Month': 2, 'Elevation': 3400, 'SCA': 0.4836238041051634, 'CCA': 1.850604066473693}\n",
      "{'Month': 2, 'Elevation': 3500, 'SCA': 2.9012587618952317, 'CCA': 1.9731411219835293}\n",
      "{'Month': 2, 'Elevation': 3600, 'SCA': 0.21477686684977726, 'CCA': 1.8304720775142678}\n",
      "{'Month': 2, 'Elevation': 3700, 'SCA': 0.1673486128721208, 'CCA': 1.9378620301277314}\n",
      "{'Month': 2, 'Elevation': 3800, 'SCA': 0.15655187040148785, 'CCA': 1.8979367917862549}\n",
      "{'Month': 2, 'Elevation': 3900, 'SCA': 0.15692644403509093, 'CCA': 1.8701321283009191}\n",
      "{'Month': 2, 'Elevation': 4000, 'SCA': 0.14662618042558184, 'CCA': 2.0074942485908056}\n",
      "{'Month': 2, 'Elevation': 4100, 'SCA': 0.07779622981771181, 'CCA': 2.0120131951541245}\n",
      "{'Month': 2, 'Elevation': 4200, 'SCA': 0.15830902614939016, 'CCA': 2.0669647285736086}\n",
      "{'Month': 2, 'Elevation': 4300, 'SCA': 1.7780455257548677, 'CCA': 2.6871518014122393}\n",
      "{'Month': 2, 'Elevation': 4400, 'SCA': 0.18016906063462265, 'CCA': 2.852506075434103}\n",
      "{'Month': 2, 'Elevation': 4500, 'SCA': 0.28419317668721145, 'CCA': 3.1193591206989537}\n",
      "{'Month': 2, 'Elevation': 4600, 'SCA': 0.6969384472734506, 'CCA': 3.4614333088916576}\n",
      "{'Month': 2, 'Elevation': 4700, 'SCA': 1.5016794383171945, 'CCA': 3.4407197741301987}\n",
      "{'Month': 2, 'Elevation': 4800, 'SCA': 2.1516988416033866, 'CCA': 3.841365880389395}\n",
      "{'Month': 2, 'Elevation': 4900, 'SCA': 3.250766709185092, 'CCA': 4.774239100518833}\n",
      "{'Month': 2, 'Elevation': 5000, 'SCA': 4.4930758912045174, 'CCA': 5.04725958931449}\n",
      "{'Month': 2, 'Elevation': 5100, 'SCA': 7.070775379345177, 'CCA': 5.047443175629218}\n",
      "{'Month': 2, 'Elevation': 5200, 'SCA': 9.508033574711591, 'CCA': 5.292118754254229}\n",
      "{'Month': 2, 'Elevation': 5300, 'SCA': 13.206000540284998, 'CCA': 5.436348671016608}\n",
      "{'Month': 2, 'Elevation': 5400, 'SCA': 16.959191583447605, 'CCA': 5.254875986731278}\n",
      "{'Month': 2, 'Elevation': 5500, 'SCA': 22.909313419055774, 'CCA': 5.211415698547268}\n",
      "{'Month': 2, 'Elevation': 5600, 'SCA': 34.44076311555569, 'CCA': 5.55157775716431}\n",
      "{'Month': 2, 'Elevation': 5700, 'SCA': 42.913190431328374, 'CCA': 5.491948813721471}\n",
      "{'Month': 2, 'Elevation': 5800, 'SCA': 46.600562537186946, 'CCA': 5.142780680860434}\n",
      "{'Month': 2, 'Elevation': 5900, 'SCA': 60.46920900148227, 'CCA': 5.492004480508992}\n",
      "{'Month': 2, 'Elevation': 6000, 'SCA': 64.26400725294653, 'CCA': 5.52308342701255}\n",
      "{'Month': 2, 'Elevation': 6100, 'SCA': 67.35115186759113, 'CCA': 5.476398766457099}\n",
      "{'Month': 2, 'Elevation': 6200, 'SCA': 67.66666666666667, 'CCA': 5.4280215641842515}\n",
      "{'Month': 3, 'Elevation': 3400, 'SCA': 0.2778905707072572, 'CCA': 0.0031945914952950035}\n",
      "{'Month': 3, 'Elevation': 3500, 'SCA': 3.0650029594981234, 'CCA': 0.07180808747866821}\n",
      "{'Month': 3, 'Elevation': 3600, 'SCA': 0.12862224469445482, 'CCA': 0.08061584645123093}\n",
      "{'Month': 3, 'Elevation': 3700, 'SCA': 0.09802212595004149, 'CCA': 0.07481008311037497}\n",
      "{'Month': 3, 'Elevation': 3800, 'SCA': 0.11381959965414296, 'CCA': 0.05282894741277731}\n",
      "{'Month': 3, 'Elevation': 3900, 'SCA': 0.1516168451002207, 'CCA': 0.09548697596660767}\n",
      "{'Month': 3, 'Elevation': 4000, 'SCA': 0.281357958155232, 'CCA': 0.1969243194692208}\n",
      "{'Month': 3, 'Elevation': 4100, 'SCA': 0.19782645396887896, 'CCA': 0.3869662777895033}\n",
      "{'Month': 3, 'Elevation': 4200, 'SCA': 0.2870803931717659, 'CCA': 0.44787301436390203}\n",
      "{'Month': 3, 'Elevation': 4300, 'SCA': 1.8276913061894333, 'CCA': 0.5026368061321018}\n",
      "{'Month': 3, 'Elevation': 4400, 'SCA': 0.19012612409369445, 'CCA': 0.47225700673467763}\n",
      "{'Month': 3, 'Elevation': 4500, 'SCA': 0.2589063593588667, 'CCA': 0.4683728192774877}\n",
      "{'Month': 3, 'Elevation': 4600, 'SCA': 0.5488836545647678, 'CCA': 0.6458842554018671}\n",
      "{'Month': 3, 'Elevation': 4700, 'SCA': 1.176603920096897, 'CCA': 0.7429946519428272}\n",
      "{'Month': 3, 'Elevation': 4800, 'SCA': 1.5552565444896735, 'CCA': 0.7636957025692769}\n",
      "{'Month': 3, 'Elevation': 4900, 'SCA': 2.1056456380107953, 'CCA': 0.9183618970464367}\n",
      "{'Month': 3, 'Elevation': 5000, 'SCA': 2.764475480680561, 'CCA': 1.0744130040836823}\n",
      "{'Month': 3, 'Elevation': 5100, 'SCA': 3.9923889413469773, 'CCA': 1.2179850389297033}\n",
      "{'Month': 3, 'Elevation': 5200, 'SCA': 6.0000785679678375, 'CCA': 1.3816528749503938}\n",
      "{'Month': 3, 'Elevation': 5300, 'SCA': 9.383720537583576, 'CCA': 1.552998124819442}\n",
      "{'Month': 3, 'Elevation': 5400, 'SCA': 14.1102925415557, 'CCA': 1.634182925173649}\n",
      "{'Month': 3, 'Elevation': 5500, 'SCA': 20.651150713124764, 'CCA': 1.9265708353280524}\n",
      "{'Month': 3, 'Elevation': 5600, 'SCA': 30.82318054197293, 'CCA': 2.3496781760137835}\n",
      "{'Month': 3, 'Elevation': 5700, 'SCA': 37.39054593486855, 'CCA': 2.066354560245706}\n",
      "{'Month': 3, 'Elevation': 5800, 'SCA': 43.196888015433714, 'CCA': 1.8302199651779387}\n",
      "{'Month': 3, 'Elevation': 5900, 'SCA': 61.253604635493865, 'CCA': 1.6832016095239353}\n",
      "{'Month': 3, 'Elevation': 6000, 'SCA': 65.70870353581142, 'CCA': 1.8166827485980086}\n",
      "{'Month': 3, 'Elevation': 6100, 'SCA': 69.26541415045105, 'CCA': 1.8001641853632095}\n",
      "{'Month': 3, 'Elevation': 6200, 'SCA': 67.66666666666667, 'CCA': 1.8324313339608114}\n",
      "{'Month': 4, 'Elevation': 3400, 'SCA': 0.34173582701113364, 'CCA': 0.9023186394226358}\n",
      "{'Month': 4, 'Elevation': 3500, 'SCA': 4.1650060122755574, 'CCA': 0.9849281679512526}\n",
      "{'Month': 4, 'Elevation': 3600, 'SCA': 0.8909881790207153, 'CCA': 0.997682411575138}\n",
      "{'Month': 4, 'Elevation': 3700, 'SCA': 1.030850917685971, 'CCA': 1.0156400706295665}\n",
      "{'Month': 4, 'Elevation': 3800, 'SCA': 1.1222754784084052, 'CCA': 1.0421182497143857}\n",
      "{'Month': 4, 'Elevation': 3900, 'SCA': 1.244860201718069, 'CCA': 1.0852849224658214}\n",
      "{'Month': 4, 'Elevation': 4000, 'SCA': 1.2295912178386137, 'CCA': 1.1037432356727368}\n",
      "{'Month': 4, 'Elevation': 4100, 'SCA': 0.6851388893591928, 'CCA': 0.9609108909797731}\n",
      "{'Month': 4, 'Elevation': 4200, 'SCA': 0.6022729642906726, 'CCA': 0.9778930277414448}\n",
      "{'Month': 4, 'Elevation': 4300, 'SCA': 2.047788365061041, 'CCA': 0.8365248787076601}\n",
      "{'Month': 4, 'Elevation': 4400, 'SCA': 0.6836521222113087, 'CCA': 0.872389656823621}\n",
      "{'Month': 4, 'Elevation': 4500, 'SCA': 0.7374579564660132, 'CCA': 0.8871164927598844}\n",
      "{'Month': 4, 'Elevation': 4600, 'SCA': 1.0882939273755248, 'CCA': 0.9673229026084522}\n",
      "{'Month': 4, 'Elevation': 4700, 'SCA': 1.9171197935090682, 'CCA': 1.1127341769331092}\n",
      "{'Month': 4, 'Elevation': 4800, 'SCA': 2.9487878308402244, 'CCA': 1.2447231445286724}\n",
      "{'Month': 4, 'Elevation': 4900, 'SCA': 3.1340268073915367, 'CCA': 1.2778003703231968}\n",
      "{'Month': 4, 'Elevation': 5000, 'SCA': 3.3219249513381826, 'CCA': 1.2911268539648013}\n",
      "{'Month': 4, 'Elevation': 5100, 'SCA': 4.117774215507587, 'CCA': 1.301437645998154}\n",
      "{'Month': 4, 'Elevation': 5200, 'SCA': 4.82687839279037, 'CCA': 1.3654984751050863}\n",
      "{'Month': 4, 'Elevation': 5300, 'SCA': 7.006695406827102, 'CCA': 1.5119660568728834}\n",
      "{'Month': 4, 'Elevation': 5400, 'SCA': 11.915584892253209, 'CCA': 1.803228316600745}\n",
      "{'Month': 4, 'Elevation': 5500, 'SCA': 18.723391261697067, 'CCA': 2.0068613414457825}\n",
      "{'Month': 4, 'Elevation': 5600, 'SCA': 29.090681094040814, 'CCA': 2.50061201166728}\n",
      "{'Month': 4, 'Elevation': 5700, 'SCA': 34.72207923388468, 'CCA': 2.8573516300743322}\n",
      "{'Month': 4, 'Elevation': 5800, 'SCA': 40.9089302778429, 'CCA': 3.0354670359651186}\n",
      "{'Month': 4, 'Elevation': 5900, 'SCA': 56.112316399407085, 'CCA': 3.764242534323622}\n",
      "{'Month': 4, 'Elevation': 6000, 'SCA': 58.751133272892105, 'CCA': 3.836529320983943}\n",
      "{'Month': 4, 'Elevation': 6100, 'SCA': 60.18519346902258, 'CCA': 3.659822649036666}\n",
      "{'Month': 4, 'Elevation': 6200, 'SCA': 57.666666666666664, 'CCA': 3.5138871345767897}\n",
      "{'Month': 5, 'Elevation': 3400, 'SCA': 0.40290080231884434, 'CCA': 1.5631432494062962}\n",
      "{'Month': 5, 'Elevation': 3500, 'SCA': 6.316182094781953, 'CCA': 2.362972852725011}\n",
      "{'Month': 5, 'Elevation': 3600, 'SCA': 1.9649196478252904, 'CCA': 2.5862270280343904}\n",
      "{'Month': 5, 'Elevation': 3700, 'SCA': 2.5404767116192466, 'CCA': 2.8840678302446885}\n",
      "{'Month': 5, 'Elevation': 3800, 'SCA': 3.160732825423757, 'CCA': 2.936521803000644}\n",
      "{'Month': 5, 'Elevation': 3900, 'SCA': 4.13560779879261, 'CCA': 3.100707687322003}\n",
      "{'Month': 5, 'Elevation': 4000, 'SCA': 4.651252612320794, 'CCA': 3.0209202963182786}\n",
      "{'Month': 5, 'Elevation': 4100, 'SCA': 2.601071680289625, 'CCA': 1.962859112064612}\n",
      "{'Month': 5, 'Elevation': 4200, 'SCA': 2.11303835427302, 'CCA': 1.48332149566784}\n",
      "{'Month': 5, 'Elevation': 4300, 'SCA': 3.4514484856097094, 'CCA': 1.1042562251454395}\n",
      "{'Month': 5, 'Elevation': 4400, 'SCA': 2.681698438494467, 'CCA': 1.5480654969037018}\n",
      "{'Month': 5, 'Elevation': 4500, 'SCA': 3.5002242670788846, 'CCA': 1.9022961439935429}\n",
      "{'Month': 5, 'Elevation': 4600, 'SCA': 4.664586835865601, 'CCA': 2.532917757768985}\n",
      "{'Month': 5, 'Elevation': 4700, 'SCA': 6.352584456798815, 'CCA': 3.7832918574762093}\n",
      "{'Month': 5, 'Elevation': 4800, 'SCA': 8.485626351266989, 'CCA': 4.382637301346718}\n",
      "{'Month': 5, 'Elevation': 4900, 'SCA': 8.88725399450048, 'CCA': 4.886266984904789}\n",
      "{'Month': 5, 'Elevation': 5000, 'SCA': 8.578887870171467, 'CCA': 4.757240806644286}\n",
      "{'Month': 5, 'Elevation': 5100, 'SCA': 9.103984716396935, 'CCA': 5.1564667083180105}\n",
      "{'Month': 5, 'Elevation': 5200, 'SCA': 9.83705585455032, 'CCA': 5.402317476630779}\n",
      "{'Month': 5, 'Elevation': 5300, 'SCA': 11.384769215761315, 'CCA': 5.802239308429982}\n",
      "{'Month': 5, 'Elevation': 5400, 'SCA': 15.624787486750039, 'CCA': 6.813045970269256}\n",
      "{'Month': 5, 'Elevation': 5500, 'SCA': 21.443387607112975, 'CCA': 8.36329647108541}\n",
      "{'Month': 5, 'Elevation': 5600, 'SCA': 30.88010662796933, 'CCA': 10.785676456650199}\n",
      "{'Month': 5, 'Elevation': 5700, 'SCA': 36.38845776556173, 'CCA': 13.062967646961724}\n",
      "{'Month': 5, 'Elevation': 5800, 'SCA': 42.07163334114636, 'CCA': 14.757865063879246}\n",
      "{'Month': 5, 'Elevation': 5900, 'SCA': 56.39132192426896, 'CCA': 17.749127503110696}\n",
      "{'Month': 5, 'Elevation': 6000, 'SCA': 56.20825022665457, 'CCA': 18.314898411867745}\n",
      "{'Month': 5, 'Elevation': 6100, 'SCA': 55.65257585924102, 'CCA': 18.556720007673015}\n",
      "{'Month': 5, 'Elevation': 6200, 'SCA': 52.666666666666664, 'CCA': 18.236454560147546}\n",
      "{'Month': 6, 'Elevation': 3400, 'SCA': 2.1735810961546798, 'CCA': 1.7082896811990664}\n",
      "{'Month': 6, 'Elevation': 3500, 'SCA': 10.419003030729595, 'CCA': 2.3342315113275798}\n",
      "{'Month': 6, 'Elevation': 3600, 'SCA': 6.550071283363766, 'CCA': 2.67343130516037}\n",
      "{'Month': 6, 'Elevation': 3700, 'SCA': 7.691016911608599, 'CCA': 3.182222428999132}\n",
      "{'Month': 6, 'Elevation': 3800, 'SCA': 8.674579180057751, 'CCA': 3.4800808799142673}\n",
      "{'Month': 6, 'Elevation': 3900, 'SCA': 9.820492804902516, 'CCA': 3.7749713860560266}\n",
      "{'Month': 6, 'Elevation': 4000, 'SCA': 10.14803806607668, 'CCA': 3.9593589748015208}\n",
      "{'Month': 6, 'Elevation': 4100, 'SCA': 5.670596419057275, 'CCA': 3.096297162266123}\n",
      "{'Month': 6, 'Elevation': 4200, 'SCA': 4.57787458708711, 'CCA': 2.602949357211263}\n",
      "{'Month': 6, 'Elevation': 4300, 'SCA': 5.743888111436645, 'CCA': 2.282953961444915}\n",
      "{'Month': 6, 'Elevation': 4400, 'SCA': 6.194127668853362, 'CCA': 2.8788901143847103}\n",
      "{'Month': 6, 'Elevation': 4500, 'SCA': 7.258422478894791, 'CCA': 3.362205349921231}\n",
      "{'Month': 6, 'Elevation': 4600, 'SCA': 8.991547411376006, 'CCA': 3.7937962654903843}\n",
      "{'Month': 6, 'Elevation': 4700, 'SCA': 12.004027288003655, 'CCA': 4.957378391903077}\n",
      "{'Month': 6, 'Elevation': 4800, 'SCA': 15.910273090363837, 'CCA': 4.665059800646586}\n",
      "{'Month': 6, 'Elevation': 4900, 'SCA': 16.623126607430883, 'CCA': 4.8083220262583835}\n",
      "{'Month': 6, 'Elevation': 5000, 'SCA': 15.836799478817685, 'CCA': 4.6872083379350356}\n",
      "{'Month': 6, 'Elevation': 5100, 'SCA': 16.272783328575507, 'CCA': 4.947541318700461}\n",
      "{'Month': 6, 'Elevation': 5200, 'SCA': 15.61561494711939, 'CCA': 5.031399286832994}\n",
      "{'Month': 6, 'Elevation': 5300, 'SCA': 16.558692210140848, 'CCA': 5.225052916610092}\n",
      "{'Month': 6, 'Elevation': 5400, 'SCA': 20.890435655832768, 'CCA': 5.978022194312115}\n",
      "{'Month': 6, 'Elevation': 5500, 'SCA': 26.401778243683804, 'CCA': 6.935527269807974}\n",
      "{'Month': 6, 'Elevation': 5600, 'SCA': 36.09345720685194, 'CCA': 8.416654818088253}\n",
      "{'Month': 6, 'Elevation': 5700, 'SCA': 41.722749390545935, 'CCA': 10.326299200019116}\n",
      "{'Month': 6, 'Elevation': 5800, 'SCA': 47.398139300073915, 'CCA': 11.346724833417111}\n",
      "{'Month': 6, 'Elevation': 5900, 'SCA': 61.06953240803126, 'CCA': 13.483852278378754}\n",
      "{'Month': 6, 'Elevation': 6000, 'SCA': 60.79800543970987, 'CCA': 14.165935015139375}\n",
      "{'Month': 6, 'Elevation': 6100, 'SCA': 60.61015432789085, 'CCA': 14.379970640540026}\n",
      "{'Month': 6, 'Elevation': 6200, 'SCA': 58.333333333333336, 'CCA': 14.581491305629237}\n",
      "{'Month': 7, 'Elevation': 3400, 'SCA': 1.872900112186612, 'CCA': 1.2613573425487643}\n",
      "{'Month': 7, 'Elevation': 3500, 'SCA': 12.779380014822934, 'CCA': 2.0531910559703372}\n",
      "{'Month': 7, 'Elevation': 3600, 'SCA': 8.925419665883336, 'CCA': 2.185371754315278}\n",
      "{'Month': 7, 'Elevation': 3700, 'SCA': 10.742556269599792, 'CCA': 2.542130351609947}\n",
      "{'Month': 7, 'Elevation': 3800, 'SCA': 11.890774426154627, 'CCA': 2.8316537765222494}\n",
      "{'Month': 7, 'Elevation': 3900, 'SCA': 13.172708603111493, 'CCA': 3.2632022117938884}\n",
      "{'Month': 7, 'Elevation': 4000, 'SCA': 12.822243098017212, 'CCA': 3.4343488753665508}\n",
      "{'Month': 7, 'Elevation': 4100, 'SCA': 6.722776374659507, 'CCA': 2.490576636079053}\n",
      "{'Month': 7, 'Elevation': 4200, 'SCA': 5.322972320200951, 'CCA': 2.1685030790979227}\n",
      "{'Month': 7, 'Elevation': 4300, 'SCA': 6.075323858923011, 'CCA': 1.839580632083536}\n",
      "{'Month': 7, 'Elevation': 4400, 'SCA': 6.625664525756943, 'CCA': 2.597866994281007}\n",
      "{'Month': 7, 'Elevation': 4500, 'SCA': 8.42035936275545, 'CCA': 3.016092825518906}\n",
      "{'Month': 7, 'Elevation': 4600, 'SCA': 9.541620825451645, 'CCA': 3.336768721942736}\n",
      "{'Month': 7, 'Elevation': 4700, 'SCA': 11.563533683290052, 'CCA': 4.476961331595765}\n",
      "{'Month': 7, 'Elevation': 4800, 'SCA': 15.623887619087647, 'CCA': 4.693284150375491}\n",
      "{'Month': 7, 'Elevation': 4900, 'SCA': 16.178959228230177, 'CCA': 5.078582183247106}\n",
      "{'Month': 7, 'Elevation': 5000, 'SCA': 15.76169508976729, 'CCA': 4.901862957036446}\n",
      "{'Month': 7, 'Elevation': 5100, 'SCA': 15.830859702672436, 'CCA': 5.267586607682437}\n",
      "{'Month': 7, 'Elevation': 5200, 'SCA': 14.786337321385174, 'CCA': 5.285130714728077}\n",
      "{'Month': 7, 'Elevation': 5300, 'SCA': 15.38228728154101, 'CCA': 5.524935984933399}\n",
      "{'Month': 7, 'Elevation': 5400, 'SCA': 18.962092627882324, 'CCA': 6.36875783302852}\n",
      "{'Month': 7, 'Elevation': 5500, 'SCA': 23.720934034757025, 'CCA': 7.283272204685605}\n",
      "{'Month': 7, 'Elevation': 5600, 'SCA': 32.65352219312911, 'CCA': 8.749122891943738}\n",
      "{'Month': 7, 'Elevation': 5700, 'SCA': 37.08616854925653, 'CCA': 10.469707940755232}\n",
      "{'Month': 7, 'Elevation': 5800, 'SCA': 41.587202278996806, 'CCA': 11.454001674821413}\n",
      "{'Month': 7, 'Elevation': 5900, 'SCA': 56.21479584961594, 'CCA': 14.28208418752923}\n",
      "{'Month': 7, 'Elevation': 6000, 'SCA': 55.37996373526745, 'CCA': 14.735301401678297}\n",
      "{'Month': 7, 'Elevation': 6100, 'SCA': 53.690076791172714, 'CCA': 14.723210899414369}\n",
      "{'Month': 7, 'Elevation': 6200, 'SCA': 51.333333333333336, 'CCA': 14.253802990977627}\n",
      "{'Month': 8, 'Elevation': 3400, 'SCA': 1.0265235471512788, 'CCA': 0.6057196099670094}\n",
      "{'Month': 8, 'Elevation': 3500, 'SCA': 8.43485712153616, 'CCA': 1.5398031228614983}\n",
      "{'Month': 8, 'Elevation': 3600, 'SCA': 4.05582139308934, 'CCA': 1.5411176574827563}\n",
      "{'Month': 8, 'Elevation': 3700, 'SCA': 5.1325019833953505, 'CCA': 1.6307377447022644}\n",
      "{'Month': 8, 'Elevation': 3800, 'SCA': 5.882050345041356, 'CCA': 1.7200484567219914}\n",
      "{'Month': 8, 'Elevation': 3900, 'SCA': 7.092724653012093, 'CCA': 1.9021701105462208}\n",
      "{'Month': 8, 'Elevation': 4000, 'SCA': 7.752346726768274, 'CCA': 1.8314214123651231}\n",
      "{'Month': 8, 'Elevation': 4100, 'SCA': 4.126786153971929, 'CCA': 1.1229093354453732}\n",
      "{'Month': 8, 'Elevation': 4200, 'SCA': 3.1207896960999526, 'CCA': 1.0475161413438367}\n",
      "{'Month': 8, 'Elevation': 4300, 'SCA': 4.182887626618209, 'CCA': 0.791693506536399}\n",
      "{'Month': 8, 'Elevation': 4400, 'SCA': 3.358706149619763, 'CCA': 1.0758882058405284}\n",
      "{'Month': 8, 'Elevation': 4500, 'SCA': 4.3893727167295635, 'CCA': 1.3406437243485942}\n",
      "{'Month': 8, 'Elevation': 4600, 'SCA': 5.618329109628021, 'CCA': 1.5517232608681018}\n",
      "{'Month': 8, 'Elevation': 4700, 'SCA': 7.365550761331946, 'CCA': 2.1458092143648257}\n",
      "{'Month': 8, 'Elevation': 4800, 'SCA': 10.572386808791004, 'CCA': 2.4220332668885205}\n",
      "{'Month': 8, 'Elevation': 4900, 'SCA': 11.178078086641891, 'CCA': 2.773819289643132}\n",
      "{'Month': 8, 'Elevation': 5000, 'SCA': 10.792451878870224, 'CCA': 2.709763136018411}\n",
      "{'Month': 8, 'Elevation': 5100, 'SCA': 10.359029403368542, 'CCA': 3.078313400979005}\n",
      "{'Month': 8, 'Elevation': 5200, 'SCA': 10.521902275997629, 'CCA': 3.0952198811950815}\n",
      "{'Month': 8, 'Elevation': 5300, 'SCA': 10.995703983851483, 'CCA': 3.3537120643721443}\n",
      "{'Month': 8, 'Elevation': 5400, 'SCA': 14.33419268455252, 'CCA': 3.9742112200568234}\n",
      "{'Month': 8, 'Elevation': 5500, 'SCA': 19.058660883447615, 'CCA': 4.766675401244068}\n",
      "{'Month': 8, 'Elevation': 5600, 'SCA': 26.910817375942457, 'CCA': 5.929592355989406}\n",
      "{'Month': 8, 'Elevation': 5700, 'SCA': 30.779440759122398, 'CCA': 6.9185449715767025}\n",
      "{'Month': 8, 'Elevation': 5800, 'SCA': 35.02740565782594, 'CCA': 7.735300701158695}\n",
      "{'Month': 8, 'Elevation': 5900, 'SCA': 49.25542379733189, 'CCA': 9.630870962938264}\n",
      "{'Month': 8, 'Elevation': 6000, 'SCA': 48.57960108794197, 'CCA': 10.194020702630873}\n",
      "{'Month': 8, 'Elevation': 6100, 'SCA': 46.33035115186758, 'CCA': 10.31654877362803}\n",
      "{'Month': 8, 'Elevation': 6200, 'SCA': 41.666666666666664, 'CCA': 10.22713067429419}\n",
      "{'Month': 9, 'Elevation': 3400, 'SCA': 0.6921223813092934, 'CCA': 0.3282374519553636}\n",
      "{'Month': 9, 'Elevation': 3500, 'SCA': 5.8461179694959675, 'CCA': 0.4712136948297634}\n",
      "{'Month': 9, 'Elevation': 3600, 'SCA': 1.9792552862628476, 'CCA': 0.4030234759427886}\n",
      "{'Month': 9, 'Elevation': 3700, 'SCA': 3.1537215201188924, 'CCA': 0.4685133751022622}\n",
      "{'Month': 9, 'Elevation': 3800, 'SCA': 4.118150643587778, 'CCA': 0.5253938830169562}\n",
      "{'Month': 9, 'Elevation': 3900, 'SCA': 5.1383355523536824, 'CCA': 0.6469778891894791}\n",
      "{'Month': 9, 'Elevation': 4000, 'SCA': 5.26859005853039, 'CCA': 0.6353799685628341}\n",
      "{'Month': 9, 'Elevation': 4100, 'SCA': 2.8139412767188436, 'CCA': 0.44393481002023916}\n",
      "{'Month': 9, 'Elevation': 4200, 'SCA': 2.1941490011714784, 'CCA': 0.27557707673694587}\n",
      "{'Month': 9, 'Elevation': 4300, 'SCA': 3.8201488307764335, 'CCA': 0.192240811468883}\n",
      "{'Month': 9, 'Elevation': 4400, 'SCA': 2.534366597745182, 'CCA': 0.25683594444103075}\n",
      "{'Month': 9, 'Elevation': 4500, 'SCA': 2.6854509268883318, 'CCA': 0.28134872027579055}\n",
      "{'Month': 9, 'Elevation': 4600, 'SCA': 3.676577725852414, 'CCA': 0.451119664469859}\n",
      "{'Month': 9, 'Elevation': 4700, 'SCA': 5.711375415391821, 'CCA': 0.7874058713684385}\n",
      "{'Month': 9, 'Elevation': 4800, 'SCA': 8.890225510931902, 'CCA': 0.9697873908660665}\n",
      "{'Month': 9, 'Elevation': 4900, 'SCA': 9.452831374247374, 'CCA': 1.2544651615674394}\n",
      "{'Month': 9, 'Elevation': 5000, 'SCA': 9.086529798811414, 'CCA': 1.2276708239231064}\n",
      "{'Month': 9, 'Elevation': 5100, 'SCA': 8.901021981159005, 'CCA': 1.391693832648758}\n",
      "{'Month': 9, 'Elevation': 5200, 'SCA': 9.508052489222365, 'CCA': 1.4487507880657962}\n",
      "{'Month': 9, 'Elevation': 5300, 'SCA': 10.199569647989314, 'CCA': 1.5914457031256368}\n",
      "{'Month': 9, 'Elevation': 5400, 'SCA': 13.437018266596588, 'CCA': 1.858316723946058}\n",
      "{'Month': 9, 'Elevation': 5500, 'SCA': 18.132142067148173, 'CCA': 2.263372665988152}\n",
      "{'Month': 9, 'Elevation': 5600, 'SCA': 25.697790151108862, 'CCA': 3.1130731178240634}\n",
      "{'Month': 9, 'Elevation': 5700, 'SCA': 28.84633987626384, 'CCA': 4.054582109453373}\n",
      "{'Month': 9, 'Elevation': 5800, 'SCA': 33.171790202477325, 'CCA': 4.623977203163324}\n",
      "{'Month': 9, 'Elevation': 5900, 'SCA': 50.135628621479576, 'CCA': 5.169078740511161}\n",
      "{'Month': 9, 'Elevation': 6000, 'SCA': 49.65104261106074, 'CCA': 5.375278677200709}\n",
      "{'Month': 9, 'Elevation': 6100, 'SCA': 45.99194811004249, 'CCA': 5.806371927731802}\n",
      "{'Month': 9, 'Elevation': 6200, 'SCA': 42, 'CCA': 6.301587301587303}\n",
      "{'Month': 10, 'Elevation': 3400, 'SCA': 0.24555867809183257, 'CCA': 0.1695670944951518}\n",
      "{'Month': 10, 'Elevation': 3500, 'SCA': 3.2708220620833166, 'CCA': 0.07802295149460918}\n",
      "{'Month': 10, 'Elevation': 3600, 'SCA': 0.051199145946336386, 'CCA': 0.12269034798689182}\n",
      "{'Month': 10, 'Elevation': 3700, 'SCA': 0.04257316214676009, 'CCA': 0.11796292408431584}\n",
      "{'Month': 10, 'Elevation': 3800, 'SCA': 0.1291286686134721, 'CCA': 0.12408040523020564}\n",
      "{'Month': 10, 'Elevation': 3900, 'SCA': 0.41336518995422133, 'CCA': 0.12778263726016686}\n",
      "{'Month': 10, 'Elevation': 4000, 'SCA': 0.6776175966704094, 'CCA': 0.20306854754299505}\n",
      "{'Month': 10, 'Elevation': 4100, 'SCA': 0.40893813481964436, 'CCA': 0.28316174519046056}\n",
      "{'Month': 10, 'Elevation': 4200, 'SCA': 0.3984918562669669, 'CCA': 0.22095554319324517}\n",
      "{'Month': 10, 'Elevation': 4300, 'SCA': 2.6108915920729814, 'CCA': 0.43902840918303754}\n",
      "{'Month': 10, 'Elevation': 4400, 'SCA': 0.5278854854021277, 'CCA': 0.4481953370401865}\n",
      "{'Month': 10, 'Elevation': 4500, 'SCA': 0.749619678230958, 'CCA': 0.4079026797671214}\n",
      "{'Month': 10, 'Elevation': 4600, 'SCA': 1.2847235224003553, 'CCA': 0.45515250608957597}\n",
      "{'Month': 10, 'Elevation': 4700, 'SCA': 2.2404548140773928, 'CCA': 0.556273663818009}\n",
      "{'Month': 10, 'Elevation': 4800, 'SCA': 3.79493314280134, 'CCA': 0.6246821608025365}\n",
      "{'Month': 10, 'Elevation': 4900, 'SCA': 3.961421175528917, 'CCA': 0.6325775855092116}\n",
      "{'Month': 10, 'Elevation': 5000, 'SCA': 3.7653266478343994, 'CCA': 0.6962930095847366}\n",
      "{'Month': 10, 'Elevation': 5100, 'SCA': 3.8187197786512677, 'CCA': 0.7408628214092081}\n",
      "{'Month': 10, 'Elevation': 5200, 'SCA': 4.380984805827998, 'CCA': 0.8374177690214407}\n",
      "{'Month': 10, 'Elevation': 5300, 'SCA': 5.0980204557904285, 'CCA': 0.9366764674865324}\n",
      "{'Month': 10, 'Elevation': 5400, 'SCA': 7.1279131565888685, 'CCA': 1.2523927535692425}\n",
      "{'Month': 10, 'Elevation': 5500, 'SCA': 10.23905307802537, 'CCA': 1.8337680362907802}\n",
      "{'Month': 10, 'Elevation': 5600, 'SCA': 15.447174989747307, 'CCA': 2.799345098088742}\n",
      "{'Month': 10, 'Elevation': 5700, 'SCA': 17.370246986723128, 'CCA': 3.456202992689608}\n",
      "{'Month': 10, 'Elevation': 5800, 'SCA': 21.376340984079476, 'CCA': 3.8168984186481874}\n",
      "{'Month': 10, 'Elevation': 5900, 'SCA': 36.12619593046759, 'CCA': 4.550369597134879}\n",
      "{'Month': 10, 'Elevation': 6000, 'SCA': 35.84605621033544, 'CCA': 4.675229432924868}\n",
      "{'Month': 10, 'Elevation': 6100, 'SCA': 31.56214120629241, 'CCA': 4.662154914707202}\n",
      "{'Month': 10, 'Elevation': 6200, 'SCA': 25.666666666666668, 'CCA': 4.972043010752688}\n",
      "{'Month': 11, 'Elevation': 3400, 'SCA': 0.16043166968666395, 'CCA': 0}\n",
      "{'Month': 11, 'Elevation': 3500, 'SCA': 2.1879001470421127, 'CCA': 0.0011532714750172564}\n",
      "{'Month': 11, 'Elevation': 3600, 'SCA': 0.008585222643440553, 'CCA': 0}\n",
      "{'Month': 11, 'Elevation': 3700, 'SCA': 0, 'CCA': 0}\n",
      "{'Month': 11, 'Elevation': 3800, 'SCA': 0, 'CCA': 0}\n",
      "{'Month': 11, 'Elevation': 3900, 'SCA': 0, 'CCA': 0}\n",
      "{'Month': 11, 'Elevation': 4000, 'SCA': 0, 'CCA': 0.0018287491823082817}\n",
      "{'Month': 11, 'Elevation': 4100, 'SCA': 0.0006167700502268504, 'CCA': 0.023013440104694683}\n",
      "{'Month': 11, 'Elevation': 4200, 'SCA': 0.05759187091845646, 'CCA': 0.0734384870961346}\n",
      "{'Month': 11, 'Elevation': 4300, 'SCA': 2.148490596529462, 'CCA': 0.13485835971663368}\n",
      "{'Month': 11, 'Elevation': 4400, 'SCA': 0.014861781835007712, 'CCA': 0.10742972196422518}\n",
      "{'Month': 11, 'Elevation': 4500, 'SCA': 0.0102971417899878, 'CCA': 0.13145710419959664}\n",
      "{'Month': 11, 'Elevation': 4600, 'SCA': 0.05003566916636986, 'CCA': 0.20348389903307207}\n",
      "{'Month': 11, 'Elevation': 4700, 'SCA': 0.1495666364085688, 'CCA': 0.14609382907089555}\n",
      "{'Month': 11, 'Elevation': 4800, 'SCA': 0.3715818894065611, 'CCA': 0.15389603727240758}\n",
      "{'Month': 11, 'Elevation': 4900, 'SCA': 0.5495404095012488, 'CCA': 0.25282193286922156}\n",
      "{'Month': 11, 'Elevation': 5000, 'SCA': 0.6426504403114888, 'CCA': 0.34021856574906717}\n",
      "{'Month': 11, 'Elevation': 5100, 'SCA': 0.8680981137047364, 'CCA': 0.3112936164606172}\n",
      "{'Month': 11, 'Elevation': 5200, 'SCA': 1.3091678633732138, 'CCA': 0.39137731102585227}\n",
      "{'Month': 11, 'Elevation': 5300, 'SCA': 2.001191253386161, 'CCA': 0.4429746691379715}\n",
      "{'Month': 11, 'Elevation': 5400, 'SCA': 3.0447723942719045, 'CCA': 0.35204859347304107}\n",
      "{'Month': 11, 'Elevation': 5500, 'SCA': 4.535218649919697, 'CCA': 0.3606189711384029}\n",
      "{'Month': 11, 'Elevation': 5600, 'SCA': 7.9110776365185025, 'CCA': 0.37851246621870305}\n",
      "{'Month': 11, 'Elevation': 5700, 'SCA': 9.431415778790026, 'CCA': 0.2306193607288198}\n",
      "{'Month': 11, 'Elevation': 5800, 'SCA': 12.370066530840377, 'CCA': 0.03666107735487327}\n",
      "{'Month': 11, 'Elevation': 5900, 'SCA': 20.26337420832772, 'CCA': 0.013744778331761215}\n",
      "{'Month': 11, 'Elevation': 6000, 'SCA': 20.388123300090662, 'CCA': 0.023233605318827434}\n",
      "{'Month': 11, 'Elevation': 6100, 'SCA': 17.213673302020425, 'CCA': 0.06723825144760057}\n",
      "{'Month': 11, 'Elevation': 6200, 'SCA': 12.666666666666666, 'CCA': 0.2222222222222222}\n",
      "{'Month': 12, 'Elevation': 3400, 'SCA': 0.25778043844261234, 'CCA': 0.47312380200835547}\n",
      "{'Month': 12, 'Elevation': 3500, 'SCA': 1.4278221655385521, 'CCA': 0.5216596473757772}\n",
      "{'Month': 12, 'Elevation': 3600, 'SCA': 0.030750706559232524, 'CCA': 0.49509160246453665}\n",
      "{'Month': 12, 'Elevation': 3700, 'SCA': 0.02614729643659281, 'CCA': 0.4716483078161164}\n",
      "{'Month': 12, 'Elevation': 3800, 'SCA': 0.018304321581806615, 'CCA': 0.4315379282362546}\n",
      "{'Month': 12, 'Elevation': 3900, 'SCA': 0.017859162122234585, 'CCA': 0.3787928097857368}\n",
      "{'Month': 12, 'Elevation': 4000, 'SCA': 0.010593296617290361, 'CCA': 0.4389526896015098}\n",
      "{'Month': 12, 'Elevation': 4100, 'SCA': 0.0035155892862930474, 'CCA': 0.4963739605230329}\n",
      "{'Month': 12, 'Elevation': 4200, 'SCA': 0.03432671286471173, 'CCA': 0.6929615999368285}\n",
      "{'Month': 12, 'Elevation': 4300, 'SCA': 1.8646437412174512, 'CCA': 1.2039108193328087}\n",
      "{'Month': 12, 'Elevation': 4400, 'SCA': 0.01030624995948972, 'CCA': 1.1492986953694977}\n",
      "{'Month': 12, 'Elevation': 4500, 'SCA': 0.011590896366873318, 'CCA': 1.2933358250453133}\n",
      "{'Month': 12, 'Elevation': 4600, 'SCA': 0.018244917132437036, 'CCA': 1.4622923961163585}\n",
      "{'Month': 12, 'Elevation': 4700, 'SCA': 0.03199631786806384, 'CCA': 1.4023461601784377}\n",
      "{'Month': 12, 'Elevation': 4800, 'SCA': 0.09809379415374996, 'CCA': 1.37270547630716}\n",
      "{'Month': 12, 'Elevation': 4900, 'SCA': 0.1842581614349993, 'CCA': 1.5291389490749252}\n",
      "{'Month': 12, 'Elevation': 5000, 'SCA': 0.3659050169105616, 'CCA': 1.7467522339710244}\n",
      "{'Month': 12, 'Elevation': 5100, 'SCA': 0.5253422341289883, 'CCA': 1.796956860968776}\n",
      "{'Month': 12, 'Elevation': 5200, 'SCA': 0.9690063916496798, 'CCA': 1.9519829055505764}\n",
      "{'Month': 12, 'Elevation': 5300, 'SCA': 1.502436910470273, 'CCA': 2.1874984822013084}\n",
      "{'Month': 12, 'Elevation': 5400, 'SCA': 1.8976735855206166, 'CCA': 1.985914958702552}\n",
      "{'Month': 12, 'Elevation': 5500, 'SCA': 2.6751507515940722, 'CCA': 1.680866945684674}\n",
      "{'Month': 12, 'Elevation': 5600, 'SCA': 4.5502697245969905, 'CCA': 1.5472334477098457}\n",
      "{'Month': 12, 'Elevation': 5700, 'SCA': 5.892153339614031, 'CCA': 1.3534026766660556}\n",
      "{'Month': 12, 'Elevation': 5800, 'SCA': 7.088870057515822, 'CCA': 0.8691832495050209}\n",
      "{'Month': 12, 'Elevation': 5900, 'SCA': 10.695863091227595, 'CCA': 0.5996295574039879}\n",
      "{'Month': 12, 'Elevation': 6000, 'SCA': 11.255757026291931, 'CCA': 0.6544953242093309}\n",
      "{'Month': 12, 'Elevation': 6100, 'SCA': 10.176396033698651, 'CCA': 0.8016040752720512}\n",
      "{'Month': 12, 'Elevation': 6200, 'SCA': 8.333333333333334, 'CCA': 1.053021876158695}\n"
     ]
    }
   ],
   "source": [
    "print_fc_properties(\n",
    "    sca_m_elev_basin_stats,\n",
    "    select_properties=[\"Month\", \"Elevation\", \"SCA\", \"CCA\"])"
   ]
  },
  {
   "cell_type": "markdown",
   "id": "abb79618",
   "metadata": {},
   "source": [
    "#### Code breakdown\n",
    "- There were errors when trying to run ste-by-step \"Too many requests\" error. Running code as chunks to find if there's an error "
   ]
  },
  {
   "cell_type": "code",
   "execution_count": 40,
   "id": "9cbf0cc4",
   "metadata": {},
   "outputs": [],
   "source": [
    "ee_basin_fc = ee_fcollection.filter(ee.filter.Filter.eq(property, basin_code))"
   ]
  },
  {
   "cell_type": "code",
   "execution_count": 52,
   "id": "2fe1ea04",
   "metadata": {},
   "outputs": [
    {
     "name": "stdout",
     "output_type": "stream",
     "text": [
      "Basin ['023'] FC size: 1\n"
     ]
    }
   ],
   "source": [
    "# Get property value of feature collection\n",
    "basin_property_value = ee_basin_fc.aggregate_array(property).getInfo()\n",
    "# Get size of feature collection\n",
    "basin_fc_size = ee_basin_fc.size().getInfo()\n",
    "print(f\"Basin {basin_property_value} FC size: {basin_fc_size}\")"
   ]
  },
  {
   "cell_type": "code",
   "execution_count": 57,
   "id": "16197068",
   "metadata": {},
   "outputs": [],
   "source": [
    "hist_dict = (\n",
    "    ee_dem_img.select(\"elevation\")\n",
    "    .reduceRegion(\n",
    "        reducer=ee.reducer.Reducer.frequencyHistogram(),\n",
    "        geometry=ee_basin_fc.geometry(),\n",
    "        scale=500,\n",
    "        maxPixels=1e10,\n",
    "    )\n",
    "    .getInfo()\n",
    ")"
   ]
  },
  {
   "cell_type": "code",
   "execution_count": null,
   "id": "174a6bc1",
   "metadata": {},
   "outputs": [],
   "source": [
    "hist_dict"
   ]
  },
  {
   "cell_type": "code",
   "execution_count": 41,
   "id": "9994aa53",
   "metadata": {},
   "outputs": [
    {
     "data": {
      "text/plain": [
       "<module 'observatorio_ipa.services.gee.processes.stats.common' from 'C:\\\\Users\\\\erick\\\\Documents\\\\Projects\\\\teleamb\\\\observatorio_ipa\\\\src\\\\observatorio_ipa\\\\services\\\\gee\\\\processes\\\\stats\\\\common.py'>"
      ]
     },
     "execution_count": 41,
     "metadata": {},
     "output_type": "execute_result"
    }
   ],
   "source": [
    "from observatorio_ipa.services.gee.processes.stats.cuencas.month import sca_m_bna\n",
    "from observatorio_ipa.services.gee.processes.stats import common \n",
    "reload(sca_m_bna)\n",
    "reload(common)"
   ]
  },
  {
   "cell_type": "code",
   "execution_count": 42,
   "id": "0da15df8",
   "metadata": {},
   "outputs": [],
   "source": [
    "# ---------------------------------------------------------------------------------------------------------------------\n",
    "# Month Reduction - Calculate Statistics for each month across years for the basin\n",
    "# ---------------------------------------------------------------------------------------------------------------------\n",
    "ee_months_list = ee.ee_list.List.sequence(1, 12)\n",
    "\n",
    "# Calculate monthly NDSI (Normalized Difference Snow Index) for the basin\n",
    "ee_TACbyMonth_ic = ee.imagecollection.ImageCollection.fromImages(\n",
    "    ee_months_list.map(\n",
    "        lambda ee_month: sca_m_bna._ee_calc_month_pixel_stats(\n",
    "            ee_month, ee_icollection, ee_basin_fc\n",
    "        )\n",
    "    ).flatten()  # Flatten is added but might not be necessary\n",
    ")"
   ]
  },
  {
   "cell_type": "code",
   "execution_count": 43,
   "id": "b1271111",
   "metadata": {},
   "outputs": [
    {
     "name": "stdout",
     "output_type": "stream",
     "text": [
      "Number of images in ee_TACbyMonth_ic: 12\n"
     ]
    }
   ],
   "source": [
    "num_images_month_reduction = ee_TACbyMonth_ic.size().getInfo()\n",
    "print(f\"Number of images in ee_TACbyMonth_ic: {num_images_month_reduction}\")"
   ]
  },
  {
   "cell_type": "code",
   "execution_count": 44,
   "id": "61d54c1e",
   "metadata": {},
   "outputs": [
    {
     "name": "stdout",
     "output_type": "stream",
     "text": [
      "Bands after month reduction: ['Snow_mean', 'Cloud_mean', 'Snow_TAC_p0', 'Snow_TAC_p25', 'Snow_TAC_p50', 'Snow_TAC_p75', 'Snow_TAC_p100', 'Cloud_TAC_p0', 'Cloud_TAC_p25', 'Cloud_TAC_p50', 'Cloud_TAC_p75', 'Cloud_TAC_p100']\n"
     ]
    }
   ],
   "source": [
    "# list of bands after month reduction\n",
    "band_names_month_reduction = ee_TACbyMonth_ic.first().bandNames().getInfo()\n",
    "print(\"Bands after month reduction:\", band_names_month_reduction)"
   ]
  },
  {
   "cell_type": "code",
   "execution_count": 45,
   "id": "47a3c8e9",
   "metadata": {},
   "outputs": [
    {
     "name": "stdout",
     "output_type": "stream",
     "text": [
      "Months after month reduction: [1, 2, 3, 4, 5, 6, 7, 8, 9, 10, 11, 12]\n"
     ]
    }
   ],
   "source": [
    "# list of months after month reduction\n",
    "months_list = ee_TACbyMonth_ic.aggregate_array(\"month\").getInfo()\n",
    "print(\"Months after month reduction:\", months_list)\n"
   ]
  },
  {
   "cell_type": "code",
   "execution_count": null,
   "id": "eeec6f8a",
   "metadata": {},
   "outputs": [],
   "source": [
    "# ---------------------------------------------------------------------------------------------------------------------\n",
    "# 4. SCI and CCI correction\n",
    "#! No correction was done in sca_m_bna. Correction here is done after the Month Reduction\n",
    "# ---------------------------------------------------------------------------------------------------------------------\n",
    "ee_TACbyMonth_ic = (\n",
    "    ee_TACbyMonth_ic.map(\n",
    "        lambda ee_img: common._ee_correct_CCI_band(ee_img, \"Cloud_mean\", \"CCA\")\n",
    "    )\n",
    "    .map(\n",
    "        lambda ee_img: common._ee_correct_SCI_band(\n",
    "            ee_img, \"Snow_mean\", \"Cloud_mean\", \"SCA\"\n",
    "        )\n",
    "    )\n",
    "    .select([\"SCA\", \"CCA\"])\n",
    ")"
   ]
  },
  {
   "cell_type": "code",
   "execution_count": 47,
   "id": "21d646db",
   "metadata": {},
   "outputs": [
    {
     "name": "stdout",
     "output_type": "stream",
     "text": [
      "Bands after month reduction: ['SCA', 'CCA']\n",
      "Months after month reduction: [1, 2, 3, 4, 5, 6, 7, 8, 9, 10, 11, 12]\n"
     ]
    }
   ],
   "source": [
    "# list of bands after SCI and CCI correction\n",
    "band_names_month_reduction = ee_TACbyMonth_ic.first().bandNames().getInfo()\n",
    "print(\"Bands after month reduction:\", band_names_month_reduction)\n",
    "# list of months after month reduction\n",
    "months_list = ee_TACbyMonth_ic.aggregate_array(\"month\").getInfo()\n",
    "print(\"Months after month reduction:\", months_list)"
   ]
  },
  {
   "cell_type": "code",
   "execution_count": 48,
   "id": "5ea26ae9",
   "metadata": {},
   "outputs": [],
   "source": [
    "# ---------------------------------------------------------------------------------------------------------------------\n",
    "# 5. Calculate SCA by elevation\n",
    "# ---------------------------------------------------------------------------------------------------------------------\n",
    "\n",
    "ee_SCAbyMonth_elev_fc = ee_TACbyMonth_ic.map(\n",
    "    lambda ee_image: sca_m_elev_bna._ee_calc_m_mean_per_region_elev(\n",
    "        ee_image,\n",
    "        ee_dem_img,\n",
    "        ee_basin_fc,\n",
    "        input_band_name=\"SCA\",\n",
    "        output_band_name=\"SCA\",\n",
    "    )\n",
    ").flatten()"
   ]
  },
  {
   "cell_type": "code",
   "execution_count": 49,
   "id": "0555ec61",
   "metadata": {},
   "outputs": [
    {
     "name": "stdout",
     "output_type": "stream",
     "text": [
      "Number of features in ee_SCAbyMonth_elev_fc: 348\n"
     ]
    }
   ],
   "source": [
    "# Get size of the FeatureCollection\n",
    "num_features_sca_by_month_elev = ee_SCAbyMonth_elev_fc.size().getInfo()\n",
    "print(f\"Number of features in ee_SCAbyMonth_elev_fc: {num_features_sca_by_month_elev}\")"
   ]
  },
  {
   "cell_type": "code",
   "execution_count": 50,
   "id": "eb797009",
   "metadata": {},
   "outputs": [
    {
     "name": "stdout",
     "output_type": "stream",
     "text": [
      "{'type': 'Feature', 'geometry': None, 'id': '0_0', 'properties': {'Elevation': 3400, 'Month': 1, 'MonthElev': '1_3400.0', 'SCA': 0.3738109262377041, 'imageId': '0'}}\n"
     ]
    }
   ],
   "source": [
    "# Get first feature and download\n",
    "first_feature_sca_by_month_elev = ee_SCAbyMonth_elev_fc.first().getInfo()\n",
    "print(first_feature_sca_by_month_elev)"
   ]
  },
  {
   "cell_type": "code",
   "execution_count": 54,
   "id": "55810d0f",
   "metadata": {},
   "outputs": [],
   "source": [
    "all_sca_by_month_elev = ee_SCAbyMonth_elev_fc.getInfo()"
   ]
  },
  {
   "cell_type": "code",
   "execution_count": 56,
   "id": "d1d8dba3",
   "metadata": {},
   "outputs": [
    {
     "name": "stdout",
     "output_type": "stream",
     "text": [
      "{'Month': 1, 'Elevation': 3400, 'SCA': 0.3738109262377041}\n",
      "{'Month': 1, 'Elevation': 3500, 'SCA': 1.8585733014261558}\n",
      "{'Month': 1, 'Elevation': 3600, 'SCA': 0.11481916552248042}\n",
      "{'Month': 1, 'Elevation': 3700, 'SCA': 0.1386141932888606}\n",
      "{'Month': 1, 'Elevation': 3800, 'SCA': 0.1324391079498181}\n",
      "{'Month': 1, 'Elevation': 3900, 'SCA': 0.13406554925313247}\n",
      "{'Month': 1, 'Elevation': 4000, 'SCA': 0.12455168891766692}\n",
      "{'Month': 1, 'Elevation': 4100, 'SCA': 0.04532534257343554}\n",
      "{'Month': 1, 'Elevation': 4200, 'SCA': 0.12210180418060101}\n",
      "{'Month': 1, 'Elevation': 4300, 'SCA': 1.7582608778421012}\n",
      "{'Month': 1, 'Elevation': 4400, 'SCA': 0.10021430057784347}\n",
      "{'Month': 1, 'Elevation': 4500, 'SCA': 0.1746350817922999}\n",
      "{'Month': 1, 'Elevation': 4600, 'SCA': 0.4060470160764244}\n",
      "{'Month': 1, 'Elevation': 4700, 'SCA': 0.5545797742398992}\n",
      "{'Month': 1, 'Elevation': 4800, 'SCA': 0.9940346468256276}\n",
      "{'Month': 1, 'Elevation': 4900, 'SCA': 1.6896796231053404}\n",
      "{'Month': 1, 'Elevation': 5000, 'SCA': 2.417533645317386}\n",
      "{'Month': 1, 'Elevation': 5100, 'SCA': 3.447770043259623}\n",
      "{'Month': 1, 'Elevation': 5200, 'SCA': 4.739107787977063}\n",
      "{'Month': 1, 'Elevation': 5300, 'SCA': 6.844677442350839}\n",
      "{'Month': 1, 'Elevation': 5400, 'SCA': 9.24573431953184}\n",
      "{'Month': 1, 'Elevation': 5500, 'SCA': 12.73444637859568}\n",
      "{'Month': 1, 'Elevation': 5600, 'SCA': 18.626462979904726}\n",
      "{'Month': 1, 'Elevation': 5700, 'SCA': 22.695321529511187}\n",
      "{'Month': 1, 'Elevation': 5800, 'SCA': 23.97807547373925}\n",
      "{'Month': 1, 'Elevation': 5900, 'SCA': 27.59149710281633}\n",
      "{'Month': 1, 'Elevation': 6000, 'SCA': 29.437805983680867}\n",
      "{'Month': 1, 'Elevation': 6100, 'SCA': 31.506299858346367}\n",
      "{'Month': 1, 'Elevation': 6200, 'SCA': 31}\n",
      "{'Month': 2, 'Elevation': 3400, 'SCA': 0.4836238041051634}\n",
      "{'Month': 2, 'Elevation': 3500, 'SCA': 2.9012587618952317}\n",
      "{'Month': 2, 'Elevation': 3600, 'SCA': 0.21477686684977726}\n",
      "{'Month': 2, 'Elevation': 3700, 'SCA': 0.1673486128721208}\n",
      "{'Month': 2, 'Elevation': 3800, 'SCA': 0.15655187040148785}\n",
      "{'Month': 2, 'Elevation': 3900, 'SCA': 0.15692644403509093}\n",
      "{'Month': 2, 'Elevation': 4000, 'SCA': 0.14662618042558184}\n",
      "{'Month': 2, 'Elevation': 4100, 'SCA': 0.07779622981771181}\n",
      "{'Month': 2, 'Elevation': 4200, 'SCA': 0.15830902614939016}\n",
      "{'Month': 2, 'Elevation': 4300, 'SCA': 1.7780455257548677}\n",
      "{'Month': 2, 'Elevation': 4400, 'SCA': 0.18016906063462265}\n",
      "{'Month': 2, 'Elevation': 4500, 'SCA': 0.28419317668721145}\n",
      "{'Month': 2, 'Elevation': 4600, 'SCA': 0.6969384472734506}\n",
      "{'Month': 2, 'Elevation': 4700, 'SCA': 1.5016794383171945}\n",
      "{'Month': 2, 'Elevation': 4800, 'SCA': 2.1516988416033866}\n",
      "{'Month': 2, 'Elevation': 4900, 'SCA': 3.250766709185092}\n",
      "{'Month': 2, 'Elevation': 5000, 'SCA': 4.4930758912045174}\n",
      "{'Month': 2, 'Elevation': 5100, 'SCA': 7.070775379345177}\n",
      "{'Month': 2, 'Elevation': 5200, 'SCA': 9.508033574711591}\n",
      "{'Month': 2, 'Elevation': 5300, 'SCA': 13.206000540284998}\n",
      "{'Month': 2, 'Elevation': 5400, 'SCA': 16.959191583447605}\n",
      "{'Month': 2, 'Elevation': 5500, 'SCA': 22.909313419055774}\n",
      "{'Month': 2, 'Elevation': 5600, 'SCA': 34.44076311555569}\n",
      "{'Month': 2, 'Elevation': 5700, 'SCA': 42.913190431328374}\n",
      "{'Month': 2, 'Elevation': 5800, 'SCA': 46.600562537186946}\n",
      "{'Month': 2, 'Elevation': 5900, 'SCA': 60.46920900148227}\n",
      "{'Month': 2, 'Elevation': 6000, 'SCA': 64.26400725294653}\n",
      "{'Month': 2, 'Elevation': 6100, 'SCA': 67.35115186759113}\n",
      "{'Month': 2, 'Elevation': 6200, 'SCA': 67.66666666666667}\n",
      "{'Month': 3, 'Elevation': 3400, 'SCA': 0.2778905707072572}\n",
      "{'Month': 3, 'Elevation': 3500, 'SCA': 3.0650029594981234}\n",
      "{'Month': 3, 'Elevation': 3600, 'SCA': 0.12862224469445482}\n",
      "{'Month': 3, 'Elevation': 3700, 'SCA': 0.09802212595004149}\n",
      "{'Month': 3, 'Elevation': 3800, 'SCA': 0.11381959965414296}\n",
      "{'Month': 3, 'Elevation': 3900, 'SCA': 0.1516168451002207}\n",
      "{'Month': 3, 'Elevation': 4000, 'SCA': 0.281357958155232}\n",
      "{'Month': 3, 'Elevation': 4100, 'SCA': 0.19782645396887896}\n",
      "{'Month': 3, 'Elevation': 4200, 'SCA': 0.2870803931717659}\n",
      "{'Month': 3, 'Elevation': 4300, 'SCA': 1.8276913061894333}\n",
      "{'Month': 3, 'Elevation': 4400, 'SCA': 0.19012612409369445}\n",
      "{'Month': 3, 'Elevation': 4500, 'SCA': 0.2589063593588667}\n",
      "{'Month': 3, 'Elevation': 4600, 'SCA': 0.5488836545647678}\n",
      "{'Month': 3, 'Elevation': 4700, 'SCA': 1.176603920096897}\n",
      "{'Month': 3, 'Elevation': 4800, 'SCA': 1.5552565444896735}\n",
      "{'Month': 3, 'Elevation': 4900, 'SCA': 2.1056456380107953}\n",
      "{'Month': 3, 'Elevation': 5000, 'SCA': 2.764475480680561}\n",
      "{'Month': 3, 'Elevation': 5100, 'SCA': 3.9923889413469773}\n",
      "{'Month': 3, 'Elevation': 5200, 'SCA': 6.0000785679678375}\n",
      "{'Month': 3, 'Elevation': 5300, 'SCA': 9.383720537583576}\n",
      "{'Month': 3, 'Elevation': 5400, 'SCA': 14.1102925415557}\n",
      "{'Month': 3, 'Elevation': 5500, 'SCA': 20.651150713124764}\n",
      "{'Month': 3, 'Elevation': 5600, 'SCA': 30.82318054197293}\n",
      "{'Month': 3, 'Elevation': 5700, 'SCA': 37.39054593486855}\n",
      "{'Month': 3, 'Elevation': 5800, 'SCA': 43.196888015433714}\n",
      "{'Month': 3, 'Elevation': 5900, 'SCA': 61.253604635493865}\n",
      "{'Month': 3, 'Elevation': 6000, 'SCA': 65.70870353581142}\n",
      "{'Month': 3, 'Elevation': 6100, 'SCA': 69.26541415045105}\n",
      "{'Month': 3, 'Elevation': 6200, 'SCA': 67.66666666666667}\n",
      "{'Month': 4, 'Elevation': 3400, 'SCA': 0.34173582701113364}\n",
      "{'Month': 4, 'Elevation': 3500, 'SCA': 4.1650060122755574}\n",
      "{'Month': 4, 'Elevation': 3600, 'SCA': 0.8909881790207153}\n",
      "{'Month': 4, 'Elevation': 3700, 'SCA': 1.030850917685971}\n",
      "{'Month': 4, 'Elevation': 3800, 'SCA': 1.1222754784084052}\n",
      "{'Month': 4, 'Elevation': 3900, 'SCA': 1.244860201718069}\n",
      "{'Month': 4, 'Elevation': 4000, 'SCA': 1.2295912178386137}\n",
      "{'Month': 4, 'Elevation': 4100, 'SCA': 0.6851388893591928}\n",
      "{'Month': 4, 'Elevation': 4200, 'SCA': 0.6022729642906726}\n",
      "{'Month': 4, 'Elevation': 4300, 'SCA': 2.047788365061041}\n",
      "{'Month': 4, 'Elevation': 4400, 'SCA': 0.6836521222113087}\n",
      "{'Month': 4, 'Elevation': 4500, 'SCA': 0.7374579564660132}\n",
      "{'Month': 4, 'Elevation': 4600, 'SCA': 1.0882939273755248}\n",
      "{'Month': 4, 'Elevation': 4700, 'SCA': 1.9171197935090682}\n",
      "{'Month': 4, 'Elevation': 4800, 'SCA': 2.9487878308402244}\n",
      "{'Month': 4, 'Elevation': 4900, 'SCA': 3.1340268073915367}\n",
      "{'Month': 4, 'Elevation': 5000, 'SCA': 3.3219249513381826}\n",
      "{'Month': 4, 'Elevation': 5100, 'SCA': 4.117774215507587}\n",
      "{'Month': 4, 'Elevation': 5200, 'SCA': 4.82687839279037}\n",
      "{'Month': 4, 'Elevation': 5300, 'SCA': 7.006695406827102}\n",
      "{'Month': 4, 'Elevation': 5400, 'SCA': 11.915584892253209}\n",
      "{'Month': 4, 'Elevation': 5500, 'SCA': 18.723391261697067}\n",
      "{'Month': 4, 'Elevation': 5600, 'SCA': 29.090681094040814}\n",
      "{'Month': 4, 'Elevation': 5700, 'SCA': 34.72207923388468}\n",
      "{'Month': 4, 'Elevation': 5800, 'SCA': 40.9089302778429}\n",
      "{'Month': 4, 'Elevation': 5900, 'SCA': 56.112316399407085}\n",
      "{'Month': 4, 'Elevation': 6000, 'SCA': 58.751133272892105}\n",
      "{'Month': 4, 'Elevation': 6100, 'SCA': 60.18519346902258}\n",
      "{'Month': 4, 'Elevation': 6200, 'SCA': 57.666666666666664}\n",
      "{'Month': 5, 'Elevation': 3400, 'SCA': 0.40290080231884434}\n",
      "{'Month': 5, 'Elevation': 3500, 'SCA': 6.316182094781953}\n",
      "{'Month': 5, 'Elevation': 3600, 'SCA': 1.9649196478252904}\n",
      "{'Month': 5, 'Elevation': 3700, 'SCA': 2.5404767116192466}\n",
      "{'Month': 5, 'Elevation': 3800, 'SCA': 3.160732825423757}\n",
      "{'Month': 5, 'Elevation': 3900, 'SCA': 4.13560779879261}\n",
      "{'Month': 5, 'Elevation': 4000, 'SCA': 4.651252612320794}\n",
      "{'Month': 5, 'Elevation': 4100, 'SCA': 2.601071680289625}\n",
      "{'Month': 5, 'Elevation': 4200, 'SCA': 2.11303835427302}\n",
      "{'Month': 5, 'Elevation': 4300, 'SCA': 3.4514484856097094}\n",
      "{'Month': 5, 'Elevation': 4400, 'SCA': 2.681698438494467}\n",
      "{'Month': 5, 'Elevation': 4500, 'SCA': 3.5002242670788846}\n",
      "{'Month': 5, 'Elevation': 4600, 'SCA': 4.664586835865601}\n",
      "{'Month': 5, 'Elevation': 4700, 'SCA': 6.352584456798815}\n",
      "{'Month': 5, 'Elevation': 4800, 'SCA': 8.485626351266989}\n",
      "{'Month': 5, 'Elevation': 4900, 'SCA': 8.88725399450048}\n",
      "{'Month': 5, 'Elevation': 5000, 'SCA': 8.578887870171467}\n",
      "{'Month': 5, 'Elevation': 5100, 'SCA': 9.103984716396935}\n",
      "{'Month': 5, 'Elevation': 5200, 'SCA': 9.83705585455032}\n",
      "{'Month': 5, 'Elevation': 5300, 'SCA': 11.384769215761315}\n",
      "{'Month': 5, 'Elevation': 5400, 'SCA': 15.624787486750039}\n",
      "{'Month': 5, 'Elevation': 5500, 'SCA': 21.443387607112975}\n",
      "{'Month': 5, 'Elevation': 5600, 'SCA': 30.88010662796933}\n",
      "{'Month': 5, 'Elevation': 5700, 'SCA': 36.38845776556173}\n",
      "{'Month': 5, 'Elevation': 5800, 'SCA': 42.07163334114636}\n",
      "{'Month': 5, 'Elevation': 5900, 'SCA': 56.39132192426896}\n",
      "{'Month': 5, 'Elevation': 6000, 'SCA': 56.20825022665457}\n",
      "{'Month': 5, 'Elevation': 6100, 'SCA': 55.65257585924102}\n",
      "{'Month': 5, 'Elevation': 6200, 'SCA': 52.666666666666664}\n",
      "{'Month': 6, 'Elevation': 3400, 'SCA': 2.1735810961546798}\n",
      "{'Month': 6, 'Elevation': 3500, 'SCA': 10.419003030729595}\n",
      "{'Month': 6, 'Elevation': 3600, 'SCA': 6.550071283363766}\n",
      "{'Month': 6, 'Elevation': 3700, 'SCA': 7.691016911608599}\n",
      "{'Month': 6, 'Elevation': 3800, 'SCA': 8.674579180057751}\n",
      "{'Month': 6, 'Elevation': 3900, 'SCA': 9.820492804902516}\n",
      "{'Month': 6, 'Elevation': 4000, 'SCA': 10.14803806607668}\n",
      "{'Month': 6, 'Elevation': 4100, 'SCA': 5.670596419057275}\n",
      "{'Month': 6, 'Elevation': 4200, 'SCA': 4.57787458708711}\n",
      "{'Month': 6, 'Elevation': 4300, 'SCA': 5.743888111436645}\n",
      "{'Month': 6, 'Elevation': 4400, 'SCA': 6.194127668853362}\n",
      "{'Month': 6, 'Elevation': 4500, 'SCA': 7.258422478894791}\n",
      "{'Month': 6, 'Elevation': 4600, 'SCA': 8.991547411376006}\n",
      "{'Month': 6, 'Elevation': 4700, 'SCA': 12.004027288003655}\n",
      "{'Month': 6, 'Elevation': 4800, 'SCA': 15.910273090363837}\n",
      "{'Month': 6, 'Elevation': 4900, 'SCA': 16.623126607430883}\n",
      "{'Month': 6, 'Elevation': 5000, 'SCA': 15.836799478817685}\n",
      "{'Month': 6, 'Elevation': 5100, 'SCA': 16.272783328575507}\n",
      "{'Month': 6, 'Elevation': 5200, 'SCA': 15.61561494711939}\n",
      "{'Month': 6, 'Elevation': 5300, 'SCA': 16.558692210140848}\n",
      "{'Month': 6, 'Elevation': 5400, 'SCA': 20.890435655832768}\n",
      "{'Month': 6, 'Elevation': 5500, 'SCA': 26.401778243683804}\n",
      "{'Month': 6, 'Elevation': 5600, 'SCA': 36.09345720685194}\n",
      "{'Month': 6, 'Elevation': 5700, 'SCA': 41.722749390545935}\n",
      "{'Month': 6, 'Elevation': 5800, 'SCA': 47.398139300073915}\n",
      "{'Month': 6, 'Elevation': 5900, 'SCA': 61.06953240803126}\n",
      "{'Month': 6, 'Elevation': 6000, 'SCA': 60.79800543970987}\n",
      "{'Month': 6, 'Elevation': 6100, 'SCA': 60.61015432789085}\n",
      "{'Month': 6, 'Elevation': 6200, 'SCA': 58.333333333333336}\n",
      "{'Month': 7, 'Elevation': 3400, 'SCA': 1.872900112186612}\n",
      "{'Month': 7, 'Elevation': 3500, 'SCA': 12.779380014822934}\n",
      "{'Month': 7, 'Elevation': 3600, 'SCA': 8.925419665883336}\n",
      "{'Month': 7, 'Elevation': 3700, 'SCA': 10.742556269599792}\n",
      "{'Month': 7, 'Elevation': 3800, 'SCA': 11.890774426154627}\n",
      "{'Month': 7, 'Elevation': 3900, 'SCA': 13.172708603111493}\n",
      "{'Month': 7, 'Elevation': 4000, 'SCA': 12.822243098017212}\n",
      "{'Month': 7, 'Elevation': 4100, 'SCA': 6.722776374659507}\n",
      "{'Month': 7, 'Elevation': 4200, 'SCA': 5.322972320200951}\n",
      "{'Month': 7, 'Elevation': 4300, 'SCA': 6.075323858923011}\n",
      "{'Month': 7, 'Elevation': 4400, 'SCA': 6.625664525756943}\n",
      "{'Month': 7, 'Elevation': 4500, 'SCA': 8.42035936275545}\n",
      "{'Month': 7, 'Elevation': 4600, 'SCA': 9.541620825451645}\n",
      "{'Month': 7, 'Elevation': 4700, 'SCA': 11.563533683290052}\n",
      "{'Month': 7, 'Elevation': 4800, 'SCA': 15.623887619087647}\n",
      "{'Month': 7, 'Elevation': 4900, 'SCA': 16.178959228230177}\n",
      "{'Month': 7, 'Elevation': 5000, 'SCA': 15.76169508976729}\n",
      "{'Month': 7, 'Elevation': 5100, 'SCA': 15.830859702672436}\n",
      "{'Month': 7, 'Elevation': 5200, 'SCA': 14.786337321385174}\n",
      "{'Month': 7, 'Elevation': 5300, 'SCA': 15.38228728154101}\n",
      "{'Month': 7, 'Elevation': 5400, 'SCA': 18.962092627882324}\n",
      "{'Month': 7, 'Elevation': 5500, 'SCA': 23.720934034757025}\n",
      "{'Month': 7, 'Elevation': 5600, 'SCA': 32.65352219312911}\n",
      "{'Month': 7, 'Elevation': 5700, 'SCA': 37.08616854925653}\n",
      "{'Month': 7, 'Elevation': 5800, 'SCA': 41.587202278996806}\n",
      "{'Month': 7, 'Elevation': 5900, 'SCA': 56.21479584961594}\n",
      "{'Month': 7, 'Elevation': 6000, 'SCA': 55.37996373526745}\n",
      "{'Month': 7, 'Elevation': 6100, 'SCA': 53.690076791172714}\n",
      "{'Month': 7, 'Elevation': 6200, 'SCA': 51.333333333333336}\n",
      "{'Month': 8, 'Elevation': 3400, 'SCA': 1.0265235471512788}\n",
      "{'Month': 8, 'Elevation': 3500, 'SCA': 8.43485712153616}\n",
      "{'Month': 8, 'Elevation': 3600, 'SCA': 4.05582139308934}\n",
      "{'Month': 8, 'Elevation': 3700, 'SCA': 5.1325019833953505}\n",
      "{'Month': 8, 'Elevation': 3800, 'SCA': 5.882050345041356}\n",
      "{'Month': 8, 'Elevation': 3900, 'SCA': 7.092724653012093}\n",
      "{'Month': 8, 'Elevation': 4000, 'SCA': 7.752346726768274}\n",
      "{'Month': 8, 'Elevation': 4100, 'SCA': 4.126786153971929}\n",
      "{'Month': 8, 'Elevation': 4200, 'SCA': 3.1207896960999526}\n",
      "{'Month': 8, 'Elevation': 4300, 'SCA': 4.182887626618209}\n",
      "{'Month': 8, 'Elevation': 4400, 'SCA': 3.358706149619763}\n",
      "{'Month': 8, 'Elevation': 4500, 'SCA': 4.3893727167295635}\n",
      "{'Month': 8, 'Elevation': 4600, 'SCA': 5.618329109628021}\n",
      "{'Month': 8, 'Elevation': 4700, 'SCA': 7.365550761331946}\n",
      "{'Month': 8, 'Elevation': 4800, 'SCA': 10.572386808791004}\n",
      "{'Month': 8, 'Elevation': 4900, 'SCA': 11.178078086641891}\n",
      "{'Month': 8, 'Elevation': 5000, 'SCA': 10.792451878870224}\n",
      "{'Month': 8, 'Elevation': 5100, 'SCA': 10.359029403368542}\n",
      "{'Month': 8, 'Elevation': 5200, 'SCA': 10.521902275997629}\n",
      "{'Month': 8, 'Elevation': 5300, 'SCA': 10.995703983851483}\n",
      "{'Month': 8, 'Elevation': 5400, 'SCA': 14.33419268455252}\n",
      "{'Month': 8, 'Elevation': 5500, 'SCA': 19.058660883447615}\n",
      "{'Month': 8, 'Elevation': 5600, 'SCA': 26.910817375942457}\n",
      "{'Month': 8, 'Elevation': 5700, 'SCA': 30.779440759122398}\n",
      "{'Month': 8, 'Elevation': 5800, 'SCA': 35.02740565782594}\n",
      "{'Month': 8, 'Elevation': 5900, 'SCA': 49.25542379733189}\n",
      "{'Month': 8, 'Elevation': 6000, 'SCA': 48.57960108794197}\n",
      "{'Month': 8, 'Elevation': 6100, 'SCA': 46.33035115186758}\n",
      "{'Month': 8, 'Elevation': 6200, 'SCA': 41.666666666666664}\n",
      "{'Month': 9, 'Elevation': 3400, 'SCA': 0.6921223813092934}\n",
      "{'Month': 9, 'Elevation': 3500, 'SCA': 5.8461179694959675}\n",
      "{'Month': 9, 'Elevation': 3600, 'SCA': 1.9792552862628476}\n",
      "{'Month': 9, 'Elevation': 3700, 'SCA': 3.1537215201188924}\n",
      "{'Month': 9, 'Elevation': 3800, 'SCA': 4.118150643587778}\n",
      "{'Month': 9, 'Elevation': 3900, 'SCA': 5.1383355523536824}\n",
      "{'Month': 9, 'Elevation': 4000, 'SCA': 5.26859005853039}\n",
      "{'Month': 9, 'Elevation': 4100, 'SCA': 2.8139412767188436}\n",
      "{'Month': 9, 'Elevation': 4200, 'SCA': 2.1941490011714784}\n",
      "{'Month': 9, 'Elevation': 4300, 'SCA': 3.8201488307764335}\n",
      "{'Month': 9, 'Elevation': 4400, 'SCA': 2.534366597745182}\n",
      "{'Month': 9, 'Elevation': 4500, 'SCA': 2.6854509268883318}\n",
      "{'Month': 9, 'Elevation': 4600, 'SCA': 3.676577725852414}\n",
      "{'Month': 9, 'Elevation': 4700, 'SCA': 5.711375415391821}\n",
      "{'Month': 9, 'Elevation': 4800, 'SCA': 8.890225510931902}\n",
      "{'Month': 9, 'Elevation': 4900, 'SCA': 9.452831374247374}\n",
      "{'Month': 9, 'Elevation': 5000, 'SCA': 9.086529798811414}\n",
      "{'Month': 9, 'Elevation': 5100, 'SCA': 8.901021981159005}\n",
      "{'Month': 9, 'Elevation': 5200, 'SCA': 9.508052489222365}\n",
      "{'Month': 9, 'Elevation': 5300, 'SCA': 10.199569647989314}\n",
      "{'Month': 9, 'Elevation': 5400, 'SCA': 13.437018266596588}\n",
      "{'Month': 9, 'Elevation': 5500, 'SCA': 18.132142067148173}\n",
      "{'Month': 9, 'Elevation': 5600, 'SCA': 25.697790151108862}\n",
      "{'Month': 9, 'Elevation': 5700, 'SCA': 28.84633987626384}\n",
      "{'Month': 9, 'Elevation': 5800, 'SCA': 33.171790202477325}\n",
      "{'Month': 9, 'Elevation': 5900, 'SCA': 50.135628621479576}\n",
      "{'Month': 9, 'Elevation': 6000, 'SCA': 49.65104261106074}\n",
      "{'Month': 9, 'Elevation': 6100, 'SCA': 45.99194811004249}\n",
      "{'Month': 9, 'Elevation': 6200, 'SCA': 42}\n",
      "{'Month': 10, 'Elevation': 3400, 'SCA': 0.24555867809183257}\n",
      "{'Month': 10, 'Elevation': 3500, 'SCA': 3.2708220620833166}\n",
      "{'Month': 10, 'Elevation': 3600, 'SCA': 0.051199145946336386}\n",
      "{'Month': 10, 'Elevation': 3700, 'SCA': 0.04257316214676009}\n",
      "{'Month': 10, 'Elevation': 3800, 'SCA': 0.1291286686134721}\n",
      "{'Month': 10, 'Elevation': 3900, 'SCA': 0.41336518995422133}\n",
      "{'Month': 10, 'Elevation': 4000, 'SCA': 0.6776175966704094}\n",
      "{'Month': 10, 'Elevation': 4100, 'SCA': 0.40893813481964436}\n",
      "{'Month': 10, 'Elevation': 4200, 'SCA': 0.3984918562669669}\n",
      "{'Month': 10, 'Elevation': 4300, 'SCA': 2.6108915920729814}\n",
      "{'Month': 10, 'Elevation': 4400, 'SCA': 0.5278854854021277}\n",
      "{'Month': 10, 'Elevation': 4500, 'SCA': 0.749619678230958}\n",
      "{'Month': 10, 'Elevation': 4600, 'SCA': 1.2847235224003553}\n",
      "{'Month': 10, 'Elevation': 4700, 'SCA': 2.2404548140773928}\n",
      "{'Month': 10, 'Elevation': 4800, 'SCA': 3.79493314280134}\n",
      "{'Month': 10, 'Elevation': 4900, 'SCA': 3.961421175528917}\n",
      "{'Month': 10, 'Elevation': 5000, 'SCA': 3.7653266478343994}\n",
      "{'Month': 10, 'Elevation': 5100, 'SCA': 3.8187197786512677}\n",
      "{'Month': 10, 'Elevation': 5200, 'SCA': 4.380984805827998}\n",
      "{'Month': 10, 'Elevation': 5300, 'SCA': 5.0980204557904285}\n",
      "{'Month': 10, 'Elevation': 5400, 'SCA': 7.1279131565888685}\n",
      "{'Month': 10, 'Elevation': 5500, 'SCA': 10.23905307802537}\n",
      "{'Month': 10, 'Elevation': 5600, 'SCA': 15.447174989747307}\n",
      "{'Month': 10, 'Elevation': 5700, 'SCA': 17.370246986723128}\n",
      "{'Month': 10, 'Elevation': 5800, 'SCA': 21.376340984079476}\n",
      "{'Month': 10, 'Elevation': 5900, 'SCA': 36.12619593046759}\n",
      "{'Month': 10, 'Elevation': 6000, 'SCA': 35.84605621033544}\n",
      "{'Month': 10, 'Elevation': 6100, 'SCA': 31.56214120629241}\n",
      "{'Month': 10, 'Elevation': 6200, 'SCA': 25.666666666666668}\n",
      "{'Month': 11, 'Elevation': 3400, 'SCA': 0.16043166968666395}\n",
      "{'Month': 11, 'Elevation': 3500, 'SCA': 2.1879001470421127}\n",
      "{'Month': 11, 'Elevation': 3600, 'SCA': 0.008585222643440553}\n",
      "{'Month': 11, 'Elevation': 3700, 'SCA': 0}\n",
      "{'Month': 11, 'Elevation': 3800, 'SCA': 0}\n",
      "{'Month': 11, 'Elevation': 3900, 'SCA': 0}\n",
      "{'Month': 11, 'Elevation': 4000, 'SCA': 0}\n",
      "{'Month': 11, 'Elevation': 4100, 'SCA': 0.0006167700502268504}\n",
      "{'Month': 11, 'Elevation': 4200, 'SCA': 0.05759187091845646}\n",
      "{'Month': 11, 'Elevation': 4300, 'SCA': 2.148490596529462}\n",
      "{'Month': 11, 'Elevation': 4400, 'SCA': 0.014861781835007712}\n",
      "{'Month': 11, 'Elevation': 4500, 'SCA': 0.0102971417899878}\n",
      "{'Month': 11, 'Elevation': 4600, 'SCA': 0.05003566916636986}\n",
      "{'Month': 11, 'Elevation': 4700, 'SCA': 0.1495666364085688}\n",
      "{'Month': 11, 'Elevation': 4800, 'SCA': 0.3715818894065611}\n",
      "{'Month': 11, 'Elevation': 4900, 'SCA': 0.5495404095012488}\n",
      "{'Month': 11, 'Elevation': 5000, 'SCA': 0.6426504403114888}\n",
      "{'Month': 11, 'Elevation': 5100, 'SCA': 0.8680981137047364}\n",
      "{'Month': 11, 'Elevation': 5200, 'SCA': 1.3091678633732138}\n",
      "{'Month': 11, 'Elevation': 5300, 'SCA': 2.001191253386161}\n",
      "{'Month': 11, 'Elevation': 5400, 'SCA': 3.0447723942719045}\n",
      "{'Month': 11, 'Elevation': 5500, 'SCA': 4.535218649919697}\n",
      "{'Month': 11, 'Elevation': 5600, 'SCA': 7.9110776365185025}\n",
      "{'Month': 11, 'Elevation': 5700, 'SCA': 9.431415778790026}\n",
      "{'Month': 11, 'Elevation': 5800, 'SCA': 12.370066530840377}\n",
      "{'Month': 11, 'Elevation': 5900, 'SCA': 20.26337420832772}\n",
      "{'Month': 11, 'Elevation': 6000, 'SCA': 20.388123300090662}\n",
      "{'Month': 11, 'Elevation': 6100, 'SCA': 17.213673302020425}\n",
      "{'Month': 11, 'Elevation': 6200, 'SCA': 12.666666666666666}\n",
      "{'Month': 12, 'Elevation': 3400, 'SCA': 0.25778043844261234}\n",
      "{'Month': 12, 'Elevation': 3500, 'SCA': 1.4278221655385521}\n",
      "{'Month': 12, 'Elevation': 3600, 'SCA': 0.030750706559232524}\n",
      "{'Month': 12, 'Elevation': 3700, 'SCA': 0.02614729643659281}\n",
      "{'Month': 12, 'Elevation': 3800, 'SCA': 0.018304321581806615}\n",
      "{'Month': 12, 'Elevation': 3900, 'SCA': 0.017859162122234585}\n",
      "{'Month': 12, 'Elevation': 4000, 'SCA': 0.010593296617290361}\n",
      "{'Month': 12, 'Elevation': 4100, 'SCA': 0.0035155892862930474}\n",
      "{'Month': 12, 'Elevation': 4200, 'SCA': 0.03432671286471173}\n",
      "{'Month': 12, 'Elevation': 4300, 'SCA': 1.8646437412174512}\n",
      "{'Month': 12, 'Elevation': 4400, 'SCA': 0.01030624995948972}\n",
      "{'Month': 12, 'Elevation': 4500, 'SCA': 0.011590896366873318}\n",
      "{'Month': 12, 'Elevation': 4600, 'SCA': 0.018244917132437036}\n",
      "{'Month': 12, 'Elevation': 4700, 'SCA': 0.03199631786806384}\n",
      "{'Month': 12, 'Elevation': 4800, 'SCA': 0.09809379415374996}\n",
      "{'Month': 12, 'Elevation': 4900, 'SCA': 0.1842581614349993}\n",
      "{'Month': 12, 'Elevation': 5000, 'SCA': 0.3659050169105616}\n",
      "{'Month': 12, 'Elevation': 5100, 'SCA': 0.5253422341289883}\n",
      "{'Month': 12, 'Elevation': 5200, 'SCA': 0.9690063916496798}\n",
      "{'Month': 12, 'Elevation': 5300, 'SCA': 1.502436910470273}\n",
      "{'Month': 12, 'Elevation': 5400, 'SCA': 1.8976735855206166}\n",
      "{'Month': 12, 'Elevation': 5500, 'SCA': 2.6751507515940722}\n",
      "{'Month': 12, 'Elevation': 5600, 'SCA': 4.5502697245969905}\n",
      "{'Month': 12, 'Elevation': 5700, 'SCA': 5.892153339614031}\n",
      "{'Month': 12, 'Elevation': 5800, 'SCA': 7.088870057515822}\n",
      "{'Month': 12, 'Elevation': 5900, 'SCA': 10.695863091227595}\n",
      "{'Month': 12, 'Elevation': 6000, 'SCA': 11.255757026291931}\n",
      "{'Month': 12, 'Elevation': 6100, 'SCA': 10.176396033698651}\n",
      "{'Month': 12, 'Elevation': 6200, 'SCA': 8.333333333333334}\n"
     ]
    }
   ],
   "source": [
    "print_fc_properties(fc=all_sca_by_month_elev, select_properties=[\"Month\", \"Elevation\", \"SCA\"])"
   ]
  },
  {
   "cell_type": "markdown",
   "id": "bece45a7",
   "metadata": {},
   "source": [
    "## 4.3 Month Snow Cover Trend per basin "
   ]
  },
  {
   "cell_type": "code",
   "execution_count": 12,
   "id": "47369ecd",
   "metadata": {},
   "outputs": [
    {
     "data": {
      "text/plain": [
       "<module 'observatorio_ipa.services.gee.processes.stats.basins.month.sca_m_trend_bna' from 'C:\\\\Users\\\\erick\\\\Documents\\\\Projects\\\\teleamb\\\\observatorio_ipa\\\\src\\\\observatorio_ipa\\\\services\\\\gee\\\\processes\\\\stats\\\\basins\\\\month\\\\sca_m_trend_bna.py'>"
      ]
     },
     "execution_count": 12,
     "metadata": {},
     "output_type": "execute_result"
    }
   ],
   "source": [
    "from observatorio_ipa.services.gee.processes.stats.basins.month import sca_m_trend_bna\n",
    "reload(sca_m_trend_bna)"
   ]
  },
  {
   "cell_type": "code",
   "execution_count": 13,
   "id": "bd579c10",
   "metadata": {},
   "outputs": [
    {
     "name": "stdout",
     "output_type": "stream",
     "text": [
      "Processing basin: 010, Table Name: MCD_SCA_m_trend_BNA_010\n",
      "Processing basin: 023, Table Name: MCD_SCA_m_trend_BNA_023\n",
      "Processing basin: 024, Table Name: MCD_SCA_m_trend_BNA_024\n"
     ]
    }
   ],
   "source": [
    "month_trend = sca_m_trend_bna.SCA_M_Trend_BNA(\n",
    "    ee_icollection=ee_monthly_ic,\n",
    "    ee_basins_fc=ee_basins_bna_fc,\n",
    "    basins_cd_property=CUENCA_PROPERTY_NAME,\n",
    "    export_target=\"gee_assets\",  # Options: \"gdrive\" or \"gee_assets\"\n",
    "    table_prefix=SCA_M_TREND_BNA_TBL_PREFIX,\n",
    "    export_path=ASSETS_MONTH_TBL_EXPORT_PATH,\n",
    "    max_exports=3,  # Limit to 1 export task for testing\n",
    "    basin_codes=[\"010\", \"023\", \"024\"],  # Limit to 3 basins for testing\n",
    ")\n",
    "month_trend.calc_stats()"
   ]
  },
  {
   "cell_type": "code",
   "execution_count": 14,
   "id": "3d64b92d",
   "metadata": {},
   "outputs": [],
   "source": [
    "month_basin_stats_item = month_trend.get_stats_item(\"023\")\n",
    "if month_basin_stats_item is not None:\n",
    "    ee_stats_fc = month_basin_stats_item[\"ee_stats_fc\"]\n",
    "    ee_stats_patched_fc = ee_stats_fc.map(remove_geometry)\n",
    "    stats_patched_fc = ee_stats_patched_fc.getInfo()"
   ]
  },
  {
   "cell_type": "code",
   "execution_count": 15,
   "id": "ce6efab3",
   "metadata": {},
   "outputs": [
    {
     "name": "stdout",
     "output_type": "stream",
     "text": [
      "{'Month': 1, 'SCA': '0.00'}\n",
      "{'Month': 2, 'SCA': '0.02'}\n",
      "{'Month': 3, 'SCA': '0.02'}\n",
      "{'Month': 4, 'SCA': '0.01'}\n",
      "{'Month': 5, 'SCA': '-0.22'}\n",
      "{'Month': 6, 'SCA': '0.02'}\n",
      "{'Month': 7, 'SCA': '0.00'}\n",
      "{'Month': 8, 'SCA': '0.01'}\n",
      "{'Month': 9, 'SCA': '0.00'}\n",
      "{'Month': 10, 'SCA': '-0.00'}\n",
      "{'Month': 11, 'SCA': '-0.00'}\n",
      "{'Month': 12, 'SCA': '0.00'}\n"
     ]
    }
   ],
   "source": [
    "print_fc_properties(\n",
    "    stats_patched_fc, select_properties=month_trend.bands_of_interest\n",
    ")"
   ]
  },
  {
   "cell_type": "markdown",
   "id": "cf466be3",
   "metadata": {},
   "source": [
    "### Manual step-by-step Run"
   ]
  },
  {
   "cell_type": "code",
   "execution_count": 16,
   "id": "2268558b",
   "metadata": {},
   "outputs": [],
   "source": [
    "ee_icollection=ee_monthly_ic\n",
    "ee_basins_fc=ee_basins_bna_fc\n",
    "basins_cd_property=CUENCA_PROPERTY_NAME\n",
    "basin_code=\"023\"\n"
   ]
  },
  {
   "cell_type": "code",
   "execution_count": 17,
   "id": "b1272854",
   "metadata": {},
   "outputs": [],
   "source": [
    "from observatorio_ipa.services.gee.processes.stats.basins.month import sca_m_bna\n",
    "from observatorio_ipa.services.gee.processes.stats import trend, common\n",
    "from observatorio_ipa.core.defaults import DEFAULT_SCALE"
   ]
  },
  {
   "cell_type": "code",
   "execution_count": 18,
   "id": "438fc80e",
   "metadata": {},
   "outputs": [],
   "source": [
    "ee_basin_fc = ee_basins_fc.filter(ee.filter.Filter.eq(basins_cd_property, basin_code))"
   ]
  },
  {
   "cell_type": "code",
   "execution_count": 19,
   "id": "da389d0e",
   "metadata": {},
   "outputs": [],
   "source": [
    "# ----------------------------------------------------------------------------------------------------------------------\n",
    "# SCI and CCI Correction\n",
    "#! INCONSISTENCY: Most Corrections are applied as first steps before temporal or region reduction\n",
    "#! INCONSISTENCY: Original JS applied round() in the correction while most other scripts didn't\n",
    "#! INCONSISTENCY: Sometimes the correction is renamed to SCI/CCI while other times it's SCA/CCI\n",
    "# ----------------------------------------------------------------------------------------------------------------------\n",
    "ee_TACbyYearMonth_ic = (\n",
    "    ee_icollection.map(\n",
    "        lambda ee_image: common._ee_correct_CCI_band(ee_image, \"Cloud_TAC\", \"CCA\")\n",
    "    )\n",
    "    .map(\n",
    "        lambda ee_image: common._ee_correct_SCI_band(\n",
    "            ee_image, \"Snow_TAC\", \"Cloud_TAC\", \"SCA\"\n",
    "        )\n",
    "    )\n",
    "    .select([\"SCA\", \"CCA\"])\n",
    ")"
   ]
  },
  {
   "cell_type": "code",
   "execution_count": 34,
   "id": "b3f9c007",
   "metadata": {},
   "outputs": [],
   "source": [
    "# ----------------------------------------------------------------------------------------------------------------------\n",
    "# MONTH NON-PARAMETRIC TREND ANALYSIS\n",
    "# ----------------------------------------------------------------------------------------------------------------------\n",
    "\n",
    "month = ee.ee_list.List.sequence(1, 12)\n",
    "\n",
    "# Calculate Month SCI Trend (slope)\n",
    "\n",
    "# Image Collection with one image per month (12 images). Only includes Slopes of pixels with significant trends\n",
    "ee_month_significant_slopes_ic = ee.imagecollection.ImageCollection.fromImages(\n",
    "    month.map(\n",
    "        lambda m: sca_m_trend_bna._ee_calc_month_sca_temporal_trend_stats(\n",
    "            m, ee_TACbyYearMonth_ic, ee_basin_fc\n",
    "        )\n",
    "    ).flatten()\n",
    ")"
   ]
  },
  {
   "cell_type": "code",
   "execution_count": null,
   "id": "a867339a",
   "metadata": {},
   "outputs": [
    {
     "name": "stdout",
     "output_type": "stream",
     "text": [
      "<class 'ee.imagecollection.ImageCollection'>\n",
      "['sens_slopes']\n"
     ]
    }
   ],
   "source": [
    "print(type(ee_month_significant_slopes_ic))\n",
    "print(ee_month_significant_slopes_ic.first().bandNames().getInfo())"
   ]
  },
  {
   "cell_type": "code",
   "execution_count": 36,
   "id": "7003c50a",
   "metadata": {},
   "outputs": [],
   "source": [
    "ee_month_significant_slopes_fc: ee.featurecollection.FeatureCollection = (\n",
    "    ee_month_significant_slopes_ic.map(\n",
    "        lambda ee_image: sca_m_bna._ee_calc_month_spatial_mean(\n",
    "            ee_image, ee_basin_fc, basins_cd_property\n",
    "        )\n",
    "    ).flatten()\n",
    ")"
   ]
  },
  {
   "cell_type": "code",
   "execution_count": 37,
   "id": "2ed1f0fb",
   "metadata": {},
   "outputs": [
    {
     "name": "stdout",
     "output_type": "stream",
     "text": [
      "<class 'ee.featurecollection.FeatureCollection'>\n",
      "['Month', 'imageId', 'mean', 'system:index', 'COD_CUEN']\n"
     ]
    }
   ],
   "source": [
    "print(type(ee_month_significant_slopes_fc))\n",
    "print(ee_month_significant_slopes_fc.first().propertyNames().getInfo())"
   ]
  },
  {
   "cell_type": "code",
   "execution_count": 20,
   "id": "ff60efde",
   "metadata": {},
   "outputs": [],
   "source": [
    "ee_image = ee_TACbyYearMonth_ic.first()"
   ]
  },
  {
   "cell_type": "code",
   "execution_count": 22,
   "id": "27c174a4",
   "metadata": {},
   "outputs": [
    {
     "name": "stdout",
     "output_type": "stream",
     "text": [
      "['system:time_start', 'month', 'year', 'system:footprint', 'system:version', 'system:id', 'system:asset_size', 'system:index', 'system:bands', 'system:band_names']\n",
      "Image date in ms: {'type': 'Date', 'value': 949363200000}\n",
      "Image date: 2000-02-01T00:00:00\n"
     ]
    }
   ],
   "source": [
    "print(ee_image.propertyNames().getInfo())\n",
    "image_date = ee_image.date().getInfo()\n",
    "print(f\"Image date in ms: {image_date}\")\n",
    "image_date = ee_image.date().format().getInfo()\n",
    "print(f\"Image date: {image_date}\")"
   ]
  },
  {
   "cell_type": "code",
   "execution_count": 44,
   "id": "18d391f3",
   "metadata": {},
   "outputs": [],
   "source": [
    "ee_mean_fc = ee_image.reduceRegions(\n",
    "    collection=ee_basin_fc.select([basins_cd_property]),\n",
    "    reducer=ee.reducer.Reducer.mean(),\n",
    "    scale=DEFAULT_SCALE,\n",
    ")"
   ]
  },
  {
   "cell_type": "code",
   "execution_count": 45,
   "id": "ad0fabe2",
   "metadata": {},
   "outputs": [
    {
     "name": "stdout",
     "output_type": "stream",
     "text": [
      "['mean', 'system:index', 'COD_CUEN']\n"
     ]
    }
   ],
   "source": [
    "print(ee_mean_fc.first().propertyNames().getInfo())"
   ]
  },
  {
   "cell_type": "code",
   "execution_count": 75,
   "id": "fbce5334",
   "metadata": {},
   "outputs": [],
   "source": [
    "# Remove geometry to reduce download of FeatureCollection\n",
    "ee_sca_m_trend_per_basin_patched_fc = ee_sca_m_trend_per_basin_fc.map(remove_geometry)\n",
    "sca_m_trend_basin_stats = ee_sca_m_trend_per_basin_patched_fc.getInfo()"
   ]
  },
  {
   "cell_type": "markdown",
   "id": "a3006298",
   "metadata": {},
   "source": [
    "### Code Breakdown (Debugging)"
   ]
  },
  {
   "cell_type": "code",
   "execution_count": 27,
   "id": "b7c8c339",
   "metadata": {},
   "outputs": [
    {
     "data": {
      "text/plain": [
       "<module 'observatorio_ipa.services.gee.processes.stats.common' from 'C:\\\\Users\\\\erick\\\\Documents\\\\Projects\\\\teleamb\\\\observatorio_ipa\\\\src\\\\observatorio_ipa\\\\services\\\\gee\\\\processes\\\\stats\\\\common.py'>"
      ]
     },
     "execution_count": 27,
     "metadata": {},
     "output_type": "execute_result"
    }
   ],
   "source": [
    "from typing import Literal\n",
    "from observatorio_ipa.services.gee.processes.stats import common\n",
    "reload(common)"
   ]
  },
  {
   "cell_type": "code",
   "execution_count": 22,
   "id": "ab7867aa",
   "metadata": {},
   "outputs": [],
   "source": [
    "cuenca=basin_code\n",
    "ee_basin_fc = ee_fcollection.filter(ee.filter.Filter.eq(property, cuenca))\n",
    "# 4. SCI and CCI Correction\n",
    "ee_TACbyYearMonth_ic = (\n",
    "    ee_icollection.map(\n",
    "        lambda ee_image: common._ee_correct_CCI_band(ee_image, \"Cloud_TAC\", \"CCA\")\n",
    "    )\n",
    "    .map(\n",
    "        lambda ee_image: common._ee_correct_SCI_band(\n",
    "            ee_image, \"Snow_TAC\", \"Cloud_TAC\", \"SCA\"\n",
    "        )\n",
    "    )\n",
    "    .select([\"SCA\", \"CCA\"])\n",
    ")\n",
    "\n",
    "m=1\n",
    "ee_month_selected_ic = ee_TACbyYearMonth_ic.select(\"SCA\").filter(\n",
    "    ee.filter.Filter.calendarRange(m, m, \"month\")\n",
    ")\n",
    "\n",
    "ee_time_series_ic = ee_month_selected_ic\n",
    "\n",
    "primary_key = \"year\"\n",
    "ee_after_filter = ee.filter.Filter.lessThan(\n",
    "    leftField=primary_key, rightField=primary_key\n",
    ")\n",
    "ee_joined_ic = ee.imagecollection.ImageCollection(\n",
    "    ee.join.Join.saveAll(matchesKey=\"after\").apply(\n",
    "        primary=ee_time_series_ic,\n",
    "        secondary=ee_time_series_ic,\n",
    "        condition=ee_after_filter,\n",
    "    )\n",
    ")"
   ]
  },
  {
   "cell_type": "code",
   "execution_count": null,
   "id": "c1e966c5",
   "metadata": {},
   "outputs": [
    {
     "name": "stdout",
     "output_type": "stream",
     "text": [
      "24\n",
      "<class 'ee.imagecollection.ImageCollection'>\n"
     ]
    }
   ],
   "source": [
    "print(type(ee_joined_ic))\n",
    "print(ee_joined_ic.size().getInfo())"
   ]
  },
  {
   "cell_type": "code",
   "execution_count": 25,
   "id": "403502f0",
   "metadata": {},
   "outputs": [],
   "source": [
    "# -----------------------------------------------------------------------------------------\n",
    "# Mann-Kendall trend statistic\n",
    "# #! Removed Clip to basin in this code. Clip will be done elsewhere\n",
    "# -----------------------------------------------------------------------------------------\n",
    "\n",
    "def _ee_calc_sign(\n",
    "    ee_current_img: ee.image.Image, ee_after_img: ee.image.Image\n",
    ") -> ee.image.Image:\n",
    "    \"\"\"Calculate the sign of the difference between two images.\n",
    "\n",
    "    The unmask is to prevent accumulation of masked pixels that\n",
    "    result from the undefined case of when either current or future image\n",
    "    is masked.  It won't affect the sum, since it's unmasked to zero.\n",
    "    \"\"\"\n",
    "    ee_sign_img = (\n",
    "        ee_current_img.neq(ee_after_img)  # Zero case\n",
    "        .multiply(ee_after_img.subtract(ee_current_img).clamp(-1, 1))\n",
    "        .int()\n",
    "    )\n",
    "    return ee_sign_img.unmask(0)\n",
    "\n",
    "def _ee_calc_ts_signs(\n",
    "    ee_current_img: ee.image.Image,\n",
    ") -> ee.imagecollection.ImageCollection:\n",
    "    ee_after_ic = ee.imagecollection.ImageCollection.fromImages(\n",
    "        ee_current_img.get(\"after\")\n",
    "    )\n",
    "    ee_after_ic = ee_after_ic.map(\n",
    "        lambda ee_after_img: _ee_calc_sign(ee_current_img, ee_after_img)\n",
    "    )\n",
    "\n",
    "    return ee_after_ic\n",
    "\n",
    "ee_signs_ic = ee.imagecollection.ImageCollection(\n",
    "    ee_joined_ic.map(_ee_calc_ts_signs).flatten()\n",
    ")\n",
    "#! Consider removing clip\n",
    "ee_kendall_img = ee_signs_ic.reduce(\"sum\", 2)  # .clip(ee_basin_fc)  # type: ignore\n",
    "ee_kendall_img = ee_kendall_img.rename(\"kendall_stat\")"
   ]
  },
  {
   "cell_type": "code",
   "execution_count": 26,
   "id": "2ef14c57",
   "metadata": {},
   "outputs": [
    {
     "name": "stdout",
     "output_type": "stream",
     "text": [
      "<class 'ee.image.Image'>\n",
      "['kendall_stat']\n"
     ]
    }
   ],
   "source": [
    "print(type(ee_kendall_img))\n",
    "print(ee_kendall_img.bandNames().getInfo())"
   ]
  },
  {
   "cell_type": "code",
   "execution_count": 29,
   "id": "a0097c4f",
   "metadata": {},
   "outputs": [],
   "source": [
    "# -----------------------------------------------------------------------------------------\n",
    "# Sen's slope\n",
    "#! CAUTION: part of the slope calc was commented out\n",
    "# -----------------------------------------------------------------------------------------\n",
    "\n",
    "def _ee_calc_slope(\n",
    "    ee_current_img: ee.image.Image, \n",
    "    ee_future_img: ee.image.Image, \n",
    "    ts_frequency: Literal[\"years\"]\n",
    ") -> ee.image.Image:\n",
    "    return (\n",
    "        ee_future_img.subtract(ee_current_img)\n",
    "        #! .divide(ee_future_img.date().difference(ee_current_img.date(), ts_frequency))\n",
    "        .rename(\"slope\").float()\n",
    "    )\n",
    "\n",
    "def _ee_calc_ts_slopes(\n",
    "    ee_current_img: ee.image.Image, \n",
    "    ts_frequency: Literal[\"years\"]\n",
    ") -> ee.imagecollection.ImageCollection:\n",
    "    \n",
    "    ee_after_ic = ee.imagecollection.ImageCollection.fromImages(\n",
    "        ee_current_img.get(\"after\")\n",
    "    )\n",
    "    \n",
    "    ee_after_ic = ee_after_ic.map(\n",
    "        lambda ee_after_img: ee.image.Image(\n",
    "            _ee_calc_slope(ee_current_img, ee_after_img, ts_frequency)\n",
    "        )\n",
    "    )\n",
    "\n",
    "    return ee_after_ic\n",
    "\n",
    "ee_slopes_ic = ee.imagecollection.ImageCollection(\n",
    "    ee_joined_ic.map(\n",
    "        lambda ee_current_img: _ee_calc_ts_slopes(\n",
    "            ee_current_img, ts_frequency=\"years\"\n",
    "        )\n",
    "    ).flatten()\n",
    ")\n",
    "\n",
    "ee_sensSlope_img = (\n",
    "    ee_slopes_ic.reduce(ee.reducer.Reducer.median(), 2)\n",
    "    .toInt()\n",
    "    .rename(\"sens_slopes\")\n",
    ")"
   ]
  },
  {
   "cell_type": "code",
   "execution_count": 30,
   "id": "ac5cdcab",
   "metadata": {},
   "outputs": [
    {
     "name": "stdout",
     "output_type": "stream",
     "text": [
      "<class 'ee.image.Image'>\n",
      "['sens_slopes']\n"
     ]
    }
   ],
   "source": [
    "print(type(ee_sensSlope_img))\n",
    "print(ee_sensSlope_img.bandNames().getInfo())"
   ]
  },
  {
   "cell_type": "code",
   "execution_count": 31,
   "id": "afefd016",
   "metadata": {},
   "outputs": [],
   "source": [
    "# -----------------------------------------------------------------------------------------\n",
    "# Variance of the Mann-Kendall Statistic\n",
    "# -----------------------------------------------------------------------------------------\n",
    "\"\"\"\n",
    "# The formula for the Variance of Mann-Kendall requires identifying groups of tied values in a timeseries.\n",
    "# The below code does this by first identifying the pixels and values that have ties, then determines the group\n",
    "# siz (Number of times the values repeat) using arrays. Then computes the factors for the groups that are used\n",
    "# in the variance formula, and finally computes the variance.\n",
    "\n",
    "# An simple example of groups for a single pixel in a timeseries:\n",
    "# [0.35,0.40,0.40,0.42,0.42,0.42,0.44]\n",
    "# - This has two tie groups\n",
    "# - One group of two tied values at 0.40 -> t=2\n",
    "# - One group of three tied values at 0.42 -> t=3\n",
    "\"\"\"\n",
    "\n",
    "def _ee_matches(\n",
    "    ee_i_img: ee.image.Image, ee_j_img: ee.image.Image\n",
    ") -> ee.image.Image:\n",
    "    return ee_i_img.eq(ee_j_img)\n",
    "\n",
    "def _ee_groups(\n",
    "    ee_i_img: ee.image.Image, ee_icollection: ee.imagecollection.ImageCollection\n",
    ") -> ee.image.Image:\n",
    "    \"\"\"Keep values of pixels that had more than one match in other images.\n",
    "\n",
    "    >1 because at least one match is the image itself.\n",
    "    \"\"\"\n",
    "\n",
    "    ee_matches_img = ee_icollection.map(\n",
    "        lambda ee_j_img: _ee_matches(ee_i_img, ee_j_img)\n",
    "    ).sum()\n",
    "    return ee_i_img.multiply(ee_matches_img.gt(1))\n",
    "\n",
    "# Compute tie group sizes in a sequence.  The first group is discarded.\n",
    "def _ee_group_sizes(ee_array_img: ee.image.Image) -> ee.image.Image:\n",
    "    ee_length_img = ee_array_img.arrayLength(0)\n",
    "    # Array of indices.  These are 1-indexed.\n",
    "    ee_indices_img = (\n",
    "        ee.image.Image([1])\n",
    "        .arrayRepeat(0, ee_length_img)\n",
    "        .arrayAccum(0, ee.reducer.Reducer.sum())\n",
    "        .toArray(1)\n",
    "    )\n",
    "    ee_sorted_img = ee_array_img.arraySort()\n",
    "    ee_left_img = ee_sorted_img.arraySlice(0, 1)\n",
    "    ee_right_img = ee_sorted_img.arraySlice(0, 0, -1)\n",
    "\n",
    "    # Indices of the end of runs. Always keep the last index, the end of the sequence.\n",
    "    ee_mask_img = ee_left_img.neq(ee_right_img).arrayCat(\n",
    "        ee.image.Image(ee.ee_array.Array([[1]])), 0\n",
    "    )\n",
    "    ee_runIndices_img = ee_indices_img.arrayMask(ee_mask_img)\n",
    "\n",
    "    # Subtract the indices to get run lengths.\n",
    "    ee_groupSizes_img = ee_runIndices_img.arraySlice(0, 1).subtract(\n",
    "        ee_runIndices_img.arraySlice(0, 0, -1)\n",
    "    )\n",
    "    return ee_groupSizes_img\n",
    "\n",
    "# See equation 2.6 in Sen (1968).\n",
    "def _ee_factors(ee_image: ee.image.Image) -> ee.image.Image:\n",
    "    return ee_image.expression(\"b() * (b() - 1) * (b() * 2 + 5)\")\n",
    "\n",
    "ee_groups_ic = ee.imagecollection.ImageCollection(\n",
    "    ee_time_series_ic.map(lambda ee_i_img: _ee_groups(ee_i_img, ee_time_series_ic))\n",
    ")\n",
    "ee_groupSizes_img = _ee_group_sizes(ee_groups_ic.toArray())\n",
    "ee_groupFactors_img = _ee_factors(ee_groupSizes_img)\n",
    "ee_groupFactorSum_img = ee_groupFactors_img.arrayReduce(\"sum\", [0]).arrayGet([0, 0])\n",
    "ee_count_img = ee_joined_ic.count()\n",
    "ee_kendallVariance_img = (\n",
    "    _ee_factors(ee_count_img).subtract(ee_groupFactorSum_img).divide(18).float()\n",
    ")\n",
    "ee_kendallVariance_img = ee_kendallVariance_img.rename(\"kendall_variance\")"
   ]
  },
  {
   "cell_type": "code",
   "execution_count": null,
   "id": "74743209",
   "metadata": {},
   "outputs": [
    {
     "name": "stdout",
     "output_type": "stream",
     "text": [
      "['kendall_variance']\n"
     ]
    }
   ],
   "source": [
    "print(type(ee_kendallVariance_img))\n",
    "print(ee_kendallVariance_img.bandNames().getInfo())"
   ]
  },
  {
   "cell_type": "code",
   "execution_count": 34,
   "id": "17c00471",
   "metadata": {},
   "outputs": [],
   "source": [
    "# -----------------------------------------------------------------------------------------\n",
    "# Significance testing. z-statistic and p-value\n",
    "# -----------------------------------------------------------------------------------------\n",
    "\n",
    "# compute Z-statistic\n",
    "ee_zero_img = ee_kendall_img.multiply(ee_kendall_img.eq(0))\n",
    "ee_pos_img = ee_kendall_img.multiply(ee_kendall_img.gt(0)).subtract(1)\n",
    "ee_neg_img = ee_kendall_img.multiply(ee_kendall_img.lt(0)).add(1)\n",
    "\n",
    "ee_zScore_img = ee_zero_img.add(\n",
    "    ee_pos_img.divide(ee_kendallVariance_img.sqrt())\n",
    ").add(ee_neg_img.divide(ee_kendallVariance_img.sqrt()))\n",
    "ee_zScore_img = ee_zScore_img.rename(\"z_score\")"
   ]
  },
  {
   "cell_type": "code",
   "execution_count": 35,
   "id": "f41314aa",
   "metadata": {},
   "outputs": [
    {
     "name": "stdout",
     "output_type": "stream",
     "text": [
      "<class 'ee.image.Image'>\n",
      "['z_score']\n"
     ]
    }
   ],
   "source": [
    "print(type(ee_zScore_img))\n",
    "print(ee_zScore_img.bandNames().getInfo())"
   ]
  },
  {
   "cell_type": "code",
   "execution_count": 37,
   "id": "dfe690c8",
   "metadata": {},
   "outputs": [],
   "source": [
    "def _ee_cdf(z):\n",
    "    return ee.image.Image(0.5).multiply(\n",
    "        ee.image.Image(1).add(z.divide(ee.image.Image(2).sqrt()).erf())\n",
    "    )\n",
    "\n",
    "# ! Inverse of CDF, not used in this code\n",
    "# def _ee_inv_cdf(p: ee.image.Image) -> ee.image.Image:\n",
    "#     return ee.image.Image(2).sqrt().multiply(p.multiply(2).subtract(1).erfInv())\n",
    "\n",
    "# Compute P-values\n",
    "ee_pValue_img = ee.image.Image(1).subtract(_ee_cdf(ee_zScore_img.abs()))\n",
    "ee_pValue_img = ee_pValue_img.rename(\"p_value\")"
   ]
  },
  {
   "cell_type": "code",
   "execution_count": 38,
   "id": "2ab6c8f0",
   "metadata": {},
   "outputs": [
    {
     "name": "stdout",
     "output_type": "stream",
     "text": [
      "<class 'ee.image.Image'>\n",
      "['p_value']\n"
     ]
    }
   ],
   "source": [
    "print(type(ee_pValue_img))\n",
    "print(ee_pValue_img.bandNames().getInfo())"
   ]
  },
  {
   "cell_type": "code",
   "execution_count": 39,
   "id": "85a93344",
   "metadata": {},
   "outputs": [],
   "source": [
    "ee_significant_trend_img = ee_pValue_img.lte(0.025).selfMask()\n",
    "ee_significant_trend_img = ee_significant_trend_img.rename(\"significant_trend\")"
   ]
  },
  {
   "cell_type": "code",
   "execution_count": 40,
   "id": "31d00370",
   "metadata": {},
   "outputs": [
    {
     "name": "stdout",
     "output_type": "stream",
     "text": [
      "<class 'ee.image.Image'>\n",
      "['significant_trend']\n"
     ]
    }
   ],
   "source": [
    "print(type(ee_significant_trend_img))\n",
    "print(ee_significant_trend_img.bandNames().getInfo())"
   ]
  },
  {
   "cell_type": "code",
   "execution_count": 41,
   "id": "14cf09a1",
   "metadata": {},
   "outputs": [],
   "source": [
    "ee_trend_stats_img = ee.image.Image(\n",
    "    [\n",
    "        ee_kendall_img,\n",
    "        ee_sensSlope_img,\n",
    "        ee_kendallVariance_img,\n",
    "        ee_zScore_img,\n",
    "        ee_pValue_img,\n",
    "        ee_significant_trend_img,\n",
    "    ]\n",
    ")"
   ]
  },
  {
   "cell_type": "code",
   "execution_count": 42,
   "id": "5e34e3f3",
   "metadata": {},
   "outputs": [
    {
     "name": "stdout",
     "output_type": "stream",
     "text": [
      "<class 'ee.image.Image'>\n",
      "['kendall_stat', 'sens_slopes', 'kendall_variance', 'z_score', 'p_value', 'significant_trend']\n"
     ]
    }
   ],
   "source": [
    "print(type(ee_trend_stats_img))\n",
    "print(ee_trend_stats_img.bandNames().getInfo())"
   ]
  },
  {
   "cell_type": "code",
   "execution_count": 73,
   "id": "52bc44a2",
   "metadata": {},
   "outputs": [
    {
     "data": {
      "text/plain": [
       "<module 'observatorio_ipa.services.gee.processes.stats.cuencas.month.sca_m_trend_bna' from 'C:\\\\Users\\\\erick\\\\Documents\\\\Projects\\\\teleamb\\\\observatorio_ipa\\\\src\\\\observatorio_ipa\\\\services\\\\gee\\\\processes\\\\stats\\\\cuencas\\\\month\\\\sca_m_trend_bna.py'>"
      ]
     },
     "execution_count": 73,
     "metadata": {},
     "output_type": "execute_result"
    }
   ],
   "source": [
    "reload(sca_m_trend_bna)"
   ]
  },
  {
   "cell_type": "code",
   "execution_count": 54,
   "id": "6f329954",
   "metadata": {},
   "outputs": [],
   "source": [
    "# Try trend stats function in one go\n",
    "ee_trend_stats_img = sca_m_trend_bna._ee_calc_trend_stats(\n",
    "    ee_time_series_ic=ee_month_selected_ic,\n",
    "    ts_frequency=\"years\"\n",
    ")"
   ]
  },
  {
   "cell_type": "code",
   "execution_count": 55,
   "id": "a749c529",
   "metadata": {},
   "outputs": [
    {
     "name": "stdout",
     "output_type": "stream",
     "text": [
      "<class 'ee.image.Image'>\n",
      "['kendall_stat', 'sens_slopes', 'kendall_variance', 'z_score', 'p_value', 'significant_trend']\n"
     ]
    }
   ],
   "source": [
    "print(type(ee_trend_stats_img))\n",
    "print(ee_trend_stats_img.bandNames().getInfo())"
   ]
  },
  {
   "cell_type": "code",
   "execution_count": 57,
   "id": "2cffaf07",
   "metadata": {},
   "outputs": [],
   "source": [
    "# Try month trend stats function in one go\n",
    "ee_significant_slopes_img=sca_m_trend_bna._ee_calc_month_trend_stats(m, ee_TACbyYearMonth_ic, ee_basin_fc)"
   ]
  },
  {
   "cell_type": "code",
   "execution_count": 60,
   "id": "3a225eec",
   "metadata": {},
   "outputs": [
    {
     "name": "stdout",
     "output_type": "stream",
     "text": [
      "<class 'ee.image.Image'>\n",
      "['sens_slopes']\n",
      "['month', 'system:bands', 'system:band_names']\n",
      "{'month': 1}\n"
     ]
    }
   ],
   "source": [
    "print(type(ee_significant_slopes_img))\n",
    "print(ee_significant_slopes_img.bandNames().getInfo())\n",
    "print(ee_significant_slopes_img.propertyNames().getInfo())\n",
    "print(ee_significant_slopes_img.toDictionary().getInfo())"
   ]
  },
  {
   "cell_type": "code",
   "execution_count": 61,
   "id": "26339105",
   "metadata": {},
   "outputs": [],
   "source": [
    "# process all months\n",
    "# ----------------------------------------------------------------------------------------------------------------------\n",
    "# 4. MONTH NON-PARAMETRIC TREND ANALYSIS\n",
    "# ----------------------------------------------------------------------------------------------------------------------\n",
    "\n",
    "month = ee.ee_list.List.sequence(1, 12)\n",
    "\n",
    "# Calculate Month SCI Trend (slope)\n",
    "\n",
    "# Image Collection with one image per month (12 images)\n",
    "# Only includes Slopes of pixels with significant trends\n",
    "ee_month_significant_slopes_ic = ee.imagecollection.ImageCollection.fromImages(\n",
    "    month.map(\n",
    "        lambda m: sca_m_trend_bna._ee_calc_month_trend_stats(m, ee_TACbyYearMonth_ic, ee_basin_fc)\n",
    "    ).flatten()\n",
    ")"
   ]
  },
  {
   "cell_type": "code",
   "execution_count": 62,
   "id": "e8fab603",
   "metadata": {},
   "outputs": [
    {
     "name": "stdout",
     "output_type": "stream",
     "text": [
      "<class 'ee.imagecollection.ImageCollection'>\n",
      "12\n"
     ]
    }
   ],
   "source": [
    "print(type(ee_month_significant_slopes_ic))\n",
    "print(ee_month_significant_slopes_ic.size().getInfo())"
   ]
  },
  {
   "cell_type": "code",
   "execution_count": 64,
   "id": "b06be118",
   "metadata": {},
   "outputs": [],
   "source": [
    "from observatorio_ipa.core.defaults import DEFAULT_SCALE"
   ]
  },
  {
   "cell_type": "code",
   "execution_count": null,
   "id": "5ecd3d80",
   "metadata": {},
   "outputs": [],
   "source": [
    "# ----------------------------------------------------------------------------------------------------------------------\n",
    "# 5. Reduce to single value for basin and consolidate results\n",
    "# ----------------------------------------------------------------------------------------------------------------------\n",
    "\n",
    "def _ee_reduce_region(\n",
    "    ee_image: ee.image.Image,\n",
    "    ee_basin_fc: ee.featurecollection.FeatureCollection,\n",
    "    property: str,\n",
    ") -> ee.featurecollection.FeatureCollection:\n",
    "    \"\"\"Reduce the image to a feature collection with mean values per basin.\"\"\"\n",
    "\n",
    "    # Reduce image to single values of sens_slope for basin\n",
    "    ee_fc = ee_image.reduceRegions(\n",
    "            collection=ee_basin_fc.select([property]),\n",
    "            reducer=ee.reducer.Reducer.mean(),\n",
    "            scale=DEFAULT_SCALE,\n",
    "        )  # .set(\"group\", \"trend\") # Redundant, added again when setting properties\n",
    "\n",
    "    def _ee_set_properties(\n",
    "        ee_feature: ee.feature.Feature, \n",
    "        ee_image: ee.image.Image\n",
    "    ) -> ee.feature.Feature:\n",
    "        \"\"\"Set properties for the feature.\"\"\"\n",
    "        \n",
    "        return ee.feature.Feature(\n",
    "            ee_feature.set(\"imageId\", ee_image.id())\n",
    "            .set(\"Month\", ee_image.get(\"month\"))\n",
    "            .set(\"group\", \"trend\")\n",
    "        )\n",
    "\n",
    "    ee_fc: ee.featurecollection.FeatureCollection = ee_fc.map(\n",
    "        lambda f: _ee_set_properties(f, ee_image)\n",
    "    )\n",
    "    return ee_fc\n",
    "\n",
    "ee_month_significant_slopes_fc: ee.featurecollection.FeatureCollection = (\n",
    "    ee_month_significant_slopes_ic.map(\n",
    "        lambda ee_image: _ee_reduce_region(ee_image, ee_basin_fc, property)\n",
    "    ).flatten()\n",
    ")"
   ]
  },
  {
   "cell_type": "code",
   "execution_count": 66,
   "id": "0b5f4c4e",
   "metadata": {},
   "outputs": [
    {
     "name": "stdout",
     "output_type": "stream",
     "text": [
      "<class 'ee.featurecollection.FeatureCollection'>\n",
      "12\n"
     ]
    }
   ],
   "source": [
    "print(type(ee_month_significant_slopes_fc))\n",
    "print(ee_month_significant_slopes_fc.size().getInfo())"
   ]
  },
  {
   "cell_type": "code",
   "execution_count": 67,
   "id": "da7828ea",
   "metadata": {},
   "outputs": [
    {
     "name": "stdout",
     "output_type": "stream",
     "text": [
      "<class 'ee.element.Element'>\n",
      "['system:index', 'group', 'Month', 'imageId', 'mean', 'COD_CUEN']\n"
     ]
    }
   ],
   "source": [
    "ee_first_month_feature = ee_month_significant_slopes_fc.first()\n",
    "print(type(ee_first_month_feature))\n",
    "print(ee_first_month_feature.propertyNames().getInfo())"
   ]
  },
  {
   "cell_type": "code",
   "execution_count": 68,
   "id": "36273fda",
   "metadata": {},
   "outputs": [],
   "source": [
    "# Rename and Round values to two decimals\n",
    "ee_month_significant_slopes_fc = ee_month_significant_slopes_fc.map(\n",
    "        lambda ee_feature: common._ee_copy_feature_property(ee_feature, \"mean\", \"SCA\")\n",
    "    )"
   ]
  },
  {
   "cell_type": "code",
   "execution_count": 71,
   "id": "120227a3",
   "metadata": {},
   "outputs": [
    {
     "name": "stdout",
     "output_type": "stream",
     "text": [
      "<class 'ee.featurecollection.FeatureCollection'>\n",
      "12\n"
     ]
    }
   ],
   "source": [
    "print(type(ee_month_significant_slopes_fc))\n",
    "print(ee_month_significant_slopes_fc.size().getInfo())"
   ]
  },
  {
   "cell_type": "code",
   "execution_count": 69,
   "id": "7d8805f5",
   "metadata": {},
   "outputs": [
    {
     "name": "stdout",
     "output_type": "stream",
     "text": [
      "<class 'ee.element.Element'>\n",
      "['SCA', 'system:index', 'group', 'Month', 'imageId', 'mean', 'COD_CUEN']\n"
     ]
    }
   ],
   "source": [
    "ee_first_month_feature = ee_month_significant_slopes_fc.first()\n",
    "print(type(ee_first_month_feature))\n",
    "print(ee_first_month_feature.propertyNames().getInfo())"
   ]
  },
  {
   "cell_type": "code",
   "execution_count": 72,
   "id": "8a78c6c9",
   "metadata": {},
   "outputs": [],
   "source": [
    "ee_month_significant_slopes_fc = common._ee_format_properties_2decimals(\n",
    "        ee_month_significant_slopes_fc, [\"SCA\"]\n",
    "    )"
   ]
  },
  {
   "cell_type": "markdown",
   "id": "da0572de",
   "metadata": {},
   "source": [
    "## 5. Year statistics per BNA basin"
   ]
  },
  {
   "cell_type": "markdown",
   "id": "e7dae137",
   "metadata": {},
   "source": [
    "### 5.1 Year average of Snow Persistence (SP%) for all years per basin"
   ]
  },
  {
   "cell_type": "code",
   "execution_count": 28,
   "id": "d1ff21ed",
   "metadata": {},
   "outputs": [
    {
     "data": {
      "text/plain": [
       "<module 'observatorio_ipa.services.gee.processes.stats.cuencas.year.sca_y_bna' from 'C:\\\\Users\\\\erick\\\\Documents\\\\Projects\\\\teleamb\\\\observatorio_ipa\\\\src\\\\observatorio_ipa\\\\services\\\\gee\\\\processes\\\\stats\\\\cuencas\\\\year\\\\sca_y_bna.py'>"
      ]
     },
     "execution_count": 28,
     "metadata": {},
     "output_type": "execute_result"
    }
   ],
   "source": [
    "from observatorio_ipa.services.gee.processes.stats.cuencas.year import sca_y_bna\n",
    "reload(sca_y_bna)"
   ]
  },
  {
   "cell_type": "code",
   "execution_count": 29,
   "id": "acf0b31e",
   "metadata": {},
   "outputs": [
    {
     "name": "stdout",
     "output_type": "stream",
     "text": [
      "Processing basin: 010, table: MCD_SCA_y_BNA_010\n",
      "Processing basin: 023, table: MCD_SCA_y_BNA_023\n",
      "Processing basin: 024, table: MCD_SCA_y_BNA_024\n",
      "Number of Export Tasks 3\n"
     ]
    }
   ],
   "source": [
    "sca_y_bna_tasks = sca_y_bna.SCA_y_BNA(\n",
    "    ee_fcollection=ee_basins_bna_fc,\n",
    "    ee_icollection=ee_yearly_ic,\n",
    "    property=CUENCA_PROPERTY_NAME,\n",
    "    export_target=\"gee_assets\",  # Options: \"gdrive\" or \"gee_assets\n",
    "    img_prefix=SCA_Y_BNA_TBL_PREFIX,\n",
    "    export_path=ASSETS_SCA_Y_BNA_TBL_EXPORT_PATH,\n",
    "    max_exports=3,  # Limit to 1 export task for testing\n",
    ")\n",
    "print(\"Number of Export Tasks\", len(sca_y_bna_tasks))"
   ]
  },
  {
   "cell_type": "code",
   "execution_count": 30,
   "id": "b6ce7273",
   "metadata": {},
   "outputs": [],
   "source": [
    "for task in sca_y_bna_tasks:\n",
    "    task.start()"
   ]
  },
  {
   "cell_type": "code",
   "execution_count": 31,
   "id": "3403fb94",
   "metadata": {},
   "outputs": [
    {
     "name": "stdout",
     "output_type": "stream",
     "text": [
      "Task status count: {'READY': 3}\n"
     ]
    }
   ],
   "source": [
    "current_task_status = check_export_list_status(sca_y_bna_tasks)"
   ]
  },
  {
   "cell_type": "markdown",
   "id": "6718c4f0",
   "metadata": {},
   "source": [
    "### 5.2 Year Average of Snow Persistence (SP%) per basin and elevation bin"
   ]
  },
  {
   "cell_type": "code",
   "execution_count": 44,
   "id": "beef24e1",
   "metadata": {},
   "outputs": [
    {
     "data": {
      "text/plain": [
       "<module 'observatorio_ipa.services.gee.processes.stats.cuencas.year.sca_y_elev_bna' from 'C:\\\\Users\\\\erick\\\\Documents\\\\Projects\\\\teleamb\\\\observatorio_ipa\\\\src\\\\observatorio_ipa\\\\services\\\\gee\\\\processes\\\\stats\\\\cuencas\\\\year\\\\sca_y_elev_bna.py'>"
      ]
     },
     "execution_count": 44,
     "metadata": {},
     "output_type": "execute_result"
    }
   ],
   "source": [
    "from observatorio_ipa.services.gee.processes.stats.cuencas.year import sca_y_elev_bna\n",
    "reload(sca_y_elev_bna)"
   ]
  },
  {
   "cell_type": "code",
   "execution_count": 45,
   "id": "f177e9aa",
   "metadata": {},
   "outputs": [
    {
     "name": "stdout",
     "output_type": "stream",
     "text": [
      "Processing basin: 010, table: MCD_SCA_y_elev_BNA_010\n",
      "Processing basin: 023, table: MCD_SCA_y_elev_BNA_023\n",
      "Processing basin: 024, table: MCD_SCA_y_elev_BNA_024\n",
      "Number of Export Tasks 3\n"
     ]
    }
   ],
   "source": [
    "sca_y_elev_bna_tasks = sca_y_elev_bna.SCA_y_elev_BNA(\n",
    "    ee_fcollection=ee_basins_bna_fc,\n",
    "    ee_icollection=ee_yearly_ic,\n",
    "    property=CUENCA_PROPERTY_NAME,\n",
    "    ee_dem_img=ee_dem_img,\n",
    "    export_target=\"gee_assets\",  # Options: \"gdrive\" or \"gee_assets\n",
    "    img_prefix=SCA_Y_ELEV_BNA_TBL_PREFIX,\n",
    "    export_path=ASSETS_SCA_Y_ELEV_BNA_TBL_EXPORT_PATH,\n",
    "    max_exports=3,  # Limit to 1 export task for testing\n",
    ")\n",
    "print(\"Number of Export Tasks\", len(sca_y_elev_bna_tasks))"
   ]
  },
  {
   "cell_type": "code",
   "execution_count": 46,
   "id": "a5e753b0",
   "metadata": {},
   "outputs": [],
   "source": [
    "for task in sca_y_elev_bna_tasks:\n",
    "    task.start()"
   ]
  },
  {
   "cell_type": "code",
   "execution_count": 47,
   "id": "246930de",
   "metadata": {},
   "outputs": [
    {
     "name": "stdout",
     "output_type": "stream",
     "text": [
      "Task status count: {'READY': 3}\n"
     ]
    }
   ],
   "source": [
    "current_task_status = check_export_list_status(sca_y_elev_bna_tasks)"
   ]
  },
  {
   "cell_type": "markdown",
   "id": "b7773eac",
   "metadata": {},
   "source": [
    "### 5.3 Area per Yearly Trend bin and basin\n",
    "- This is the Area where Snow Cover has been increasing or Decreasing within a basin. \n",
    "- SCA has been split by bins representing the magnitude (slope) of incrase or decrease \n",
    "- Trend bins are related to the slope of the trend line where SCI has significantly been increasing or decreasing "
   ]
  },
  {
   "cell_type": "code",
   "execution_count": 9,
   "id": "4518b70c",
   "metadata": {},
   "outputs": [
    {
     "data": {
      "text/plain": [
       "<module 'observatorio_ipa.services.gee.processes.stats.cuencas.year.sca_y_t_area_bna' from 'C:\\\\Users\\\\erick\\\\Documents\\\\Projects\\\\teleamb\\\\observatorio_ipa\\\\src\\\\observatorio_ipa\\\\services\\\\gee\\\\processes\\\\stats\\\\cuencas\\\\year\\\\sca_y_t_area_bna.py'>"
      ]
     },
     "execution_count": 9,
     "metadata": {},
     "output_type": "execute_result"
    }
   ],
   "source": [
    "from observatorio_ipa.services.gee.processes.stats.cuencas.year import sca_y_t_area_bna\n",
    "reload(sca_y_t_area_bna)"
   ]
  },
  {
   "cell_type": "code",
   "execution_count": null,
   "id": "a5d5adcc",
   "metadata": {},
   "outputs": [
    {
     "name": "stdout",
     "output_type": "stream",
     "text": [
      "Processing basin: 010, Table Name: MCD_SCA_y_t_area_BNA_010\n",
      "Processing basin: 023, Table Name: MCD_SCA_y_t_area_BNA_023\n",
      "Processing basin: 024, Table Name: MCD_SCA_y_t_area_BNA_024\n"
     ]
    },
    {
     "ename": "NameError",
     "evalue": "name 'sca_y_elev_bna_tasks' is not defined",
     "output_type": "error",
     "traceback": [
      "\u001b[31m---------------------------------------------------------------------------\u001b[39m",
      "\u001b[31mNameError\u001b[39m                                 Traceback (most recent call last)",
      "\u001b[36mCell\u001b[39m\u001b[36m \u001b[39m\u001b[32mIn[10]\u001b[39m\u001b[32m, line 10\u001b[39m\n\u001b[32m      1\u001b[39m sca_y_t_area_bna_tasks = sca_y_t_area_bna.SCA_y_t_area_BNA(\n\u001b[32m      2\u001b[39m     ee_icollection=ee_yearly_ic,\n\u001b[32m      3\u001b[39m     ee_fcollection=ee_basins_bna_fc,\n\u001b[32m   (...)\u001b[39m\u001b[32m      8\u001b[39m     max_exports=\u001b[32m3\u001b[39m,  \u001b[38;5;66;03m# Limit to 1 export task for testing\u001b[39;00m\n\u001b[32m      9\u001b[39m )\n\u001b[32m---> \u001b[39m\u001b[32m10\u001b[39m \u001b[38;5;28mprint\u001b[39m(\u001b[33m\"\u001b[39m\u001b[33mNumber of Export Tasks\u001b[39m\u001b[33m\"\u001b[39m, \u001b[38;5;28mlen\u001b[39m(\u001b[43msca_y_elev_bna_tasks\u001b[49m))\n",
      "\u001b[31mNameError\u001b[39m: name 'sca_y_elev_bna_tasks' is not defined"
     ]
    }
   ],
   "source": [
    "sca_y_t_area_bna_tasks = sca_y_t_area_bna.SCA_y_t_area_BNA(\n",
    "    ee_icollection=ee_yearly_ic,\n",
    "    ee_fcollection=ee_basins_bna_fc,\n",
    "    property=CUENCA_PROPERTY_NAME,\n",
    "    export_target=\"gee_assets\",  # Options: \"gdrive\" or \"gee_assets\n",
    "    img_prefix=SCA_Y_T_AREA_BNA_TBL_PREFIX,\n",
    "    export_path=ASSETS_YEAR_TBL_EXPORT_PATH,\n",
    "    max_exports=3,  # Limit to 1 export task for testing\n",
    ")\n",
    "print(\"Number of Export Tasks\", len(sca_y_t_area_bna_tasks))"
   ]
  },
  {
   "cell_type": "code",
   "execution_count": 76,
   "id": "de36419e",
   "metadata": {},
   "outputs": [],
   "source": [
    "for task in sca_y_t_area_bna_tasks:\n",
    "    task.start()"
   ]
  },
  {
   "cell_type": "code",
   "execution_count": 79,
   "id": "d1d903eb",
   "metadata": {},
   "outputs": [
    {
     "name": "stdout",
     "output_type": "stream",
     "text": [
      "Task status count: {'RUNNING': 3}\n"
     ]
    }
   ],
   "source": [
    "current_task_status = check_export_list_status(sca_y_t_area_bna_tasks)"
   ]
  },
  {
   "cell_type": "markdown",
   "id": "05835ca5",
   "metadata": {},
   "source": [
    "#### Manual step-by-step Run"
   ]
  },
  {
   "cell_type": "code",
   "execution_count": 10,
   "id": "d053e5fb",
   "metadata": {},
   "outputs": [],
   "source": [
    "ee_icollection=ee_yearly_ic\n",
    "ee_fcollection=ee_basins_bna_fc\n",
    "property=CUENCA_PROPERTY_NAME\n",
    "export_target=\"gee_assets\"  # Options: \"gdrive\" or \"gee_assets\n",
    "img_prefix=SCA_Y_T_AREA_BNA_TBL_PREFIX\n",
    "export_path=ASSETS_YEAR_TBL_EXPORT_PATH\n",
    "max_exports=3"
   ]
  },
  {
   "cell_type": "code",
   "execution_count": 11,
   "id": "553b730a",
   "metadata": {},
   "outputs": [
    {
     "name": "stdout",
     "output_type": "stream",
     "text": [
      "basin code: 023\n"
     ]
    }
   ],
   "source": [
    "basin_code_list = ee_fcollection.aggregate_array(property).getInfo()\n",
    "if basin_code_list is None:\n",
    "    basin_code_list = []\n",
    "else:\n",
    "    basin_code = basin_code_list[1]\n",
    "    print(f\"basin code: {basin_code}\")"
   ]
  },
  {
   "cell_type": "code",
   "execution_count": 12,
   "id": "6eaa85f6",
   "metadata": {},
   "outputs": [
    {
     "name": "stdout",
     "output_type": "stream",
     "text": [
      "Table name: MCD_SCA_y_t_area_BNA_023\n",
      "Exporting to gee_assets at projects/ee-observatorionieves/assets/Test/year_ee/MCD_SCA_y_t_area_BNA_023\n"
     ]
    }
   ],
   "source": [
    "table_name = f\"{img_prefix}{basin_code}\"\n",
    "print(f\"Table name: {table_name}\")\n",
    "print(f\"Exporting to {export_target} at {export_path}/{table_name}\")"
   ]
  },
  {
   "cell_type": "code",
   "execution_count": null,
   "id": "789b9347",
   "metadata": {},
   "outputs": [
    {
     "name": "stdout",
     "output_type": "stream",
     "text": [
      "Processing basin: 023, features: 22\n"
     ]
    }
   ],
   "source": [
    "ee_sca_y_t_area_per_basin_fc = sca_y_t_area_bna._ee_calc_year_trend_per_basin(\n",
    "    basin_code=basin_code,\n",
    "    basins_cd_property=property,\n",
    "    ee_basins_fc=ee_fcollection,\n",
    "    ee_icollection=ee_icollection,   \n",
    ")\n",
    "\n",
    "\n",
    "print(\n",
    "    f\"Processing basin: {basin_code}, features: {ee_sca_y_t_area_per_basin_fc.size().getInfo()}\"\n",
    ")"
   ]
  },
  {
   "cell_type": "code",
   "execution_count": 14,
   "id": "f6867813",
   "metadata": {},
   "outputs": [],
   "source": [
    "# Remove geometry to reduce download of FeatureCollection\n",
    "ee_sca_y_t_area_per_basin_patched_fc = ee_sca_y_t_area_per_basin_fc.map(\n",
    "    remove_geometry\n",
    ")\n",
    "sca_m_trend_basin_stats = ee_sca_y_t_area_per_basin_patched_fc.getInfo()"
   ]
  },
  {
   "cell_type": "code",
   "execution_count": 15,
   "id": "640c558f",
   "metadata": {},
   "outputs": [
    {
     "name": "stdout",
     "output_type": "stream",
     "text": [
      "{'Sen_slope': 'n10', 'Area': 0}\n",
      "{'Sen_slope': 'n09', 'Area': 0}\n",
      "{'Sen_slope': 'n08', 'Area': 0}\n",
      "{'Sen_slope': 'n07', 'Area': 0}\n",
      "{'Sen_slope': 'n06', 'Area': 0}\n",
      "{'Sen_slope': 'n05', 'Area': 0}\n",
      "{'Sen_slope': 'n04', 'Area': 0}\n",
      "{'Sen_slope': 'n03', 'Area': 0}\n",
      "{'Sen_slope': 'n02', 'Area': 0}\n",
      "{'Sen_slope': 'n01', 'Area': 0}\n",
      "{'Sen_slope': 'n00', 'Area': 0}\n",
      "{'Sen_slope': 'p00', 'Area': 0.66}\n",
      "{'Sen_slope': 'p01', 'Area': 1.36}\n",
      "{'Sen_slope': 'p02', 'Area': 0.51}\n",
      "{'Sen_slope': 'p03', 'Area': 0.29}\n",
      "{'Sen_slope': 'p04', 'Area': 0.28}\n",
      "{'Sen_slope': 'p05', 'Area': 0.11}\n",
      "{'Sen_slope': 'p06', 'Area': 0.27}\n",
      "{'Sen_slope': 'p07', 'Area': 0.23}\n",
      "{'Sen_slope': 'p08', 'Area': 0.13}\n",
      "{'Sen_slope': 'p09', 'Area': 0}\n",
      "{'Sen_slope': 'p10', 'Area': 0}\n"
     ]
    }
   ],
   "source": [
    "print_fc_properties(sca_m_trend_basin_stats, [\"Sen_slope\", \"Area\"])"
   ]
  },
  {
   "cell_type": "markdown",
   "id": "51bd5c0d",
   "metadata": {},
   "source": [
    "#### Code Breakdown (Debugging)"
   ]
  },
  {
   "cell_type": "code",
   "execution_count": 59,
   "id": "245704be",
   "metadata": {},
   "outputs": [],
   "source": [
    "cuenca = basin_code\n",
    "ee_basin_fc = ee_fcollection.filter(ee.filter.Filter.eq(property, cuenca))"
   ]
  },
  {
   "cell_type": "code",
   "execution_count": 62,
   "id": "2b9e8f51",
   "metadata": {},
   "outputs": [
    {
     "data": {
      "text/plain": [
       "<module 'observatorio_ipa.services.gee.processes.stats.common' from 'C:\\\\Users\\\\erick\\\\Documents\\\\Projects\\\\teleamb\\\\observatorio_ipa\\\\src\\\\observatorio_ipa\\\\services\\\\gee\\\\processes\\\\stats\\\\common.py'>"
      ]
     },
     "execution_count": 62,
     "metadata": {},
     "output_type": "execute_result"
    }
   ],
   "source": [
    "from observatorio_ipa.services.gee.processes.stats import common\n",
    "reload(common)"
   ]
  },
  {
   "cell_type": "code",
   "execution_count": 63,
   "id": "5a83da77",
   "metadata": {},
   "outputs": [],
   "source": [
    " # -----------------------------------------------------------------------------------------------------------------------\n",
    "# 4. SCI and CCI Correction\n",
    "# -----------------------------------------------------------------------------------------------------------------------\n",
    "ee_TACbyYear_ic = (\n",
    "    ee_icollection.map(\n",
    "        lambda ee_image: common._ee_correct_CCI_band(\n",
    "            ee_image, \"Cloud_Persistence\", \"CP\"\n",
    "        )\n",
    "    )\n",
    "    .map(\n",
    "        lambda ee_image: common._ee_correct_SCI_band(\n",
    "            ee_image, \"Snow_Persistence\", \"Cloud_Persistence\", \"SP\"\n",
    "        )\n",
    "    )\n",
    "    .select([\"SP\", \"CP\"])\n",
    ")"
   ]
  },
  {
   "cell_type": "code",
   "execution_count": 65,
   "id": "36061639",
   "metadata": {},
   "outputs": [
    {
     "name": "stdout",
     "output_type": "stream",
     "text": [
      "<class 'ee.imagecollection.ImageCollection'>\n",
      "['SP', 'CP']\n"
     ]
    }
   ],
   "source": [
    "print(type(ee_TACbyYear_ic))\n",
    "print(ee_TACbyYear_ic.first().bandNames().getInfo())\n"
   ]
  },
  {
   "cell_type": "code",
   "execution_count": 71,
   "id": "12e7ddc9",
   "metadata": {},
   "outputs": [
    {
     "data": {
      "text/plain": [
       "<module 'observatorio_ipa.services.gee.processes.stats.trend' from 'C:\\\\Users\\\\erick\\\\Documents\\\\Projects\\\\teleamb\\\\observatorio_ipa\\\\src\\\\observatorio_ipa\\\\services\\\\gee\\\\processes\\\\stats\\\\trend.py'>"
      ]
     },
     "execution_count": 71,
     "metadata": {},
     "output_type": "execute_result"
    }
   ],
   "source": [
    "from observatorio_ipa.services.gee.processes.stats import trend\n",
    "reload(trend)"
   ]
  },
  {
   "cell_type": "code",
   "execution_count": null,
   "id": "93ca2f8d",
   "metadata": {},
   "outputs": [],
   "source": [
    "# -----------------------------------------------------------------------------------------------------------------------\n",
    "# 4. Non-parametric trend analysis (Mann-Kendall and Sen's slope)\n",
    "# -----------------------------------------------------------------------------------------------------------------------\n",
    "# Pmask = p.lte(0.025)\n",
    "# mask = Pmask.selfMask()\n",
    "# masked_slope = sensSlope.updateMask(mask)\n",
    "# unmasked_slope = masked_slope.clip(ee_basin_fc) #! Unmasked_slope is not really unmasked, it still has masked pixels\n",
    "\n",
    "ee_trend_stats_img = trend._ee_calc_temporal_trend_stats(\n",
    "    ee_TACbyYear_ic, band_name=\"SP\", ts_frequency=\"years\"\n",
    ")\n",
    "\n",
    "ee_trend_stats_img = ee_trend_stats_img.clip(ee_basin_fc)\n",
    "\n",
    "ee_significant_trend_img: ee.image.Image = ee_trend_stats_img.select(\n",
    "    \"significant_trend\"\n",
    ")\n",
    "ee_sensSlope_img: ee.image.Image = ee_trend_stats_img.select(\"sens_slopes\")\n",
    "\n",
    "# Mask Sens Slopes to pixels with significant trends\n",
    "ee_significant_slopes_img = ee_sensSlope_img.updateMask(ee_significant_trend_img)"
   ]
  },
  {
   "cell_type": "code",
   "execution_count": 73,
   "id": "4045dd65",
   "metadata": {},
   "outputs": [
    {
     "name": "stdout",
     "output_type": "stream",
     "text": [
      "<class 'ee.image.Image'>\n",
      "['sens_slopes']\n"
     ]
    }
   ],
   "source": [
    "print(type(ee_significant_slopes_img))\n",
    "print(ee_significant_slopes_img.bandNames().getInfo())"
   ]
  },
  {
   "cell_type": "markdown",
   "id": "abc4a37f",
   "metadata": {},
   "source": [
    "### 5.4 Yearly average of Snow Persistence Trend per basin and elevation bin"
   ]
  },
  {
   "cell_type": "code",
   "execution_count": 9,
   "id": "a8f134ce",
   "metadata": {},
   "outputs": [
    {
     "data": {
      "text/plain": [
       "<module 'observatorio_ipa.services.gee.processes.stats.cuencas.year.sca_y_t_elev_bna' from 'C:\\\\Users\\\\erick\\\\Documents\\\\Projects\\\\teleamb\\\\observatorio_ipa\\\\src\\\\observatorio_ipa\\\\services\\\\gee\\\\processes\\\\stats\\\\cuencas\\\\year\\\\sca_y_t_elev_bna.py'>"
      ]
     },
     "execution_count": 9,
     "metadata": {},
     "output_type": "execute_result"
    }
   ],
   "source": [
    "from observatorio_ipa.services.gee.processes.stats.cuencas.year import sca_y_t_elev_bna\n",
    "reload(sca_y_t_elev_bna)"
   ]
  },
  {
   "cell_type": "code",
   "execution_count": 10,
   "id": "8461d386",
   "metadata": {},
   "outputs": [
    {
     "name": "stdout",
     "output_type": "stream",
     "text": [
      "Processing basin: 010, Table Name: MCD_SCA_y_t_elev_BNA_010\n",
      "Processing basin: 023, Table Name: MCD_SCA_y_t_elev_BNA_023\n",
      "Processing basin: 024, Table Name: MCD_SCA_y_t_elev_BNA_024\n",
      "Number of Export Tasks 3\n"
     ]
    }
   ],
   "source": [
    "sca_y_t_elev_bna_tasks = sca_y_t_elev_bna.SCA_y_t_elev_BNA(\n",
    "    ee_icollection=ee_yearly_ic,\n",
    "    ee_fcollection=ee_basins_bna_fc,\n",
    "    property=CUENCA_PROPERTY_NAME,\n",
    "    ee_dem_img=ee_dem_img,\n",
    "    export_target=\"gee_assets\",  # Options: \"gdrive\" or \"gee_assets\n",
    "    img_prefix=SCA_Y_T_ELEV_BNA_TBL_PREFIX,\n",
    "    export_path=ASSETS_YEAR_TBL_EXPORT_PATH,\n",
    "    max_exports=3,  # Limit to 1 export task for testing\n",
    ")\n",
    "print(\"Number of Export Tasks\", len(sca_y_t_elev_bna_tasks))"
   ]
  },
  {
   "cell_type": "code",
   "execution_count": 11,
   "id": "92465e3c",
   "metadata": {},
   "outputs": [],
   "source": [
    "for task in sca_y_t_elev_bna_tasks:\n",
    "    task.start()"
   ]
  },
  {
   "cell_type": "code",
   "execution_count": 13,
   "id": "fbb77788",
   "metadata": {},
   "outputs": [
    {
     "name": "stdout",
     "output_type": "stream",
     "text": [
      "Task status count: {'RUNNING': 1, 'COMPLETED': 2}\n"
     ]
    }
   ],
   "source": [
    "current_task_status = check_export_list_status(sca_y_t_elev_bna_tasks)"
   ]
  },
  {
   "cell_type": "markdown",
   "id": "14d23a90",
   "metadata": {},
   "source": [
    "#### Manual step-by-step Run"
   ]
  },
  {
   "cell_type": "code",
   "execution_count": 14,
   "id": "2a418e7d",
   "metadata": {},
   "outputs": [],
   "source": [
    "ee_icollection=ee_yearly_ic\n",
    "ee_fcollection=ee_basins_bna_fc\n",
    "property=CUENCA_PROPERTY_NAME\n",
    "ee_dem_img=ee_dem_img\n",
    "export_target=\"gee_assets\"  # Options: \"gdrive\" or \"gee_assets\n",
    "img_prefix=SCA_Y_T_ELEV_BNA_TBL_PREFIX\n",
    "export_path=ASSETS_YEAR_TBL_EXPORT_PATH\n",
    "max_exports=3  # Limit to 1 export task for testing"
   ]
  },
  {
   "cell_type": "code",
   "execution_count": 15,
   "id": "5111e84f",
   "metadata": {},
   "outputs": [
    {
     "name": "stdout",
     "output_type": "stream",
     "text": [
      "basin code: 023\n"
     ]
    }
   ],
   "source": [
    "basin_code_list = ee_fcollection.aggregate_array(property).getInfo()\n",
    "if basin_code_list is None:\n",
    "    basin_code_list = []\n",
    "else:\n",
    "    basin_code = basin_code_list[1]\n",
    "    print(f\"basin code: {basin_code}\")"
   ]
  },
  {
   "cell_type": "code",
   "execution_count": 16,
   "id": "11a8de1f",
   "metadata": {},
   "outputs": [
    {
     "name": "stdout",
     "output_type": "stream",
     "text": [
      "Table name: MCD_SCA_y_t_elev_BNA_023\n",
      "Exporting to gee_assets at projects/ee-observatorionieves/assets/Test/year_ee/MCD_SCA_y_t_elev_BNA_023\n"
     ]
    }
   ],
   "source": [
    "table_name = f\"{img_prefix}{basin_code}\"\n",
    "print(f\"Table name: {table_name}\")\n",
    "print(f\"Exporting to {export_target} at {export_path}/{table_name}\")"
   ]
  },
  {
   "cell_type": "code",
   "execution_count": 17,
   "id": "f2268dc3",
   "metadata": {},
   "outputs": [
    {
     "name": "stdout",
     "output_type": "stream",
     "text": [
      "Processing basin: 023, features: 29\n"
     ]
    }
   ],
   "source": [
    "ee_mean_slope_by_elev_fc = sca_y_t_elev_bna._ee_calc_year_trend_per_elev_basin(\n",
    "    basin_code, property, ee_fcollection, ee_icollection, ee_dem_img\n",
    ")\n",
    "print(\n",
    "    f\"Processing basin: {basin_code}, features: {ee_mean_slope_by_elev_fc.size().getInfo()}\"\n",
    ")"
   ]
  },
  {
   "cell_type": "code",
   "execution_count": 18,
   "id": "a7ff8a54",
   "metadata": {},
   "outputs": [],
   "source": [
    "# Remove geometry to reduce download of FeatureCollection\n",
    "ee_mean_slope_by_elev_patched_fc = ee_mean_slope_by_elev_fc.map(remove_geometry)\n",
    "mean_slope_by_elev_patched_fc = ee_mean_slope_by_elev_patched_fc.getInfo()"
   ]
  },
  {
   "cell_type": "code",
   "execution_count": 19,
   "id": "9750fcb9",
   "metadata": {},
   "outputs": [
    {
     "name": "stdout",
     "output_type": "stream",
     "text": [
      "{'Elevation': 3400, 'Tendencia': 0.04092644634863876}\n",
      "{'Elevation': 3500, 'Tendencia': 0.1440147754427799}\n",
      "{'Elevation': 3600, 'Tendencia': 0}\n",
      "{'Elevation': 3700, 'Tendencia': 0}\n",
      "{'Elevation': 3800, 'Tendencia': 0}\n",
      "{'Elevation': 3900, 'Tendencia': 0}\n",
      "{'Elevation': 4000, 'Tendencia': 0}\n",
      "{'Elevation': 4100, 'Tendencia': 0}\n",
      "{'Elevation': 4200, 'Tendencia': 0.013900360912896573}\n",
      "{'Elevation': 4300, 'Tendencia': 0.004263422569860517}\n",
      "{'Elevation': 4400, 'Tendencia': 4.933789034857027e-05}\n",
      "{'Elevation': 4500, 'Tendencia': 0}\n",
      "{'Elevation': 4600, 'Tendencia': 0}\n",
      "{'Elevation': 4700, 'Tendencia': 0}\n",
      "{'Elevation': 4800, 'Tendencia': 0}\n",
      "{'Elevation': 4900, 'Tendencia': 0}\n",
      "{'Elevation': 5000, 'Tendencia': 0}\n",
      "{'Elevation': 5100, 'Tendencia': 0}\n",
      "{'Elevation': 5200, 'Tendencia': 0}\n",
      "{'Elevation': 5300, 'Tendencia': 0}\n",
      "{'Elevation': 5400, 'Tendencia': 0}\n",
      "{'Elevation': 5500, 'Tendencia': 0}\n",
      "{'Elevation': 5600, 'Tendencia': 0}\n",
      "{'Elevation': 5700, 'Tendencia': 0}\n",
      "{'Elevation': 5800, 'Tendencia': 0}\n",
      "{'Elevation': 5900, 'Tendencia': 0}\n",
      "{'Elevation': 6000, 'Tendencia': 0}\n",
      "{'Elevation': 6100, 'Tendencia': 0}\n",
      "{'Elevation': 6200, 'Tendencia': 0}\n"
     ]
    }
   ],
   "source": [
    "print_fc_properties(\n",
    "    mean_slope_by_elev_patched_fc, \n",
    "    select_properties=[\"Elevation\", \"Tendencia\"]\n",
    ")   "
   ]
  },
  {
   "cell_type": "markdown",
   "id": "f7b5836b",
   "metadata": {},
   "source": [
    "### 5.5 Yearly average of Snowline elevation per basin"
   ]
  },
  {
   "cell_type": "code",
   "execution_count": 9,
   "id": "ad521838",
   "metadata": {},
   "outputs": [
    {
     "data": {
      "text/plain": [
       "<module 'observatorio_ipa.services.gee.processes.stats.cuencas.year.snowline_y_bna' from 'C:\\\\Users\\\\erick\\\\Documents\\\\Projects\\\\teleamb\\\\observatorio_ipa\\\\src\\\\observatorio_ipa\\\\services\\\\gee\\\\processes\\\\stats\\\\cuencas\\\\year\\\\snowline_y_bna.py'>"
      ]
     },
     "execution_count": 9,
     "metadata": {},
     "output_type": "execute_result"
    }
   ],
   "source": [
    "from observatorio_ipa.services.gee.processes.stats.cuencas.year import snowline_y_bna\n",
    "reload(snowline_y_bna)"
   ]
  },
  {
   "cell_type": "code",
   "execution_count": 10,
   "id": "613ee8c6",
   "metadata": {},
   "outputs": [],
   "source": [
    "snowline_y_bna_obj = snowline_y_bna.Snowline_Y_BNA(\n",
    "    ee_icollection=ee_monthly_ic,\n",
    "    ee_basins_fc=ee_basins_bna_fc,\n",
    "    basins_cd_property=CUENCA_PROPERTY_NAME,\n",
    "    ee_dem_img=ee_dem_img,\n",
    "    export_target=\"gee_assets\",  # Options: \"gdrive\" or \"gee_assets\n",
    "    img_prefix=SNOWLINE_Y_BNA_TBL_PREFIX,\n",
    "    export_path=ASSETS_YEAR_TBL_EXPORT_PATH,\n",
    "    basin_codes=['030']\n",
    "    # max_exports=3,  # Limit export task for testing\n",
    ")"
   ]
  },
  {
   "cell_type": "code",
   "execution_count": 11,
   "id": "b457168b",
   "metadata": {},
   "outputs": [
    {
     "name": "stdout",
     "output_type": "stream",
     "text": [
      "Processing basin: 030, Table Name: MCD_snowline_y_BNA_030\n"
     ]
    }
   ],
   "source": [
    "snowline_y_bna_obj.calc_stats()"
   ]
  },
  {
   "cell_type": "code",
   "execution_count": 12,
   "id": "2d9051a2",
   "metadata": {},
   "outputs": [
    {
     "name": "stdout",
     "output_type": "stream",
     "text": [
      "Exporting Table: MCD_snowline_y_BNA_030\n"
     ]
    }
   ],
   "source": [
    "snowline_y_bna_tasks = snowline_y_bna_obj.make_exports()"
   ]
  },
  {
   "cell_type": "code",
   "execution_count": 13,
   "id": "8486d52d",
   "metadata": {},
   "outputs": [],
   "source": [
    "snowline_y_bna_obj.start_exports()"
   ]
  },
  {
   "cell_type": "code",
   "execution_count": 14,
   "id": "36f88c53",
   "metadata": {},
   "outputs": [
    {
     "name": "stdout",
     "output_type": "stream",
     "text": [
      "Task status count: {'RUNNING': 1}\n"
     ]
    }
   ],
   "source": [
    "current_task_status=snowline_y_bna_obj.get_task_status()"
   ]
  },
  {
   "cell_type": "code",
   "execution_count": 15,
   "id": "70f91823",
   "metadata": {},
   "outputs": [],
   "source": [
    "ee_y_snowline_per_basin_fc = snowline_y_bna_obj.basin_stats['030']"
   ]
  },
  {
   "cell_type": "code",
   "execution_count": 16,
   "id": "b3f56fff",
   "metadata": {},
   "outputs": [],
   "source": [
    "ee_y_snowline_per_basin_patched_fc = ee_y_snowline_per_basin_fc.map(remove_geometry)\n",
    "ee_y_snowline_per_basin_patched = ee_y_snowline_per_basin_patched_fc.getInfo()"
   ]
  },
  {
   "cell_type": "code",
   "execution_count": 17,
   "id": "d2db50d9",
   "metadata": {},
   "outputs": [
    {
     "name": "stdout",
     "output_type": "stream",
     "text": [
      "{'Year': 2000, 'Snowline_elev': '4429.23'}\n",
      "{'Year': 2001, 'Snowline_elev': '4559.00'}\n",
      "{'Year': 2002, 'Snowline_elev': '4352.88'}\n",
      "{'Year': 2003, 'Snowline_elev': '4383.23'}\n",
      "{'Year': 2004, 'Snowline_elev': '4403.90'}\n",
      "{'Year': 2005, 'Snowline_elev': '4358.39'}\n",
      "{'Year': 2006, 'Snowline_elev': '4403.57'}\n",
      "{'Year': 2007, 'Snowline_elev': '4322.93'}\n",
      "{'Year': 2008, 'Snowline_elev': '4472.68'}\n",
      "{'Year': 2009, 'Snowline_elev': '4444.87'}\n",
      "{'Year': 2010, 'Snowline_elev': '4455.93'}\n",
      "{'Year': 2011, 'Snowline_elev': '4464.39'}\n",
      "{'Year': 2012, 'Snowline_elev': '4492.61'}\n",
      "{'Year': 2013, 'Snowline_elev': '4406.98'}\n",
      "{'Year': 2014, 'Snowline_elev': '4470.58'}\n",
      "{'Year': 2015, 'Snowline_elev': '4238.21'}\n",
      "{'Year': 2016, 'Snowline_elev': '4344.56'}\n",
      "{'Year': 2017, 'Snowline_elev': '4407.58'}\n",
      "{'Year': 2018, 'Snowline_elev': '4459.91'}\n",
      "{'Year': 2019, 'Snowline_elev': '4477.69'}\n",
      "{'Year': 2020, 'Snowline_elev': '4647.76'}\n",
      "{'Year': 2021, 'Snowline_elev': '4417.45'}\n",
      "{'Year': 2022, 'Snowline_elev': '4456.94'}\n",
      "{'Year': 2023, 'Snowline_elev': '4634.63'}\n",
      "{'Year': 2024, 'Snowline_elev': '4500.76'}\n"
     ]
    }
   ],
   "source": [
    "print_fc_properties(ee_y_snowline_per_basin_patched, [\"Year\", \"Snowline_elev\"])"
   ]
  },
  {
   "cell_type": "markdown",
   "id": "baa6675d",
   "metadata": {},
   "source": [
    "#### Manual step-by-step Run"
   ]
  },
  {
   "cell_type": "code",
   "execution_count": 256,
   "id": "3c5f6474",
   "metadata": {},
   "outputs": [],
   "source": [
    "ee_icollection=ee_monthly_ic\n",
    "ee_fcollection=ee_basins_bna_fc\n",
    "property=CUENCA_PROPERTY_NAME\n",
    "ee_dem_img=ee_dem_img\n",
    "export_target=\"gee_assets\"  # Options: \"gdrive\" or \"gee_assets\n",
    "img_prefix=SNOWLINE_Y_BNA_TBL_PREFIX\n",
    "export_path=ASSETS_YEAR_TBL_EXPORT_PATH\n",
    "max_exports=3  # Limit export task for testing"
   ]
  },
  {
   "cell_type": "code",
   "execution_count": 257,
   "id": "8da63aee",
   "metadata": {},
   "outputs": [
    {
     "name": "stdout",
     "output_type": "stream",
     "text": [
      "basin code: 023\n"
     ]
    }
   ],
   "source": [
    "basin_code_list = ee_fcollection.aggregate_array(property).getInfo()\n",
    "if basin_code_list is None:\n",
    "    basin_code_list = []\n",
    "else:\n",
    "    basin_code = basin_code_list[1]\n",
    "    print(f\"basin code: {basin_code}\")"
   ]
  },
  {
   "cell_type": "code",
   "execution_count": 258,
   "id": "1593661f",
   "metadata": {},
   "outputs": [
    {
     "name": "stdout",
     "output_type": "stream",
     "text": [
      "Table name: MCD_snowline_y_BNA_023\n",
      "Exporting to gee_assets at projects/ee-observatorionieves/assets/Test/year_ee/MCD_snowline_y_BNA_023\n"
     ]
    }
   ],
   "source": [
    "table_name = f\"{img_prefix}{basin_code}\"\n",
    "print(f\"Table name: {table_name}\")\n",
    "print(f\"Exporting to {export_target} at {export_path}/{table_name}\")"
   ]
  },
  {
   "cell_type": "code",
   "execution_count": 259,
   "id": "0db21e25",
   "metadata": {},
   "outputs": [],
   "source": [
    "ee_y_snowline_per_basin_fc = snowline_y_bna._ee_calc_y_snowline_per_basin(\n",
    "    basin_code, property, ee_fcollection, ee_icollection, ee_dem_img\n",
    ")"
   ]
  },
  {
   "cell_type": "code",
   "execution_count": 260,
   "id": "68b24ac6",
   "metadata": {},
   "outputs": [],
   "source": [
    "ee_y_snowline_per_basin_patched_fc = ee_y_snowline_per_basin_fc.map(remove_geometry)\n",
    "ee_y_snowline_per_basin_patched = ee_y_snowline_per_basin_patched_fc.getInfo()"
   ]
  },
  {
   "cell_type": "code",
   "execution_count": 261,
   "id": "55cae763",
   "metadata": {},
   "outputs": [
    {
     "name": "stdout",
     "output_type": "stream",
     "text": [
      "{'Year': 2000, 'Snowline_elev': '4429.00'}\n",
      "{'Year': 2001, 'Snowline_elev': '4664.16'}\n",
      "{'Year': 2002, 'Snowline_elev': '4431.55'}\n",
      "{'Year': 2003, 'Snowline_elev': '4487.74'}\n",
      "{'Year': 2004, 'Snowline_elev': '4396.55'}\n",
      "{'Year': 2005, 'Snowline_elev': '4350.03'}\n",
      "{'Year': 2006, 'Snowline_elev': '4407.03'}\n",
      "{'Year': 2007, 'Snowline_elev': '4420.44'}\n",
      "{'Year': 2008, 'Snowline_elev': '4450.54'}\n",
      "{'Year': 2009, 'Snowline_elev': '4506.65'}\n",
      "{'Year': 2010, 'Snowline_elev': '4436.59'}\n",
      "{'Year': 2011, 'Snowline_elev': '4477.93'}\n",
      "{'Year': 2012, 'Snowline_elev': '4447.89'}\n",
      "{'Year': 2013, 'Snowline_elev': '4353.25'}\n",
      "{'Year': 2014, 'Snowline_elev': '4377.06'}\n",
      "{'Year': 2015, 'Snowline_elev': '4398.72'}\n",
      "{'Year': 2016, 'Snowline_elev': '4569.33'}\n",
      "{'Year': 2017, 'Snowline_elev': '4410.85'}\n",
      "{'Year': 2018, 'Snowline_elev': '4367.57'}\n",
      "{'Year': 2019, 'Snowline_elev': '4450.23'}\n",
      "{'Year': 2020, 'Snowline_elev': '4512.33'}\n",
      "{'Year': 2021, 'Snowline_elev': '4386.02'}\n",
      "{'Year': 2022, 'Snowline_elev': '4489.59'}\n",
      "{'Year': 2023, 'Snowline_elev': '4711.21'}\n",
      "{'Year': 2024, 'Snowline_elev': '4614.39'}\n"
     ]
    }
   ],
   "source": [
    "print_fc_properties(ee_y_snowline_per_basin_patched, [\"Year\", \"Snowline_elev\"])\n"
   ]
  },
  {
   "cell_type": "markdown",
   "id": "ff0abf38",
   "metadata": {},
   "source": [
    "#### Code Breakdown (Debugging)"
   ]
  },
  {
   "cell_type": "code",
   "execution_count": 29,
   "id": "e7d3b36e",
   "metadata": {},
   "outputs": [],
   "source": [
    "cuenca = basin_code\n",
    "ee_basin_fc = ee_fcollection.filter(ee.filter.Filter.eq(property, cuenca))"
   ]
  },
  {
   "cell_type": "code",
   "execution_count": null,
   "id": "6f41d8f9",
   "metadata": {},
   "outputs": [],
   "source": [
    "from observatorio_ipa.services.gee.processes.stats import common\n",
    "reload(common)"
   ]
  },
  {
   "cell_type": "code",
   "execution_count": 32,
   "id": "46106169",
   "metadata": {},
   "outputs": [],
   "source": [
    "ee_TACbyYearMonth_ic = (\n",
    "    ee_icollection.map(\n",
    "        lambda ee_image: common._ee_correct_CCI_band(ee_image, \"Cloud_TAC\", \"CCI\")\n",
    "    )\n",
    "    .map(\n",
    "        lambda ee_image: common._ee_correct_SCI_band(\n",
    "            ee_image, \"Snow_TAC\", \"Cloud_TAC\", \"SCI\"\n",
    "        )\n",
    "    )\n",
    "    .select([\"SCI\", \"CCI\"])\n",
    ")"
   ]
  },
  {
   "cell_type": "code",
   "execution_count": 33,
   "id": "8cf73067",
   "metadata": {},
   "outputs": [
    {
     "name": "stdout",
     "output_type": "stream",
     "text": [
      "<class 'ee.imagecollection.ImageCollection'>\n",
      "['SCI', 'CCI']\n"
     ]
    }
   ],
   "source": [
    "print(type(ee_TACbyYearMonth_ic))\n",
    "print(ee_TACbyYearMonth_ic.first().bandNames().getInfo())"
   ]
  },
  {
   "cell_type": "code",
   "execution_count": 37,
   "id": "77b770b8",
   "metadata": {},
   "outputs": [],
   "source": [
    "snowline_threshold = 5\n",
    "\n",
    "ee_snowline_elev_ic = ee_TACbyYearMonth_ic.map(\n",
    "    lambda ee_image: snowline_y_bna._ee_calc_snowline_elev(\n",
    "        ee_image,\n",
    "        ee_basin_fc,\n",
    "        ee_dem_img,\n",
    "        band=\"SCI\",\n",
    "        snowline_threshold=snowline_threshold,\n",
    "    )\n",
    ")"
   ]
  },
  {
   "cell_type": "code",
   "execution_count": 38,
   "id": "079a3d08",
   "metadata": {},
   "outputs": [
    {
     "name": "stdout",
     "output_type": "stream",
     "text": [
      "<class 'ee.imagecollection.ImageCollection'>\n",
      "['SCI', 'CCI', 'Snowline_elev']\n"
     ]
    }
   ],
   "source": [
    "print(type(ee_snowline_elev_ic))\n",
    "print(ee_snowline_elev_ic.first().bandNames().getInfo())"
   ]
  },
  {
   "cell_type": "markdown",
   "id": "5f38e6e0",
   "metadata": {},
   "source": [
    "## 6. Year-Month statistics per BNA basin"
   ]
  },
  {
   "cell_type": "markdown",
   "id": "3277dca1",
   "metadata": {},
   "source": [
    "### 6.1 Monthly (Year-Month) average of SCA and CCA for all months per basin\n",
    "- Results from this and 6.2 are the same except this has properties for Year and Month."
   ]
  },
  {
   "cell_type": "code",
   "execution_count": 23,
   "id": "d37f210f",
   "metadata": {},
   "outputs": [
    {
     "data": {
      "text/plain": [
       "<module 'observatorio_ipa.services.gee.processes.stats.basins.year_month.sca_y_m_bna' from 'C:\\\\Users\\\\erick\\\\Documents\\\\Projects\\\\teleamb\\\\observatorio_ipa\\\\src\\\\observatorio_ipa\\\\services\\\\gee\\\\processes\\\\stats\\\\basins\\\\year_month\\\\sca_y_m_bna.py'>"
      ]
     },
     "execution_count": 23,
     "metadata": {},
     "output_type": "execute_result"
    }
   ],
   "source": [
    "from observatorio_ipa.services.gee.processes.stats.basins.year_month import sca_y_m_bna\n",
    "reload(sca_y_m_bna)"
   ]
  },
  {
   "cell_type": "code",
   "execution_count": 26,
   "id": "328db875",
   "metadata": {},
   "outputs": [
    {
     "name": "stdout",
     "output_type": "stream",
     "text": [
      "Processing basin: 010, Table Name: MCD_SCA_y_m_BNA_010\n",
      "Processing basin: 023, Table Name: MCD_SCA_y_m_BNA_023\n",
      "Processing basin: 024, Table Name: MCD_SCA_y_m_BNA_024\n"
     ]
    }
   ],
   "source": [
    "monthly_means = sca_y_m_bna.SCA_Y_M_BNA(\n",
    "    ee_icollection=ee_monthly_ic,\n",
    "    ee_basins_fc=ee_basins_bna_fc,\n",
    "    basins_cd_property=CUENCA_PROPERTY_NAME,\n",
    "    export_target=\"gee_assets\",  # Options: \"gdrive\" or \"gee_assets\n",
    "    table_prefix=SCA_Y_M_BNA_TBL_PREFIX,\n",
    "    export_path=ASSETS_YEAR_MONTH_TBL_EXPORT_PATH,\n",
    "    max_exports=3,  # Limit export tasks for testing\n",
    "    basin_codes=['010','023', '024']  # Specify basin codes to process\n",
    ")\n",
    "monthly_means.calc_stats()"
   ]
  },
  {
   "cell_type": "code",
   "execution_count": 27,
   "id": "3172af2b",
   "metadata": {},
   "outputs": [],
   "source": [
    "basin_stats_item = monthly_means.get_stats_item(\"023\")\n",
    "if basin_stats_item is not None:\n",
    "    ee_stats_fc = basin_stats_item[\"ee_stats_fc\"]\n",
    "    ee_stats_patched_fc = ee_stats_fc.map(remove_geometry)\n",
    "    stats_patched_fc = ee_stats_patched_fc.getInfo()"
   ]
  },
  {
   "cell_type": "code",
   "execution_count": 28,
   "id": "25e3d24a",
   "metadata": {},
   "outputs": [
    {
     "name": "stdout",
     "output_type": "stream",
     "text": [
      "{'Year': 2000, 'Month': 1, 'SCA': '0.00', 'CCA': None}\n",
      "{'Year': 2000, 'Month': 2, 'SCA': '0.52', 'CCA': '1.04'}\n",
      "{'Year': 2000, 'Month': 3, 'SCA': '0.41', 'CCA': '1.65'}\n",
      "{'Year': 2000, 'Month': 4, 'SCA': '0.44', 'CCA': '15.40'}\n",
      "{'Year': 2000, 'Month': 5, 'SCA': '6.23', 'CCA': '7.63'}\n",
      "{'Year': 2000, 'Month': 6, 'SCA': '12.29', 'CCA': '6.63'}\n",
      "{'Year': 2000, 'Month': 7, 'SCA': '4.12', 'CCA': '3.45'}\n",
      "{'Year': 2000, 'Month': 8, 'SCA': '1.33', 'CCA': '6.17'}\n",
      "{'Year': 2000, 'Month': 9, 'SCA': '0.72', 'CCA': '0.97'}\n",
      "{'Year': 2000, 'Month': 10, 'SCA': '0.50', 'CCA': '2.78'}\n",
      "{'Year': 2000, 'Month': 11, 'SCA': '0.44', 'CCA': '0.02'}\n",
      "{'Year': 2000, 'Month': 12, 'SCA': '0.32', 'CCA': '0.54'}\n",
      "{'Year': 2001, 'Month': 1, 'SCA': '1.20', 'CCA': '5.28'}\n",
      "{'Year': 2001, 'Month': 2, 'SCA': '1.13', 'CCA': '5.29'}\n",
      "{'Year': 2001, 'Month': 3, 'SCA': '2.13', 'CCA': '1.24'}\n",
      "{'Year': 2001, 'Month': 4, 'SCA': '0.95', 'CCA': '0.12'}\n",
      "{'Year': 2001, 'Month': 5, 'SCA': '3.30', 'CCA': '3.40'}\n",
      "{'Year': 2001, 'Month': 6, 'SCA': '0.84', 'CCA': '0.08'}\n",
      "{'Year': 2001, 'Month': 7, 'SCA': '0.85', 'CCA': '0.03'}\n",
      "{'Year': 2001, 'Month': 8, 'SCA': '1.18', 'CCA': '0.21'}\n",
      "{'Year': 2001, 'Month': 9, 'SCA': '1.41', 'CCA': '0.73'}\n",
      "{'Year': 2001, 'Month': 10, 'SCA': '0.71', 'CCA': '0.06'}\n",
      "{'Year': 2001, 'Month': 11, 'SCA': '0.35', 'CCA': '0.00'}\n",
      "{'Year': 2001, 'Month': 12, 'SCA': '0.63', 'CCA': '3.20'}\n",
      "{'Year': 2002, 'Month': 1, 'SCA': '0.25', 'CCA': '0.00'}\n",
      "{'Year': 2002, 'Month': 2, 'SCA': '0.55', 'CCA': '3.95'}\n",
      "{'Year': 2002, 'Month': 3, 'SCA': '0.77', 'CCA': '6.03'}\n",
      "{'Year': 2002, 'Month': 4, 'SCA': '1.39', 'CCA': '0.44'}\n",
      "{'Year': 2002, 'Month': 5, 'SCA': '10.09', 'CCA': '4.11'}\n",
      "{'Year': 2002, 'Month': 6, 'SCA': '6.25', 'CCA': '3.51'}\n",
      "{'Year': 2002, 'Month': 7, 'SCA': '29.05', 'CCA': '12.41'}\n",
      "{'Year': 2002, 'Month': 8, 'SCA': '7.49', 'CCA': '0.02'}\n",
      "{'Year': 2002, 'Month': 9, 'SCA': '3.76', 'CCA': '0.00'}\n",
      "{'Year': 2002, 'Month': 10, 'SCA': '1.35', 'CCA': '2.96'}\n",
      "{'Year': 2002, 'Month': 11, 'SCA': '0.63', 'CCA': '0.11'}\n",
      "{'Year': 2002, 'Month': 12, 'SCA': '0.48', 'CCA': '2.05'}\n",
      "{'Year': 2003, 'Month': 1, 'SCA': '0.73', 'CCA': '5.03'}\n",
      "{'Year': 2003, 'Month': 2, 'SCA': '0.93', 'CCA': '0.02'}\n",
      "{'Year': 2003, 'Month': 3, 'SCA': '0.66', 'CCA': '0.01'}\n",
      "{'Year': 2003, 'Month': 4, 'SCA': '0.47', 'CCA': '0.00'}\n",
      "{'Year': 2003, 'Month': 5, 'SCA': '8.83', 'CCA': '1.42'}\n",
      "{'Year': 2003, 'Month': 6, 'SCA': '4.53', 'CCA': '0.01'}\n",
      "{'Year': 2003, 'Month': 7, 'SCA': '4.64', 'CCA': '2.37'}\n",
      "{'Year': 2003, 'Month': 8, 'SCA': '4.76', 'CCA': '0.29'}\n",
      "{'Year': 2003, 'Month': 9, 'SCA': '0.78', 'CCA': '0.03'}\n",
      "{'Year': 2003, 'Month': 10, 'SCA': '0.58', 'CCA': '0.00'}\n",
      "{'Year': 2003, 'Month': 11, 'SCA': '0.55', 'CCA': '0.00'}\n",
      "{'Year': 2003, 'Month': 12, 'SCA': '0.41', 'CCA': '2.85'}\n",
      "{'Year': 2004, 'Month': 1, 'SCA': '0.58', 'CCA': '1.94'}\n",
      "{'Year': 2004, 'Month': 2, 'SCA': '0.77', 'CCA': '1.09'}\n",
      "{'Year': 2004, 'Month': 3, 'SCA': '0.54', 'CCA': '0.01'}\n",
      "{'Year': 2004, 'Month': 4, 'SCA': '0.58', 'CCA': '0.01'}\n",
      "{'Year': 2004, 'Month': 5, 'SCA': '0.54', 'CCA': '0.01'}\n",
      "{'Year': 2004, 'Month': 6, 'SCA': '0.54', 'CCA': '0.18'}\n",
      "{'Year': 2004, 'Month': 7, 'SCA': '7.82', 'CCA': '2.38'}\n",
      "{'Year': 2004, 'Month': 8, 'SCA': '17.32', 'CCA': '12.73'}\n",
      "{'Year': 2004, 'Month': 9, 'SCA': '2.07', 'CCA': '0.00'}\n",
      "{'Year': 2004, 'Month': 10, 'SCA': '0.89', 'CCA': '0.01'}\n",
      "{'Year': 2004, 'Month': 11, 'SCA': '0.57', 'CCA': '0.00'}\n",
      "{'Year': 2004, 'Month': 12, 'SCA': '0.53', 'CCA': '0.03'}\n",
      "{'Year': 2005, 'Month': 1, 'SCA': '0.91', 'CCA': '0.83'}\n",
      "{'Year': 2005, 'Month': 2, 'SCA': '0.93', 'CCA': '13.42'}\n",
      "{'Year': 2005, 'Month': 3, 'SCA': '0.71', 'CCA': '0.01'}\n",
      "{'Year': 2005, 'Month': 4, 'SCA': '5.83', 'CCA': '1.25'}\n",
      "{'Year': 2005, 'Month': 5, 'SCA': '8.27', 'CCA': '0.15'}\n",
      "{'Year': 2005, 'Month': 6, 'SCA': '2.01', 'CCA': '0.00'}\n",
      "{'Year': 2005, 'Month': 7, 'SCA': '0.86', 'CCA': '0.00'}\n",
      "{'Year': 2005, 'Month': 8, 'SCA': '0.55', 'CCA': '0.00'}\n",
      "{'Year': 2005, 'Month': 9, 'SCA': '22.71', 'CCA': '5.05'}\n",
      "{'Year': 2005, 'Month': 10, 'SCA': '10.50', 'CCA': '0.02'}\n",
      "{'Year': 2005, 'Month': 11, 'SCA': '1.35', 'CCA': '1.29'}\n",
      "{'Year': 2005, 'Month': 12, 'SCA': '0.60', 'CCA': '0.39'}\n",
      "{'Year': 2006, 'Month': 1, 'SCA': '1.62', 'CCA': '0.72'}\n",
      "{'Year': 2006, 'Month': 2, 'SCA': '2.38', 'CCA': '0.09'}\n",
      "{'Year': 2006, 'Month': 3, 'SCA': '0.86', 'CCA': '0.02'}\n",
      "{'Year': 2006, 'Month': 4, 'SCA': '0.57', 'CCA': '0.04'}\n",
      "{'Year': 2006, 'Month': 5, 'SCA': '3.13', 'CCA': '0.43'}\n",
      "{'Year': 2006, 'Month': 6, 'SCA': '6.15', 'CCA': '0.89'}\n",
      "{'Year': 2006, 'Month': 7, 'SCA': '1.09', 'CCA': '0.05'}\n",
      "{'Year': 2006, 'Month': 8, 'SCA': '2.40', 'CCA': '0.48'}\n",
      "{'Year': 2006, 'Month': 9, 'SCA': '3.68', 'CCA': '0.09'}\n",
      "{'Year': 2006, 'Month': 10, 'SCA': '0.65', 'CCA': '0.00'}\n",
      "{'Year': 2006, 'Month': 11, 'SCA': '0.56', 'CCA': '0.01'}\n",
      "{'Year': 2006, 'Month': 12, 'SCA': '0.48', 'CCA': '0.32'}\n",
      "{'Year': 2007, 'Month': 1, 'SCA': '0.72', 'CCA': '1.45'}\n",
      "{'Year': 2007, 'Month': 2, 'SCA': '0.87', 'CCA': '0.10'}\n",
      "{'Year': 2007, 'Month': 3, 'SCA': '0.49', 'CCA': '0.27'}\n",
      "{'Year': 2007, 'Month': 4, 'SCA': '0.46', 'CCA': '0.10'}\n",
      "{'Year': 2007, 'Month': 5, 'SCA': '0.94', 'CCA': '0.36'}\n",
      "{'Year': 2007, 'Month': 6, 'SCA': '5.57', 'CCA': '10.66'}\n",
      "{'Year': 2007, 'Month': 7, 'SCA': '11.11', 'CCA': '3.65'}\n",
      "{'Year': 2007, 'Month': 8, 'SCA': '5.00', 'CCA': '0.58'}\n",
      "{'Year': 2007, 'Month': 9, 'SCA': '1.39', 'CCA': '0.33'}\n",
      "{'Year': 2007, 'Month': 10, 'SCA': '0.55', 'CCA': '0.00'}\n",
      "{'Year': 2007, 'Month': 11, 'SCA': '0.48', 'CCA': '0.73'}\n",
      "{'Year': 2007, 'Month': 12, 'SCA': '0.45', 'CCA': '0.01'}\n",
      "{'Year': 2008, 'Month': 1, 'SCA': '1.13', 'CCA': '3.76'}\n",
      "{'Year': 2008, 'Month': 2, 'SCA': '1.08', 'CCA': '0.02'}\n",
      "{'Year': 2008, 'Month': 3, 'SCA': '0.55', 'CCA': '0.00'}\n",
      "{'Year': 2008, 'Month': 4, 'SCA': '0.89', 'CCA': '0.00'}\n",
      "{'Year': 2008, 'Month': 5, 'SCA': '0.51', 'CCA': '0.00'}\n",
      "{'Year': 2008, 'Month': 6, 'SCA': '6.89', 'CCA': '2.72'}\n",
      "{'Year': 2008, 'Month': 7, 'SCA': '3.06', 'CCA': '0.00'}\n",
      "{'Year': 2008, 'Month': 8, 'SCA': '0.65', 'CCA': '0.00'}\n",
      "{'Year': 2008, 'Month': 9, 'SCA': '0.67', 'CCA': '0.02'}\n",
      "{'Year': 2008, 'Month': 10, 'SCA': '0.60', 'CCA': '0.00'}\n",
      "{'Year': 2008, 'Month': 11, 'SCA': '0.53', 'CCA': '0.00'}\n",
      "{'Year': 2008, 'Month': 12, 'SCA': '0.43', 'CCA': '0.28'}\n",
      "{'Year': 2009, 'Month': 1, 'SCA': '0.73', 'CCA': '0.01'}\n",
      "{'Year': 2009, 'Month': 2, 'SCA': '0.58', 'CCA': '0.22'}\n",
      "{'Year': 2009, 'Month': 3, 'SCA': '2.00', 'CCA': '0.38'}\n",
      "{'Year': 2009, 'Month': 4, 'SCA': '0.91', 'CCA': '0.00'}\n",
      "{'Year': 2009, 'Month': 5, 'SCA': '0.50', 'CCA': '0.17'}\n",
      "{'Year': 2009, 'Month': 6, 'SCA': '0.51', 'CCA': '0.00'}\n",
      "{'Year': 2009, 'Month': 7, 'SCA': '9.78', 'CCA': '7.75'}\n",
      "{'Year': 2009, 'Month': 8, 'SCA': '2.43', 'CCA': '0.00'}\n",
      "{'Year': 2009, 'Month': 9, 'SCA': '0.63', 'CCA': '0.42'}\n",
      "{'Year': 2009, 'Month': 10, 'SCA': '0.51', 'CCA': '0.09'}\n",
      "{'Year': 2009, 'Month': 11, 'SCA': '0.54', 'CCA': '0.01'}\n",
      "{'Year': 2009, 'Month': 12, 'SCA': '0.43', 'CCA': '0.43'}\n",
      "{'Year': 2010, 'Month': 1, 'SCA': '0.58', 'CCA': '0.29'}\n",
      "{'Year': 2010, 'Month': 2, 'SCA': '0.61', 'CCA': '0.30'}\n",
      "{'Year': 2010, 'Month': 3, 'SCA': '0.47', 'CCA': '0.00'}\n",
      "{'Year': 2010, 'Month': 4, 'SCA': '0.48', 'CCA': '3.30'}\n",
      "{'Year': 2010, 'Month': 5, 'SCA': '9.82', 'CCA': '6.88'}\n",
      "{'Year': 2010, 'Month': 6, 'SCA': '1.23', 'CCA': '0.01'}\n",
      "{'Year': 2010, 'Month': 7, 'SCA': '0.51', 'CCA': '0.01'}\n",
      "{'Year': 2010, 'Month': 8, 'SCA': '0.46', 'CCA': '0.03'}\n",
      "{'Year': 2010, 'Month': 9, 'SCA': '0.46', 'CCA': '0.06'}\n",
      "{'Year': 2010, 'Month': 10, 'SCA': '0.73', 'CCA': '0.07'}\n",
      "{'Year': 2010, 'Month': 11, 'SCA': '0.41', 'CCA': '0.00'}\n",
      "{'Year': 2010, 'Month': 12, 'SCA': '0.39', 'CCA': '0.00'}\n",
      "{'Year': 2011, 'Month': 1, 'SCA': '0.51', 'CCA': '2.39'}\n",
      "{'Year': 2011, 'Month': 2, 'SCA': '1.75', 'CCA': '2.43'}\n",
      "{'Year': 2011, 'Month': 3, 'SCA': '1.11', 'CCA': '0.19'}\n",
      "{'Year': 2011, 'Month': 4, 'SCA': '1.02', 'CCA': '0.13'}\n",
      "{'Year': 2011, 'Month': 5, 'SCA': '0.78', 'CCA': '0.07'}\n",
      "{'Year': 2011, 'Month': 6, 'SCA': '15.02', 'CCA': '8.16'}\n",
      "{'Year': 2011, 'Month': 7, 'SCA': '45.84', 'CCA': '10.60'}\n",
      "{'Year': 2011, 'Month': 8, 'SCA': '15.22', 'CCA': '0.03'}\n",
      "{'Year': 2011, 'Month': 9, 'SCA': '6.36', 'CCA': '0.00'}\n",
      "{'Year': 2011, 'Month': 10, 'SCA': '2.23', 'CCA': '0.15'}\n",
      "{'Year': 2011, 'Month': 11, 'SCA': '0.67', 'CCA': '0.00'}\n",
      "{'Year': 2011, 'Month': 12, 'SCA': '0.70', 'CCA': '0.34'}\n",
      "{'Year': 2012, 'Month': 1, 'SCA': '1.78', 'CCA': '1.07'}\n",
      "{'Year': 2012, 'Month': 2, 'SCA': '3.16', 'CCA': '3.78'}\n",
      "{'Year': 2012, 'Month': 3, 'SCA': '2.08', 'CCA': '0.08'}\n",
      "{'Year': 2012, 'Month': 4, 'SCA': '3.57', 'CCA': '0.63'}\n",
      "{'Year': 2012, 'Month': 5, 'SCA': '1.54', 'CCA': '0.00'}\n",
      "{'Year': 2012, 'Month': 6, 'SCA': '4.58', 'CCA': '1.13'}\n",
      "{'Year': 2012, 'Month': 7, 'SCA': '10.08', 'CCA': '2.93'}\n",
      "{'Year': 2012, 'Month': 8, 'SCA': '3.02', 'CCA': '0.01'}\n",
      "{'Year': 2012, 'Month': 9, 'SCA': '0.90', 'CCA': '0.01'}\n",
      "{'Year': 2012, 'Month': 10, 'SCA': '0.77', 'CCA': '0.74'}\n",
      "{'Year': 2012, 'Month': 11, 'SCA': '0.47', 'CCA': '0.04'}\n",
      "{'Year': 2012, 'Month': 12, 'SCA': '0.62', 'CCA': '0.04'}\n",
      "{'Year': 2013, 'Month': 1, 'SCA': '1.01', 'CCA': '8.15'}\n",
      "{'Year': 2013, 'Month': 2, 'SCA': '1.74', 'CCA': '0.78'}\n",
      "{'Year': 2013, 'Month': 3, 'SCA': '0.47', 'CCA': '0.00'}\n",
      "{'Year': 2013, 'Month': 4, 'SCA': '0.43', 'CCA': '0.00'}\n",
      "{'Year': 2013, 'Month': 5, 'SCA': '11.34', 'CCA': '3.59'}\n",
      "{'Year': 2013, 'Month': 6, 'SCA': '32.51', 'CCA': '15.78'}\n",
      "{'Year': 2013, 'Month': 7, 'SCA': '17.91', 'CCA': '6.17'}\n",
      "{'Year': 2013, 'Month': 8, 'SCA': '11.25', 'CCA': '2.68'}\n",
      "{'Year': 2013, 'Month': 9, 'SCA': '11.69', 'CCA': '0.40'}\n",
      "{'Year': 2013, 'Month': 10, 'SCA': '3.14', 'CCA': '0.00'}\n",
      "{'Year': 2013, 'Month': 11, 'SCA': '0.62', 'CCA': '0.00'}\n",
      "{'Year': 2013, 'Month': 12, 'SCA': '0.54', 'CCA': '0.03'}\n",
      "{'Year': 2014, 'Month': 1, 'SCA': '1.51', 'CCA': '0.77'}\n",
      "{'Year': 2014, 'Month': 2, 'SCA': '0.62', 'CCA': '0.03'}\n",
      "{'Year': 2014, 'Month': 3, 'SCA': '0.52', 'CCA': '0.00'}\n",
      "{'Year': 2014, 'Month': 4, 'SCA': '0.68', 'CCA': '0.04'}\n",
      "{'Year': 2014, 'Month': 5, 'SCA': '6.75', 'CCA': '4.61'}\n",
      "{'Year': 2014, 'Month': 6, 'SCA': '5.60', 'CCA': '1.19'}\n",
      "{'Year': 2014, 'Month': 7, 'SCA': '1.46', 'CCA': '0.06'}\n",
      "{'Year': 2014, 'Month': 8, 'SCA': '1.14', 'CCA': '0.25'}\n",
      "{'Year': 2014, 'Month': 9, 'SCA': '2.37', 'CCA': '0.55'}\n",
      "{'Year': 2014, 'Month': 10, 'SCA': '0.64', 'CCA': '0.26'}\n",
      "{'Year': 2014, 'Month': 11, 'SCA': '0.57', 'CCA': '0.09'}\n",
      "{'Year': 2014, 'Month': 12, 'SCA': '0.43', 'CCA': '0.02'}\n",
      "{'Year': 2015, 'Month': 1, 'SCA': '0.70', 'CCA': '0.39'}\n",
      "{'Year': 2015, 'Month': 2, 'SCA': '1.15', 'CCA': '0.38'}\n",
      "{'Year': 2015, 'Month': 3, 'SCA': '5.50', 'CCA': '1.04'}\n",
      "{'Year': 2015, 'Month': 4, 'SCA': '7.47', 'CCA': '0.05'}\n",
      "{'Year': 2015, 'Month': 5, 'SCA': '7.49', 'CCA': '1.73'}\n",
      "{'Year': 2015, 'Month': 6, 'SCA': '5.59', 'CCA': '0.31'}\n",
      "{'Year': 2015, 'Month': 7, 'SCA': '4.42', 'CCA': '2.29'}\n",
      "{'Year': 2015, 'Month': 8, 'SCA': '5.55', 'CCA': '0.64'}\n",
      "{'Year': 2015, 'Month': 9, 'SCA': '2.14', 'CCA': '0.01'}\n",
      "{'Year': 2015, 'Month': 10, 'SCA': '3.02', 'CCA': '1.26'}\n",
      "{'Year': 2015, 'Month': 11, 'SCA': '1.70', 'CCA': '0.01'}\n",
      "{'Year': 2015, 'Month': 12, 'SCA': '0.85', 'CCA': '4.01'}\n",
      "{'Year': 2016, 'Month': 1, 'SCA': '0.66', 'CCA': '0.01'}\n",
      "{'Year': 2016, 'Month': 2, 'SCA': '0.76', 'CCA': '10.56'}\n",
      "{'Year': 2016, 'Month': 3, 'SCA': '0.57', 'CCA': '0.00'}\n",
      "{'Year': 2016, 'Month': 4, 'SCA': '2.05', 'CCA': '0.62'}\n",
      "{'Year': 2016, 'Month': 5, 'SCA': '1.71', 'CCA': '1.30'}\n",
      "{'Year': 2016, 'Month': 6, 'SCA': '0.65', 'CCA': '0.09'}\n",
      "{'Year': 2016, 'Month': 7, 'SCA': '8.49', 'CCA': '6.51'}\n",
      "{'Year': 2016, 'Month': 8, 'SCA': '0.81', 'CCA': '0.04'}\n",
      "{'Year': 2016, 'Month': 9, 'SCA': '0.58', 'CCA': '0.00'}\n",
      "{'Year': 2016, 'Month': 10, 'SCA': '0.56', 'CCA': '0.00'}\n",
      "{'Year': 2016, 'Month': 11, 'SCA': '0.46', 'CCA': '0.10'}\n",
      "{'Year': 2016, 'Month': 12, 'SCA': '0.47', 'CCA': '0.05'}\n",
      "{'Year': 2017, 'Month': 1, 'SCA': '1.41', 'CCA': '0.57'}\n",
      "{'Year': 2017, 'Month': 2, 'SCA': '1.52', 'CCA': '12.47'}\n",
      "{'Year': 2017, 'Month': 3, 'SCA': '1.62', 'CCA': '0.02'}\n",
      "{'Year': 2017, 'Month': 4, 'SCA': '3.54', 'CCA': '0.44'}\n",
      "{'Year': 2017, 'Month': 5, 'SCA': '11.08', 'CCA': '11.85'}\n",
      "{'Year': 2017, 'Month': 6, 'SCA': '48.88', 'CCA': '12.34'}\n",
      "{'Year': 2017, 'Month': 7, 'SCA': '25.69', 'CCA': '0.02'}\n",
      "{'Year': 2017, 'Month': 8, 'SCA': '12.02', 'CCA': '0.01'}\n",
      "{'Year': 2017, 'Month': 9, 'SCA': '5.30', 'CCA': '0.00'}\n",
      "{'Year': 2017, 'Month': 10, 'SCA': '2.16', 'CCA': '0.00'}\n",
      "{'Year': 2017, 'Month': 11, 'SCA': '0.89', 'CCA': '0.00'}\n",
      "{'Year': 2017, 'Month': 12, 'SCA': '0.60', 'CCA': '0.68'}\n",
      "{'Year': 2018, 'Month': 1, 'SCA': '0.95', 'CCA': '2.38'}\n",
      "{'Year': 2018, 'Month': 2, 'SCA': '2.39', 'CCA': '2.84'}\n",
      "{'Year': 2018, 'Month': 3, 'SCA': '1.27', 'CCA': '0.03'}\n",
      "{'Year': 2018, 'Month': 4, 'SCA': '0.80', 'CCA': '0.00'}\n",
      "{'Year': 2018, 'Month': 5, 'SCA': '0.71', 'CCA': '0.05'}\n",
      "{'Year': 2018, 'Month': 6, 'SCA': '9.99', 'CCA': '3.02'}\n",
      "{'Year': 2018, 'Month': 7, 'SCA': '15.79', 'CCA': '4.62'}\n",
      "{'Year': 2018, 'Month': 8, 'SCA': '17.18', 'CCA': '1.00'}\n",
      "{'Year': 2018, 'Month': 9, 'SCA': '4.84', 'CCA': '0.00'}\n",
      "{'Year': 2018, 'Month': 10, 'SCA': '1.49', 'CCA': '0.90'}\n",
      "{'Year': 2018, 'Month': 11, 'SCA': '0.63', 'CCA': '0.00'}\n",
      "{'Year': 2018, 'Month': 12, 'SCA': '0.57', 'CCA': '1.07'}\n",
      "{'Year': 2019, 'Month': 1, 'SCA': '0.64', 'CCA': '3.45'}\n",
      "{'Year': 2019, 'Month': 2, 'SCA': '3.48', 'CCA': '11.99'}\n",
      "{'Year': 2019, 'Month': 3, 'SCA': '0.98', 'CCA': '0.00'}\n",
      "{'Year': 2019, 'Month': 4, 'SCA': '1.23', 'CCA': '0.04'}\n",
      "{'Year': 2019, 'Month': 5, 'SCA': '1.09', 'CCA': '0.89'}\n",
      "{'Year': 2019, 'Month': 6, 'SCA': '7.11', 'CCA': '2.73'}\n",
      "{'Year': 2019, 'Month': 7, 'SCA': '4.76', 'CCA': '1.64'}\n",
      "{'Year': 2019, 'Month': 8, 'SCA': '0.95', 'CCA': '0.00'}\n",
      "{'Year': 2019, 'Month': 9, 'SCA': '6.70', 'CCA': '1.32'}\n",
      "{'Year': 2019, 'Month': 10, 'SCA': '0.81', 'CCA': '0.17'}\n",
      "{'Year': 2019, 'Month': 11, 'SCA': '0.62', 'CCA': '0.74'}\n",
      "{'Year': 2019, 'Month': 12, 'SCA': '0.62', 'CCA': '1.47'}\n",
      "{'Year': 2020, 'Month': 1, 'SCA': '1.06', 'CCA': '2.69'}\n",
      "{'Year': 2020, 'Month': 2, 'SCA': '0.77', 'CCA': '0.35'}\n",
      "{'Year': 2020, 'Month': 3, 'SCA': '1.32', 'CCA': '1.02'}\n",
      "{'Year': 2020, 'Month': 4, 'SCA': '0.68', 'CCA': '0.01'}\n",
      "{'Year': 2020, 'Month': 5, 'SCA': '0.61', 'CCA': '0.32'}\n",
      "{'Year': 2020, 'Month': 6, 'SCA': '1.40', 'CCA': '0.14'}\n",
      "{'Year': 2020, 'Month': 7, 'SCA': '0.62', 'CCA': '0.00'}\n",
      "{'Year': 2020, 'Month': 8, 'SCA': '9.41', 'CCA': '4.93'}\n",
      "{'Year': 2020, 'Month': 9, 'SCA': '17.10', 'CCA': '0.45'}\n",
      "{'Year': 2020, 'Month': 10, 'SCA': '3.16', 'CCA': '0.10'}\n",
      "{'Year': 2020, 'Month': 11, 'SCA': '0.68', 'CCA': '0.00'}\n",
      "{'Year': 2020, 'Month': 12, 'SCA': '0.62', 'CCA': '0.16'}\n",
      "{'Year': 2021, 'Month': 1, 'SCA': '0.86', 'CCA': '2.71'}\n",
      "{'Year': 2021, 'Month': 2, 'SCA': '0.71', 'CCA': '0.01'}\n",
      "{'Year': 2021, 'Month': 3, 'SCA': '0.92', 'CCA': '0.01'}\n",
      "{'Year': 2021, 'Month': 4, 'SCA': '0.54', 'CCA': '0.00'}\n",
      "{'Year': 2021, 'Month': 5, 'SCA': '10.39', 'CCA': '5.39'}\n",
      "{'Year': 2021, 'Month': 6, 'SCA': '22.46', 'CCA': '3.28'}\n",
      "{'Year': 2021, 'Month': 7, 'SCA': '7.13', 'CCA': '2.68'}\n",
      "{'Year': 2021, 'Month': 8, 'SCA': '7.70', 'CCA': '0.87'}\n",
      "{'Year': 2021, 'Month': 9, 'SCA': '0.70', 'CCA': '0.02'}\n",
      "{'Year': 2021, 'Month': 10, 'SCA': '0.75', 'CCA': '0.34'}\n",
      "{'Year': 2021, 'Month': 11, 'SCA': '0.53', 'CCA': '0.00'}\n",
      "{'Year': 2021, 'Month': 12, 'SCA': '1.10', 'CCA': '10.60'}\n",
      "{'Year': 2022, 'Month': 1, 'SCA': '1.30', 'CCA': '0.83'}\n",
      "{'Year': 2022, 'Month': 2, 'SCA': '0.69', 'CCA': '0.10'}\n",
      "{'Year': 2022, 'Month': 3, 'SCA': '1.05', 'CCA': '0.08'}\n",
      "{'Year': 2022, 'Month': 4, 'SCA': '0.36', 'CCA': '1.01'}\n",
      "{'Year': 2022, 'Month': 5, 'SCA': '0.75', 'CCA': '0.00'}\n",
      "{'Year': 2022, 'Month': 6, 'SCA': '10.02', 'CCA': '1.48'}\n",
      "{'Year': 2022, 'Month': 7, 'SCA': '5.40', 'CCA': '1.93'}\n",
      "{'Year': 2022, 'Month': 8, 'SCA': '1.60', 'CCA': '0.01'}\n",
      "{'Year': 2022, 'Month': 9, 'SCA': '0.74', 'CCA': '0.01'}\n",
      "{'Year': 2022, 'Month': 10, 'SCA': '0.56', 'CCA': '0.01'}\n",
      "{'Year': 2022, 'Month': 11, 'SCA': '0.54', 'CCA': '0.01'}\n",
      "{'Year': 2022, 'Month': 12, 'SCA': '0.97', 'CCA': '0.19'}\n",
      "{'Year': 2023, 'Month': 1, 'SCA': '0.71', 'CCA': '0.11'}\n",
      "{'Year': 2023, 'Month': 2, 'SCA': '3.35', 'CCA': '1.32'}\n",
      "{'Year': 2023, 'Month': 3, 'SCA': '1.37', 'CCA': '0.45'}\n",
      "{'Year': 2023, 'Month': 4, 'SCA': '1.13', 'CCA': '0.01'}\n",
      "{'Year': 2023, 'Month': 5, 'SCA': '0.68', 'CCA': '0.16'}\n",
      "{'Year': 2023, 'Month': 6, 'SCA': '0.60', 'CCA': '0.03'}\n",
      "{'Year': 2023, 'Month': 7, 'SCA': '0.57', 'CCA': '0.01'}\n",
      "{'Year': 2023, 'Month': 8, 'SCA': '0.55', 'CCA': '3.26'}\n",
      "{'Year': 2023, 'Month': 9, 'SCA': '0.63', 'CCA': '0.00'}\n",
      "{'Year': 2023, 'Month': 10, 'SCA': '0.52', 'CCA': '0.02'}\n",
      "{'Year': 2023, 'Month': 11, 'SCA': '0.53', 'CCA': '0.07'}\n",
      "{'Year': 2023, 'Month': 12, 'SCA': '0.44', 'CCA': '0.20'}\n",
      "{'Year': 2024, 'Month': 1, 'SCA': '0.70', 'CCA': '0.01'}\n",
      "{'Year': 2024, 'Month': 2, 'SCA': '1.06', 'CCA': '1.83'}\n",
      "{'Year': 2024, 'Month': 3, 'SCA': '1.15', 'CCA': '0.31'}\n",
      "{'Year': 2024, 'Month': 4, 'SCA': '3.70', 'CCA': '0.81'}\n",
      "{'Year': 2024, 'Month': 5, 'SCA': '2.35', 'CCA': '1.61'}\n",
      "{'Year': 2024, 'Month': 6, 'SCA': '0.79', 'CCA': '0.27'}\n",
      "{'Year': 2024, 'Month': 7, 'SCA': '0.65', 'CCA': '0.40'}\n",
      "{'Year': 2024, 'Month': 8, 'SCA': '0.76', 'CCA': '0.07'}\n",
      "{'Year': 2024, 'Month': 9, 'SCA': '0.64', 'CCA': '0.00'}\n",
      "{'Year': 2024, 'Month': 10, 'SCA': '1.32', 'CCA': '0.78'}\n",
      "{'Year': 2024, 'Month': 11, 'SCA': '0.59', 'CCA': '0.00'}\n",
      "{'Year': 2024, 'Month': 12, 'SCA': '0.36', 'CCA': '0.00'}\n",
      "{'Year': 2025, 'Month': 1, 'SCA': '0.57', 'CCA': '0.16'}\n",
      "{'Year': 2025, 'Month': 2, 'SCA': '1.59', 'CCA': '2.34'}\n",
      "{'Year': 2025, 'Month': 3, 'SCA': '0.95', 'CCA': '0.82'}\n",
      "{'Year': 2025, 'Month': 4, 'SCA': '1.10', 'CCA': '0.42'}\n",
      "{'Year': 2025, 'Month': 5, 'SCA': '0.56', 'CCA': '0.00'}\n",
      "{'Year': 2025, 'Month': 6, 'SCA': '6.44', 'CCA': '9.47'}\n"
     ]
    }
   ],
   "source": [
    "print_fc_properties(\n",
    "    stats_patched_fc,\n",
    "    select_properties=monthly_means.bands_of_interest\n",
    ")"
   ]
  },
  {
   "cell_type": "markdown",
   "id": "4c7c5ca4",
   "metadata": {},
   "source": [
    "#### Manual step-by-step Run"
   ]
  },
  {
   "cell_type": "code",
   "execution_count": 127,
   "id": "341884e5",
   "metadata": {},
   "outputs": [],
   "source": [
    "ee_icollection=ee_monthly_ic\n",
    "ee_fcollection=ee_basins_bna_fc\n",
    "property=CUENCA_PROPERTY_NAME\n",
    "export_target=\"gee_assets\"  # Options: \"gdrive\" or \"gee_assets\n",
    "img_prefix=SCA_Y_M_BNA_TBL_PREFIX\n",
    "export_path=ASSETS_YEAR_MONTH_TBL_EXPORT_PATH\n",
    "max_exports=3  # Limit export tasks for testing"
   ]
  },
  {
   "cell_type": "code",
   "execution_count": 128,
   "id": "b56c5acb",
   "metadata": {},
   "outputs": [
    {
     "name": "stdout",
     "output_type": "stream",
     "text": [
      "basin code: 023\n"
     ]
    }
   ],
   "source": [
    "basin_code_list = ee_fcollection.aggregate_array(property).getInfo()\n",
    "if basin_code_list is None:\n",
    "    basin_code_list = []\n",
    "else:\n",
    "    basin_code = basin_code_list[1]\n",
    "    print(f\"basin code: {basin_code}\")"
   ]
  },
  {
   "cell_type": "code",
   "execution_count": 129,
   "id": "9cc6ac6f",
   "metadata": {},
   "outputs": [
    {
     "name": "stdout",
     "output_type": "stream",
     "text": [
      "Table name: MCD_SCA_y_m_BNA_023\n",
      "Exporting to gee_assets at projects/ee-observatorionieves/assets/Test/yearMonth_ee/MCD_SCA_y_m_BNA_023\n"
     ]
    }
   ],
   "source": [
    "table_name = f\"{img_prefix}{basin_code}\"\n",
    "print(f\"Table name: {table_name}\")\n",
    "print(f\"Exporting to {export_target} at {export_path}/{table_name}\")"
   ]
  },
  {
   "cell_type": "code",
   "execution_count": 130,
   "id": "9bce479d",
   "metadata": {},
   "outputs": [],
   "source": [
    "ee_YearMonth_means_per_basin_fc = sca_y_m_bna._calc_ym_means_per_basin(\n",
    "    basin_code, property, ee_fcollection, ee_icollection\n",
    ")"
   ]
  },
  {
   "cell_type": "code",
   "execution_count": 131,
   "id": "0f1fc9e8",
   "metadata": {},
   "outputs": [],
   "source": [
    "ee_YearMonth_means_per_basin_f = ee_YearMonth_means_per_basin_fc.first().getInfo()"
   ]
  },
  {
   "cell_type": "code",
   "execution_count": 144,
   "id": "c26084f5",
   "metadata": {},
   "outputs": [
    {
     "name": "stdout",
     "output_type": "stream",
     "text": [
      "{'type': 'Feature', 'geometry': {'type': 'Polygon', 'coordinates': [[[-68.11048373216012, -24.234621233215073], [-68.10558717244734, -24.236417163474535], [-68.09926645704562, -24.239105558687392], [-68.09588176712401, -24.245540909361246], [-68.09398792128532, -24.25130822731741], [-68.08646885830933, -24.265541491445084], [-68.0830413319512, -24.278440680623625], [-68.07400598449794, -24.299693291801574], [-68.0716958661518, -24.308627163665335], [-68.07277168937735, -24.31339007451153], [-68.0734855391068, -24.317478411440003], [-68.08234694825273, -24.32331062738469], [-68.08567849922508, -24.324007698964554], [-68.08997298566236, -24.3261808328645], [-68.09577951507283, -24.33662933483238], [-68.05776450276933, -24.32186005670655], [-67.96177235254278, -24.284519549002], [-67.91885701360579, -24.267799792131], [-67.89580536207025, -24.25881202025184], [-67.86091749200916, -24.245196148253186], [-67.83524379140854, -24.235171090005522], [-67.78341708972532, -24.214916383812387], [-67.76615014014186, -24.20816550118941], [-67.72557595772079, -24.1922856561232], [-67.72257736228966, -24.19111300511858], [-67.71272042764518, -24.187251245780384], [-67.6911444130103, -24.178797033710545], [-67.67796080210536, -24.173626940035227], [-67.67211140863193, -24.17133931732141], [-67.66089037662343, -24.166937946072327], [-67.63485038162209, -24.156724385587086], [-67.6267308067786, -24.153536222476202], [-67.61277920798437, -24.148057813018834], [-67.61131498717593, -24.14748424104406], [-67.56013604840251, -24.127385664010664], [-67.47644660350589, -24.094461910614527], [-67.38986821958149, -24.060342971760452], [-67.3372859654097, -24.039588269082824], [-67.32218526236564, -24.033623650634393], [-67.31274471515847, -24.003516216902835], [-67.31293530202633, -24.00349148567768], [-67.3090304604152, -23.991669281660347], [-67.2798664554739, -23.901199634463737], [-67.27720660180003, -23.892963005231397], [-67.26830155720208, -23.86539625872907], [-67.2626150373363, -23.847775529937874], [-67.26159959398278, -23.84462646843493], [-67.25554477971167, -23.825876320211268], [-67.25301401057995, -23.818026233187222], [-67.24449241972518, -23.79161460763681], [-67.23769878499336, -23.770560603423906], [-67.23539436606434, -23.763403087016634], [-67.23095884081978, -23.7496413468475], [-67.22930443432314, -23.74451275336274], [-67.21974982800596, -23.71486544442147], [-67.18983073104746, -23.62195711065496], [-67.15041858835748, -23.49935824850113], [-67.14976655500189, -23.497333519332937], [-67.14544034547593, -23.48384904458824], [-67.14334952429796, -23.47734735500952], [-67.14145453424807, -23.47144867882246], [-67.1343043553322, -23.449176558774827], [-67.11421981036966, -23.38657478057182], [-67.11016968265423, -23.37393994008534], [-67.10796576130954, -23.367069044437024], [-67.10766348732969, -23.366133092252035], [-67.10726821312035, -23.364904688618857], [-67.10690103008378, -23.363752757999226], [-67.10642684691791, -23.36227691894352], [-67.1010532130907, -23.345515667611977], [-67.08439624832745, -23.2935215001737], [-67.08126596102208, -23.283747918466748], [-67.07837740512912, -23.27473478031332], [-67.07632974074693, -23.26833606412966], [-67.07071684716318, -23.250800200755958], [-67.06694781841385, -23.239028528553145], [-67.06011686539377, -23.217671986417198], [-67.04365022529538, -23.166196716561444], [-67.02721817688914, -23.114778760983285], [-67.00192174672848, -23.035566015455856], [-67.00192129223782, -23.02016086040775], [-67.00191992876587, -23.003496260388488], [-67.0019184743958, -22.99273904631166], [-67.03622223442335, -22.95873104123423], [-67.04037155289278, -22.954613898817982], [-67.08894579386279, -22.906416271789965], [-67.12629548396721, -22.869311853137283], [-67.14507514690956, -22.850665185977913], [-67.15747888833033, -22.838258205647396], [-67.16113429382547, -22.83471438899185], [-67.17252435615087, -22.823397053103506], [-67.18161444990844, -22.814365664239766], [-67.19470283741907, -22.81736990492393], [-67.20675538007964, -22.82013280955662], [-67.22065503262183, -22.823323436589884], [-67.23339826811635, -22.826239998563572], [-67.24799358881424, -22.829583952976144], [-67.28092501605921, -22.836671341746897], [-67.35107400154718, -22.85174045474657], [-67.4161107974593, -22.86567948020054], [-67.41721577743816, -22.86591916097537], [-67.42619160725093, -22.867837270496224], [-67.43121049209127, -22.868908959034027], [-67.44279765856248, -22.871389803412594], [-67.52466154068829, -22.888215200054844], [-67.57002255468495, -22.89751985015667], [-67.58185271289474, -22.89668890691812], [-67.60657344662116, -22.894943910678215], [-67.63713829186067, -22.89279254879218], [-67.66445996042208, -22.890684189726368], [-67.72970616378315, -22.88562819908021], [-67.7344321546929, -22.88525792576866], [-67.79724258825718, -22.878329928892047], [-67.79877319205964, -22.877041312078905], [-67.79773987290412, -22.891089034664017], [-67.79809907859382, -22.898646386474944], [-67.791551612587, -22.906281295766195], [-67.78469936014987, -22.910022001112818], [-67.77735576549566, -22.914000694896682], [-67.77234450227563, -22.91691660811074], [-67.7672534809473, -22.92327490701062], [-67.76369159359102, -22.932823785514167], [-67.76342644660589, -22.940160952246128], [-67.7645328783964, -22.94839652904275], [-67.76332548155477, -22.958725808286424], [-67.74905681145111, -22.959380556078774], [-67.74127675984009, -22.959892810731223], [-67.73348919304986, -22.960696088295784], [-67.72631789873911, -22.96236921463743], [-67.7172614559143, -22.96575288420743], [-67.70822589043786, -22.967410026799033], [-67.70105397511746, -22.969077520434116], [-67.68641454172763, -22.970400454467672], [-67.67988359102615, -22.97034625683973], [-67.67429632207947, -22.968856019979032], [-67.66747254774312, -22.967072741685598], [-67.66222649109817, -22.96241977566862], [-67.6597836490371, -22.95779038763922], [-67.65796629998972, -22.952583424912767], [-67.65581051438244, -22.94539206247017], [-67.65301687462772, -22.939575999456757], [-67.64451947487136, -22.931527983801924], [-67.63544248209128, -22.925886612085105], [-67.627358921033, -22.92114988459921], [-67.62249727266983, -22.917077384038265], [-67.61452938078305, -22.911538521308188], [-67.61067705703245, -22.909169126300785], [-67.60387712466917, -22.90591300823906], [-67.60064420069648, -22.905942912704237], [-67.59522493559699, -22.906338847149748], [-67.5874772911369, -22.91147060678041], [-67.58301731698566, -22.91686903842748], [-67.58144835312059, -22.926717896628954], [-67.58208126807705, -22.936581969167573], [-67.58409233699915, -22.950789110035352], [-67.58164653123202, -22.962042278314254], [-67.57446075084015, -22.96909709050074], [-67.56958263753144, -22.97349590159266], [-67.56348129114339, -22.98319591032954], [-67.55851472453453, -22.985347498083726], [-67.55091962042827, -22.98651551555655], [-67.54333328969928, -22.98685391239691], [-67.53353273964757, -22.985526227657868], [-67.52123172475541, -22.987958191674224], [-67.51102672733516, -22.990861777340225], [-67.50406495549386, -22.992939017820312], [-67.49569932932354, -22.996710729334055], [-67.49197166101978, -22.99924401615078], [-67.48776937363029, -23.002203030595076], [-67.48349552857987, -23.005905442136733], [-67.47996715056222, -23.010058673865878], [-67.4712823885985, -23.01621536328591], [-67.46168500541246, -23.01907214174814], [-67.44549637855184, -23.018913889358096], [-67.4381018311411, -23.018419765792807], [-67.42791288501446, -23.01960095841176], [-67.4204936210709, -23.021235073586837], [-67.41351399405137, -23.02502045927284], [-67.40837405729587, -23.029254442870524], [-67.39947820680545, -23.038152770776485], [-67.39152642514854, -23.045773581672233], [-67.3839834508213, -23.051125303254807], [-67.37455664521194, -23.05436834188391], [-67.36923247108592, -23.056406921055665], [-67.36757948160243, -23.061316417450787], [-67.3549462604411, -23.063216070038084], [-67.34289641858516, -23.069670803416], [-67.33825710821925, -23.08173439938105], [-67.33572413682249, -23.10525081391601], [-67.34480034202086, -23.128194611668878], [-67.35849854076812, -23.140454573339763], [-67.36331416539366, -23.144660101658044], [-67.36325296741892, -23.152885241408843], [-67.35913270562503, -23.160023651551676], [-67.35105017734034, -23.166040168876325], [-67.3415716397496, -23.169213022453437], [-67.33274933974576, -23.166340580561194], [-67.32959141730218, -23.163353064232037], [-67.32212379392281, -23.16425984525209], [-67.31361063086644, -23.165415068180884], [-67.30585405923463, -23.15883650012109], [-67.29774729211584, -23.156238842471016], [-67.28693724629724, -23.15277772440858], [-67.27702820554484, -23.150159379439994], [-67.26256048268883, -23.150000536673623], [-67.25076365540238, -23.153218387876507], [-67.23989455710995, -23.154769312482713], [-67.22515388298297, -23.15801511593719], [-67.21607846640948, -23.159149739551687], [-67.2058315500859, -23.15979539159319], [-67.19474238679138, -23.162506000724722], [-67.18885954944764, -23.16701501784484], [-67.18102394525307, -23.174284803385063], [-67.17404692682513, -23.18074830785559], [-67.16805348408712, -23.18685984148245], [-67.16850751627442, -23.18948287353534], [-67.16865134469884, -23.190313777767184], [-67.16936648686672, -23.194409996952892], [-67.17209377830666, -23.207799175044986], [-67.17612663491671, -23.215788754157447], [-67.18105576612572, -23.226751475529564], [-67.18201348398054, -23.236251724506577], [-67.18341787797215, -23.240714520576127], [-67.18374236083393, -23.248271009205165], [-67.18433514012523, -23.258233256888243], [-67.18465807771223, -23.265906301046986], [-67.18728540457244, -23.281122880015243], [-67.1903018663115, -23.286258597084544], [-67.19862023346931, -23.289752011051533], [-67.21271806445208, -23.289998493178818], [-67.22112818330154, -23.289937242197922], [-67.23323733664664, -23.289397235518546], [-67.24437221983725, -23.289885372495092], [-67.25357419069218, -23.29497259354035], [-67.2583243233516, -23.29986648670763], [-67.25146476551522, -23.30598939578608], [-67.24434303363368, -23.31096597497681], [-67.23683938930537, -23.314682853448883], [-67.22936526071601, -23.32126838422259], [-67.22521843687736, -23.327254757886262], [-67.22873926730222, -23.33261070745493], [-67.23532835674786, -23.336118608621707], [-67.24558176597039, -23.33490259607118], [-67.25593638848444, -23.33150399219929], [-67.26173079778967, -23.32974410486269], [-67.26962469760721, -23.32739299311235], [-67.2778967282798, -23.326188724946434], [-67.28158750351068, -23.326426510418553], [-67.28928942888058, -23.328792398834484], [-67.29384050686602, -23.335408946621595], [-67.29559249355367, -23.343424748839762], [-67.29305253208798, -23.348816417322162], [-67.29112887958884, -23.35421929871087], [-67.29166489414133, -23.360509554926985], [-67.29499491918567, -23.36625209179897], [-67.30477992443232, -23.37492448773805], [-67.30993647257885, -23.38297710639781], [-67.31465649577221, -23.401016325975647], [-67.31777090973593, -23.409750467505965], [-67.32023609613768, -23.419925383140896], [-67.32613398074547, -23.427555112461267], [-67.33593309582582, -23.440654707424233], [-67.34343427798129, -23.44492567147661], [-67.34893282576385, -23.448919627083317], [-67.35218137307824, -23.456897029945832], [-67.35416878861372, -23.462364266252813], [-67.3529514779839, -23.469622111842412], [-67.34802168840667, -23.47372069625881], [-67.34590043264895, -23.48133193790315], [-67.34585269353015, -23.485159478667093], [-67.3458696068177, -23.490422193713982], [-67.34628270940149, -23.507554195775], [-67.35082066477874, -23.52019815026701], [-67.36473117680137, -23.534518625948238], [-67.37461611606199, -23.535608321673323], [-67.38759811416898, -23.545080535732716], [-67.39466442779316, -23.55174300242007], [-67.40146388744422, -23.562835630807538], [-67.40998445681434, -23.571233712294127], [-67.41321717531639, -23.57861810237618], [-67.41382454437135, -23.583519297673572], [-67.4129981078611, -23.59562273240544], [-67.41437944298241, -23.60775759878303], [-67.41446501488286, -23.615204025731007], [-67.41397086225214, -23.627153848556834], [-67.40972765118467, -23.636886790979585], [-67.40551009973802, -23.64444582052075], [-67.40359425122867, -23.656367523300094], [-67.40233105515237, -23.66341446299526], [-67.40632561852318, -23.674316701116872], [-67.41145908967488, -23.688489324818462], [-67.41296509770018, -23.698388678970904], [-67.41018424508611, -23.708947772333705], [-67.40684523014573, -23.716515710611194], [-67.40496930052231, -23.725452302630718], [-67.40575280927168, -23.733882944391276], [-67.4115434791799, -23.749034999129318], [-67.41036702819602, -23.754881548866205], [-67.40620267230015, -23.759728983610433], [-67.39854311209824, -23.76242888943208], [-67.39021395546999, -23.76134714520258], [-67.3866255639897, -23.76206278154577], [-67.38332862964853, -23.766784146501536], [-67.37930031929096, -23.7731158987652], [-67.37679980784128, -23.78230100721445], [-67.37425528991334, -23.787935420596014], [-67.37065649194071, -23.79918863184855], [-67.36826093708586, -23.8068863845389], [-67.36564160053987, -23.816872243764646], [-67.36657712263505, -23.82270477048446], [-67.36774834503196, -23.827620858897536], [-67.36918964136812, -23.834713818757756], [-67.3703428616485, -23.837567809364018], [-67.37056601291142, -23.846615556439914], [-67.36705534132012, -23.854547970937325], [-67.36056517025885, -23.86295958037602], [-67.35541037955826, -23.86861057143196], [-67.34849908063961, -23.872445158914058], [-67.33711619736974, -23.87677355527969], [-67.32674503044494, -23.88234909588817], [-67.32171533802912, -23.88833642689617], [-67.32127141975808, -23.89326652277035], [-67.32226546232152, -23.900099359416597], [-67.3241172464307, -23.906963974442018], [-67.32595784937173, -23.914715871089157], [-67.3294133758232, -23.922781191831778], [-67.33447656694148, -23.93175580121642], [-67.34152571944699, -23.93688363634764], [-67.3498950676592, -23.940245818991464], [-67.35567944870526, -23.943279579191216], [-67.36339727825039, -23.946934439825494], [-67.3678712870819, -23.951441897543166], [-67.37101968120353, -23.958611147751764], [-67.37932314382651, -23.96702715672166], [-67.38800013819423, -23.972170161405376], [-67.39475008916642, -23.975808821006783], [-67.39952603915269, -23.98210709911968], [-67.41389674846933, -23.99772047784774], [-67.42703587694771, -24.00855970523185], [-67.4381105612871, -24.016772616829027], [-67.44033902407995, -24.026611676016604], [-67.43924975494929, -24.040020693190076], [-67.44009621646536, -24.047115892866262], [-67.44292870221221, -24.05750799889384], [-67.44874419913758, -24.06546940099192], [-67.46215325964876, -24.068814198895492], [-67.4669905027839, -24.068862710664206], [-67.47317788378372, -24.068678106369617], [-67.4769355071525, -24.069208576284367], [-67.4798993077296, -24.06874502332007], [-67.49009259804724, -24.070818198461268], [-67.49520914518237, -24.07037560972963], [-67.49980096843149, -24.06844837839637], [-67.50413852908441, -24.06528147205924], [-67.50636265434882, -24.059126375186434], [-67.5083379601844, -24.05124765742318], [-67.50973713698068, -24.046321623177544], [-67.5109105004508, -24.037690835551878], [-67.51532540143107, -24.028105405383187], [-67.52049461516519, -24.02248061352182], [-67.52343814497077, -24.018560001632416], [-67.52700483958618, -24.01390110539589], [-67.5289975472845, -24.006882752612274], [-67.53321943099554, -24.000764256257707], [-67.5367851515561, -23.996105169325794], [-67.55210357023779, -23.984080525363773], [-67.56161986109292, -23.97987133642481], [-67.57018544320943, -23.978646917385266], [-67.58149028065813, -23.978083968347022], [-67.59007944942287, -23.979153800689073], [-67.59877644597002, -23.978843559119397], [-67.60736953831625, -23.980024469055305], [-67.61991861273316, -23.979452073147023], [-67.62875221509101, -23.98005575141643], [-67.63385827278486, -23.980697491965113], [-67.63960256286904, -23.982357849888206], [-67.64684014277299, -23.984470432234826], [-67.65177372247325, -23.986235232436147], [-67.65370839436265, -23.986924640150082], [-67.6598652346978, -23.991676391334483], [-67.66195099129465, -23.998992379816094], [-67.6620783269522, -24.008384674449537], [-67.66323007844426, -24.02017511269395], [-67.66197736796572, -24.036525897098276], [-67.66189214403356, -24.044755270992347], [-67.66422166048137, -24.05500951150078], [-67.66859956357692, -24.0584006747728], [-67.67800391475507, -24.060562109641378], [-67.68325238824272, -24.063377700015813], [-67.69265818937217, -24.075579499802927], [-67.69576815238175, -24.078483905415457], [-67.70268818676392, -24.0846302171446], [-67.70960724943238, -24.090453475531266], [-67.71480297762521, -24.09434337395261], [-67.72136681059867, -24.101126949042534], [-67.730037250144, -24.106327474275425], [-67.73558268319488, -24.110533358203984], [-67.74043466731169, -24.113778595851482], [-67.74672590317412, -24.11318930024841], [-67.75127511565424, -24.11194452098931], [-67.76273169801577, -24.118125264561666], [-67.77143126461382, -24.1210823350265], [-67.77607522832636, -24.126821631960354], [-67.78739170335245, -24.133627082954394], [-67.79423295917952, -24.141149553611456], [-67.79904516611913, -24.14789814136789], [-67.80526301287105, -24.15168103959861], [-67.80700547252927, -24.151327083983908], [-67.81187319766005, -24.151127461842265], [-67.8205638003606, -24.14798077490074], [-67.82343529779351, -24.14435842842071], [-67.82347350198097, -24.14018977965157], [-67.82521142942284, -24.1360341723491], [-67.82638748301957, -24.131878739138124], [-67.82903003581247, -24.126519633840754], [-67.83180576144257, -24.121529166618036], [-67.83456366210295, -24.118479483791507], [-67.84072667691204, -24.11532115708185], [-67.84871880236601, -24.109648070914513], [-67.85096241729863, -24.10451426014375], [-67.85026872933142, -24.09906685609205], [-67.84885288251071, -24.09191950883661], [-67.8456019416935, -24.083059392444813], [-67.84380459809691, -24.07658151370936], [-67.84388073433736, -24.068087149827214], [-67.84614462896769, -24.06334351276349], [-67.85396048725552, -24.058982072854935], [-67.85992089090276, -24.054611025608803], [-67.87364202494544, -24.051987056116285], [-67.89116467641053, -24.052285277527062], [-67.89217402656949, -24.052418112936174], [-67.90253162551403, -24.05431281562157], [-67.91158035981293, -24.058026524503717], [-67.91891241206358, -24.062763093516566], [-67.9234047854185, -24.068519545069282], [-67.9267555363624, -24.074796750794956], [-67.9323468021707, -24.084734109082802], [-67.93396419171991, -24.094639201243254], [-67.92934981301065, -24.103985174253932], [-67.9303919272113, -24.114930803778535], [-67.93884429342361, -24.122287905981317], [-67.95241951565434, -24.128110772460275], [-67.96316579749178, -24.13234429191454], [-67.97278438951652, -24.13657845757763], [-67.97843142539726, -24.140260927159133], [-67.98519574820067, -24.146039756025264], [-67.98855148922007, -24.152311213582536], [-67.99077403642654, -24.158575121793085], [-67.9958273538659, -24.165902253601196], [-68.00090060220829, -24.17010469727973], [-68.00769254074814, -24.17327367310123], [-68.0130728308467, -24.17513310330434], [-68.02175723777087, -24.180761355827382], [-68.03231255632318, -24.186593820883495], [-68.04083799948476, -24.19015781920553], [-68.0488559404511, -24.193036845524], [-68.06520090628352, -24.19811407244356], [-68.07211578832046, -24.201603739420776], [-68.07850314151074, -24.205098899060236], [-68.08564092806178, -24.21033769326642], [-68.09424800890852, -24.2207717623509], [-68.11048373216012, -24.234621233215073]]]}, 'id': 'Andes_MCDS4S5_Yearly_Monthly_2000_02_00000000000000000001', 'properties': {'CCA': '1.04', 'COD_CUEN': '023', 'Month': 2, 'SCA': '0.52', 'Year': 2000, 'date': {'type': 'Date', 'value': 949363200000}}}\n"
     ]
    }
   ],
   "source": [
    "print(ee_YearMonth_means_per_basin_f)"
   ]
  },
  {
   "cell_type": "code",
   "execution_count": 136,
   "id": "34f9c51a",
   "metadata": {},
   "outputs": [],
   "source": [
    "ee_jan2000_dummy_feature = ee.feature.Feature(ee.feature.Feature(None).set({\n",
    "    'COD_CUEN': basin_code,\n",
    "    'Year': 2000, \n",
    "    'Month': 1, \n",
    "    'SCA': \"0.00\", \n",
    "    'date': ee.ee_date.Date(\"2000-01-01\")}))\n",
    "\n",
    "ee_jan2000_dummy_feature = _ee_assign_dummy_geom(ee_jan2000_dummy_feature)"
   ]
  },
  {
   "cell_type": "code",
   "execution_count": 143,
   "id": "8bbc9940",
   "metadata": {},
   "outputs": [
    {
     "name": "stdout",
     "output_type": "stream",
     "text": [
      "{'type': 'Feature', 'geometry': {'type': 'Point', 'coordinates': [-9999, -9999]}, 'properties': {'COD_CUEN': '023', 'Month': 1, 'SCA': '0.00', 'Year': 2000, 'date': {'type': 'Date', 'value': 946684800000}, 'dummy_geom': True}}\n"
     ]
    }
   ],
   "source": [
    "jan2000_dummy_feature = ee_jan2000_dummy_feature.getInfo()\n",
    "print(jan2000_dummy_feature)"
   ]
  },
  {
   "cell_type": "code",
   "execution_count": 105,
   "id": "cc2dcc3d",
   "metadata": {},
   "outputs": [],
   "source": [
    "ee_YearMonth_means_per_basin_patched_fc = ee_YearMonth_means_per_basin_fc.map(remove_geometry)\n",
    "YearMonth_means_per_basin_patched_fc = ee_YearMonth_means_per_basin_patched_fc.getInfo()"
   ]
  },
  {
   "cell_type": "code",
   "execution_count": 106,
   "id": "70a02c64",
   "metadata": {},
   "outputs": [
    {
     "name": "stdout",
     "output_type": "stream",
     "text": [
      "{'Year': '2000', 'Month': '1', 'SCA': '0', 'CCA': None}\n",
      "{'Year': 2000, 'Month': 2, 'SCA': '0.52', 'CCA': '1.04'}\n",
      "{'Year': 2000, 'Month': 3, 'SCA': '0.41', 'CCA': '1.65'}\n",
      "{'Year': 2000, 'Month': 4, 'SCA': '0.44', 'CCA': '15.40'}\n",
      "{'Year': 2000, 'Month': 5, 'SCA': '6.23', 'CCA': '7.63'}\n",
      "{'Year': 2000, 'Month': 6, 'SCA': '12.29', 'CCA': '6.63'}\n",
      "{'Year': 2000, 'Month': 7, 'SCA': '4.12', 'CCA': '3.45'}\n",
      "{'Year': 2000, 'Month': 8, 'SCA': '1.33', 'CCA': '6.17'}\n",
      "{'Year': 2000, 'Month': 9, 'SCA': '0.72', 'CCA': '0.97'}\n",
      "{'Year': 2000, 'Month': 10, 'SCA': '0.50', 'CCA': '2.78'}\n",
      "{'Year': 2000, 'Month': 11, 'SCA': '0.44', 'CCA': '0.02'}\n",
      "{'Year': 2000, 'Month': 12, 'SCA': '0.32', 'CCA': '0.54'}\n",
      "{'Year': 2001, 'Month': 1, 'SCA': '1.20', 'CCA': '5.28'}\n",
      "{'Year': 2001, 'Month': 2, 'SCA': '1.13', 'CCA': '5.29'}\n",
      "{'Year': 2001, 'Month': 3, 'SCA': '2.13', 'CCA': '1.24'}\n",
      "{'Year': 2001, 'Month': 4, 'SCA': '0.95', 'CCA': '0.12'}\n",
      "{'Year': 2001, 'Month': 5, 'SCA': '3.30', 'CCA': '3.40'}\n",
      "{'Year': 2001, 'Month': 6, 'SCA': '0.84', 'CCA': '0.08'}\n",
      "{'Year': 2001, 'Month': 7, 'SCA': '0.85', 'CCA': '0.03'}\n",
      "{'Year': 2001, 'Month': 8, 'SCA': '1.18', 'CCA': '0.21'}\n",
      "{'Year': 2001, 'Month': 9, 'SCA': '1.41', 'CCA': '0.73'}\n",
      "{'Year': 2001, 'Month': 10, 'SCA': '0.71', 'CCA': '0.06'}\n",
      "{'Year': 2001, 'Month': 11, 'SCA': '0.35', 'CCA': '0.00'}\n",
      "{'Year': 2001, 'Month': 12, 'SCA': '0.63', 'CCA': '3.20'}\n",
      "{'Year': 2002, 'Month': 1, 'SCA': '0.25', 'CCA': '0.00'}\n",
      "{'Year': 2002, 'Month': 2, 'SCA': '0.55', 'CCA': '3.95'}\n",
      "{'Year': 2002, 'Month': 3, 'SCA': '0.77', 'CCA': '6.03'}\n",
      "{'Year': 2002, 'Month': 4, 'SCA': '1.39', 'CCA': '0.44'}\n",
      "{'Year': 2002, 'Month': 5, 'SCA': '10.09', 'CCA': '4.11'}\n",
      "{'Year': 2002, 'Month': 6, 'SCA': '6.25', 'CCA': '3.51'}\n",
      "{'Year': 2002, 'Month': 7, 'SCA': '29.05', 'CCA': '12.41'}\n",
      "{'Year': 2002, 'Month': 8, 'SCA': '7.49', 'CCA': '0.02'}\n",
      "{'Year': 2002, 'Month': 9, 'SCA': '3.76', 'CCA': '0.00'}\n",
      "{'Year': 2002, 'Month': 10, 'SCA': '1.35', 'CCA': '2.96'}\n",
      "{'Year': 2002, 'Month': 11, 'SCA': '0.63', 'CCA': '0.11'}\n",
      "{'Year': 2002, 'Month': 12, 'SCA': '0.48', 'CCA': '2.05'}\n",
      "{'Year': 2003, 'Month': 1, 'SCA': '0.73', 'CCA': '5.03'}\n",
      "{'Year': 2003, 'Month': 2, 'SCA': '0.93', 'CCA': '0.02'}\n",
      "{'Year': 2003, 'Month': 3, 'SCA': '0.66', 'CCA': '0.01'}\n",
      "{'Year': 2003, 'Month': 4, 'SCA': '0.47', 'CCA': '0.00'}\n",
      "{'Year': 2003, 'Month': 5, 'SCA': '8.83', 'CCA': '1.42'}\n",
      "{'Year': 2003, 'Month': 6, 'SCA': '4.53', 'CCA': '0.01'}\n",
      "{'Year': 2003, 'Month': 7, 'SCA': '4.64', 'CCA': '2.37'}\n",
      "{'Year': 2003, 'Month': 8, 'SCA': '4.76', 'CCA': '0.29'}\n",
      "{'Year': 2003, 'Month': 9, 'SCA': '0.78', 'CCA': '0.03'}\n",
      "{'Year': 2003, 'Month': 10, 'SCA': '0.58', 'CCA': '0.00'}\n",
      "{'Year': 2003, 'Month': 11, 'SCA': '0.55', 'CCA': '0.00'}\n",
      "{'Year': 2003, 'Month': 12, 'SCA': '0.41', 'CCA': '2.85'}\n",
      "{'Year': 2004, 'Month': 1, 'SCA': '0.58', 'CCA': '1.94'}\n",
      "{'Year': 2004, 'Month': 2, 'SCA': '0.77', 'CCA': '1.09'}\n",
      "{'Year': 2004, 'Month': 3, 'SCA': '0.54', 'CCA': '0.01'}\n",
      "{'Year': 2004, 'Month': 4, 'SCA': '0.58', 'CCA': '0.01'}\n",
      "{'Year': 2004, 'Month': 5, 'SCA': '0.54', 'CCA': '0.01'}\n",
      "{'Year': 2004, 'Month': 6, 'SCA': '0.54', 'CCA': '0.18'}\n",
      "{'Year': 2004, 'Month': 7, 'SCA': '7.82', 'CCA': '2.38'}\n",
      "{'Year': 2004, 'Month': 8, 'SCA': '17.32', 'CCA': '12.73'}\n",
      "{'Year': 2004, 'Month': 9, 'SCA': '2.07', 'CCA': '0.00'}\n",
      "{'Year': 2004, 'Month': 10, 'SCA': '0.89', 'CCA': '0.01'}\n",
      "{'Year': 2004, 'Month': 11, 'SCA': '0.57', 'CCA': '0.00'}\n",
      "{'Year': 2004, 'Month': 12, 'SCA': '0.53', 'CCA': '0.03'}\n",
      "{'Year': 2005, 'Month': 1, 'SCA': '0.91', 'CCA': '0.83'}\n",
      "{'Year': 2005, 'Month': 2, 'SCA': '0.93', 'CCA': '13.42'}\n",
      "{'Year': 2005, 'Month': 3, 'SCA': '0.71', 'CCA': '0.01'}\n",
      "{'Year': 2005, 'Month': 4, 'SCA': '5.83', 'CCA': '1.25'}\n",
      "{'Year': 2005, 'Month': 5, 'SCA': '8.27', 'CCA': '0.15'}\n",
      "{'Year': 2005, 'Month': 6, 'SCA': '2.01', 'CCA': '0.00'}\n",
      "{'Year': 2005, 'Month': 7, 'SCA': '0.86', 'CCA': '0.00'}\n",
      "{'Year': 2005, 'Month': 8, 'SCA': '0.55', 'CCA': '0.00'}\n",
      "{'Year': 2005, 'Month': 9, 'SCA': '22.71', 'CCA': '5.05'}\n",
      "{'Year': 2005, 'Month': 10, 'SCA': '10.50', 'CCA': '0.02'}\n",
      "{'Year': 2005, 'Month': 11, 'SCA': '1.35', 'CCA': '1.29'}\n",
      "{'Year': 2005, 'Month': 12, 'SCA': '0.60', 'CCA': '0.39'}\n",
      "{'Year': 2006, 'Month': 1, 'SCA': '1.62', 'CCA': '0.72'}\n",
      "{'Year': 2006, 'Month': 2, 'SCA': '2.38', 'CCA': '0.09'}\n",
      "{'Year': 2006, 'Month': 3, 'SCA': '0.86', 'CCA': '0.02'}\n",
      "{'Year': 2006, 'Month': 4, 'SCA': '0.57', 'CCA': '0.04'}\n",
      "{'Year': 2006, 'Month': 5, 'SCA': '3.13', 'CCA': '0.43'}\n",
      "{'Year': 2006, 'Month': 6, 'SCA': '6.15', 'CCA': '0.89'}\n",
      "{'Year': 2006, 'Month': 7, 'SCA': '1.09', 'CCA': '0.05'}\n",
      "{'Year': 2006, 'Month': 8, 'SCA': '2.40', 'CCA': '0.48'}\n",
      "{'Year': 2006, 'Month': 9, 'SCA': '3.68', 'CCA': '0.09'}\n",
      "{'Year': 2006, 'Month': 10, 'SCA': '0.65', 'CCA': '0.00'}\n",
      "{'Year': 2006, 'Month': 11, 'SCA': '0.56', 'CCA': '0.01'}\n",
      "{'Year': 2006, 'Month': 12, 'SCA': '0.48', 'CCA': '0.32'}\n",
      "{'Year': 2007, 'Month': 1, 'SCA': '0.72', 'CCA': '1.45'}\n",
      "{'Year': 2007, 'Month': 2, 'SCA': '0.87', 'CCA': '0.10'}\n",
      "{'Year': 2007, 'Month': 3, 'SCA': '0.49', 'CCA': '0.27'}\n",
      "{'Year': 2007, 'Month': 4, 'SCA': '0.46', 'CCA': '0.10'}\n",
      "{'Year': 2007, 'Month': 5, 'SCA': '0.94', 'CCA': '0.36'}\n",
      "{'Year': 2007, 'Month': 6, 'SCA': '5.57', 'CCA': '10.66'}\n",
      "{'Year': 2007, 'Month': 7, 'SCA': '11.11', 'CCA': '3.65'}\n",
      "{'Year': 2007, 'Month': 8, 'SCA': '5.00', 'CCA': '0.58'}\n",
      "{'Year': 2007, 'Month': 9, 'SCA': '1.39', 'CCA': '0.33'}\n",
      "{'Year': 2007, 'Month': 10, 'SCA': '0.55', 'CCA': '0.00'}\n",
      "{'Year': 2007, 'Month': 11, 'SCA': '0.48', 'CCA': '0.73'}\n",
      "{'Year': 2007, 'Month': 12, 'SCA': '0.45', 'CCA': '0.01'}\n",
      "{'Year': 2008, 'Month': 1, 'SCA': '1.13', 'CCA': '3.76'}\n",
      "{'Year': 2008, 'Month': 2, 'SCA': '1.08', 'CCA': '0.02'}\n",
      "{'Year': 2008, 'Month': 3, 'SCA': '0.55', 'CCA': '0.00'}\n",
      "{'Year': 2008, 'Month': 4, 'SCA': '0.89', 'CCA': '0.00'}\n",
      "{'Year': 2008, 'Month': 5, 'SCA': '0.51', 'CCA': '0.00'}\n",
      "{'Year': 2008, 'Month': 6, 'SCA': '6.89', 'CCA': '2.72'}\n",
      "{'Year': 2008, 'Month': 7, 'SCA': '3.06', 'CCA': '0.00'}\n",
      "{'Year': 2008, 'Month': 8, 'SCA': '0.65', 'CCA': '0.00'}\n",
      "{'Year': 2008, 'Month': 9, 'SCA': '0.67', 'CCA': '0.02'}\n",
      "{'Year': 2008, 'Month': 10, 'SCA': '0.60', 'CCA': '0.00'}\n",
      "{'Year': 2008, 'Month': 11, 'SCA': '0.53', 'CCA': '0.00'}\n",
      "{'Year': 2008, 'Month': 12, 'SCA': '0.43', 'CCA': '0.28'}\n",
      "{'Year': 2009, 'Month': 1, 'SCA': '0.73', 'CCA': '0.01'}\n",
      "{'Year': 2009, 'Month': 2, 'SCA': '0.58', 'CCA': '0.22'}\n",
      "{'Year': 2009, 'Month': 3, 'SCA': '2.00', 'CCA': '0.38'}\n",
      "{'Year': 2009, 'Month': 4, 'SCA': '0.91', 'CCA': '0.00'}\n",
      "{'Year': 2009, 'Month': 5, 'SCA': '0.50', 'CCA': '0.17'}\n",
      "{'Year': 2009, 'Month': 6, 'SCA': '0.51', 'CCA': '0.00'}\n",
      "{'Year': 2009, 'Month': 7, 'SCA': '9.78', 'CCA': '7.75'}\n",
      "{'Year': 2009, 'Month': 8, 'SCA': '2.43', 'CCA': '0.00'}\n",
      "{'Year': 2009, 'Month': 9, 'SCA': '0.63', 'CCA': '0.42'}\n",
      "{'Year': 2009, 'Month': 10, 'SCA': '0.51', 'CCA': '0.09'}\n",
      "{'Year': 2009, 'Month': 11, 'SCA': '0.54', 'CCA': '0.01'}\n",
      "{'Year': 2009, 'Month': 12, 'SCA': '0.43', 'CCA': '0.43'}\n",
      "{'Year': 2010, 'Month': 1, 'SCA': '0.58', 'CCA': '0.29'}\n",
      "{'Year': 2010, 'Month': 2, 'SCA': '0.61', 'CCA': '0.30'}\n",
      "{'Year': 2010, 'Month': 3, 'SCA': '0.47', 'CCA': '0.00'}\n",
      "{'Year': 2010, 'Month': 4, 'SCA': '0.48', 'CCA': '3.30'}\n",
      "{'Year': 2010, 'Month': 5, 'SCA': '9.82', 'CCA': '6.88'}\n",
      "{'Year': 2010, 'Month': 6, 'SCA': '1.23', 'CCA': '0.01'}\n",
      "{'Year': 2010, 'Month': 7, 'SCA': '0.51', 'CCA': '0.01'}\n",
      "{'Year': 2010, 'Month': 8, 'SCA': '0.46', 'CCA': '0.03'}\n",
      "{'Year': 2010, 'Month': 9, 'SCA': '0.46', 'CCA': '0.06'}\n",
      "{'Year': 2010, 'Month': 10, 'SCA': '0.73', 'CCA': '0.07'}\n",
      "{'Year': 2010, 'Month': 11, 'SCA': '0.41', 'CCA': '0.00'}\n",
      "{'Year': 2010, 'Month': 12, 'SCA': '0.39', 'CCA': '0.00'}\n",
      "{'Year': 2011, 'Month': 1, 'SCA': '0.51', 'CCA': '2.39'}\n",
      "{'Year': 2011, 'Month': 2, 'SCA': '1.75', 'CCA': '2.43'}\n",
      "{'Year': 2011, 'Month': 3, 'SCA': '1.11', 'CCA': '0.19'}\n",
      "{'Year': 2011, 'Month': 4, 'SCA': '1.02', 'CCA': '0.13'}\n",
      "{'Year': 2011, 'Month': 5, 'SCA': '0.78', 'CCA': '0.07'}\n",
      "{'Year': 2011, 'Month': 6, 'SCA': '15.02', 'CCA': '8.16'}\n",
      "{'Year': 2011, 'Month': 7, 'SCA': '45.84', 'CCA': '10.60'}\n",
      "{'Year': 2011, 'Month': 8, 'SCA': '15.22', 'CCA': '0.03'}\n",
      "{'Year': 2011, 'Month': 9, 'SCA': '6.36', 'CCA': '0.00'}\n",
      "{'Year': 2011, 'Month': 10, 'SCA': '2.23', 'CCA': '0.15'}\n",
      "{'Year': 2011, 'Month': 11, 'SCA': '0.67', 'CCA': '0.00'}\n",
      "{'Year': 2011, 'Month': 12, 'SCA': '0.70', 'CCA': '0.34'}\n",
      "{'Year': 2012, 'Month': 1, 'SCA': '1.78', 'CCA': '1.07'}\n",
      "{'Year': 2012, 'Month': 2, 'SCA': '3.16', 'CCA': '3.78'}\n",
      "{'Year': 2012, 'Month': 3, 'SCA': '2.08', 'CCA': '0.08'}\n",
      "{'Year': 2012, 'Month': 4, 'SCA': '3.57', 'CCA': '0.63'}\n",
      "{'Year': 2012, 'Month': 5, 'SCA': '1.54', 'CCA': '0.00'}\n",
      "{'Year': 2012, 'Month': 6, 'SCA': '4.58', 'CCA': '1.13'}\n",
      "{'Year': 2012, 'Month': 7, 'SCA': '10.08', 'CCA': '2.93'}\n",
      "{'Year': 2012, 'Month': 8, 'SCA': '3.02', 'CCA': '0.01'}\n",
      "{'Year': 2012, 'Month': 9, 'SCA': '0.90', 'CCA': '0.01'}\n",
      "{'Year': 2012, 'Month': 10, 'SCA': '0.77', 'CCA': '0.74'}\n",
      "{'Year': 2012, 'Month': 11, 'SCA': '0.47', 'CCA': '0.04'}\n",
      "{'Year': 2012, 'Month': 12, 'SCA': '0.62', 'CCA': '0.04'}\n",
      "{'Year': 2013, 'Month': 1, 'SCA': '1.01', 'CCA': '8.15'}\n",
      "{'Year': 2013, 'Month': 2, 'SCA': '1.74', 'CCA': '0.78'}\n",
      "{'Year': 2013, 'Month': 3, 'SCA': '0.47', 'CCA': '0.00'}\n",
      "{'Year': 2013, 'Month': 4, 'SCA': '0.43', 'CCA': '0.00'}\n",
      "{'Year': 2013, 'Month': 5, 'SCA': '11.34', 'CCA': '3.59'}\n",
      "{'Year': 2013, 'Month': 6, 'SCA': '32.51', 'CCA': '15.78'}\n",
      "{'Year': 2013, 'Month': 7, 'SCA': '17.91', 'CCA': '6.17'}\n",
      "{'Year': 2013, 'Month': 8, 'SCA': '11.25', 'CCA': '2.68'}\n",
      "{'Year': 2013, 'Month': 9, 'SCA': '11.69', 'CCA': '0.40'}\n",
      "{'Year': 2013, 'Month': 10, 'SCA': '3.14', 'CCA': '0.00'}\n",
      "{'Year': 2013, 'Month': 11, 'SCA': '0.62', 'CCA': '0.00'}\n",
      "{'Year': 2013, 'Month': 12, 'SCA': '0.54', 'CCA': '0.03'}\n",
      "{'Year': 2014, 'Month': 1, 'SCA': '1.51', 'CCA': '0.77'}\n",
      "{'Year': 2014, 'Month': 2, 'SCA': '0.62', 'CCA': '0.03'}\n",
      "{'Year': 2014, 'Month': 3, 'SCA': '0.52', 'CCA': '0.00'}\n",
      "{'Year': 2014, 'Month': 4, 'SCA': '0.68', 'CCA': '0.04'}\n",
      "{'Year': 2014, 'Month': 5, 'SCA': '6.75', 'CCA': '4.61'}\n",
      "{'Year': 2014, 'Month': 6, 'SCA': '5.60', 'CCA': '1.19'}\n",
      "{'Year': 2014, 'Month': 7, 'SCA': '1.46', 'CCA': '0.06'}\n",
      "{'Year': 2014, 'Month': 8, 'SCA': '1.14', 'CCA': '0.25'}\n",
      "{'Year': 2014, 'Month': 9, 'SCA': '2.37', 'CCA': '0.55'}\n",
      "{'Year': 2014, 'Month': 10, 'SCA': '0.64', 'CCA': '0.26'}\n",
      "{'Year': 2014, 'Month': 11, 'SCA': '0.57', 'CCA': '0.09'}\n",
      "{'Year': 2014, 'Month': 12, 'SCA': '0.43', 'CCA': '0.02'}\n",
      "{'Year': 2015, 'Month': 1, 'SCA': '0.70', 'CCA': '0.39'}\n",
      "{'Year': 2015, 'Month': 2, 'SCA': '1.15', 'CCA': '0.38'}\n",
      "{'Year': 2015, 'Month': 3, 'SCA': '5.50', 'CCA': '1.04'}\n",
      "{'Year': 2015, 'Month': 4, 'SCA': '7.47', 'CCA': '0.05'}\n",
      "{'Year': 2015, 'Month': 5, 'SCA': '7.49', 'CCA': '1.73'}\n",
      "{'Year': 2015, 'Month': 6, 'SCA': '5.59', 'CCA': '0.31'}\n",
      "{'Year': 2015, 'Month': 7, 'SCA': '4.42', 'CCA': '2.29'}\n",
      "{'Year': 2015, 'Month': 8, 'SCA': '5.55', 'CCA': '0.64'}\n",
      "{'Year': 2015, 'Month': 9, 'SCA': '2.14', 'CCA': '0.01'}\n",
      "{'Year': 2015, 'Month': 10, 'SCA': '3.02', 'CCA': '1.26'}\n",
      "{'Year': 2015, 'Month': 11, 'SCA': '1.70', 'CCA': '0.01'}\n",
      "{'Year': 2015, 'Month': 12, 'SCA': '0.85', 'CCA': '4.01'}\n",
      "{'Year': 2016, 'Month': 1, 'SCA': '0.66', 'CCA': '0.01'}\n",
      "{'Year': 2016, 'Month': 2, 'SCA': '0.76', 'CCA': '10.56'}\n",
      "{'Year': 2016, 'Month': 3, 'SCA': '0.57', 'CCA': '0.00'}\n",
      "{'Year': 2016, 'Month': 4, 'SCA': '2.05', 'CCA': '0.62'}\n",
      "{'Year': 2016, 'Month': 5, 'SCA': '1.71', 'CCA': '1.30'}\n",
      "{'Year': 2016, 'Month': 6, 'SCA': '0.65', 'CCA': '0.09'}\n",
      "{'Year': 2016, 'Month': 7, 'SCA': '8.49', 'CCA': '6.51'}\n",
      "{'Year': 2016, 'Month': 8, 'SCA': '0.81', 'CCA': '0.04'}\n",
      "{'Year': 2016, 'Month': 9, 'SCA': '0.58', 'CCA': '0.00'}\n",
      "{'Year': 2016, 'Month': 10, 'SCA': '0.56', 'CCA': '0.00'}\n",
      "{'Year': 2016, 'Month': 11, 'SCA': '0.46', 'CCA': '0.10'}\n",
      "{'Year': 2016, 'Month': 12, 'SCA': '0.47', 'CCA': '0.05'}\n",
      "{'Year': 2017, 'Month': 1, 'SCA': '1.41', 'CCA': '0.57'}\n",
      "{'Year': 2017, 'Month': 2, 'SCA': '1.52', 'CCA': '12.47'}\n",
      "{'Year': 2017, 'Month': 3, 'SCA': '1.62', 'CCA': '0.02'}\n",
      "{'Year': 2017, 'Month': 4, 'SCA': '3.54', 'CCA': '0.44'}\n",
      "{'Year': 2017, 'Month': 5, 'SCA': '11.08', 'CCA': '11.85'}\n",
      "{'Year': 2017, 'Month': 6, 'SCA': '48.88', 'CCA': '12.34'}\n",
      "{'Year': 2017, 'Month': 7, 'SCA': '25.69', 'CCA': '0.02'}\n",
      "{'Year': 2017, 'Month': 8, 'SCA': '12.02', 'CCA': '0.01'}\n",
      "{'Year': 2017, 'Month': 9, 'SCA': '5.30', 'CCA': '0.00'}\n",
      "{'Year': 2017, 'Month': 10, 'SCA': '2.16', 'CCA': '0.00'}\n",
      "{'Year': 2017, 'Month': 11, 'SCA': '0.89', 'CCA': '0.00'}\n",
      "{'Year': 2017, 'Month': 12, 'SCA': '0.60', 'CCA': '0.68'}\n",
      "{'Year': 2018, 'Month': 1, 'SCA': '0.95', 'CCA': '2.38'}\n",
      "{'Year': 2018, 'Month': 2, 'SCA': '2.39', 'CCA': '2.84'}\n",
      "{'Year': 2018, 'Month': 3, 'SCA': '1.27', 'CCA': '0.03'}\n",
      "{'Year': 2018, 'Month': 4, 'SCA': '0.80', 'CCA': '0.00'}\n",
      "{'Year': 2018, 'Month': 5, 'SCA': '0.71', 'CCA': '0.05'}\n",
      "{'Year': 2018, 'Month': 6, 'SCA': '9.99', 'CCA': '3.02'}\n",
      "{'Year': 2018, 'Month': 7, 'SCA': '15.79', 'CCA': '4.62'}\n",
      "{'Year': 2018, 'Month': 8, 'SCA': '17.18', 'CCA': '1.00'}\n",
      "{'Year': 2018, 'Month': 9, 'SCA': '4.84', 'CCA': '0.00'}\n",
      "{'Year': 2018, 'Month': 10, 'SCA': '1.49', 'CCA': '0.90'}\n",
      "{'Year': 2018, 'Month': 11, 'SCA': '0.63', 'CCA': '0.00'}\n",
      "{'Year': 2018, 'Month': 12, 'SCA': '0.57', 'CCA': '1.07'}\n",
      "{'Year': 2019, 'Month': 1, 'SCA': '0.64', 'CCA': '3.45'}\n",
      "{'Year': 2019, 'Month': 2, 'SCA': '3.48', 'CCA': '11.99'}\n",
      "{'Year': 2019, 'Month': 3, 'SCA': '0.98', 'CCA': '0.00'}\n",
      "{'Year': 2019, 'Month': 4, 'SCA': '1.23', 'CCA': '0.04'}\n",
      "{'Year': 2019, 'Month': 5, 'SCA': '1.09', 'CCA': '0.89'}\n",
      "{'Year': 2019, 'Month': 6, 'SCA': '7.11', 'CCA': '2.73'}\n",
      "{'Year': 2019, 'Month': 7, 'SCA': '4.76', 'CCA': '1.64'}\n",
      "{'Year': 2019, 'Month': 8, 'SCA': '0.95', 'CCA': '0.00'}\n",
      "{'Year': 2019, 'Month': 9, 'SCA': '6.70', 'CCA': '1.32'}\n",
      "{'Year': 2019, 'Month': 10, 'SCA': '0.81', 'CCA': '0.17'}\n",
      "{'Year': 2019, 'Month': 11, 'SCA': '0.62', 'CCA': '0.74'}\n",
      "{'Year': 2019, 'Month': 12, 'SCA': '0.62', 'CCA': '1.47'}\n",
      "{'Year': 2020, 'Month': 1, 'SCA': '1.06', 'CCA': '2.69'}\n",
      "{'Year': 2020, 'Month': 2, 'SCA': '0.77', 'CCA': '0.35'}\n",
      "{'Year': 2020, 'Month': 3, 'SCA': '1.32', 'CCA': '1.02'}\n",
      "{'Year': 2020, 'Month': 4, 'SCA': '0.68', 'CCA': '0.01'}\n",
      "{'Year': 2020, 'Month': 5, 'SCA': '0.61', 'CCA': '0.32'}\n",
      "{'Year': 2020, 'Month': 6, 'SCA': '1.40', 'CCA': '0.14'}\n",
      "{'Year': 2020, 'Month': 7, 'SCA': '0.62', 'CCA': '0.00'}\n",
      "{'Year': 2020, 'Month': 8, 'SCA': '9.41', 'CCA': '4.93'}\n",
      "{'Year': 2020, 'Month': 9, 'SCA': '17.10', 'CCA': '0.45'}\n",
      "{'Year': 2020, 'Month': 10, 'SCA': '3.16', 'CCA': '0.10'}\n",
      "{'Year': 2020, 'Month': 11, 'SCA': '0.68', 'CCA': '0.00'}\n",
      "{'Year': 2020, 'Month': 12, 'SCA': '0.62', 'CCA': '0.16'}\n",
      "{'Year': 2021, 'Month': 1, 'SCA': '0.86', 'CCA': '2.71'}\n",
      "{'Year': 2021, 'Month': 2, 'SCA': '0.71', 'CCA': '0.01'}\n",
      "{'Year': 2021, 'Month': 3, 'SCA': '0.92', 'CCA': '0.01'}\n",
      "{'Year': 2021, 'Month': 4, 'SCA': '0.54', 'CCA': '0.00'}\n",
      "{'Year': 2021, 'Month': 5, 'SCA': '10.39', 'CCA': '5.39'}\n",
      "{'Year': 2021, 'Month': 6, 'SCA': '22.46', 'CCA': '3.28'}\n",
      "{'Year': 2021, 'Month': 7, 'SCA': '7.13', 'CCA': '2.68'}\n",
      "{'Year': 2021, 'Month': 8, 'SCA': '7.70', 'CCA': '0.87'}\n",
      "{'Year': 2021, 'Month': 9, 'SCA': '0.70', 'CCA': '0.02'}\n",
      "{'Year': 2021, 'Month': 10, 'SCA': '0.75', 'CCA': '0.34'}\n",
      "{'Year': 2021, 'Month': 11, 'SCA': '0.53', 'CCA': '0.00'}\n",
      "{'Year': 2021, 'Month': 12, 'SCA': '1.10', 'CCA': '10.60'}\n",
      "{'Year': 2022, 'Month': 1, 'SCA': '1.30', 'CCA': '0.83'}\n",
      "{'Year': 2022, 'Month': 2, 'SCA': '0.69', 'CCA': '0.10'}\n",
      "{'Year': 2022, 'Month': 3, 'SCA': '1.05', 'CCA': '0.08'}\n",
      "{'Year': 2022, 'Month': 4, 'SCA': '0.36', 'CCA': '1.01'}\n",
      "{'Year': 2022, 'Month': 5, 'SCA': '0.75', 'CCA': '0.00'}\n",
      "{'Year': 2022, 'Month': 6, 'SCA': '10.02', 'CCA': '1.48'}\n",
      "{'Year': 2022, 'Month': 7, 'SCA': '5.40', 'CCA': '1.93'}\n",
      "{'Year': 2022, 'Month': 8, 'SCA': '1.60', 'CCA': '0.01'}\n",
      "{'Year': 2022, 'Month': 9, 'SCA': '0.74', 'CCA': '0.01'}\n",
      "{'Year': 2022, 'Month': 10, 'SCA': '0.56', 'CCA': '0.01'}\n",
      "{'Year': 2022, 'Month': 11, 'SCA': '0.54', 'CCA': '0.01'}\n",
      "{'Year': 2022, 'Month': 12, 'SCA': '0.97', 'CCA': '0.19'}\n",
      "{'Year': 2023, 'Month': 1, 'SCA': '0.71', 'CCA': '0.11'}\n",
      "{'Year': 2023, 'Month': 2, 'SCA': '3.35', 'CCA': '1.32'}\n",
      "{'Year': 2023, 'Month': 3, 'SCA': '1.37', 'CCA': '0.45'}\n",
      "{'Year': 2023, 'Month': 4, 'SCA': '1.13', 'CCA': '0.01'}\n",
      "{'Year': 2023, 'Month': 5, 'SCA': '0.68', 'CCA': '0.16'}\n",
      "{'Year': 2023, 'Month': 6, 'SCA': '0.60', 'CCA': '0.03'}\n",
      "{'Year': 2023, 'Month': 7, 'SCA': '0.57', 'CCA': '0.01'}\n",
      "{'Year': 2023, 'Month': 8, 'SCA': '0.55', 'CCA': '3.26'}\n",
      "{'Year': 2023, 'Month': 9, 'SCA': '0.63', 'CCA': '0.00'}\n",
      "{'Year': 2023, 'Month': 10, 'SCA': '0.52', 'CCA': '0.02'}\n",
      "{'Year': 2023, 'Month': 11, 'SCA': '0.53', 'CCA': '0.07'}\n",
      "{'Year': 2023, 'Month': 12, 'SCA': '0.44', 'CCA': '0.20'}\n",
      "{'Year': 2024, 'Month': 1, 'SCA': '0.70', 'CCA': '0.01'}\n",
      "{'Year': 2024, 'Month': 2, 'SCA': '1.06', 'CCA': '1.83'}\n",
      "{'Year': 2024, 'Month': 3, 'SCA': '1.15', 'CCA': '0.31'}\n",
      "{'Year': 2024, 'Month': 4, 'SCA': '3.70', 'CCA': '0.81'}\n",
      "{'Year': 2024, 'Month': 5, 'SCA': '2.35', 'CCA': '1.61'}\n",
      "{'Year': 2024, 'Month': 6, 'SCA': '0.79', 'CCA': '0.27'}\n",
      "{'Year': 2024, 'Month': 7, 'SCA': '0.65', 'CCA': '0.40'}\n",
      "{'Year': 2024, 'Month': 8, 'SCA': '0.76', 'CCA': '0.07'}\n",
      "{'Year': 2024, 'Month': 9, 'SCA': '0.64', 'CCA': '0.00'}\n",
      "{'Year': 2024, 'Month': 10, 'SCA': '1.32', 'CCA': '0.78'}\n",
      "{'Year': 2024, 'Month': 11, 'SCA': '0.59', 'CCA': '0.00'}\n",
      "{'Year': 2024, 'Month': 12, 'SCA': '0.36', 'CCA': '0.00'}\n",
      "{'Year': 2025, 'Month': 1, 'SCA': '0.57', 'CCA': '0.16'}\n",
      "{'Year': 2025, 'Month': 2, 'SCA': '1.59', 'CCA': '2.34'}\n",
      "{'Year': 2025, 'Month': 3, 'SCA': '0.95', 'CCA': '0.82'}\n",
      "{'Year': 2025, 'Month': 4, 'SCA': '1.10', 'CCA': '0.42'}\n",
      "{'Year': 2025, 'Month': 5, 'SCA': '0.56', 'CCA': '0.00'}\n",
      "{'Year': 2025, 'Month': 6, 'SCA': '6.44', 'CCA': '9.47'}\n"
     ]
    }
   ],
   "source": [
    "print_fc_properties(\n",
    "    YearMonth_means_per_basin_patched_fc, [\"Year\", \"Month\", \"SCA\", \"CCA\"]\n",
    ")"
   ]
  },
  {
   "cell_type": "markdown",
   "id": "fd8671c0",
   "metadata": {},
   "source": [
    "#### Code Breakdown (Debugging)"
   ]
  },
  {
   "cell_type": "code",
   "execution_count": 57,
   "id": "731e45fb",
   "metadata": {},
   "outputs": [],
   "source": [
    "cuenca = basin_code\n",
    "ee_basin_fc = ee_fcollection.filter(ee.filter.Filter.eq(property, cuenca))"
   ]
  },
  {
   "cell_type": "code",
   "execution_count": 61,
   "id": "c21b6206",
   "metadata": {},
   "outputs": [
    {
     "data": {
      "text/plain": [
       "<module 'observatorio_ipa.services.gee.processes.stats.common' from 'C:\\\\Users\\\\erick\\\\Documents\\\\Projects\\\\teleamb\\\\observatorio_ipa\\\\src\\\\observatorio_ipa\\\\services\\\\gee\\\\processes\\\\stats\\\\common.py'>"
      ]
     },
     "execution_count": 61,
     "metadata": {},
     "output_type": "execute_result"
    }
   ],
   "source": [
    "from observatorio_ipa.services.gee.processes.stats import common\n",
    "from observatorio_ipa.core.defaults import DEFAULT_SCALE\n",
    "reload(common)"
   ]
  },
  {
   "cell_type": "code",
   "execution_count": null,
   "id": "4484f0a0",
   "metadata": {},
   "outputs": [],
   "source": [
    "ee_TACbyYearMonth_ic = (\n",
    "    ee_icollection.map(\n",
    "        lambda ee_image: common._ee_correct_CCI_band(ee_image, \"Cloud_TAC\", \"CCA\")\n",
    "    )\n",
    "    .map(\n",
    "        lambda ee_image: common._ee_correct_SCI_band(\n",
    "            ee_image, \"Snow_TAC\", \"Cloud_TAC\", \"SCA\"\n",
    "        )\n",
    "    )\n",
    "    .select([\"SCA\", \"CCA\"])\n",
    ")"
   ]
  },
  {
   "cell_type": "code",
   "execution_count": 64,
   "id": "928f585a",
   "metadata": {},
   "outputs": [
    {
     "name": "stdout",
     "output_type": "stream",
     "text": [
      "<class 'ee.imagecollection.ImageCollection'>\n",
      "['SCI', 'CCI']\n"
     ]
    }
   ],
   "source": [
    "print(type(ee_TACbyYearMonth_ic))\n",
    "print(ee_TACbyYearMonth_ic.first().bandNames().getInfo())"
   ]
  },
  {
   "cell_type": "code",
   "execution_count": 73,
   "id": "30586cfc",
   "metadata": {},
   "outputs": [],
   "source": [
    "def _ee_calc_ym_region_mean(\n",
    "        ee_image: ee.image.Image,\n",
    "        ee_basin_fc: ee.featurecollection.FeatureCollection,\n",
    "        region_property: str,\n",
    "    ) -> ee.featurecollection.FeatureCollection:\n",
    "        \n",
    "        ee_region_mean_fc = ee_image.reduceRegions(\n",
    "            collection=ee_basin_fc.select([region_property]),\n",
    "            reducer=ee.reducer.Reducer.mean(),\n",
    "            scale=DEFAULT_SCALE,\n",
    "        )\n",
    "\n",
    "        def _ee_set_props(\n",
    "            ee_feature: ee.feature.Feature, ee_image: ee.image.Image\n",
    "        ) -> ee.feature.Feature:\n",
    "            return ee.feature.Feature(\n",
    "                ee_feature.set(\"Year\", ee_image.get(\"year\"))\n",
    "                .set(\"date\", ee_image.date())\n",
    "                .set(\"Month\", ee_image.get(\"month\"))\n",
    "            )\n",
    "\n",
    "        return ee_region_mean_fc.map(\n",
    "            lambda ee_feature: _ee_set_props(ee_feature, ee_image)\n",
    "        )\n",
    "\n",
    "ee_YearMonth_means_per_basin_fc = ee_TACbyYearMonth_ic.map(\n",
    "        lambda ee_image: _ee_calc_ym_region_mean(ee_image, ee_basin_fc, property)\n",
    "    ).flatten()"
   ]
  },
  {
   "cell_type": "code",
   "execution_count": 74,
   "id": "a2370498",
   "metadata": {},
   "outputs": [
    {
     "name": "stdout",
     "output_type": "stream",
     "text": [
      "<class 'ee.featurecollection.FeatureCollection'>\n",
      "['system:index', 'Month', 'date', 'Year', 'SCI', 'CCI', 'COD_CUEN']\n"
     ]
    }
   ],
   "source": [
    "print(type(ee_YearMonth_means_per_basin_fc))\n",
    "print(ee_YearMonth_means_per_basin_fc.first().propertyNames().getInfo())"
   ]
  },
  {
   "cell_type": "code",
   "execution_count": 75,
   "id": "bbe71ffb",
   "metadata": {},
   "outputs": [],
   "source": [
    "ee_date_str = ee.ee_date.Date(\"2000-01-01\")\n",
    "\n",
    "# Dummy Feature for January 2000 #! Why is this added?\n",
    "ee_jan2000_feature = ee.feature.Feature(None).set(\n",
    "    {\"Year\": \"2000\", \"Month\": \"1\", \"SCA\": \"0\", \"date\": ee_date_str}\n",
    ")"
   ]
  },
  {
   "cell_type": "code",
   "execution_count": 69,
   "id": "cc11f820",
   "metadata": {},
   "outputs": [],
   "source": [
    "ee_YearMonth_means_per_basin_fc = common._ee_format_properties_2decimals(\n",
    "    ee_YearMonth_means_per_basin_fc, [\"SCA\", \"CCA\"]\n",
    ")"
   ]
  },
  {
   "cell_type": "code",
   "execution_count": null,
   "id": "dc2482d3",
   "metadata": {},
   "outputs": [],
   "source": [
    "print(type(ee_YearMonth_means_per_basin_fc))\n",
    "print(ee_YearMonth_means_per_basin_fc.first().propertyNames().getInfo())"
   ]
  },
  {
   "cell_type": "code",
   "execution_count": 76,
   "id": "a6c28d6e",
   "metadata": {},
   "outputs": [
    {
     "name": "stdout",
     "output_type": "stream",
     "text": [
      "{'type': 'Feature', 'geometry': None, 'id': 'Andes_MCDS4S5_Yearly_Monthly_2000_02_00000000000000000001', 'properties': {'CCI': 1.0353289839931723, 'COD_CUEN': '023', 'Month': 2, 'SCI': 0.5195842828748443, 'Year': 2000, 'date': {'type': 'Date', 'value': 949363200000}}}\n"
     ]
    }
   ],
   "source": [
    "ee_first_feature = ee.feature.Feature(ee_YearMonth_means_per_basin_fc.first())\n",
    "# Remove geometry for quicker download\n",
    "ee_first_feature = remove_geometry(ee_first_feature)\n",
    "first_feature = ee_first_feature.getInfo()\n",
    "print(first_feature)\n"
   ]
  },
  {
   "cell_type": "markdown",
   "id": "3b4bd40c",
   "metadata": {},
   "source": [
    "### 6.2 Monthly (Year-Month) average of SCA and CCA for all months per basin\n",
    "\n",
    "- This is the same as 6.1 except it does not have properties for Year and Month and uses the full month date for Year instead. \n",
    "- This version also does't add a dummy property for 2000-01-01"
   ]
  },
  {
   "cell_type": "code",
   "execution_count": 39,
   "id": "1c45493d",
   "metadata": {},
   "outputs": [
    {
     "data": {
      "text/plain": [
       "<module 'observatorio_ipa.services.gee.processes.stats.basins.year_month.sca_ym_bna' from 'C:\\\\Users\\\\erick\\\\Documents\\\\Projects\\\\teleamb\\\\observatorio_ipa\\\\src\\\\observatorio_ipa\\\\services\\\\gee\\\\processes\\\\stats\\\\basins\\\\year_month\\\\sca_ym_bna.py'>"
      ]
     },
     "execution_count": 39,
     "metadata": {},
     "output_type": "execute_result"
    }
   ],
   "source": [
    "from observatorio_ipa.services.gee.processes.stats.basins.year_month import sca_ym_bna\n",
    "reload(sca_ym_bna)"
   ]
  },
  {
   "cell_type": "code",
   "execution_count": null,
   "id": "59a983fa",
   "metadata": {},
   "outputs": [
    {
     "name": "stdout",
     "output_type": "stream",
     "text": [
      "Processing basin: 010, Table Name: MCD_SCA_y_m_BNA_010\n",
      "Processing basin: 023, Table Name: MCD_SCA_y_m_BNA_023\n",
      "Processing basin: 024, Table Name: MCD_SCA_y_m_BNA_024\n"
     ]
    }
   ],
   "source": [
    "monthly_means = sca_ym_bna.SCA_YM_BNA(\n",
    "    ee_icollection=ee_monthly_ic,\n",
    "    ee_basins_fc=ee_basins_bna_fc,\n",
    "    basins_cd_property=CUENCA_PROPERTY_NAME,\n",
    "    export_target=\"gee_assets\",  # Options: \"gdrive\" or \"gee_assets\n",
    "    table_prefix=SCA_Y_M_BNA_TBL_PREFIX,\n",
    "    export_path=ASSETS_YEAR_MONTH_TBL_EXPORT_PATH,\n",
    "    max_exports=3,  # Limit export tasks for testing\n",
    "    basin_codes=[\"010\", \"023\", \"024\"],  # Specify basin codes to process\n",
    ")\n",
    "monthly_means.calc_stats()"
   ]
  },
  {
   "cell_type": "code",
   "execution_count": 41,
   "id": "304367e6",
   "metadata": {},
   "outputs": [],
   "source": [
    "basin_stats_item = monthly_means.get_stats_item(\"023\")\n",
    "if basin_stats_item is not None:\n",
    "    ee_stats_fc = basin_stats_item[\"ee_stats_fc\"]\n",
    "    ee_stats_patched_fc = ee_stats_fc.map(remove_geometry)\n",
    "    stats_patched_fc = ee_stats_patched_fc.getInfo()"
   ]
  },
  {
   "cell_type": "code",
   "execution_count": 48,
   "id": "b6a199b5",
   "metadata": {},
   "outputs": [
    {
     "name": "stdout",
     "output_type": "stream",
     "text": [
      "{'Year': '2000-02-01', 'SCA': '0.52', 'CCA': '1.04'}\n",
      "{'Year': '2000-03-01', 'SCA': '0.41', 'CCA': '1.65'}\n",
      "{'Year': '2000-04-01', 'SCA': '0.44', 'CCA': '15.40'}\n",
      "{'Year': '2000-05-01', 'SCA': '6.23', 'CCA': '7.63'}\n",
      "{'Year': '2000-06-01', 'SCA': '12.29', 'CCA': '6.63'}\n",
      "{'Year': '2000-07-01', 'SCA': '4.12', 'CCA': '3.45'}\n",
      "{'Year': '2000-08-01', 'SCA': '1.33', 'CCA': '6.17'}\n",
      "{'Year': '2000-09-01', 'SCA': '0.72', 'CCA': '0.97'}\n",
      "{'Year': '2000-10-01', 'SCA': '0.50', 'CCA': '2.78'}\n",
      "{'Year': '2000-11-01', 'SCA': '0.44', 'CCA': '0.02'}\n"
     ]
    }
   ],
   "source": [
    "print_fc_properties(\n",
    "    stats_patched_fc, monthly_means.bands_of_interest, 10)"
   ]
  },
  {
   "cell_type": "markdown",
   "id": "c65e4187",
   "metadata": {},
   "source": [
    "#### Manual step-by-step Run"
   ]
  },
  {
   "cell_type": "code",
   "execution_count": 152,
   "id": "2248cb2a",
   "metadata": {},
   "outputs": [],
   "source": [
    "ee_icollection=ee_monthly_ic\n",
    "ee_fcollection=ee_basins_bna_fc\n",
    "property=CUENCA_PROPERTY_NAME\n",
    "export_target=\"gee_assets\"  # Options: \"gdrive\" or \"gee_assets\n",
    "img_prefix=SCA_YM_BNA_TBL_PREFIX\n",
    "export_path=ASSETS_YEAR_MONTH_TBL_EXPORT_PATH\n",
    "max_exports=3  # Limit export tasks for testing"
   ]
  },
  {
   "cell_type": "code",
   "execution_count": 153,
   "id": "53fbd8c5",
   "metadata": {},
   "outputs": [
    {
     "name": "stdout",
     "output_type": "stream",
     "text": [
      "basin code: 023\n"
     ]
    }
   ],
   "source": [
    "basin_code_list = ee_fcollection.aggregate_array(property).getInfo()\n",
    "if basin_code_list is None:\n",
    "    basin_code_list = []\n",
    "else:\n",
    "    basin_code = basin_code_list[1]\n",
    "    print(f\"basin code: {basin_code}\")"
   ]
  },
  {
   "cell_type": "code",
   "execution_count": 154,
   "id": "6b54c10e",
   "metadata": {},
   "outputs": [
    {
     "name": "stdout",
     "output_type": "stream",
     "text": [
      "Table name: MCD_SCA_ym_BNA_023\n",
      "Exporting to gee_assets at projects/ee-observatorionieves/assets/Test/yearMonth_ee/MCD_SCA_ym_BNA_023\n"
     ]
    }
   ],
   "source": [
    "table_name = f\"{img_prefix}{basin_code}\"\n",
    "print(f\"Table name: {table_name}\")\n",
    "print(f\"Exporting to {export_target} at {export_path}/{table_name}\")"
   ]
  },
  {
   "cell_type": "code",
   "execution_count": 155,
   "id": "54f0977d",
   "metadata": {},
   "outputs": [],
   "source": [
    "ee_YearMonth_means_per_basin_fc = sca_ym_bna._calc_ym_means_per_basin(\n",
    "    basin_code, property, ee_fcollection, ee_icollection\n",
    ")"
   ]
  },
  {
   "cell_type": "code",
   "execution_count": 157,
   "id": "fba6696d",
   "metadata": {},
   "outputs": [],
   "source": [
    "ee_YearMonth_means_per_basin_patched_fc = ee_YearMonth_means_per_basin_fc.map(remove_geometry)\n",
    "ee_YearMonth_means_per_basin_patched = ee_YearMonth_means_per_basin_patched_fc.getInfo()"
   ]
  },
  {
   "cell_type": "code",
   "execution_count": 158,
   "id": "8346db14",
   "metadata": {},
   "outputs": [
    {
     "name": "stdout",
     "output_type": "stream",
     "text": [
      "{'Year': '2000-02-01', 'SCA': '0.52', 'CCA': '1.04'}\n",
      "{'Year': '2000-03-01', 'SCA': '0.41', 'CCA': '1.65'}\n",
      "{'Year': '2000-04-01', 'SCA': '0.44', 'CCA': '15.40'}\n",
      "{'Year': '2000-05-01', 'SCA': '6.23', 'CCA': '7.63'}\n",
      "{'Year': '2000-06-01', 'SCA': '12.29', 'CCA': '6.63'}\n",
      "{'Year': '2000-07-01', 'SCA': '4.12', 'CCA': '3.45'}\n",
      "{'Year': '2000-08-01', 'SCA': '1.33', 'CCA': '6.17'}\n",
      "{'Year': '2000-09-01', 'SCA': '0.72', 'CCA': '0.97'}\n",
      "{'Year': '2000-10-01', 'SCA': '0.50', 'CCA': '2.78'}\n",
      "{'Year': '2000-11-01', 'SCA': '0.44', 'CCA': '0.02'}\n",
      "{'Year': '2000-12-01', 'SCA': '0.32', 'CCA': '0.54'}\n",
      "{'Year': '2001-01-01', 'SCA': '1.20', 'CCA': '5.28'}\n",
      "{'Year': '2001-02-01', 'SCA': '1.13', 'CCA': '5.29'}\n",
      "{'Year': '2001-03-01', 'SCA': '2.13', 'CCA': '1.24'}\n",
      "{'Year': '2001-04-01', 'SCA': '0.95', 'CCA': '0.12'}\n",
      "{'Year': '2001-05-01', 'SCA': '3.30', 'CCA': '3.40'}\n",
      "{'Year': '2001-06-01', 'SCA': '0.84', 'CCA': '0.08'}\n",
      "{'Year': '2001-07-01', 'SCA': '0.85', 'CCA': '0.03'}\n",
      "{'Year': '2001-08-01', 'SCA': '1.18', 'CCA': '0.21'}\n",
      "{'Year': '2001-09-01', 'SCA': '1.41', 'CCA': '0.73'}\n",
      "{'Year': '2001-10-01', 'SCA': '0.71', 'CCA': '0.06'}\n",
      "{'Year': '2001-11-01', 'SCA': '0.35', 'CCA': '0.00'}\n",
      "{'Year': '2001-12-01', 'SCA': '0.63', 'CCA': '3.20'}\n",
      "{'Year': '2002-01-01', 'SCA': '0.25', 'CCA': '0.00'}\n",
      "{'Year': '2002-02-01', 'SCA': '0.55', 'CCA': '3.95'}\n",
      "{'Year': '2002-03-01', 'SCA': '0.77', 'CCA': '6.03'}\n",
      "{'Year': '2002-04-01', 'SCA': '1.39', 'CCA': '0.44'}\n",
      "{'Year': '2002-05-01', 'SCA': '10.09', 'CCA': '4.11'}\n",
      "{'Year': '2002-06-01', 'SCA': '6.25', 'CCA': '3.51'}\n",
      "{'Year': '2002-07-01', 'SCA': '29.05', 'CCA': '12.41'}\n",
      "{'Year': '2002-08-01', 'SCA': '7.49', 'CCA': '0.02'}\n",
      "{'Year': '2002-09-01', 'SCA': '3.76', 'CCA': '0.00'}\n",
      "{'Year': '2002-10-01', 'SCA': '1.35', 'CCA': '2.96'}\n",
      "{'Year': '2002-11-01', 'SCA': '0.63', 'CCA': '0.11'}\n",
      "{'Year': '2002-12-01', 'SCA': '0.48', 'CCA': '2.05'}\n",
      "{'Year': '2003-01-01', 'SCA': '0.73', 'CCA': '5.03'}\n",
      "{'Year': '2003-02-01', 'SCA': '0.93', 'CCA': '0.02'}\n",
      "{'Year': '2003-03-01', 'SCA': '0.66', 'CCA': '0.01'}\n",
      "{'Year': '2003-04-01', 'SCA': '0.47', 'CCA': '0.00'}\n",
      "{'Year': '2003-05-01', 'SCA': '8.83', 'CCA': '1.42'}\n",
      "{'Year': '2003-06-01', 'SCA': '4.53', 'CCA': '0.01'}\n",
      "{'Year': '2003-07-01', 'SCA': '4.64', 'CCA': '2.37'}\n",
      "{'Year': '2003-08-01', 'SCA': '4.76', 'CCA': '0.29'}\n",
      "{'Year': '2003-09-01', 'SCA': '0.78', 'CCA': '0.03'}\n",
      "{'Year': '2003-10-01', 'SCA': '0.58', 'CCA': '0.00'}\n",
      "{'Year': '2003-11-01', 'SCA': '0.55', 'CCA': '0.00'}\n",
      "{'Year': '2003-12-01', 'SCA': '0.41', 'CCA': '2.85'}\n",
      "{'Year': '2004-01-01', 'SCA': '0.58', 'CCA': '1.94'}\n",
      "{'Year': '2004-02-01', 'SCA': '0.77', 'CCA': '1.09'}\n",
      "{'Year': '2004-03-01', 'SCA': '0.54', 'CCA': '0.01'}\n",
      "{'Year': '2004-04-01', 'SCA': '0.58', 'CCA': '0.01'}\n",
      "{'Year': '2004-05-01', 'SCA': '0.54', 'CCA': '0.01'}\n",
      "{'Year': '2004-06-01', 'SCA': '0.54', 'CCA': '0.18'}\n",
      "{'Year': '2004-07-01', 'SCA': '7.82', 'CCA': '2.38'}\n",
      "{'Year': '2004-08-01', 'SCA': '17.32', 'CCA': '12.73'}\n",
      "{'Year': '2004-09-01', 'SCA': '2.07', 'CCA': '0.00'}\n",
      "{'Year': '2004-10-01', 'SCA': '0.89', 'CCA': '0.01'}\n",
      "{'Year': '2004-11-01', 'SCA': '0.57', 'CCA': '0.00'}\n",
      "{'Year': '2004-12-01', 'SCA': '0.53', 'CCA': '0.03'}\n",
      "{'Year': '2005-01-01', 'SCA': '0.91', 'CCA': '0.83'}\n",
      "{'Year': '2005-02-01', 'SCA': '0.93', 'CCA': '13.42'}\n",
      "{'Year': '2005-03-01', 'SCA': '0.71', 'CCA': '0.01'}\n",
      "{'Year': '2005-04-01', 'SCA': '5.83', 'CCA': '1.25'}\n",
      "{'Year': '2005-05-01', 'SCA': '8.27', 'CCA': '0.15'}\n",
      "{'Year': '2005-06-01', 'SCA': '2.01', 'CCA': '0.00'}\n",
      "{'Year': '2005-07-01', 'SCA': '0.86', 'CCA': '0.00'}\n",
      "{'Year': '2005-08-01', 'SCA': '0.55', 'CCA': '0.00'}\n",
      "{'Year': '2005-09-01', 'SCA': '22.71', 'CCA': '5.05'}\n",
      "{'Year': '2005-10-01', 'SCA': '10.50', 'CCA': '0.02'}\n",
      "{'Year': '2005-11-01', 'SCA': '1.35', 'CCA': '1.29'}\n",
      "{'Year': '2005-12-01', 'SCA': '0.60', 'CCA': '0.39'}\n",
      "{'Year': '2006-01-01', 'SCA': '1.62', 'CCA': '0.72'}\n",
      "{'Year': '2006-02-01', 'SCA': '2.38', 'CCA': '0.09'}\n",
      "{'Year': '2006-03-01', 'SCA': '0.86', 'CCA': '0.02'}\n",
      "{'Year': '2006-04-01', 'SCA': '0.57', 'CCA': '0.04'}\n",
      "{'Year': '2006-05-01', 'SCA': '3.13', 'CCA': '0.43'}\n",
      "{'Year': '2006-06-01', 'SCA': '6.15', 'CCA': '0.89'}\n",
      "{'Year': '2006-07-01', 'SCA': '1.09', 'CCA': '0.05'}\n",
      "{'Year': '2006-08-01', 'SCA': '2.40', 'CCA': '0.48'}\n",
      "{'Year': '2006-09-01', 'SCA': '3.68', 'CCA': '0.09'}\n",
      "{'Year': '2006-10-01', 'SCA': '0.65', 'CCA': '0.00'}\n",
      "{'Year': '2006-11-01', 'SCA': '0.56', 'CCA': '0.01'}\n",
      "{'Year': '2006-12-01', 'SCA': '0.48', 'CCA': '0.32'}\n",
      "{'Year': '2007-01-01', 'SCA': '0.72', 'CCA': '1.45'}\n",
      "{'Year': '2007-02-01', 'SCA': '0.87', 'CCA': '0.10'}\n",
      "{'Year': '2007-03-01', 'SCA': '0.49', 'CCA': '0.27'}\n",
      "{'Year': '2007-04-01', 'SCA': '0.46', 'CCA': '0.10'}\n",
      "{'Year': '2007-05-01', 'SCA': '0.94', 'CCA': '0.36'}\n",
      "{'Year': '2007-06-01', 'SCA': '5.57', 'CCA': '10.66'}\n",
      "{'Year': '2007-07-01', 'SCA': '11.11', 'CCA': '3.65'}\n",
      "{'Year': '2007-08-01', 'SCA': '5.00', 'CCA': '0.58'}\n",
      "{'Year': '2007-09-01', 'SCA': '1.39', 'CCA': '0.33'}\n",
      "{'Year': '2007-10-01', 'SCA': '0.55', 'CCA': '0.00'}\n",
      "{'Year': '2007-11-01', 'SCA': '0.48', 'CCA': '0.73'}\n",
      "{'Year': '2007-12-01', 'SCA': '0.45', 'CCA': '0.01'}\n",
      "{'Year': '2008-01-01', 'SCA': '1.13', 'CCA': '3.76'}\n",
      "{'Year': '2008-02-01', 'SCA': '1.08', 'CCA': '0.02'}\n",
      "{'Year': '2008-03-01', 'SCA': '0.55', 'CCA': '0.00'}\n",
      "{'Year': '2008-04-01', 'SCA': '0.89', 'CCA': '0.00'}\n",
      "{'Year': '2008-05-01', 'SCA': '0.51', 'CCA': '0.00'}\n",
      "{'Year': '2008-06-01', 'SCA': '6.89', 'CCA': '2.72'}\n",
      "{'Year': '2008-07-01', 'SCA': '3.06', 'CCA': '0.00'}\n",
      "{'Year': '2008-08-01', 'SCA': '0.65', 'CCA': '0.00'}\n",
      "{'Year': '2008-09-01', 'SCA': '0.67', 'CCA': '0.02'}\n",
      "{'Year': '2008-10-01', 'SCA': '0.60', 'CCA': '0.00'}\n",
      "{'Year': '2008-11-01', 'SCA': '0.53', 'CCA': '0.00'}\n",
      "{'Year': '2008-12-01', 'SCA': '0.43', 'CCA': '0.28'}\n",
      "{'Year': '2009-01-01', 'SCA': '0.73', 'CCA': '0.01'}\n",
      "{'Year': '2009-02-01', 'SCA': '0.58', 'CCA': '0.22'}\n",
      "{'Year': '2009-03-01', 'SCA': '2.00', 'CCA': '0.38'}\n",
      "{'Year': '2009-04-01', 'SCA': '0.91', 'CCA': '0.00'}\n",
      "{'Year': '2009-05-01', 'SCA': '0.50', 'CCA': '0.17'}\n",
      "{'Year': '2009-06-01', 'SCA': '0.51', 'CCA': '0.00'}\n",
      "{'Year': '2009-07-01', 'SCA': '9.78', 'CCA': '7.75'}\n",
      "{'Year': '2009-08-01', 'SCA': '2.43', 'CCA': '0.00'}\n",
      "{'Year': '2009-09-01', 'SCA': '0.63', 'CCA': '0.42'}\n",
      "{'Year': '2009-10-01', 'SCA': '0.51', 'CCA': '0.09'}\n",
      "{'Year': '2009-11-01', 'SCA': '0.54', 'CCA': '0.01'}\n",
      "{'Year': '2009-12-01', 'SCA': '0.43', 'CCA': '0.43'}\n",
      "{'Year': '2010-01-01', 'SCA': '0.58', 'CCA': '0.29'}\n",
      "{'Year': '2010-02-01', 'SCA': '0.61', 'CCA': '0.30'}\n",
      "{'Year': '2010-03-01', 'SCA': '0.47', 'CCA': '0.00'}\n",
      "{'Year': '2010-04-01', 'SCA': '0.48', 'CCA': '3.30'}\n",
      "{'Year': '2010-05-01', 'SCA': '9.82', 'CCA': '6.88'}\n",
      "{'Year': '2010-06-01', 'SCA': '1.23', 'CCA': '0.01'}\n",
      "{'Year': '2010-07-01', 'SCA': '0.51', 'CCA': '0.01'}\n",
      "{'Year': '2010-08-01', 'SCA': '0.46', 'CCA': '0.03'}\n",
      "{'Year': '2010-09-01', 'SCA': '0.46', 'CCA': '0.06'}\n",
      "{'Year': '2010-10-01', 'SCA': '0.73', 'CCA': '0.07'}\n",
      "{'Year': '2010-11-01', 'SCA': '0.41', 'CCA': '0.00'}\n",
      "{'Year': '2010-12-01', 'SCA': '0.39', 'CCA': '0.00'}\n",
      "{'Year': '2011-01-01', 'SCA': '0.51', 'CCA': '2.39'}\n",
      "{'Year': '2011-02-01', 'SCA': '1.75', 'CCA': '2.43'}\n",
      "{'Year': '2011-03-01', 'SCA': '1.11', 'CCA': '0.19'}\n",
      "{'Year': '2011-04-01', 'SCA': '1.02', 'CCA': '0.13'}\n",
      "{'Year': '2011-05-01', 'SCA': '0.78', 'CCA': '0.07'}\n",
      "{'Year': '2011-06-01', 'SCA': '15.02', 'CCA': '8.16'}\n",
      "{'Year': '2011-07-01', 'SCA': '45.84', 'CCA': '10.60'}\n",
      "{'Year': '2011-08-01', 'SCA': '15.22', 'CCA': '0.03'}\n",
      "{'Year': '2011-09-01', 'SCA': '6.36', 'CCA': '0.00'}\n",
      "{'Year': '2011-10-01', 'SCA': '2.23', 'CCA': '0.15'}\n",
      "{'Year': '2011-11-01', 'SCA': '0.67', 'CCA': '0.00'}\n",
      "{'Year': '2011-12-01', 'SCA': '0.70', 'CCA': '0.34'}\n",
      "{'Year': '2012-01-01', 'SCA': '1.78', 'CCA': '1.07'}\n",
      "{'Year': '2012-02-01', 'SCA': '3.16', 'CCA': '3.78'}\n",
      "{'Year': '2012-03-01', 'SCA': '2.08', 'CCA': '0.08'}\n",
      "{'Year': '2012-04-01', 'SCA': '3.57', 'CCA': '0.63'}\n",
      "{'Year': '2012-05-01', 'SCA': '1.54', 'CCA': '0.00'}\n",
      "{'Year': '2012-06-01', 'SCA': '4.58', 'CCA': '1.13'}\n",
      "{'Year': '2012-07-01', 'SCA': '10.08', 'CCA': '2.93'}\n",
      "{'Year': '2012-08-01', 'SCA': '3.02', 'CCA': '0.01'}\n",
      "{'Year': '2012-09-01', 'SCA': '0.90', 'CCA': '0.01'}\n",
      "{'Year': '2012-10-01', 'SCA': '0.77', 'CCA': '0.74'}\n",
      "{'Year': '2012-11-01', 'SCA': '0.47', 'CCA': '0.04'}\n",
      "{'Year': '2012-12-01', 'SCA': '0.62', 'CCA': '0.04'}\n",
      "{'Year': '2013-01-01', 'SCA': '1.01', 'CCA': '8.15'}\n",
      "{'Year': '2013-02-01', 'SCA': '1.74', 'CCA': '0.78'}\n",
      "{'Year': '2013-03-01', 'SCA': '0.47', 'CCA': '0.00'}\n",
      "{'Year': '2013-04-01', 'SCA': '0.43', 'CCA': '0.00'}\n",
      "{'Year': '2013-05-01', 'SCA': '11.34', 'CCA': '3.59'}\n",
      "{'Year': '2013-06-01', 'SCA': '32.51', 'CCA': '15.78'}\n",
      "{'Year': '2013-07-01', 'SCA': '17.91', 'CCA': '6.17'}\n",
      "{'Year': '2013-08-01', 'SCA': '11.25', 'CCA': '2.68'}\n",
      "{'Year': '2013-09-01', 'SCA': '11.69', 'CCA': '0.40'}\n",
      "{'Year': '2013-10-01', 'SCA': '3.14', 'CCA': '0.00'}\n",
      "{'Year': '2013-11-01', 'SCA': '0.62', 'CCA': '0.00'}\n",
      "{'Year': '2013-12-01', 'SCA': '0.54', 'CCA': '0.03'}\n",
      "{'Year': '2014-01-01', 'SCA': '1.51', 'CCA': '0.77'}\n",
      "{'Year': '2014-02-01', 'SCA': '0.62', 'CCA': '0.03'}\n",
      "{'Year': '2014-03-01', 'SCA': '0.52', 'CCA': '0.00'}\n",
      "{'Year': '2014-04-01', 'SCA': '0.68', 'CCA': '0.04'}\n",
      "{'Year': '2014-05-01', 'SCA': '6.75', 'CCA': '4.61'}\n",
      "{'Year': '2014-06-01', 'SCA': '5.60', 'CCA': '1.19'}\n",
      "{'Year': '2014-07-01', 'SCA': '1.46', 'CCA': '0.06'}\n",
      "{'Year': '2014-08-01', 'SCA': '1.14', 'CCA': '0.25'}\n",
      "{'Year': '2014-09-01', 'SCA': '2.37', 'CCA': '0.55'}\n",
      "{'Year': '2014-10-01', 'SCA': '0.64', 'CCA': '0.26'}\n",
      "{'Year': '2014-11-01', 'SCA': '0.57', 'CCA': '0.09'}\n",
      "{'Year': '2014-12-01', 'SCA': '0.43', 'CCA': '0.02'}\n",
      "{'Year': '2015-01-01', 'SCA': '0.70', 'CCA': '0.39'}\n",
      "{'Year': '2015-02-01', 'SCA': '1.15', 'CCA': '0.38'}\n",
      "{'Year': '2015-03-01', 'SCA': '5.50', 'CCA': '1.04'}\n",
      "{'Year': '2015-04-01', 'SCA': '7.47', 'CCA': '0.05'}\n",
      "{'Year': '2015-05-01', 'SCA': '7.49', 'CCA': '1.73'}\n",
      "{'Year': '2015-06-01', 'SCA': '5.59', 'CCA': '0.31'}\n",
      "{'Year': '2015-07-01', 'SCA': '4.42', 'CCA': '2.29'}\n",
      "{'Year': '2015-08-01', 'SCA': '5.55', 'CCA': '0.64'}\n",
      "{'Year': '2015-09-01', 'SCA': '2.14', 'CCA': '0.01'}\n",
      "{'Year': '2015-10-01', 'SCA': '3.02', 'CCA': '1.26'}\n",
      "{'Year': '2015-11-01', 'SCA': '1.70', 'CCA': '0.01'}\n",
      "{'Year': '2015-12-01', 'SCA': '0.85', 'CCA': '4.01'}\n",
      "{'Year': '2016-01-01', 'SCA': '0.66', 'CCA': '0.01'}\n",
      "{'Year': '2016-02-01', 'SCA': '0.76', 'CCA': '10.56'}\n",
      "{'Year': '2016-03-01', 'SCA': '0.57', 'CCA': '0.00'}\n",
      "{'Year': '2016-04-01', 'SCA': '2.05', 'CCA': '0.62'}\n",
      "{'Year': '2016-05-01', 'SCA': '1.71', 'CCA': '1.30'}\n",
      "{'Year': '2016-06-01', 'SCA': '0.65', 'CCA': '0.09'}\n",
      "{'Year': '2016-07-01', 'SCA': '8.49', 'CCA': '6.51'}\n",
      "{'Year': '2016-08-01', 'SCA': '0.81', 'CCA': '0.04'}\n",
      "{'Year': '2016-09-01', 'SCA': '0.58', 'CCA': '0.00'}\n",
      "{'Year': '2016-10-01', 'SCA': '0.56', 'CCA': '0.00'}\n",
      "{'Year': '2016-11-01', 'SCA': '0.46', 'CCA': '0.10'}\n",
      "{'Year': '2016-12-01', 'SCA': '0.47', 'CCA': '0.05'}\n",
      "{'Year': '2017-01-01', 'SCA': '1.41', 'CCA': '0.57'}\n",
      "{'Year': '2017-02-01', 'SCA': '1.52', 'CCA': '12.47'}\n",
      "{'Year': '2017-03-01', 'SCA': '1.62', 'CCA': '0.02'}\n",
      "{'Year': '2017-04-01', 'SCA': '3.54', 'CCA': '0.44'}\n",
      "{'Year': '2017-05-01', 'SCA': '11.08', 'CCA': '11.85'}\n",
      "{'Year': '2017-06-01', 'SCA': '48.88', 'CCA': '12.34'}\n",
      "{'Year': '2017-07-01', 'SCA': '25.69', 'CCA': '0.02'}\n",
      "{'Year': '2017-08-01', 'SCA': '12.02', 'CCA': '0.01'}\n",
      "{'Year': '2017-09-01', 'SCA': '5.30', 'CCA': '0.00'}\n",
      "{'Year': '2017-10-01', 'SCA': '2.16', 'CCA': '0.00'}\n",
      "{'Year': '2017-11-01', 'SCA': '0.89', 'CCA': '0.00'}\n",
      "{'Year': '2017-12-01', 'SCA': '0.60', 'CCA': '0.68'}\n",
      "{'Year': '2018-01-01', 'SCA': '0.95', 'CCA': '2.38'}\n",
      "{'Year': '2018-02-01', 'SCA': '2.39', 'CCA': '2.84'}\n",
      "{'Year': '2018-03-01', 'SCA': '1.27', 'CCA': '0.03'}\n",
      "{'Year': '2018-04-01', 'SCA': '0.80', 'CCA': '0.00'}\n",
      "{'Year': '2018-05-01', 'SCA': '0.71', 'CCA': '0.05'}\n",
      "{'Year': '2018-06-01', 'SCA': '9.99', 'CCA': '3.02'}\n",
      "{'Year': '2018-07-01', 'SCA': '15.79', 'CCA': '4.62'}\n",
      "{'Year': '2018-08-01', 'SCA': '17.18', 'CCA': '1.00'}\n",
      "{'Year': '2018-09-01', 'SCA': '4.84', 'CCA': '0.00'}\n",
      "{'Year': '2018-10-01', 'SCA': '1.49', 'CCA': '0.90'}\n",
      "{'Year': '2018-11-01', 'SCA': '0.63', 'CCA': '0.00'}\n",
      "{'Year': '2018-12-01', 'SCA': '0.57', 'CCA': '1.07'}\n",
      "{'Year': '2019-01-01', 'SCA': '0.64', 'CCA': '3.45'}\n",
      "{'Year': '2019-02-01', 'SCA': '3.48', 'CCA': '11.99'}\n",
      "{'Year': '2019-03-01', 'SCA': '0.98', 'CCA': '0.00'}\n",
      "{'Year': '2019-04-01', 'SCA': '1.23', 'CCA': '0.04'}\n",
      "{'Year': '2019-05-01', 'SCA': '1.09', 'CCA': '0.89'}\n",
      "{'Year': '2019-06-01', 'SCA': '7.11', 'CCA': '2.73'}\n",
      "{'Year': '2019-07-01', 'SCA': '4.76', 'CCA': '1.64'}\n",
      "{'Year': '2019-08-01', 'SCA': '0.95', 'CCA': '0.00'}\n",
      "{'Year': '2019-09-01', 'SCA': '6.70', 'CCA': '1.32'}\n",
      "{'Year': '2019-10-01', 'SCA': '0.81', 'CCA': '0.17'}\n",
      "{'Year': '2019-11-01', 'SCA': '0.62', 'CCA': '0.74'}\n",
      "{'Year': '2019-12-01', 'SCA': '0.62', 'CCA': '1.47'}\n",
      "{'Year': '2020-01-01', 'SCA': '1.06', 'CCA': '2.69'}\n",
      "{'Year': '2020-02-01', 'SCA': '0.77', 'CCA': '0.35'}\n",
      "{'Year': '2020-03-01', 'SCA': '1.32', 'CCA': '1.02'}\n",
      "{'Year': '2020-04-01', 'SCA': '0.68', 'CCA': '0.01'}\n",
      "{'Year': '2020-05-01', 'SCA': '0.61', 'CCA': '0.32'}\n",
      "{'Year': '2020-06-01', 'SCA': '1.40', 'CCA': '0.14'}\n",
      "{'Year': '2020-07-01', 'SCA': '0.62', 'CCA': '0.00'}\n",
      "{'Year': '2020-08-01', 'SCA': '9.41', 'CCA': '4.93'}\n",
      "{'Year': '2020-09-01', 'SCA': '17.10', 'CCA': '0.45'}\n",
      "{'Year': '2020-10-01', 'SCA': '3.16', 'CCA': '0.10'}\n",
      "{'Year': '2020-11-01', 'SCA': '0.68', 'CCA': '0.00'}\n",
      "{'Year': '2020-12-01', 'SCA': '0.62', 'CCA': '0.16'}\n",
      "{'Year': '2021-01-01', 'SCA': '0.86', 'CCA': '2.71'}\n",
      "{'Year': '2021-02-01', 'SCA': '0.71', 'CCA': '0.01'}\n",
      "{'Year': '2021-03-01', 'SCA': '0.92', 'CCA': '0.01'}\n",
      "{'Year': '2021-04-01', 'SCA': '0.54', 'CCA': '0.00'}\n",
      "{'Year': '2021-05-01', 'SCA': '10.39', 'CCA': '5.39'}\n",
      "{'Year': '2021-06-01', 'SCA': '22.46', 'CCA': '3.28'}\n",
      "{'Year': '2021-07-01', 'SCA': '7.13', 'CCA': '2.68'}\n",
      "{'Year': '2021-08-01', 'SCA': '7.70', 'CCA': '0.87'}\n",
      "{'Year': '2021-09-01', 'SCA': '0.70', 'CCA': '0.02'}\n",
      "{'Year': '2021-10-01', 'SCA': '0.75', 'CCA': '0.34'}\n",
      "{'Year': '2021-11-01', 'SCA': '0.53', 'CCA': '0.00'}\n",
      "{'Year': '2021-12-01', 'SCA': '1.10', 'CCA': '10.60'}\n",
      "{'Year': '2022-01-01', 'SCA': '1.30', 'CCA': '0.83'}\n",
      "{'Year': '2022-02-01', 'SCA': '0.69', 'CCA': '0.10'}\n",
      "{'Year': '2022-03-01', 'SCA': '1.05', 'CCA': '0.08'}\n",
      "{'Year': '2022-04-01', 'SCA': '0.36', 'CCA': '1.01'}\n",
      "{'Year': '2022-05-01', 'SCA': '0.75', 'CCA': '0.00'}\n",
      "{'Year': '2022-06-01', 'SCA': '10.02', 'CCA': '1.48'}\n",
      "{'Year': '2022-07-01', 'SCA': '5.40', 'CCA': '1.93'}\n",
      "{'Year': '2022-08-01', 'SCA': '1.60', 'CCA': '0.01'}\n",
      "{'Year': '2022-09-01', 'SCA': '0.74', 'CCA': '0.01'}\n",
      "{'Year': '2022-10-01', 'SCA': '0.56', 'CCA': '0.01'}\n",
      "{'Year': '2022-11-01', 'SCA': '0.54', 'CCA': '0.01'}\n",
      "{'Year': '2022-12-01', 'SCA': '0.97', 'CCA': '0.19'}\n",
      "{'Year': '2023-01-01', 'SCA': '0.71', 'CCA': '0.11'}\n",
      "{'Year': '2023-02-01', 'SCA': '3.35', 'CCA': '1.32'}\n",
      "{'Year': '2023-03-01', 'SCA': '1.37', 'CCA': '0.45'}\n",
      "{'Year': '2023-04-01', 'SCA': '1.13', 'CCA': '0.01'}\n",
      "{'Year': '2023-05-01', 'SCA': '0.68', 'CCA': '0.16'}\n",
      "{'Year': '2023-06-01', 'SCA': '0.60', 'CCA': '0.03'}\n",
      "{'Year': '2023-07-01', 'SCA': '0.57', 'CCA': '0.01'}\n",
      "{'Year': '2023-08-01', 'SCA': '0.55', 'CCA': '3.26'}\n",
      "{'Year': '2023-09-01', 'SCA': '0.63', 'CCA': '0.00'}\n",
      "{'Year': '2023-10-01', 'SCA': '0.52', 'CCA': '0.02'}\n",
      "{'Year': '2023-11-01', 'SCA': '0.53', 'CCA': '0.07'}\n",
      "{'Year': '2023-12-01', 'SCA': '0.44', 'CCA': '0.20'}\n",
      "{'Year': '2024-01-01', 'SCA': '0.70', 'CCA': '0.01'}\n",
      "{'Year': '2024-02-01', 'SCA': '1.06', 'CCA': '1.83'}\n",
      "{'Year': '2024-03-01', 'SCA': '1.15', 'CCA': '0.31'}\n",
      "{'Year': '2024-04-01', 'SCA': '3.70', 'CCA': '0.81'}\n",
      "{'Year': '2024-05-01', 'SCA': '2.35', 'CCA': '1.61'}\n",
      "{'Year': '2024-06-01', 'SCA': '0.79', 'CCA': '0.27'}\n",
      "{'Year': '2024-07-01', 'SCA': '0.65', 'CCA': '0.40'}\n",
      "{'Year': '2024-08-01', 'SCA': '0.76', 'CCA': '0.07'}\n",
      "{'Year': '2024-09-01', 'SCA': '0.64', 'CCA': '0.00'}\n",
      "{'Year': '2024-10-01', 'SCA': '1.32', 'CCA': '0.78'}\n",
      "{'Year': '2024-11-01', 'SCA': '0.59', 'CCA': '0.00'}\n",
      "{'Year': '2024-12-01', 'SCA': '0.36', 'CCA': '0.00'}\n",
      "{'Year': '2025-01-01', 'SCA': '0.57', 'CCA': '0.16'}\n",
      "{'Year': '2025-02-01', 'SCA': '1.59', 'CCA': '2.34'}\n",
      "{'Year': '2025-03-01', 'SCA': '0.95', 'CCA': '0.82'}\n",
      "{'Year': '2025-04-01', 'SCA': '1.10', 'CCA': '0.42'}\n",
      "{'Year': '2025-05-01', 'SCA': '0.56', 'CCA': '0.00'}\n",
      "{'Year': '2025-06-01', 'SCA': '6.44', 'CCA': '9.47'}\n"
     ]
    }
   ],
   "source": [
    "print_fc_properties(\n",
    "    ee_YearMonth_means_per_basin_patched, \n",
    "    select_properties=[\"Year\", \"SCA\", \"CCA\"]\n",
    ")"
   ]
  },
  {
   "cell_type": "markdown",
   "id": "4e6d70c8",
   "metadata": {},
   "source": [
    "### 6.3 Monthly (Year-Month) average of SCA and CCA per basin elevation (all months)\n"
   ]
  },
  {
   "cell_type": "code",
   "execution_count": 49,
   "id": "36b5f3ce",
   "metadata": {},
   "outputs": [
    {
     "data": {
      "text/plain": [
       "<module 'observatorio_ipa.services.gee.processes.stats.basins.year_month.sca_ym_elev_bna' from 'C:\\\\Users\\\\erick\\\\Documents\\\\Projects\\\\teleamb\\\\observatorio_ipa\\\\src\\\\observatorio_ipa\\\\services\\\\gee\\\\processes\\\\stats\\\\basins\\\\year_month\\\\sca_ym_elev_bna.py'>"
      ]
     },
     "execution_count": 49,
     "metadata": {},
     "output_type": "execute_result"
    }
   ],
   "source": [
    "from observatorio_ipa.services.gee.processes.stats.basins.year_month import sca_ym_elev_bna\n",
    "reload(sca_ym_elev_bna)"
   ]
  },
  {
   "cell_type": "code",
   "execution_count": 50,
   "id": "329cf244",
   "metadata": {},
   "outputs": [
    {
     "name": "stdout",
     "output_type": "stream",
     "text": [
      "Processing basin: 010, Table Name: MCD_SCA_ym_elev_BNA_010\n",
      "Processing basin: 023, Table Name: MCD_SCA_ym_elev_BNA_023\n",
      "Processing basin: 024, Table Name: MCD_SCA_ym_elev_BNA_024\n"
     ]
    }
   ],
   "source": [
    "monthly_elev_stats = sca_ym_elev_bna.SCA_YM_Elev_BNA(\n",
    "    ee_icollection=ee_monthly_ic,\n",
    "    ee_basins_fc=ee_basins_bna_fc,\n",
    "    basins_cd_property=CUENCA_PROPERTY_NAME,\n",
    "    ee_dem_img=ee_dem_img,\n",
    "    export_target=\"gee_assets\",  # Options: \"gdrive\" or \"gee_assets\n",
    "    table_prefix=SCA_YM_ELEV_BNA_TBL_PREFIX,\n",
    "    export_path=ASSETS_YEAR_MONTH_TBL_EXPORT_PATH,\n",
    "    max_exports=3,  # Limit export tasks for testing\n",
    ")\n",
    "\n",
    "monthly_elev_stats.calc_stats()"
   ]
  },
  {
   "cell_type": "code",
   "execution_count": 52,
   "id": "43b86834",
   "metadata": {},
   "outputs": [],
   "source": [
    "basin_stats_item = monthly_elev_stats.get_stats_item(\"023\")\n",
    "if basin_stats_item is not None:\n",
    "    ee_stats_fc = basin_stats_item[\"ee_stats_fc\"]\n",
    "    ee_stats_patched_fc = ee_stats_fc.map(remove_geometry)\n",
    "    ee_stats_patched_fc = ee_stats_patched_fc.limit(100)  # Limit to 10 features for testing\n",
    "    stats_patched_fc = ee_stats_patched_fc.getInfo()"
   ]
  },
  {
   "cell_type": "code",
   "execution_count": 53,
   "id": "6b1d1021",
   "metadata": {},
   "outputs": [
    {
     "name": "stdout",
     "output_type": "stream",
     "text": [
      "{'Date': '2000-02-01', 'Elevation': 3400, 'SCA': 0, 'CCA': 0}\n",
      "{'Date': '2000-02-01', 'Elevation': 3500, 'SCA': 0.48188099464156725, 'CCA': 0}\n",
      "{'Date': '2000-02-01', 'Elevation': 3600, 'SCA': 0, 'CCA': 0}\n",
      "{'Date': '2000-02-01', 'Elevation': 3700, 'SCA': 0, 'CCA': 0}\n",
      "{'Date': '2000-02-01', 'Elevation': 3800, 'SCA': 0, 'CCA': 0}\n",
      "{'Date': '2000-02-01', 'Elevation': 3900, 'SCA': 0, 'CCA': 0}\n",
      "{'Date': '2000-02-01', 'Elevation': 4000, 'SCA': 0, 'CCA': 0}\n",
      "{'Date': '2000-02-01', 'Elevation': 4100, 'SCA': 0, 'CCA': 0.8228235467112023}\n",
      "{'Date': '2000-02-01', 'Elevation': 4200, 'SCA': 0, 'CCA': 1.2694853348513706}\n",
      "{'Date': '2000-02-01', 'Elevation': 4300, 'SCA': 1.1193776764757297, 'CCA': 1.7481743483805678}\n"
     ]
    }
   ],
   "source": [
    "print_fc_properties(\n",
    "    stats_patched_fc, monthly_elev_stats.bands_of_interest, 10\n",
    "    )"
   ]
  },
  {
   "cell_type": "markdown",
   "id": "d4b44eb8",
   "metadata": {},
   "source": [
    "#### Manual step-by-step Run"
   ]
  },
  {
   "cell_type": "code",
   "execution_count": 165,
   "id": "6127246f",
   "metadata": {},
   "outputs": [],
   "source": [
    "ee_icollection=ee_monthly_ic\n",
    "ee_fcollection=ee_basins_bna_fc\n",
    "property=CUENCA_PROPERTY_NAME\n",
    "ee_dem_img=ee_dem_img\n",
    "export_target=\"gee_assets\"  # Options: \"gdrive\" or \"gee_assets\n",
    "img_prefix=SCA_YM_ELEV_BNA_TBL_PREFIX\n",
    "export_path=ASSETS_YEAR_MONTH_TBL_EXPORT_PATH\n",
    "max_exports=3  # Limit export tasks for testing"
   ]
  },
  {
   "cell_type": "code",
   "execution_count": 166,
   "id": "b27db2d1",
   "metadata": {},
   "outputs": [
    {
     "name": "stdout",
     "output_type": "stream",
     "text": [
      "basin code: 023\n"
     ]
    }
   ],
   "source": [
    "basin_code_list = ee_fcollection.aggregate_array(property).getInfo()\n",
    "if basin_code_list is None:\n",
    "    basin_code_list = []\n",
    "else:\n",
    "    basin_code = basin_code_list[1]\n",
    "    print(f\"basin code: {basin_code}\")"
   ]
  },
  {
   "cell_type": "code",
   "execution_count": 167,
   "id": "c141a9f9",
   "metadata": {},
   "outputs": [
    {
     "name": "stdout",
     "output_type": "stream",
     "text": [
      "Table name: MCD_SCA_ym_elev_BNA_023\n",
      "Exporting to gee_assets at projects/ee-observatorionieves/assets/Test/yearMonth_ee/MCD_SCA_ym_elev_BNA_023\n"
     ]
    }
   ],
   "source": [
    "table_name = f\"{img_prefix}{basin_code}\"\n",
    "print(f\"Table name: {table_name}\")\n",
    "print(f\"Exporting to {export_target} at {export_path}/{table_name}\")"
   ]
  },
  {
   "cell_type": "code",
   "execution_count": 169,
   "id": "cd496af4",
   "metadata": {},
   "outputs": [],
   "source": [
    "ee_YearMonth_means_per_elev_basin_fc = sca_ym_elev_bna._ee_monthly_stats_per_elev_basin(\n",
    "    basin_code, property, ee_fcollection, ee_icollection, ee_dem_img\n",
    ")"
   ]
  },
  {
   "cell_type": "code",
   "execution_count": 172,
   "id": "ca793c34",
   "metadata": {},
   "outputs": [],
   "source": [
    "\n",
    "#! Produced the following error \n",
    "#! EEException: Collection query aborted after accumulating over 5000 elements.\n",
    "ee_YearMonth_means_per_elev_basin_patched_fc = ee_YearMonth_means_per_elev_basin_fc.map(\n",
    "    remove_geometry\n",
    ").limit(100)\n",
    "ee_YearMonth_means_per_elev_basin_patched = (\n",
    "    ee_YearMonth_means_per_elev_basin_patched_fc.getInfo()\n",
    ")"
   ]
  },
  {
   "cell_type": "code",
   "execution_count": 173,
   "id": "d5c0a2a4",
   "metadata": {},
   "outputs": [
    {
     "name": "stdout",
     "output_type": "stream",
     "text": [
      "{'Date': '2000-02-01', 'Elevation': 3400, 'SCA': 0, 'CCA': 0}\n",
      "{'Date': '2000-02-01', 'Elevation': 3500, 'SCA': 0.48188099464156725, 'CCA': 0}\n",
      "{'Date': '2000-02-01', 'Elevation': 3600, 'SCA': 0, 'CCA': 0}\n",
      "{'Date': '2000-02-01', 'Elevation': 3700, 'SCA': 0, 'CCA': 0}\n",
      "{'Date': '2000-02-01', 'Elevation': 3800, 'SCA': 0, 'CCA': 0}\n",
      "{'Date': '2000-02-01', 'Elevation': 3900, 'SCA': 0, 'CCA': 0}\n",
      "{'Date': '2000-02-01', 'Elevation': 4000, 'SCA': 0, 'CCA': 0}\n",
      "{'Date': '2000-02-01', 'Elevation': 4100, 'SCA': 0, 'CCA': 0.8228235467112023}\n",
      "{'Date': '2000-02-01', 'Elevation': 4200, 'SCA': 0, 'CCA': 1.2694853348513706}\n",
      "{'Date': '2000-02-01', 'Elevation': 4300, 'SCA': 1.1193776764757295, 'CCA': 1.7481743483805678}\n",
      "{'Date': '2000-02-01', 'Elevation': 4400, 'SCA': 0.013369778594247428, 'CCA': 1.0644467709250407}\n",
      "{'Date': '2000-02-01', 'Elevation': 4500, 'SCA': 0, 'CCA': 0.9763941754815376}\n",
      "{'Date': '2000-02-01', 'Elevation': 4600, 'SCA': 0, 'CCA': 0.8517895321835207}\n",
      "{'Date': '2000-02-01', 'Elevation': 4700, 'SCA': 0.009708083635711587, 'CCA': 0.36044274445113234}\n",
      "{'Date': '2000-02-01', 'Elevation': 4800, 'SCA': 0.08817674279582093, 'CCA': 0.6499861514862096}\n",
      "{'Date': '2000-02-01', 'Elevation': 4900, 'SCA': 0.30955089574331174, 'CCA': 0.8571111464468566}\n",
      "{'Date': '2000-02-01', 'Elevation': 5000, 'SCA': 0.4210914777259479, 'CCA': 1.502862201493524}\n",
      "{'Date': '2000-02-01', 'Elevation': 5100, 'SCA': 0.6258834810607395, 'CCA': 1.2504166201990183}\n",
      "{'Date': '2000-02-01', 'Elevation': 5200, 'SCA': 1.5121064676808278, 'CCA': 1.5407940201678285}\n",
      "{'Date': '2000-02-01', 'Elevation': 5300, 'SCA': 3.046464446940984, 'CCA': 0.5081555920434452}\n",
      "{'Date': '2000-02-01', 'Elevation': 5400, 'SCA': 7.62875145278748, 'CCA': 0.3387253534002445}\n",
      "{'Date': '2000-02-01', 'Elevation': 5500, 'SCA': 18.9928929698462, 'CCA': 0.6435034110519158}\n",
      "{'Date': '2000-02-01', 'Elevation': 5600, 'SCA': 44.68011489750621, 'CCA': 0.8878443661052359}\n",
      "{'Date': '2000-02-01', 'Elevation': 5700, 'SCA': 62.49291697145153, 'CCA': 0.5254319359591193}\n",
      "{'Date': '2000-02-01', 'Elevation': 5800, 'SCA': 72.6259129280091, 'CCA': 0}\n",
      "{'Date': '2000-02-01', 'Elevation': 5900, 'SCA': 97.68173143650243, 'CCA': 0}\n",
      "{'Date': '2000-02-01', 'Elevation': 6000, 'SCA': 100, 'CCA': 0}\n",
      "{'Date': '2000-02-01', 'Elevation': 6100, 'SCA': 100, 'CCA': 0}\n",
      "{'Date': '2000-02-01', 'Elevation': 6200, 'SCA': 100, 'CCA': 0}\n",
      "{'Date': '2000-03-01', 'Elevation': 3400, 'SCA': 0, 'CCA': 0.0793433176503781}\n",
      "{'Date': '2000-03-01', 'Elevation': 3500, 'SCA': 1.0816161215113778, 'CCA': 0.29340706456812454}\n",
      "{'Date': '2000-03-01', 'Elevation': 3600, 'SCA': 0.004888045078126775, 'CCA': 0.8843994657046162}\n",
      "{'Date': '2000-03-01', 'Elevation': 3700, 'SCA': 0, 'CCA': 0.909584342159316}\n",
      "{'Date': '2000-03-01', 'Elevation': 3800, 'SCA': 0, 'CCA': 0.6695401016945781}\n",
      "{'Date': '2000-03-01', 'Elevation': 3900, 'SCA': 0, 'CCA': 0.7505178591468668}\n",
      "{'Date': '2000-03-01', 'Elevation': 4000, 'SCA': 0, 'CCA': 0.860083653029534}\n",
      "{'Date': '2000-03-01', 'Elevation': 4100, 'SCA': 0, 'CCA': 1.049388207006322}\n",
      "{'Date': '2000-03-01', 'Elevation': 4200, 'SCA': 0.02601248256165937, 'CCA': 0.9301087224422276}\n",
      "{'Date': '2000-03-01', 'Elevation': 4300, 'SCA': 0.785299981050026, 'CCA': 1.7250846856078272}\n",
      "{'Date': '2000-03-01', 'Elevation': 4400, 'SCA': 0.004638339454182456, 'CCA': 1.51274350697271}\n",
      "{'Date': '2000-03-01', 'Elevation': 4500, 'SCA': 0.0024395482837038123, 'CCA': 1.3410331245780696}\n",
      "{'Date': '2000-03-01', 'Elevation': 4600, 'SCA': 0.022842993221529564, 'CCA': 2.4457905538485836}\n",
      "{'Date': '2000-03-01', 'Elevation': 4700, 'SCA': 0.10211287151645883, 'CCA': 2.260949541536061}\n",
      "{'Date': '2000-03-01', 'Elevation': 4800, 'SCA': 0.2079226861353132, 'CCA': 2.8745180097922893}\n",
      "{'Date': '2000-03-01', 'Elevation': 4900, 'SCA': 0.32835341470043383, 'CCA': 3.340967149315742}\n",
      "{'Date': '2000-03-01', 'Elevation': 5000, 'SCA': 0.4640928887904244, 'CCA': 2.6041488829118413}\n",
      "{'Date': '2000-03-01', 'Elevation': 5100, 'SCA': 1.0055243835424819, 'CCA': 2.833154783080294}\n",
      "{'Date': '2000-03-01', 'Elevation': 5200, 'SCA': 1.0601682722110268, 'CCA': 2.3141738179798983}\n",
      "{'Date': '2000-03-01', 'Elevation': 5300, 'SCA': 1.6728435623097786, 'CCA': 2.2214628912492143}\n",
      "{'Date': '2000-03-01', 'Elevation': 5400, 'SCA': 3.7863325454020496, 'CCA': 2.8264367131962147}\n",
      "{'Date': '2000-03-01', 'Elevation': 5500, 'SCA': 11.607280640798129, 'CCA': 2.684443449169385}\n",
      "{'Date': '2000-03-01', 'Elevation': 5600, 'SCA': 33.30769476602052, 'CCA': 3.0003049859788127}\n",
      "{'Date': '2000-03-01', 'Elevation': 5700, 'SCA': 53.248090428713866, 'CCA': 2.460766979048207}\n",
      "{'Date': '2000-03-01', 'Elevation': 5800, 'SCA': 63.94762223243677, 'CCA': 0.8154260682004204}\n",
      "{'Date': '2000-03-01', 'Elevation': 5900, 'SCA': 92.18874495592044, 'CCA': 0.5943660523813197}\n",
      "{'Date': '2000-03-01', 'Elevation': 6000, 'SCA': 94.3539940969246, 'CCA': 0}\n",
      "{'Date': '2000-03-01', 'Elevation': 6100, 'SCA': 95.88277463623098, 'CCA': 0}\n",
      "{'Date': '2000-03-01', 'Elevation': 6200, 'SCA': 96.29629629629629, 'CCA': 0}\n",
      "{'Date': '2000-04-01', 'Elevation': 3400, 'SCA': 0, 'CCA': 15.285253626026345}\n",
      "{'Date': '2000-04-01', 'Elevation': 3500, 'SCA': 1.4644422918638051, 'CCA': 14.67570963463403}\n",
      "{'Date': '2000-04-01', 'Elevation': 3600, 'SCA': 0.006158936798439734, 'CCA': 14.576177229922658}\n",
      "{'Date': '2000-04-01', 'Elevation': 3700, 'SCA': 0, 'CCA': 14.706269690662863}\n",
      "{'Date': '2000-04-01', 'Elevation': 3800, 'SCA': 0, 'CCA': 14.733496634400709}\n",
      "{'Date': '2000-04-01', 'Elevation': 3900, 'SCA': 0, 'CCA': 14.622932605017615}\n",
      "{'Date': '2000-04-01', 'Elevation': 4000, 'SCA': 0, 'CCA': 15.012967966824291}\n",
      "{'Date': '2000-04-01', 'Elevation': 4100, 'SCA': 0, 'CCA': 15.291464102048398}\n",
      "{'Date': '2000-04-01', 'Elevation': 4200, 'SCA': 0.07844730822954213, 'CCA': 15.490778881860313}\n",
      "{'Date': '2000-04-01', 'Elevation': 4300, 'SCA': 1.18719310454218, 'CCA': 15.560078706750764}\n",
      "{'Date': '2000-04-01', 'Elevation': 4400, 'SCA': 0.006270769929740058, 'CCA': 15.544030600825428}\n",
      "{'Date': '2000-04-01', 'Elevation': 4500, 'SCA': 0.0001809769155191124, 'CCA': 15.492013866103427}\n",
      "{'Date': '2000-04-01', 'Elevation': 4600, 'SCA': 0.05015049107343607, 'CCA': 15.359255371958529}\n",
      "{'Date': '2000-04-01', 'Elevation': 4700, 'SCA': 0.14913201190524497, 'CCA': 15.375206086780137}\n",
      "{'Date': '2000-04-01', 'Elevation': 4800, 'SCA': 0.07684731116335769, 'CCA': 15.053953134530879}\n",
      "{'Date': '2000-04-01', 'Elevation': 4900, 'SCA': 0.1198120381034309, 'CCA': 14.981283366443721}\n",
      "{'Date': '2000-04-01', 'Elevation': 5000, 'SCA': 0.16654573826135136, 'CCA': 15.248900637608436}\n",
      "{'Date': '2000-04-01', 'Elevation': 5100, 'SCA': 0.46442247575127665, 'CCA': 15.141849311713424}\n",
      "{'Date': '2000-04-01', 'Elevation': 5200, 'SCA': 0.48691255447163534, 'CCA': 15.167467023003493}\n",
      "{'Date': '2000-04-01', 'Elevation': 5300, 'SCA': 0.6923845334201773, 'CCA': 15.352356681254507}\n",
      "{'Date': '2000-04-01', 'Elevation': 5400, 'SCA': 1.6290389670231467, 'CCA': 15.835907436004783}\n",
      "{'Date': '2000-04-01', 'Elevation': 5500, 'SCA': 5.934256967395366, 'CCA': 16.38836678192475}\n",
      "{'Date': '2000-04-01', 'Elevation': 5600, 'SCA': 21.72043941420123, 'CCA': 16.87230939243824}\n",
      "{'Date': '2000-04-01', 'Elevation': 5700, 'SCA': 40.3461650609513, 'CCA': 16.750375185875868}\n",
      "{'Date': '2000-04-01', 'Elevation': 5800, 'SCA': 51.29449572568629, 'CCA': 16.20095231069333}\n",
      "{'Date': '2000-04-01', 'Elevation': 5900, 'SCA': 85.89014702522839, 'CCA': 15.529075285754674}\n",
      "{'Date': '2000-04-01', 'Elevation': 6000, 'SCA': 87.68704593718569, 'CCA': 14.814814814814815}\n",
      "{'Date': '2000-04-01', 'Elevation': 6100, 'SCA': 91.56233855271746, 'CCA': 14.814814814814815}\n",
      "{'Date': '2000-04-01', 'Elevation': 6200, 'SCA': 86.95652173913044, 'CCA': 14.814814814814815}\n",
      "{'Date': '2000-05-01', 'Elevation': 3400, 'SCA': 0.0846162967058103, 'CCA': 12.221403745031218}\n",
      "{'Date': '2000-05-01', 'Elevation': 3500, 'SCA': 7.039490173215613, 'CCA': 12.244656945054055}\n",
      "{'Date': '2000-05-01', 'Elevation': 3600, 'SCA': 5.471390828739579, 'CCA': 14.152450285326982}\n",
      "{'Date': '2000-05-01', 'Elevation': 3700, 'SCA': 7.403675726262484, 'CCA': 15.9209836499771}\n",
      "{'Date': '2000-05-01', 'Elevation': 3800, 'SCA': 9.228216144255462, 'CCA': 16.032084961751686}\n",
      "{'Date': '2000-05-01', 'Elevation': 3900, 'SCA': 12.47890572892745, 'CCA': 16.332742377435064}\n",
      "{'Date': '2000-05-01', 'Elevation': 4000, 'SCA': 13.666749517186174, 'CCA': 15.571666891098355}\n",
      "{'Date': '2000-05-01', 'Elevation': 4100, 'SCA': 7.096137314484655, 'CCA': 10.626382766629542}\n",
      "{'Date': '2000-05-01', 'Elevation': 4200, 'SCA': 5.116940576511078, 'CCA': 5.341664645721067}\n",
      "{'Date': '2000-05-01', 'Elevation': 4300, 'SCA': 4.0741741143705585, 'CCA': 4.202440027407501}\n",
      "{'Date': '2000-05-01', 'Elevation': 4400, 'SCA': 4.686090739594998, 'CCA': 5.310277508907899}\n",
      "{'Date': '2000-05-01', 'Elevation': 4500, 'SCA': 4.524932586121872, 'CCA': 6.022093387224305}\n",
      "{'Date': '2000-05-01', 'Elevation': 4600, 'SCA': 6.348598994856376, 'CCA': 7.186147004448408}\n"
     ]
    }
   ],
   "source": [
    "print_fc_properties(\n",
    "    ee_YearMonth_means_per_elev_basin_patched,\n",
    "    select_properties=[\"Date\", \"Elevation\", \"SCA\", \"CCA\"],\n",
    ")"
   ]
  },
  {
   "cell_type": "markdown",
   "id": "db2beb44",
   "metadata": {},
   "source": [
    "### 6.4 Monthly (Year-Month) Average Snowline elevation per basin (all months)\n"
   ]
  },
  {
   "cell_type": "code",
   "execution_count": 12,
   "id": "3e603e2e",
   "metadata": {},
   "outputs": [
    {
     "data": {
      "text/plain": [
       "<module 'observatorio_ipa.services.gee.processes.stats.basins.year_month.snowline_ym_bna' from 'C:\\\\Users\\\\erick\\\\Documents\\\\Projects\\\\teleamb\\\\observatorio_ipa\\\\src\\\\observatorio_ipa\\\\services\\\\gee\\\\processes\\\\stats\\\\basins\\\\year_month\\\\snowline_ym_bna.py'>"
      ]
     },
     "execution_count": 12,
     "metadata": {},
     "output_type": "execute_result"
    }
   ],
   "source": [
    "from observatorio_ipa.services.gee.processes.stats.basins.year_month import snowline_ym_bna\n",
    "reload(snowline_ym_bna)"
   ]
  },
  {
   "cell_type": "code",
   "execution_count": 13,
   "id": "16a04b13",
   "metadata": {},
   "outputs": [
    {
     "name": "stdout",
     "output_type": "stream",
     "text": [
      "Processing basin: 010, Table Name: MCD_snowline_ym_BNA_010\n",
      "Processing basin: 023, Table Name: MCD_snowline_ym_BNA_023\n",
      "Processing basin: 024, Table Name: MCD_snowline_ym_BNA_024\n"
     ]
    }
   ],
   "source": [
    "# Initiate class\n",
    "monthly_snowline = snowline_ym_bna.Snowline_YM_BNA(\n",
    "    ee_icollection=ee_monthly_ic,\n",
    "    ee_basins_fc=ee_basins_bna_fc,\n",
    "    basins_cd_property=CUENCA_PROPERTY_NAME,\n",
    "    ee_dem_img=ee_dem_img,\n",
    "    export_target=\"gee_assets\",  # Options: \"gdrive\" or \"gee_assets\n",
    "    export_path=ASSETS_YEAR_MONTH_TBL_EXPORT_PATH,\n",
    "    table_prefix=SNOWLINE_YM_BNA_TBL_PREFIX,\n",
    "    max_exports=3,  # Limit export tasks for testing\n",
    "    basin_codes=['010', '023', '024']  # Specify basin codes to process\n",
    ")\n",
    "monthly_snowline.calc_stats()"
   ]
  },
  {
   "cell_type": "code",
   "execution_count": 14,
   "id": "3c214c47",
   "metadata": {},
   "outputs": [],
   "source": [
    "basin_stats_item = monthly_snowline.get_stats_item(\"023\")\n",
    "if basin_stats_item is not None:\n",
    "    ee_stats_fc = basin_stats_item[\"ee_stats_fc\"]\n",
    "    ee_stats_patched_fc = ee_stats_fc.map(remove_geometry)\n",
    "    stats_patched_fc = ee_stats_patched_fc.getInfo()"
   ]
  },
  {
   "cell_type": "code",
   "execution_count": 15,
   "id": "0301857c",
   "metadata": {},
   "outputs": [
    {
     "name": "stdout",
     "output_type": "stream",
     "text": [
      "{'Date': '2000-02-01', 'Snowline_elev': 4896.720265441552}\n",
      "{'Date': '2000-03-01', 'Snowline_elev': 4980.462978164505}\n",
      "{'Date': '2000-04-01', 'Snowline_elev': 5121.212121212122}\n",
      "{'Date': '2000-05-01', 'Snowline_elev': 4301.722489686596}\n",
      "{'Date': '2000-06-01', 'Snowline_elev': 4261.626308900523}\n",
      "{'Date': '2000-07-01', 'Snowline_elev': 4357.826555902332}\n",
      "{'Date': '2000-08-01', 'Snowline_elev': 4970.078462487877}\n",
      "{'Date': '2000-09-01', 'Snowline_elev': 5449.058983313931}\n",
      "{'Date': '2000-10-01', 'Snowline_elev': 3500}\n",
      "{'Date': '2000-11-01', 'Snowline_elev': None}\n",
      "{'Date': '2000-12-01', 'Snowline_elev': None}\n",
      "{'Date': '2001-01-01', 'Snowline_elev': 4791.330398225695}\n",
      "{'Date': '2001-02-01', 'Snowline_elev': 4782.266545148626}\n",
      "{'Date': '2001-03-01', 'Snowline_elev': 4599.010934168141}\n",
      "{'Date': '2001-04-01', 'Snowline_elev': 4782.763707892796}\n",
      "{'Date': '2001-05-01', 'Snowline_elev': 4550.945318830261}\n",
      "{'Date': '2001-06-01', 'Snowline_elev': 4771.41255020604}\n",
      "{'Date': '2001-07-01', 'Snowline_elev': 4971.044054252968}\n",
      "{'Date': '2001-08-01', 'Snowline_elev': 4695.459784059201}\n",
      "{'Date': '2001-09-01', 'Snowline_elev': 4599.422323086447}\n"
     ]
    }
   ],
   "source": [
    "print_fc_properties(stats_patched_fc, monthly_snowline.bands_of_interest, 20)"
   ]
  },
  {
   "cell_type": "code",
   "execution_count": null,
   "id": "2d087848",
   "metadata": {},
   "outputs": [
    {
     "name": "stdout",
     "output_type": "stream",
     "text": [
      "Processing basin: 010, Table Name: MCD_snowline_ym_BNA_010\n",
      "Processing basin: 023, Table Name: MCD_snowline_ym_BNA_023\n",
      "Processing basin: 024, Table Name: MCD_snowline_ym_BNA_024\n"
     ]
    }
   ],
   "source": [
    "# Run class to create tasks\n",
    "snowline_ym_bna_tasks = snowline_ym_bna_obj.make_exports()\n"
   ]
  },
  {
   "cell_type": "code",
   "execution_count": 34,
   "id": "11384209",
   "metadata": {},
   "outputs": [],
   "source": [
    "for task in snowline_ym_bna_tasks:\n",
    "    task.start()"
   ]
  },
  {
   "cell_type": "code",
   "execution_count": 35,
   "id": "f80315fa",
   "metadata": {},
   "outputs": [
    {
     "name": "stdout",
     "output_type": "stream",
     "text": [
      "Task status count: {'RUNNING': 2, 'READY': 1}\n"
     ]
    }
   ],
   "source": [
    "current_task_status = check_export_list_status(snowline_ym_bna_tasks)"
   ]
  },
  {
   "cell_type": "code",
   "execution_count": 41,
   "id": "3775b734",
   "metadata": {},
   "outputs": [
    {
     "name": "stdout",
     "output_type": "stream",
     "text": [
      "<Task ZO3OSZ3DMB7EQ3PB5GRCMO7H Type.EXPORT_TABLE: MCD_snowline_ym_BNA_010 (State.UNSUBMITTED)>\n"
     ]
    }
   ],
   "source": [
    "print(snowline_ym_bna_tasks[0])"
   ]
  },
  {
   "cell_type": "code",
   "execution_count": 38,
   "id": "855f2778",
   "metadata": {},
   "outputs": [
    {
     "name": "stdout",
     "output_type": "stream",
     "text": [
      "[{'state': 'RUNNING', 'description': 'MCD_snowline_ym_BNA_010', 'priority': 100, 'creation_timestamp_ms': 1753978082453, 'update_timestamp_ms': 1753978091000, 'start_timestamp_ms': 1753978090678, 'task_type': 'EXPORT_FEATURES', 'attempt': 1, 'id': 'ZO3OSZ3DMB7EQ3PB5GRCMO7H', 'name': 'projects/ee-observatorionieves/operations/ZO3OSZ3DMB7EQ3PB5GRCMO7H'}, {'state': 'RUNNING', 'description': 'MCD_snowline_ym_BNA_023', 'priority': 100, 'creation_timestamp_ms': 1753978082912, 'update_timestamp_ms': 1753978090818, 'start_timestamp_ms': 1753978090655, 'task_type': 'EXPORT_FEATURES', 'attempt': 1, 'id': 'DEWKLQ3YHL76X4TDG4YAEYFM', 'name': 'projects/ee-observatorionieves/operations/DEWKLQ3YHL76X4TDG4YAEYFM'}, {'state': 'READY', 'description': 'MCD_snowline_ym_BNA_024', 'priority': 100, 'creation_timestamp_ms': 1753978084141, 'update_timestamp_ms': 1753978090668, 'start_timestamp_ms': 0, 'task_type': 'EXPORT_FEATURES', 'id': '5BKXSMVPVT7QDTW2TARYLWCX', 'name': 'projects/ee-observatorionieves/operations/5BKXSMVPVT7QDTW2TARYLWCX'}]\n"
     ]
    }
   ],
   "source": [
    "print(current_task_status)"
   ]
  },
  {
   "cell_type": "markdown",
   "id": "1b7cb92d",
   "metadata": {},
   "source": [
    "#### Manual step-by-step Run"
   ]
  },
  {
   "cell_type": "code",
   "execution_count": 263,
   "id": "97dbebbd",
   "metadata": {},
   "outputs": [],
   "source": [
    "ee_icollection=ee_monthly_ic\n",
    "ee_fcollection=ee_basins_bna_fc\n",
    "property=CUENCA_PROPERTY_NAME\n",
    "ee_dem_img=ee_dem_img\n",
    "export_target=\"gee_assets\"  # Options: \"gdrive\" or \"gee_assets\n",
    "img_prefix=SNOWLINE_YM_BNA_TBL_PREFIX\n",
    "export_path=ASSETS_YEAR_MONTH_TBL_EXPORT_PATH\n",
    "max_exports=3  # Limit export tasks for testing"
   ]
  },
  {
   "cell_type": "code",
   "execution_count": 264,
   "id": "1d812bb4",
   "metadata": {},
   "outputs": [
    {
     "name": "stdout",
     "output_type": "stream",
     "text": [
      "basin code: 023\n"
     ]
    }
   ],
   "source": [
    "basin_code_list = ee_fcollection.aggregate_array(property).getInfo()\n",
    "if basin_code_list is None:\n",
    "    basin_code_list = []\n",
    "else:\n",
    "    basin_code = basin_code_list[1]\n",
    "    print(f\"basin code: {basin_code}\")"
   ]
  },
  {
   "cell_type": "code",
   "execution_count": 265,
   "id": "d42e2a73",
   "metadata": {},
   "outputs": [
    {
     "name": "stdout",
     "output_type": "stream",
     "text": [
      "Table name: MCD_snowline_ym_BNA_023\n",
      "Exporting to gee_assets at projects/ee-observatorionieves/assets/Test/yearMonth_ee/MCD_snowline_ym_BNA_023\n"
     ]
    }
   ],
   "source": [
    "table_name = f\"{img_prefix}{basin_code}\"\n",
    "print(f\"Table name: {table_name}\")\n",
    "print(f\"Exporting to {export_target} at {export_path}/{table_name}\")"
   ]
  },
  {
   "cell_type": "code",
   "execution_count": 266,
   "id": "dde2fe06",
   "metadata": {},
   "outputs": [],
   "source": [
    "ee_stats_fc = snowline_ym_bna._ee_calc_ym_snowline_per_basin(\n",
    "    basin_code, property, ee_fcollection, ee_icollection, ee_dem_img\n",
    ")"
   ]
  },
  {
   "cell_type": "code",
   "execution_count": 267,
   "id": "2afe4953",
   "metadata": {},
   "outputs": [],
   "source": [
    "# Limiting to first 100 features to avoid error \n",
    "#! Produced the following error \n",
    "#! EEException: Collection query aborted after accumulating over 5000 elements.\n",
    "ee_stats_patched_fc = ee_stats_fc.map(remove_geometry).limit(50)\n",
    "ee_stats_patched = ee_stats_patched_fc.getInfo()\n"
   ]
  },
  {
   "cell_type": "code",
   "execution_count": 268,
   "id": "ad020233",
   "metadata": {},
   "outputs": [
    {
     "name": "stdout",
     "output_type": "stream",
     "text": [
      "{'Date': '2000-02-01', 'Snowline_elev': 4896.720265441552}\n",
      "{'Date': '2000-03-01', 'Snowline_elev': 4980.462978164505}\n",
      "{'Date': '2000-04-01', 'Snowline_elev': 5121.212121212122}\n",
      "{'Date': '2000-05-01', 'Snowline_elev': 4301.722489686596}\n",
      "{'Date': '2000-06-01', 'Snowline_elev': 4261.626308900523}\n",
      "{'Date': '2000-07-01', 'Snowline_elev': 4357.826555902332}\n",
      "{'Date': '2000-08-01', 'Snowline_elev': 4970.078462487877}\n",
      "{'Date': '2000-09-01', 'Snowline_elev': 5449.058983313931}\n",
      "{'Date': '2000-10-01', 'Snowline_elev': 3500}\n",
      "{'Date': '2000-11-01', 'Snowline_elev': None}\n",
      "{'Date': '2000-12-01', 'Snowline_elev': None}\n",
      "{'Date': '2001-01-01', 'Snowline_elev': 4791.330398225695}\n",
      "{'Date': '2001-02-01', 'Snowline_elev': 4782.266545148626}\n",
      "{'Date': '2001-03-01', 'Snowline_elev': 4599.010934168141}\n",
      "{'Date': '2001-04-01', 'Snowline_elev': 4782.763707892796}\n",
      "{'Date': '2001-05-01', 'Snowline_elev': 4550.945318830261}\n",
      "{'Date': '2001-06-01', 'Snowline_elev': 4771.41255020604}\n",
      "{'Date': '2001-07-01', 'Snowline_elev': 4971.044054252968}\n",
      "{'Date': '2001-08-01', 'Snowline_elev': 4695.459784059201}\n",
      "{'Date': '2001-09-01', 'Snowline_elev': 4599.422323086447}\n",
      "{'Date': '2001-10-01', 'Snowline_elev': 4782.025071286383}\n",
      "{'Date': '2001-11-01', 'Snowline_elev': 5139.309428950864}\n",
      "{'Date': '2001-12-01', 'Snowline_elev': 4865.436835891382}\n",
      "{'Date': '2002-01-01', 'Snowline_elev': None}\n",
      "{'Date': '2002-02-01', 'Snowline_elev': 5024.273483164568}\n",
      "{'Date': '2002-03-01', 'Snowline_elev': 4887.835888983724}\n",
      "{'Date': '2002-04-01', 'Snowline_elev': 4441.398321012405}\n",
      "{'Date': '2002-05-01', 'Snowline_elev': 4231.27076319781}\n",
      "{'Date': '2002-06-01', 'Snowline_elev': 4405.969447902327}\n",
      "{'Date': '2002-07-01', 'Snowline_elev': 4436.252669001714}\n",
      "{'Date': '2002-08-01', 'Snowline_elev': 4306.9547611358175}\n",
      "{'Date': '2002-09-01', 'Snowline_elev': 4470.455703368242}\n",
      "{'Date': '2002-10-01', 'Snowline_elev': 4614.225371943492}\n",
      "{'Date': '2002-11-01', 'Snowline_elev': 5131.282202267041}\n",
      "{'Date': '2002-12-01', 'Snowline_elev': 5529.154929577465}\n",
      "{'Date': '2003-01-01', 'Snowline_elev': None}\n",
      "{'Date': '2003-02-01', 'Snowline_elev': 4898.766513393182}\n",
      "{'Date': '2003-03-01', 'Snowline_elev': 5493.166112106475}\n",
      "{'Date': '2003-04-01', 'Snowline_elev': 5741.049999999999}\n",
      "{'Date': '2003-05-01', 'Snowline_elev': 4335.316476292753}\n",
      "{'Date': '2003-06-01', 'Snowline_elev': 4493.012400724537}\n",
      "{'Date': '2003-07-01', 'Snowline_elev': 4510.017783046827}\n",
      "{'Date': '2003-08-01', 'Snowline_elev': 4507.534117647059}\n",
      "{'Date': '2003-09-01', 'Snowline_elev': 4990.575736806031}\n",
      "{'Date': '2003-10-01', 'Snowline_elev': 4219.529277628471}\n",
      "{'Date': '2003-11-01', 'Snowline_elev': 3600}\n",
      "{'Date': '2003-12-01', 'Snowline_elev': None}\n",
      "{'Date': '2004-01-01', 'Snowline_elev': 5282.074805928017}\n",
      "{'Date': '2004-02-01', 'Snowline_elev': 4996.042770537973}\n",
      "{'Date': '2004-03-01', 'Snowline_elev': None}\n"
     ]
    }
   ],
   "source": [
    "print_fc_properties(\n",
    "    ee_stats_patched,\n",
    "    select_properties=[\"Date\", \"Snowline_elev\"],\n",
    ")"
   ]
  },
  {
   "cell_type": "code",
   "execution_count": null,
   "id": "a3e4d1ba",
   "metadata": {},
   "outputs": [],
   "source": []
  },
  {
   "cell_type": "markdown",
   "id": "3daafd1c",
   "metadata": {},
   "source": [
    "## 7. National statistics for all BNA Basins"
   ]
  },
  {
   "cell_type": "code",
   "execution_count": 9,
   "id": "e11f16e0",
   "metadata": {},
   "outputs": [
    {
     "name": "stdout",
     "output_type": "stream",
     "text": [
      "Number of basins: 46\n"
     ]
    }
   ],
   "source": [
    "#fmt: off\n",
    "basin_codes = ['010','023','024','030','038','043','045','047','051','052','054','057','060',\n",
    "              '071','073','081','083','091','094','101','103','104','105','106','107','108',\n",
    "              '110','111','112','113','114','115','116','117','118','119','120','121','122',\n",
    "              '123','124','125','126','127','128','129']\n",
    "#fmt: on\n",
    "print(f\"Number of basins: {len(basin_codes)}\")"
   ]
  },
  {
   "cell_type": "markdown",
   "id": "3ec5a085",
   "metadata": {},
   "source": [
    "### 7.1 National Snow Persistence "
   ]
  },
  {
   "cell_type": "code",
   "execution_count": 9,
   "id": "6103f6b8",
   "metadata": {},
   "outputs": [
    {
     "data": {
      "text/plain": [
       "<module 'observatorio_ipa.services.gee.processes.stats.common' from 'C:\\\\Users\\\\erick\\\\Documents\\\\Projects\\\\teleamb\\\\observatorio_ipa\\\\src\\\\observatorio_ipa\\\\services\\\\gee\\\\processes\\\\stats\\\\common.py'>"
      ]
     },
     "execution_count": 9,
     "metadata": {},
     "output_type": "execute_result"
    }
   ],
   "source": [
    "from observatorio_ipa.services.gee.processes.stats.national import tc_sp_sca\n",
    "from observatorio_ipa.services.gee.processes.stats import common\n",
    "\n",
    "reload(tc_sp_sca)\n",
    "reload(common)"
   ]
  },
  {
   "cell_type": "code",
   "execution_count": 11,
   "id": "ad775262",
   "metadata": {},
   "outputs": [
    {
     "name": "stdout",
     "output_type": "stream",
     "text": [
      "Processing MCD_tc_SP_SCA\n",
      "dict_keys(['id', 'basin_code', 'table_name', 'ee_stats_fc'])\n",
      "Exporting Table: MCD_tc_SP_SCA\n"
     ]
    },
    {
     "data": {
      "text/plain": [
       "[<Task Type.EXPORT_TABLE: MCD_tc_SP_SCA (State.UNSUBMITTED)>]"
      ]
     },
     "execution_count": 11,
     "metadata": {},
     "output_type": "execute_result"
    }
   ],
   "source": [
    "sp_sca = tc_sp_sca.TC_SP_SCA(\n",
    "    ee_icollection=ee_monthly_ic,\n",
    "    ee_basins_fc=ee_basins_bna_fc,\n",
    "    basins_cd_property=CUENCA_PROPERTY_NAME,\n",
    "    export_target=\"gee_assets\",  # Options: \"gdrive\" or \"gee_assets\n",
    "    export_path = ASSETS_NATIONAL_TBL_EXPORT_PATH,\n",
    "    image_name = TC_SP_SCA_TBL_NAME,\n",
    "    basin_codes = basin_codes\n",
    ")\n",
    "\n",
    "sp_sca.calc_stats()\n",
    "sp_sca.make_exports()"
   ]
  },
  {
   "cell_type": "code",
   "execution_count": 12,
   "id": "106e29c6",
   "metadata": {},
   "outputs": [],
   "source": [
    "sp_sca.start_exports()"
   ]
  },
  {
   "cell_type": "code",
   "execution_count": 13,
   "id": "fd0dbfb8",
   "metadata": {},
   "outputs": [
    {
     "name": "stdout",
     "output_type": "stream",
     "text": [
      "Task status count: {'FAILED': 1}\n"
     ]
    },
    {
     "data": {
      "text/plain": [
       "[{'state': 'FAILED',\n",
       "  'description': 'MCD_tc_SP_SCA',\n",
       "  'priority': 100,\n",
       "  'creation_timestamp_ms': 1754069212039,\n",
       "  'update_timestamp_ms': 1754069218476,\n",
       "  'start_timestamp_ms': 1754069217920,\n",
       "  'task_type': 'EXPORT_FEATURES',\n",
       "  'attempt': 1,\n",
       "  'batch_eecu_usage_seconds': 0.020183574,\n",
       "  'error_message': \"Asset 'projects/ee-observatorionieves/assets/Test/total_ee' does not exist or doesn't allow this operation.\",\n",
       "  'id': 'RFQ7TWWKUJZTEPBS2OSUHKLL',\n",
       "  'name': 'projects/ee-observatorionieves/operations/RFQ7TWWKUJZTEPBS2OSUHKLL'}]"
      ]
     },
     "execution_count": 13,
     "metadata": {},
     "output_type": "execute_result"
    }
   ],
   "source": [
    "sp_sca.get_task_status()"
   ]
  },
  {
   "cell_type": "code",
   "execution_count": 16,
   "id": "cba10157",
   "metadata": {},
   "outputs": [],
   "source": [
    "sp_sca_stats = sp_sca.get_stats_item('all')\n",
    "sp_sca_fc = sp_sca_stats['ee_stats_fc']"
   ]
  },
  {
   "cell_type": "code",
   "execution_count": 17,
   "id": "e04e08c7",
   "metadata": {},
   "outputs": [],
   "source": [
    "sp_sca_patched_fc = sp_sca_fc.map(remove_geometry)\n",
    "sp_sca_patched = sp_sca_patched_fc.getInfo()"
   ]
  },
  {
   "cell_type": "code",
   "execution_count": 18,
   "id": "d6491a41",
   "metadata": {},
   "outputs": [
    {
     "name": "stdout",
     "output_type": "stream",
     "text": [
      "{'Question': '010', '1': '0.03', '2': '0.66', '3': '2.06'}\n",
      "{'Question': '023', '1': '0.00', '2': '0.97', '3': '15.69'}\n",
      "{'Question': '024', '1': '0.00', '2': '2.80', '3': '47.25'}\n",
      "{'Question': '030', '1': '0.07', '2': '3.99', '3': '67.79'}\n",
      "{'Question': '038', '1': '0.02', '2': '4.82', '3': '34.89'}\n",
      "{'Question': '043', '1': '0.00', '2': '7.61', '3': '31.20'}\n",
      "{'Question': '045', '1': '0.00', '2': '7.68', '3': '18.37'}\n",
      "{'Question': '047', '1': '0.00', '2': '14.95', '3': '15.78'}\n",
      "{'Question': '051', '1': '0.00', '2': '1.75', '3': '13.89'}\n",
      "{'Question': '052', '1': '0.00', '2': '2.67', '3': '9.41'}\n",
      "{'Question': '054', '1': '0.45', '2': '25.72', '3': '14.77'}\n",
      "{'Question': '057', '1': '1.42', '2': '24.13', '3': '13.35'}\n",
      "{'Question': '060', '1': '1.32', '2': '17.69', '3': '9.53'}\n",
      "{'Question': '071', '1': '0.16', '2': '23.54', '3': '12.26'}\n",
      "{'Question': '073', '1': '0.02', '2': '18.49', '3': '11.95'}\n",
      "{'Question': '081', '1': '0.01', '2': '5.10', '3': '12.54'}\n",
      "{'Question': '083', '1': '0.15', '2': '8.50', '3': '25.41'}\n",
      "{'Question': '091', '1': '0.05', '2': '1.29', '3': '4.06'}\n",
      "{'Question': '094', '1': '0.29', '2': '3.70', '3': '17.81'}\n",
      "{'Question': '101', '1': '0.27', '2': '0.80', '3': '6.49'}\n",
      "{'Question': '103', '1': '0.06', '2': '0.80', '3': '12.27'}\n",
      "{'Question': '104', '1': '0.37', '2': '1.14', '3': '18.32'}\n",
      "{'Question': '105', '1': '2.00', '2': '10.78', '3': '61.36'}\n",
      "{'Question': '106', '1': '1.55', '2': '9.40', '3': '51.65'}\n",
      "{'Question': '107', '1': '1.01', '2': '22.97', '3': '60.00'}\n",
      "{'Question': '108', '1': '1.16', '2': '7.98', '3': '55.28'}\n",
      "{'Question': '110', '1': '0.51', '2': '20.32', '3': '63.80'}\n",
      "{'Question': '111', '1': '0.75', '2': '9.21', '3': '61.09'}\n",
      "{'Question': '112', '1': '0.00', '2': '0.00', '3': '21.40'}\n",
      "{'Question': '113', '1': '0.11', '2': '11.62', '3': '74.57'}\n",
      "{'Question': '114', '1': '9.28', '2': '14.45', '3': '47.47'}\n",
      "{'Question': '115', '1': '9.39', '2': '31.20', '3': '40.63'}\n",
      "{'Question': '116', '1': '3.14', '2': '39.45', '3': '36.11'}\n",
      "{'Question': '117', '1': '31.78', '2': '33.12', '3': '34.30'}\n",
      "{'Question': '118', '1': '9.80', '2': '21.97', '3': '38.84'}\n",
      "{'Question': '119', '1': '7.10', '2': '42.80', '3': '49.80'}\n",
      "{'Question': '120', '1': '30.71', '2': '27.45', '3': '25.57'}\n",
      "{'Question': '121', '1': '0.02', '2': '17.47', '3': '46.18'}\n",
      "{'Question': '122', '1': '14.63', '2': '25.58', '3': '36.30'}\n",
      "{'Question': '123', '1': '0.01', '2': '16.52', '3': '34.32'}\n",
      "{'Question': '124', '1': '1.78', '2': '25.74', '3': '43.40'}\n",
      "{'Question': '125', '1': '0.00', '2': '19.81', '3': '35.16'}\n",
      "{'Question': '126', '1': '21.51', '2': '3.63', '3': '40.22'}\n",
      "{'Question': '127', '1': '1.86', '2': '24.79', '3': '26.83'}\n",
      "{'Question': '128', '1': '8.03', '2': '16.64', '3': '29.08'}\n",
      "{'Question': '129', '1': '1.55', '2': '24.46', '3': '40.22'}\n"
     ]
    }
   ],
   "source": [
    "print_fc_properties(sp_sca_patched, ['Question', '1', '2', '3'])"
   ]
  },
  {
   "cell_type": "markdown",
   "id": "81c4adde",
   "metadata": {},
   "source": [
    "### 7.2 National Snow Persistence Anomaly (for last year) (Winter)\n",
    "\n",
    "- Only considers Snow Persistence for Winter Months. \n",
    "- Anomaly is only calculated for the last year - Currently it is excluding 2025 (as-of 8-1-25)"
   ]
  },
  {
   "cell_type": "code",
   "execution_count": 21,
   "id": "4591e03f",
   "metadata": {},
   "outputs": [
    {
     "data": {
      "text/plain": [
       "<module 'observatorio_ipa.services.gee.processes.stats.national.tc_sp_anomaly' from 'C:\\\\Users\\\\erick\\\\Documents\\\\Projects\\\\teleamb\\\\observatorio_ipa\\\\src\\\\observatorio_ipa\\\\services\\\\gee\\\\processes\\\\stats\\\\national\\\\tc_sp_anomaly.py'>"
      ]
     },
     "execution_count": 21,
     "metadata": {},
     "output_type": "execute_result"
    }
   ],
   "source": [
    "from observatorio_ipa.services.gee.processes.stats.national import tc_sp_anomaly\n",
    "reload(tc_sp_anomaly)"
   ]
  },
  {
   "cell_type": "code",
   "execution_count": 22,
   "id": "faa7d6b8",
   "metadata": {},
   "outputs": [
    {
     "name": "stdout",
     "output_type": "stream",
     "text": [
      "Processing MCD_tc_SP_anomalia\n",
      "Exporting Table: MCD_tc_SP_anomalia\n"
     ]
    },
    {
     "data": {
      "text/plain": [
       "[<Task Type.EXPORT_TABLE: MCD_tc_SP_anomalia (State.UNSUBMITTED)>]"
      ]
     },
     "execution_count": 22,
     "metadata": {},
     "output_type": "execute_result"
    }
   ],
   "source": [
    "sp_anomaly = tc_sp_anomaly.TC_SP_Anomaly(\n",
    "    ee_icollection=ee_monthly_ic,\n",
    "    ee_basins_fc=ee_basins_bna_fc,\n",
    "    basins_cd_property=CUENCA_PROPERTY_NAME,\n",
    "    export_target=\"gee_assets\",  # Options: \"gdrive\" or \"gee_assets\n",
    "    export_path=ASSETS_NATIONAL_TBL_EXPORT_PATH,\n",
    "    image_name=TC_SP_ANOMALY_TBL_NAME,\n",
    "    basin_codes=basin_codes,\n",
    ")\n",
    "\n",
    "sp_anomaly.calc_stats()\n",
    "sp_anomaly.make_exports()"
   ]
  },
  {
   "cell_type": "code",
   "execution_count": 23,
   "id": "784e2675",
   "metadata": {},
   "outputs": [],
   "source": [
    "sp_anomaly.start_exports()"
   ]
  },
  {
   "cell_type": "code",
   "execution_count": 24,
   "id": "eaba35f8",
   "metadata": {},
   "outputs": [
    {
     "name": "stdout",
     "output_type": "stream",
     "text": [
      "Task status count: {'READY': 1}\n"
     ]
    }
   ],
   "source": [
    "current_task_status=sp_anomaly.get_task_status()"
   ]
  },
  {
   "cell_type": "code",
   "execution_count": 25,
   "id": "909af9b9",
   "metadata": {},
   "outputs": [],
   "source": [
    "sp_anomaly_stats = sp_anomaly.get_stats_item('all')\n",
    "if sp_anomaly_stats:\n",
    "    sp_anomaly_fc = sp_anomaly_stats['ee_stats_fc']\n",
    "    sp_anomaly_patched_fc = sp_anomaly_fc.map(remove_geometry)\n",
    "    sp_anomaly_patched = sp_anomaly_patched_fc.getInfo()"
   ]
  },
  {
   "cell_type": "code",
   "execution_count": 26,
   "id": "5f5e89b1",
   "metadata": {},
   "outputs": [
    {
     "name": "stdout",
     "output_type": "stream",
     "text": [
      "{'COD_CUEN': '010', '1': '1.07', '2': '0.00', '3': '0.00', '4': '0.00', '5': '0.00'}\n",
      "{'COD_CUEN': '023', '1': '5.73', '2': '0.00', '3': '0.00', '4': '0.00', '5': '0.00'}\n",
      "{'COD_CUEN': '024', '1': '15.04', '2': '0.00', '3': '0.00', '4': '0.00', '5': '0.00'}\n",
      "{'COD_CUEN': '030', '1': '18.74', '2': '0.00', '3': '0.00', '4': '0.00', '5': '0.00'}\n",
      "{'COD_CUEN': '038', '1': '2.76', '2': '0.00', '3': '0.00', '4': '0.00', '5': '0.00'}\n",
      "{'COD_CUEN': '043', '1': '0.20', '2': '0.00', '3': '0.00', '4': '0.00', '5': '0.00'}\n",
      "{'COD_CUEN': '045', '1': '0.00', '2': '0.00', '3': '0.00', '4': '0.00', '5': '3.86'}\n",
      "{'COD_CUEN': '047', '1': '0.00', '2': '0.00', '3': '0.00', '4': '0.00', '5': '5.65'}\n",
      "{'COD_CUEN': '051', '1': '0.00', '2': '0.00', '3': '0.00', '4': '0.00', '5': '4.39'}\n",
      "{'COD_CUEN': '052', '1': '0.00', '2': '0.00', '3': '0.00', '4': '0.00', '5': '3.44'}\n",
      "{'COD_CUEN': '054', '1': '0.00', '2': '0.00', '3': '0.00', '4': '0.00', '5': '5.31'}\n",
      "{'COD_CUEN': '057', '1': '0.00', '2': '0.00', '3': '0.00', '4': '0.00', '5': '4.87'}\n",
      "{'COD_CUEN': '060', '1': '0.00', '2': '0.00', '3': '0.00', '4': '0.00', '5': '3.68'}\n",
      "{'COD_CUEN': '071', '1': '0.00', '2': '0.00', '3': '0.00', '4': '0.00', '5': '4.67'}\n",
      "{'COD_CUEN': '073', '1': '0.00', '2': '0.00', '3': '0.00', '4': '0.00', '5': '3.82'}\n",
      "{'COD_CUEN': '081', '1': '0.00', '2': '0.00', '3': '0.00', '4': '0.00', '5': '4.18'}\n",
      "{'COD_CUEN': '083', '1': '0.00', '2': '0.00', '3': '0.00', '4': '0.00', '5': '3.92'}\n",
      "{'COD_CUEN': '091', '1': '0.00', '2': '0.00', '3': '0.00', '4': '0.00', '5': '1.02'}\n",
      "{'COD_CUEN': '094', '1': '0.00', '2': '0.00', '3': '0.00', '4': '0.00', '5': '3.63'}\n",
      "{'COD_CUEN': '101', '1': '0.00', '2': '0.00', '3': '0.00', '4': '0.00', '5': '3.71'}\n",
      "{'COD_CUEN': '103', '1': '0.00', '2': '0.00', '3': '0.00', '4': '0.00', '5': '4.71'}\n",
      "{'COD_CUEN': '104', '1': '0.00', '2': '0.00', '3': '0.00', '4': '0.00', '5': '6.45'}\n",
      "{'COD_CUEN': '105', '1': '0.00', '2': '0.00', '3': '0.00', '4': '0.00', '5': '10.85'}\n",
      "{'COD_CUEN': '107', '1': '0.00', '2': '0.00', '3': '0.00', '4': '0.00', '5': '10.39'}\n",
      "{'COD_CUEN': '108', '1': '0.00', '2': '0.00', '3': '0.00', '4': '0.00', '5': '11.76'}\n",
      "{'COD_CUEN': '110', '1': '0.00', '2': '0.00', '3': '0.00', '4': '0.00', '5': '8.49'}\n",
      "{'COD_CUEN': '112', '1': '0.00', '2': '0.00', '3': '0.00', '4': '0.00', '5': '4.16'}\n",
      "{'COD_CUEN': '111', '1': '0.00', '2': '0.00', '3': '0.00', '4': '0.00', '5': '8.48'}\n",
      "{'COD_CUEN': '113', '1': '0.00', '2': '0.00', '3': '0.00', '4': '0.00', '5': '5.25'}\n",
      "{'COD_CUEN': '114', '1': '0.00', '2': '0.00', '3': '0.00', '4': '0.00', '5': '5.55'}\n",
      "{'COD_CUEN': '115', '1': '0.00', '2': '0.00', '3': '0.00', '4': '0.00', '5': '3.31'}\n",
      "{'COD_CUEN': '118', '1': '0.00', '2': '0.00', '3': '0.00', '4': '0.00', '5': '0.59'}\n",
      "{'COD_CUEN': '116', '1': '0.00', '2': '0.00', '3': '0.00', '4': '0.00', '5': '2.91'}\n",
      "{'COD_CUEN': '119', '1': '0.00', '2': '0.00', '3': '0.00', '4': '0.00', '5': '7.45'}\n",
      "{'COD_CUEN': '121', '1': '0.00', '2': '0.00', '3': '0.00', '4': '0.00', '5': '0.88'}\n",
      "{'COD_CUEN': '120', '1': '0.00', '2': '0.00', '3': '0.00', '4': '0.00', '5': '1.82'}\n",
      "{'COD_CUEN': '122', '1': '0.00', '2': '0.00', '3': '0.00', '4': '0.00', '5': '7.55'}\n",
      "{'COD_CUEN': '123', '1': '0.00', '2': '0.00', '3': '0.00', '4': '0.00', '5': '1.77'}\n",
      "{'COD_CUEN': '124', '1': '0.00', '2': '0.00', '3': '0.00', '4': '0.00', '5': '5.73'}\n",
      "{'COD_CUEN': '125', '1': '0.00', '2': '0.00', '3': '0.00', '4': '0.00', '5': '5.13'}\n",
      "{'COD_CUEN': '128', '1': '0.00', '2': '0.00', '3': '0.00', '4': '0.00', '5': '4.76'}\n",
      "{'COD_CUEN': '127', '1': '0.00', '2': '0.00', '3': '0.00', '4': '0.00', '5': '2.10'}\n",
      "{'COD_CUEN': '117', '1': '0.00', '2': '0.00', '3': '0.00', '4': '0.00', '5': '3.70'}\n",
      "{'COD_CUEN': '126', '1': '0.00', '2': '0.00', '3': '0.00', '4': '0.00', '5': '7.06'}\n",
      "{'COD_CUEN': '106', '1': '0.00', '2': '0.00', '3': '0.00', '4': '0.00', '5': '12.29'}\n",
      "{'COD_CUEN': '129', '1': '0.00', '2': '0.00', '3': '0.00', '4': '0.00', '5': '0.28'}\n"
     ]
    }
   ],
   "source": [
    "print_fc_properties(sp_anomaly_patched, [CUENCA_PROPERTY_NAME, '1', '2', '3', '4', '5'])"
   ]
  },
  {
   "cell_type": "markdown",
   "id": "53e115c0",
   "metadata": {},
   "source": [
    "### 7.3 National Snow Persistence Area"
   ]
  },
  {
   "cell_type": "code",
   "execution_count": 22,
   "id": "045ed4c3",
   "metadata": {},
   "outputs": [
    {
     "data": {
      "text/plain": [
       "<module 'observatorio_ipa.services.gee.processes.stats.national.tc_sp_area' from 'C:\\\\Users\\\\erick\\\\Documents\\\\Projects\\\\teleamb\\\\observatorio_ipa\\\\src\\\\observatorio_ipa\\\\services\\\\gee\\\\processes\\\\stats\\\\national\\\\tc_sp_area.py'>"
      ]
     },
     "execution_count": 22,
     "metadata": {},
     "output_type": "execute_result"
    }
   ],
   "source": [
    "from observatorio_ipa.services.gee.processes.stats.national import tc_sp_area\n",
    "reload(tc_sp_area)"
   ]
  },
  {
   "cell_type": "code",
   "execution_count": 23,
   "id": "396469bc",
   "metadata": {},
   "outputs": [
    {
     "name": "stdout",
     "output_type": "stream",
     "text": [
      "Processing MCD_tc_SP_area\n"
     ]
    }
   ],
   "source": [
    "national_sp_area = tc_sp_area.TC_SP_Area(\n",
    "        ee_icollection=ee_monthly_ic,\n",
    "    ee_basins_fc=ee_basins_bna_fc,\n",
    "    basins_cd_property=CUENCA_PROPERTY_NAME,\n",
    "    export_target=\"gee_assets\",  # Options: \"gdrive\" or \"gee_assets\n",
    "    export_path=ASSETS_NATIONAL_TBL_EXPORT_PATH,\n",
    "    image_name=TC_SP_AREA_TBL_NAME,\n",
    "    basin_codes=basin_codes)\n",
    "\n",
    "national_sp_area.calc_stats()\n"
   ]
  },
  {
   "cell_type": "code",
   "execution_count": null,
   "id": "cb753947",
   "metadata": {},
   "outputs": [],
   "source": [
    "national_sp_area.make_exports()\n",
    "national_sp_area.start_exports()"
   ]
  },
  {
   "cell_type": "code",
   "execution_count": 26,
   "id": "036dbbe2",
   "metadata": {},
   "outputs": [
    {
     "name": "stdout",
     "output_type": "stream",
     "text": [
      "Task status count: {'COMPLETED': 1}\n"
     ]
    }
   ],
   "source": [
    "current_task_status = national_sp_area.get_task_status()"
   ]
  },
  {
   "cell_type": "code",
   "execution_count": 24,
   "id": "0e756471",
   "metadata": {},
   "outputs": [],
   "source": [
    "sp_area_stats = national_sp_area.get_stats_item(\"all\")\n",
    "if sp_area_stats:\n",
    "    sp_area_fc = sp_area_stats[\"ee_stats_fc\"]\n",
    "    sp_area_patched_fc = sp_area_fc.map(remove_geometry)\n",
    "    sp_area_patched = sp_area_patched_fc.getInfo()"
   ]
  },
  {
   "cell_type": "code",
   "execution_count": 25,
   "id": "4ac8327f",
   "metadata": {},
   "outputs": [
    {
     "name": "stdout",
     "output_type": "stream",
     "text": [
      "{'Question': '010', '1': '0.00', '2': '0.00', '3': '232.45', '4': '74.86', '5': '3.80'}\n",
      "{'Question': '023', '1': '0.00', '2': '0.00', '3': '634.15', '4': '39.50', '5': '0.00'}\n",
      "{'Question': '024', '1': '0.00', '2': '0.00', '3': '2505.39', '4': '148.44', '5': '0.00'}\n",
      "{'Question': '030', '1': '0.00', '2': '0.00', '3': '10582.41', '4': '620.87', '5': '10.66'}\n",
      "{'Question': '038', '1': '0.00', '2': '0.00', '3': '3417.26', '4': '472.18', '5': '2.45'}\n",
      "{'Question': '043', '1': '0.00', '2': '0.00', '3': '3064.65', '4': '745.83', '5': '0.41'}\n",
      "{'Question': '045', '1': '0.00', '2': '0.00', '3': '2147.55', '4': '896.44', '5': '0.00'}\n",
      "{'Question': '047', '1': '0.00', '2': '0.00', '3': '1206.44', '4': '1141.56', '5': '0.00'}\n",
      "{'Question': '051', '1': '0.00', '2': '0.00', '3': '276.30', '4': '34.71', '5': '0.00'}\n",
      "{'Question': '052', '1': '0.00', '2': '0.00', '3': '186.45', '4': '52.94', '5': '0.00'}\n",
      "{'Question': '054', '1': '0.00', '2': '0.00', '3': '1084.06', '4': '1887.14', '5': '32.94'}\n",
      "{'Question': '057', '1': '0.00', '2': '0.00', '3': '2038.35', '4': '3681.51', '5': '216.95'}\n",
      "{'Question': '060', '1': '0.00', '2': '0.00', '3': '1310.80', '4': '2432.40', '5': '181.95'}\n",
      "{'Question': '071', '1': '0.00', '2': '0.00', '3': '775.80', '4': '1487.48', '5': '10.16'}\n",
      "{'Question': '073', '1': '0.00', '2': '0.00', '3': '2509.94', '4': '3886.33', '5': '4.51'}\n",
      "{'Question': '081', '1': '0.00', '2': '0.00', '3': '1418.12', '4': '576.55', '5': '1.03'}\n",
      "{'Question': '083', '1': '0.00', '2': '0.00', '3': '6161.29', '4': '2067.81', '5': '36.57'}\n",
      "{'Question': '091', '1': '0.00', '2': '0.00', '3': '513.98', '4': '163.34', '5': '6.01'}\n",
      "{'Question': '094', '1': '0.00', '2': '0.00', '3': '1503.35', '4': '312.52', '5': '24.42'}\n",
      "{'Question': '101', '1': '0.00', '2': '0.00', '3': '663.60', '4': '81.46', '5': '27.21'}\n",
      "{'Question': '103', '1': '0.00', '2': '0.00', '3': '1884.23', '4': '122.55', '5': '9.63'}\n",
      "{'Question': '104', '1': '0.00', '2': '0.00', '3': '2402.35', '4': '149.66', '5': '48.10'}\n",
      "{'Question': '105', '1': '0.00', '2': '0.00', '3': '1898.00', '4': '332.63', '5': '61.55'}\n",
      "{'Question': '106', '1': '0.00', '2': '0.00', '3': '3080.24', '4': '560.79', '5': '92.60'}\n",
      "{'Question': '107', '1': '0.00', '2': '0.00', '3': '2448.26', '4': '937.32', '5': '41.32'}\n",
      "{'Question': '108', '1': '0.00', '2': '0.00', '3': '1494.48', '4': '215.80', '5': '31.35'}\n",
      "{'Question': '110', '1': '0.00', '2': '0.00', '3': '4911.66', '4': '1565.05', '5': '39.12'}\n",
      "{'Question': '111', '1': '0.00', '2': '0.00', '3': '8500.13', '4': '1281.23', '5': '104.61'}\n",
      "{'Question': '112', '1': '0.00', '2': '0.00', '3': '2719.09', '4': '0.00', '5': '0.00'}\n",
      "{'Question': '113', '1': '0.00', '2': '0.00', '3': '8537.28', '4': '1329.07', '5': '12.95'}\n",
      "{'Question': '114', '1': '0.00', '2': '0.00', '3': '13193.94', '4': '3971.00', '5': '2552.31'}\n",
      "{'Question': '115', '1': '0.00', '2': '0.00', '3': '8505.34', '4': '6522.12', '5': '1960.81'}\n",
      "{'Question': '116', '1': '0.00', '2': '0.00', '3': '1464.49', '4': '1599.07', '5': '127.54'}\n",
      "{'Question': '117', '1': '0.00', '2': '0.00', '3': '2603.00', '4': '2515.70', '5': '2398.87'}\n",
      "{'Question': '118', '1': '0.00', '2': '0.00', '3': '4891.79', '4': '2765.08', '5': '1227.17'}\n",
      "{'Question': '119', '1': '0.00', '2': '0.00', '3': '135.73', '4': '116.63', '5': '19.35'}\n",
      "{'Question': '120', '1': '0.00', '2': '0.00', '3': '3307.91', '4': '3539.96', '5': '3976.32'}\n",
      "{'Question': '121', '1': '0.00', '2': '0.00', '3': '6639.39', '4': '2502.49', '5': '3.34'}\n",
      "{'Question': '122', '1': '0.00', '2': '0.00', '3': '6015.23', '4': '4238.39', '5': '2442.42'}\n",
      "{'Question': '123', '1': '0.00', '2': '0.00', '3': '4704.34', '4': '2257.36', '5': '0.93'}\n",
      "{'Question': '124', '1': '0.00', '2': '0.00', '3': '7307.67', '4': '4313.92', '5': '296.60'}\n",
      "{'Question': '125', '1': '0.00', '2': '0.00', '3': '4363.66', '4': '2440.34', '5': '0.26'}\n",
      "{'Question': '126', '1': '0.00', '2': '0.00', '3': '3706.18', '4': '351.14', '5': '2086.11'}\n",
      "{'Question': '127', '1': '0.00', '2': '0.00', '3': '3481.36', '4': '3213.59', '5': '241.64'}\n",
      "{'Question': '128', '1': '0.00', '2': '0.00', '3': '9010.34', '4': '5096.77', '5': '2452.38'}\n",
      "{'Question': '129', '1': '0.00', '2': '0.00', '3': '5543.61', '4': '3378.39', '5': '213.84'}\n"
     ]
    }
   ],
   "source": [
    "print_fc_properties(sp_area_patched, national_sp_area.bands_of_interest)"
   ]
  },
  {
   "cell_type": "markdown",
   "id": "952bc7e3",
   "metadata": {},
   "source": [
    "### 7.4 National SCA Mean Slopes (Trend) for all basins across all years\n",
    "\n",
    "- Currently hardcoded to 2000-2024"
   ]
  },
  {
   "cell_type": "code",
   "execution_count": 34,
   "id": "072c495c",
   "metadata": {},
   "outputs": [
    {
     "data": {
      "text/plain": [
       "<module 'observatorio_ipa.services.gee.processes.stats.national.tc_ca_sca' from 'C:\\\\Users\\\\erick\\\\Documents\\\\Projects\\\\teleamb\\\\observatorio_ipa\\\\src\\\\observatorio_ipa\\\\services\\\\gee\\\\processes\\\\stats\\\\national\\\\tc_ca_sca.py'>"
      ]
     },
     "execution_count": 34,
     "metadata": {},
     "output_type": "execute_result"
    }
   ],
   "source": [
    "from observatorio_ipa.services.gee.processes.stats.national import tc_ca_sca\n",
    "reload(tc_ca_sca)"
   ]
  },
  {
   "cell_type": "code",
   "execution_count": 35,
   "id": "01cf0baf",
   "metadata": {},
   "outputs": [
    {
     "name": "stdout",
     "output_type": "stream",
     "text": [
      "Processing MCD_tc_ca_SCA\n"
     ]
    }
   ],
   "source": [
    "national_sca_slopes = tc_ca_sca.TC_CA_SCA(\n",
    "    ee_icollection=ee_monthly_ic,\n",
    "    ee_basins_fc=ee_basins_bna_fc,\n",
    "    basins_cd_property=CUENCA_PROPERTY_NAME,\n",
    "    export_target=\"gee_assets\",  # Options: \"gdrive\" or \"gee_assets\n",
    "    export_path=ASSETS_NATIONAL_TBL_EXPORT_PATH,\n",
    "    image_name=TC_CA_SCA_TBL_NAME,\n",
    "    basin_codes=basin_codes,\n",
    ")\n",
    "\n",
    "national_sca_slopes.calc_stats()"
   ]
  },
  {
   "cell_type": "code",
   "execution_count": 36,
   "id": "1bd34790",
   "metadata": {},
   "outputs": [],
   "source": [
    "sp_slopes_stats = national_sca_slopes.get_stats_item(\"all\")\n",
    "if sp_slopes_stats:\n",
    "    sp_slopes_fc = sp_slopes_stats[\"ee_stats_fc\"]\n",
    "    sp_slopes_patched_fc = sp_slopes_fc.map(remove_geometry)\n",
    "    sp_slopes_patched = sp_slopes_patched_fc.getInfo()"
   ]
  },
  {
   "cell_type": "code",
   "execution_count": 38,
   "id": "52aac12f",
   "metadata": {},
   "outputs": [
    {
     "name": "stdout",
     "output_type": "stream",
     "text": [
      "{'Question': '010', '1': 0.15117883053524717, '2': 0, '3': 0, '4': 0, '5': 0}\n",
      "{'Question': '023', '1': 0, '2': 0, '3': 0, '4': 0, '5': 0.15195599752126554}\n",
      "{'Question': '024', '1': 0, '2': 0, '3': 0, '4': 0, '5': 0.03835293684433175}\n",
      "{'Question': '030', '1': 0.43684735853323065, '2': 0, '3': 0, '4': 0, '5': 0}\n",
      "{'Question': '038', '1': 2.064810959806313, '2': 0, '3': 0, '4': 0, '5': 0}\n",
      "{'Question': '043', '1': 35.62886451502731, '2': 0, '3': 0, '4': 0, '5': 0}\n",
      "{'Question': '045', '1': 28.082514693815384, '2': 0, '3': 0, '4': 0, '5': 0}\n",
      "{'Question': '047', '1': 31.540517169539562, '2': 0, '3': 0, '4': 0, '5': 0}\n",
      "{'Question': '051', '1': 9.784281204700427, '2': 0, '3': 0, '4': 0, '5': 0}\n",
      "{'Question': '052', '1': 10.232150299182964, '2': 0, '3': 0, '4': 0, '5': 0}\n",
      "{'Question': '054', '1': 53.50285213098109, '2': 0, '3': 0, '4': 0, '5': 0}\n",
      "{'Question': '057', '1': 51.586245127877156, '2': 0, '3': 0, '4': 0, '5': 0}\n",
      "{'Question': '060', '1': 34.61294100543514, '2': 0, '3': 0, '4': 0, '5': 0}\n",
      "{'Question': '071', '1': 23.932501426998613, '2': 0, '3': 0, '4': 0, '5': 0}\n",
      "{'Question': '073', '1': 7.782452996202337, '2': 0, '3': 0, '4': 0, '5': 0}\n",
      "{'Question': '081', '1': 0, '2': 0, '3': 0, '4': 0, '5': 0.5820044552796009}\n",
      "{'Question': '083', '1': 0, '2': 0, '3': 0, '4': 0, '5': 0.554634051953305}\n",
      "{'Question': '091', '1': 0.7758982592529959, '2': 0, '3': 0, '4': 0, '5': 0}\n",
      "{'Question': '094', '1': 1.5625983808469726, '2': 0, '3': 0, '4': 0, '5': 0}\n",
      "{'Question': '101', '1': 0.24642208311503935, '2': 0, '3': 0, '4': 0, '5': 0}\n",
      "{'Question': '103', '1': 0, '2': 0, '3': 0, '4': 0, '5': 0.909302744511405}\n",
      "{'Question': '104', '1': 0, '2': 0, '3': 0, '4': 0, '5': 1.9395188332238067}\n",
      "{'Question': '105', '1': 4.997974574064761, '2': 0, '3': 0, '4': 0, '5': 0}\n",
      "{'Question': '106', '1': 0, '2': 0, '3': 0, '4': 0, '5': 5.211397839908907}\n",
      "{'Question': '107', '1': 5.892924276629014, '2': 0, '3': 0, '4': 0, '5': 0}\n",
      "{'Question': '108', '1': 0, '2': 0, '3': 0, '4': 0, '5': 4.913914221913395}\n",
      "{'Question': '110', '1': 14.611521870000457, '2': 0, '3': 0, '4': 0, '5': 0}\n",
      "{'Question': '111', '1': 0, '2': 0, '3': 0, '4': 0, '5': 4.8604632453893295}\n",
      "{'Question': '112', '1': 0, '2': 0, '3': 0, '4': 0, '5': 3.098808855690247}\n",
      "{'Question': '113', '1': 11.111385491332914, '2': 0, '3': 0, '4': 0, '5': 0}\n",
      "{'Question': '114', '1': 0, '2': 0, '3': 0, '4': 0, '5': 3.4815619055972236}\n",
      "{'Question': '115', '1': 12.263094488975296, '2': 0, '3': 0, '4': 0, '5': 0}\n",
      "{'Question': '116', '1': 6.400306432359545, '2': 0, '3': 0, '4': 0, '5': 0}\n",
      "{'Question': '117', '1': 0, '2': 0, '3': 0, '4': 0, '5': 4.50121220174614}\n",
      "{'Question': '118', '1': 0.717433138094257, '2': 0, '3': 0, '4': 0, '5': 0}\n",
      "{'Question': '119', '1': 4.555724756135096, '2': 0, '3': 0, '4': 0, '5': 0}\n",
      "{'Question': '120', '1': 0.6858072331320857, '2': 0, '3': 0, '4': 0, '5': 0}\n",
      "{'Question': '121', '1': 0, '2': 0, '3': 0, '4': 0, '5': 1.7321802363091012}\n",
      "{'Question': '122', '1': 0, '2': 0, '3': 0, '4': 0, '5': 1.0236480185727623}\n",
      "{'Question': '123', '1': 0, '2': 0, '3': 0, '4': 0, '5': 0.4463786400940208}\n",
      "{'Question': '124', '1': 0, '2': 0, '3': 0, '4': 0, '5': 2.288551686387749}\n",
      "{'Question': '125', '1': 0, '2': 0, '3': 0, '4': 0, '5': 4.296845255486853}\n",
      "{'Question': '126', '1': 0, '2': 0, '3': 0, '4': 0, '5': 8.167805828138727}\n",
      "{'Question': '127', '1': 0, '2': 0, '3': 0, '4': 0, '5': 1.76141557633006}\n",
      "{'Question': '128', '1': 0, '2': 0, '3': 0, '4': 0, '5': 0.812651690153507}\n",
      "{'Question': '129', '1': 0, '2': 0, '3': 0, '4': 0, '5': 0.2696715596156791}\n"
     ]
    }
   ],
   "source": [
    "print_fc_properties(sp_slopes_patched, national_sca_slopes.bands_of_interest)"
   ]
  },
  {
   "cell_type": "code",
   "execution_count": null,
   "id": "8733c153",
   "metadata": {},
   "outputs": [],
   "source": [
    "national_sca_slopes.make_exports()\n",
    "national_sca_slopes.start_exports()"
   ]
  },
  {
   "cell_type": "code",
   "execution_count": null,
   "id": "c1ba47f4",
   "metadata": {},
   "outputs": [],
   "source": [
    "current_task_status = national_sca_slopes.get_task_status()"
   ]
  },
  {
   "cell_type": "markdown",
   "id": "efbc8de6",
   "metadata": {},
   "source": [
    "#### Code Breakdown (Debugging)"
   ]
  },
  {
   "cell_type": "code",
   "execution_count": 19,
   "id": "4587c947",
   "metadata": {},
   "outputs": [],
   "source": [
    "ee_icollection: ee.imagecollection.ImageCollection=ee_monthly_ic\n",
    "ee_basins_fc=ee_basins_bna_fc\n",
    "basins_cd_property=CUENCA_PROPERTY_NAME\n",
    "export_target=\"gee_assets\"  # Options: \"gdrive\" or \"gee_assets\n",
    "export_path=ASSETS_NATIONAL_TBL_EXPORT_PATH\n",
    "image_name=TC_CA_SCA_TBL_NAME\n",
    "basin_codes=basin_codes"
   ]
  },
  {
   "cell_type": "code",
   "execution_count": 20,
   "id": "6a75df80",
   "metadata": {},
   "outputs": [],
   "source": [
    "ee_basins_fc = ee_basins_fc.sort(\"COD_CUEN\", True)"
   ]
  },
  {
   "cell_type": "code",
   "execution_count": 24,
   "id": "ce4ffc13",
   "metadata": {},
   "outputs": [
    {
     "data": {
      "text/plain": [
       "<module 'observatorio_ipa.services.gee.processes.stats.trend' from 'C:\\\\Users\\\\erick\\\\Documents\\\\Projects\\\\teleamb\\\\observatorio_ipa\\\\src\\\\observatorio_ipa\\\\services\\\\gee\\\\processes\\\\stats\\\\trend.py'>"
      ]
     },
     "execution_count": 24,
     "metadata": {},
     "output_type": "execute_result"
    }
   ],
   "source": [
    "from observatorio_ipa.services.gee.processes.stats import common, trend\n",
    "reload(common)\n",
    "reload(trend)"
   ]
  },
  {
   "cell_type": "code",
   "execution_count": 23,
   "id": "88656c64",
   "metadata": {},
   "outputs": [],
   "source": [
    "ee_years = ee.ee_list.List.sequence(2000, 2024)\n",
    "\n",
    "ee_TACbyYear_ic = ee.imagecollection.ImageCollection.fromImages(\n",
    "    ee_years.map(lambda y: tc_ca_sca._ee_temp_annual_means(y, ee_icollection, ee_basins_fc))\n",
    ")\n",
    "ee_TACbyYear_ic: ee.imagecollection.ImageCollection = (\n",
    "        ee_TACbyYear_ic.map(\n",
    "            lambda ee_image: common._ee_correct_CCI_band(ee_image, \"Cloud_mean\", \"CCI\")\n",
    "        )\n",
    "        .map(\n",
    "            lambda ee_image: common._ee_correct_SCI_band(\n",
    "                ee_image, \"Snow_mean\", \"Cloud_mean\", \"SCA\"\n",
    "            )\n",
    "        )\n",
    "        .select([\"SCA\", \"CCI\"])\n",
    "    )\n",
    "\n",
    "ee_TACbyYear_ic = ee_TACbyYear_ic.select(\"SCA\")"
   ]
  },
  {
   "cell_type": "code",
   "execution_count": 25,
   "id": "b353ffa0",
   "metadata": {},
   "outputs": [],
   "source": [
    "from observatorio_ipa.core.defaults import DEFAULT_SCALE, DEFAULT_CHI_PROJECTION"
   ]
  },
  {
   "cell_type": "code",
   "execution_count": null,
   "id": "04ab449b",
   "metadata": {},
   "outputs": [],
   "source": [
    "ee_trend_stats_img = trend._ee_calc_temporal_trend_stats(\n",
    "        ee_TACbyYear_ic, band_name=\"SCA\", ts_frequency=\"years\"\n",
    "    )\n",
    "\n",
    "ee_significant_trend_img: ee.image.Image = ee_trend_stats_img.select(\n",
    "    \"significant_trend\"\n",
    ")\n",
    "ee_sensSlope_img: ee.image.Image = ee_trend_stats_img.select(\"sens_slopes\")\n",
    "\n",
    "ee_significant_trend_vectors_fc = ee_significant_trend_img.reduceToVectors(\n",
    "    geometry=ee_basins_fc,\n",
    "    scale=DEFAULT_SCALE,\n",
    "    crs=DEFAULT_CHI_PROJECTION,\n",
    "    geometryInNativeProjection=True,\n",
    ")\n",
    "\n",
    "ee_significant_slopes_img = ee_sensSlope_img.clip(\n",
    "    ee_significant_trend_vectors_fc\n",
    ").multiply(24)\n",
    "ee_significant_slopes_img = ee_significant_slopes_img.unmask().clip(ee_basins_fc)"
   ]
  },
  {
   "cell_type": "code",
   "execution_count": 27,
   "id": "74e1aa82",
   "metadata": {},
   "outputs": [
    {
     "name": "stdout",
     "output_type": "stream",
     "text": [
      "<class 'ee.image.Image'>\n",
      "['sens_slopes']\n"
     ]
    }
   ],
   "source": [
    "print(type(ee_significant_slopes_img))\n",
    "print(ee_significant_slopes_img.bandNames().getInfo())"
   ]
  },
  {
   "cell_type": "code",
   "execution_count": 28,
   "id": "750340c9",
   "metadata": {},
   "outputs": [],
   "source": [
    "ee_mean_SignificantSlopes_fc = ee_significant_slopes_img.reduceRegions(\n",
    "    collection=ee_basins_fc,\n",
    "    reducer=ee.reducer.Reducer.mean(),\n",
    "    scale=463.31271652791656,\n",
    ")"
   ]
  },
  {
   "cell_type": "code",
   "execution_count": 29,
   "id": "0dca3abb",
   "metadata": {},
   "outputs": [
    {
     "name": "stdout",
     "output_type": "stream",
     "text": [
      "<class 'ee.element.Element'>\n",
      "['mean', 'NOM_CUEN', 'Area_km2', 'COD_CUEN', 'system:index']\n"
     ]
    }
   ],
   "source": [
    "first_feature = ee_mean_SignificantSlopes_fc.first()\n",
    "print(type(first_feature))\n",
    "print(first_feature.propertyNames().getInfo())"
   ]
  },
  {
   "cell_type": "markdown",
   "id": "af2fbddc",
   "metadata": {},
   "source": [
    "### 7.5 National SCA Mean Area Change (Trend) for all basins across all years\n",
    "- There's a coding error that uses band 'slope_median' which doesn't exist "
   ]
  },
  {
   "cell_type": "code",
   "execution_count": 40,
   "id": "49b6dce9",
   "metadata": {},
   "outputs": [
    {
     "data": {
      "text/plain": [
       "<module 'observatorio_ipa.services.gee.processes.stats.national.tc_ca_area' from 'C:\\\\Users\\\\erick\\\\Documents\\\\Projects\\\\teleamb\\\\observatorio_ipa\\\\src\\\\observatorio_ipa\\\\services\\\\gee\\\\processes\\\\stats\\\\national\\\\tc_ca_area.py'>"
      ]
     },
     "execution_count": 40,
     "metadata": {},
     "output_type": "execute_result"
    }
   ],
   "source": [
    "from observatorio_ipa.services.gee.processes.stats.national import tc_ca_area\n",
    "reload(tc_ca_area)"
   ]
  },
  {
   "cell_type": "code",
   "execution_count": 42,
   "id": "e4ade1ba",
   "metadata": {},
   "outputs": [
    {
     "name": "stdout",
     "output_type": "stream",
     "text": [
      "Processing MCD_tc_ca_area\n"
     ]
    }
   ],
   "source": [
    "national_area_changes = tc_ca_area.TC_CA_Area(\n",
    "    ee_icollection=ee_monthly_ic,\n",
    "    ee_basins_fc=ee_basins_bna_fc,\n",
    "    basins_cd_property=CUENCA_PROPERTY_NAME,\n",
    "    export_target=\"gee_assets\",  # Options: \"gdrive\" or \"gee_assets\n",
    "    export_path=ASSETS_NATIONAL_TBL_EXPORT_PATH,\n",
    "    image_name=TC_CA_AREA_TBL_NAME,\n",
    "    basin_codes=basin_codes,\n",
    ")\n",
    "national_area_changes.calc_stats()"
   ]
  },
  {
   "cell_type": "code",
   "execution_count": null,
   "id": "2cd84c54",
   "metadata": {},
   "outputs": [],
   "source": [
    "\n",
    "#! This produces the following error  'Image.select: Band pattern 'Slope_median' did not match any bands. Available bands: [sens_slopes, area]\n",
    "national_area_changes_stats = national_area_changes.get_stats_item(\"all\")\n",
    "if national_area_changes_stats:\n",
    "    national_area_changes_fc = national_area_changes_stats[\"ee_stats_fc\"]\n",
    "    national_area_changes_patched_fc = national_area_changes_fc.map(remove_geometry)\n",
    "    national_area_changes_patched = national_area_changes_patched_fc.getInfo()"
   ]
  },
  {
   "cell_type": "markdown",
   "id": "1ed85fa4",
   "metadata": {},
   "source": [
    "### 7.6 Snowline Change over Years per Basin"
   ]
  },
  {
   "cell_type": "code",
   "execution_count": 38,
   "id": "d132afea",
   "metadata": {},
   "outputs": [
    {
     "data": {
      "text/plain": [
       "<module 'observatorio_ipa.services.gee.processes.stats.national.tc_ca_snowline' from 'C:\\\\Users\\\\erick\\\\Documents\\\\Projects\\\\teleamb\\\\observatorio_ipa\\\\src\\\\observatorio_ipa\\\\services\\\\gee\\\\processes\\\\stats\\\\national\\\\tc_ca_snowline.py'>"
      ]
     },
     "execution_count": 38,
     "metadata": {},
     "output_type": "execute_result"
    }
   ],
   "source": [
    "from observatorio_ipa.services.gee.processes.stats.national import tc_ca_snowline\n",
    "reload(tc_ca_snowline)"
   ]
  },
  {
   "cell_type": "code",
   "execution_count": 39,
   "id": "3c21c2e6",
   "metadata": {},
   "outputs": [
    {
     "name": "stdout",
     "output_type": "stream",
     "text": [
      "Processing MCD_tc_ca_snowline\n"
     ]
    }
   ],
   "source": [
    "national_snowline_change = tc_ca_snowline.TC_CA_Snowline(\n",
    "    ee_icollection=ee_monthly_ic,\n",
    "    ee_basins_fc=ee_basins_bna_fc,\n",
    "    basins_cd_property=CUENCA_PROPERTY_NAME,\n",
    "    ee_dem_img=ee_dem_img,\n",
    "    export_target=\"gee_assets\",  # Options: \"gdrive\" or \"gee_assets\n",
    "    export_path=ASSETS_NATIONAL_TBL_EXPORT_PATH,\n",
    "    image_name=TC_CA_SNOWLINE_TBL_NAME,\n",
    "    basin_codes=basin_codes,\n",
    ")\n",
    "national_snowline_change.calc_stats()"
   ]
  },
  {
   "cell_type": "code",
   "execution_count": 40,
   "id": "161c0979",
   "metadata": {},
   "outputs": [],
   "source": [
    "ee_snowline_change_dict = national_snowline_change.get_stats_item(\"all\")\n",
    "if ee_snowline_change_dict:\n",
    "    national_snowline_change_fc = ee_snowline_change_dict[\"ee_stats_fc\"]\n",
    "    national_snowline_change_patched_fc = national_snowline_change_fc.map(remove_geometry)\n",
    "    national_snowline_change_patched = national_snowline_change_patched_fc.getInfo()"
   ]
  },
  {
   "cell_type": "code",
   "execution_count": 41,
   "id": "130533cb",
   "metadata": {},
   "outputs": [
    {
     "name": "stdout",
     "output_type": "stream",
     "text": [
      "{'Question': '010', '1': '0.00', '2': '0.00', '3': '0.00', '4': '0.00', '5': '6.00'}\n",
      "{'Question': '023', '1': '84.00', '2': '0.00', '3': '0.00', '4': '0.00', '5': '0.00'}\n",
      "{'Question': '024', '1': '1.00', '2': '0.00', '3': '0.00', '4': '0.00', '5': '0.00'}\n",
      "{'Question': '030', '1': '0.00', '2': '0.00', '3': '0.00', '4': '0.00', '5': '235.00'}\n",
      "{'Question': '038', '1': '0.00', '2': '0.00', '3': '0.00', '4': '0.00', '5': '311.00'}\n",
      "{'Question': '043', '1': '0.00', '2': '0.00', '3': '0.00', '4': '0.00', '5': '639.00'}\n",
      "{'Question': '045', '1': '0.00', '2': '0.00', '3': '0.00', '4': '0.00', '5': '483.00'}\n",
      "{'Question': '047', '1': '0.00', '2': '0.00', '3': '0.00', '4': '0.00', '5': '364.00'}\n",
      "{'Question': '051', '1': '0.00', '2': '0.00', '3': '0.00', '4': '0.00', '5': '394.00'}\n",
      "{'Question': '052', '1': '0.00', '2': '0.00', '3': '0.00', '4': '0.00', '5': '380.00'}\n",
      "{'Question': '054', '1': '0.00', '2': '0.00', '3': '0.00', '4': '0.00', '5': '260.00'}\n",
      "{'Question': '057', '1': '0.00', '2': '0.00', '3': '0.00', '4': '0.00', '5': '279.00'}\n",
      "{'Question': '060', '1': '0.00', '2': '0.00', '3': '0.00', '4': '0.00', '5': '127.00'}\n",
      "{'Question': '071', '1': '0.00', '2': '0.00', '3': '0.00', '4': '0.00', '5': '155.00'}\n",
      "{'Question': '073', '1': '0.00', '2': '0.00', '3': '0.00', '4': '0.00', '5': '38.00'}\n",
      "{'Question': '081', '1': '105.00', '2': '0.00', '3': '0.00', '4': '0.00', '5': '0.00'}\n",
      "{'Question': '083', '1': '84.00', '2': '0.00', '3': '0.00', '4': '0.00', '5': '0.00'}\n",
      "{'Question': '091', '1': '4.00', '2': '0.00', '3': '0.00', '4': '0.00', '5': '0.00'}\n",
      "{'Question': '094', '1': '95.00', '2': '0.00', '3': '0.00', '4': '0.00', '5': '0.00'}\n",
      "{'Question': '101', '1': '108.00', '2': '0.00', '3': '0.00', '4': '0.00', '5': '0.00'}\n",
      "{'Question': '103', '1': '148.00', '2': '0.00', '3': '0.00', '4': '0.00', '5': '0.00'}\n",
      "{'Question': '104', '1': '194.00', '2': '0.00', '3': '0.00', '4': '0.00', '5': '0.00'}\n",
      "{'Question': '105', '1': '124.00', '2': '0.00', '3': '0.00', '4': '0.00', '5': '0.00'}\n",
      "{'Question': '106', '1': '99.00', '2': '0.00', '3': '0.00', '4': '0.00', '5': '0.00'}\n",
      "{'Question': '107', '1': '78.00', '2': '0.00', '3': '0.00', '4': '0.00', '5': '0.00'}\n",
      "{'Question': '108', '1': '55.00', '2': '0.00', '3': '0.00', '4': '0.00', '5': '0.00'}\n",
      "{'Question': '110', '1': '67.00', '2': '0.00', '3': '0.00', '4': '0.00', '5': '0.00'}\n",
      "{'Question': '111', '1': '93.00', '2': '0.00', '3': '0.00', '4': '0.00', '5': '0.00'}\n",
      "{'Question': '112', '1': '56.00', '2': '0.00', '3': '0.00', '4': '0.00', '5': '0.00'}\n",
      "{'Question': '113', '1': '100.00', '2': '0.00', '3': '0.00', '4': '0.00', '5': '0.00'}\n",
      "{'Question': '114', '1': '77.00', '2': '0.00', '3': '0.00', '4': '0.00', '5': '0.00'}\n",
      "{'Question': '115', '1': '109.00', '2': '0.00', '3': '0.00', '4': '0.00', '5': '0.00'}\n",
      "{'Question': '116', '1': '14.00', '2': '0.00', '3': '0.00', '4': '0.00', '5': '0.00'}\n",
      "{'Question': '117', '1': '66.00', '2': '0.00', '3': '0.00', '4': '0.00', '5': '0.00'}\n",
      "{'Question': '118', '1': '13.00', '2': '0.00', '3': '0.00', '4': '0.00', '5': '0.00'}\n",
      "{'Question': '119', '1': '26.00', '2': '0.00', '3': '0.00', '4': '0.00', '5': '0.00'}\n",
      "{'Question': '120', '1': '22.00', '2': '0.00', '3': '0.00', '4': '0.00', '5': '0.00'}\n",
      "{'Question': '121', '1': '7.00', '2': '0.00', '3': '0.00', '4': '0.00', '5': '0.00'}\n",
      "{'Question': '122', '1': '146.00', '2': '0.00', '3': '0.00', '4': '0.00', '5': '0.00'}\n",
      "{'Question': '123', '1': '3.00', '2': '0.00', '3': '0.00', '4': '0.00', '5': '0.00'}\n",
      "{'Question': '124', '1': '10.00', '2': '0.00', '3': '0.00', '4': '0.00', '5': '0.00'}\n",
      "{'Question': '125', '1': '27.00', '2': '0.00', '3': '0.00', '4': '0.00', '5': '0.00'}\n",
      "{'Question': '126', '1': '60.00', '2': '0.00', '3': '0.00', '4': '0.00', '5': '0.00'}\n",
      "{'Question': '127', '1': '4.00', '2': '0.00', '3': '0.00', '4': '0.00', '5': '0.00'}\n",
      "{'Question': '128', '1': '8.00', '2': '0.00', '3': '0.00', '4': '0.00', '5': '0.00'}\n",
      "{'Question': '129', '1': '4.00', '2': '0.00', '3': '0.00', '4': '0.00', '5': '0.00'}\n"
     ]
    }
   ],
   "source": [
    "print_fc_properties(\n",
    "    national_snowline_change_patched, national_snowline_change.bands_of_interest\n",
    ")"
   ]
  },
  {
   "cell_type": "markdown",
   "id": "ff087bad",
   "metadata": {},
   "source": [
    "#### Code Breakdown (Debugging)"
   ]
  },
  {
   "cell_type": "code",
   "execution_count": 13,
   "id": "6132c1cb",
   "metadata": {},
   "outputs": [],
   "source": [
    "ee_icollection=ee_monthly_ic\n",
    "ee_basins_fc=ee_basins_bna_fc\n",
    "basins_cd_property=CUENCA_PROPERTY_NAME\n",
    "ee_dem_img=ee_dem_img\n",
    "export_target=\"gee_assets\"  # Options: \"gdrive\" or \"gee_assets\n",
    "export_path=ASSETS_NATIONAL_TBL_EXPORT_PATH\n",
    "image_name=TC_CA_SNOWLINE_TBL_NAME\n",
    "basin_codes=basin_codes"
   ]
  },
  {
   "cell_type": "code",
   "execution_count": 16,
   "id": "eae1f562",
   "metadata": {},
   "outputs": [],
   "source": [
    "from observatorio_ipa.services.gee.processes.stats import common\n",
    "from observatorio_ipa.services.gee.processes.stats.national import tc_ca_sca"
   ]
  },
  {
   "cell_type": "code",
   "execution_count": 17,
   "id": "e7e74809",
   "metadata": {},
   "outputs": [],
   "source": [
    "ee_basins_fc = ee_basins_fc.sort(\"COD_CUEN\", True)\n",
    "\n",
    "# ----------------------------------------------------------------------------------------------------------------------\n",
    "# Temporal Reduction to annual images\n",
    "# ! WARNING: Years are hardcoded from 2000-2024, 2025 is not being included\n",
    "# ----------------------------------------------------------------------------------------------------------------------\n",
    "# Year time range.\n",
    "ee_years = ee.ee_list.List.sequence(2000, 2024)\n",
    "\n",
    "ee_TACbyYear_ic = ee.imagecollection.ImageCollection.fromImages(\n",
    "    ee_years.map(\n",
    "        lambda y: tc_ca_sca._ee_temp_annual_means(y, ee_icollection, ee_basins_fc)\n",
    "    )\n",
    ")\n",
    "\n",
    "# ----------------------------------------------------------------------------------------------------------------------\n",
    "# Correct SCI and CCI\n",
    "# ! INCONSISTENCY: The JS script for this code did not apply round()\n",
    "# ! INCONSISTENCY: same Bands are named SCA/CCA, SCI,CCI, or SP,CP in other scripts\n",
    "# ----------------------------------------------------------------------------------------------------------------------\n",
    "\n",
    "ee_TACbyYear_ic: ee.imagecollection.ImageCollection = (\n",
    "    ee_TACbyYear_ic.map(\n",
    "        lambda ee_image: common._ee_correct_CCI_band(ee_image, \"Cloud_mean\", \"CCI\")\n",
    "    )\n",
    "    .map(\n",
    "        lambda ee_image: common._ee_correct_SCI_band(\n",
    "            ee_image, \"Snow_mean\", \"Cloud_mean\", \"SCI\"\n",
    "        )\n",
    "    )\n",
    "    .select([\"SCI\", \"CCI\"])\n",
    ")"
   ]
  },
  {
   "cell_type": "code",
   "execution_count": 18,
   "id": "7c30b52a",
   "metadata": {},
   "outputs": [],
   "source": [
    "snowline_threshold = 5\n",
    "\n",
    "ee_snowline_elev_ic: ee.imagecollection.ImageCollection = ee_TACbyYear_ic.map(\n",
    "    lambda ee_image: tc_ca_snowline._ee_calc_snowline_elev(\n",
    "        ee_image,\n",
    "        ee_basins_fc,\n",
    "        ee_dem_img,\n",
    "        band=\"SCI\",\n",
    "        snowline_threshold=snowline_threshold,\n",
    "    )\n",
    ")"
   ]
  },
  {
   "cell_type": "code",
   "execution_count": 19,
   "id": "3ff286fe",
   "metadata": {},
   "outputs": [
    {
     "name": "stdout",
     "output_type": "stream",
     "text": [
      "<class 'ee.imagecollection.ImageCollection'>\n",
      "['SCI', 'CCI', 'Snowline_elev', 'constant']\n"
     ]
    }
   ],
   "source": [
    "print(type(ee_snowline_elev_ic))\n",
    "print(ee_snowline_elev_ic.first().bandNames().getInfo())"
   ]
  },
  {
   "cell_type": "code",
   "execution_count": 21,
   "id": "9776518d",
   "metadata": {},
   "outputs": [],
   "source": [
    "from observatorio_ipa.core.defaults import DEFAULT_SCALE, DEFAULT_CHI_PROJECTION"
   ]
  },
  {
   "cell_type": "code",
   "execution_count": 26,
   "id": "089707d4",
   "metadata": {},
   "outputs": [
    {
     "name": "stdout",
     "output_type": "stream",
     "text": [
      "['NOM_CUEN', 'Area_km2', 'COD_CUEN', 'system:index']\n"
     ]
    }
   ],
   "source": [
    "print(ee_basins_fc.first().propertyNames().getInfo())"
   ]
  },
  {
   "cell_type": "code",
   "execution_count": 22,
   "id": "e9315122",
   "metadata": {},
   "outputs": [],
   "source": [
    "# --------------------------------------------------------------------------------------------------------------------------------\n",
    "# Calculate mean snowline elevation per year and region (basin)\n",
    "# --------------------------------------------------------------------------------------------------------------------------------\n",
    "\n",
    "# Collect block, image, value triplets.\n",
    "def _ee_calc_year_means_per_region(ee_image: ee.image.Image, region_property: str):\n",
    "    ee_mean_stats_per_region_fc = ee_image.reduceRegions(\n",
    "        collection=ee_basins_fc.select([region_property]),\n",
    "        reducer=ee.reducer.Reducer.mean(),\n",
    "        scale=DEFAULT_SCALE,\n",
    "    )\n",
    "\n",
    "    def _ee_set_props(ee_feature: ee.feature.Feature) -> ee.feature.Feature:\n",
    "        return ee.feature.Feature(ee_feature.set(\"Year\", ee_image.get(\"year\")))\n",
    "\n",
    "    return ee_mean_stats_per_region_fc.map(_ee_set_props)\n",
    "\n",
    "ee_mean_snowline_elev_per_year_fc: ee.featurecollection.FeatureCollection = (\n",
    "    ee_snowline_elev_ic.map(\n",
    "        lambda ee_image: _ee_calc_year_means_per_region(\n",
    "            ee_image, basins_cd_property\n",
    "        )\n",
    "    ).flatten()\n",
    ")\n"
   ]
  },
  {
   "cell_type": "code",
   "execution_count": 28,
   "id": "bb620ffb",
   "metadata": {},
   "outputs": [
    {
     "name": "stdout",
     "output_type": "stream",
     "text": [
      "<class 'ee.featurecollection.FeatureCollection'>\n",
      "['system:index', 'Year', 'SCI', 'CCI', 'Snowline_elev', 'constant', 'COD_CUEN']\n"
     ]
    }
   ],
   "source": [
    "print(type(ee_mean_snowline_elev_per_year_fc))\n",
    "print(ee_mean_snowline_elev_per_year_fc.first().propertyNames().getInfo())"
   ]
  },
  {
   "cell_type": "code",
   "execution_count": 29,
   "id": "4d9776db",
   "metadata": {},
   "outputs": [],
   "source": [
    "# --------------------------------------------------------------------------------------------------------------------------------\n",
    "# Identify Basins with significant Snowline Elevation Changes (Trends)\n",
    "# Apply Sen's Slope reduction to the feature collection\n",
    "# --------------------------------------------------------------------------------------------------------------------------------\n",
    "\n",
    "# Group data by location (for time series analysis by location)\n",
    "ee_basins_list = ee_mean_snowline_elev_per_year_fc.distinct(\n",
    "    basins_cd_property\n",
    ").aggregate_array(basins_cd_property)\n",
    "\n",
    "def process_location(\n",
    "    basin_code: str,\n",
    "    basins_cd_property,\n",
    "    ee_mean_snowline_elev_per_year_fc: ee.featurecollection.FeatureCollection,\n",
    "):\n",
    "\n",
    "    # Filter to a single basin\n",
    "    ee_basin_snowline_fc: ee.featurecollection.FeatureCollection = (\n",
    "        ee_mean_snowline_elev_per_year_fc.filter(\n",
    "            ee.filter.Filter.eq(basins_cd_property, basin_code)\n",
    "        )\n",
    "    )\n",
    "\n",
    "    ee_slopeResult_dict = ee_basin_snowline_fc.reduceColumns(\n",
    "        reducer=ee.reducer.Reducer.sensSlope(), selectors=[\"Year\", \"Snowline_elev\"]\n",
    "    )\n",
    "\n",
    "    ee_kendallResult_dict = ee_basin_snowline_fc.reduceColumns(\n",
    "        reducer=ee.reducer.Reducer.kendallsCorrelation(2),\n",
    "        selectors=[\"Year\", \"Snowline_elev\"],\n",
    "    )\n",
    "    ee_tau = ee_kendallResult_dict.getNumber(\"tau\")\n",
    "    ee_n = ee_basin_snowline_fc.size()\n",
    "\n",
    "    # Calculate Z-value for Kendall's test: https://datatab.net/tutorial/kendalls-tau\n",
    "    ee_zValue = (\n",
    "        ee.ee_number.Number(3)\n",
    "        .multiply(ee_tau)\n",
    "        .multiply(ee_n.multiply(ee_n.subtract(1)).sqrt())\n",
    "        .divide(\n",
    "            ee.ee_number.Number(2)\n",
    "            .multiply(ee.ee_number.Number(2).multiply(ee_n).add(5))\n",
    "            .sqrt()\n",
    "        )\n",
    "    )\n",
    "\n",
    "    # Function to approximate the CDF of the standard normal distribution\n",
    "    def normalCDF(x):\n",
    "        return ee.ee_number.Number(0.5).multiply(\n",
    "            ee.ee_number.Number(1).add(\n",
    "                ee.ee_number.Number(x).divide(ee.ee_number.Number(2).sqrt()).erf()\n",
    "            )\n",
    "        )\n",
    "\n",
    "    # Compute P-values, checking if the input is a number.\n",
    "    ee_pValue = ee.ee_number.Number(\n",
    "        ee.Algorithms.If(\n",
    "            ee_zValue.eq(ee_zValue),\n",
    "            ee.ee_number.Number(2).multiply(\n",
    "                ee.ee_number.Number(1).subtract(normalCDF(ee_zValue.abs()))\n",
    "            ),\n",
    "            None,\n",
    "        )\n",
    "    )\n",
    "\n",
    "    # Create a new feature with location and slope as properties\n",
    "    return ee.feature.Feature(\n",
    "        None,\n",
    "        {\n",
    "            basins_cd_property: basin_code,\n",
    "            \"Snowline\": ee.Algorithms.If(\n",
    "                ee_slopeResult_dict.get(\"slope\"),\n",
    "                ee_slopeResult_dict.getNumber(\"slope\").multiply(24),\n",
    "                None,\n",
    "            ),\n",
    "            \"p_value\": ee.Algorithms.If(ee_pValue, ee_pValue.format(\"%.4f\"), None),\n",
    "        },\n",
    "    )\n",
    "\n",
    "ee_SnowlineChange_per_basin_fc = ee.featurecollection.FeatureCollection(\n",
    "    ee_basins_list.map(\n",
    "        lambda basin_code: process_location(\n",
    "            basin_code, basins_cd_property, ee_mean_snowline_elev_per_year_fc\n",
    "        )\n",
    "    )\n",
    ")"
   ]
  },
  {
   "cell_type": "code",
   "execution_count": 30,
   "id": "4b9edea7",
   "metadata": {},
   "outputs": [
    {
     "name": "stdout",
     "output_type": "stream",
     "text": [
      "<class 'ee.featurecollection.FeatureCollection'>\n",
      "['system:index', 'p_value', 'COD_CUEN', 'Snowline']\n"
     ]
    }
   ],
   "source": [
    "print(type(ee_SnowlineChange_per_basin_fc))\n",
    "print(ee_SnowlineChange_per_basin_fc.first().propertyNames().getInfo())"
   ]
  },
  {
   "cell_type": "code",
   "execution_count": 31,
   "id": "3b12e750",
   "metadata": {},
   "outputs": [],
   "source": [
    "ee_snowlineChange_per_basin_patched_fc = ee_SnowlineChange_per_basin_fc.map(\n",
    "    remove_geometry)\n",
    "ee_snowlineChange_per_basin_patched = ee_snowlineChange_per_basin_patched_fc.getInfo()"
   ]
  },
  {
   "cell_type": "code",
   "execution_count": 32,
   "id": "bd4c01dd",
   "metadata": {},
   "outputs": [
    {
     "name": "stdout",
     "output_type": "stream",
     "text": [
      "{'COD_CUEN': '010', 'Snowline': 6.69034582166319, 'p_value': '0.6404'}\n",
      "{'COD_CUEN': '023', 'Snowline': -84.82141421250495, 'p_value': '0.1476'}\n",
      "{'COD_CUEN': '024', 'Snowline': -1.5910529117076553, 'p_value': '0.9627'}\n",
      "{'COD_CUEN': '030', 'Snowline': 235.4161223355886, 'p_value': '0.2623'}\n",
      "{'COD_CUEN': '038', 'Snowline': 311.6965072546931, 'p_value': '0.2429'}\n",
      "{'COD_CUEN': '043', 'Snowline': 639.3897567655914, 'p_value': '0.0281'}\n",
      "{'COD_CUEN': '045', 'Snowline': 483.56040371733786, 'p_value': '0.0617'}\n",
      "{'COD_CUEN': '047', 'Snowline': 364.7822949720712, 'p_value': '0.2246'}\n",
      "{'COD_CUEN': '051', 'Snowline': 394.15513029313456, 'p_value': '0.1123'}\n",
      "{'COD_CUEN': '052', 'Snowline': 380.18147739792937, 'p_value': '0.0685'}\n",
      "{'COD_CUEN': '054', 'Snowline': 260.42530911021885, 'p_value': '0.1021'}\n",
      "{'COD_CUEN': '057', 'Snowline': 279.7276439470146, 'p_value': '0.0617'}\n",
      "{'COD_CUEN': '060', 'Snowline': 127.65207049293421, 'p_value': '0.0617'}\n",
      "{'COD_CUEN': '071', 'Snowline': 155.17341858882287, 'p_value': '0.0839'}\n",
      "{'COD_CUEN': '073', 'Snowline': 38.89043660932498, 'p_value': '0.6074'}\n",
      "{'COD_CUEN': '081', 'Snowline': -105.79724612313022, 'p_value': '0.3041'}\n",
      "{'COD_CUEN': '083', 'Snowline': -84.06436595922418, 'p_value': '0.4548'}\n",
      "{'COD_CUEN': '091', 'Snowline': -4.941477589659371, 'p_value': '0.8886'}\n",
      "{'COD_CUEN': '094', 'Snowline': -95.53427328678573, 'p_value': '0.3041'}\n",
      "{'COD_CUEN': '101', 'Snowline': -108.32927687791116, 'p_value': '0.1350'}\n",
      "{'COD_CUEN': '103', 'Snowline': -148.0633227054807, 'p_value': '0.0172'}\n",
      "{'COD_CUEN': '104', 'Snowline': -194.50262584501397, 'p_value': '0.0195'}\n",
      "{'COD_CUEN': '105', 'Snowline': -124.73183653049641, 'p_value': '0.1350'}\n",
      "{'COD_CUEN': '106', 'Snowline': -99.2364624503995, 'p_value': '0.0172'}\n",
      "{'COD_CUEN': '107', 'Snowline': -78.31970506543227, 'p_value': '0.2072'}\n",
      "{'COD_CUEN': '108', 'Snowline': -55.623886561357565, 'p_value': '0.0250'}\n",
      "{'COD_CUEN': '110', 'Snowline': -67.1821956438873, 'p_value': '0.1232'}\n",
      "{'COD_CUEN': '111', 'Snowline': -93.48378651541695, 'p_value': '0.2429'}\n",
      "{'COD_CUEN': '112', 'Snowline': -56.92698478164886, 'p_value': '0.0172'}\n",
      "{'COD_CUEN': '113', 'Snowline': -100.69822558167405, 'p_value': '0.3502'}\n",
      "{'COD_CUEN': '114', 'Snowline': -77.27656755635164, 'p_value': '0.0172'}\n",
      "{'COD_CUEN': '115', 'Snowline': -109.41577600752571, 'p_value': '0.0356'}\n",
      "{'COD_CUEN': '116', 'Snowline': -14.633014900358786, 'p_value': '0.2827'}\n",
      "{'COD_CUEN': '117', 'Snowline': -66.90668360946893, 'p_value': '0.0927'}\n",
      "{'COD_CUEN': '118', 'Snowline': -13.596922682991478, 'p_value': '0.2072'}\n",
      "{'COD_CUEN': '119', 'Snowline': -26.856527017094802, 'p_value': '0.0105'}\n",
      "{'COD_CUEN': '120', 'Snowline': -22.131579590166563, 'p_value': '0.1476'}\n",
      "{'COD_CUEN': '121', 'Snowline': -7.988373218124666, 'p_value': '0.5751'}\n",
      "{'COD_CUEN': '122', 'Snowline': -146.67246639010975, 'p_value': '0.0356'}\n",
      "{'COD_CUEN': '123', 'Snowline': -3.0753369568438185, 'p_value': '0.7437'}\n",
      "{'COD_CUEN': '124', 'Snowline': -10.416047519745213, 'p_value': '0.2623'}\n",
      "{'COD_CUEN': '125', 'Snowline': -27.308726880397707, 'p_value': '0.0117'}\n",
      "{'COD_CUEN': '126', 'Snowline': -60.939534372247365, 'p_value': '0.1350'}\n",
      "{'COD_CUEN': '127', 'Snowline': -4.462076880291477, 'p_value': '0.1350'}\n",
      "{'COD_CUEN': '128', 'Snowline': -8.598373036756016, 'p_value': '0.5751'}\n",
      "{'COD_CUEN': '129', 'Snowline': -4.255098308713144, 'p_value': '0.5751'}\n"
     ]
    }
   ],
   "source": [
    "print_fc_properties(ee_snowlineChange_per_basin_patched, ['COD_CUEN', 'Snowline', 'p_value'])"
   ]
  },
  {
   "cell_type": "code",
   "execution_count": 33,
   "id": "4ad15853",
   "metadata": {},
   "outputs": [],
   "source": [
    "def _ee_replace_positives(ee_feature: ee.feature.Feature) -> ee.feature.Feature:\n",
    "    ee_mean = ee_feature.getNumber(\"Snowline\")\n",
    "    ee_replaced_positive = ee.ee_number.Number(\n",
    "        ee.Algorithms.If(ee_mean.gt(0), 0, ee_mean.multiply(-1))\n",
    "    )\n",
    "    return ee.feature.Feature(ee_feature.set(\"1\", ee_replaced_positive))\n",
    "\n",
    "#! Original code had .divide(1) which does nothing. Removed it.\n",
    "def _ee_replace_negatives(ee_feature: ee.feature.Feature) -> ee.feature.Feature:\n",
    "    ee_mean = ee_feature.getNumber(\"Snowline\")\n",
    "    ee_replaced_negative = ee.ee_number.Number(\n",
    "        ee.Algorithms.If(ee_mean.lt(0), 0, ee_mean)\n",
    "    )\n",
    "    return ee.feature.Feature(ee_feature.set(\"5\", ee_replaced_negative))\n",
    "\n",
    "def _ee_fill_columns(ee_feature: ee.feature.Feature) -> ee.feature.Feature:\n",
    "    return ee.feature.Feature(ee_feature.set(\"2\", 0).set(\"3\", 0).set(\"4\", 0))\n",
    "\n",
    "ee_SnowlineChange_per_basin_fc: ee.featurecollection.FeatureCollection = (\n",
    "    ee_SnowlineChange_per_basin_fc.map(_ee_replace_positives)\n",
    "    .map(_ee_replace_negatives)\n",
    "    .map(_ee_fill_columns)\n",
    ")"
   ]
  },
  {
   "cell_type": "code",
   "execution_count": 36,
   "id": "b23ff52e",
   "metadata": {},
   "outputs": [],
   "source": [
    "ee_snowlineChange_per_basin_patched_fc = ee_SnowlineChange_per_basin_fc.map(\n",
    "    remove_geometry\n",
    ")\n",
    "snowlineChange_per_basin_patched = ee_snowlineChange_per_basin_patched_fc.getInfo()"
   ]
  },
  {
   "cell_type": "code",
   "execution_count": 37,
   "id": "80c4db1d",
   "metadata": {},
   "outputs": [
    {
     "name": "stdout",
     "output_type": "stream",
     "text": [
      "{'COD_CUEN': '010', 'Snowline': 6.69034582166319, 'p_value': '0.6404', '1': 0, '2': 0, '3': 0, '4': 0, '5': 6.69034582166319}\n",
      "{'COD_CUEN': '023', 'Snowline': -84.82141421250495, 'p_value': '0.1476', '1': 84.82141421250495, '2': 0, '3': 0, '4': 0, '5': 0}\n",
      "{'COD_CUEN': '024', 'Snowline': -1.5910529117076553, 'p_value': '0.9627', '1': 1.5910529117076553, '2': 0, '3': 0, '4': 0, '5': 0}\n",
      "{'COD_CUEN': '030', 'Snowline': 235.4161223355886, 'p_value': '0.2623', '1': 0, '2': 0, '3': 0, '4': 0, '5': 235.4161223355886}\n",
      "{'COD_CUEN': '038', 'Snowline': 311.6965072546931, 'p_value': '0.2429', '1': 0, '2': 0, '3': 0, '4': 0, '5': 311.6965072546931}\n",
      "{'COD_CUEN': '043', 'Snowline': 639.3897567655914, 'p_value': '0.0281', '1': 0, '2': 0, '3': 0, '4': 0, '5': 639.3897567655914}\n",
      "{'COD_CUEN': '045', 'Snowline': 483.56040371733786, 'p_value': '0.0617', '1': 0, '2': 0, '3': 0, '4': 0, '5': 483.56040371733786}\n",
      "{'COD_CUEN': '047', 'Snowline': 364.7822949720712, 'p_value': '0.2246', '1': 0, '2': 0, '3': 0, '4': 0, '5': 364.7822949720712}\n",
      "{'COD_CUEN': '051', 'Snowline': 394.15513029313456, 'p_value': '0.1123', '1': 0, '2': 0, '3': 0, '4': 0, '5': 394.15513029313456}\n",
      "{'COD_CUEN': '052', 'Snowline': 380.18147739792937, 'p_value': '0.0685', '1': 0, '2': 0, '3': 0, '4': 0, '5': 380.18147739792937}\n",
      "{'COD_CUEN': '054', 'Snowline': 260.42530911021885, 'p_value': '0.1021', '1': 0, '2': 0, '3': 0, '4': 0, '5': 260.42530911021885}\n",
      "{'COD_CUEN': '057', 'Snowline': 279.7276439470146, 'p_value': '0.0617', '1': 0, '2': 0, '3': 0, '4': 0, '5': 279.7276439470146}\n",
      "{'COD_CUEN': '060', 'Snowline': 127.65207049293421, 'p_value': '0.0617', '1': 0, '2': 0, '3': 0, '4': 0, '5': 127.65207049293421}\n",
      "{'COD_CUEN': '071', 'Snowline': 155.17341858882287, 'p_value': '0.0839', '1': 0, '2': 0, '3': 0, '4': 0, '5': 155.17341858882287}\n",
      "{'COD_CUEN': '073', 'Snowline': 38.89043660932498, 'p_value': '0.6074', '1': 0, '2': 0, '3': 0, '4': 0, '5': 38.89043660932498}\n",
      "{'COD_CUEN': '081', 'Snowline': -105.79724612313022, 'p_value': '0.3041', '1': 105.79724612313022, '2': 0, '3': 0, '4': 0, '5': 0}\n",
      "{'COD_CUEN': '083', 'Snowline': -84.06436595922418, 'p_value': '0.4548', '1': 84.06436595922418, '2': 0, '3': 0, '4': 0, '5': 0}\n",
      "{'COD_CUEN': '091', 'Snowline': -4.941477589659371, 'p_value': '0.8886', '1': 4.941477589659371, '2': 0, '3': 0, '4': 0, '5': 0}\n",
      "{'COD_CUEN': '094', 'Snowline': -95.53427328678573, 'p_value': '0.3041', '1': 95.53427328678573, '2': 0, '3': 0, '4': 0, '5': 0}\n",
      "{'COD_CUEN': '101', 'Snowline': -108.32927687791116, 'p_value': '0.1350', '1': 108.32927687791116, '2': 0, '3': 0, '4': 0, '5': 0}\n",
      "{'COD_CUEN': '103', 'Snowline': -148.0633227054807, 'p_value': '0.0172', '1': 148.0633227054807, '2': 0, '3': 0, '4': 0, '5': 0}\n",
      "{'COD_CUEN': '104', 'Snowline': -194.50262584501397, 'p_value': '0.0195', '1': 194.50262584501397, '2': 0, '3': 0, '4': 0, '5': 0}\n",
      "{'COD_CUEN': '105', 'Snowline': -124.73183653049641, 'p_value': '0.1350', '1': 124.73183653049641, '2': 0, '3': 0, '4': 0, '5': 0}\n",
      "{'COD_CUEN': '106', 'Snowline': -99.2364624503995, 'p_value': '0.0172', '1': 99.2364624503995, '2': 0, '3': 0, '4': 0, '5': 0}\n",
      "{'COD_CUEN': '107', 'Snowline': -78.31970506543227, 'p_value': '0.2072', '1': 78.31970506543227, '2': 0, '3': 0, '4': 0, '5': 0}\n",
      "{'COD_CUEN': '108', 'Snowline': -55.623886561357565, 'p_value': '0.0250', '1': 55.623886561357565, '2': 0, '3': 0, '4': 0, '5': 0}\n",
      "{'COD_CUEN': '110', 'Snowline': -67.1821956438873, 'p_value': '0.1232', '1': 67.1821956438873, '2': 0, '3': 0, '4': 0, '5': 0}\n",
      "{'COD_CUEN': '111', 'Snowline': -93.48378651541695, 'p_value': '0.2429', '1': 93.48378651541695, '2': 0, '3': 0, '4': 0, '5': 0}\n",
      "{'COD_CUEN': '112', 'Snowline': -56.92698478164886, 'p_value': '0.0172', '1': 56.92698478164886, '2': 0, '3': 0, '4': 0, '5': 0}\n",
      "{'COD_CUEN': '113', 'Snowline': -100.69822558167405, 'p_value': '0.3502', '1': 100.69822558167405, '2': 0, '3': 0, '4': 0, '5': 0}\n",
      "{'COD_CUEN': '114', 'Snowline': -77.27656755635164, 'p_value': '0.0172', '1': 77.27656755635164, '2': 0, '3': 0, '4': 0, '5': 0}\n",
      "{'COD_CUEN': '115', 'Snowline': -109.41577600752571, 'p_value': '0.0356', '1': 109.41577600752571, '2': 0, '3': 0, '4': 0, '5': 0}\n",
      "{'COD_CUEN': '116', 'Snowline': -14.633014900358786, 'p_value': '0.2827', '1': 14.633014900358786, '2': 0, '3': 0, '4': 0, '5': 0}\n",
      "{'COD_CUEN': '117', 'Snowline': -66.90668360946893, 'p_value': '0.0927', '1': 66.90668360946893, '2': 0, '3': 0, '4': 0, '5': 0}\n",
      "{'COD_CUEN': '118', 'Snowline': -13.596922682991478, 'p_value': '0.2072', '1': 13.596922682991478, '2': 0, '3': 0, '4': 0, '5': 0}\n",
      "{'COD_CUEN': '119', 'Snowline': -26.856527017094802, 'p_value': '0.0105', '1': 26.856527017094802, '2': 0, '3': 0, '4': 0, '5': 0}\n",
      "{'COD_CUEN': '120', 'Snowline': -22.131579590166563, 'p_value': '0.1476', '1': 22.131579590166563, '2': 0, '3': 0, '4': 0, '5': 0}\n",
      "{'COD_CUEN': '121', 'Snowline': -7.988373218124666, 'p_value': '0.5751', '1': 7.988373218124666, '2': 0, '3': 0, '4': 0, '5': 0}\n",
      "{'COD_CUEN': '122', 'Snowline': -146.67246639010975, 'p_value': '0.0356', '1': 146.67246639010975, '2': 0, '3': 0, '4': 0, '5': 0}\n",
      "{'COD_CUEN': '123', 'Snowline': -3.0753369568438185, 'p_value': '0.7437', '1': 3.0753369568438185, '2': 0, '3': 0, '4': 0, '5': 0}\n",
      "{'COD_CUEN': '124', 'Snowline': -10.416047519745213, 'p_value': '0.2623', '1': 10.416047519745213, '2': 0, '3': 0, '4': 0, '5': 0}\n",
      "{'COD_CUEN': '125', 'Snowline': -27.308726880397707, 'p_value': '0.0117', '1': 27.308726880397707, '2': 0, '3': 0, '4': 0, '5': 0}\n",
      "{'COD_CUEN': '126', 'Snowline': -60.939534372247365, 'p_value': '0.1350', '1': 60.939534372247365, '2': 0, '3': 0, '4': 0, '5': 0}\n",
      "{'COD_CUEN': '127', 'Snowline': -4.462076880291477, 'p_value': '0.1350', '1': 4.462076880291477, '2': 0, '3': 0, '4': 0, '5': 0}\n",
      "{'COD_CUEN': '128', 'Snowline': -8.598373036756016, 'p_value': '0.5751', '1': 8.598373036756016, '2': 0, '3': 0, '4': 0, '5': 0}\n",
      "{'COD_CUEN': '129', 'Snowline': -4.255098308713144, 'p_value': '0.5751', '1': 4.255098308713144, '2': 0, '3': 0, '4': 0, '5': 0}\n"
     ]
    }
   ],
   "source": [
    "print_fc_properties(\n",
    "    snowlineChange_per_basin_patched,\n",
    "    [\"COD_CUEN\", \"Snowline\", \"p_value\", \"1\", \"2\", \"3\", \"4\", \"5\"],\n",
    ")"
   ]
  },
  {
   "cell_type": "markdown",
   "id": "011b4deb",
   "metadata": {},
   "source": [
    "### 7.7 National Snow Persistence Area per MacroZone \n"
   ]
  },
  {
   "cell_type": "code",
   "execution_count": 73,
   "id": "69d9d81f",
   "metadata": {},
   "outputs": [
    {
     "data": {
      "text/plain": [
       "<module 'observatorio_ipa.services.gee.processes.stats.national.tm_sp_area' from 'C:\\\\Users\\\\erick\\\\Documents\\\\Projects\\\\teleamb\\\\observatorio_ipa\\\\src\\\\observatorio_ipa\\\\services\\\\gee\\\\processes\\\\stats\\\\national\\\\tm_sp_area.py'>"
      ]
     },
     "execution_count": 73,
     "metadata": {},
     "output_type": "execute_result"
    }
   ],
   "source": [
    "from observatorio_ipa.services.gee.processes.stats.national import tm_sp_area\n",
    "reload(tm_sp_area)"
   ]
  },
  {
   "cell_type": "code",
   "execution_count": 74,
   "id": "971a3e12",
   "metadata": {},
   "outputs": [],
   "source": [
    "ee_macroZone_basins_fc = ee.featurecollection.FeatureCollection('users/observatorionieves/DGA/Macrozonas_BNA_Oficial')"
   ]
  },
  {
   "cell_type": "code",
   "execution_count": 75,
   "id": "6120117e",
   "metadata": {},
   "outputs": [
    {
     "name": "stdout",
     "output_type": "stream",
     "text": [
      "Processing MCD_tm_SP_area\n"
     ]
    }
   ],
   "source": [
    "macro_zone_sp_area = tm_sp_area.TM_SP_Area(\n",
    "    ee_icollection=ee_monthly_ic,\n",
    "    ee_basins_fc=ee_macroZone_basins_fc,\n",
    "    basins_cd_property=CUENCA_PROPERTY_NAME,\n",
    "    export_target=\"gee_assets\",  # Options: \"gdrive\" or \"gee_assets\n",
    "    export_path=ASSETS_NATIONAL_TBL_EXPORT_PATH,\n",
    "    image_name=TM_SP_AREA_TBL_NAME,\n",
    "    # basin_codes=basin_codes,\n",
    ")\n",
    "\n",
    "macro_zone_sp_area.calc_stats()"
   ]
  },
  {
   "cell_type": "code",
   "execution_count": 76,
   "id": "814ac0e9",
   "metadata": {},
   "outputs": [],
   "source": [
    "ee_sp_area_stats = macro_zone_sp_area.get_stats_item(\"all\")\n",
    "if ee_sp_area_stats:\n",
    "    ee_sp_area_fc = ee_sp_area_stats[\"ee_stats_fc\"]\n",
    "    ee_sp_area_patched_fc = ee_sp_area_fc.map(remove_geometry)\n",
    "    ee_sp_area_patched = ee_sp_area_patched_fc.getInfo()"
   ]
  },
  {
   "cell_type": "code",
   "execution_count": 77,
   "id": "199dd180",
   "metadata": {},
   "outputs": [
    {
     "name": "stdout",
     "output_type": "stream",
     "text": [
      "{'Macrozona': 'Norte', 'Intermitente': '23790.52', 'Estacional': '4139.75', 'Permanente': '17.31'}\n",
      "{'Macrozona': 'Centro', 'Intermitente': '8181.82', 'Estacional': '13462.77', 'Permanente': '446.51'}\n",
      "{'Macrozona': 'Sur', 'Intermitente': '23468.26', 'Estacional': '5520.63', 'Permanente': '379.83'}\n",
      "{'Macrozona': 'Austral', 'Intermitente': '109542.80', 'Estacional': '52997.87', 'Permanente': '20157.07'}\n"
     ]
    }
   ],
   "source": [
    "print_fc_properties(\n",
    "    ee_sp_area_patched, macro_zone_sp_area.bands_of_interest)"
   ]
  },
  {
   "cell_type": "markdown",
   "id": "1b290303",
   "metadata": {},
   "source": [
    "#### Code Breakdown (Debugging)"
   ]
  },
  {
   "cell_type": "code",
   "execution_count": 49,
   "id": "7c2c4e3d",
   "metadata": {},
   "outputs": [],
   "source": [
    "ee_icollection=ee_monthly_ic\n",
    "ee_basins_fc=ee_macroZone_basins_fc\n",
    "basins_cd_property=CUENCA_PROPERTY_NAME\n",
    "export_target=\"gee_assets\"  # Options: \"gdrive\" or \"gee_assets\n",
    "export_path=ASSETS_NATIONAL_TBL_EXPORT_PATH\n",
    "image_name=TM_SP_AREA_TBL_NAME"
   ]
  },
  {
   "cell_type": "code",
   "execution_count": 51,
   "id": "d7e9f0c3",
   "metadata": {},
   "outputs": [],
   "source": [
    "# --------------------------------------------------------------------------------------------------------------------------------\n",
    "# Define study area - Chilean basins\n",
    "# ! Consider separating Basins grouping from the rest of the code\n",
    "# --------------------------------------------------------------------------------------------------------------------------------\n",
    "\n",
    "# Sort feature collection\n",
    "ee_north_basins_fc = ee_basins_fc.filter(\n",
    "    ee.filter.Filter.eq(basins_cd_property, \"Norte\")\n",
    ").set({\"Orden\": 1})\n",
    "ee_central_basins_fc = ee_basins_fc.filter(\n",
    "    ee.filter.Filter.eq(basins_cd_property, \"Centro\")\n",
    ").set({\"Orden\": 2})\n",
    "ee_south_basins_fc = ee_basins_fc.filter(\n",
    "    ee.filter.Filter.eq(basins_cd_property, \"Sur\")\n",
    ").set({\"Orden\": 3})\n",
    "ee_austral_basins_fc = ee_basins_fc.filter(\n",
    "    ee.filter.Filter.eq(basins_cd_property, \"Austral\")\n",
    ").set({\"Orden\": 4})\n",
    "\n",
    "ee_basins_fc = (\n",
    "    ee.featurecollection.FeatureCollection(\n",
    "        [\n",
    "            ee_north_basins_fc,\n",
    "            ee_central_basins_fc,\n",
    "            ee_south_basins_fc,\n",
    "            ee_austral_basins_fc,\n",
    "        ]\n",
    "    )\n",
    "    .flatten()\n",
    "    .sort(\"Orden\", True)\n",
    ")\n",
    "ee_snow_basins_fc = ee_basins_fc"
   ]
  },
  {
   "cell_type": "code",
   "execution_count": 53,
   "id": "dd791b35",
   "metadata": {},
   "outputs": [
    {
     "name": "stdout",
     "output_type": "stream",
     "text": [
      "<class 'ee.featurecollection.FeatureCollection'>\n",
      "4\n",
      "['NOM_CUEN', 'Area_km2', 'COD_CUEN', 'system:index']\n"
     ]
    }
   ],
   "source": [
    "print(type(ee_basins_fc))\n",
    "print(ee_basins_fc.size().getInfo())\n",
    "print(ee_basins_fc.first().propertyNames().getInfo())"
   ]
  },
  {
   "cell_type": "code",
   "execution_count": 52,
   "id": "d552be04",
   "metadata": {},
   "outputs": [
    {
     "name": "stdout",
     "output_type": "stream",
     "text": [
      "<class 'ee.featurecollection.FeatureCollection'>\n",
      "4\n",
      "['NOM_CUEN', 'Area_km2', 'COD_CUEN', 'system:index']\n"
     ]
    }
   ],
   "source": [
    "print(type(ee_snow_basins_fc))\n",
    "print(ee_snow_basins_fc.size().getInfo())\n",
    "print(ee_snow_basins_fc.first().propertyNames().getInfo())\n"
   ]
  },
  {
   "cell_type": "code",
   "execution_count": 54,
   "id": "00a6f501",
   "metadata": {},
   "outputs": [
    {
     "data": {
      "text/plain": [
       "<module 'observatorio_ipa.services.gee.processes.stats.common' from 'C:\\\\Users\\\\erick\\\\Documents\\\\Projects\\\\teleamb\\\\observatorio_ipa\\\\src\\\\observatorio_ipa\\\\services\\\\gee\\\\processes\\\\stats\\\\common.py'>"
      ]
     },
     "execution_count": 54,
     "metadata": {},
     "output_type": "execute_result"
    }
   ],
   "source": [
    "from observatorio_ipa.services.gee.processes.stats.national import tc_ca_sca\n",
    "reload(tc_ca_sca)\n",
    "from observatorio_ipa.services.gee.processes.stats import common\n",
    "reload(common)"
   ]
  },
  {
   "cell_type": "code",
   "execution_count": 55,
   "id": "1d0d4fe3",
   "metadata": {},
   "outputs": [],
   "source": [
    " # ----------------------------------------------------------------------------------------------------------------------\n",
    "# Temporal Reduction to annual images\n",
    "# ! WARNING: Years are hardcoded from 2000-2024, 2025 is not being included\n",
    "# ----------------------------------------------------------------------------------------------------------------------\n",
    "# Year time range.\n",
    "ee_years = ee.ee_list.List.sequence(2000, 2024)\n",
    "\n",
    "ee_TACbyYear_ic = ee.imagecollection.ImageCollection.fromImages(\n",
    "    ee_years.map(\n",
    "        lambda y: tc_ca_sca._ee_temp_annual_means(\n",
    "            y, ee_icollection, ee_snow_basins_fc\n",
    "        )\n",
    "    )\n",
    ")\n",
    "\n",
    "# ----------------------------------------------------------------------------------------------------------------------\n",
    "# Correct SCI and CCI\n",
    "# ! INCONSISTENCY: The JS script for this code did not apply round()\n",
    "# ! INCONSISTENCY: same Bands are named SCA/CCA, SCI,CCI, or SP,CP in other scripts\n",
    "# ----------------------------------------------------------------------------------------------------------------------\n",
    "\n",
    "ee_TACbyYear_ic: ee.imagecollection.ImageCollection = (\n",
    "    ee_TACbyYear_ic.map(\n",
    "        lambda ee_image: common._ee_correct_CCI_band(ee_image, \"Cloud_mean\", \"CCI\")\n",
    "    )\n",
    "    .map(\n",
    "        lambda ee_image: common._ee_correct_SCI_band(\n",
    "            ee_image, \"Snow_mean\", \"Cloud_mean\", \"SCA\"\n",
    "        )\n",
    "    )\n",
    "    .select([\"SCA\", \"CCI\"])\n",
    ")\n",
    "\n",
    "# --------------------------------------------------------------------------------------------------------------------------------\n",
    "# Temporal Reduction - Mean SCA across all years\n",
    "# --------------------------------------------------------------------------------------------------------------------------------\n",
    "ee_mean_sca_img: ee.image.Image = ee_TACbyYear_ic.select(\"SCA\").mean()"
   ]
  },
  {
   "cell_type": "code",
   "execution_count": 56,
   "id": "f43e7dac",
   "metadata": {},
   "outputs": [],
   "source": [
    "ee_intermittent_sp_area_img = (\n",
    "        ee_mean_sca_img.gte(5)\n",
    "        .And(ee_mean_sca_img.lt(30))\n",
    "        .multiply(ee.image.Image.pixelArea())\n",
    "        .divide(1000000)\n",
    "        .rename(\"intermitente\")\n",
    "    )\n",
    "ee_seasonal_sp_area_img = (\n",
    "    ee_mean_sca_img.gte(30)\n",
    "    .And(ee_mean_sca_img.lt(90))\n",
    "    .multiply(ee.image.Image.pixelArea())\n",
    "    .divide(1000000)\n",
    "    .rename(\"estacional\")\n",
    ")\n",
    "ee_permanente_sp_area_img = (\n",
    "    ee_mean_sca_img.gte(90)\n",
    "    .And(ee_mean_sca_img.lt(100))\n",
    "    .multiply(ee.image.Image.pixelArea())\n",
    "    .divide(1000000)\n",
    "    .rename(\"permanente\")\n",
    ")\n",
    "ee_snow_persistence_img = ee_mean_sca_img.addBands(\n",
    "    [\n",
    "        ee_intermittent_sp_area_img,\n",
    "        ee_seasonal_sp_area_img,\n",
    "        ee_permanente_sp_area_img,\n",
    "    ]\n",
    ")"
   ]
  },
  {
   "cell_type": "code",
   "execution_count": 57,
   "id": "bce1d0dc",
   "metadata": {},
   "outputs": [],
   "source": [
    "ee_sp_area_per_region_fc = ee_snow_persistence_img.reduceRegions(\n",
    "    collection=ee_snow_basins_fc,\n",
    "    reducer=ee.reducer.Reducer.sum(),\n",
    "    scale=DEFAULT_SCALE,\n",
    ")"
   ]
  },
  {
   "cell_type": "code",
   "execution_count": 65,
   "id": "99296353",
   "metadata": {},
   "outputs": [],
   "source": [
    "ee_sp_area_per_region_fc = common._ee_copy_feature_property_across_fc(\n",
    "    ee_sp_area_per_region_fc, basins_cd_property, \"Macrozona\"\n",
    ")"
   ]
  },
  {
   "cell_type": "code",
   "execution_count": 69,
   "id": "87211128",
   "metadata": {},
   "outputs": [],
   "source": [
    "ee_sp_area_per_region_fc = common._ee_format_properties_2decimals(\n",
    "    ee_sp_area_per_region_fc, [\"intermitente\", \"estacional\", \"permanente\"]\n",
    ")"
   ]
  },
  {
   "cell_type": "code",
   "execution_count": 70,
   "id": "1de3896e",
   "metadata": {},
   "outputs": [
    {
     "name": "stdout",
     "output_type": "stream",
     "text": [
      "<class 'ee.featurecollection.FeatureCollection'>\n",
      "['estacional', 'permanente', 'intermitente', 'Macrozona', 'SCA', 'NOM_CUEN', 'Area_km2', 'COD_CUEN', 'system:index']\n"
     ]
    }
   ],
   "source": [
    "print(type(ee_sp_area_per_region_fc))\n",
    "print(ee_sp_area_per_region_fc.first().propertyNames().getInfo())"
   ]
  },
  {
   "cell_type": "code",
   "execution_count": 71,
   "id": "9a96970d",
   "metadata": {},
   "outputs": [],
   "source": [
    "ee_sp_area_per_region_patched_fc = ee_sp_area_per_region_fc.map(remove_geometry)\n",
    "sp_area_per_region_patched_fc = ee_sp_area_per_region_patched_fc.getInfo()"
   ]
  },
  {
   "cell_type": "code",
   "execution_count": 72,
   "id": "3fbbbd68",
   "metadata": {},
   "outputs": [
    {
     "name": "stdout",
     "output_type": "stream",
     "text": [
      "{'Macrozona': 'Norte', 'SCA': 2811181.1812207485, 'intermitente': '23790.52', 'estacional': '4139.75', 'permanente': '17.31'}\n",
      "{'Macrozona': 'Centro', 'SCA': 4848089.736570437, 'intermitente': '8181.82', 'estacional': '13462.77', 'permanente': '446.51'}\n",
      "{'Macrozona': 'Sur', 'SCA': 4221691.165851562, 'intermitente': '23468.26', 'estacional': '5520.63', 'permanente': '379.83'}\n",
      "{'Macrozona': 'Austral', 'SCA': 46226376.56244367, 'intermitente': '109542.80', 'estacional': '52997.87', 'permanente': '20157.07'}\n"
     ]
    }
   ],
   "source": [
    "print_fc_properties(sp_area_per_region_patched_fc, ['Macrozona', 'SCA', 'intermitente', 'estacional', 'permanente'])"
   ]
  },
  {
   "cell_type": "markdown",
   "id": "e850955e",
   "metadata": {},
   "source": [
    "### 7.8 National Area per SCI Trend bin and Macro Zone (Macro Basin)"
   ]
  },
  {
   "cell_type": "code",
   "execution_count": 88,
   "id": "91953eca",
   "metadata": {},
   "outputs": [
    {
     "data": {
      "text/plain": [
       "<module 'observatorio_ipa.services.gee.processes.stats.national.tm_sp_y_t_area' from 'C:\\\\Users\\\\erick\\\\Documents\\\\Projects\\\\teleamb\\\\observatorio_ipa\\\\src\\\\observatorio_ipa\\\\services\\\\gee\\\\processes\\\\stats\\\\national\\\\tm_sp_y_t_area.py'>"
      ]
     },
     "execution_count": 88,
     "metadata": {},
     "output_type": "execute_result"
    }
   ],
   "source": [
    "from observatorio_ipa.services.gee.processes.stats.national import tm_sp_y_t_area\n",
    "reload(tm_sp_y_t_area)"
   ]
  },
  {
   "cell_type": "code",
   "execution_count": 89,
   "id": "7d8871a6",
   "metadata": {},
   "outputs": [],
   "source": [
    "ee_macroZone_basins_fc = ee.featurecollection.FeatureCollection('users/observatorionieves/DGA/Macrozonas_BNA_Oficial')"
   ]
  },
  {
   "cell_type": "code",
   "execution_count": 90,
   "id": "9d48086c",
   "metadata": {},
   "outputs": [
    {
     "name": "stdout",
     "output_type": "stream",
     "text": [
      "Processing MCD_tm_SP_y_t_area\n"
     ]
    }
   ],
   "source": [
    "national_macroZone_trend_area = tm_sp_y_t_area.TM_SP_Y_T_Area(\n",
    "    ee_icollection=ee_monthly_ic,\n",
    "    ee_basins_fc=ee_macroZone_basins_fc,\n",
    "    basins_cd_property=CUENCA_PROPERTY_NAME,\n",
    "    export_target=\"gee_assets\",  # Options: \"gdrive\" or \"gee_assets\n",
    "    export_path=ASSETS_NATIONAL_TBL_EXPORT_PATH,\n",
    "    image_name=TM_SP_Y_T_AREA_TBL_NAME,\n",
    "    # basin_codes=basin_codes,\n",
    ")\n",
    "\n",
    "national_macroZone_trend_area.calc_stats()"
   ]
  },
  {
   "cell_type": "code",
   "execution_count": 91,
   "id": "99aa2db3",
   "metadata": {},
   "outputs": [],
   "source": [
    "mz_trend_area_stats = national_macroZone_trend_area.get_stats_item(\"all\")\n",
    "if mz_trend_area_stats:\n",
    "    mz_trend_area_fc = mz_trend_area_stats[\"ee_stats_fc\"]\n",
    "    mz_trend_area_patched_fc = mz_trend_area_fc.map(remove_geometry)\n",
    "    mz_trend_area_patched = mz_trend_area_patched_fc.getInfo()"
   ]
  },
  {
   "cell_type": "code",
   "execution_count": 92,
   "id": "f34309fe",
   "metadata": {},
   "outputs": [
    {
     "name": "stdout",
     "output_type": "stream",
     "text": [
      "{'COD_CUEN': 'Norte', 'n10': -83.89403459062494, 'n09': -180.36349251562518, 'n08': -548.2014838343139, 'n07': -1380.274636201386, 'n06': -1888.2351049943675, 'n05': -1211.6072618352807, 'n04': -650.6747875856628, 'n03': -391.1689808487123, 'n02': -297.77930717175224, 'n01': -236.61023654638458, 'n00': 0, 'p00': 0, 'p01': 17.782627296875006, 'p02': 4.649821453125, 'p03': 7.0304199999999994, 'p04': 5.614651671875, 'p05': 4.05391503125, 'p06': 3.4820120625, 'p07': 3.86080190625, 'p08': 2.7317846562500003, 'p09': 2.486543765625, 'p10': 6.3146056093750005}\n",
      "{'COD_CUEN': 'Centro', 'n10': -1098.474201559868, 'n09': -703.5696571004338, 'n08': -1087.3520034437456, 'n07': -1554.6493687451248, 'n06': -2222.819574021795, 'n05': -2533.0611857971608, 'n04': -2453.859054964732, 'n03': -2059.1655683698746, 'n02': -828.995307644606, 'n01': -345.32070110870114, 'n00': 0, 'p00': 0, 'p01': 5.422749874999999, 'p02': 2.441313562500001, 'p03': 1.2155590625000001, 'p04': 1.73493415625, 'p05': 0.349722578125, 'p06': 0.35309184375, 'p07': 0.706192359375, 'p08': 0.34971321875, 'p09': 0.519546890625, 'p10': 1.03910278125}\n",
      "{'COD_CUEN': 'Sur', 'n10': -153.70469129479164, 'n09': -64.96662841599267, 'n08': -80.85162850833336, 'n07': -121.00747703033085, 'n06': -182.21930221268366, 'n05': -228.04392916593125, 'n04': -301.4792064881123, 'n03': -267.9821613001836, 'n02': -117.28164781587023, 'n01': -92.80644780465691, 'n00': 0, 'p00': 0, 'p01': 2912.5186516731146, 'p02': 1347.6048728472435, 'p03': 514.997280296998, 'p04': 389.83154754374925, 'p05': 223.780051535295, 'p06': 57.26481170447301, 'p07': 4.691257796875, 'p08': 0.6513354375, 'p09': 2.437289765625, 'p10': 2.6073579375}\n",
      "{'COD_CUEN': 'Austral', 'n10': -969.3371703914296, 'n09': -376.62103625805736, 'n08': -514.9615072929216, 'n07': -715.4596829303614, 'n06': -1033.1093411526056, 'n05': -1366.2618784459873, 'n04': -1501.523184610172, 'n03': -1373.1182241991103, 'n02': -1167.8150813575376, 'n01': -1478.1192029818626, 'n00': 0, 'p00': 0, 'p01': 10158.141272360099, 'p02': 6606.669028622149, 'p03': 3441.507368343595, 'p04': 1724.6160861725593, 'p05': 952.0268022471511, 'p06': 589.1856825383275, 'p07': 427.01587124200364, 'p08': 314.1184028400429, 'p09': 174.86787764663, 'p10': 225.07376948933864}\n"
     ]
    }
   ],
   "source": [
    "print_fc_properties(\n",
    "    mz_trend_area_patched, national_macroZone_trend_area.bands_of_interest\n",
    ")"
   ]
  }
 ],
 "metadata": {
  "kernelspec": {
   "display_name": "observatorio-ipa (3.12.7)",
   "language": "python",
   "name": "python3"
  },
  "language_info": {
   "codemirror_mode": {
    "name": "ipython",
    "version": 3
   },
   "file_extension": ".py",
   "mimetype": "text/x-python",
   "name": "python",
   "nbconvert_exporter": "python",
   "pygments_lexer": "ipython3",
   "version": "3.12.7"
  }
 },
 "nbformat": 4,
 "nbformat_minor": 5
}
