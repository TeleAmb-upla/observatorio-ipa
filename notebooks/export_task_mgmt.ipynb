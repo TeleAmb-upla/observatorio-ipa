{
 "cells": [
  {
   "cell_type": "markdown",
   "id": "2664dad7",
   "metadata": {},
   "source": [
    "# Export Task Management"
   ]
  },
  {
   "cell_type": "code",
   "execution_count": 1,
   "id": "347e8924",
   "metadata": {},
   "outputs": [],
   "source": [
    "from importlib import reload\n"
   ]
  },
  {
   "cell_type": "code",
   "execution_count": 2,
   "id": "25fb1afd",
   "metadata": {},
   "outputs": [],
   "source": [
    "from observatorio_ipa.services.gee import exports as gee_exports\n",
    "# reload(gee_exports)"
   ]
  },
  {
   "cell_type": "markdown",
   "id": "c67361be",
   "metadata": {},
   "source": [
    "## Individual Tasks"
   ]
  },
  {
   "cell_type": "code",
   "execution_count": 4,
   "id": "4ca76538",
   "metadata": {},
   "outputs": [],
   "source": [
    "# Create single export task without an actual task\n",
    "empty_task = gee_exports.ExportTask(type=\"image\", name=\"empty_task\", target=\"gee\", path=\"Jarvis/\")"
   ]
  },
  {
   "cell_type": "code",
   "execution_count": 4,
   "id": "b07c72c9",
   "metadata": {},
   "outputs": [
    {
     "name": "stdout",
     "output_type": "stream",
     "text": [
      "(type=image, name=empty_task, target=gee, status=OTHER, task_status=NO_TASK_CREATED)\n"
     ]
    }
   ],
   "source": [
    "print(empty_task)"
   ]
  },
  {
   "cell_type": "code",
   "execution_count": 5,
   "id": "6e3a22e3",
   "metadata": {},
   "outputs": [
    {
     "name": "stdout",
     "output_type": "stream",
     "text": [
      "(type=image, name=empty_task, target=gee, status=EXCLUDED, task_status=ALREADY_EXISTS)\n"
     ]
    }
   ],
   "source": [
    "# Try to start with arbitrary status\n",
    "random_status = gee_exports.ExportTask(\n",
    "    type=\"image\", name=\"empty_task\", target=\"gee\", task_status=\"ALREADY_EXISTS\"\n",
    ")\n",
    "print(random_status)"
   ]
  },
  {
   "cell_type": "code",
   "execution_count": 6,
   "id": "70d7ad44",
   "metadata": {},
   "outputs": [
    {
     "name": "stdout",
     "output_type": "stream",
     "text": [
      "Caught expected ValueError: Invalid task status: BAD_STATUS.\n"
     ]
    }
   ],
   "source": [
    "# Try to start with inexistent status\n",
    "try:\n",
    "    bad_status = gee_exports.ExportTask(type=\"image\", name=\"empty_task\", target=\"gee\", task_status=\"BAD_STATUS\")\n",
    "    print(bad_status)\n",
    "except ValueError as e:\n",
    "    print(f\"Caught expected ValueError: {e}\")"
   ]
  },
  {
   "cell_type": "code",
   "execution_count": 7,
   "id": "6d33be55",
   "metadata": {},
   "outputs": [
    {
     "name": "stdout",
     "output_type": "stream",
     "text": [
      "type: image\n",
      "name: empty_task\n",
      "target: gee\n",
      "status: EXCLUDED\n",
      "Task Status: ALREADY_EXISTS\n"
     ]
    }
   ],
   "source": [
    "# Get attributes\n",
    "print(f\"type: {random_status.type}\")\n",
    "print(f\"name: {random_status.name}\")\n",
    "print(f\"target: {random_status.target}\")\n",
    "print(f\"status: {random_status.status}\")\n",
    "print(f\"Task Status: {random_status.task_status}\")\n"
   ]
  },
  {
   "cell_type": "code",
   "execution_count": 8,
   "id": "46dfa14c",
   "metadata": {},
   "outputs": [],
   "source": [
    "# TODO: Change attributes to be immutable except status since they should be the same as in the GEE task\n",
    "\n"
   ]
  },
  {
   "cell_type": "code",
   "execution_count": 8,
   "id": "98978084",
   "metadata": {},
   "outputs": [
    {
     "name": "stderr",
     "output_type": "stream",
     "text": [
      "Task empty_task to gee is None.\n"
     ]
    },
    {
     "data": {
      "text/plain": [
       "'NO_TASK_CREATED'"
      ]
     },
     "execution_count": 8,
     "metadata": {},
     "output_type": "execute_result"
    }
   ],
   "source": [
    "# Attempt to start an empty task \n",
    "empty_task.start_task()"
   ]
  },
  {
   "cell_type": "code",
   "execution_count": 9,
   "id": "092039d5",
   "metadata": {},
   "outputs": [
    {
     "data": {
      "text/plain": [
       "'NO_TASK_CREATED'"
      ]
     },
     "execution_count": 9,
     "metadata": {},
     "output_type": "execute_result"
    }
   ],
   "source": [
    "# Query status of empty_task\n",
    "empty_task.query_status()"
   ]
  },
  {
   "cell_type": "markdown",
   "id": "80bfa6b0",
   "metadata": {},
   "source": [
    "## List of Tasks"
   ]
  },
  {
   "cell_type": "code",
   "execution_count": 10,
   "id": "6e8f5d9e",
   "metadata": {},
   "outputs": [
    {
     "name": "stdout",
     "output_type": "stream",
     "text": [
      "N. tasks: 0\n",
      "\n"
     ]
    }
   ],
   "source": [
    "# Empty List\n",
    "task_list = gee_exports.ExportTaskList()\n",
    "print(f\"N. tasks: {len(task_list)}\")\n",
    "print(task_list)"
   ]
  },
  {
   "cell_type": "code",
   "execution_count": 11,
   "id": "a2b714c8",
   "metadata": {},
   "outputs": [
    {
     "data": {
      "text/plain": [
       "True"
      ]
     },
     "execution_count": 11,
     "metadata": {},
     "output_type": "execute_result"
    }
   ],
   "source": [
    "isinstance(empty_task, gee_exports.ExportTask)"
   ]
  },
  {
   "cell_type": "code",
   "execution_count": 12,
   "id": "913fb1f3",
   "metadata": {},
   "outputs": [
    {
     "data": {
      "text/plain": [
       "observatorio_ipa.services.gee.exports.ExportTask"
      ]
     },
     "execution_count": 12,
     "metadata": {},
     "output_type": "execute_result"
    }
   ],
   "source": [
    "type(empty_task)"
   ]
  },
  {
   "cell_type": "code",
   "execution_count": 13,
   "id": "d455305f",
   "metadata": {},
   "outputs": [
    {
     "name": "stdout",
     "output_type": "stream",
     "text": [
      "N. tasks: 2\n",
      "(type=image, name=empty_task, target=gee, status=OTHER, task_status=NO_TASK_CREATED)\n",
      "(type=image, name=empty_task, target=gee, status=EXCLUDED, task_status=ALREADY_EXISTS)\n"
     ]
    }
   ],
   "source": [
    "# List with some tasks\n",
    "task_list = gee_exports.ExportTaskList([empty_task, random_status])\n",
    "print(f\"N. tasks: {len(task_list)}\")\n",
    "print(task_list)"
   ]
  },
  {
   "cell_type": "code",
   "execution_count": 15,
   "id": "8cafc00b",
   "metadata": {},
   "outputs": [
    {
     "data": {
      "text/plain": [
       "ExportList(export_tasks=[ExportTask(type=image, name=empty_task, target=gee, status=OTHER, task_status=NO_TASK_CREATED), ExportTask(type=image, name=empty_task, target=gee, status=EXCLUDED, task_status=ALREADY_EXISTS)])"
      ]
     },
     "execution_count": 15,
     "metadata": {},
     "output_type": "execute_result"
    }
   ],
   "source": [
    "task_list"
   ]
  },
  {
   "cell_type": "code",
   "execution_count": 16,
   "id": "c05d066b",
   "metadata": {},
   "outputs": [],
   "source": [
    "# add a new task - instance create\n",
    "task_list.add_task(type=\"table\", name=\"new_task\", target=\"gdrive\")"
   ]
  },
  {
   "cell_type": "code",
   "execution_count": 17,
   "id": "98fa6423",
   "metadata": {},
   "outputs": [
    {
     "name": "stdout",
     "output_type": "stream",
     "text": [
      "N. tasks: 3\n",
      "(type=image, name=empty_task, target=gee, status=OTHER, task_status=NO_TASK_CREATED)\n",
      "(type=image, name=empty_task, target=gee, status=EXCLUDED, task_status=ALREADY_EXISTS)\n",
      "(type=table, name=new_task, target=gdrive, status=OTHER, task_status=NO_TASK_CREATED)\n"
     ]
    }
   ],
   "source": [
    "print(f\"N. tasks: {len(task_list)}\")\n",
    "print(task_list)"
   ]
  },
  {
   "cell_type": "code",
   "execution_count": 18,
   "id": "58196338",
   "metadata": {},
   "outputs": [],
   "source": [
    "task4 = gee_exports.ExportTask(\n",
    "    type=\"table\", name=\"task4\", target=\"gdrive\")\n",
    "task5 = gee_exports.ExportTask(\n",
    "    type=\"image\", name=\"task5\", target=\"gdrive\")\n",
    "task6 = gee_exports.ExportTask(type=\"image\", name=\"task6\", target=\"gdrive\")"
   ]
  },
  {
   "cell_type": "code",
   "execution_count": 19,
   "id": "27e95f1e",
   "metadata": {},
   "outputs": [
    {
     "name": "stdout",
     "output_type": "stream",
     "text": [
      "N. tasks: 4\n",
      "(type=image, name=empty_task, target=gee, status=OTHER, task_status=NO_TASK_CREATED)\n",
      "(type=image, name=empty_task, target=gee, status=EXCLUDED, task_status=ALREADY_EXISTS)\n",
      "(type=table, name=new_task, target=gdrive, status=OTHER, task_status=NO_TASK_CREATED)\n",
      "(type=table, name=task4, target=gdrive, status=OTHER, task_status=NO_TASK_CREATED)\n"
     ]
    }
   ],
   "source": [
    "# append a task to a list\n",
    "task_list.append(task4)\n",
    "print(f\"N. tasks: {len(task_list)}\")\n",
    "print(task_list)"
   ]
  },
  {
   "cell_type": "code",
   "execution_count": 20,
   "id": "cd4cf036",
   "metadata": {},
   "outputs": [
    {
     "name": "stdout",
     "output_type": "stream",
     "text": [
      "N. tasks: 6\n",
      "(type=image, name=empty_task, target=gee, status=OTHER, task_status=NO_TASK_CREATED)\n",
      "(type=image, name=empty_task, target=gee, status=EXCLUDED, task_status=ALREADY_EXISTS)\n",
      "(type=table, name=new_task, target=gdrive, status=OTHER, task_status=NO_TASK_CREATED)\n",
      "(type=table, name=task4, target=gdrive, status=OTHER, task_status=NO_TASK_CREATED)\n",
      "(type=image, name=task5, target=gdrive, status=OTHER, task_status=NO_TASK_CREATED)\n",
      "(type=image, name=task6, target=gdrive, status=OTHER, task_status=NO_TASK_CREATED)\n"
     ]
    }
   ],
   "source": [
    "# attach tasks to a list with a list of tasks\n",
    "task_list.extend([task5, task6])\n",
    "print(f\"N. tasks: {len(task_list)}\")\n",
    "print(task_list)"
   ]
  },
  {
   "cell_type": "code",
   "execution_count": 21,
   "id": "52cbcbe3",
   "metadata": {},
   "outputs": [],
   "source": [
    "task7 = gee_exports.ExportTask(type=\"table\", name=\"task7\", target=\"gdrive\")\n",
    "task8 = gee_exports.ExportTask(type=\"image\", name=\"task8\", target=\"gdrive\")\n",
    "task9 = gee_exports.ExportTask(type=\"image\", name=\"task9\", target=\"gdrive\")"
   ]
  },
  {
   "cell_type": "code",
   "execution_count": 22,
   "id": "0dd95893",
   "metadata": {},
   "outputs": [
    {
     "name": "stdout",
     "output_type": "stream",
     "text": [
      "N. tasks: 8\n",
      "(type=image, name=empty_task, target=gee, status=OTHER, task_status=NO_TASK_CREATED)\n",
      "(type=image, name=empty_task, target=gee, status=EXCLUDED, task_status=ALREADY_EXISTS)\n",
      "(type=table, name=new_task, target=gdrive, status=OTHER, task_status=NO_TASK_CREATED)\n",
      "(type=table, name=task4, target=gdrive, status=OTHER, task_status=NO_TASK_CREATED)\n",
      "(type=image, name=task5, target=gdrive, status=OTHER, task_status=NO_TASK_CREATED)\n",
      "(type=image, name=task6, target=gdrive, status=OTHER, task_status=NO_TASK_CREATED)\n",
      "(type=table, name=task7, target=gdrive, status=OTHER, task_status=NO_TASK_CREATED)\n",
      "(type=image, name=task8, target=gdrive, status=OTHER, task_status=NO_TASK_CREATED)\n"
     ]
    }
   ],
   "source": [
    "# attach tasks to a list with another ExportList\n",
    "task_list.extend(gee_exports.ExportTaskList([task7, task8]))\n",
    "print(f\"N. tasks: {len(task_list)}\")\n",
    "print(task_list)"
   ]
  },
  {
   "cell_type": "code",
   "execution_count": 23,
   "id": "2fd287f8",
   "metadata": {},
   "outputs": [
    {
     "data": {
      "text/plain": [
       "2"
      ]
     },
     "execution_count": 23,
     "metadata": {},
     "output_type": "execute_result"
    }
   ],
   "source": [
    "task_list.count(name='empty_task')"
   ]
  },
  {
   "cell_type": "code",
   "execution_count": 24,
   "id": "5a1340f5",
   "metadata": {},
   "outputs": [
    {
     "name": "stdout",
     "output_type": "stream",
     "text": [
      "tables: 0\n",
      "images: 2\n"
     ]
    }
   ],
   "source": [
    "print(f\"tables: {task_list.count(name='empty_task', type='table')}\")\n",
    "print(f\"images: {task_list.count(name='empty_task', type='image')}\")"
   ]
  },
  {
   "cell_type": "code",
   "execution_count": 25,
   "id": "1d320597",
   "metadata": {},
   "outputs": [
    {
     "name": "stdout",
     "output_type": "stream",
     "text": [
      "gdrive: 0\n",
      "gee: 2\n"
     ]
    }
   ],
   "source": [
    "print(f\"gdrive: {task_list.count(name='empty_task', type='image', target='gdrive')}\")\n",
    "print(f\"gee: {task_list.count(name='empty_task', type='image', target='gee')}\")"
   ]
  },
  {
   "cell_type": "code",
   "execution_count": 26,
   "id": "2accc757",
   "metadata": {},
   "outputs": [
    {
     "name": "stdout",
     "output_type": "stream",
     "text": [
      "N. tasks: 6\n",
      "(type=table, name=new_task, target=gdrive, status=OTHER, task_status=NO_TASK_CREATED)\n",
      "(type=table, name=task4, target=gdrive, status=OTHER, task_status=NO_TASK_CREATED)\n",
      "(type=image, name=task5, target=gdrive, status=OTHER, task_status=NO_TASK_CREATED)\n",
      "(type=image, name=task6, target=gdrive, status=OTHER, task_status=NO_TASK_CREATED)\n",
      "(type=table, name=task7, target=gdrive, status=OTHER, task_status=NO_TASK_CREATED)\n",
      "(type=image, name=task8, target=gdrive, status=OTHER, task_status=NO_TASK_CREATED)\n"
     ]
    }
   ],
   "source": [
    "# remove Task by name\n",
    "task_list.remove(name='empty_task')\n",
    "print(f\"N. tasks: {len(task_list)}\")\n",
    "print(task_list)"
   ]
  },
  {
   "cell_type": "code",
   "execution_count": 27,
   "id": "68e3f8d7",
   "metadata": {},
   "outputs": [
    {
     "name": "stdout",
     "output_type": "stream",
     "text": [
      "N. tasks: 7\n",
      "(type=table, name=new_task, target=gdrive, status=OTHER, task_status=NO_TASK_CREATED)\n",
      "(type=table, name=task4, target=gdrive, status=OTHER, task_status=NO_TASK_CREATED)\n",
      "(type=image, name=task5, target=gdrive, status=OTHER, task_status=NO_TASK_CREATED)\n",
      "(type=image, name=task6, target=gdrive, status=OTHER, task_status=NO_TASK_CREATED)\n",
      "(type=table, name=task7, target=gdrive, status=OTHER, task_status=NO_TASK_CREATED)\n",
      "(type=image, name=task8, target=gdrive, status=OTHER, task_status=NO_TASK_CREATED)\n",
      "(type=image, name=task9, target=gdrive, status=OTHER, task_status=NO_TASK_CREATED)\n"
     ]
    }
   ],
   "source": [
    "# Join using + and an ExportList\n",
    "new_task_list = task_list + gee_exports.ExportTaskList([task9])\n",
    "print(f\"N. tasks: {len(new_task_list)}\")\n",
    "print(new_task_list)"
   ]
  },
  {
   "cell_type": "code",
   "execution_count": 28,
   "id": "56273c78",
   "metadata": {},
   "outputs": [
    {
     "name": "stdout",
     "output_type": "stream",
     "text": [
      "(type=table, name=task4, target=gdrive, status=OTHER, task_status=NO_TASK_CREATED)\n"
     ]
    }
   ],
   "source": [
    "# Test getting item by index\n",
    "print(new_task_list[1])"
   ]
  },
  {
   "cell_type": "code",
   "execution_count": 29,
   "id": "d598b5a9",
   "metadata": {},
   "outputs": [
    {
     "name": "stdout",
     "output_type": "stream",
     "text": [
      "N. tasks: 6\n",
      "(type=table, name=task4, target=gdrive, status=OTHER, task_status=NO_TASK_CREATED)\n",
      "(type=image, name=task5, target=gdrive, status=OTHER, task_status=NO_TASK_CREATED)\n",
      "(type=image, name=task6, target=gdrive, status=OTHER, task_status=NO_TASK_CREATED)\n",
      "(type=table, name=task7, target=gdrive, status=OTHER, task_status=NO_TASK_CREATED)\n",
      "(type=image, name=task8, target=gdrive, status=OTHER, task_status=NO_TASK_CREATED)\n",
      "(type=image, name=task9, target=gdrive, status=OTHER, task_status=NO_TASK_CREATED)\n"
     ]
    }
   ],
   "source": [
    "# Test delete by index \n",
    "del(new_task_list[0])\n",
    "print(f\"N. tasks: {len(new_task_list)}\")\n",
    "print(new_task_list)"
   ]
  },
  {
   "cell_type": "code",
   "execution_count": 30,
   "id": "1a4c552d",
   "metadata": {},
   "outputs": [
    {
     "name": "stdout",
     "output_type": "stream",
     "text": [
      "N. tasks: 6\n",
      "(type=image, name=empty_task, target=gee, status=OTHER, task_status=NO_TASK_CREATED)\n",
      "(type=image, name=task5, target=gdrive, status=OTHER, task_status=NO_TASK_CREATED)\n",
      "(type=image, name=task6, target=gdrive, status=OTHER, task_status=NO_TASK_CREATED)\n",
      "(type=table, name=task7, target=gdrive, status=OTHER, task_status=NO_TASK_CREATED)\n",
      "(type=image, name=task8, target=gdrive, status=OTHER, task_status=NO_TASK_CREATED)\n",
      "(type=image, name=task9, target=gdrive, status=OTHER, task_status=NO_TASK_CREATED)\n"
     ]
    }
   ],
   "source": [
    "# Test overwrite by index\n",
    "new_task_list[0] = empty_task\n",
    "print(f\"N. tasks: {len(new_task_list)}\")\n",
    "print(new_task_list)"
   ]
  },
  {
   "cell_type": "code",
   "execution_count": 31,
   "id": "dc677ab4",
   "metadata": {},
   "outputs": [
    {
     "name": "stdout",
     "output_type": "stream",
     "text": [
      "(type=image, name=empty_task, target=gee, status=OTHER, task_status=NO_TASK_CREATED)\n",
      "(type=image, name=task5, target=gdrive, status=OTHER, task_status=NO_TASK_CREATED)\n",
      "(type=image, name=task6, target=gdrive, status=OTHER, task_status=NO_TASK_CREATED)\n",
      "(type=table, name=task7, target=gdrive, status=OTHER, task_status=NO_TASK_CREATED)\n",
      "(type=image, name=task8, target=gdrive, status=OTHER, task_status=NO_TASK_CREATED)\n",
      "(type=image, name=task9, target=gdrive, status=OTHER, task_status=NO_TASK_CREATED)\n"
     ]
    }
   ],
   "source": [
    "# test as iterator\n",
    "for t in new_task_list:\n",
    "    print(t)"
   ]
  },
  {
   "cell_type": "code",
   "execution_count": 32,
   "id": "9cfb743c",
   "metadata": {},
   "outputs": [
    {
     "data": {
      "text/plain": [
       "{'OTHER': 6}"
      ]
     },
     "execution_count": 32,
     "metadata": {},
     "output_type": "execute_result"
    }
   ],
   "source": [
    "# Start tasks -  Should skip all empty tasks \n",
    "new_task_list.start_exports()"
   ]
  },
  {
   "cell_type": "code",
   "execution_count": 36,
   "id": "7a85214f",
   "metadata": {},
   "outputs": [
    {
     "data": {
      "text/plain": [
       "{'OTHER': 6}"
      ]
     },
     "execution_count": 36,
     "metadata": {},
     "output_type": "execute_result"
    }
   ],
   "source": [
    "# Track Exports - Should not do much since there are no tasks attached.\n",
    "new_task_list.query_status()"
   ]
  },
  {
   "cell_type": "code",
   "execution_count": 37,
   "id": "6b95369c",
   "metadata": {},
   "outputs": [
    {
     "data": {
      "text/plain": [
       "{'OTHER': 6}"
      ]
     },
     "execution_count": 37,
     "metadata": {},
     "output_type": "execute_result"
    }
   ],
   "source": [
    "# Print status \n",
    "new_task_list.summary()"
   ]
  },
  {
   "cell_type": "code",
   "execution_count": 38,
   "id": "f107e29d",
   "metadata": {},
   "outputs": [
    {
     "name": "stdout",
     "output_type": "stream",
     "text": [
      "| Status | Count |\n",
      "| OTHER  |   6   |\n"
     ]
    }
   ],
   "source": [
    "print(new_task_list.pretty_summary())"
   ]
  }
 ],
 "metadata": {
  "kernelspec": {
   "display_name": "observatorio-ipa (3.12.7)",
   "language": "python",
   "name": "python3"
  },
  "language_info": {
   "codemirror_mode": {
    "name": "ipython",
    "version": 3
   },
   "file_extension": ".py",
   "mimetype": "text/x-python",
   "name": "python",
   "nbconvert_exporter": "python",
   "pygments_lexer": "ipython3",
   "version": "3.12.7"
  }
 },
 "nbformat": 4,
 "nbformat_minor": 5
}
