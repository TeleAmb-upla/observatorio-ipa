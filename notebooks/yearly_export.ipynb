{
 "cells": [
  {
   "cell_type": "code",
   "execution_count": 6,
   "metadata": {},
   "outputs": [],
   "source": [
    "import json\n",
    "import ee\n",
    "import ee.batch\n",
    "import ee.data\n",
    "import logging\n",
    "import importlib\n",
    "\n",
    "from observatorio_ipa.processes import yearly_export\n",
    "\n",
    "\n",
    "logger = logging.getLogger(__name__)\n",
    "logger.setLevel(logging.DEBUG)"
   ]
  },
  {
   "cell_type": "code",
   "execution_count": 2,
   "metadata": {},
   "outputs": [],
   "source": [
    "legacy_yearly_ic_path = \"users/observatorionieves/MODIS/Andes_MCDS4S5_Yearly\"\n",
    "config = {\n",
    "    \"service_credentials_file\": \"../secrets/ee-observatorionieves-288939dbc1cf.json\"\n",
    "}"
   ]
  },
  {
   "cell_type": "code",
   "execution_count": 3,
   "metadata": {},
   "outputs": [
    {
     "name": "stdout",
     "output_type": "stream",
     "text": [
      "osn-imageautomation-dev@ee-observatorionieves.iam.gserviceaccount.com\n"
     ]
    }
   ],
   "source": [
    "try:\n",
    "    with open(config[\"service_credentials_file\"], \"r\") as f:\n",
    "        service_account_data = json.load(f)\n",
    "    service_user = service_account_data[\"client_email\"]\n",
    "    print(service_user)\n",
    "\n",
    "    credentials = ee._helpers.ServiceAccountCredentials(\n",
    "        email=service_user,\n",
    "        key_data=json.dumps(service_account_data),\n",
    "    )\n",
    "    ee.Initialize(credentials)\n",
    "    logger.debug(\"GEE connection successful\")\n",
    "except FileNotFoundError as e:\n",
    "    logger.error(f\"Service account file not found: {e}\")\n",
    "\n",
    "except Exception as e:\n",
    "    logger.error(f\"Initializing connection to GEE failed: {e}\")"
   ]
  },
  {
   "cell_type": "code",
   "execution_count": 4,
   "metadata": {},
   "outputs": [],
   "source": [
    "ee_aoi_fc = ee.featurecollection.FeatureCollection(\n",
    "    \"projects/ee-observatorionieves/assets/Modules/Andes\"\n",
    ")\n",
    "\n",
    "ee_dem_img = ee.image.Image(\n",
    "    \"projects/ee-observatorionieves/assets/Modules/DEM_SRTM_reproj_MODIS_463_Andes\"\n",
    ")  "
   ]
  },
  {
   "cell_type": "code",
   "execution_count": 89,
   "metadata": {},
   "outputs": [
    {
     "data": {
      "text/plain": [
       "<module 'observatorio_ipa.processes.yearly_export' from 'C:\\\\Users\\\\erick\\\\Documents\\\\Projects\\\\teleamb\\\\observatorio_ipa\\\\src\\\\observatorio_ipa\\\\processes\\\\yearly_export.py'>"
      ]
     },
     "execution_count": 89,
     "metadata": {},
     "output_type": "execute_result"
    }
   ],
   "source": [
    "importlib.reload(yearly_export)"
   ]
  },
  {
   "cell_type": "code",
   "execution_count": 90,
   "metadata": {},
   "outputs": [
    {
     "name": "stdout",
     "output_type": "stream",
     "text": [
      "images_to_export: ['2023']\n",
      "ic_filter_dates: 369\n"
     ]
    }
   ],
   "source": [
    "yearly_export_results = yearly_export.yearly_export_proc(\n",
    "    yearly_collection_path=\"projects/ee-observatorionieves/assets/MODIS/Andes_MCDS4S5_Yearly\",\n",
    "    name_prefix=\"Mock_prefix\",\n",
    "    #name_prefix=\"Andes_MCDS4S5_Yearly_\",\n",
    "    aoi_path=\"projects/ee-observatorionieves/assets/Modules/Andes\",\n",
    "    dem_path=\"projects/ee-observatorionieves/assets/Modules/DEM_SRTM_reproj_MODIS_463_Andes\",\n",
    "    years_list=['2023']\n",
    ")"
   ]
  },
  {
   "cell_type": "code",
   "execution_count": 91,
   "metadata": {},
   "outputs": [
    {
     "data": {
      "text/plain": [
       "{'frequency': 'yearly',\n",
       " 'images_pending_export': ['2023'],\n",
       " 'images_excluded': [],\n",
       " 'images_to_export': ['2023'],\n",
       " 'export_tasks': [{'task': 'mock_task',\n",
       "   'image': 'Mock_prefix_2023',\n",
       "   'target': 'GEE Asset',\n",
       "   'status': 'mock_created'}]}"
      ]
     },
     "execution_count": 91,
     "metadata": {},
     "output_type": "execute_result"
    }
   ],
   "source": [
    "yearly_export_results"
   ]
  }
 ],
 "metadata": {
  "kernelspec": {
   "display_name": "observatorio_ipa",
   "language": "python",
   "name": "python3"
  },
  "language_info": {
   "codemirror_mode": {
    "name": "ipython",
    "version": 3
   },
   "file_extension": ".py",
   "mimetype": "text/x-python",
   "name": "python",
   "nbconvert_exporter": "python",
   "pygments_lexer": "ipython3",
   "version": "3.12.7"
  }
 },
 "nbformat": 4,
 "nbformat_minor": 2
}
